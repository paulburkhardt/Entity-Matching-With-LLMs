{
 "cells": [
  {
   "cell_type": "code",
   "execution_count": 104,
   "id": "434c6cd5",
   "metadata": {},
   "outputs": [],
   "source": [
    "import pandas as pd\n",
    "import prompts as p\n",
    "\n",
    "DATAPATH = '../datasets/downsampled_50_50_mustafa.csv'\n",
    "\n",
    "df = pd.read_csv(DATAPATH)\n",
    "all_columns = list(df) # Creates list of all column headers\n",
    "#df[all_columns] = df[all_columns].astype(str)\n"
   ]
  },
  {
   "cell_type": "code",
   "execution_count": 105,
   "id": "e4759b7a",
   "metadata": {
    "scrolled": true
   },
   "outputs": [],
   "source": [
    "df = df.fillna('')\n"
   ]
  },
  {
   "cell_type": "code",
   "execution_count": 106,
   "id": "8ce82016",
   "metadata": {
    "scrolled": true
   },
   "outputs": [
    {
     "data": {
      "text/html": [
       "<div>\n",
       "<style scoped>\n",
       "    .dataframe tbody tr th:only-of-type {\n",
       "        vertical-align: middle;\n",
       "    }\n",
       "\n",
       "    .dataframe tbody tr th {\n",
       "        vertical-align: top;\n",
       "    }\n",
       "\n",
       "    .dataframe thead th {\n",
       "        text-align: right;\n",
       "    }\n",
       "</style>\n",
       "<table border=\"1\" class=\"dataframe\">\n",
       "  <thead>\n",
       "    <tr style=\"text-align: right;\">\n",
       "      <th></th>\n",
       "      <th>id_left</th>\n",
       "      <th>brand_left</th>\n",
       "      <th>title_left</th>\n",
       "      <th>description_left</th>\n",
       "      <th>price_left</th>\n",
       "      <th>priceCurrency_left</th>\n",
       "      <th>cluster_id_left</th>\n",
       "      <th>id_right</th>\n",
       "      <th>brand_right</th>\n",
       "      <th>title_right</th>\n",
       "      <th>description_right</th>\n",
       "      <th>price_right</th>\n",
       "      <th>priceCurrency_right</th>\n",
       "      <th>cluster_id_right</th>\n",
       "      <th>pair_id</th>\n",
       "      <th>label</th>\n",
       "      <th>is_hard_negative</th>\n",
       "      <th>prompt_1_gpt-3.5-turbo_temp-0</th>\n",
       "      <th>prompt_2_gpt-3.5-turbo_temp-0</th>\n",
       "      <th>prompt_3_gpt-3.5-turbo_temp-0</th>\n",
       "    </tr>\n",
       "  </thead>\n",
       "  <tbody>\n",
       "    <tr>\n",
       "      <th>0</th>\n",
       "      <td>24080197</td>\n",
       "      <td></td>\n",
       "      <td>DJI Mavic Mini Drone Fly More Combo</td>\n",
       "      <td>Mavic Mini, the everyday flycam. Open your sky...</td>\n",
       "      <td>649.00</td>\n",
       "      <td>CAD</td>\n",
       "      <td>1709252</td>\n",
       "      <td>92817369</td>\n",
       "      <td>Fujifilm</td>\n",
       "      <td>Fujifilm Instax Mini Instant Film - Monochrome...</td>\n",
       "      <td>Monochrome (Black &amp; White) Instant Film for Fu...</td>\n",
       "      <td>159</td>\n",
       "      <td>ZAR</td>\n",
       "      <td>165928</td>\n",
       "      <td>24080197#92817369</td>\n",
       "      <td>False</td>\n",
       "      <td>True</td>\n",
       "      <td>False</td>\n",
       "      <td>False</td>\n",
       "      <td></td>\n",
       "    </tr>\n",
       "    <tr>\n",
       "      <th>1</th>\n",
       "      <td>94788371</td>\n",
       "      <td></td>\n",
       "      <td>Instax Mini Rainbow Film 10 Pack</td>\n",
       "      <td>Brighten the place up with this pack of rainbo...</td>\n",
       "      <td>14.99</td>\n",
       "      <td>GBP</td>\n",
       "      <td>1374090</td>\n",
       "      <td>10718715</td>\n",
       "      <td></td>\n",
       "      <td>1 Fujifilm Instax Square Film Black Frame</td>\n",
       "      <td></td>\n",
       "      <td>3800</td>\n",
       "      <td>HUF</td>\n",
       "      <td>1118780</td>\n",
       "      <td>94788371#10718715</td>\n",
       "      <td>False</td>\n",
       "      <td>True</td>\n",
       "      <td>False</td>\n",
       "      <td>False</td>\n",
       "      <td></td>\n",
       "    </tr>\n",
       "    <tr>\n",
       "      <th>2</th>\n",
       "      <td>14016048</td>\n",
       "      <td></td>\n",
       "      <td>Blackmagic Design ATEM Production Studio 4K Sw...</td>\n",
       "      <td>Blackmagic Design ATEM Production Studio 4K Sw...</td>\n",
       "      <td>1.695E3</td>\n",
       "      <td>USD</td>\n",
       "      <td>1263992</td>\n",
       "      <td>52586114</td>\n",
       "      <td></td>\n",
       "      <td>Western Digital Blue PC 2.5\\\" 250 GB Serial AT...</td>\n",
       "      <td>250 GB, 2.5\\\", SATA 6Gb/s, 540/500 MB/s</td>\n",
       "      <td>62.436001</td>\n",
       "      <td>EUR</td>\n",
       "      <td>483248</td>\n",
       "      <td>14016048#52586114</td>\n",
       "      <td>False</td>\n",
       "      <td>False</td>\n",
       "      <td>False</td>\n",
       "      <td>False</td>\n",
       "      <td></td>\n",
       "    </tr>\n",
       "    <tr>\n",
       "      <th>3</th>\n",
       "      <td>62248973</td>\n",
       "      <td>Instax</td>\n",
       "      <td>Instax Fujifilm | Instax SQUARE Instant Film -...</td>\n",
       "      <td></td>\n",
       "      <td>14.99</td>\n",
       "      <td>CAD</td>\n",
       "      <td>1118780</td>\n",
       "      <td>63595157</td>\n",
       "      <td></td>\n",
       "      <td>[Fujifilm]100 Sheet Fujifilm Instax Square Pla...</td>\n",
       "      <td>100 sheet instax Square Film</td>\n",
       "      <td>98.50</td>\n",
       "      <td>USD</td>\n",
       "      <td>300521</td>\n",
       "      <td>62248973#63595157</td>\n",
       "      <td>False</td>\n",
       "      <td>True</td>\n",
       "      <td>False</td>\n",
       "      <td>False</td>\n",
       "      <td></td>\n",
       "    </tr>\n",
       "    <tr>\n",
       "      <th>4</th>\n",
       "      <td>25011125</td>\n",
       "      <td></td>\n",
       "      <td>Hikvision DVR 16 CH fino a 8Mpx Turbo 3.0 DS-7...</td>\n",
       "      <td>Hikvision DVR 16 CH fino a 8Mpx Turbo 3.0 DS-7...</td>\n",
       "      <td>3.726E2</td>\n",
       "      <td>EUR</td>\n",
       "      <td>1336313</td>\n",
       "      <td>10718715</td>\n",
       "      <td></td>\n",
       "      <td>1 Fujifilm Instax Square Film Black Frame</td>\n",
       "      <td></td>\n",
       "      <td>3800</td>\n",
       "      <td>HUF</td>\n",
       "      <td>1118780</td>\n",
       "      <td>25011125#10718715</td>\n",
       "      <td>False</td>\n",
       "      <td>False</td>\n",
       "      <td>False</td>\n",
       "      <td>False</td>\n",
       "      <td></td>\n",
       "    </tr>\n",
       "    <tr>\n",
       "      <th>...</th>\n",
       "      <td>...</td>\n",
       "      <td>...</td>\n",
       "      <td>...</td>\n",
       "      <td>...</td>\n",
       "      <td>...</td>\n",
       "      <td>...</td>\n",
       "      <td>...</td>\n",
       "      <td>...</td>\n",
       "      <td>...</td>\n",
       "      <td>...</td>\n",
       "      <td>...</td>\n",
       "      <td>...</td>\n",
       "      <td>...</td>\n",
       "      <td>...</td>\n",
       "      <td>...</td>\n",
       "      <td>...</td>\n",
       "      <td>...</td>\n",
       "      <td>...</td>\n",
       "      <td>...</td>\n",
       "      <td>...</td>\n",
       "    </tr>\n",
       "    <tr>\n",
       "      <th>216</th>\n",
       "      <td>71765125</td>\n",
       "      <td>TAG Heuer</td>\n",
       "      <td>TAG Heuer Formula 1 CAZ1010.FT8024</td>\n",
       "      <td>Find Authentic TAG Heuer Formula 1 CAZ1010.FT8...</td>\n",
       "      <td>1039</td>\n",
       "      <td>USD</td>\n",
       "      <td>2107019</td>\n",
       "      <td>60568221</td>\n",
       "      <td></td>\n",
       "      <td>TAG Heuer Formula 1 Chronograph 43mm CAZ1010.F...</td>\n",
       "      <td></td>\n",
       "      <td>1169.75</td>\n",
       "      <td>EUR</td>\n",
       "      <td>2107019</td>\n",
       "      <td>71765125#60568221</td>\n",
       "      <td>True</td>\n",
       "      <td>False</td>\n",
       "      <td>True</td>\n",
       "      <td>True</td>\n",
       "      <td></td>\n",
       "    </tr>\n",
       "    <tr>\n",
       "      <th>217</th>\n",
       "      <td>83472763</td>\n",
       "      <td></td>\n",
       "      <td>Traveler's Refills: MD Paper - 002 / grid</td>\n",
       "      <td>These notebooks aremade in Japan, where there ...</td>\n",
       "      <td>6.0E0</td>\n",
       "      <td>USD</td>\n",
       "      <td>2662935</td>\n",
       "      <td>66355149</td>\n",
       "      <td></td>\n",
       "      <td>002 TN Regular Refill Grid Notebook Basic Item...</td>\n",
       "      <td>Traveler's company</td>\n",
       "      <td>4.5</td>\n",
       "      <td>EUR</td>\n",
       "      <td>2662935</td>\n",
       "      <td>83472763#66355149</td>\n",
       "      <td>True</td>\n",
       "      <td>False</td>\n",
       "      <td>False</td>\n",
       "      <td>False</td>\n",
       "      <td></td>\n",
       "    </tr>\n",
       "    <tr>\n",
       "      <th>218</th>\n",
       "      <td>2251660</td>\n",
       "      <td>Traveler's Company</td>\n",
       "      <td>Traveler's Company 014. CRAFT PAPER (64PG) MID...</td>\n",
       "      <td></td>\n",
       "      <td>4.50</td>\n",
       "      <td>GBP</td>\n",
       "      <td>1857459</td>\n",
       "      <td>89974024</td>\n",
       "      <td></td>\n",
       "      <td>Refill #014: Kraft Paper Notebook</td>\n",
       "      <td>Cardboard Paper notebook refill for the Travel...</td>\n",
       "      <td>7.9</td>\n",
       "      <td>EUR</td>\n",
       "      <td>1857459</td>\n",
       "      <td>2251660#89974024</td>\n",
       "      <td>True</td>\n",
       "      <td>False</td>\n",
       "      <td>True</td>\n",
       "      <td>False</td>\n",
       "      <td></td>\n",
       "    </tr>\n",
       "    <tr>\n",
       "      <th>219</th>\n",
       "      <td>65569829</td>\n",
       "      <td></td>\n",
       "      <td>MINION DHR II 29 X 2.30 3C TERRA TR DD FOLD</td>\n",
       "      <td>Refined and redesigned; ready to shred any lin...</td>\n",
       "      <td>1.0999E2</td>\n",
       "      <td>AUD</td>\n",
       "      <td>1084991</td>\n",
       "      <td>47784049</td>\n",
       "      <td>Maxxis</td>\n",
       "      <td>Maxxis Minion DHR II 29\\\" DD/3C/TR</td>\n",
       "      <td>Minion DHR II 29 x 2.35 tubeless ready tyre wi...</td>\n",
       "      <td>£69.99</td>\n",
       "      <td>GBP</td>\n",
       "      <td>1084991</td>\n",
       "      <td>65569829#47784049</td>\n",
       "      <td>True</td>\n",
       "      <td>False</td>\n",
       "      <td>True</td>\n",
       "      <td>False</td>\n",
       "      <td></td>\n",
       "    </tr>\n",
       "    <tr>\n",
       "      <th>220</th>\n",
       "      <td>75823632</td>\n",
       "      <td>Traveler's</td>\n",
       "      <td>Traveler's Lined Notebook Refill - Regular Size</td>\n",
       "      <td>Think about the days you went to school. Based...</td>\n",
       "      <td>5.4</td>\n",
       "      <td>USD</td>\n",
       "      <td>5041507</td>\n",
       "      <td>45833973</td>\n",
       "      <td>Traveler's Company</td>\n",
       "      <td>Traveler's Company Traveler's Company Notebook...</td>\n",
       "      <td></td>\n",
       "      <td>6.00</td>\n",
       "      <td>USD</td>\n",
       "      <td>5041507</td>\n",
       "      <td>75823632#45833973</td>\n",
       "      <td>True</td>\n",
       "      <td>False</td>\n",
       "      <td>False</td>\n",
       "      <td>False</td>\n",
       "      <td></td>\n",
       "    </tr>\n",
       "  </tbody>\n",
       "</table>\n",
       "<p>221 rows × 20 columns</p>\n",
       "</div>"
      ],
      "text/plain": [
       "      id_left          brand_left  \\\n",
       "0    24080197                       \n",
       "1    94788371                       \n",
       "2    14016048                       \n",
       "3    62248973              Instax   \n",
       "4    25011125                       \n",
       "..        ...                 ...   \n",
       "216  71765125           TAG Heuer   \n",
       "217  83472763                       \n",
       "218   2251660  Traveler's Company   \n",
       "219  65569829                       \n",
       "220  75823632          Traveler's   \n",
       "\n",
       "                                            title_left  \\\n",
       "0                  DJI Mavic Mini Drone Fly More Combo   \n",
       "1                     Instax Mini Rainbow Film 10 Pack   \n",
       "2    Blackmagic Design ATEM Production Studio 4K Sw...   \n",
       "3    Instax Fujifilm | Instax SQUARE Instant Film -...   \n",
       "4    Hikvision DVR 16 CH fino a 8Mpx Turbo 3.0 DS-7...   \n",
       "..                                                 ...   \n",
       "216                 TAG Heuer Formula 1 CAZ1010.FT8024   \n",
       "217          Traveler's Refills: MD Paper - 002 / grid   \n",
       "218  Traveler's Company 014. CRAFT PAPER (64PG) MID...   \n",
       "219        MINION DHR II 29 X 2.30 3C TERRA TR DD FOLD   \n",
       "220    Traveler's Lined Notebook Refill - Regular Size   \n",
       "\n",
       "                                      description_left price_left  \\\n",
       "0    Mavic Mini, the everyday flycam. Open your sky...     649.00   \n",
       "1    Brighten the place up with this pack of rainbo...      14.99   \n",
       "2    Blackmagic Design ATEM Production Studio 4K Sw...    1.695E3   \n",
       "3                                                           14.99   \n",
       "4    Hikvision DVR 16 CH fino a 8Mpx Turbo 3.0 DS-7...    3.726E2   \n",
       "..                                                 ...        ...   \n",
       "216  Find Authentic TAG Heuer Formula 1 CAZ1010.FT8...       1039   \n",
       "217  These notebooks aremade in Japan, where there ...      6.0E0   \n",
       "218                                                          4.50   \n",
       "219  Refined and redesigned; ready to shred any lin...   1.0999E2   \n",
       "220  Think about the days you went to school. Based...        5.4   \n",
       "\n",
       "    priceCurrency_left  cluster_id_left  id_right         brand_right  \\\n",
       "0                  CAD          1709252  92817369            Fujifilm   \n",
       "1                  GBP          1374090  10718715                       \n",
       "2                  USD          1263992  52586114                       \n",
       "3                  CAD          1118780  63595157                       \n",
       "4                  EUR          1336313  10718715                       \n",
       "..                 ...              ...       ...                 ...   \n",
       "216                USD          2107019  60568221                       \n",
       "217                USD          2662935  66355149                       \n",
       "218                GBP          1857459  89974024                       \n",
       "219                AUD          1084991  47784049              Maxxis   \n",
       "220                USD          5041507  45833973  Traveler's Company   \n",
       "\n",
       "                                           title_right  \\\n",
       "0    Fujifilm Instax Mini Instant Film - Monochrome...   \n",
       "1            1 Fujifilm Instax Square Film Black Frame   \n",
       "2    Western Digital Blue PC 2.5\\\" 250 GB Serial AT...   \n",
       "3    [Fujifilm]100 Sheet Fujifilm Instax Square Pla...   \n",
       "4            1 Fujifilm Instax Square Film Black Frame   \n",
       "..                                                 ...   \n",
       "216  TAG Heuer Formula 1 Chronograph 43mm CAZ1010.F...   \n",
       "217  002 TN Regular Refill Grid Notebook Basic Item...   \n",
       "218                  Refill #014: Kraft Paper Notebook   \n",
       "219                 Maxxis Minion DHR II 29\\\" DD/3C/TR   \n",
       "220  Traveler's Company Traveler's Company Notebook...   \n",
       "\n",
       "                                     description_right price_right  \\\n",
       "0    Monochrome (Black & White) Instant Film for Fu...         159   \n",
       "1                                                             3800   \n",
       "2              250 GB, 2.5\\\", SATA 6Gb/s, 540/500 MB/s   62.436001   \n",
       "3                         100 sheet instax Square Film       98.50   \n",
       "4                                                             3800   \n",
       "..                                                 ...         ...   \n",
       "216                                                        1169.75   \n",
       "217                                 Traveler's company         4.5   \n",
       "218  Cardboard Paper notebook refill for the Travel...         7.9   \n",
       "219  Minion DHR II 29 x 2.35 tubeless ready tyre wi...      £69.99   \n",
       "220                                                           6.00   \n",
       "\n",
       "    priceCurrency_right  cluster_id_right            pair_id  label  \\\n",
       "0                   ZAR            165928  24080197#92817369  False   \n",
       "1                   HUF           1118780  94788371#10718715  False   \n",
       "2                   EUR            483248  14016048#52586114  False   \n",
       "3                   USD            300521  62248973#63595157  False   \n",
       "4                   HUF           1118780  25011125#10718715  False   \n",
       "..                  ...               ...                ...    ...   \n",
       "216                 EUR           2107019  71765125#60568221   True   \n",
       "217                 EUR           2662935  83472763#66355149   True   \n",
       "218                 EUR           1857459   2251660#89974024   True   \n",
       "219                 GBP           1084991  65569829#47784049   True   \n",
       "220                 USD           5041507  75823632#45833973   True   \n",
       "\n",
       "     is_hard_negative  prompt_1_gpt-3.5-turbo_temp-0  \\\n",
       "0                True                          False   \n",
       "1                True                          False   \n",
       "2               False                          False   \n",
       "3                True                          False   \n",
       "4               False                          False   \n",
       "..                ...                            ...   \n",
       "216             False                           True   \n",
       "217             False                          False   \n",
       "218             False                           True   \n",
       "219             False                           True   \n",
       "220             False                          False   \n",
       "\n",
       "     prompt_2_gpt-3.5-turbo_temp-0 prompt_3_gpt-3.5-turbo_temp-0  \n",
       "0                            False                                \n",
       "1                            False                                \n",
       "2                            False                                \n",
       "3                            False                                \n",
       "4                            False                                \n",
       "..                             ...                           ...  \n",
       "216                           True                                \n",
       "217                          False                                \n",
       "218                          False                                \n",
       "219                          False                                \n",
       "220                          False                                \n",
       "\n",
       "[221 rows x 20 columns]"
      ]
     },
     "execution_count": 106,
     "metadata": {},
     "output_type": "execute_result"
    }
   ],
   "source": [
    "df"
   ]
  },
  {
   "cell_type": "markdown",
   "id": "157ad4b4",
   "metadata": {},
   "source": [
    "### Keys"
   ]
  },
  {
   "cell_type": "code",
   "execution_count": 107,
   "id": "744f5ae0",
   "metadata": {},
   "outputs": [],
   "source": [
    "\n",
    "import openai\n",
    "import os\n",
    "from dotenv import load_dotenv\n",
    "load_dotenv()\n",
    "\n",
    "openai.api_key = os.getenv(\"OPENAI_API_KEY\")\n"
   ]
  },
  {
   "cell_type": "code",
   "execution_count": 108,
   "id": "de469b83",
   "metadata": {},
   "outputs": [],
   "source": [
    "def llm_request(question, temp):\n",
    "    response = openai.Completion.create(\n",
    "    model=\"gpt-3.5-turbo-instruct\",\n",
    "    prompt=question, \n",
    "    temperature=temp,\n",
    "    max_tokens=20,\n",
    "    top_p=0,\n",
    "    frequency_penalty=0,\n",
    "    presence_penalty=0\n",
    "    )\n",
    "    return response"
   ]
  },
  {
   "cell_type": "code",
   "execution_count": 109,
   "id": "1b93970c",
   "metadata": {},
   "outputs": [],
   "source": [
    "def cut_length(string ,length = 250):\n",
    "    return string[0:length]"
   ]
  },
  {
   "cell_type": "code",
   "execution_count": 110,
   "id": "1fbafc0c",
   "metadata": {},
   "outputs": [],
   "source": [
    "# def prepare_prompt(df, i, prompt, temp):\n",
    "#     product1 = \"Title: \" + cut_length(str(df[\"title_left\"][i] or \"none\")) + \"\\nDescription: \" + cut_length(str(df[\"description_left\"][i] or \"none\"))\n",
    "#     product2 = \"Title: \" + cut_length(str(df[\"title_right\"][i] or \"none\")) + \"\\nDescription: \" + cut_length(str(df[\"description_right\"][i] or \"none\"))\n",
    "    \n",
    "#     prompt = prompt.replace(\"[p1]\", product1)\n",
    "#     prompt = prompt.replace(\"[p2]\", product2)\n",
    "#     print(prompt)\n",
    "#     return llm_request(prompt, temp)"
   ]
  },
  {
   "cell_type": "code",
   "execution_count": 111,
   "id": "622f2414",
   "metadata": {},
   "outputs": [],
   "source": [
    "def prepare_prompt(df, i, prompt):\n",
    "    product1 = \"Title: \" + cut_length(str(df[\"brand_left\"][i] or \"\")) + cut_length(str(df[\"title_left\"][i] or \"none\")) + \"\\nDescription: \" + cut_length(str(df[\"description_left\"][i] or \"none\"))\n",
    "    product2 = \"Title: \" + cut_length(str(df[\"brand_right\"][i] or \"\")) + cut_length(str(df[\"title_right\"][i] or \"none\")) + \"\\nDescription: \" + cut_length(str(df[\"description_right\"][i] or \"none\"))\n",
    "    \n",
    "    prompt = prompt.replace(\"[p1]\", product1)\n",
    "    prompt = prompt.replace(\"[p2]\", product2)\n",
    "        \n",
    "    return prompt"
   ]
  },
  {
   "cell_type": "code",
   "execution_count": 112,
   "id": "2a631fce",
   "metadata": {},
   "outputs": [],
   "source": [
    "#Für Ralph Prompts\n",
    "\n",
    "def prepare_prompt(df, i, prompt):\n",
    "    product1 = \"Title: \" + cut_length(str(df[\"brand_left\"][i] or \"\")) + cut_length(str(df[\"title_left\"][i] or \"\")) + \"|\" + cut_length(str(df[\"description_left\"][i] or \"\"))\n",
    "    product2 = \"Title: \" + cut_length(str(df[\"brand_right\"][i] or \"\")) + cut_length(str(df[\"title_right\"][i] or \"\")) + \"|\" + cut_length(str(df[\"description_right\"][i] or \"\"))\n",
    "    \n",
    "    prompt = prompt.replace(\"[P1]\", product1)\n",
    "    prompt = prompt.replace(\"[P2]\", product2)\n",
    "        \n",
    "    return prompt"
   ]
  },
  {
   "cell_type": "code",
   "execution_count": 113,
   "id": "9625021e",
   "metadata": {},
   "outputs": [
    {
     "name": "stdout",
     "output_type": "stream",
     "text": [
      " You are an expert in e-commerce, known for consistently delivering exceptional work and being someone that people can count on.  Clients come to you throughout the day, seeking your opinion on whether two products they've found on the internet are the same in the real world. That is going to be your task for today. Good Luck! \n"
     ]
    },
    {
     "data": {
      "text/plain": [
       "<OpenAIObject text_completion id=cmpl-83qz5BcK5W4BrxMKGscxtw5fRoTa9 at 0x138242900> JSON: {\n",
       "  \"id\": \"cmpl-83qz5BcK5W4BrxMKGscxtw5fRoTa9\",\n",
       "  \"object\": \"text_completion\",\n",
       "  \"created\": 1695929347,\n",
       "  \"model\": \"gpt-3.5-turbo-instruct\",\n",
       "  \"choices\": [\n",
       "    {\n",
       "      \"text\": \"\\n\\nAs an e-commerce expert, I am well-versed in the world of online shopping and product\",\n",
       "      \"index\": 0,\n",
       "      \"logprobs\": null,\n",
       "      \"finish_reason\": \"length\"\n",
       "    }\n",
       "  ],\n",
       "  \"usage\": {\n",
       "    \"prompt_tokens\": 67,\n",
       "    \"completion_tokens\": 20,\n",
       "    \"total_tokens\": 87\n",
       "  }\n",
       "}"
      ]
     },
     "execution_count": 113,
     "metadata": {},
     "output_type": "execute_result"
    }
   ],
   "source": [
    "prompt = prepare_prompt(df, 202, \"\"\" You are an expert in e-commerce, known for consistently delivering exceptional work and being someone that people can count on.  Clients come to you throughout the day, seeking your opinion on whether two products they've found on the internet are the same in the real world. That is going to be your task for today. Good Luck! \"\"\")\n",
    "print(prompt)\n",
    "llm_request(prompt, 0)"
   ]
  },
  {
   "cell_type": "code",
   "execution_count": 114,
   "id": "2b4c60b6",
   "metadata": {},
   "outputs": [],
   "source": [
    "df[\"prompt1_en_roleModel_Chat_1\"] = \"\""
   ]
  },
  {
   "cell_type": "code",
   "execution_count": 115,
   "id": "07601393",
   "metadata": {},
   "outputs": [],
   "source": [
    "# musti didn't use this function\n",
    "responseList = []\n",
    "def saveResponse(prompt, response, label):\n",
    "    global responseList\n",
    "    eintrag = {\"prompt\": prompt, \"response\": response, \"label\": label}\n",
    "    responseList.append(eintrag)\n",
    "    "
   ]
  },
  {
   "cell_type": "code",
   "execution_count": 116,
   "id": "ba777e18",
   "metadata": {},
   "outputs": [
    {
     "data": {
      "text/plain": [
       "<OpenAIObject text_completion id=cmpl-83qz5sgJb0uwDJDruS6JGQfR6Unph at 0x1382169a0> JSON: {\n",
       "  \"id\": \"cmpl-83qz5sgJb0uwDJDruS6JGQfR6Unph\",\n",
       "  \"object\": \"text_completion\",\n",
       "  \"created\": 1695929347,\n",
       "  \"model\": \"gpt-3.5-turbo-instruct\",\n",
       "  \"choices\": [\n",
       "    {\n",
       "      \"text\": \"\\n\\nNo\",\n",
       "      \"index\": 0,\n",
       "      \"logprobs\": null,\n",
       "      \"finish_reason\": \"stop\"\n",
       "    }\n",
       "  ],\n",
       "  \"usage\": {\n",
       "    \"prompt_tokens\": 99,\n",
       "    \"completion_tokens\": 2,\n",
       "    \"total_tokens\": 101\n",
       "  }\n",
       "}"
      ]
     },
     "execution_count": 116,
     "metadata": {},
     "output_type": "execute_result"
    }
   ],
   "source": [
    "llm_request(\"\"\"Do the following two entity descriptions match? Answer with 'Yes' if they do and 'No' if they do not.\n",
    "Entity 1: 'Title: InstaxInstax Fujifilm | Instax SQUARE Instant Film - Black Border (10 Exposures)|'\n",
    "Entity 2: 'Title: [Fujifilm]100 Sheet Fujifilm Instax Square Plain White Instant Polaroid Film for SQ 10 Camera | SP3 Printer|100 sheet instax Square Film'\"\"\", 0)"
   ]
  },
  {
   "cell_type": "code",
   "execution_count": 117,
   "id": "f4061124",
   "metadata": {
    "scrolled": false
   },
   "outputs": [
    {
     "name": "stdout",
     "output_type": "stream",
     "text": [
      "0\n",
      " You are an expert in e-commerce, known for consistently delivering exceptional work and being someone that people can count on.  Clients come to you throughout the day, seeking your opinion on whether two products they've found on the internet are the same in the real world. That is going to be your task for today. Good Luck! \n",
      "-->>   \n",
      "\n",
      "As an e-commerce expert, I am well-versed in the world of online shopping and product _______________\n",
      "False\n",
      "\n",
      "\n",
      "\n",
      "1\n",
      " You are an expert in e-commerce, known for consistently delivering exceptional work and being someone that people can count on.  Clients come to you throughout the day, seeking your opinion on whether two products they've found on the internet are the same in the real world. That is going to be your task for today. Good Luck! \n"
     ]
    },
    {
     "name": "stderr",
     "output_type": "stream",
     "text": [
      "/var/folders/gx/tzjwcf8x1llbhhf36mjt7xqr0000gn/T/ipykernel_86853/3089304063.py:16: SettingWithCopyWarning: \n",
      "A value is trying to be set on a copy of a slice from a DataFrame\n",
      "\n",
      "See the caveats in the documentation: https://pandas.pydata.org/pandas-docs/stable/user_guide/indexing.html#returning-a-view-versus-a-copy\n",
      "  df[\"prompt1_en_roleModel_Chat_1\"][i] = isMatch\n"
     ]
    },
    {
     "name": "stdout",
     "output_type": "stream",
     "text": [
      "-->>   \n",
      "\n",
      "As an e-commerce expert, I am well-versed in the world of online shopping and product _______________\n",
      "False\n",
      "\n",
      "\n",
      "\n",
      "2\n",
      " You are an expert in e-commerce, known for consistently delivering exceptional work and being someone that people can count on.  Clients come to you throughout the day, seeking your opinion on whether two products they've found on the internet are the same in the real world. That is going to be your task for today. Good Luck! \n"
     ]
    },
    {
     "name": "stderr",
     "output_type": "stream",
     "text": [
      "/var/folders/gx/tzjwcf8x1llbhhf36mjt7xqr0000gn/T/ipykernel_86853/3089304063.py:16: SettingWithCopyWarning: \n",
      "A value is trying to be set on a copy of a slice from a DataFrame\n",
      "\n",
      "See the caveats in the documentation: https://pandas.pydata.org/pandas-docs/stable/user_guide/indexing.html#returning-a-view-versus-a-copy\n",
      "  df[\"prompt1_en_roleModel_Chat_1\"][i] = isMatch\n"
     ]
    },
    {
     "name": "stdout",
     "output_type": "stream",
     "text": [
      "-->>   \n",
      "\n",
      "As an e-commerce expert, I am well-versed in the world of online shopping and product _______________\n",
      "False\n",
      "\n",
      "\n",
      "\n",
      "3\n",
      " You are an expert in e-commerce, known for consistently delivering exceptional work and being someone that people can count on.  Clients come to you throughout the day, seeking your opinion on whether two products they've found on the internet are the same in the real world. That is going to be your task for today. Good Luck! \n"
     ]
    },
    {
     "name": "stderr",
     "output_type": "stream",
     "text": [
      "/var/folders/gx/tzjwcf8x1llbhhf36mjt7xqr0000gn/T/ipykernel_86853/3089304063.py:16: SettingWithCopyWarning: \n",
      "A value is trying to be set on a copy of a slice from a DataFrame\n",
      "\n",
      "See the caveats in the documentation: https://pandas.pydata.org/pandas-docs/stable/user_guide/indexing.html#returning-a-view-versus-a-copy\n",
      "  df[\"prompt1_en_roleModel_Chat_1\"][i] = isMatch\n"
     ]
    },
    {
     "name": "stdout",
     "output_type": "stream",
     "text": [
      "-->>   \n",
      "\n",
      "As an e-commerce expert, I am well-versed in the world of online shopping and product _______________\n",
      "False\n",
      "\n",
      "\n",
      "\n",
      "4\n",
      " You are an expert in e-commerce, known for consistently delivering exceptional work and being someone that people can count on.  Clients come to you throughout the day, seeking your opinion on whether two products they've found on the internet are the same in the real world. That is going to be your task for today. Good Luck! \n"
     ]
    },
    {
     "name": "stderr",
     "output_type": "stream",
     "text": [
      "/var/folders/gx/tzjwcf8x1llbhhf36mjt7xqr0000gn/T/ipykernel_86853/3089304063.py:16: SettingWithCopyWarning: \n",
      "A value is trying to be set on a copy of a slice from a DataFrame\n",
      "\n",
      "See the caveats in the documentation: https://pandas.pydata.org/pandas-docs/stable/user_guide/indexing.html#returning-a-view-versus-a-copy\n",
      "  df[\"prompt1_en_roleModel_Chat_1\"][i] = isMatch\n"
     ]
    },
    {
     "name": "stdout",
     "output_type": "stream",
     "text": [
      "-->>   \n",
      "\n",
      "As an e-commerce expert, I am well-versed in the world of online shopping and product _______________\n",
      "False\n",
      "\n",
      "\n",
      "\n",
      "5\n",
      " You are an expert in e-commerce, known for consistently delivering exceptional work and being someone that people can count on.  Clients come to you throughout the day, seeking your opinion on whether two products they've found on the internet are the same in the real world. That is going to be your task for today. Good Luck! \n"
     ]
    },
    {
     "name": "stderr",
     "output_type": "stream",
     "text": [
      "/var/folders/gx/tzjwcf8x1llbhhf36mjt7xqr0000gn/T/ipykernel_86853/3089304063.py:16: SettingWithCopyWarning: \n",
      "A value is trying to be set on a copy of a slice from a DataFrame\n",
      "\n",
      "See the caveats in the documentation: https://pandas.pydata.org/pandas-docs/stable/user_guide/indexing.html#returning-a-view-versus-a-copy\n",
      "  df[\"prompt1_en_roleModel_Chat_1\"][i] = isMatch\n"
     ]
    },
    {
     "name": "stdout",
     "output_type": "stream",
     "text": [
      "-->>   \n",
      "\n",
      "As an e-commerce expert, I am well-versed in the world of online shopping and product _______________\n",
      "False\n",
      "\n",
      "\n",
      "\n",
      "6\n",
      " You are an expert in e-commerce, known for consistently delivering exceptional work and being someone that people can count on.  Clients come to you throughout the day, seeking your opinion on whether two products they've found on the internet are the same in the real world. That is going to be your task for today. Good Luck! \n"
     ]
    },
    {
     "name": "stderr",
     "output_type": "stream",
     "text": [
      "/var/folders/gx/tzjwcf8x1llbhhf36mjt7xqr0000gn/T/ipykernel_86853/3089304063.py:16: SettingWithCopyWarning: \n",
      "A value is trying to be set on a copy of a slice from a DataFrame\n",
      "\n",
      "See the caveats in the documentation: https://pandas.pydata.org/pandas-docs/stable/user_guide/indexing.html#returning-a-view-versus-a-copy\n",
      "  df[\"prompt1_en_roleModel_Chat_1\"][i] = isMatch\n"
     ]
    },
    {
     "name": "stdout",
     "output_type": "stream",
     "text": [
      "-->>   \n",
      "\n",
      "As an e-commerce expert, I am well-versed in the world of online shopping and product _______________\n",
      "False\n",
      "\n",
      "\n",
      "\n",
      "7\n",
      " You are an expert in e-commerce, known for consistently delivering exceptional work and being someone that people can count on.  Clients come to you throughout the day, seeking your opinion on whether two products they've found on the internet are the same in the real world. That is going to be your task for today. Good Luck! \n"
     ]
    },
    {
     "name": "stderr",
     "output_type": "stream",
     "text": [
      "/var/folders/gx/tzjwcf8x1llbhhf36mjt7xqr0000gn/T/ipykernel_86853/3089304063.py:16: SettingWithCopyWarning: \n",
      "A value is trying to be set on a copy of a slice from a DataFrame\n",
      "\n",
      "See the caveats in the documentation: https://pandas.pydata.org/pandas-docs/stable/user_guide/indexing.html#returning-a-view-versus-a-copy\n",
      "  df[\"prompt1_en_roleModel_Chat_1\"][i] = isMatch\n"
     ]
    },
    {
     "name": "stdout",
     "output_type": "stream",
     "text": [
      "-->>   \n",
      "\n",
      "As an e-commerce expert, I am well-versed in the world of online shopping and product _______________\n",
      "False\n",
      "\n",
      "\n",
      "\n",
      "8\n",
      " You are an expert in e-commerce, known for consistently delivering exceptional work and being someone that people can count on.  Clients come to you throughout the day, seeking your opinion on whether two products they've found on the internet are the same in the real world. That is going to be your task for today. Good Luck! \n"
     ]
    },
    {
     "name": "stderr",
     "output_type": "stream",
     "text": [
      "/var/folders/gx/tzjwcf8x1llbhhf36mjt7xqr0000gn/T/ipykernel_86853/3089304063.py:16: SettingWithCopyWarning: \n",
      "A value is trying to be set on a copy of a slice from a DataFrame\n",
      "\n",
      "See the caveats in the documentation: https://pandas.pydata.org/pandas-docs/stable/user_guide/indexing.html#returning-a-view-versus-a-copy\n",
      "  df[\"prompt1_en_roleModel_Chat_1\"][i] = isMatch\n"
     ]
    },
    {
     "name": "stdout",
     "output_type": "stream",
     "text": [
      "-->>   \n",
      "\n",
      "As an e-commerce expert, I am well-versed in the world of online shopping and product _______________\n",
      "False\n",
      "\n",
      "\n",
      "\n",
      "9\n",
      " You are an expert in e-commerce, known for consistently delivering exceptional work and being someone that people can count on.  Clients come to you throughout the day, seeking your opinion on whether two products they've found on the internet are the same in the real world. That is going to be your task for today. Good Luck! \n"
     ]
    },
    {
     "name": "stderr",
     "output_type": "stream",
     "text": [
      "/var/folders/gx/tzjwcf8x1llbhhf36mjt7xqr0000gn/T/ipykernel_86853/3089304063.py:16: SettingWithCopyWarning: \n",
      "A value is trying to be set on a copy of a slice from a DataFrame\n",
      "\n",
      "See the caveats in the documentation: https://pandas.pydata.org/pandas-docs/stable/user_guide/indexing.html#returning-a-view-versus-a-copy\n",
      "  df[\"prompt1_en_roleModel_Chat_1\"][i] = isMatch\n"
     ]
    },
    {
     "name": "stdout",
     "output_type": "stream",
     "text": [
      "-->>   \n",
      "\n",
      "As an e-commerce expert, I am well-versed in the world of online shopping and product _______________\n",
      "False\n",
      "\n",
      "\n",
      "\n",
      "10\n",
      " You are an expert in e-commerce, known for consistently delivering exceptional work and being someone that people can count on.  Clients come to you throughout the day, seeking your opinion on whether two products they've found on the internet are the same in the real world. That is going to be your task for today. Good Luck! \n"
     ]
    },
    {
     "name": "stderr",
     "output_type": "stream",
     "text": [
      "/var/folders/gx/tzjwcf8x1llbhhf36mjt7xqr0000gn/T/ipykernel_86853/3089304063.py:16: SettingWithCopyWarning: \n",
      "A value is trying to be set on a copy of a slice from a DataFrame\n",
      "\n",
      "See the caveats in the documentation: https://pandas.pydata.org/pandas-docs/stable/user_guide/indexing.html#returning-a-view-versus-a-copy\n",
      "  df[\"prompt1_en_roleModel_Chat_1\"][i] = isMatch\n"
     ]
    },
    {
     "name": "stdout",
     "output_type": "stream",
     "text": [
      "-->>   \n",
      "\n",
      "As an e-commerce expert, I am well-versed in the world of online shopping and product _______________\n",
      "False\n",
      "\n",
      "\n",
      "\n",
      "11\n",
      " You are an expert in e-commerce, known for consistently delivering exceptional work and being someone that people can count on.  Clients come to you throughout the day, seeking your opinion on whether two products they've found on the internet are the same in the real world. That is going to be your task for today. Good Luck! \n"
     ]
    },
    {
     "name": "stderr",
     "output_type": "stream",
     "text": [
      "/var/folders/gx/tzjwcf8x1llbhhf36mjt7xqr0000gn/T/ipykernel_86853/3089304063.py:16: SettingWithCopyWarning: \n",
      "A value is trying to be set on a copy of a slice from a DataFrame\n",
      "\n",
      "See the caveats in the documentation: https://pandas.pydata.org/pandas-docs/stable/user_guide/indexing.html#returning-a-view-versus-a-copy\n",
      "  df[\"prompt1_en_roleModel_Chat_1\"][i] = isMatch\n"
     ]
    },
    {
     "name": "stdout",
     "output_type": "stream",
     "text": [
      "-->>   \n",
      "\n",
      "As an e-commerce expert, I am well-versed in the world of online shopping and product _______________\n",
      "False\n",
      "\n",
      "\n",
      "\n",
      "12\n",
      " You are an expert in e-commerce, known for consistently delivering exceptional work and being someone that people can count on.  Clients come to you throughout the day, seeking your opinion on whether two products they've found on the internet are the same in the real world. That is going to be your task for today. Good Luck! \n"
     ]
    },
    {
     "name": "stderr",
     "output_type": "stream",
     "text": [
      "/var/folders/gx/tzjwcf8x1llbhhf36mjt7xqr0000gn/T/ipykernel_86853/3089304063.py:16: SettingWithCopyWarning: \n",
      "A value is trying to be set on a copy of a slice from a DataFrame\n",
      "\n",
      "See the caveats in the documentation: https://pandas.pydata.org/pandas-docs/stable/user_guide/indexing.html#returning-a-view-versus-a-copy\n",
      "  df[\"prompt1_en_roleModel_Chat_1\"][i] = isMatch\n"
     ]
    },
    {
     "name": "stdout",
     "output_type": "stream",
     "text": [
      "-->>   \n",
      "\n",
      "As an e-commerce expert, I am well-versed in the world of online shopping and product _______________\n",
      "False\n",
      "\n",
      "\n",
      "\n",
      "13\n",
      " You are an expert in e-commerce, known for consistently delivering exceptional work and being someone that people can count on.  Clients come to you throughout the day, seeking your opinion on whether two products they've found on the internet are the same in the real world. That is going to be your task for today. Good Luck! \n"
     ]
    },
    {
     "name": "stderr",
     "output_type": "stream",
     "text": [
      "/var/folders/gx/tzjwcf8x1llbhhf36mjt7xqr0000gn/T/ipykernel_86853/3089304063.py:16: SettingWithCopyWarning: \n",
      "A value is trying to be set on a copy of a slice from a DataFrame\n",
      "\n",
      "See the caveats in the documentation: https://pandas.pydata.org/pandas-docs/stable/user_guide/indexing.html#returning-a-view-versus-a-copy\n",
      "  df[\"prompt1_en_roleModel_Chat_1\"][i] = isMatch\n"
     ]
    },
    {
     "name": "stdout",
     "output_type": "stream",
     "text": [
      "-->>   \n",
      "\n",
      "As an e-commerce expert, I am well-versed in the world of online shopping and product _______________\n",
      "False\n",
      "\n",
      "\n",
      "\n",
      "14\n",
      " You are an expert in e-commerce, known for consistently delivering exceptional work and being someone that people can count on.  Clients come to you throughout the day, seeking your opinion on whether two products they've found on the internet are the same in the real world. That is going to be your task for today. Good Luck! \n"
     ]
    },
    {
     "name": "stderr",
     "output_type": "stream",
     "text": [
      "/var/folders/gx/tzjwcf8x1llbhhf36mjt7xqr0000gn/T/ipykernel_86853/3089304063.py:16: SettingWithCopyWarning: \n",
      "A value is trying to be set on a copy of a slice from a DataFrame\n",
      "\n",
      "See the caveats in the documentation: https://pandas.pydata.org/pandas-docs/stable/user_guide/indexing.html#returning-a-view-versus-a-copy\n",
      "  df[\"prompt1_en_roleModel_Chat_1\"][i] = isMatch\n"
     ]
    },
    {
     "name": "stdout",
     "output_type": "stream",
     "text": [
      "-->>   \n",
      "\n",
      "As an e-commerce expert, I am well-versed in the world of online shopping and product _______________\n",
      "False\n",
      "\n",
      "\n",
      "\n",
      "15\n",
      " You are an expert in e-commerce, known for consistently delivering exceptional work and being someone that people can count on.  Clients come to you throughout the day, seeking your opinion on whether two products they've found on the internet are the same in the real world. That is going to be your task for today. Good Luck! \n"
     ]
    },
    {
     "name": "stderr",
     "output_type": "stream",
     "text": [
      "/var/folders/gx/tzjwcf8x1llbhhf36mjt7xqr0000gn/T/ipykernel_86853/3089304063.py:16: SettingWithCopyWarning: \n",
      "A value is trying to be set on a copy of a slice from a DataFrame\n",
      "\n",
      "See the caveats in the documentation: https://pandas.pydata.org/pandas-docs/stable/user_guide/indexing.html#returning-a-view-versus-a-copy\n",
      "  df[\"prompt1_en_roleModel_Chat_1\"][i] = isMatch\n"
     ]
    },
    {
     "name": "stdout",
     "output_type": "stream",
     "text": [
      "-->>   \n",
      "\n",
      "As an e-commerce expert, I am well-versed in the world of online shopping and product _______________\n",
      "False\n",
      "\n",
      "\n",
      "\n",
      "16\n",
      " You are an expert in e-commerce, known for consistently delivering exceptional work and being someone that people can count on.  Clients come to you throughout the day, seeking your opinion on whether two products they've found on the internet are the same in the real world. That is going to be your task for today. Good Luck! \n"
     ]
    },
    {
     "name": "stderr",
     "output_type": "stream",
     "text": [
      "/var/folders/gx/tzjwcf8x1llbhhf36mjt7xqr0000gn/T/ipykernel_86853/3089304063.py:16: SettingWithCopyWarning: \n",
      "A value is trying to be set on a copy of a slice from a DataFrame\n",
      "\n",
      "See the caveats in the documentation: https://pandas.pydata.org/pandas-docs/stable/user_guide/indexing.html#returning-a-view-versus-a-copy\n",
      "  df[\"prompt1_en_roleModel_Chat_1\"][i] = isMatch\n"
     ]
    },
    {
     "name": "stdout",
     "output_type": "stream",
     "text": [
      "-->>   \n",
      "\n",
      "As an e-commerce expert, I am well-versed in the world of online shopping and product _______________\n",
      "False\n",
      "\n",
      "\n",
      "\n",
      "17\n",
      " You are an expert in e-commerce, known for consistently delivering exceptional work and being someone that people can count on.  Clients come to you throughout the day, seeking your opinion on whether two products they've found on the internet are the same in the real world. That is going to be your task for today. Good Luck! \n"
     ]
    },
    {
     "name": "stderr",
     "output_type": "stream",
     "text": [
      "/var/folders/gx/tzjwcf8x1llbhhf36mjt7xqr0000gn/T/ipykernel_86853/3089304063.py:16: SettingWithCopyWarning: \n",
      "A value is trying to be set on a copy of a slice from a DataFrame\n",
      "\n",
      "See the caveats in the documentation: https://pandas.pydata.org/pandas-docs/stable/user_guide/indexing.html#returning-a-view-versus-a-copy\n",
      "  df[\"prompt1_en_roleModel_Chat_1\"][i] = isMatch\n"
     ]
    },
    {
     "name": "stdout",
     "output_type": "stream",
     "text": [
      "-->>   \n",
      "\n",
      "As an e-commerce expert, I am well-versed in the world of online shopping and product _______________\n",
      "False\n",
      "\n",
      "\n",
      "\n",
      "18\n",
      " You are an expert in e-commerce, known for consistently delivering exceptional work and being someone that people can count on.  Clients come to you throughout the day, seeking your opinion on whether two products they've found on the internet are the same in the real world. That is going to be your task for today. Good Luck! \n"
     ]
    },
    {
     "name": "stderr",
     "output_type": "stream",
     "text": [
      "/var/folders/gx/tzjwcf8x1llbhhf36mjt7xqr0000gn/T/ipykernel_86853/3089304063.py:16: SettingWithCopyWarning: \n",
      "A value is trying to be set on a copy of a slice from a DataFrame\n",
      "\n",
      "See the caveats in the documentation: https://pandas.pydata.org/pandas-docs/stable/user_guide/indexing.html#returning-a-view-versus-a-copy\n",
      "  df[\"prompt1_en_roleModel_Chat_1\"][i] = isMatch\n"
     ]
    },
    {
     "name": "stdout",
     "output_type": "stream",
     "text": [
      "-->>   \n",
      "\n",
      "As an e-commerce expert, I am well-versed in the world of online shopping and product _______________\n",
      "False\n",
      "\n",
      "\n",
      "\n",
      "19\n",
      " You are an expert in e-commerce, known for consistently delivering exceptional work and being someone that people can count on.  Clients come to you throughout the day, seeking your opinion on whether two products they've found on the internet are the same in the real world. That is going to be your task for today. Good Luck! \n"
     ]
    },
    {
     "name": "stderr",
     "output_type": "stream",
     "text": [
      "/var/folders/gx/tzjwcf8x1llbhhf36mjt7xqr0000gn/T/ipykernel_86853/3089304063.py:16: SettingWithCopyWarning: \n",
      "A value is trying to be set on a copy of a slice from a DataFrame\n",
      "\n",
      "See the caveats in the documentation: https://pandas.pydata.org/pandas-docs/stable/user_guide/indexing.html#returning-a-view-versus-a-copy\n",
      "  df[\"prompt1_en_roleModel_Chat_1\"][i] = isMatch\n"
     ]
    },
    {
     "name": "stdout",
     "output_type": "stream",
     "text": [
      "-->>   \n",
      "\n",
      "As an e-commerce expert, I am well-versed in the world of online shopping and product _______________\n",
      "False\n",
      "\n",
      "\n",
      "\n",
      "20\n",
      " You are an expert in e-commerce, known for consistently delivering exceptional work and being someone that people can count on.  Clients come to you throughout the day, seeking your opinion on whether two products they've found on the internet are the same in the real world. That is going to be your task for today. Good Luck! \n"
     ]
    },
    {
     "name": "stderr",
     "output_type": "stream",
     "text": [
      "/var/folders/gx/tzjwcf8x1llbhhf36mjt7xqr0000gn/T/ipykernel_86853/3089304063.py:16: SettingWithCopyWarning: \n",
      "A value is trying to be set on a copy of a slice from a DataFrame\n",
      "\n",
      "See the caveats in the documentation: https://pandas.pydata.org/pandas-docs/stable/user_guide/indexing.html#returning-a-view-versus-a-copy\n",
      "  df[\"prompt1_en_roleModel_Chat_1\"][i] = isMatch\n"
     ]
    },
    {
     "name": "stdout",
     "output_type": "stream",
     "text": [
      "-->>   \n",
      "\n",
      "As an e-commerce expert, I am well-versed in the world of online shopping and product _______________\n",
      "False\n",
      "\n",
      "\n",
      "\n",
      "21\n",
      " You are an expert in e-commerce, known for consistently delivering exceptional work and being someone that people can count on.  Clients come to you throughout the day, seeking your opinion on whether two products they've found on the internet are the same in the real world. That is going to be your task for today. Good Luck! \n"
     ]
    },
    {
     "name": "stderr",
     "output_type": "stream",
     "text": [
      "/var/folders/gx/tzjwcf8x1llbhhf36mjt7xqr0000gn/T/ipykernel_86853/3089304063.py:16: SettingWithCopyWarning: \n",
      "A value is trying to be set on a copy of a slice from a DataFrame\n",
      "\n",
      "See the caveats in the documentation: https://pandas.pydata.org/pandas-docs/stable/user_guide/indexing.html#returning-a-view-versus-a-copy\n",
      "  df[\"prompt1_en_roleModel_Chat_1\"][i] = isMatch\n"
     ]
    },
    {
     "ename": "KeyboardInterrupt",
     "evalue": "",
     "output_type": "error",
     "traceback": [
      "\u001b[0;31m---------------------------------------------------------------------------\u001b[0m",
      "\u001b[0;31mKeyboardInterrupt\u001b[0m                         Traceback (most recent call last)",
      "Cell \u001b[0;32mIn[117], line 8\u001b[0m\n\u001b[1;32m      5\u001b[0m pre_prompt \u001b[39m=\u001b[39m prepare_prompt(df, i, \u001b[39m\"\"\"\u001b[39m\u001b[39m You are an expert in e-commerce, known for consistently delivering exceptional work and being someone that people can count on.  Clients come to you throughout the day, seeking your opinion on whether two products they\u001b[39m\u001b[39m'\u001b[39m\u001b[39mve found on the internet are the same in the real world. That is going to be your task for today. Good Luck! \u001b[39m\u001b[39m\"\"\"\u001b[39m)\n\u001b[1;32m      6\u001b[0m \u001b[39mprint\u001b[39m(pre_prompt)\n\u001b[0;32m----> 8\u001b[0m resp \u001b[39m=\u001b[39m llm_request(pre_prompt, \u001b[39m0\u001b[39;49m)[\u001b[39m\"\u001b[39m\u001b[39mchoices\u001b[39m\u001b[39m\"\u001b[39m][\u001b[39m0\u001b[39m][\u001b[39m\"\u001b[39m\u001b[39mtext\u001b[39m\u001b[39m\"\u001b[39m]\n\u001b[1;32m      9\u001b[0m \u001b[39mprint\u001b[39m(\u001b[39m\"\u001b[39m\u001b[39m-->>  \u001b[39m\u001b[39m\"\u001b[39m, resp, \u001b[39m\"\u001b[39m\u001b[39m_______________\u001b[39m\u001b[39m\"\u001b[39m)\n\u001b[1;32m     11\u001b[0m isMatch \u001b[39m=\u001b[39m \u001b[39mFalse\u001b[39;00m\n",
      "Cell \u001b[0;32mIn[108], line 2\u001b[0m, in \u001b[0;36mllm_request\u001b[0;34m(question, temp)\u001b[0m\n\u001b[1;32m      1\u001b[0m \u001b[39mdef\u001b[39;00m \u001b[39mllm_request\u001b[39m(question, temp):\n\u001b[0;32m----> 2\u001b[0m     response \u001b[39m=\u001b[39m openai\u001b[39m.\u001b[39;49mCompletion\u001b[39m.\u001b[39;49mcreate(\n\u001b[1;32m      3\u001b[0m     model\u001b[39m=\u001b[39;49m\u001b[39m\"\u001b[39;49m\u001b[39mgpt-3.5-turbo-instruct\u001b[39;49m\u001b[39m\"\u001b[39;49m,\n\u001b[1;32m      4\u001b[0m     prompt\u001b[39m=\u001b[39;49mquestion, \n\u001b[1;32m      5\u001b[0m     temperature\u001b[39m=\u001b[39;49mtemp,\n\u001b[1;32m      6\u001b[0m     max_tokens\u001b[39m=\u001b[39;49m\u001b[39m20\u001b[39;49m,\n\u001b[1;32m      7\u001b[0m     top_p\u001b[39m=\u001b[39;49m\u001b[39m0\u001b[39;49m,\n\u001b[1;32m      8\u001b[0m     frequency_penalty\u001b[39m=\u001b[39;49m\u001b[39m0\u001b[39;49m,\n\u001b[1;32m      9\u001b[0m     presence_penalty\u001b[39m=\u001b[39;49m\u001b[39m0\u001b[39;49m\n\u001b[1;32m     10\u001b[0m     )\n\u001b[1;32m     11\u001b[0m     \u001b[39mreturn\u001b[39;00m response\n",
      "File \u001b[0;32m~/github.com/Entity-Matching-With-LLMs/.venv/lib/python3.9/site-packages/openai/api_resources/completion.py:25\u001b[0m, in \u001b[0;36mCompletion.create\u001b[0;34m(cls, *args, **kwargs)\u001b[0m\n\u001b[1;32m     23\u001b[0m \u001b[39mwhile\u001b[39;00m \u001b[39mTrue\u001b[39;00m:\n\u001b[1;32m     24\u001b[0m     \u001b[39mtry\u001b[39;00m:\n\u001b[0;32m---> 25\u001b[0m         \u001b[39mreturn\u001b[39;00m \u001b[39msuper\u001b[39;49m()\u001b[39m.\u001b[39;49mcreate(\u001b[39m*\u001b[39;49margs, \u001b[39m*\u001b[39;49m\u001b[39m*\u001b[39;49mkwargs)\n\u001b[1;32m     26\u001b[0m     \u001b[39mexcept\u001b[39;00m TryAgain \u001b[39mas\u001b[39;00m e:\n\u001b[1;32m     27\u001b[0m         \u001b[39mif\u001b[39;00m timeout \u001b[39mis\u001b[39;00m \u001b[39mnot\u001b[39;00m \u001b[39mNone\u001b[39;00m \u001b[39mand\u001b[39;00m time\u001b[39m.\u001b[39mtime() \u001b[39m>\u001b[39m start \u001b[39m+\u001b[39m timeout:\n",
      "File \u001b[0;32m~/github.com/Entity-Matching-With-LLMs/.venv/lib/python3.9/site-packages/openai/api_resources/abstract/engine_api_resource.py:153\u001b[0m, in \u001b[0;36mEngineAPIResource.create\u001b[0;34m(cls, api_key, api_base, api_type, request_id, api_version, organization, **params)\u001b[0m\n\u001b[1;32m    127\u001b[0m \u001b[39m@classmethod\u001b[39m\n\u001b[1;32m    128\u001b[0m \u001b[39mdef\u001b[39;00m \u001b[39mcreate\u001b[39m(\n\u001b[1;32m    129\u001b[0m     \u001b[39mcls\u001b[39m,\n\u001b[0;32m   (...)\u001b[0m\n\u001b[1;32m    136\u001b[0m     \u001b[39m*\u001b[39m\u001b[39m*\u001b[39mparams,\n\u001b[1;32m    137\u001b[0m ):\n\u001b[1;32m    138\u001b[0m     (\n\u001b[1;32m    139\u001b[0m         deployment_id,\n\u001b[1;32m    140\u001b[0m         engine,\n\u001b[0;32m   (...)\u001b[0m\n\u001b[1;32m    150\u001b[0m         api_key, api_base, api_type, api_version, organization, \u001b[39m*\u001b[39m\u001b[39m*\u001b[39mparams\n\u001b[1;32m    151\u001b[0m     )\n\u001b[0;32m--> 153\u001b[0m     response, _, api_key \u001b[39m=\u001b[39m requestor\u001b[39m.\u001b[39;49mrequest(\n\u001b[1;32m    154\u001b[0m         \u001b[39m\"\u001b[39;49m\u001b[39mpost\u001b[39;49m\u001b[39m\"\u001b[39;49m,\n\u001b[1;32m    155\u001b[0m         url,\n\u001b[1;32m    156\u001b[0m         params\u001b[39m=\u001b[39;49mparams,\n\u001b[1;32m    157\u001b[0m         headers\u001b[39m=\u001b[39;49mheaders,\n\u001b[1;32m    158\u001b[0m         stream\u001b[39m=\u001b[39;49mstream,\n\u001b[1;32m    159\u001b[0m         request_id\u001b[39m=\u001b[39;49mrequest_id,\n\u001b[1;32m    160\u001b[0m         request_timeout\u001b[39m=\u001b[39;49mrequest_timeout,\n\u001b[1;32m    161\u001b[0m     )\n\u001b[1;32m    163\u001b[0m     \u001b[39mif\u001b[39;00m stream:\n\u001b[1;32m    164\u001b[0m         \u001b[39m# must be an iterator\u001b[39;00m\n\u001b[1;32m    165\u001b[0m         \u001b[39massert\u001b[39;00m \u001b[39mnot\u001b[39;00m \u001b[39misinstance\u001b[39m(response, OpenAIResponse)\n",
      "File \u001b[0;32m~/github.com/Entity-Matching-With-LLMs/.venv/lib/python3.9/site-packages/openai/api_requestor.py:288\u001b[0m, in \u001b[0;36mAPIRequestor.request\u001b[0;34m(self, method, url, params, headers, files, stream, request_id, request_timeout)\u001b[0m\n\u001b[1;32m    277\u001b[0m \u001b[39mdef\u001b[39;00m \u001b[39mrequest\u001b[39m(\n\u001b[1;32m    278\u001b[0m     \u001b[39mself\u001b[39m,\n\u001b[1;32m    279\u001b[0m     method,\n\u001b[0;32m   (...)\u001b[0m\n\u001b[1;32m    286\u001b[0m     request_timeout: Optional[Union[\u001b[39mfloat\u001b[39m, Tuple[\u001b[39mfloat\u001b[39m, \u001b[39mfloat\u001b[39m]]] \u001b[39m=\u001b[39m \u001b[39mNone\u001b[39;00m,\n\u001b[1;32m    287\u001b[0m ) \u001b[39m-\u001b[39m\u001b[39m>\u001b[39m Tuple[Union[OpenAIResponse, Iterator[OpenAIResponse]], \u001b[39mbool\u001b[39m, \u001b[39mstr\u001b[39m]:\n\u001b[0;32m--> 288\u001b[0m     result \u001b[39m=\u001b[39m \u001b[39mself\u001b[39;49m\u001b[39m.\u001b[39;49mrequest_raw(\n\u001b[1;32m    289\u001b[0m         method\u001b[39m.\u001b[39;49mlower(),\n\u001b[1;32m    290\u001b[0m         url,\n\u001b[1;32m    291\u001b[0m         params\u001b[39m=\u001b[39;49mparams,\n\u001b[1;32m    292\u001b[0m         supplied_headers\u001b[39m=\u001b[39;49mheaders,\n\u001b[1;32m    293\u001b[0m         files\u001b[39m=\u001b[39;49mfiles,\n\u001b[1;32m    294\u001b[0m         stream\u001b[39m=\u001b[39;49mstream,\n\u001b[1;32m    295\u001b[0m         request_id\u001b[39m=\u001b[39;49mrequest_id,\n\u001b[1;32m    296\u001b[0m         request_timeout\u001b[39m=\u001b[39;49mrequest_timeout,\n\u001b[1;32m    297\u001b[0m     )\n\u001b[1;32m    298\u001b[0m     resp, got_stream \u001b[39m=\u001b[39m \u001b[39mself\u001b[39m\u001b[39m.\u001b[39m_interpret_response(result, stream)\n\u001b[1;32m    299\u001b[0m     \u001b[39mreturn\u001b[39;00m resp, got_stream, \u001b[39mself\u001b[39m\u001b[39m.\u001b[39mapi_key\n",
      "File \u001b[0;32m~/github.com/Entity-Matching-With-LLMs/.venv/lib/python3.9/site-packages/openai/api_requestor.py:596\u001b[0m, in \u001b[0;36mAPIRequestor.request_raw\u001b[0;34m(self, method, url, params, supplied_headers, files, stream, request_id, request_timeout)\u001b[0m\n\u001b[1;32m    594\u001b[0m     _thread_context\u001b[39m.\u001b[39msession_create_time \u001b[39m=\u001b[39m time\u001b[39m.\u001b[39mtime()\n\u001b[1;32m    595\u001b[0m \u001b[39mtry\u001b[39;00m:\n\u001b[0;32m--> 596\u001b[0m     result \u001b[39m=\u001b[39m _thread_context\u001b[39m.\u001b[39;49msession\u001b[39m.\u001b[39;49mrequest(\n\u001b[1;32m    597\u001b[0m         method,\n\u001b[1;32m    598\u001b[0m         abs_url,\n\u001b[1;32m    599\u001b[0m         headers\u001b[39m=\u001b[39;49mheaders,\n\u001b[1;32m    600\u001b[0m         data\u001b[39m=\u001b[39;49mdata,\n\u001b[1;32m    601\u001b[0m         files\u001b[39m=\u001b[39;49mfiles,\n\u001b[1;32m    602\u001b[0m         stream\u001b[39m=\u001b[39;49mstream,\n\u001b[1;32m    603\u001b[0m         timeout\u001b[39m=\u001b[39;49mrequest_timeout \u001b[39mif\u001b[39;49;00m request_timeout \u001b[39melse\u001b[39;49;00m TIMEOUT_SECS,\n\u001b[1;32m    604\u001b[0m         proxies\u001b[39m=\u001b[39;49m_thread_context\u001b[39m.\u001b[39;49msession\u001b[39m.\u001b[39;49mproxies,\n\u001b[1;32m    605\u001b[0m     )\n\u001b[1;32m    606\u001b[0m \u001b[39mexcept\u001b[39;00m requests\u001b[39m.\u001b[39mexceptions\u001b[39m.\u001b[39mTimeout \u001b[39mas\u001b[39;00m e:\n\u001b[1;32m    607\u001b[0m     \u001b[39mraise\u001b[39;00m error\u001b[39m.\u001b[39mTimeout(\u001b[39m\"\u001b[39m\u001b[39mRequest timed out: \u001b[39m\u001b[39m{}\u001b[39;00m\u001b[39m\"\u001b[39m\u001b[39m.\u001b[39mformat(e)) \u001b[39mfrom\u001b[39;00m \u001b[39me\u001b[39;00m\n",
      "File \u001b[0;32m~/github.com/Entity-Matching-With-LLMs/.venv/lib/python3.9/site-packages/requests/sessions.py:589\u001b[0m, in \u001b[0;36mSession.request\u001b[0;34m(self, method, url, params, data, headers, cookies, files, auth, timeout, allow_redirects, proxies, hooks, stream, verify, cert, json)\u001b[0m\n\u001b[1;32m    584\u001b[0m send_kwargs \u001b[39m=\u001b[39m {\n\u001b[1;32m    585\u001b[0m     \u001b[39m\"\u001b[39m\u001b[39mtimeout\u001b[39m\u001b[39m\"\u001b[39m: timeout,\n\u001b[1;32m    586\u001b[0m     \u001b[39m\"\u001b[39m\u001b[39mallow_redirects\u001b[39m\u001b[39m\"\u001b[39m: allow_redirects,\n\u001b[1;32m    587\u001b[0m }\n\u001b[1;32m    588\u001b[0m send_kwargs\u001b[39m.\u001b[39mupdate(settings)\n\u001b[0;32m--> 589\u001b[0m resp \u001b[39m=\u001b[39m \u001b[39mself\u001b[39;49m\u001b[39m.\u001b[39;49msend(prep, \u001b[39m*\u001b[39;49m\u001b[39m*\u001b[39;49msend_kwargs)\n\u001b[1;32m    591\u001b[0m \u001b[39mreturn\u001b[39;00m resp\n",
      "File \u001b[0;32m~/github.com/Entity-Matching-With-LLMs/.venv/lib/python3.9/site-packages/requests/sessions.py:703\u001b[0m, in \u001b[0;36mSession.send\u001b[0;34m(self, request, **kwargs)\u001b[0m\n\u001b[1;32m    700\u001b[0m start \u001b[39m=\u001b[39m preferred_clock()\n\u001b[1;32m    702\u001b[0m \u001b[39m# Send the request\u001b[39;00m\n\u001b[0;32m--> 703\u001b[0m r \u001b[39m=\u001b[39m adapter\u001b[39m.\u001b[39;49msend(request, \u001b[39m*\u001b[39;49m\u001b[39m*\u001b[39;49mkwargs)\n\u001b[1;32m    705\u001b[0m \u001b[39m# Total elapsed time of the request (approximately)\u001b[39;00m\n\u001b[1;32m    706\u001b[0m elapsed \u001b[39m=\u001b[39m preferred_clock() \u001b[39m-\u001b[39m start\n",
      "File \u001b[0;32m~/github.com/Entity-Matching-With-LLMs/.venv/lib/python3.9/site-packages/requests/adapters.py:486\u001b[0m, in \u001b[0;36mHTTPAdapter.send\u001b[0;34m(self, request, stream, timeout, verify, cert, proxies)\u001b[0m\n\u001b[1;32m    483\u001b[0m     timeout \u001b[39m=\u001b[39m TimeoutSauce(connect\u001b[39m=\u001b[39mtimeout, read\u001b[39m=\u001b[39mtimeout)\n\u001b[1;32m    485\u001b[0m \u001b[39mtry\u001b[39;00m:\n\u001b[0;32m--> 486\u001b[0m     resp \u001b[39m=\u001b[39m conn\u001b[39m.\u001b[39;49murlopen(\n\u001b[1;32m    487\u001b[0m         method\u001b[39m=\u001b[39;49mrequest\u001b[39m.\u001b[39;49mmethod,\n\u001b[1;32m    488\u001b[0m         url\u001b[39m=\u001b[39;49murl,\n\u001b[1;32m    489\u001b[0m         body\u001b[39m=\u001b[39;49mrequest\u001b[39m.\u001b[39;49mbody,\n\u001b[1;32m    490\u001b[0m         headers\u001b[39m=\u001b[39;49mrequest\u001b[39m.\u001b[39;49mheaders,\n\u001b[1;32m    491\u001b[0m         redirect\u001b[39m=\u001b[39;49m\u001b[39mFalse\u001b[39;49;00m,\n\u001b[1;32m    492\u001b[0m         assert_same_host\u001b[39m=\u001b[39;49m\u001b[39mFalse\u001b[39;49;00m,\n\u001b[1;32m    493\u001b[0m         preload_content\u001b[39m=\u001b[39;49m\u001b[39mFalse\u001b[39;49;00m,\n\u001b[1;32m    494\u001b[0m         decode_content\u001b[39m=\u001b[39;49m\u001b[39mFalse\u001b[39;49;00m,\n\u001b[1;32m    495\u001b[0m         retries\u001b[39m=\u001b[39;49m\u001b[39mself\u001b[39;49m\u001b[39m.\u001b[39;49mmax_retries,\n\u001b[1;32m    496\u001b[0m         timeout\u001b[39m=\u001b[39;49mtimeout,\n\u001b[1;32m    497\u001b[0m         chunked\u001b[39m=\u001b[39;49mchunked,\n\u001b[1;32m    498\u001b[0m     )\n\u001b[1;32m    500\u001b[0m \u001b[39mexcept\u001b[39;00m (ProtocolError, \u001b[39mOSError\u001b[39;00m) \u001b[39mas\u001b[39;00m err:\n\u001b[1;32m    501\u001b[0m     \u001b[39mraise\u001b[39;00m \u001b[39mConnectionError\u001b[39;00m(err, request\u001b[39m=\u001b[39mrequest)\n",
      "File \u001b[0;32m~/github.com/Entity-Matching-With-LLMs/.venv/lib/python3.9/site-packages/urllib3/connectionpool.py:790\u001b[0m, in \u001b[0;36mHTTPConnectionPool.urlopen\u001b[0;34m(self, method, url, body, headers, retries, redirect, assert_same_host, timeout, pool_timeout, release_conn, chunked, body_pos, preload_content, decode_content, **response_kw)\u001b[0m\n\u001b[1;32m    787\u001b[0m response_conn \u001b[39m=\u001b[39m conn \u001b[39mif\u001b[39;00m \u001b[39mnot\u001b[39;00m release_conn \u001b[39melse\u001b[39;00m \u001b[39mNone\u001b[39;00m\n\u001b[1;32m    789\u001b[0m \u001b[39m# Make the request on the HTTPConnection object\u001b[39;00m\n\u001b[0;32m--> 790\u001b[0m response \u001b[39m=\u001b[39m \u001b[39mself\u001b[39;49m\u001b[39m.\u001b[39;49m_make_request(\n\u001b[1;32m    791\u001b[0m     conn,\n\u001b[1;32m    792\u001b[0m     method,\n\u001b[1;32m    793\u001b[0m     url,\n\u001b[1;32m    794\u001b[0m     timeout\u001b[39m=\u001b[39;49mtimeout_obj,\n\u001b[1;32m    795\u001b[0m     body\u001b[39m=\u001b[39;49mbody,\n\u001b[1;32m    796\u001b[0m     headers\u001b[39m=\u001b[39;49mheaders,\n\u001b[1;32m    797\u001b[0m     chunked\u001b[39m=\u001b[39;49mchunked,\n\u001b[1;32m    798\u001b[0m     retries\u001b[39m=\u001b[39;49mretries,\n\u001b[1;32m    799\u001b[0m     response_conn\u001b[39m=\u001b[39;49mresponse_conn,\n\u001b[1;32m    800\u001b[0m     preload_content\u001b[39m=\u001b[39;49mpreload_content,\n\u001b[1;32m    801\u001b[0m     decode_content\u001b[39m=\u001b[39;49mdecode_content,\n\u001b[1;32m    802\u001b[0m     \u001b[39m*\u001b[39;49m\u001b[39m*\u001b[39;49mresponse_kw,\n\u001b[1;32m    803\u001b[0m )\n\u001b[1;32m    805\u001b[0m \u001b[39m# Everything went great!\u001b[39;00m\n\u001b[1;32m    806\u001b[0m clean_exit \u001b[39m=\u001b[39m \u001b[39mTrue\u001b[39;00m\n",
      "File \u001b[0;32m~/github.com/Entity-Matching-With-LLMs/.venv/lib/python3.9/site-packages/urllib3/connectionpool.py:536\u001b[0m, in \u001b[0;36mHTTPConnectionPool._make_request\u001b[0;34m(self, conn, method, url, body, headers, retries, timeout, chunked, response_conn, preload_content, decode_content, enforce_content_length)\u001b[0m\n\u001b[1;32m    534\u001b[0m \u001b[39m# Receive the response from the server\u001b[39;00m\n\u001b[1;32m    535\u001b[0m \u001b[39mtry\u001b[39;00m:\n\u001b[0;32m--> 536\u001b[0m     response \u001b[39m=\u001b[39m conn\u001b[39m.\u001b[39;49mgetresponse()\n\u001b[1;32m    537\u001b[0m \u001b[39mexcept\u001b[39;00m (BaseSSLError, \u001b[39mOSError\u001b[39;00m) \u001b[39mas\u001b[39;00m e:\n\u001b[1;32m    538\u001b[0m     \u001b[39mself\u001b[39m\u001b[39m.\u001b[39m_raise_timeout(err\u001b[39m=\u001b[39me, url\u001b[39m=\u001b[39murl, timeout_value\u001b[39m=\u001b[39mread_timeout)\n",
      "File \u001b[0;32m~/github.com/Entity-Matching-With-LLMs/.venv/lib/python3.9/site-packages/urllib3/connection.py:461\u001b[0m, in \u001b[0;36mHTTPConnection.getresponse\u001b[0;34m(self)\u001b[0m\n\u001b[1;32m    458\u001b[0m \u001b[39mfrom\u001b[39;00m \u001b[39m.\u001b[39;00m\u001b[39mresponse\u001b[39;00m \u001b[39mimport\u001b[39;00m HTTPResponse\n\u001b[1;32m    460\u001b[0m \u001b[39m# Get the response from http.client.HTTPConnection\u001b[39;00m\n\u001b[0;32m--> 461\u001b[0m httplib_response \u001b[39m=\u001b[39m \u001b[39msuper\u001b[39;49m()\u001b[39m.\u001b[39;49mgetresponse()\n\u001b[1;32m    463\u001b[0m \u001b[39mtry\u001b[39;00m:\n\u001b[1;32m    464\u001b[0m     assert_header_parsing(httplib_response\u001b[39m.\u001b[39mmsg)\n",
      "File \u001b[0;32m~/.pyenv/versions/3.9.16/lib/python3.9/http/client.py:1377\u001b[0m, in \u001b[0;36mHTTPConnection.getresponse\u001b[0;34m(self)\u001b[0m\n\u001b[1;32m   1375\u001b[0m \u001b[39mtry\u001b[39;00m:\n\u001b[1;32m   1376\u001b[0m     \u001b[39mtry\u001b[39;00m:\n\u001b[0;32m-> 1377\u001b[0m         response\u001b[39m.\u001b[39;49mbegin()\n\u001b[1;32m   1378\u001b[0m     \u001b[39mexcept\u001b[39;00m \u001b[39mConnectionError\u001b[39;00m:\n\u001b[1;32m   1379\u001b[0m         \u001b[39mself\u001b[39m\u001b[39m.\u001b[39mclose()\n",
      "File \u001b[0;32m~/.pyenv/versions/3.9.16/lib/python3.9/http/client.py:320\u001b[0m, in \u001b[0;36mHTTPResponse.begin\u001b[0;34m(self)\u001b[0m\n\u001b[1;32m    318\u001b[0m \u001b[39m# read until we get a non-100 response\u001b[39;00m\n\u001b[1;32m    319\u001b[0m \u001b[39mwhile\u001b[39;00m \u001b[39mTrue\u001b[39;00m:\n\u001b[0;32m--> 320\u001b[0m     version, status, reason \u001b[39m=\u001b[39m \u001b[39mself\u001b[39;49m\u001b[39m.\u001b[39;49m_read_status()\n\u001b[1;32m    321\u001b[0m     \u001b[39mif\u001b[39;00m status \u001b[39m!=\u001b[39m CONTINUE:\n\u001b[1;32m    322\u001b[0m         \u001b[39mbreak\u001b[39;00m\n",
      "File \u001b[0;32m~/.pyenv/versions/3.9.16/lib/python3.9/http/client.py:281\u001b[0m, in \u001b[0;36mHTTPResponse._read_status\u001b[0;34m(self)\u001b[0m\n\u001b[1;32m    280\u001b[0m \u001b[39mdef\u001b[39;00m \u001b[39m_read_status\u001b[39m(\u001b[39mself\u001b[39m):\n\u001b[0;32m--> 281\u001b[0m     line \u001b[39m=\u001b[39m \u001b[39mstr\u001b[39m(\u001b[39mself\u001b[39;49m\u001b[39m.\u001b[39;49mfp\u001b[39m.\u001b[39;49mreadline(_MAXLINE \u001b[39m+\u001b[39;49m \u001b[39m1\u001b[39;49m), \u001b[39m\"\u001b[39m\u001b[39miso-8859-1\u001b[39m\u001b[39m\"\u001b[39m)\n\u001b[1;32m    282\u001b[0m     \u001b[39mif\u001b[39;00m \u001b[39mlen\u001b[39m(line) \u001b[39m>\u001b[39m _MAXLINE:\n\u001b[1;32m    283\u001b[0m         \u001b[39mraise\u001b[39;00m LineTooLong(\u001b[39m\"\u001b[39m\u001b[39mstatus line\u001b[39m\u001b[39m\"\u001b[39m)\n",
      "File \u001b[0;32m~/.pyenv/versions/3.9.16/lib/python3.9/socket.py:704\u001b[0m, in \u001b[0;36mSocketIO.readinto\u001b[0;34m(self, b)\u001b[0m\n\u001b[1;32m    702\u001b[0m \u001b[39mwhile\u001b[39;00m \u001b[39mTrue\u001b[39;00m:\n\u001b[1;32m    703\u001b[0m     \u001b[39mtry\u001b[39;00m:\n\u001b[0;32m--> 704\u001b[0m         \u001b[39mreturn\u001b[39;00m \u001b[39mself\u001b[39;49m\u001b[39m.\u001b[39;49m_sock\u001b[39m.\u001b[39;49mrecv_into(b)\n\u001b[1;32m    705\u001b[0m     \u001b[39mexcept\u001b[39;00m timeout:\n\u001b[1;32m    706\u001b[0m         \u001b[39mself\u001b[39m\u001b[39m.\u001b[39m_timeout_occurred \u001b[39m=\u001b[39m \u001b[39mTrue\u001b[39;00m\n",
      "File \u001b[0;32m~/.pyenv/versions/3.9.16/lib/python3.9/ssl.py:1242\u001b[0m, in \u001b[0;36mSSLSocket.recv_into\u001b[0;34m(self, buffer, nbytes, flags)\u001b[0m\n\u001b[1;32m   1238\u001b[0m     \u001b[39mif\u001b[39;00m flags \u001b[39m!=\u001b[39m \u001b[39m0\u001b[39m:\n\u001b[1;32m   1239\u001b[0m         \u001b[39mraise\u001b[39;00m \u001b[39mValueError\u001b[39;00m(\n\u001b[1;32m   1240\u001b[0m           \u001b[39m\"\u001b[39m\u001b[39mnon-zero flags not allowed in calls to recv_into() on \u001b[39m\u001b[39m%s\u001b[39;00m\u001b[39m\"\u001b[39m \u001b[39m%\u001b[39m\n\u001b[1;32m   1241\u001b[0m           \u001b[39mself\u001b[39m\u001b[39m.\u001b[39m\u001b[39m__class__\u001b[39m)\n\u001b[0;32m-> 1242\u001b[0m     \u001b[39mreturn\u001b[39;00m \u001b[39mself\u001b[39;49m\u001b[39m.\u001b[39;49mread(nbytes, buffer)\n\u001b[1;32m   1243\u001b[0m \u001b[39melse\u001b[39;00m:\n\u001b[1;32m   1244\u001b[0m     \u001b[39mreturn\u001b[39;00m \u001b[39msuper\u001b[39m()\u001b[39m.\u001b[39mrecv_into(buffer, nbytes, flags)\n",
      "File \u001b[0;32m~/.pyenv/versions/3.9.16/lib/python3.9/ssl.py:1100\u001b[0m, in \u001b[0;36mSSLSocket.read\u001b[0;34m(self, len, buffer)\u001b[0m\n\u001b[1;32m   1098\u001b[0m \u001b[39mtry\u001b[39;00m:\n\u001b[1;32m   1099\u001b[0m     \u001b[39mif\u001b[39;00m buffer \u001b[39mis\u001b[39;00m \u001b[39mnot\u001b[39;00m \u001b[39mNone\u001b[39;00m:\n\u001b[0;32m-> 1100\u001b[0m         \u001b[39mreturn\u001b[39;00m \u001b[39mself\u001b[39;49m\u001b[39m.\u001b[39;49m_sslobj\u001b[39m.\u001b[39;49mread(\u001b[39mlen\u001b[39;49m, buffer)\n\u001b[1;32m   1101\u001b[0m     \u001b[39melse\u001b[39;00m:\n\u001b[1;32m   1102\u001b[0m         \u001b[39mreturn\u001b[39;00m \u001b[39mself\u001b[39m\u001b[39m.\u001b[39m_sslobj\u001b[39m.\u001b[39mread(\u001b[39mlen\u001b[39m)\n",
      "\u001b[0;31mKeyboardInterrupt\u001b[0m: "
     ]
    }
   ],
   "source": [
    "for i in range(len(df)):\n",
    "    \n",
    "    \n",
    "    print(i)\n",
    "    pre_prompt = prepare_prompt(df, i, \"\"\" You are an expert in e-commerce, known for consistently delivering exceptional work and being someone that people can count on.  Clients come to you throughout the day, seeking your opinion on whether two products they've found on the internet are the same in the real world. That is going to be your task for today. Good Luck! \"\"\")\n",
    "    print(pre_prompt)\n",
    "    \n",
    "    resp = llm_request(pre_prompt, 0)[\"choices\"][0][\"text\"]\n",
    "    print(\"-->>  \", resp, \"_______________\")\n",
    "    \n",
    "    isMatch = False\n",
    "    if(\"Yes\" in resp):\n",
    "        isMatch = True\n",
    "    print(isMatch)\n",
    "    \n",
    "    df[\"prompt1_en_roleModel_Chat_1\"][i] = isMatch\n",
    "    print(\"\\n\\n\")\n",
    "    i = i + 1"
   ]
  },
  {
   "cell_type": "code",
   "execution_count": null,
   "id": "0fe3931c",
   "metadata": {
    "scrolled": true
   },
   "outputs": [],
   "source": [
    "def evaluate(df, prompt, temp, i = 0):\n",
    "    for i in range(len(df)):\n",
    "        print(i)\n",
    "        # Creating Prompot and sending request and printing informations\n",
    "        prepared_prompt = prepare_prompt(df, i, prompt)\n",
    "        print(\"Hallo::\", str(i), prepare_prompt)\n",
    "        response = llm_request(prepared_prompt, temp)\n",
    "        result = response[\"choices\"][0][\"text\"]\n",
    "        if(i < 5):\n",
    "            print(prepared_prompt)\n",
    "            print(\"__\\n__\")\n",
    "        \n",
    "        print(result)\n",
    "        #Processing Response\n",
    "        isMatch = False\n",
    "        if  \"No\" in result:\n",
    "            isMatch = False\n",
    "        else:\n",
    "            if (\"Yes\" in result):\n",
    "                isMatch = True\n",
    "        \n",
    "        print(\"isMatch\", str(isMatch))\n",
    "        df[\"prompt_ralph_1_t0\"][i] = isMatch\n",
    "        saveResponse(prompt, response, isMatch)\n",
    "\n",
    "            "
   ]
  },
  {
   "cell_type": "code",
   "execution_count": null,
   "id": "1bc54828",
   "metadata": {},
   "outputs": [],
   "source": [
    "evaluate(df, \"\"\" You are an expert in e-commerce, known for consistently delivering exceptional work and being someone that people can count on.  Clients come to you throughout the day, seeking your opinion on whether two products they've found on the internet are the same in the real world. That is going to be your task for today. Good Luck! \"\"\", temp=0)"
   ]
  },
  {
   "cell_type": "code",
   "execution_count": null,
   "id": "72d2920b",
   "metadata": {},
   "outputs": [],
   "source": [
    "# df_response_ralph_1_t0 = pd.DataFrame(columns=[\"prompt\", \"response\", \"isMatch\"])\n",
    "\n",
    "# def saveResponse(prompt, response, isMatch):\n",
    "#     global df_response_ralph_1_t0\n",
    "#     df_response_ralph_1_t0 = df_response_ralph_1_t0.append({\"prompt\": prompt, \"response\": response, \"isMatch\": isMatch}, ignore_index=True)"
   ]
  },
  {
   "cell_type": "code",
   "execution_count": null,
   "id": "27545bb0",
   "metadata": {},
   "outputs": [],
   "source": [
    "# df_response_ralph_1_t0"
   ]
  },
  {
   "cell_type": "code",
   "execution_count": null,
   "id": "84f666ae",
   "metadata": {
    "scrolled": true
   },
   "outputs": [],
   "source": [
    "df.to_csv(DATAPATH)"
   ]
  }
 ],
 "metadata": {
  "kernelspec": {
   "display_name": "Python 3 (ipykernel)",
   "language": "python",
   "name": "python3"
  },
  "language_info": {
   "codemirror_mode": {
    "name": "ipython",
    "version": 3
   },
   "file_extension": ".py",
   "mimetype": "text/x-python",
   "name": "python",
   "nbconvert_exporter": "python",
   "pygments_lexer": "ipython3",
   "version": "3.9.16"
  }
 },
 "nbformat": 4,
 "nbformat_minor": 5
}
