{
 "cells": [
  {
   "cell_type": "code",
   "execution_count": 39,
   "metadata": {},
   "outputs": [],
   "source": [
    "import pandas as pd\n",
    "from langchain.chat_models import ChatOpenAI\n",
    "from dotenv import load_dotenv\n",
    "import os\n",
    "load_dotenv()\n",
    "from langchain.chains import LLMChain, SequentialChain\n",
    "from langchain.memory import ChatMessageHistory\n",
    "import json\n",
    "from langchain.prompts import PromptTemplate\n",
    "from langchain.schema import SystemMessage\n",
    "from langchain.prompts import (\n",
    "    ChatPromptTemplate,\n",
    "    HumanMessagePromptTemplate,\n",
    "    MessagesPlaceholder,\n",
    ")\n",
    "from langchain.memory import ConversationBufferMemory\n",
    "\n"
   ]
  },
  {
   "cell_type": "code",
   "execution_count": 32,
   "metadata": {},
   "outputs": [],
   "source": [
    "from langfuse.callback import CallbackHandler\n",
    "handler = CallbackHandler(os.environ.get(\"LF_PK\"), os.environ.get(\"LF_SK\"), os.environ.get(\"LF_HOST\"))"
   ]
  },
  {
   "cell_type": "code",
   "execution_count": 33,
   "metadata": {},
   "outputs": [],
   "source": [
    "GENERATIONS_PATH = \"../datasets/manual_gpt3_50_50_generations_merged.csv\""
   ]
  },
  {
   "cell_type": "code",
   "execution_count": 45,
   "metadata": {},
   "outputs": [
    {
     "name": "stdout",
     "output_type": "stream",
     "text": [
      "Q: Could you please tell me if the following two products are the same one?\n",
      "Product 1: \n",
      "Title: Traveler's Lined Notebook Refill - Regular Size\n",
      "Description: Think about the days you went to school. Based on people’s past experience as a student, we receive comments saying that this is the most easy type of notebook to use. The lines are printed with an interval of 6.5mm, and the paper is our originally m\n",
      "Product 2: \n",
      "Title: Traveler's Company Traveler's Company Notebook Accessories\n",
      "Description: none\n",
      "A:\n",
      "These two products are not the same because they have different titles and descriptions, and one refers to a specific refill for a notebook while the other refers to a general category of notebook accessories.\n"
     ]
    }
   ],
   "source": [
    "data = pd.read_csv(GENERATIONS_PATH)\n",
    "\n",
    "data[\"eval\"] = data[\"eval\"].apply(lambda x: x.replace('{\"completion\":', \"\").replace('}', \"\").replace('\"',\"\"))\n",
    "data[\"completion\"] = data[\"completion\"].apply(lambda x: x.replace('{\"completion\":', \"\").replace('}', \"\").replace('\"',\"\"))\n",
    "whole_prompt = json.loads(data[\"prompt\"][0])[0][0][\"content\"]\n",
    "user_prompt = \"Q:\" + whole_prompt.split(\"Q:\")[-1]\n",
    "ai_answer = data[\"completion\"][0]\n",
    "\n",
    "conversation = user_prompt + ai_answer\n",
    "print(conversation)\n",
    "# data"
   ]
  },
  {
   "cell_type": "code",
   "execution_count": 68,
   "metadata": {},
   "outputs": [
    {
     "name": "stdout",
     "output_type": "stream",
     "text": [
      "System: You are a helpful AI.\n",
      "Human: Q: Could you please tell me if the following two products are the same one?\n",
      "Product 1: \n",
      "Title: Traveler's Lined Notebook Refill - Regular Size\n",
      "Description: Think about the days you went to school. Based on people’s past experience as a student, we receive comments saying that this is the most easy type of notebook to use. The lines are printed with an interval of 6.5mm, and the paper is our originally m\n",
      "Product 2: \n",
      "Title: Traveler's Company Traveler's Company Notebook Accessories\n",
      "Description: none\n",
      "A:\n",
      "\n",
      "AI: These two products are not the same because they have different titles and descriptions, and one refers to a specific refill for a notebook while the other refers to a general category of notebook accessories.\n",
      "Human: Now output your decision as a simple 'Match' or 'No Match'. \n",
      "Also provide a similarity score for the items and a confidence score for your decision as percentage values, 100% referring to perfect similarity or full confidence. \n",
      "Further specify which attributes and values had a high influence on your decision.\n",
      "Please use the following format which includes an example output:\n",
      "Decision: Match\n",
      "Similarity: 75%\n",
      "Confidence: 60%\n",
      "Important Attributes: brand, serial number\n"
     ]
    }
   ],
   "source": [
    "\n",
    "\n",
    "task = \"\"\"Now output your decision as a simple 'Match' or 'No Match'. \n",
    "Also provide a similarity score for the items and a confidence score for your decision as percentage values, 100% referring to perfect similarity or full confidence. \n",
    "Further specify which attributes and values had a high influence on your decision.\n",
    "Please use the following format which includes an example output:\n",
    "Decision: Match\n",
    "Similarity: 75%\n",
    "Confidence: 60%\n",
    "Important Attributes: brand, serial number\"\"\"\n",
    "\n",
    "\n",
    "\n",
    "STEP_CONFIDENCE_PROMPT = ChatPromptTemplate.from_messages([\n",
    "            (\"system\", \"You are a helpful AI.\"),\n",
    "            (\"human\", \"{user_prompt}\"),\n",
    "            (\"ai\", \"{ai_answer}\"),\n",
    "            (\"human\", task),\n",
    "        ])\n",
    "\n",
    "\n",
    "print(STEP_CONFIDENCE_PROMPT.format(user_prompt=user_prompt, ai_answer=ai_answer))\n",
    "\n"
   ]
  },
  {
   "cell_type": "code",
   "execution_count": 69,
   "metadata": {},
   "outputs": [],
   "source": [
    "llm = ChatOpenAI(model_name=\"gpt-3.5-turbo-0301\", temperature=0, max_tokens=50)\n",
    "\n",
    "history = ChatMessageHistory()\n",
    "\n",
    "\n",
    "chain = LLMChain(llm=llm, prompt=STEP_CONFIDENCE_PROMPT, callbacks=[handler])\n",
    "\n",
    "chain.run(user_prompt=user_prompt, ai_answer=ai_answer, callbacks=[handler])\n",
    "\n",
    "\n"
   ]
  }
 ],
 "metadata": {
  "kernelspec": {
   "display_name": ".venv",
   "language": "python",
   "name": "python3"
  },
  "language_info": {
   "codemirror_mode": {
    "name": "ipython",
    "version": 3
   },
   "file_extension": ".py",
   "mimetype": "text/x-python",
   "name": "python",
   "nbconvert_exporter": "python",
   "pygments_lexer": "ipython3",
   "version": "3.9.16"
  }
 },
 "nbformat": 4,
 "nbformat_minor": 2
}
