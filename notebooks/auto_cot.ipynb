{
 "cells": [
  {
   "cell_type": "code",
   "execution_count": 81,
   "metadata": {},
   "outputs": [],
   "source": [
    "from langchain.prompts import PromptTemplate\n",
    "\n",
    "\n",
    "match_prompt_auto_fewshot_1 = PromptTemplate(\n",
    "    input_variables=[\"p1\", \"p2\"],\n",
    "    template=\"\"\"Q: Could you please tell me if the following two products are the same one?\n",
    "    Product 1:\n",
    "    Title: Kingston ValueRAM 4GB - PC3-12800 - DIMM\n",
    "Description: ValueRam\n",
    "    Product 2:\n",
    "    Title: TARJETA DE RED PCI EXPRESS X1 INALAMBRICA TP-LINK WIRELESS 802.11N/G/B150MBPS ANTENA DESMONTA 2DBI\n",
    "Description: nan\n",
    "A: Let's think step by step! Product 1 is a Kingston ValueRAM 4GB memory module with a PC3-12800 specification and DIMM form factor. It is a computer component used to increase the system's memory capacity. On the other hand, Product 2 is a TP-Link wireless network card with a PCI Express x1 interface and 802.11n/g/b wireless standards. It is used to connect a computer to a wireless network. Therefore, these two products are not the same, and they serve different purposes.\n",
    "Q: Could you please tell me if the following two products are the same one?\n",
    "    Product 1:\n",
    "    Title: Xerox 106R01162 25k Yellow Toner\n",
    "Description: FeaturesPage yield25000 pagesBrand compatibilityXeroxCompatible productsPhaser 7760Colour of productBlackQuantity1Printing coloursYellowTypeTonerPackaging dataPackaging width95 mmPackaging height89 mmPackage weight680 gPackaging length368 mmPackaging\n",
    "    Product 2:\n",
    "    Title: 106R01162 Toner yellow pentru Phaser 7760\n",
    "Description: yellow, 25000p for Phaser 7760\n",
    "A: Let's think step by step! First, let's compare the titles of the two products. They both mention \"106R01162\" and \"yellow toner\" for the Phaser 7760 printer. So, it seems like they could be the same product.\n",
    "\n",
    "Next, let's compare the descriptions. Both mention a page yield of 25000 pages and that the toner is yellow. The first product has more detailed information about the brand compatibility, packaging dimensions, and weight. The second product is more concise and only mentions the page yield and printer compatibility.\n",
    "\n",
    "Based on this comparison, it seems likely that the two products are the same one. However, it's always a good idea to double-check with the seller or manufacturer to confirm.\n",
    "Q: Could you please tell me if the following two products are the same one?\n",
    "    Product 1:\n",
    "    {p1}\n",
    "    Product 2:\n",
    "    {p2}\n",
    "A: Let's think step by step!\n",
    "\"\"\"\n",
    ")"
   ]
  },
  {
   "cell_type": "code",
   "execution_count": 82,
   "metadata": {},
   "outputs": [],
   "source": [
    "auto_cot_prompt_1 = PromptTemplate(\n",
    "    input_variables=[\"p1\", \"p2\"],\n",
    "    template=\"\"\"Q: Could you please tell me if the following two products are the same one?\n",
    "    Product 1:\n",
    "    {p1}\n",
    "    Product 2:\n",
    "    {p2}\n",
    "A: Let's think step by step! \"\"\"\n",
    ")\n",
    "\n",
    "auto_cot_prompt_2 = PromptTemplate(\n",
    "    input_variables=[\"p1\", \"p2\"],\n",
    "    template=\"\"\"Q: Are the following two products the same?\n",
    "Product 1: \n",
    "{p1}\n",
    "Product 2: \n",
    "{p2}\n",
    "\n",
    "A: Let's think step by step! \"\"\"\n",
    ")\n",
    "\n"
   ]
  },
  {
   "cell_type": "code",
   "execution_count": 83,
   "metadata": {},
   "outputs": [],
   "source": [
    "eval_prompt_2 = PromptTemplate(\n",
    "    input_variables=[\"chain_of_thought_reasoning\"],\n",
    "    template=\"\"\"Decide if this answer corresponds to two products matching or not.\n",
    "    Please answer with \"match\" or \"no match\".\n",
    "    Answer: {chain_of_thought_reasoning}\n",
    "\"\"\"\n",
    ")"
   ]
  },
  {
   "cell_type": "code",
   "execution_count": 84,
   "metadata": {},
   "outputs": [],
   "source": [
    "def cut_length(string ,length = 250):\n",
    "    return string[0:length]"
   ]
  },
  {
   "cell_type": "code",
   "execution_count": 85,
   "metadata": {},
   "outputs": [
    {
     "data": {
      "text/plain": [
       "True"
      ]
     },
     "execution_count": 85,
     "metadata": {},
     "output_type": "execute_result"
    }
   ],
   "source": [
    "import pandas as pd\n",
    "from langchain.chains import LLMChain, SequentialChain\n",
    "from langchain.chat_models import ChatOpenAI\n",
    "from dotenv import load_dotenv\n",
    "import os\n",
    "load_dotenv()\n"
   ]
  },
  {
   "cell_type": "code",
   "execution_count": 86,
   "metadata": {},
   "outputs": [],
   "source": [
    "from langfuse.callback import CallbackHandler\n",
    "handler_auto_cot = CallbackHandler(os.environ.get(\"LF_PK\"), os.environ.get(\"LF_SK\"), os.environ.get(\"LF_HOST\"))\n",
    "handler = CallbackHandler(os.environ.get(\"LF_PK\"), os.environ.get(\"LF_SK\"), os.environ.get(\"LF_HOST\"))"
   ]
  },
  {
   "cell_type": "code",
   "execution_count": 87,
   "metadata": {},
   "outputs": [],
   "source": [
    "df_train = pd.read_csv(\"../datasets/training_data_50_50.csv\")\n",
    "\n",
    "\n",
    "\n",
    "# CoT-gpt3.5turbo-0301\n",
    "# eval-gpt3.5turbo-0301\n",
    "# correct-gpt3.5turbo-0301\n"
   ]
  },
  {
   "cell_type": "code",
   "execution_count": 131,
   "metadata": {},
   "outputs": [],
   "source": [
    "def simple_auto_cot_prompt(auto_cot_prompt, start=0, end=10):\n",
    "    for i in range(start, end):\n",
    "        print(i)\n",
    "        reasoning = \"\"\n",
    "        llm = ChatOpenAI(model_name= \"gpt-4-0613\", temperature=0)\n",
    "\n",
    "        product1 = \"Title: \" + cut_length(str(df_train[\"title_left\"][i] or \"none\")) + \"\\nDescription: \" + cut_length(str(df_train[\"description_left\"][i] or \"none\")) \n",
    "        product2 = \"Title: \" + cut_length(str(df_train[\"title_right\"][i] or \"none\")) + \"\\nDescription: \" + cut_length(str(df_train[\"description_right\"][i] or \"none\")) \n",
    "        \n",
    "\n",
    "        cot_chain = LLMChain(\n",
    "            llm=llm, prompt=auto_cot_prompt, callbacks=[handler_auto_cot]\n",
    "        )\n",
    "        reasoning += auto_cot_prompt.format_prompt(p1=product1, p2=product2).text\n",
    "        try:\n",
    "            answer = cot_chain.run(\n",
    "                p1 = product1,\n",
    "                p2 = product2,\n",
    "                callbacks=[handler_auto_cot]\n",
    "            )      \n",
    "        except Exception as e:\n",
    "            print(e)\n",
    "            i -= 1\n",
    "            continue\n",
    "        reasoning += answer\n",
    "        reasoning += \"\\n\"\n",
    "\n",
    "        # save reasoning to df_train in column \"CoT-gpt3.5turbo-0301\"\n",
    "        df_train.loc[i, \"CoT-gpt-4-0613\"] = str(reasoning)\n",
    "\n",
    "        eval_chain = LLMChain(\n",
    "            llm=llm, prompt=eval_prompt_2, callbacks=[handler]\n",
    "        )\n",
    "        try:\n",
    "            eval_output = eval_chain.run(\n",
    "                chain_of_thought_reasoning = answer,\n",
    "                callbacks=[handler]\n",
    "            )\n",
    "        except Exception as e:\n",
    "            print(e)\n",
    "            i -= 1\n",
    "            continue\n",
    "        \n",
    "        is_match = False\n",
    "        if  \"No\" in eval_output or \"no\" in eval_output:\n",
    "            is_match = False\n",
    "        elif (\"Match\" in eval_output) or (\"match\" in eval_output):\n",
    "            is_match = True\n",
    "        else:\n",
    "            print(eval_output)\n",
    "            break\n",
    "\n",
    "        df_train.loc[i, \"eval-gpt-4-0613\"] = str(is_match)\n",
    "\n",
    "        df_train.loc[i, \"correct-gpt-4-0613\"] = str(is_match == df_train[\"label\"][i])\n",
    "\n",
    "\n",
    "\n",
    "\n"
   ]
  },
  {
   "cell_type": "code",
   "execution_count": 133,
   "metadata": {},
   "outputs": [
    {
     "name": "stdout",
     "output_type": "stream",
     "text": [
      "45\n",
      "46\n",
      "47\n",
      "48\n",
      "49\n"
     ]
    }
   ],
   "source": [
    "simple_auto_cot_prompt(auto_cot_prompt_2, start=0, end=0)"
   ]
  },
  {
   "cell_type": "code",
   "execution_count": 134,
   "metadata": {},
   "outputs": [],
   "source": [
    "# save df_train to csv\n",
    "df_train.to_csv(\"../datasets/training_data_50_50.csv\", index=False)"
   ]
  },
  {
   "cell_type": "code",
   "execution_count": 143,
   "metadata": {},
   "outputs": [
    {
     "name": "stdout",
     "output_type": "stream",
     "text": [
      "Q: Are the following two products the same?\n",
      "Product 1: \n",
      "Title: DVR 8 canale Hikvision TurboHD 5MP 4 canale alarma audio DS-7208HUHI-K1 H.265\n",
      "Description: DVR 8 canale Hikvision TurboHD 5MP modelDS-7208HUHI-K14 canale audio,alarma,videoinregistreaza 8 camere video supraveghere HIKVISION TurboHDla rezolutie max 5 MP;compresie H.265+, H.265, H.264+, H.264\n",
      "Product 2: \n",
      "Title: HIKVISION DS-7208HUHI-K1 5 MEGAPIXEL (5MP) HYBRID 8 CHANNEL DVR\n",
      "Description: The HIKVISION DS-7208HUHI-K1 is a Fourth Generation TURBO 4.0 DVR. Capable of recording up to 5MP TVI Cameras at up to 12fps. This DVR use H.265+ and Duel stream video compression and uses a BNC interface for camera input. The DS-7208HUHI-K1 are Hybr\n",
      "A: Let's think step by step! Both products have the same model number (DS-7208HUHI-K1) and are from the same brand (Hikvision). They both support 5MP resolution and use H.265 compression. They are both 8 channel DVRs. Therefore, yes, the two products are the same.\n",
      "The two products match.\n",
      "Q: Are the following two products the same?\n",
      "Product 1: \n",
      "Title: Crucial BX500 - solid state drive - 120 GB - SATA 6Gb/s\n",
      "Description: Ever wonder why your phone responds faster than your computer? It's because your phone runs on flash memory. Add flash to your laptop or desktop computer with the Crucial BX500 SSD, the easiest way to get all the speed of a new computer without the p\n",
      "Product 2: \n",
      "Title: Epson C13T603700 Ink Cartridge - Light Black\n",
      "Description: Inkjet\n",
      "A: Let's think step by step! The first product is a solid state drive, which is a type of storage device for a computer. The second product is an ink cartridge, which is used in a printer. So, no, these two products are not the same.\n",
      "The two products do not match.\n",
      "Q: Could you please tell me if the following two products are the same one?\n",
      "Product 1:\n",
      "{p1}\n",
      "Product 2:\n",
      "{p2}\n",
      "A: Let's think step by step!\n",
      "\n",
      "input_variables=['p1', 'p2'] template=\"Q: Are the following two products the same?\\nProduct 1: \\nTitle: DVR 8 canale Hikvision TurboHD 5MP 4 canale alarma audio DS-7208HUHI-K1 H.265\\nDescription: DVR 8 canale Hikvision TurboHD 5MP modelDS-7208HUHI-K14 canale audio,alarma,videoinregistreaza 8 camere video supraveghere HIKVISION TurboHDla rezolutie max 5 MP;compresie H.265+, H.265, H.264+, H.264\\nProduct 2: \\nTitle: HIKVISION DS-7208HUHI-K1 5 MEGAPIXEL (5MP) HYBRID 8 CHANNEL DVR\\nDescription: The HIKVISION DS-7208HUHI-K1 is a Fourth Generation TURBO 4.0 DVR. Capable of recording up to 5MP TVI Cameras at up to 12fps. This DVR use H.265+ and Duel stream video compression and uses a BNC interface for camera input. The DS-7208HUHI-K1 are Hybr\\nA: Let's think step by step! Both products have the same model number (DS-7208HUHI-K1) and are from the same brand (Hikvision). They both support 5MP resolution and use H.265 compression. They are both 8 channel DVRs. Therefore, yes, the two products are the same.\\nThe two products match.\\nQ: Are the following two products the same?\\nProduct 1: \\nTitle: Crucial BX500 - solid state drive - 120 GB - SATA 6Gb/s\\nDescription: Ever wonder why your phone responds faster than your computer? It's because your phone runs on flash memory. Add flash to your laptop or desktop computer with the Crucial BX500 SSD, the easiest way to get all the speed of a new computer without the p\\nProduct 2: \\nTitle: Epson C13T603700 Ink Cartridge - Light Black\\nDescription: Inkjet\\nA: Let's think step by step! The first product is a solid state drive, which is a type of storage device for a computer. The second product is an ink cartridge, which is used in a printer. So, no, these two products are not the same.\\nThe two products do not match.\\nQ: Could you please tell me if the following two products are the same one?\\nProduct 1:\\n{p1}\\nProduct 2:\\n{p2}\\nA: Let's think step by step!\\n\"\n"
     ]
    }
   ],
   "source": [
    "def createAutoCotPrompt(n=2, model=\"gpt3.5turbo-0301\"):\n",
    "    fewShotData = pd.read_csv(\"../datasets/training_data_50_50.csv\")\n",
    "    fewShotData = fewShotData[fewShotData[\"correct-\"+ model] == True]\n",
    "    fewShotData = fewShotData.sample(n=n)\n",
    "    template = \"\"\n",
    "    for _, row in fewShotData.iterrows():\n",
    "        template += row[\"CoT-\"+ model] + \"\\n\"\n",
    "        template += \"The two products \" + (\"match\" if row[\"label\"] == True else \"do not match\") + \".\\n\"\n",
    "    template = \"\\n\".join([s for s in template.splitlines() if s.strip()])\n",
    "    template += \"\"\"\\nQ: Could you please tell me if the following two products are the same one?\n",
    "Product 1:\n",
    "{p1}\n",
    "Product 2:\n",
    "{p2}\n",
    "A: Let's think step by step!\n",
    "\"\"\"\n",
    "    print(template)\n",
    "\n",
    "    prompt = PromptTemplate(\n",
    "        input_variables=[\"p1\", \"p2\"],\n",
    "        template=template\n",
    "    )\n",
    "\n",
    "    return prompt\n",
    "\n",
    "\n",
    "\n",
    "print(createAutoCotPrompt(model=\"gpt-4-0613\"))"
   ]
  },
  {
   "cell_type": "code",
   "execution_count": 91,
   "metadata": {},
   "outputs": [],
   "source": [
    "# def simple_auto_cot_prompt(auto_cot_prompt, indexes=[], n=1):\n",
    "#     if len(indexes) > 0:\n",
    "#         n = len(indexes)\n",
    "#     template = \"\"\n",
    "#     for j in range(n):\n",
    "#         if len(indexes) > 0:\n",
    "#             i = indexes[j]\n",
    "#         else:\n",
    "#             i = i\n",
    "#         llm = ChatOpenAI(model_name= \"gpt-3.5-turbo-0301\", temperature=0)\n",
    "\n",
    "#         product1 = \"Title: \" + cut_length(str(df_train[\"title_left\"][i] or \"none\")) + \"\\nDescription: \" + cut_length(str(df_train[\"description_left\"][i] or \"none\")) \n",
    "#         product2 = \"Title: \" + cut_length(str(df_train[\"title_right\"][i] or \"none\")) + \"\\nDescription: \" + cut_length(str(df_train[\"description_right\"][i] or \"none\")) \n",
    "        \n",
    "\n",
    "#         chain = LLMChain(\n",
    "#             llm=llm, prompt=auto_cot_prompt, callbacks=[handler_auto_cot]\n",
    "#         )\n",
    "#         template += auto_cot_prompt.format_prompt(p1=product1, p2=product2).text\n",
    "#         try:\n",
    "#             answer = chain.run(\n",
    "#                 p1 = product1,\n",
    "#                 p2 = product2,\n",
    "#                 callbacks=[handler_auto_cot]\n",
    "#             )      \n",
    "#         except Exception as e:\n",
    "#             print(e)\n",
    "#             i -= 1\n",
    "#             continue\n",
    "#         template += answer\n",
    "#         template += \"\\n\"\n",
    "#     template += auto_cot_prompt.template\n",
    "#     overall_prompt = PromptTemplate(\n",
    "#         input_variables=[\"p1\", \"p2\"],\n",
    "#         template=template\n",
    "#     )\n",
    "#     # print(overall_prompt.template)\n",
    "#     return overall_prompt\n",
    "\n",
    "\n"
   ]
  },
  {
   "cell_type": "code",
   "execution_count": 92,
   "metadata": {},
   "outputs": [],
   "source": [
    "# print(simple_auto_cot_prompt(auto_cot_prompt_1, [4,6], 2).template)"
   ]
  }
 ],
 "metadata": {
  "kernelspec": {
   "display_name": "Python 3",
   "language": "python",
   "name": "python3"
  },
  "language_info": {
   "codemirror_mode": {
    "name": "ipython",
    "version": 3
   },
   "file_extension": ".py",
   "mimetype": "text/x-python",
   "name": "python",
   "nbconvert_exporter": "python",
   "pygments_lexer": "ipython3",
   "version": "3.9.16"
  },
  "orig_nbformat": 4
 },
 "nbformat": 4,
 "nbformat_minor": 2
}
