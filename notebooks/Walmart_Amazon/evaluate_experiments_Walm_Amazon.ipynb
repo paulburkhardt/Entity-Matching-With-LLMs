{
 "cells": [
  {
   "cell_type": "code",
   "execution_count": 22,
   "metadata": {},
   "outputs": [],
   "source": [
    "import pandas as pd\n",
    "INPUT_PATH = '../../datasets/WalAmazonDataset_sampled.csv'\n",
    "OUTPUT_PATH = '../../evals/eval_Walmart_Amazon_v1.csv'\n",
    "\n",
    "df_data = pd.read_csv(INPUT_PATH, index_col=False)\n",
    "df_eval = pd.read_csv(OUTPUT_PATH, index_col=False)\n",
    "\n",
    "PROMPT_NAME = \"prompt1_en_short_temp_0_gpt3.5-0301\"\n",
    "EVAL_COLUMN_NAME = \"prompt1_en_short_temp_0_gpt3.5-0301_maxtok-15\"\n",
    "MODEL = \"openAI - gpt-3.5-turbo-0301\"\n",
    "\n",
    "DATASET_NAME = \"WalmartAmazon\"\n",
    "\n"
   ]
  },
  {
   "cell_type": "code",
   "execution_count": 23,
   "metadata": {},
   "outputs": [
    {
     "data": {
      "text/html": [
       "<div>\n",
       "<style scoped>\n",
       "    .dataframe tbody tr th:only-of-type {\n",
       "        vertical-align: middle;\n",
       "    }\n",
       "\n",
       "    .dataframe tbody tr th {\n",
       "        vertical-align: top;\n",
       "    }\n",
       "\n",
       "    .dataframe thead th {\n",
       "        text-align: right;\n",
       "    }\n",
       "</style>\n",
       "<table border=\"1\" class=\"dataframe\">\n",
       "  <thead>\n",
       "    <tr style=\"text-align: right;\">\n",
       "      <th></th>\n",
       "      <th>Unnamed: 0</th>\n",
       "      <th>id1</th>\n",
       "      <th>id2</th>\n",
       "      <th>label</th>\n",
       "      <th>prompt1_en_short_temp_0_gpt3.5-0301</th>\n",
       "    </tr>\n",
       "  </thead>\n",
       "  <tbody>\n",
       "    <tr>\n",
       "      <th>0</th>\n",
       "      <td>0</td>\n",
       "      <td>7784</td>\n",
       "      <td>23390</td>\n",
       "      <td>True</td>\n",
       "      <td>True</td>\n",
       "    </tr>\n",
       "    <tr>\n",
       "      <th>1</th>\n",
       "      <td>1</td>\n",
       "      <td>15123</td>\n",
       "      <td>23390</td>\n",
       "      <td>True</td>\n",
       "      <td>False</td>\n",
       "    </tr>\n",
       "    <tr>\n",
       "      <th>2</th>\n",
       "      <td>2</td>\n",
       "      <td>21113</td>\n",
       "      <td>23390</td>\n",
       "      <td>True</td>\n",
       "      <td>True</td>\n",
       "    </tr>\n",
       "    <tr>\n",
       "      <th>3</th>\n",
       "      <td>3</td>\n",
       "      <td>7384</td>\n",
       "      <td>22973</td>\n",
       "      <td>True</td>\n",
       "      <td>True</td>\n",
       "    </tr>\n",
       "    <tr>\n",
       "      <th>4</th>\n",
       "      <td>4</td>\n",
       "      <td>11344</td>\n",
       "      <td>22973</td>\n",
       "      <td>True</td>\n",
       "      <td>False</td>\n",
       "    </tr>\n",
       "    <tr>\n",
       "      <th>5</th>\n",
       "      <td>5</td>\n",
       "      <td>15336</td>\n",
       "      <td>22973</td>\n",
       "      <td>True</td>\n",
       "      <td>True</td>\n",
       "    </tr>\n",
       "    <tr>\n",
       "      <th>6</th>\n",
       "      <td>6</td>\n",
       "      <td>8176</td>\n",
       "      <td>24537</td>\n",
       "      <td>True</td>\n",
       "      <td>True</td>\n",
       "    </tr>\n",
       "    <tr>\n",
       "      <th>7</th>\n",
       "      <td>7</td>\n",
       "      <td>14118</td>\n",
       "      <td>24537</td>\n",
       "      <td>True</td>\n",
       "      <td>True</td>\n",
       "    </tr>\n",
       "    <tr>\n",
       "      <th>8</th>\n",
       "      <td>8</td>\n",
       "      <td>20398</td>\n",
       "      <td>23769</td>\n",
       "      <td>True</td>\n",
       "      <td>True</td>\n",
       "    </tr>\n",
       "    <tr>\n",
       "      <th>9</th>\n",
       "      <td>9</td>\n",
       "      <td>11027</td>\n",
       "      <td>23769</td>\n",
       "      <td>True</td>\n",
       "      <td>True</td>\n",
       "    </tr>\n",
       "  </tbody>\n",
       "</table>\n",
       "</div>"
      ],
      "text/plain": [
       "   Unnamed: 0    id1    id2  label  prompt1_en_short_temp_0_gpt3.5-0301\n",
       "0           0   7784  23390   True                                 True\n",
       "1           1  15123  23390   True                                False\n",
       "2           2  21113  23390   True                                 True\n",
       "3           3   7384  22973   True                                 True\n",
       "4           4  11344  22973   True                                False\n",
       "5           5  15336  22973   True                                 True\n",
       "6           6   8176  24537   True                                 True\n",
       "7           7  14118  24537   True                                 True\n",
       "8           8  20398  23769   True                                 True\n",
       "9           9  11027  23769   True                                 True"
      ]
     },
     "execution_count": 23,
     "metadata": {},
     "output_type": "execute_result"
    }
   ],
   "source": [
    "df_data.head(10)"
   ]
  },
  {
   "cell_type": "code",
   "execution_count": 24,
   "metadata": {},
   "outputs": [
    {
     "name": "stderr",
     "output_type": "stream",
     "text": [
      "/var/folders/gx/tzjwcf8x1llbhhf36mjt7xqr0000gn/T/ipykernel_73947/455398784.py:14: FutureWarning: The behavior of DataFrame concatenation with empty or all-NA entries is deprecated. In a future version, this will no longer exclude empty or all-NA columns when determining the result dtypes. To retain the old behavior, exclude the relevant entries before the concat operation.\n",
      "  df_eval = df_eval._append({'Model': model, 'Prompt': prompt, 'Accuracy': accuracy, 'precision': precision, 'recall': recall, 'F1': f1, \"confusion_matrix\": conf_matrix, \"Dataset\":DATASET_NAME, \"Time\":datetime.datetime.now()}, ignore_index=True)\n"
     ]
    }
   ],
   "source": [
    "from sklearn import metrics\n",
    "import datetime\n",
    "\n",
    "\n",
    "def evalColumn(model, prompt, df, column):\n",
    "    y_true = df[\"label\"]\n",
    "    y_pred = df[column]\n",
    "    conf_matrix = metrics.confusion_matrix(y_true, y_pred)\n",
    "    precision = metrics.precision_score(y_true, y_pred)\n",
    "    recall = metrics.recall_score(y_true, y_pred)\n",
    "    f1 = metrics.f1_score(y_true, y_pred)\n",
    "    accuracy = metrics.accuracy_score(y_true, y_pred)\n",
    "    global df_eval\n",
    "    df_eval = df_eval._append({'Model': model, 'Prompt': prompt, 'Accuracy': accuracy, 'precision': precision, 'recall': recall, 'F1': f1, \"confusion_matrix\": conf_matrix, \"Dataset\":DATASET_NAME, \"Time\":datetime.datetime.now()}, ignore_index=True)\n",
    "\n",
    "evalColumn(MODEL, EVAL_COLUMN_NAME, df_data, PROMPT_NAME)\n",
    "    "
   ]
  },
  {
   "cell_type": "code",
   "execution_count": 25,
   "metadata": {},
   "outputs": [
    {
     "name": "stdout",
     "output_type": "stream",
     "text": [
      "0       True\n",
      "1       True\n",
      "2       True\n",
      "3       True\n",
      "4       True\n",
      "       ...  \n",
      "400    False\n",
      "401    False\n",
      "402    False\n",
      "403    False\n",
      "404    False\n",
      "Name: label, Length: 405, dtype: bool\n"
     ]
    }
   ],
   "source": [
    "print(df_data[\"label\"])"
   ]
  },
  {
   "cell_type": "code",
   "execution_count": 26,
   "metadata": {},
   "outputs": [
    {
     "name": "stdout",
     "output_type": "stream",
     "text": [
      "0       True\n",
      "1      False\n",
      "2       True\n",
      "3       True\n",
      "4      False\n",
      "       ...  \n",
      "400    False\n",
      "401    False\n",
      "402    False\n",
      "403    False\n",
      "404    False\n",
      "Name: prompt1_en_short_temp_0_gpt3.5-0301, Length: 405, dtype: bool\n"
     ]
    }
   ],
   "source": [
    "print(df_data[PROMPT_NAME])"
   ]
  },
  {
   "cell_type": "code",
   "execution_count": 27,
   "metadata": {},
   "outputs": [
    {
     "data": {
      "text/html": [
       "<div>\n",
       "<style scoped>\n",
       "    .dataframe tbody tr th:only-of-type {\n",
       "        vertical-align: middle;\n",
       "    }\n",
       "\n",
       "    .dataframe tbody tr th {\n",
       "        vertical-align: top;\n",
       "    }\n",
       "\n",
       "    .dataframe thead th {\n",
       "        text-align: right;\n",
       "    }\n",
       "</style>\n",
       "<table border=\"1\" class=\"dataframe\">\n",
       "  <thead>\n",
       "    <tr style=\"text-align: right;\">\n",
       "      <th></th>\n",
       "      <th>Model</th>\n",
       "      <th>Prompt</th>\n",
       "      <th>Accuracy</th>\n",
       "      <th>precision</th>\n",
       "      <th>recall</th>\n",
       "      <th>F1</th>\n",
       "      <th>confusion_matrix</th>\n",
       "      <th>Dataset</th>\n",
       "      <th>Time</th>\n",
       "    </tr>\n",
       "  </thead>\n",
       "  <tbody>\n",
       "    <tr>\n",
       "      <th>0</th>\n",
       "      <td>openAI - gpt-3.5-turbo-0301</td>\n",
       "      <td>prompt1_en_short_temp_0_gpt3.5-0301_maxtok-15</td>\n",
       "      <td>0.94321</td>\n",
       "      <td>0.742857</td>\n",
       "      <td>0.65</td>\n",
       "      <td>0.693333</td>\n",
       "      <td>[[356, 9], [14, 26]]</td>\n",
       "      <td>WalmartAmazon</td>\n",
       "      <td>2023-10-22 17:29:04.083573</td>\n",
       "    </tr>\n",
       "  </tbody>\n",
       "</table>\n",
       "</div>"
      ],
      "text/plain": [
       "                         Model                                         Prompt  \\\n",
       "0  openAI - gpt-3.5-turbo-0301  prompt1_en_short_temp_0_gpt3.5-0301_maxtok-15   \n",
       "\n",
       "   Accuracy  precision  recall        F1      confusion_matrix        Dataset  \\\n",
       "0   0.94321   0.742857    0.65  0.693333  [[356, 9], [14, 26]]  WalmartAmazon   \n",
       "\n",
       "                        Time  \n",
       "0 2023-10-22 17:29:04.083573  "
      ]
     },
     "execution_count": 27,
     "metadata": {},
     "output_type": "execute_result"
    }
   ],
   "source": [
    "df_eval"
   ]
  },
  {
   "cell_type": "code",
   "execution_count": 28,
   "metadata": {},
   "outputs": [],
   "source": [
    "# write to csv\n",
    "df_eval.to_csv(OUTPUT_PATH, index=False)"
   ]
  }
 ],
 "metadata": {
  "kernelspec": {
   "display_name": ".venv",
   "language": "python",
   "name": "python3"
  },
  "language_info": {
   "codemirror_mode": {
    "name": "ipython",
    "version": 3
   },
   "file_extension": ".py",
   "mimetype": "text/x-python",
   "name": "python",
   "nbconvert_exporter": "python",
   "pygments_lexer": "ipython3",
   "version": "3.9.16"
  },
  "orig_nbformat": 4
 },
 "nbformat": 4,
 "nbformat_minor": 2
}
