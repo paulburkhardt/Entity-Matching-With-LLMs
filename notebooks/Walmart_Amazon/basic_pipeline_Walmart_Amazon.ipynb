{
 "cells": [
  {
   "cell_type": "code",
   "execution_count": 1,
   "metadata": {},
   "outputs": [],
   "source": [
    "import pandas as pd\n",
    "from langchain.chains import LLMChain, SequentialChain\n"
   ]
  },
  {
   "cell_type": "code",
   "execution_count": 2,
   "metadata": {},
   "outputs": [],
   "source": [
    "import prompts as p\n",
    "from langchain.prompts import PromptTemplate\n",
    "\n",
    "\n",
    "PRODUCTS = '../../datasets/amazon_walmart.tsv'\n",
    "\n",
    "PRODUCT_MAPPING = '../../datasets/WalAmazonDataset_sampled.csv'\n",
    "\n",
    "SAVED_PROMPTS_PATH = '../../evals/saved_prompts_WA.csv'\n",
    "\n",
    "# Load data\n",
    "df_products = pd.read_csv(PRODUCTS, sep='\\t')\n",
    "df_mapping = pd.read_csv(PRODUCT_MAPPING)\n",
    "\n",
    "\n",
    "df_products.fillna('', inplace=True)\n",
    "df_mapping.fillna('', inplace=True)\n",
    "\n",
    "prompt_name = 'prompt1_en_short_temp_0_gpt3.5-0301_with_brand'\n",
    "prompt = p.prompt1_en_short\n",
    "\n",
    "MODEL = \"gpt-3.5-turbo-0301\"\n",
    "\n",
    "MAX_TOKENS = 15\n"
   ]
  },
  {
   "cell_type": "code",
   "execution_count": 3,
   "metadata": {},
   "outputs": [],
   "source": [
    "# generate column with prompt_name if not exists\n",
    "if 'prompt_name' not in df_mapping.columns:\n",
    "    df_mapping[prompt_name] = \"\""
   ]
  },
  {
   "cell_type": "code",
   "execution_count": 4,
   "metadata": {},
   "outputs": [
    {
     "data": {
      "text/html": [
       "<div>\n",
       "<style scoped>\n",
       "    .dataframe tbody tr th:only-of-type {\n",
       "        vertical-align: middle;\n",
       "    }\n",
       "\n",
       "    .dataframe tbody tr th {\n",
       "        vertical-align: top;\n",
       "    }\n",
       "\n",
       "    .dataframe thead th {\n",
       "        text-align: right;\n",
       "    }\n",
       "</style>\n",
       "<table border=\"1\" class=\"dataframe\">\n",
       "  <thead>\n",
       "    <tr style=\"text-align: right;\">\n",
       "      <th></th>\n",
       "      <th>Unnamed: 0</th>\n",
       "      <th>id1</th>\n",
       "      <th>id2</th>\n",
       "      <th>label</th>\n",
       "      <th>prompt1_en_short_temp_0_gpt3.5-0301</th>\n",
       "      <th>match_prompt_manual_fewshot_1_eval2_temp_0_gpt3.5_0301</th>\n",
       "      <th>match_prompt_auto_fewshot_1_eval2_temp_0_gpt3.5_0301</th>\n",
       "      <th>match_prompt_auto_fewshot_2_ama_wal_eval2_temp_0_gpt3.5_0301</th>\n",
       "      <th>match_prompt_auto_fewshot_ama_wal_4examples_eval2_temp_0_gpt3.5_0301</th>\n",
       "    </tr>\n",
       "  </thead>\n",
       "  <tbody>\n",
       "    <tr>\n",
       "      <th>0</th>\n",
       "      <td>0</td>\n",
       "      <td>7784</td>\n",
       "      <td>23390</td>\n",
       "      <td>True</td>\n",
       "      <td></td>\n",
       "      <td>False</td>\n",
       "      <td>False</td>\n",
       "      <td>False</td>\n",
       "      <td>False</td>\n",
       "    </tr>\n",
       "    <tr>\n",
       "      <th>1</th>\n",
       "      <td>1</td>\n",
       "      <td>15123</td>\n",
       "      <td>23390</td>\n",
       "      <td>True</td>\n",
       "      <td></td>\n",
       "      <td>False</td>\n",
       "      <td>False</td>\n",
       "      <td>False</td>\n",
       "      <td>True</td>\n",
       "    </tr>\n",
       "    <tr>\n",
       "      <th>2</th>\n",
       "      <td>2</td>\n",
       "      <td>21113</td>\n",
       "      <td>23390</td>\n",
       "      <td>True</td>\n",
       "      <td></td>\n",
       "      <td>True</td>\n",
       "      <td>True</td>\n",
       "      <td>False</td>\n",
       "      <td>True</td>\n",
       "    </tr>\n",
       "    <tr>\n",
       "      <th>3</th>\n",
       "      <td>3</td>\n",
       "      <td>7384</td>\n",
       "      <td>22973</td>\n",
       "      <td>True</td>\n",
       "      <td></td>\n",
       "      <td>True</td>\n",
       "      <td>True</td>\n",
       "      <td>True</td>\n",
       "      <td>True</td>\n",
       "    </tr>\n",
       "    <tr>\n",
       "      <th>4</th>\n",
       "      <td>4</td>\n",
       "      <td>11344</td>\n",
       "      <td>22973</td>\n",
       "      <td>True</td>\n",
       "      <td></td>\n",
       "      <td>True</td>\n",
       "      <td>False</td>\n",
       "      <td>True</td>\n",
       "      <td>True</td>\n",
       "    </tr>\n",
       "    <tr>\n",
       "      <th>5</th>\n",
       "      <td>5</td>\n",
       "      <td>15336</td>\n",
       "      <td>22973</td>\n",
       "      <td>True</td>\n",
       "      <td></td>\n",
       "      <td>True</td>\n",
       "      <td>True</td>\n",
       "      <td>True</td>\n",
       "      <td>True</td>\n",
       "    </tr>\n",
       "    <tr>\n",
       "      <th>6</th>\n",
       "      <td>6</td>\n",
       "      <td>8176</td>\n",
       "      <td>24537</td>\n",
       "      <td>True</td>\n",
       "      <td></td>\n",
       "      <td>True</td>\n",
       "      <td>True</td>\n",
       "      <td>True</td>\n",
       "      <td>True</td>\n",
       "    </tr>\n",
       "    <tr>\n",
       "      <th>7</th>\n",
       "      <td>7</td>\n",
       "      <td>14118</td>\n",
       "      <td>24537</td>\n",
       "      <td>True</td>\n",
       "      <td></td>\n",
       "      <td>True</td>\n",
       "      <td>True</td>\n",
       "      <td>True</td>\n",
       "      <td>True</td>\n",
       "    </tr>\n",
       "    <tr>\n",
       "      <th>8</th>\n",
       "      <td>8</td>\n",
       "      <td>20398</td>\n",
       "      <td>23769</td>\n",
       "      <td>True</td>\n",
       "      <td></td>\n",
       "      <td>True</td>\n",
       "      <td>False</td>\n",
       "      <td>False</td>\n",
       "      <td>True</td>\n",
       "    </tr>\n",
       "    <tr>\n",
       "      <th>9</th>\n",
       "      <td>9</td>\n",
       "      <td>11027</td>\n",
       "      <td>23769</td>\n",
       "      <td>True</td>\n",
       "      <td></td>\n",
       "      <td>True</td>\n",
       "      <td>False</td>\n",
       "      <td>False</td>\n",
       "      <td>True</td>\n",
       "    </tr>\n",
       "    <tr>\n",
       "      <th>10</th>\n",
       "      <td>10</td>\n",
       "      <td>3794</td>\n",
       "      <td>23769</td>\n",
       "      <td>True</td>\n",
       "      <td></td>\n",
       "      <td>True</td>\n",
       "      <td>False</td>\n",
       "      <td>True</td>\n",
       "      <td>True</td>\n",
       "    </tr>\n",
       "    <tr>\n",
       "      <th>11</th>\n",
       "      <td>11</td>\n",
       "      <td>20393</td>\n",
       "      <td>22550</td>\n",
       "      <td>True</td>\n",
       "      <td></td>\n",
       "      <td>True</td>\n",
       "      <td>True</td>\n",
       "      <td>True</td>\n",
       "      <td>True</td>\n",
       "    </tr>\n",
       "    <tr>\n",
       "      <th>12</th>\n",
       "      <td>12</td>\n",
       "      <td>12747</td>\n",
       "      <td>22550</td>\n",
       "      <td>True</td>\n",
       "      <td></td>\n",
       "      <td>True</td>\n",
       "      <td>False</td>\n",
       "      <td>False</td>\n",
       "      <td>True</td>\n",
       "    </tr>\n",
       "    <tr>\n",
       "      <th>13</th>\n",
       "      <td>13</td>\n",
       "      <td>782</td>\n",
       "      <td>22550</td>\n",
       "      <td>True</td>\n",
       "      <td></td>\n",
       "      <td>True</td>\n",
       "      <td>False</td>\n",
       "      <td>False</td>\n",
       "      <td>False</td>\n",
       "    </tr>\n",
       "    <tr>\n",
       "      <th>14</th>\n",
       "      <td>14</td>\n",
       "      <td>13593</td>\n",
       "      <td>23541</td>\n",
       "      <td>True</td>\n",
       "      <td></td>\n",
       "      <td>True</td>\n",
       "      <td>False</td>\n",
       "      <td>False</td>\n",
       "      <td>False</td>\n",
       "    </tr>\n",
       "    <tr>\n",
       "      <th>15</th>\n",
       "      <td>15</td>\n",
       "      <td>15576</td>\n",
       "      <td>23541</td>\n",
       "      <td>True</td>\n",
       "      <td></td>\n",
       "      <td>False</td>\n",
       "      <td>True</td>\n",
       "      <td>False</td>\n",
       "      <td>False</td>\n",
       "    </tr>\n",
       "    <tr>\n",
       "      <th>16</th>\n",
       "      <td>16</td>\n",
       "      <td>11642</td>\n",
       "      <td>23541</td>\n",
       "      <td>True</td>\n",
       "      <td></td>\n",
       "      <td>False</td>\n",
       "      <td>False</td>\n",
       "      <td>False</td>\n",
       "      <td>False</td>\n",
       "    </tr>\n",
       "    <tr>\n",
       "      <th>17</th>\n",
       "      <td>17</td>\n",
       "      <td>19007</td>\n",
       "      <td>24211</td>\n",
       "      <td>True</td>\n",
       "      <td></td>\n",
       "      <td>False</td>\n",
       "      <td>False</td>\n",
       "      <td>False</td>\n",
       "      <td>True</td>\n",
       "    </tr>\n",
       "    <tr>\n",
       "      <th>18</th>\n",
       "      <td>18</td>\n",
       "      <td>4706</td>\n",
       "      <td>24211</td>\n",
       "      <td>True</td>\n",
       "      <td></td>\n",
       "      <td>False</td>\n",
       "      <td>False</td>\n",
       "      <td>False</td>\n",
       "      <td>True</td>\n",
       "    </tr>\n",
       "    <tr>\n",
       "      <th>19</th>\n",
       "      <td>19</td>\n",
       "      <td>18171</td>\n",
       "      <td>23283</td>\n",
       "      <td>True</td>\n",
       "      <td></td>\n",
       "      <td>True</td>\n",
       "      <td>True</td>\n",
       "      <td>True</td>\n",
       "      <td>True</td>\n",
       "    </tr>\n",
       "    <tr>\n",
       "      <th>20</th>\n",
       "      <td>20</td>\n",
       "      <td>3255</td>\n",
       "      <td>23283</td>\n",
       "      <td>True</td>\n",
       "      <td></td>\n",
       "      <td>True</td>\n",
       "      <td>True</td>\n",
       "      <td>True</td>\n",
       "      <td>True</td>\n",
       "    </tr>\n",
       "    <tr>\n",
       "      <th>21</th>\n",
       "      <td>21</td>\n",
       "      <td>16936</td>\n",
       "      <td>23283</td>\n",
       "      <td>True</td>\n",
       "      <td></td>\n",
       "      <td>True</td>\n",
       "      <td>True</td>\n",
       "      <td>True</td>\n",
       "      <td>True</td>\n",
       "    </tr>\n",
       "    <tr>\n",
       "      <th>22</th>\n",
       "      <td>22</td>\n",
       "      <td>16351</td>\n",
       "      <td>22223</td>\n",
       "      <td>True</td>\n",
       "      <td></td>\n",
       "      <td>True</td>\n",
       "      <td>True</td>\n",
       "      <td>True</td>\n",
       "      <td>True</td>\n",
       "    </tr>\n",
       "    <tr>\n",
       "      <th>23</th>\n",
       "      <td>23</td>\n",
       "      <td>18937</td>\n",
       "      <td>22223</td>\n",
       "      <td>True</td>\n",
       "      <td></td>\n",
       "      <td>True</td>\n",
       "      <td>False</td>\n",
       "      <td>True</td>\n",
       "      <td>True</td>\n",
       "    </tr>\n",
       "    <tr>\n",
       "      <th>24</th>\n",
       "      <td>24</td>\n",
       "      <td>16399</td>\n",
       "      <td>22223</td>\n",
       "      <td>True</td>\n",
       "      <td></td>\n",
       "      <td>True</td>\n",
       "      <td>False</td>\n",
       "      <td>True</td>\n",
       "      <td>True</td>\n",
       "    </tr>\n",
       "    <tr>\n",
       "      <th>25</th>\n",
       "      <td>25</td>\n",
       "      <td>15490</td>\n",
       "      <td>23851</td>\n",
       "      <td>True</td>\n",
       "      <td></td>\n",
       "      <td>True</td>\n",
       "      <td>True</td>\n",
       "      <td>True</td>\n",
       "      <td>True</td>\n",
       "    </tr>\n",
       "    <tr>\n",
       "      <th>26</th>\n",
       "      <td>26</td>\n",
       "      <td>16438</td>\n",
       "      <td>23851</td>\n",
       "      <td>True</td>\n",
       "      <td></td>\n",
       "      <td>False</td>\n",
       "      <td>True</td>\n",
       "      <td>False</td>\n",
       "      <td>False</td>\n",
       "    </tr>\n",
       "    <tr>\n",
       "      <th>27</th>\n",
       "      <td>27</td>\n",
       "      <td>13180</td>\n",
       "      <td>23851</td>\n",
       "      <td>True</td>\n",
       "      <td></td>\n",
       "      <td>False</td>\n",
       "      <td>False</td>\n",
       "      <td>False</td>\n",
       "      <td>False</td>\n",
       "    </tr>\n",
       "    <tr>\n",
       "      <th>28</th>\n",
       "      <td>28</td>\n",
       "      <td>4283</td>\n",
       "      <td>22090</td>\n",
       "      <td>True</td>\n",
       "      <td></td>\n",
       "      <td>True</td>\n",
       "      <td>False</td>\n",
       "      <td>False</td>\n",
       "      <td>False</td>\n",
       "    </tr>\n",
       "    <tr>\n",
       "      <th>29</th>\n",
       "      <td>29</td>\n",
       "      <td>17365</td>\n",
       "      <td>22090</td>\n",
       "      <td>True</td>\n",
       "      <td></td>\n",
       "      <td>False</td>\n",
       "      <td>True</td>\n",
       "      <td>True</td>\n",
       "      <td>True</td>\n",
       "    </tr>\n",
       "  </tbody>\n",
       "</table>\n",
       "</div>"
      ],
      "text/plain": [
       "    Unnamed: 0    id1    id2  label prompt1_en_short_temp_0_gpt3.5-0301  \\\n",
       "0            0   7784  23390   True                                       \n",
       "1            1  15123  23390   True                                       \n",
       "2            2  21113  23390   True                                       \n",
       "3            3   7384  22973   True                                       \n",
       "4            4  11344  22973   True                                       \n",
       "5            5  15336  22973   True                                       \n",
       "6            6   8176  24537   True                                       \n",
       "7            7  14118  24537   True                                       \n",
       "8            8  20398  23769   True                                       \n",
       "9            9  11027  23769   True                                       \n",
       "10          10   3794  23769   True                                       \n",
       "11          11  20393  22550   True                                       \n",
       "12          12  12747  22550   True                                       \n",
       "13          13    782  22550   True                                       \n",
       "14          14  13593  23541   True                                       \n",
       "15          15  15576  23541   True                                       \n",
       "16          16  11642  23541   True                                       \n",
       "17          17  19007  24211   True                                       \n",
       "18          18   4706  24211   True                                       \n",
       "19          19  18171  23283   True                                       \n",
       "20          20   3255  23283   True                                       \n",
       "21          21  16936  23283   True                                       \n",
       "22          22  16351  22223   True                                       \n",
       "23          23  18937  22223   True                                       \n",
       "24          24  16399  22223   True                                       \n",
       "25          25  15490  23851   True                                       \n",
       "26          26  16438  23851   True                                       \n",
       "27          27  13180  23851   True                                       \n",
       "28          28   4283  22090   True                                       \n",
       "29          29  17365  22090   True                                       \n",
       "\n",
       "    match_prompt_manual_fewshot_1_eval2_temp_0_gpt3.5_0301  \\\n",
       "0                                               False        \n",
       "1                                               False        \n",
       "2                                                True        \n",
       "3                                                True        \n",
       "4                                                True        \n",
       "5                                                True        \n",
       "6                                                True        \n",
       "7                                                True        \n",
       "8                                                True        \n",
       "9                                                True        \n",
       "10                                               True        \n",
       "11                                               True        \n",
       "12                                               True        \n",
       "13                                               True        \n",
       "14                                               True        \n",
       "15                                              False        \n",
       "16                                              False        \n",
       "17                                              False        \n",
       "18                                              False        \n",
       "19                                               True        \n",
       "20                                               True        \n",
       "21                                               True        \n",
       "22                                               True        \n",
       "23                                               True        \n",
       "24                                               True        \n",
       "25                                               True        \n",
       "26                                              False        \n",
       "27                                              False        \n",
       "28                                               True        \n",
       "29                                              False        \n",
       "\n",
       "    match_prompt_auto_fewshot_1_eval2_temp_0_gpt3.5_0301  \\\n",
       "0                                               False      \n",
       "1                                               False      \n",
       "2                                                True      \n",
       "3                                                True      \n",
       "4                                               False      \n",
       "5                                                True      \n",
       "6                                                True      \n",
       "7                                                True      \n",
       "8                                               False      \n",
       "9                                               False      \n",
       "10                                              False      \n",
       "11                                               True      \n",
       "12                                              False      \n",
       "13                                              False      \n",
       "14                                              False      \n",
       "15                                               True      \n",
       "16                                              False      \n",
       "17                                              False      \n",
       "18                                              False      \n",
       "19                                               True      \n",
       "20                                               True      \n",
       "21                                               True      \n",
       "22                                               True      \n",
       "23                                              False      \n",
       "24                                              False      \n",
       "25                                               True      \n",
       "26                                               True      \n",
       "27                                              False      \n",
       "28                                              False      \n",
       "29                                               True      \n",
       "\n",
       "    match_prompt_auto_fewshot_2_ama_wal_eval2_temp_0_gpt3.5_0301  \\\n",
       "0                                               False              \n",
       "1                                               False              \n",
       "2                                               False              \n",
       "3                                                True              \n",
       "4                                                True              \n",
       "5                                                True              \n",
       "6                                                True              \n",
       "7                                                True              \n",
       "8                                               False              \n",
       "9                                               False              \n",
       "10                                               True              \n",
       "11                                               True              \n",
       "12                                              False              \n",
       "13                                              False              \n",
       "14                                              False              \n",
       "15                                              False              \n",
       "16                                              False              \n",
       "17                                              False              \n",
       "18                                              False              \n",
       "19                                               True              \n",
       "20                                               True              \n",
       "21                                               True              \n",
       "22                                               True              \n",
       "23                                               True              \n",
       "24                                               True              \n",
       "25                                               True              \n",
       "26                                              False              \n",
       "27                                              False              \n",
       "28                                              False              \n",
       "29                                               True              \n",
       "\n",
       "    match_prompt_auto_fewshot_ama_wal_4examples_eval2_temp_0_gpt3.5_0301  \n",
       "0                                               False                     \n",
       "1                                                True                     \n",
       "2                                                True                     \n",
       "3                                                True                     \n",
       "4                                                True                     \n",
       "5                                                True                     \n",
       "6                                                True                     \n",
       "7                                                True                     \n",
       "8                                                True                     \n",
       "9                                                True                     \n",
       "10                                               True                     \n",
       "11                                               True                     \n",
       "12                                               True                     \n",
       "13                                              False                     \n",
       "14                                              False                     \n",
       "15                                              False                     \n",
       "16                                              False                     \n",
       "17                                               True                     \n",
       "18                                               True                     \n",
       "19                                               True                     \n",
       "20                                               True                     \n",
       "21                                               True                     \n",
       "22                                               True                     \n",
       "23                                               True                     \n",
       "24                                               True                     \n",
       "25                                               True                     \n",
       "26                                              False                     \n",
       "27                                              False                     \n",
       "28                                              False                     \n",
       "29                                               True                     "
      ]
     },
     "execution_count": 4,
     "metadata": {},
     "output_type": "execute_result"
    }
   ],
   "source": [
    "df_mapping.head(30)"
   ]
  },
  {
   "cell_type": "code",
   "execution_count": 5,
   "metadata": {},
   "outputs": [],
   "source": [
    "from langchain.chat_models import ChatOpenAI\n",
    "from langchain.llms import OpenAI\n"
   ]
  },
  {
   "cell_type": "code",
   "execution_count": 6,
   "metadata": {},
   "outputs": [
    {
     "data": {
      "text/plain": [
       "True"
      ]
     },
     "execution_count": 6,
     "metadata": {},
     "output_type": "execute_result"
    }
   ],
   "source": [
    "from dotenv import load_dotenv\n",
    "import os\n",
    "load_dotenv()\n"
   ]
  },
  {
   "cell_type": "code",
   "execution_count": 7,
   "metadata": {},
   "outputs": [],
   "source": [
    "from langfuse.callback import CallbackHandler\n",
    "handler = CallbackHandler(os.environ.get(\"LF_PK\"), os.environ.get(\"LF_SK\"), os.environ.get(\"LF_HOST\"))"
   ]
  },
  {
   "cell_type": "code",
   "execution_count": 8,
   "metadata": {},
   "outputs": [],
   "source": [
    "def cut_length(string ,length = 250):\n",
    "    return string[0:length]"
   ]
  },
  {
   "cell_type": "code",
   "execution_count": 9,
   "metadata": {},
   "outputs": [],
   "source": [
    "\n",
    "# product1 = \"Title: \" + cut_length(str(df[\"title_left\"][1] or \"none\")) + \"\\nDescription: \" + cut_length(str(df[\"description_left\"][1] or \"none\"))\n",
    "# product2 = \"Title: \" + cut_length(str(df[\"title_right\"][1] or \"none\")) + \"\\nDescription: \" + cut_length(str(df[\"description_right\"][1] or \"none\"))\n",
    "\n",
    "\n",
    "\n",
    "# product1 = \"Title: \" + cut_length(str(df[\"title_left\"][1] or \"none\")) + \"\\nDescription: \" + cut_length(str(df[\"description_left\"][1] or \"none\")) + \"\\nBrand:\" + str(df[\"brand_left\"][1] or \"none\") \n",
    "# product2 = \"Title: \" + cut_length(str(df[\"title_right\"][1] or \"none\")) + \"\\nDescription: \" + cut_length(str(df[\"description_right\"][1] or \"none\")) + \"\\nBrand:\" + str(df[\"brand_right\"][1] or \"none\") "
   ]
  },
  {
   "cell_type": "code",
   "execution_count": 10,
   "metadata": {},
   "outputs": [],
   "source": [
    "saved_prompts_df = pd.read_csv(SAVED_PROMPTS_PATH)\n",
    "\n",
    "def saveResponse(prompt, response, isMatch, index):\n",
    "    # create new column if not exists \n",
    "    if \"prompt_\" + prompt_name not in saved_prompts_df.columns:\n",
    "        saved_prompts_df[\"prompt_\" + prompt_name] = \"\"\n",
    "        saved_prompts_df[\"response_\" + prompt_name] = \"\"\n",
    "        saved_prompts_df[\"isMatch_\" + prompt_name] = \"\"\n",
    "\n",
    "\n",
    "    \n",
    "    # save response prompt and isMatch to df at index\n",
    "    saved_prompts_df.at[index, \"prompt_\" + prompt_name] = prompt\n",
    "    saved_prompts_df.at[index, \"response_\" + prompt_name] = response\n",
    "    saved_prompts_df.at[index, \"isMatch_\" + prompt_name] = isMatch\n",
    "    \n",
    "    "
   ]
  },
  {
   "cell_type": "code",
   "execution_count": 11,
   "metadata": {},
   "outputs": [
    {
     "name": "stdout",
     "output_type": "stream",
     "text": [
      "the pocket size koss 3 band equalizer delivers high fidelity performance and output normally reserved for more expensive home systems with a 10db boost or 10db cut range of level it features a 3 band equalizer that allows for convenient and individual bass midrange and treble adjustment power output is greater than 20mw per channel providing clean and undistorted output into your favorite stereophones ergonomically designed for easy handling a rotary volume control and on off switch are placed for convenient usage \n"
     ]
    }
   ],
   "source": [
    "# print(df_products)\n",
    "df_products\n",
    "print(str(df_products[\"longdescr\"][0]))\n"
   ]
  },
  {
   "cell_type": "code",
   "execution_count": 12,
   "metadata": {},
   "outputs": [],
   "source": [
    "def evaluate(df, prompt, temp=0, start = 0):\n",
    "    # start = len(df) - start - 1\n",
    "    if (MODEL == \"gpt-3.5-turbo-instruct\"):\n",
    "        llm = OpenAI(model_name=MODEL, temperature=temp,max_tokens=MAX_TOKENS)\n",
    "        print(\"Using OpenAI\")\n",
    "    else:\n",
    "        llm = ChatOpenAI(model_name=MODEL, temperature=temp,max_tokens=MAX_TOKENS)\n",
    "    for i in range(start, len(df)):\n",
    "        print(i)\n",
    "        # Creating Prompt and sending request and printing informations\n",
    "\n",
    "        brandl = \"\"\n",
    "        brandr = \"\"\n",
    "        if (df_products[\"brand\"][df[\"id1\"][i]-1]):\n",
    "            brandl = \"\\nBrand: \" + str(df_products[\"brand\"][df[\"id1\"][i]-1])\n",
    "        if (df_products[\"brand\"][df[\"id2\"][i]-1]):\n",
    "            brandr = \"\\nBrand: \" + str(df_products[\"brand\"][df[\"id2\"][i]-1])\n",
    "        \n",
    "        product1 = \"Title: \" + cut_length(str(df_products[\"title\"][df[\"id1\"][i]-1] or \"none\")) +brandl+\"\\nDescription: \" + cut_length(str(df_products[\"longdescr\"][df[\"id1\"][i]-1] or \"none\")) \n",
    "        product2 = \"Title: \" + cut_length(str(df_products[\"title\"][df[\"id2\"][i]-1] or \"none\")) +brandr+ \"\\nDescription: \" + cut_length(str(df_products[\"longdescr\"][df[\"id2\"][i]-1] or \"none\")) \n",
    "\n",
    "        chain = LLMChain(llm=llm, prompt=prompt, callbacks=[handler])\n",
    "        \n",
    "        try:\n",
    "            response = chain.run(p1=product1, p2=product2, callbacks=[handler])        \n",
    "        except Exception as e:\n",
    "            print(e)\n",
    "            i -= 1\n",
    "            continue\n",
    "\n",
    "        formatted_prompt = chain.prompt.format_prompt(p1=product1, p2=product2).text\n",
    "        # if(i < 5):\n",
    "        print(formatted_prompt)\n",
    "        print(\"__\\n__\")\n",
    "        print(response)\n",
    "        print(\"__\\n__\")\n",
    "        \n",
    "        #Processing Response    \n",
    "        isMatch = False\n",
    "        if (\"True\" in response or \"true\" in response or \"yes\" in response):\n",
    "            isMatch = True\n",
    "        elif (\"False\" in response or \"false\" in response or \"no\" in response):\n",
    "            isMatch = False\n",
    "        \n",
    "        df[prompt_name][i] = isMatch\n",
    "\n",
    "\n",
    "        saveResponse(formatted_prompt, response, isMatch, i)"
   ]
  },
  {
   "cell_type": "code",
   "execution_count": 13,
   "metadata": {},
   "outputs": [
    {
     "name": "stdout",
     "output_type": "stream",
     "text": [
      "0\n",
      "Are the following two products the same?\n",
      "Product 1: Title: optoma bl fp230c replacement projector lamp bulb with housing high quality replacement lamp\n",
      "Brand: shopforbattery\n",
      "Description: this shopforbattery part number sfp 213 123271 is the premium projector lamp that replaced the optoma bl fp230c this projector lamp is a brand new lamp with new housing and tested to be 100 oem compatible it is different from other sellers that only \n",
      "Product 2: Title: optoma bl fp230c replacement projector lamp for optoma ep749 projector\n",
      "Brand: optoma\n",
      "Description: none\n",
      "\n",
      "Answer with 'True' or 'False'.\n",
      "__\n",
      "__\n",
      "True\n",
      "__\n",
      "__\n",
      "1\n"
     ]
    },
    {
     "name": "stderr",
     "output_type": "stream",
     "text": [
      "/var/folders/gx/tzjwcf8x1llbhhf36mjt7xqr0000gn/T/ipykernel_98243/3776050204.py:45: SettingWithCopyWarning: \n",
      "A value is trying to be set on a copy of a slice from a DataFrame\n",
      "\n",
      "See the caveats in the documentation: https://pandas.pydata.org/pandas-docs/stable/user_guide/indexing.html#returning-a-view-versus-a-copy\n",
      "  df[prompt_name][i] = isMatch\n"
     ]
    },
    {
     "name": "stdout",
     "output_type": "stream",
     "text": [
      "Are the following two products the same?\n",
      "Product 1: Title: electrified bl fp230c sp 85r01gc01 replacement lamp with housing for optoma projectors\n",
      "Brand: electrified\n",
      "Description: brand new replacement projection lamp with brand new housing for optoma projectors 150 day electrified warranty\n",
      "Product 2: Title: optoma bl fp230c replacement projector lamp for optoma ep749 projector\n",
      "Brand: optoma\n",
      "Description: none\n",
      "\n",
      "Answer with 'True' or 'False'.\n",
      "__\n",
      "__\n",
      "False.\n",
      "__\n",
      "__\n",
      "2\n"
     ]
    },
    {
     "name": "stderr",
     "output_type": "stream",
     "text": [
      "/var/folders/gx/tzjwcf8x1llbhhf36mjt7xqr0000gn/T/ipykernel_98243/3776050204.py:45: SettingWithCopyWarning: \n",
      "A value is trying to be set on a copy of a slice from a DataFrame\n",
      "\n",
      "See the caveats in the documentation: https://pandas.pydata.org/pandas-docs/stable/user_guide/indexing.html#returning-a-view-versus-a-copy\n",
      "  df[prompt_name][i] = isMatch\n"
     ]
    },
    {
     "name": "stdout",
     "output_type": "stream",
     "text": [
      "Are the following two products the same?\n",
      "Product 1: Title: optoma bl fp230c replacement lamp for ep749 ep719h\n",
      "Brand: optoma\n",
      "Description: projector lamps drive brightness of a projector over time as the lamp starts to fade the image of the projector will fade with it optoma lamps have been specifically designed for optoma s digital projectors to extend the life and lower the total cost\n",
      "Product 2: Title: optoma bl fp230c replacement projector lamp for optoma ep749 projector\n",
      "Brand: optoma\n",
      "Description: none\n",
      "\n",
      "Answer with 'True' or 'False'.\n",
      "__\n",
      "__\n",
      "True\n",
      "__\n",
      "__\n",
      "3\n"
     ]
    },
    {
     "name": "stderr",
     "output_type": "stream",
     "text": [
      "/var/folders/gx/tzjwcf8x1llbhhf36mjt7xqr0000gn/T/ipykernel_98243/3776050204.py:45: SettingWithCopyWarning: \n",
      "A value is trying to be set on a copy of a slice from a DataFrame\n",
      "\n",
      "See the caveats in the documentation: https://pandas.pydata.org/pandas-docs/stable/user_guide/indexing.html#returning-a-view-versus-a-copy\n",
      "  df[prompt_name][i] = isMatch\n"
     ]
    },
    {
     "name": "stdout",
     "output_type": "stream",
     "text": [
      "Are the following two products the same?\n",
      "Product 1: Title: tl sc3171g surveillance network camera color\n",
      "Brand: tp link\n",
      "Description: tp link technologies tl sc3171g surveillance network camera color tl sc3171g surveillance amp network cameras\n",
      "Product 2: Title: tp link tl sc3171g wireless day night surveillance camera\n",
      "Brand: tp link\n",
      "Description: tp link tl sc3171g wireless day night surveillance camera 1 4 progressive scan cmos sensor mechanical ir cut filter removable for true day night surveillance 12 infrared leds ensures 10 meters effective night vision range 2 way audio allows users to \n",
      "\n",
      "Answer with 'True' or 'False'.\n",
      "__\n",
      "__\n",
      "True\n",
      "__\n",
      "__\n",
      "4\n"
     ]
    },
    {
     "name": "stderr",
     "output_type": "stream",
     "text": [
      "/var/folders/gx/tzjwcf8x1llbhhf36mjt7xqr0000gn/T/ipykernel_98243/3776050204.py:45: SettingWithCopyWarning: \n",
      "A value is trying to be set on a copy of a slice from a DataFrame\n",
      "\n",
      "See the caveats in the documentation: https://pandas.pydata.org/pandas-docs/stable/user_guide/indexing.html#returning-a-view-versus-a-copy\n",
      "  df[prompt_name][i] = isMatch\n"
     ]
    },
    {
     "name": "stdout",
     "output_type": "stream",
     "text": [
      "Are the following two products the same?\n",
      "Product 1: Title: tp link tl sc3171 day and night surveillance camera\n",
      "Brand: tp link\n",
      "Description: tp link tl sc3171 day night surveillance camera\n",
      "Product 2: Title: tp link tl sc3171g wireless day night surveillance camera\n",
      "Brand: tp link\n",
      "Description: tp link tl sc3171g wireless day night surveillance camera 1 4 progressive scan cmos sensor mechanical ir cut filter removable for true day night surveillance 12 infrared leds ensures 10 meters effective night vision range 2 way audio allows users to \n",
      "\n",
      "Answer with 'True' or 'False'.\n",
      "__\n",
      "__\n",
      "False.\n",
      "__\n",
      "__\n",
      "5\n"
     ]
    },
    {
     "name": "stderr",
     "output_type": "stream",
     "text": [
      "/var/folders/gx/tzjwcf8x1llbhhf36mjt7xqr0000gn/T/ipykernel_98243/3776050204.py:45: SettingWithCopyWarning: \n",
      "A value is trying to be set on a copy of a slice from a DataFrame\n",
      "\n",
      "See the caveats in the documentation: https://pandas.pydata.org/pandas-docs/stable/user_guide/indexing.html#returning-a-view-versus-a-copy\n",
      "  df[prompt_name][i] = isMatch\n"
     ]
    },
    {
     "name": "stdout",
     "output_type": "stream",
     "text": [
      "Are the following two products the same?\n",
      "Product 1: Title: tp link tl sc3171g wireless day and night surveillance camera\n",
      "Brand: tp link\n",
      "Description: tp link tl sc3171g wireless day night surveillance camera\n",
      "Product 2: Title: tp link tl sc3171g wireless day night surveillance camera\n",
      "Brand: tp link\n",
      "Description: tp link tl sc3171g wireless day night surveillance camera 1 4 progressive scan cmos sensor mechanical ir cut filter removable for true day night surveillance 12 infrared leds ensures 10 meters effective night vision range 2 way audio allows users to \n",
      "\n",
      "Answer with 'True' or 'False'.\n",
      "__\n",
      "__\n",
      "True\n",
      "__\n",
      "__\n",
      "6\n"
     ]
    },
    {
     "name": "stderr",
     "output_type": "stream",
     "text": [
      "/var/folders/gx/tzjwcf8x1llbhhf36mjt7xqr0000gn/T/ipykernel_98243/3776050204.py:45: SettingWithCopyWarning: \n",
      "A value is trying to be set on a copy of a slice from a DataFrame\n",
      "\n",
      "See the caveats in the documentation: https://pandas.pydata.org/pandas-docs/stable/user_guide/indexing.html#returning-a-view-versus-a-copy\n",
      "  df[prompt_name][i] = isMatch\n"
     ]
    },
    {
     "name": "stdout",
     "output_type": "stream",
     "text": [
      "Are the following two products the same?\n",
      "Product 1: Title: pioneer ts w2502d2 10 champion series pro subwoofer\n",
      "Brand: pioneer\n",
      "Description: powerful design to deliver deep bassair suspension system allows use in extremely small enclosuresrecommended enclosure 35 0 7 cu ftupc 012562940502shipping dimensions 13 50in x 13 20in x 9 90inestimated shipping weight 20 45\n",
      "Product 2: Title: pioneer ts w2502d2 10 champion series pro subwoofer\n",
      "Brand: pioneer\n",
      "Description: pioneer ts w2502d2 10 champion series pro subwoofer air suspension system allows use in extremely small enclosures 0 35 0 7 cubic feet maximum 3000w dual 2 ohm 4 layer long coil 1 ohm x or 4 ohm\n",
      "\n",
      "Answer with 'True' or 'False'.\n",
      "__\n",
      "__\n",
      "True\n",
      "__\n",
      "__\n",
      "7\n"
     ]
    },
    {
     "name": "stderr",
     "output_type": "stream",
     "text": [
      "/var/folders/gx/tzjwcf8x1llbhhf36mjt7xqr0000gn/T/ipykernel_98243/3776050204.py:45: SettingWithCopyWarning: \n",
      "A value is trying to be set on a copy of a slice from a DataFrame\n",
      "\n",
      "See the caveats in the documentation: https://pandas.pydata.org/pandas-docs/stable/user_guide/indexing.html#returning-a-view-versus-a-copy\n",
      "  df[prompt_name][i] = isMatch\n"
     ]
    },
    {
     "name": "stdout",
     "output_type": "stream",
     "text": [
      "Are the following two products the same?\n",
      "Product 1: Title: pioneer ts w2502d2 10 in champion series pro subwoofer with 3000 watts\n",
      "Brand: pioneer\n",
      "Description: pioneer s ts w2502d2 subwoofers are designed to produce powerful bass just take a look at the super heavy duty construction designed to handle up to 3 000 watts max double stacked magnets deliver higher power and a step up radial surround offers supe\n",
      "Product 2: Title: pioneer ts w2502d2 10 champion series pro subwoofer\n",
      "Brand: pioneer\n",
      "Description: pioneer ts w2502d2 10 champion series pro subwoofer air suspension system allows use in extremely small enclosures 0 35 0 7 cubic feet maximum 3000w dual 2 ohm 4 layer long coil 1 ohm x or 4 ohm\n",
      "\n",
      "Answer with 'True' or 'False'.\n",
      "__\n",
      "__\n",
      "True\n",
      "__\n",
      "__\n",
      "8\n"
     ]
    },
    {
     "name": "stderr",
     "output_type": "stream",
     "text": [
      "/var/folders/gx/tzjwcf8x1llbhhf36mjt7xqr0000gn/T/ipykernel_98243/3776050204.py:45: SettingWithCopyWarning: \n",
      "A value is trying to be set on a copy of a slice from a DataFrame\n",
      "\n",
      "See the caveats in the documentation: https://pandas.pydata.org/pandas-docs/stable/user_guide/indexing.html#returning-a-view-versus-a-copy\n",
      "  df[prompt_name][i] = isMatch\n"
     ]
    },
    {
     "name": "stdout",
     "output_type": "stream",
     "text": [
      "Are the following two products the same?\n",
      "Product 1: Title: new haier ptheatre 4 gb 2 pocket theater mp3 player with video herptheatre\n",
      "Brand: haier\n",
      "Description: haier ptheatre 4 gb 2 pocket theater mp3 player with video 4 gb built in memory 2 color lcd display plays mp3 amp wma 14 day free trial with rhapsody r music plays up to 2 000 songs built in speaker for easy sharing 15 hours of continuous mp3 playbac\n",
      "Product 2: Title: haier ptheatre 4gb pocket theater mp3 player\n",
      "Description: haier ptheatre 4gb pocket theater mp3 player 4gb flash memory stores up to 2 000 songs hours of videos or pictures 2 color lcd display features video playback for easier navigation and viewing of artist and song titles or playing your favorite videos\n",
      "\n",
      "Answer with 'True' or 'False'.\n",
      "__\n",
      "__\n",
      "True\n",
      "__\n",
      "__\n",
      "9\n"
     ]
    },
    {
     "name": "stderr",
     "output_type": "stream",
     "text": [
      "/var/folders/gx/tzjwcf8x1llbhhf36mjt7xqr0000gn/T/ipykernel_98243/3776050204.py:45: SettingWithCopyWarning: \n",
      "A value is trying to be set on a copy of a slice from a DataFrame\n",
      "\n",
      "See the caveats in the documentation: https://pandas.pydata.org/pandas-docs/stable/user_guide/indexing.html#returning-a-view-versus-a-copy\n",
      "  df[prompt_name][i] = isMatch\n"
     ]
    },
    {
     "name": "stdout",
     "output_type": "stream",
     "text": [
      "Are the following two products the same?\n",
      "Product 1: Title: haier pocket theatre 2 inch mp3 player with video ptheatre black\n",
      "Brand: haier\n",
      "Description: the haier ptheatre mp3 player with video is an ultra compact and lightweight music and video player it can store up to 2 000 songs in its 4gb built in memory it can play mp3 and wma files with ease and will last through 15 hours of continuous music p\n",
      "Product 2: Title: haier ptheatre 4gb pocket theater mp3 player\n",
      "Description: haier ptheatre 4gb pocket theater mp3 player 4gb flash memory stores up to 2 000 songs hours of videos or pictures 2 color lcd display features video playback for easier navigation and viewing of artist and song titles or playing your favorite videos\n",
      "\n",
      "Answer with 'True' or 'False'.\n",
      "__\n",
      "__\n",
      "True\n",
      "__\n",
      "__\n",
      "10\n"
     ]
    },
    {
     "name": "stderr",
     "output_type": "stream",
     "text": [
      "/var/folders/gx/tzjwcf8x1llbhhf36mjt7xqr0000gn/T/ipykernel_98243/3776050204.py:45: SettingWithCopyWarning: \n",
      "A value is trying to be set on a copy of a slice from a DataFrame\n",
      "\n",
      "See the caveats in the documentation: https://pandas.pydata.org/pandas-docs/stable/user_guide/indexing.html#returning-a-view-versus-a-copy\n",
      "  df[prompt_name][i] = isMatch\n"
     ]
    },
    {
     "name": "stdout",
     "output_type": "stream",
     "text": [
      "Are the following two products the same?\n",
      "Product 1: Title: haier ptheatre 4 gb 2 pocket theater mp3 player with video\n",
      "Brand: haier\n",
      "Description: 4 gb built in memory2 color lcd displayplays mp3 amp wma14 day free trial with rhapsody r musicplays up to 2000 songsbuilt in speaker for easy sharing 15 hours of continuous mp3 playback4 hours of continuous video playbackultra compact lightweight de\n",
      "Product 2: Title: haier ptheatre 4gb pocket theater mp3 player\n",
      "Description: haier ptheatre 4gb pocket theater mp3 player 4gb flash memory stores up to 2 000 songs hours of videos or pictures 2 color lcd display features video playback for easier navigation and viewing of artist and song titles or playing your favorite videos\n",
      "\n",
      "Answer with 'True' or 'False'.\n",
      "__\n",
      "__\n",
      "True\n",
      "__\n",
      "__\n",
      "11\n"
     ]
    },
    {
     "name": "stderr",
     "output_type": "stream",
     "text": [
      "/var/folders/gx/tzjwcf8x1llbhhf36mjt7xqr0000gn/T/ipykernel_98243/3776050204.py:45: SettingWithCopyWarning: \n",
      "A value is trying to be set on a copy of a slice from a DataFrame\n",
      "\n",
      "See the caveats in the documentation: https://pandas.pydata.org/pandas-docs/stable/user_guide/indexing.html#returning-a-view-versus-a-copy\n",
      "  df[prompt_name][i] = isMatch\n"
     ]
    },
    {
     "name": "stdout",
     "output_type": "stream",
     "text": [
      "Are the following two products the same?\n",
      "Product 1: Title: new lowrance 000 10236 001 elite tm 5 dsi fishfinder base lra10236001\n",
      "Brand: lowrance\n",
      "Description: lowrance 000 10236 001 elite tm 5 dsi fishfinder base lowrance downscan imaging tm displays clear photos of views of underwater underneath the boat clearly see boundary layer between lower cooler water amp upper warmer water where fish are located di\n",
      "Product 2: Title: lowrance elite 5 dsi fishfinder base\n",
      "Brand: lowrance\n",
      "Description: lowrance elite 5 dsi fishfinder base detailed photo like viewing easy to use manual fine tuning option 5 256 color tft display 480 x 480 pixels 500w rms power trackback feature built in precision gps antenna\n",
      "\n",
      "Answer with 'True' or 'False'.\n",
      "__\n",
      "__\n",
      "False.\n",
      "__\n",
      "__\n",
      "12\n"
     ]
    },
    {
     "name": "stderr",
     "output_type": "stream",
     "text": [
      "/var/folders/gx/tzjwcf8x1llbhhf36mjt7xqr0000gn/T/ipykernel_98243/3776050204.py:45: SettingWithCopyWarning: \n",
      "A value is trying to be set on a copy of a slice from a DataFrame\n",
      "\n",
      "See the caveats in the documentation: https://pandas.pydata.org/pandas-docs/stable/user_guide/indexing.html#returning-a-view-versus-a-copy\n",
      "  df[prompt_name][i] = isMatch\n"
     ]
    },
    {
     "name": "stdout",
     "output_type": "stream",
     "text": [
      "Are the following two products the same?\n",
      "Product 1: Title: lowrance 000 10236 001 elite tm 5 dsi fishfinder base\n",
      "Brand: lowrance\n",
      "Description: lowrance 000 10236 001 elite tm 5 dsi fishfinder base lowrance downscan imaging tm displays clear photos of views of underwater underneath the boat clearly see boundary layer between lower cooler water amp upper warmer water where fish are located di\n",
      "Product 2: Title: lowrance elite 5 dsi fishfinder base\n",
      "Brand: lowrance\n",
      "Description: lowrance elite 5 dsi fishfinder base detailed photo like viewing easy to use manual fine tuning option 5 256 color tft display 480 x 480 pixels 500w rms power trackback feature built in precision gps antenna\n",
      "\n",
      "Answer with 'True' or 'False'.\n",
      "__\n",
      "__\n",
      "True.\n",
      "__\n",
      "__\n",
      "13\n"
     ]
    },
    {
     "name": "stderr",
     "output_type": "stream",
     "text": [
      "/var/folders/gx/tzjwcf8x1llbhhf36mjt7xqr0000gn/T/ipykernel_98243/3776050204.py:45: SettingWithCopyWarning: \n",
      "A value is trying to be set on a copy of a slice from a DataFrame\n",
      "\n",
      "See the caveats in the documentation: https://pandas.pydata.org/pandas-docs/stable/user_guide/indexing.html#returning-a-view-versus-a-copy\n",
      "  df[prompt_name][i] = isMatch\n"
     ]
    },
    {
     "name": "stdout",
     "output_type": "stream",
     "text": [
      "Are the following two products the same?\n",
      "Product 1: Title: lowrance 000 10236 001 elite 5 dsi downscan imaging chartplotter fishfinder with 5 inch color lcd and basemap\n",
      "Brand: lowrance\n",
      "Description: with lowrance s standalone elite 5 dsi imaging fishfinder with chartplotter you re equipped with a technologically new way to look at finding and fishing hot spots clearly precisely and affordably enjoy better fishing with innovative down looking son\n",
      "Product 2: Title: lowrance elite 5 dsi fishfinder base\n",
      "Brand: lowrance\n",
      "Description: lowrance elite 5 dsi fishfinder base detailed photo like viewing easy to use manual fine tuning option 5 256 color tft display 480 x 480 pixels 500w rms power trackback feature built in precision gps antenna\n",
      "\n",
      "Answer with 'True' or 'False'.\n",
      "__\n",
      "__\n",
      "True\n",
      "__\n",
      "__\n",
      "14\n"
     ]
    },
    {
     "name": "stderr",
     "output_type": "stream",
     "text": [
      "/var/folders/gx/tzjwcf8x1llbhhf36mjt7xqr0000gn/T/ipykernel_98243/3776050204.py:45: SettingWithCopyWarning: \n",
      "A value is trying to be set on a copy of a slice from a DataFrame\n",
      "\n",
      "See the caveats in the documentation: https://pandas.pydata.org/pandas-docs/stable/user_guide/indexing.html#returning-a-view-versus-a-copy\n",
      "  df[prompt_name][i] = isMatch\n"
     ]
    },
    {
     "name": "stdout",
     "output_type": "stream",
     "text": [
      "Are the following two products the same?\n",
      "Product 1: Title: roocase executive leather portfolio black case cover with landscape portrait view stand for samsung galaxy tab tablet p1000 wi fi 3g\n",
      "Brand: roocase\n",
      "Description: limited lifetime replacement warranty like a kangaroo safely carries her young in her pouch roocase offers protective solutions for your precious electronic possessions roocase designers work with your needs in mind ensuring that cases have not only \n",
      "Product 2: Title: roocase executive leather portfolio case for samsung galaxy tab p1000\n",
      "Brand: roocase\n",
      "Description: this roocase leather cover offers optimal protection for your galaxy tab lightweight for taking galaxy tab wherever you go product material genuine leather product weight 0 40 lbs laptop compartment dimensions 7 5 dirt case weighs in at only 7 ounces\n",
      "\n",
      "Answer with 'True' or 'False'.\n",
      "__\n",
      "__\n",
      "False.\n",
      "__\n",
      "__\n",
      "15\n"
     ]
    },
    {
     "name": "stderr",
     "output_type": "stream",
     "text": [
      "/var/folders/gx/tzjwcf8x1llbhhf36mjt7xqr0000gn/T/ipykernel_98243/3776050204.py:45: SettingWithCopyWarning: \n",
      "A value is trying to be set on a copy of a slice from a DataFrame\n",
      "\n",
      "See the caveats in the documentation: https://pandas.pydata.org/pandas-docs/stable/user_guide/indexing.html#returning-a-view-versus-a-copy\n",
      "  df[prompt_name][i] = isMatch\n"
     ]
    },
    {
     "name": "stdout",
     "output_type": "stream",
     "text": [
      "Are the following two products the same?\n",
      "Product 1: Title: roocase executive leather portfolio red case cover with stand for samsung galaxy tab tablet p1000 wi fi 3g\n",
      "Brand: roocase\n",
      "Description: limited lifetime replacement warranty like a kangaroo safely carries her young in her pouch roocase offers protective solutions for your precious electronic possessions roocase designers work with your needs in mind ensuring that cases have not only \n",
      "Product 2: Title: roocase executive leather portfolio case for samsung galaxy tab p1000\n",
      "Brand: roocase\n",
      "Description: this roocase leather cover offers optimal protection for your galaxy tab lightweight for taking galaxy tab wherever you go product material genuine leather product weight 0 40 lbs laptop compartment dimensions 7 5 dirt case weighs in at only 7 ounces\n",
      "\n",
      "Answer with 'True' or 'False'.\n",
      "__\n",
      "__\n",
      "False.\n",
      "__\n",
      "__\n",
      "16\n"
     ]
    },
    {
     "name": "stderr",
     "output_type": "stream",
     "text": [
      "/var/folders/gx/tzjwcf8x1llbhhf36mjt7xqr0000gn/T/ipykernel_98243/3776050204.py:45: SettingWithCopyWarning: \n",
      "A value is trying to be set on a copy of a slice from a DataFrame\n",
      "\n",
      "See the caveats in the documentation: https://pandas.pydata.org/pandas-docs/stable/user_guide/indexing.html#returning-a-view-versus-a-copy\n",
      "  df[prompt_name][i] = isMatch\n"
     ]
    },
    {
     "name": "stdout",
     "output_type": "stream",
     "text": [
      "Are the following two products the same?\n",
      "Product 1: Title: roocase executive leather portfolio magenta case cover with stand for samsung galaxy tab tablet p1000 wi fi 3g\n",
      "Brand: roocase\n",
      "Description: limited lifetime replacement warranty like a kangaroo safely carries her young in her pouch roocase offers protective solutions for your precious electronic possessions roocase designers work with your needs in mind ensuring that cases have not only \n",
      "Product 2: Title: roocase executive leather portfolio case for samsung galaxy tab p1000\n",
      "Brand: roocase\n",
      "Description: this roocase leather cover offers optimal protection for your galaxy tab lightweight for taking galaxy tab wherever you go product material genuine leather product weight 0 40 lbs laptop compartment dimensions 7 5 dirt case weighs in at only 7 ounces\n",
      "\n",
      "Answer with 'True' or 'False'.\n",
      "__\n",
      "__\n",
      "False.\n",
      "__\n",
      "__\n",
      "17\n"
     ]
    },
    {
     "name": "stderr",
     "output_type": "stream",
     "text": [
      "/var/folders/gx/tzjwcf8x1llbhhf36mjt7xqr0000gn/T/ipykernel_98243/3776050204.py:45: SettingWithCopyWarning: \n",
      "A value is trying to be set on a copy of a slice from a DataFrame\n",
      "\n",
      "See the caveats in the documentation: https://pandas.pydata.org/pandas-docs/stable/user_guide/indexing.html#returning-a-view-versus-a-copy\n",
      "  df[prompt_name][i] = isMatch\n"
     ]
    },
    {
     "name": "stdout",
     "output_type": "stream",
     "text": [
      "Are the following two products the same?\n",
      "Product 1: Title: new lorex lw1002w 2 wireless camera system obs systems home security\n",
      "Brand: lorex\n",
      "Description: connects easily to tv dvr or vcr signal will not interfere with household wi fi network compact design for discreet placement up to 300 ft outdoor amp 100 ft indoor wireless range 10 ft night vision built in microphone for listen in audio weather res\n",
      "Product 2: Title: lorex lw1002 live wireless security cameras\n",
      "Brand: lorex\n",
      "Description: lorex lw1002 live wireless security cameras connects in minutes to a tv vcr or dvd recorder compact camera design for discreet monitoring install cameras indoors or outdoors signal will not interfere with your wi fi network night vision for low light\n",
      "\n",
      "Answer with 'True' or 'False'.\n",
      "__\n",
      "__\n",
      "True\n",
      "__\n",
      "__\n",
      "18\n"
     ]
    },
    {
     "name": "stderr",
     "output_type": "stream",
     "text": [
      "/var/folders/gx/tzjwcf8x1llbhhf36mjt7xqr0000gn/T/ipykernel_98243/3776050204.py:45: SettingWithCopyWarning: \n",
      "A value is trying to be set on a copy of a slice from a DataFrame\n",
      "\n",
      "See the caveats in the documentation: https://pandas.pydata.org/pandas-docs/stable/user_guide/indexing.html#returning-a-view-versus-a-copy\n",
      "  df[prompt_name][i] = isMatch\n"
     ]
    },
    {
     "name": "stdout",
     "output_type": "stream",
     "text": [
      "Are the following two products the same?\n",
      "Product 1: Title: lorex live lw1002w cctv camera outdoor weatherproof color day night 360 tvl audio pack of 2\n",
      "Brand: lorex\n",
      "Description: connects in minutes to a tv vcr or dvd recordercompact camera design for discreet monitoringinstall cameras indoors or outdoorssignal will not interfere with your wi fi networknight vision for low light viewing up to 10 feetautomatic or manual camera\n",
      "Product 2: Title: lorex lw1002 live wireless security cameras\n",
      "Brand: lorex\n",
      "Description: lorex lw1002 live wireless security cameras connects in minutes to a tv vcr or dvd recorder compact camera design for discreet monitoring install cameras indoors or outdoors signal will not interfere with your wi fi network night vision for low light\n",
      "\n",
      "Answer with 'True' or 'False'.\n",
      "__\n",
      "__\n",
      "True\n",
      "__\n",
      "__\n",
      "19\n"
     ]
    },
    {
     "name": "stderr",
     "output_type": "stream",
     "text": [
      "/var/folders/gx/tzjwcf8x1llbhhf36mjt7xqr0000gn/T/ipykernel_98243/3776050204.py:45: SettingWithCopyWarning: \n",
      "A value is trying to be set on a copy of a slice from a DataFrame\n",
      "\n",
      "See the caveats in the documentation: https://pandas.pydata.org/pandas-docs/stable/user_guide/indexing.html#returning-a-view-versus-a-copy\n",
      "  df[prompt_name][i] = isMatch\n"
     ]
    },
    {
     "name": "stdout",
     "output_type": "stream",
     "text": [
      "Are the following two products the same?\n",
      "Product 1: Title: xantech 283dmw designer blink emitter single mini wire\n",
      "Brand: xantech\n",
      "Description: visible low output mini emitter deep purple lexan shell clear adhesive film included on emitter housing for attachment to ir window of controlled component two 5 pieces of double sided clear adhesive tape included for replacement purposes lead is ter\n",
      "Product 2: Title: xantech 283dmw designer blink emitter single mini wire\n",
      "Brand: xantech\n",
      "Description: xantech designer blink emitter single mini wire clear adhesive film 2 x 0 5 pieces of double sided clear adhesive tape 3 5mm mono mini plug 6 mini wire deep purple lexan shell\n",
      "\n",
      "Answer with 'True' or 'False'.\n",
      "__\n",
      "__\n",
      "True\n",
      "__\n",
      "__\n",
      "20\n"
     ]
    },
    {
     "name": "stderr",
     "output_type": "stream",
     "text": [
      "/var/folders/gx/tzjwcf8x1llbhhf36mjt7xqr0000gn/T/ipykernel_98243/3776050204.py:45: SettingWithCopyWarning: \n",
      "A value is trying to be set on a copy of a slice from a DataFrame\n",
      "\n",
      "See the caveats in the documentation: https://pandas.pydata.org/pandas-docs/stable/user_guide/indexing.html#returning-a-view-versus-a-copy\n",
      "  df[prompt_name][i] = isMatch\n"
     ]
    },
    {
     "name": "stdout",
     "output_type": "stream",
     "text": [
      "Are the following two products the same?\n",
      "Product 1: Title: xantech 283dmw designer blink emitter single mini wire\n",
      "Brand: xantech\n",
      "Description: visible low output mini emitter deep purple lexan shell clear adhesive film included on emitter housing for attachment to ir window of controlled component two 5 pieces of double sided clear adhesive tape included for replacement purposes lead is ter\n",
      "Product 2: Title: xantech 283dmw designer blink emitter single mini wire\n",
      "Brand: xantech\n",
      "Description: xantech designer blink emitter single mini wire clear adhesive film 2 x 0 5 pieces of double sided clear adhesive tape 3 5mm mono mini plug 6 mini wire deep purple lexan shell\n",
      "\n",
      "Answer with 'True' or 'False'.\n",
      "__\n",
      "__\n",
      "True\n",
      "__\n",
      "__\n",
      "21\n"
     ]
    },
    {
     "name": "stderr",
     "output_type": "stream",
     "text": [
      "/var/folders/gx/tzjwcf8x1llbhhf36mjt7xqr0000gn/T/ipykernel_98243/3776050204.py:45: SettingWithCopyWarning: \n",
      "A value is trying to be set on a copy of a slice from a DataFrame\n",
      "\n",
      "See the caveats in the documentation: https://pandas.pydata.org/pandas-docs/stable/user_guide/indexing.html#returning-a-view-versus-a-copy\n",
      "  df[prompt_name][i] = isMatch\n"
     ]
    },
    {
     "name": "stdout",
     "output_type": "stream",
     "text": [
      "Are the following two products the same?\n",
      "Product 1: Title: xantech 283dmw designer blink emitter single mini wire\n",
      "Brand: xantech\n",
      "Description: visible low output mini emitterdeep purple lexan shellclear adhesive film included on emitter housing for attachment to ir window of controlled componenttwo 5 pieces of double sided clear adhesive tape included for replacement purposeslead is termina\n",
      "Product 2: Title: xantech 283dmw designer blink emitter single mini wire\n",
      "Brand: xantech\n",
      "Description: xantech designer blink emitter single mini wire clear adhesive film 2 x 0 5 pieces of double sided clear adhesive tape 3 5mm mono mini plug 6 mini wire deep purple lexan shell\n",
      "\n",
      "Answer with 'True' or 'False'.\n",
      "__\n",
      "__\n",
      "True\n",
      "__\n",
      "__\n",
      "22\n"
     ]
    },
    {
     "name": "stderr",
     "output_type": "stream",
     "text": [
      "/var/folders/gx/tzjwcf8x1llbhhf36mjt7xqr0000gn/T/ipykernel_98243/3776050204.py:45: SettingWithCopyWarning: \n",
      "A value is trying to be set on a copy of a slice from a DataFrame\n",
      "\n",
      "See the caveats in the documentation: https://pandas.pydata.org/pandas-docs/stable/user_guide/indexing.html#returning-a-view-versus-a-copy\n",
      "  df[prompt_name][i] = isMatch\n"
     ]
    },
    {
     "name": "stdout",
     "output_type": "stream",
     "text": [
      "Are the following two products the same?\n",
      "Product 1: Title: xerox 108r00579 108r00579 transfer roller\n",
      "Brand: xerox\n",
      "Description: get consistent performance high quality output reliability saves time and increases productivity supplies are easy to install and maintain device types n a oem compatible oem page yield 100000 supply type transfer roller \n",
      "Product 2: Title: xerox 108r00579 transfer roller\n",
      "Brand: xerox\n",
      "Description: print technology laser page yield 100 000 pages compatible with the xerox phaser 7500\n",
      "\n",
      "Answer with 'True' or 'False'.\n",
      "__\n",
      "__\n",
      "True\n",
      "__\n",
      "__\n",
      "23\n"
     ]
    },
    {
     "name": "stderr",
     "output_type": "stream",
     "text": [
      "/var/folders/gx/tzjwcf8x1llbhhf36mjt7xqr0000gn/T/ipykernel_98243/3776050204.py:45: SettingWithCopyWarning: \n",
      "A value is trying to be set on a copy of a slice from a DataFrame\n",
      "\n",
      "See the caveats in the documentation: https://pandas.pydata.org/pandas-docs/stable/user_guide/indexing.html#returning-a-view-versus-a-copy\n",
      "  df[prompt_name][i] = isMatch\n"
     ]
    },
    {
     "name": "stdout",
     "output_type": "stream",
     "text": [
      "Are the following two products the same?\n",
      "Product 1: Title: xerox 108r00579 transfer roller for xerox phaser 7750 laser printer\n",
      "Brand: xerox\n",
      "Description: transfer roller for xerox phaser 7750 laser printer\n",
      "Product 2: Title: xerox 108r00579 transfer roller\n",
      "Brand: xerox\n",
      "Description: print technology laser page yield 100 000 pages compatible with the xerox phaser 7500\n",
      "\n",
      "Answer with 'True' or 'False'.\n",
      "__\n",
      "__\n",
      "True\n",
      "__\n",
      "__\n",
      "24\n"
     ]
    },
    {
     "name": "stderr",
     "output_type": "stream",
     "text": [
      "/var/folders/gx/tzjwcf8x1llbhhf36mjt7xqr0000gn/T/ipykernel_98243/3776050204.py:45: SettingWithCopyWarning: \n",
      "A value is trying to be set on a copy of a slice from a DataFrame\n",
      "\n",
      "See the caveats in the documentation: https://pandas.pydata.org/pandas-docs/stable/user_guide/indexing.html#returning-a-view-versus-a-copy\n",
      "  df[prompt_name][i] = isMatch\n"
     ]
    },
    {
     "name": "stdout",
     "output_type": "stream",
     "text": [
      "Are the following two products the same?\n",
      "Product 1: Title: new xerox 108r00579 108r00579 transfer roller xer108r00579\n",
      "Brand: xerox\n",
      "Description: get consistent performance high quality output reliability saves time and increases productivity supplies are easy to install and maintain device types n a oem compatible oem page yield 100000 supply type transfer roller color printer laser printer p\n",
      "Product 2: Title: xerox 108r00579 transfer roller\n",
      "Brand: xerox\n",
      "Description: print technology laser page yield 100 000 pages compatible with the xerox phaser 7500\n",
      "\n",
      "Answer with 'True' or 'False'.\n",
      "__\n",
      "__\n",
      "True\n",
      "__\n",
      "__\n",
      "25\n"
     ]
    },
    {
     "name": "stderr",
     "output_type": "stream",
     "text": [
      "/var/folders/gx/tzjwcf8x1llbhhf36mjt7xqr0000gn/T/ipykernel_98243/3776050204.py:45: SettingWithCopyWarning: \n",
      "A value is trying to be set on a copy of a slice from a DataFrame\n",
      "\n",
      "See the caveats in the documentation: https://pandas.pydata.org/pandas-docs/stable/user_guide/indexing.html#returning-a-view-versus-a-copy\n",
      "  df[prompt_name][i] = isMatch\n"
     ]
    },
    {
     "name": "stdout",
     "output_type": "stream",
     "text": [
      "Are the following two products the same?\n",
      "Product 1: Title: sharp el 1192bl desktop 2 color printing calculator\n",
      "Brand: sharp\n",
      "Description: the imposing el 1192bl calculator is all business from the no nonsense layout and extra keys designed to meet the needs of businesses to the integrated printer and large clear display this is one calculator that doesn t mess around it feels strange c\n",
      "Product 2: Title: sharp el1192bl printing calculator\n",
      "Brand: sharp\n",
      "Description: printing calculator 12 character lcd 31ps printing speed 4 key memory functions include mark up item counter rounding double zero and adding mode\n",
      "\n",
      "Answer with 'True' or 'False'.\n",
      "__\n",
      "__\n",
      "True\n",
      "__\n",
      "__\n",
      "26\n"
     ]
    },
    {
     "name": "stderr",
     "output_type": "stream",
     "text": [
      "/var/folders/gx/tzjwcf8x1llbhhf36mjt7xqr0000gn/T/ipykernel_98243/3776050204.py:45: SettingWithCopyWarning: \n",
      "A value is trying to be set on a copy of a slice from a DataFrame\n",
      "\n",
      "See the caveats in the documentation: https://pandas.pydata.org/pandas-docs/stable/user_guide/indexing.html#returning-a-view-versus-a-copy\n",
      "  df[prompt_name][i] = isMatch\n"
     ]
    },
    {
     "name": "stdout",
     "output_type": "stream",
     "text": [
      "Are the following two products the same?\n",
      "Product 1: Title: new sharp el1192bl el1192bl two color printing calculator 12 digit lcd black red shrel1192bl\n",
      "Brand: sharp\n",
      "Description: pc touch keyboard memory plus memory minus recall and clear memory keys large 18 7 mm digit size for easy reading of display prints positive numbers in black negative numbers in red on standard paper roll power source s ac display notation numeric nu\n",
      "Product 2: Title: sharp el1192bl printing calculator\n",
      "Brand: sharp\n",
      "Description: printing calculator 12 character lcd 31ps printing speed 4 key memory functions include mark up item counter rounding double zero and adding mode\n",
      "\n",
      "Answer with 'True' or 'False'.\n",
      "__\n",
      "__\n",
      "True\n",
      "__\n",
      "__\n",
      "27\n"
     ]
    },
    {
     "name": "stderr",
     "output_type": "stream",
     "text": [
      "/var/folders/gx/tzjwcf8x1llbhhf36mjt7xqr0000gn/T/ipykernel_98243/3776050204.py:45: SettingWithCopyWarning: \n",
      "A value is trying to be set on a copy of a slice from a DataFrame\n",
      "\n",
      "See the caveats in the documentation: https://pandas.pydata.org/pandas-docs/stable/user_guide/indexing.html#returning-a-view-versus-a-copy\n",
      "  df[prompt_name][i] = isMatch\n"
     ]
    },
    {
     "name": "stdout",
     "output_type": "stream",
     "text": [
      "Are the following two products the same?\n",
      "Product 1: Title: sharp el1192bl two color printing calculator calculator prting desktop pack of2\n",
      "Brand: sharp\n",
      "Description: pc touch keyboard memory plus memory minus recall and clear memory keys large 18 7 mm digit size for easy reading of display pc touch keyboard memory plus memory minus recall and clear memory keys large 18 7 mm digit size for easy reading of display \n",
      "Product 2: Title: sharp el1192bl printing calculator\n",
      "Brand: sharp\n",
      "Description: printing calculator 12 character lcd 31ps printing speed 4 key memory functions include mark up item counter rounding double zero and adding mode\n",
      "\n",
      "Answer with 'True' or 'False'.\n",
      "__\n",
      "__\n",
      "False.\n",
      "__\n",
      "__\n",
      "28\n"
     ]
    },
    {
     "name": "stderr",
     "output_type": "stream",
     "text": [
      "/var/folders/gx/tzjwcf8x1llbhhf36mjt7xqr0000gn/T/ipykernel_98243/3776050204.py:45: SettingWithCopyWarning: \n",
      "A value is trying to be set on a copy of a slice from a DataFrame\n",
      "\n",
      "See the caveats in the documentation: https://pandas.pydata.org/pandas-docs/stable/user_guide/indexing.html#returning-a-view-versus-a-copy\n",
      "  df[prompt_name][i] = isMatch\n"
     ]
    },
    {
     "name": "stdout",
     "output_type": "stream",
     "text": [
      "Are the following two products the same?\n",
      "Product 1: Title: avery 5029 clear self adhesive filing labels 3 7 16 x 2 3 30 sheet 450 pack\n",
      "Brand: avery\n",
      "Description: labels blend with file folder s background color to create a custom printed look guaranteed printer performance in hp canon epson and other popular printers \n",
      "Product 2: Title: avery self adhesive filing labels 1 3 cut 3 7 16 x 2 3 clear 450 pack\n",
      "Brand: avery\n",
      "Description: avery self adhesive filing labels clear 1 3 cut filing labels create as custom look clear labels virtually disappear on tabs labels come in a pack of 450 labels are 3 7 16\n",
      "\n",
      "Answer with 'True' or 'False'.\n",
      "__\n",
      "__\n",
      "True\n",
      "__\n",
      "__\n",
      "29\n"
     ]
    },
    {
     "name": "stderr",
     "output_type": "stream",
     "text": [
      "/var/folders/gx/tzjwcf8x1llbhhf36mjt7xqr0000gn/T/ipykernel_98243/3776050204.py:45: SettingWithCopyWarning: \n",
      "A value is trying to be set on a copy of a slice from a DataFrame\n",
      "\n",
      "See the caveats in the documentation: https://pandas.pydata.org/pandas-docs/stable/user_guide/indexing.html#returning-a-view-versus-a-copy\n",
      "  df[prompt_name][i] = isMatch\n"
     ]
    },
    {
     "name": "stdout",
     "output_type": "stream",
     "text": [
      "Are the following two products the same?\n",
      "Product 1: Title: avery 5029 self adhesive filing labels 1 3 cut 2 3 x 3 7 16 clear 450 pack\n",
      "Brand: avery\n",
      "Description: clear labels virtually disappear on tabs for easy color coding and a custom professional look permanent adhesive is guaranteed to stick and stay easy to use with free avery templates and software see product package for details laser and inkjet compa\n",
      "Product 2: Title: avery self adhesive filing labels 1 3 cut 3 7 16 x 2 3 clear 450 pack\n",
      "Brand: avery\n",
      "Description: avery self adhesive filing labels clear 1 3 cut filing labels create as custom look clear labels virtually disappear on tabs labels come in a pack of 450 labels are 3 7 16\n",
      "\n",
      "Answer with 'True' or 'False'.\n",
      "__\n",
      "__\n",
      "False.\n",
      "__\n",
      "__\n",
      "30\n"
     ]
    },
    {
     "name": "stderr",
     "output_type": "stream",
     "text": [
      "/var/folders/gx/tzjwcf8x1llbhhf36mjt7xqr0000gn/T/ipykernel_98243/3776050204.py:45: SettingWithCopyWarning: \n",
      "A value is trying to be set on a copy of a slice from a DataFrame\n",
      "\n",
      "See the caveats in the documentation: https://pandas.pydata.org/pandas-docs/stable/user_guide/indexing.html#returning-a-view-versus-a-copy\n",
      "  df[prompt_name][i] = isMatch\n"
     ]
    },
    {
     "name": "stdout",
     "output_type": "stream",
     "text": [
      "Are the following two products the same?\n",
      "Product 1: Title: new avery 5029 self adhesive filing labels 1 3 cut 2 3 x 3 7 16 clear 450 pack ave5029\n",
      "Brand: avery\n",
      "Description: clear labels virtually disappear on tabs for easy color coding and a custom professional look permanent adhesive is guaranteed to stick and stay easy to use with free avery templates and software laser and inkjet compatible label size text 2 3 x 3 7 \n",
      "Product 2: Title: avery self adhesive filing labels 1 3 cut 3 7 16 x 2 3 clear 450 pack\n",
      "Brand: avery\n",
      "Description: avery self adhesive filing labels clear 1 3 cut filing labels create as custom look clear labels virtually disappear on tabs labels come in a pack of 450 labels are 3 7 16\n",
      "\n",
      "Answer with 'True' or 'False'.\n",
      "__\n",
      "__\n",
      "False.\n",
      "__\n",
      "__\n",
      "31\n"
     ]
    },
    {
     "name": "stderr",
     "output_type": "stream",
     "text": [
      "/var/folders/gx/tzjwcf8x1llbhhf36mjt7xqr0000gn/T/ipykernel_98243/3776050204.py:45: SettingWithCopyWarning: \n",
      "A value is trying to be set on a copy of a slice from a DataFrame\n",
      "\n",
      "See the caveats in the documentation: https://pandas.pydata.org/pandas-docs/stable/user_guide/indexing.html#returning-a-view-versus-a-copy\n",
      "  df[prompt_name][i] = isMatch\n"
     ]
    },
    {
     "name": "stdout",
     "output_type": "stream",
     "text": [
      "Are the following two products the same?\n",
      "Product 1: Title: epson amer matte presentation paper 27 lbs matte 8 1 2 x 11 100 sheets pack\n",
      "Brand: epson\n",
      "Description: epson presentation paper matte is a smooth non glare instant drying paper for scrapbooks newsletters and graphical presentations mil thickness 4 9 weight 27lb iso brightness 90 opacity 90 \n",
      "Product 2: Title: epson s041062 presentation paper\n",
      "Brand: epson\n",
      "Description: bright white matte presentation paper for use with inkjet printers ideal for newsletters proposals and flyers with photos\n",
      "\n",
      "Answer with 'True' or 'False'.\n",
      "__\n",
      "__\n",
      "False.\n",
      "__\n",
      "__\n",
      "32\n"
     ]
    },
    {
     "name": "stderr",
     "output_type": "stream",
     "text": [
      "/var/folders/gx/tzjwcf8x1llbhhf36mjt7xqr0000gn/T/ipykernel_98243/3776050204.py:45: SettingWithCopyWarning: \n",
      "A value is trying to be set on a copy of a slice from a DataFrame\n",
      "\n",
      "See the caveats in the documentation: https://pandas.pydata.org/pandas-docs/stable/user_guide/indexing.html#returning-a-view-versus-a-copy\n",
      "  df[prompt_name][i] = isMatch\n"
     ]
    },
    {
     "name": "stdout",
     "output_type": "stream",
     "text": [
      "Are the following two products the same?\n",
      "Product 1: Title: epson s041062 matte presentation paper 27 lbs matte 8 1 2 x 11 100 sheets pack\n",
      "Brand: epson\n",
      "Description: smooth finish means you get colorful graphic images and razor sharp black text bright white coated paper is ideal for newsletters flyers reports or special presentations containing photos or graphics guaranteed to work with all inkjet printers size 8\n",
      "Product 2: Title: epson s041062 presentation paper\n",
      "Brand: epson\n",
      "Description: bright white matte presentation paper for use with inkjet printers ideal for newsletters proposals and flyers with photos\n",
      "\n",
      "Answer with 'True' or 'False'.\n",
      "__\n",
      "__\n",
      "True\n",
      "__\n",
      "__\n",
      "33\n"
     ]
    },
    {
     "name": "stderr",
     "output_type": "stream",
     "text": [
      "/var/folders/gx/tzjwcf8x1llbhhf36mjt7xqr0000gn/T/ipykernel_98243/3776050204.py:45: SettingWithCopyWarning: \n",
      "A value is trying to be set on a copy of a slice from a DataFrame\n",
      "\n",
      "See the caveats in the documentation: https://pandas.pydata.org/pandas-docs/stable/user_guide/indexing.html#returning-a-view-versus-a-copy\n",
      "  df[prompt_name][i] = isMatch\n"
     ]
    },
    {
     "name": "stdout",
     "output_type": "stream",
     "text": [
      "Are the following two products the same?\n",
      "Product 1: Title: epson s041062 presentation inkjet letter paper 100 sheets\n",
      "Brand: epson\n",
      "Description: its smooth matte finish means you get colorful graphic images and razor sharp black text bright white coated paper is ideal for newsletters flyers reports or special presentations containing photos or graphics guaranteed to work with all inkjet print\n",
      "Product 2: Title: epson s041062 presentation paper\n",
      "Brand: epson\n",
      "Description: bright white matte presentation paper for use with inkjet printers ideal for newsletters proposals and flyers with photos\n",
      "\n",
      "Answer with 'True' or 'False'.\n",
      "__\n",
      "__\n",
      "True\n",
      "__\n",
      "__\n",
      "34\n"
     ]
    },
    {
     "name": "stderr",
     "output_type": "stream",
     "text": [
      "/var/folders/gx/tzjwcf8x1llbhhf36mjt7xqr0000gn/T/ipykernel_98243/3776050204.py:45: SettingWithCopyWarning: \n",
      "A value is trying to be set on a copy of a slice from a DataFrame\n",
      "\n",
      "See the caveats in the documentation: https://pandas.pydata.org/pandas-docs/stable/user_guide/indexing.html#returning-a-view-versus-a-copy\n",
      "  df[prompt_name][i] = isMatch\n"
     ]
    },
    {
     "name": "stdout",
     "output_type": "stream",
     "text": [
      "Are the following two products the same?\n",
      "Product 1: Title: ape case digital camera case with fold out wallet ac252\n",
      "Brand: norazza\n",
      "Description: ape case digital camera case with fold out wallet ac252 leave your purse or wallet at home with norazza s digital camera case that folds out to a multi pocket wallet with plenty of room for credit cards passport digital media cards money travelers ch\n",
      "Product 2: Title: can be clipped onto a stroller belt or bicycle or simply hung around your neck or shoulder with the straps included in the package\n",
      "Brand: ape case\n",
      "Description:  key features benefits compact design\n",
      "\n",
      "Answer with 'True' or 'False'.\n",
      "__\n",
      "__\n",
      "False.\n",
      "__\n",
      "__\n",
      "35\n"
     ]
    },
    {
     "name": "stderr",
     "output_type": "stream",
     "text": [
      "/var/folders/gx/tzjwcf8x1llbhhf36mjt7xqr0000gn/T/ipykernel_98243/3776050204.py:45: SettingWithCopyWarning: \n",
      "A value is trying to be set on a copy of a slice from a DataFrame\n",
      "\n",
      "See the caveats in the documentation: https://pandas.pydata.org/pandas-docs/stable/user_guide/indexing.html#returning-a-view-versus-a-copy\n",
      "  df[prompt_name][i] = isMatch\n"
     ]
    },
    {
     "name": "stdout",
     "output_type": "stream",
     "text": [
      "Are the following two products the same?\n",
      "Product 1: Title: ape case ac252 tri fold travel wallet digital camera case\n",
      "Brand: ape case\n",
      "Description: folds out to a multi pocket wallet with plenty of room for credit cards passport digital media cards amp more compact design with 13 pockets amp compartments includes removable deluxe comfort shoulder strap amp belt strap black exterior amp yellow in\n",
      "Product 2: Title: can be clipped onto a stroller belt or bicycle or simply hung around your neck or shoulder with the straps included in the package\n",
      "Brand: ape case\n",
      "Description:  key features benefits compact design\n",
      "\n",
      "Answer with 'True' or 'False'.\n",
      "__\n",
      "__\n",
      "False.\n",
      "__\n",
      "__\n",
      "36\n"
     ]
    },
    {
     "name": "stderr",
     "output_type": "stream",
     "text": [
      "/var/folders/gx/tzjwcf8x1llbhhf36mjt7xqr0000gn/T/ipykernel_98243/3776050204.py:45: SettingWithCopyWarning: \n",
      "A value is trying to be set on a copy of a slice from a DataFrame\n",
      "\n",
      "See the caveats in the documentation: https://pandas.pydata.org/pandas-docs/stable/user_guide/indexing.html#returning-a-view-versus-a-copy\n",
      "  df[prompt_name][i] = isMatch\n"
     ]
    },
    {
     "name": "stdout",
     "output_type": "stream",
     "text": [
      "Are the following two products the same?\n",
      "Product 1: Title: ape case ac252 tri fold travel wallet digital camera case camcorder bags camera bags\n",
      "Brand: ape case\n",
      "Description: ape case ac252 tri fold travel wallet amp digital camera case folds out to a multi pocket wallet with plenty of room for credit cards passport digital media cards amp more compact design with 13 pockets amp compartments includes removable deluxe comf\n",
      "Product 2: Title: can be clipped onto a stroller belt or bicycle or simply hung around your neck or shoulder with the straps included in the package\n",
      "Brand: ape case\n",
      "Description:  key features benefits compact design\n",
      "\n",
      "Answer with 'True' or 'False'.\n",
      "__\n",
      "__\n",
      "False. The two products have different titles, descriptions, and features.\n",
      "__\n",
      "__\n",
      "37\n"
     ]
    },
    {
     "name": "stderr",
     "output_type": "stream",
     "text": [
      "/var/folders/gx/tzjwcf8x1llbhhf36mjt7xqr0000gn/T/ipykernel_98243/3776050204.py:45: SettingWithCopyWarning: \n",
      "A value is trying to be set on a copy of a slice from a DataFrame\n",
      "\n",
      "See the caveats in the documentation: https://pandas.pydata.org/pandas-docs/stable/user_guide/indexing.html#returning-a-view-versus-a-copy\n",
      "  df[prompt_name][i] = isMatch\n"
     ]
    },
    {
     "name": "stdout",
     "output_type": "stream",
     "text": [
      "Are the following two products the same?\n",
      "Product 1: Title: hp scanjet 5590 digital flatbed scanner\n",
      "Brand: hp\n",
      "Description: get fast preview scans one touch operation convenient copy center buttons and hp photo amp imaging software for graphics and digital photography with this automatic document feeding duplexing scanner that holds up to 50 pages plus the innovative desi\n",
      "Product 2: Title: hp scanjet 5590 digital flatbed scanner\n",
      "Brand: hp\n",
      "Description: technical information image sensor ccd charge coupled device scan resolution 2400 dpi optical 2400 x 2400 dpi hardware 999999 dpi enhanced bit depth 48 bit color 8 bit grayscale media types plain paper s photo s envelope s label s card s iron on tran\n",
      "\n",
      "Answer with 'True' or 'False'.\n",
      "__\n",
      "__\n",
      "True\n",
      "__\n",
      "__\n",
      "38\n"
     ]
    },
    {
     "name": "stderr",
     "output_type": "stream",
     "text": [
      "/var/folders/gx/tzjwcf8x1llbhhf36mjt7xqr0000gn/T/ipykernel_98243/3776050204.py:45: SettingWithCopyWarning: \n",
      "A value is trying to be set on a copy of a slice from a DataFrame\n",
      "\n",
      "See the caveats in the documentation: https://pandas.pydata.org/pandas-docs/stable/user_guide/indexing.html#returning-a-view-versus-a-copy\n",
      "  df[prompt_name][i] = isMatch\n"
     ]
    },
    {
     "name": "stdout",
     "output_type": "stream",
     "text": [
      "Are the following two products the same?\n",
      "Product 1: Title: hp scanjet 5590 digital flatbed scanner flatbed scanner duplex legal 2400 dpi x 2400 dpi adf 50 sheets hi speed usb\n",
      "Brand: hp\n",
      "Description: the hp scanjet 5590 digital flatbed usb scanner is designed for home office small office users who want to digitize multi page paper documents keyfeaturesinclude fast automatic processing of two sided documents and the versatility to scan transparent\n",
      "Product 2: Title: hp scanjet 5590 digital flatbed scanner\n",
      "Brand: hp\n",
      "Description: technical information image sensor ccd charge coupled device scan resolution 2400 dpi optical 2400 x 2400 dpi hardware 999999 dpi enhanced bit depth 48 bit color 8 bit grayscale media types plain paper s photo s envelope s label s card s iron on tran\n",
      "\n",
      "Answer with 'True' or 'False'.\n",
      "__\n",
      "__\n",
      "True\n",
      "__\n",
      "__\n",
      "39\n"
     ]
    },
    {
     "name": "stderr",
     "output_type": "stream",
     "text": [
      "/var/folders/gx/tzjwcf8x1llbhhf36mjt7xqr0000gn/T/ipykernel_98243/3776050204.py:45: SettingWithCopyWarning: \n",
      "A value is trying to be set on a copy of a slice from a DataFrame\n",
      "\n",
      "See the caveats in the documentation: https://pandas.pydata.org/pandas-docs/stable/user_guide/indexing.html#returning-a-view-versus-a-copy\n",
      "  df[prompt_name][i] = isMatch\n"
     ]
    },
    {
     "name": "stdout",
     "output_type": "stream",
     "text": [
      "Are the following two products the same?\n",
      "Product 1: Title: hp scanjet 5590 digital flatbed scanner flatbed scanner letter 2400 dpi x 2400 dpi adf 50 sheets hi speed usb\n",
      "Brand: hp\n",
      "Description: automatic document feeder allows unattended two sided multi page scanning one touch buttons let you scan copy print e mail and more hi speed usb 2 0 connection plug and play operation preview scans within seven seconds for maximum productivity conven\n",
      "Product 2: Title: hp scanjet 5590 digital flatbed scanner\n",
      "Brand: hp\n",
      "Description: technical information image sensor ccd charge coupled device scan resolution 2400 dpi optical 2400 x 2400 dpi hardware 999999 dpi enhanced bit depth 48 bit color 8 bit grayscale media types plain paper s photo s envelope s label s card s iron on tran\n",
      "\n",
      "Answer with 'True' or 'False'.\n",
      "__\n",
      "__\n",
      "True\n",
      "__\n",
      "__\n",
      "40\n"
     ]
    },
    {
     "name": "stderr",
     "output_type": "stream",
     "text": [
      "/var/folders/gx/tzjwcf8x1llbhhf36mjt7xqr0000gn/T/ipykernel_98243/3776050204.py:45: SettingWithCopyWarning: \n",
      "A value is trying to be set on a copy of a slice from a DataFrame\n",
      "\n",
      "See the caveats in the documentation: https://pandas.pydata.org/pandas-docs/stable/user_guide/indexing.html#returning-a-view-versus-a-copy\n",
      "  df[prompt_name][i] = isMatch\n"
     ]
    },
    {
     "name": "stdout",
     "output_type": "stream",
     "text": [
      "Are the following two products the same?\n",
      "Product 1: Title: 25 component video cable\n",
      "Brand: cables to go\n",
      "Description: 25ft velocity ponent video interconnect \n",
      "Product 2: Title: cables to go 03131 6ft premium universal power cord\n",
      "Brand: cables to go\n",
      "Description: plug connector type 1 x iec 320 c13 1 x nema 5 15p compatible with computers monitors scanners printers and devices that use a 3 pin shroud power connector cord length 6 ft \n",
      "\n",
      "Answer with 'True' or 'False'.\n",
      "__\n",
      "__\n",
      "False.\n",
      "__\n",
      "__\n",
      "41\n"
     ]
    },
    {
     "name": "stderr",
     "output_type": "stream",
     "text": [
      "/var/folders/gx/tzjwcf8x1llbhhf36mjt7xqr0000gn/T/ipykernel_98243/3776050204.py:45: SettingWithCopyWarning: \n",
      "A value is trying to be set on a copy of a slice from a DataFrame\n",
      "\n",
      "See the caveats in the documentation: https://pandas.pydata.org/pandas-docs/stable/user_guide/indexing.html#returning-a-view-versus-a-copy\n",
      "  df[prompt_name][i] = isMatch\n"
     ]
    },
    {
     "name": "stdout",
     "output_type": "stream",
     "text": [
      "Are the following two products the same?\n",
      "Product 1: Title: cables to go 02300 ieee 1284 db25 male to centronics 36 male parallel printer cable 6 feet 1 82 meters beige\n",
      "Brand: cables to go\n",
      "Description: to enjoy the increased data rate and two way communication of your ieee 1284 compliant printer or scanner you need a cable with high quality connectors and a specialized wire type our cable exploits this technology to enable high speed bi directional\n",
      "Product 2: Title: cables to go 03131 6ft premium universal power cord\n",
      "Brand: cables to go\n",
      "Description: plug connector type 1 x iec 320 c13 1 x nema 5 15p compatible with computers monitors scanners printers and devices that use a 3 pin shroud power connector cord length 6 ft \n",
      "\n",
      "Answer with 'True' or 'False'.\n",
      "__\n",
      "__\n",
      "False.\n",
      "__\n",
      "__\n",
      "42\n"
     ]
    },
    {
     "name": "stderr",
     "output_type": "stream",
     "text": [
      "/var/folders/gx/tzjwcf8x1llbhhf36mjt7xqr0000gn/T/ipykernel_98243/3776050204.py:45: SettingWithCopyWarning: \n",
      "A value is trying to be set on a copy of a slice from a DataFrame\n",
      "\n",
      "See the caveats in the documentation: https://pandas.pydata.org/pandas-docs/stable/user_guide/indexing.html#returning-a-view-versus-a-copy\n",
      "  df[prompt_name][i] = isMatch\n"
     ]
    },
    {
     "name": "stdout",
     "output_type": "stream",
     "text": [
      "Are the following two products the same?\n",
      "Product 1: Title: cables to go 30504 usb 2 0 to ide or serial ata drive adapter black\n",
      "Brand: cables to go\n",
      "Description: externally connect one 2 5in 3 5in or 5 25in ide atapi or sata drive to your computer via usb 2 0\n",
      "Product 2: Title: cables to go 03131 6ft premium universal power cord\n",
      "Brand: cables to go\n",
      "Description: plug connector type 1 x iec 320 c13 1 x nema 5 15p compatible with computers monitors scanners printers and devices that use a 3 pin shroud power connector cord length 6 ft \n",
      "\n",
      "Answer with 'True' or 'False'.\n",
      "__\n",
      "__\n",
      "False.\n",
      "__\n",
      "__\n",
      "43\n"
     ]
    },
    {
     "name": "stderr",
     "output_type": "stream",
     "text": [
      "/var/folders/gx/tzjwcf8x1llbhhf36mjt7xqr0000gn/T/ipykernel_98243/3776050204.py:45: SettingWithCopyWarning: \n",
      "A value is trying to be set on a copy of a slice from a DataFrame\n",
      "\n",
      "See the caveats in the documentation: https://pandas.pydata.org/pandas-docs/stable/user_guide/indexing.html#returning-a-view-versus-a-copy\n",
      "  df[prompt_name][i] = isMatch\n"
     ]
    },
    {
     "name": "stdout",
     "output_type": "stream",
     "text": [
      "Are the following two products the same?\n",
      "Product 1: Title: cables to go 26886 usb to db9 male serial adapter blue 0 45 meters 1 5 feet\n",
      "Brand: cables to go\n",
      "Description: cables to go port authority usb to db9 serial adapter 26886 cable adapters\n",
      "Product 2: Title: cables to go 03131 6ft premium universal power cord\n",
      "Brand: cables to go\n",
      "Description: plug connector type 1 x iec 320 c13 1 x nema 5 15p compatible with computers monitors scanners printers and devices that use a 3 pin shroud power connector cord length 6 ft \n",
      "\n",
      "Answer with 'True' or 'False'.\n",
      "__\n",
      "__\n",
      "False.\n",
      "__\n",
      "__\n",
      "44\n"
     ]
    },
    {
     "name": "stderr",
     "output_type": "stream",
     "text": [
      "/var/folders/gx/tzjwcf8x1llbhhf36mjt7xqr0000gn/T/ipykernel_98243/3776050204.py:45: SettingWithCopyWarning: \n",
      "A value is trying to be set on a copy of a slice from a DataFrame\n",
      "\n",
      "See the caveats in the documentation: https://pandas.pydata.org/pandas-docs/stable/user_guide/indexing.html#returning-a-view-versus-a-copy\n",
      "  df[prompt_name][i] = isMatch\n"
     ]
    },
    {
     "name": "stdout",
     "output_type": "stream",
     "text": [
      "Are the following two products the same?\n",
      "Product 1: Title: cables to go 08075 db9 m f null modem adapter\n",
      "Brand: cables to go\n",
      "Description: cables to go null modem adapter 08075 cable adapters\n",
      "Product 2: Title: cables to go 03131 6ft premium universal power cord\n",
      "Brand: cables to go\n",
      "Description: plug connector type 1 x iec 320 c13 1 x nema 5 15p compatible with computers monitors scanners printers and devices that use a 3 pin shroud power connector cord length 6 ft \n",
      "\n",
      "Answer with 'True' or 'False'.\n",
      "__\n",
      "__\n",
      "False.\n",
      "__\n",
      "__\n",
      "45\n"
     ]
    },
    {
     "name": "stderr",
     "output_type": "stream",
     "text": [
      "/var/folders/gx/tzjwcf8x1llbhhf36mjt7xqr0000gn/T/ipykernel_98243/3776050204.py:45: SettingWithCopyWarning: \n",
      "A value is trying to be set on a copy of a slice from a DataFrame\n",
      "\n",
      "See the caveats in the documentation: https://pandas.pydata.org/pandas-docs/stable/user_guide/indexing.html#returning-a-view-versus-a-copy\n",
      "  df[prompt_name][i] = isMatch\n"
     ]
    },
    {
     "name": "stdout",
     "output_type": "stream",
     "text": [
      "Are the following two products the same?\n",
      "Product 1: Title: cables to go audio unlimited 900mhz wireless stereo headphones spk 9100\n",
      "Brand: cables to go\n",
      "Description: listen to music just about anywhere without the hassle of cumbersome wires the powerful transmitter uses 900 mhz technology to send music through walls and floors to the wireless headphone this comfortable high quality lightweight headphone is the pe\n",
      "Product 2: Title: cables to go 03131 6ft premium universal power cord\n",
      "Brand: cables to go\n",
      "Description: plug connector type 1 x iec 320 c13 1 x nema 5 15p compatible with computers monitors scanners printers and devices that use a 3 pin shroud power connector cord length 6 ft \n",
      "\n",
      "Answer with 'True' or 'False'.\n",
      "__\n",
      "__\n",
      "False.\n",
      "__\n",
      "__\n",
      "46\n"
     ]
    },
    {
     "name": "stderr",
     "output_type": "stream",
     "text": [
      "/var/folders/gx/tzjwcf8x1llbhhf36mjt7xqr0000gn/T/ipykernel_98243/3776050204.py:45: SettingWithCopyWarning: \n",
      "A value is trying to be set on a copy of a slice from a DataFrame\n",
      "\n",
      "See the caveats in the documentation: https://pandas.pydata.org/pandas-docs/stable/user_guide/indexing.html#returning-a-view-versus-a-copy\n",
      "  df[prompt_name][i] = isMatch\n"
     ]
    },
    {
     "name": "stdout",
     "output_type": "stream",
     "text": [
      "Are the following two products the same?\n",
      "Product 1: Title: cables to go 03131 6ft premium universal power cord\n",
      "Brand: cables to go\n",
      "Description: plug connector type 1 x iec 320 c13 1 x nema 5 15p compatible with computers monitors scanners printers and devices that use a 3 pin shroud power connector cord length 6 ft \n",
      "Product 2: Title: cables to go 28012 10ft pro series hd15 m m svga monitor cable with ferrites black\n",
      "Brand: cables to go\n",
      "Description: cables to go pro series uxga monitor coaxial cable 28012 cables\n",
      "\n",
      "Answer with 'True' or 'False'.\n",
      "__\n",
      "__\n",
      "False.\n",
      "__\n",
      "__\n",
      "47\n"
     ]
    },
    {
     "name": "stderr",
     "output_type": "stream",
     "text": [
      "/var/folders/gx/tzjwcf8x1llbhhf36mjt7xqr0000gn/T/ipykernel_98243/3776050204.py:45: SettingWithCopyWarning: \n",
      "A value is trying to be set on a copy of a slice from a DataFrame\n",
      "\n",
      "See the caveats in the documentation: https://pandas.pydata.org/pandas-docs/stable/user_guide/indexing.html#returning-a-view-versus-a-copy\n",
      "  df[prompt_name][i] = isMatch\n"
     ]
    },
    {
     "name": "stdout",
     "output_type": "stream",
     "text": [
      "Are the following two products the same?\n",
      "Product 1: Title: cables to go 03131 6ft premium universal power cord\n",
      "Brand: cables to go\n",
      "Description: plug connector type 1 x iec 320 c13 1 x nema 5 15p compatible with computers monitors scanners printers and devices that use a 3 pin shroud power connector cord length 6 ft \n",
      "Product 2: Title: cables to go 40855 rapidrun digital hdmi active wall plate\n",
      "Brand: cables to go\n",
      "Description: the rapidrun digital connector is designed and crafted for ultimate performance every detail works to make the system virtually transparent to the delicate digital signal like rapidrun rapidrun digital is centered on the runner cable installations ar\n",
      "\n",
      "Answer with 'True' or 'False'.\n",
      "__\n",
      "__\n",
      "False. The two products are not the same.\n",
      "__\n",
      "__\n",
      "48\n"
     ]
    },
    {
     "name": "stderr",
     "output_type": "stream",
     "text": [
      "/var/folders/gx/tzjwcf8x1llbhhf36mjt7xqr0000gn/T/ipykernel_98243/3776050204.py:45: SettingWithCopyWarning: \n",
      "A value is trying to be set on a copy of a slice from a DataFrame\n",
      "\n",
      "See the caveats in the documentation: https://pandas.pydata.org/pandas-docs/stable/user_guide/indexing.html#returning-a-view-versus-a-copy\n",
      "  df[prompt_name][i] = isMatch\n"
     ]
    },
    {
     "name": "stdout",
     "output_type": "stream",
     "text": [
      "Are the following two products the same?\n",
      "Product 1: Title: cables to go 03131 6ft premium universal power cord\n",
      "Brand: cables to go\n",
      "Description: plug connector type 1 x iec 320 c13 1 x nema 5 15p compatible with computers monitors scanners printers and devices that use a 3 pin shroud power connector cord length 6 ft \n",
      "Product 2: Title: cables to go 40424 stereo f m rca y cable 6 inches black\n",
      "Brand: cables to go\n",
      "Description: converts a 3 5mm stereo jack to rca stereo plugs\n",
      "\n",
      "Answer with 'True' or 'False'.\n",
      "__\n",
      "__\n",
      "False.\n",
      "__\n",
      "__\n",
      "49\n"
     ]
    },
    {
     "name": "stderr",
     "output_type": "stream",
     "text": [
      "/var/folders/gx/tzjwcf8x1llbhhf36mjt7xqr0000gn/T/ipykernel_98243/3776050204.py:45: SettingWithCopyWarning: \n",
      "A value is trying to be set on a copy of a slice from a DataFrame\n",
      "\n",
      "See the caveats in the documentation: https://pandas.pydata.org/pandas-docs/stable/user_guide/indexing.html#returning-a-view-versus-a-copy\n",
      "  df[prompt_name][i] = isMatch\n"
     ]
    },
    {
     "name": "stdout",
     "output_type": "stream",
     "text": [
      "Are the following two products the same?\n",
      "Product 1: Title: cables to go 03131 6ft premium universal power cord\n",
      "Brand: cables to go\n",
      "Description: plug connector type 1 x iec 320 c13 1 x nema 5 15p compatible with computers monitors scanners printers and devices that use a 3 pin shroud power connector cord length 6 ft \n",
      "Product 2: Title: cables to go 24358 multi pack 7ft cat5e 350mhz assembled cable 25 pack blue\n",
      "Brand: cables to go\n",
      "Description: today s advanced fast ethernet and gigabit computer networks require enhanced category 5 high speed cabling to distrubute data voice and video cables to go s enhanced cat5 350mhz patch cables will keep you ahead of the game these cables will handle b\n",
      "\n",
      "Answer with 'True' or 'False'.\n",
      "__\n",
      "__\n",
      "False. The two products are different.\n",
      "__\n",
      "__\n",
      "50\n"
     ]
    },
    {
     "name": "stderr",
     "output_type": "stream",
     "text": [
      "/var/folders/gx/tzjwcf8x1llbhhf36mjt7xqr0000gn/T/ipykernel_98243/3776050204.py:45: SettingWithCopyWarning: \n",
      "A value is trying to be set on a copy of a slice from a DataFrame\n",
      "\n",
      "See the caveats in the documentation: https://pandas.pydata.org/pandas-docs/stable/user_guide/indexing.html#returning-a-view-versus-a-copy\n",
      "  df[prompt_name][i] = isMatch\n"
     ]
    },
    {
     "name": "stdout",
     "output_type": "stream",
     "text": [
      "Are the following two products the same?\n",
      "Product 1: Title: wrk sa series stand alone rack less rear door 27 32 d rack enclosure depth 27 1 2 d\n",
      "Brand: middle atlantic\n",
      "Description: wrk 44sa 27lrd rack enclosure depth 27 1 2 d select a wrk sa when mounting equipment that demands space for substantial cable bundles solid design and stylish beveled corners are ideal when aesthetics are an issue structural features fully welded con\n",
      "Product 2: Title: middle atlantic 12 master slave jumper for mpr series modules sold in packs of 6\n",
      "Brand: middle atlantic\n",
      "Description: df1784allows m series slave modules to be switched remotely by an rlm series master module features 12 jumper length sold in packs of 6\n",
      "\n",
      "Answer with 'True' or 'False'.\n",
      "__\n",
      "__\n",
      "False.\n",
      "__\n",
      "__\n",
      "51\n"
     ]
    },
    {
     "name": "stderr",
     "output_type": "stream",
     "text": [
      "/var/folders/gx/tzjwcf8x1llbhhf36mjt7xqr0000gn/T/ipykernel_98243/3776050204.py:45: SettingWithCopyWarning: \n",
      "A value is trying to be set on a copy of a slice from a DataFrame\n",
      "\n",
      "See the caveats in the documentation: https://pandas.pydata.org/pandas-docs/stable/user_guide/indexing.html#returning-a-view-versus-a-copy\n",
      "  df[prompt_name][i] = isMatch\n"
     ]
    },
    {
     "name": "stdout",
     "output_type": "stream",
     "text": [
      "Are the following two products the same?\n",
      "Product 1: Title: wrk sa series stand alone rack less rear door 27 32 d rack enclosure depth 27 1 2 d\n",
      "Brand: middle atlantic\n",
      "Description: wrk 44sa 27lrd rack enclosure depth 27 1 2 d select a wrk sa when mounting equipment that demands space for substantial cable bundles solid design and stylish beveled corners are ideal when aesthetics are an issue structural features fully welded con\n",
      "Product 2: Title: middle atlantic long 20 outlet single 20 amp circuit thin power strip with cord\n",
      "Brand: middle atlantic\n",
      "Description: df2014pdt series thin power strips take up minimal space inside a rack and feature a unique design that allows for isolated ground configurability dual circuit models can be configured to operate as a single circuit and all models are factory assembl\n",
      "\n",
      "Answer with 'True' or 'False'.\n",
      "__\n",
      "__\n",
      "False. The two products are different.\n",
      "__\n",
      "__\n",
      "52\n"
     ]
    },
    {
     "name": "stderr",
     "output_type": "stream",
     "text": [
      "/var/folders/gx/tzjwcf8x1llbhhf36mjt7xqr0000gn/T/ipykernel_98243/3776050204.py:45: SettingWithCopyWarning: \n",
      "A value is trying to be set on a copy of a slice from a DataFrame\n",
      "\n",
      "See the caveats in the documentation: https://pandas.pydata.org/pandas-docs/stable/user_guide/indexing.html#returning-a-view-versus-a-copy\n",
      "  df[prompt_name][i] = isMatch\n"
     ]
    },
    {
     "name": "stdout",
     "output_type": "stream",
     "text": [
      "Are the following two products the same?\n",
      "Product 1: Title: philips magnavox pm435s 4 device universal remote control\n",
      "Brand: philips\n",
      "Description: sync up your tv vcr dvd and satellite system with the philips pm435s remote control among the functions provided by the remote are subtitle repeat and chapter scan for your dvd player a picture in picture pip option with a toggle key for your tv and \n",
      "Product 2: Title: comprehensive f plug to bnc plug set of 25\n",
      "Brand: comprehensive\n",
      "Description: ch1230these f plug to bnc plug video cables include the comprehensive cable lifetime warranty comprehensive offers a lifetime warranty on all products\n",
      "\n",
      "Answer with 'True' or 'False'.\n",
      "__\n",
      "__\n",
      "False.\n",
      "__\n",
      "__\n",
      "53\n"
     ]
    },
    {
     "name": "stderr",
     "output_type": "stream",
     "text": [
      "/var/folders/gx/tzjwcf8x1llbhhf36mjt7xqr0000gn/T/ipykernel_98243/3776050204.py:45: SettingWithCopyWarning: \n",
      "A value is trying to be set on a copy of a slice from a DataFrame\n",
      "\n",
      "See the caveats in the documentation: https://pandas.pydata.org/pandas-docs/stable/user_guide/indexing.html#returning-a-view-versus-a-copy\n",
      "  df[prompt_name][i] = isMatch\n"
     ]
    },
    {
     "name": "stdout",
     "output_type": "stream",
     "text": [
      "Are the following two products the same?\n",
      "Product 1: Title: philips magnavox pm435s 4 device universal remote control\n",
      "Brand: philips\n",
      "Description: sync up your tv vcr dvd and satellite system with the philips pm435s remote control among the functions provided by the remote are subtitle repeat and chapter scan for your dvd player a picture in picture pip option with a toggle key for your tv and \n",
      "Product 2: Title: comprehensive 25 pin male connector with hood set of 25\n",
      "Brand: comprehensive\n",
      "Description: ch1305these 25 pin male connectors with hood include the comprehensive lifetime warranty comprehensive offers a lifetime warranty on all products\n",
      "\n",
      "Answer with 'True' or 'False'.\n",
      "__\n",
      "__\n",
      "True.\n",
      "__\n",
      "__\n",
      "54\n"
     ]
    },
    {
     "name": "stderr",
     "output_type": "stream",
     "text": [
      "/var/folders/gx/tzjwcf8x1llbhhf36mjt7xqr0000gn/T/ipykernel_98243/3776050204.py:45: SettingWithCopyWarning: \n",
      "A value is trying to be set on a copy of a slice from a DataFrame\n",
      "\n",
      "See the caveats in the documentation: https://pandas.pydata.org/pandas-docs/stable/user_guide/indexing.html#returning-a-view-versus-a-copy\n",
      "  df[prompt_name][i] = isMatch\n"
     ]
    },
    {
     "name": "stdout",
     "output_type": "stream",
     "text": [
      "Are the following two products the same?\n",
      "Product 1: Title: philips magnavox pm435s 4 device universal remote control\n",
      "Brand: philips\n",
      "Description: sync up your tv vcr dvd and satellite system with the philips pm435s remote control among the functions provided by the remote are subtitle repeat and chapter scan for your dvd player a picture in picture pip option with a toggle key for your tv and \n",
      "Product 2: Title: middle atlantic hdr 4 external fan option\n",
      "Brand: middle atlantic\n",
      "Description: df1758external 4 1 2 fan kit and vent blocker \n",
      "\n",
      "Answer with 'True' or 'False'.\n",
      "__\n",
      "__\n",
      "False.\n",
      "__\n",
      "__\n",
      "55\n"
     ]
    },
    {
     "name": "stderr",
     "output_type": "stream",
     "text": [
      "/var/folders/gx/tzjwcf8x1llbhhf36mjt7xqr0000gn/T/ipykernel_98243/3776050204.py:45: SettingWithCopyWarning: \n",
      "A value is trying to be set on a copy of a slice from a DataFrame\n",
      "\n",
      "See the caveats in the documentation: https://pandas.pydata.org/pandas-docs/stable/user_guide/indexing.html#returning-a-view-versus-a-copy\n",
      "  df[prompt_name][i] = isMatch\n"
     ]
    },
    {
     "name": "stdout",
     "output_type": "stream",
     "text": [
      "Are the following two products the same?\n",
      "Product 1: Title: philips magnavox pm435s 4 device universal remote control\n",
      "Brand: philips\n",
      "Description: sync up your tv vcr dvd and satellite system with the philips pm435s remote control among the functions provided by the remote are subtitle repeat and chapter scan for your dvd player a picture in picture pip option with a toggle key for your tv and \n",
      "Product 2: Title: comprehensive f jack to jack barrel chassis mount set of 25\n",
      "Brand: comprehensive\n",
      "Description: ch1224these f jack to jack video adapters come equipped with the chassis mount and barrel format as well as the comprehensive lifetime warranty comprehensive offers a lifetime warranty on all products\n",
      "\n",
      "Answer with 'True' or 'False'.\n",
      "__\n",
      "__\n",
      "False.\n",
      "__\n",
      "__\n",
      "56\n"
     ]
    },
    {
     "name": "stderr",
     "output_type": "stream",
     "text": [
      "/var/folders/gx/tzjwcf8x1llbhhf36mjt7xqr0000gn/T/ipykernel_98243/3776050204.py:45: SettingWithCopyWarning: \n",
      "A value is trying to be set on a copy of a slice from a DataFrame\n",
      "\n",
      "See the caveats in the documentation: https://pandas.pydata.org/pandas-docs/stable/user_guide/indexing.html#returning-a-view-versus-a-copy\n",
      "  df[prompt_name][i] = isMatch\n"
     ]
    },
    {
     "name": "stdout",
     "output_type": "stream",
     "text": [
      "Are the following two products the same?\n",
      "Product 1: Title: philips magnavox pm435s 4 device universal remote control\n",
      "Brand: philips\n",
      "Description: sync up your tv vcr dvd and satellite system with the philips pm435s remote control among the functions provided by the remote are subtitle repeat and chapter scan for your dvd player a picture in picture pip option with a toggle key for your tv and \n",
      "Product 2: Title: philips 6 outlet 3 surge protector\n",
      "Brand: philips\n",
      "Description: philips 6 outlet 3 surge protector 345 joules 15 amp circuit breaker built in convenience 6 outlets heavy duty 3 cord model spp3160c 17\n",
      "\n",
      "Answer with 'True' or 'False'.\n",
      "__\n",
      "__\n",
      "False.\n",
      "__\n",
      "__\n",
      "57\n"
     ]
    },
    {
     "name": "stderr",
     "output_type": "stream",
     "text": [
      "/var/folders/gx/tzjwcf8x1llbhhf36mjt7xqr0000gn/T/ipykernel_98243/3776050204.py:45: SettingWithCopyWarning: \n",
      "A value is trying to be set on a copy of a slice from a DataFrame\n",
      "\n",
      "See the caveats in the documentation: https://pandas.pydata.org/pandas-docs/stable/user_guide/indexing.html#returning-a-view-versus-a-copy\n",
      "  df[prompt_name][i] = isMatch\n"
     ]
    },
    {
     "name": "stdout",
     "output_type": "stream",
     "text": [
      "Are the following two products the same?\n",
      "Product 1: Title: philips magnavox pm435s 4 device universal remote control\n",
      "Brand: philips\n",
      "Description: sync up your tv vcr dvd and satellite system with the philips pm435s remote control among the functions provided by the remote are subtitle repeat and chapter scan for your dvd player a picture in picture pip option with a toggle key for your tv and \n",
      "Product 2: Title: philips vibe 4gb mp3 video player\n",
      "Brand: philips\n",
      "Description: phillips vibe 4gb mp3 video player 1 5 full color display easy navigation play mp3 wma or drm music from subscription services fm radio with rds and 20 presets for more music options on this 4gb philips mp3 video player stores up to 25 hours of music\n",
      "\n",
      "Answer with 'True' or 'False'.\n",
      "__\n",
      "__\n",
      "True.\n",
      "__\n",
      "__\n",
      "58\n"
     ]
    },
    {
     "name": "stderr",
     "output_type": "stream",
     "text": [
      "/var/folders/gx/tzjwcf8x1llbhhf36mjt7xqr0000gn/T/ipykernel_98243/3776050204.py:45: SettingWithCopyWarning: \n",
      "A value is trying to be set on a copy of a slice from a DataFrame\n",
      "\n",
      "See the caveats in the documentation: https://pandas.pydata.org/pandas-docs/stable/user_guide/indexing.html#returning-a-view-versus-a-copy\n",
      "  df[prompt_name][i] = isMatch\n"
     ]
    },
    {
     "name": "stdout",
     "output_type": "stream",
     "text": [
      "Are the following two products the same?\n",
      "Product 1: Title: philips magnavox pm435s 4 device universal remote control\n",
      "Brand: philips\n",
      "Description: sync up your tv vcr dvd and satellite system with the philips pm435s remote control among the functions provided by the remote are subtitle repeat and chapter scan for your dvd player a picture in picture pip option with a toggle key for your tv and \n",
      "Product 2: Title: nxg nx 3dglrk 3d active small rechargable glasses for lg and hisense\n",
      "Brand: nxg\n",
      "Description: nxg nx 3dglrk 3d active small rechargable glasses compatible with the following 2010 lg 3d ready hdtvs lx9500 lx6500 lex9 and lex8 the tv communicates with the glasses using an infrared transmitter that is integrated into the television extended ir r\n",
      "\n",
      "Answer with 'True' or 'False'.\n",
      "__\n",
      "__\n",
      "False.\n",
      "__\n",
      "__\n",
      "59\n"
     ]
    },
    {
     "name": "stderr",
     "output_type": "stream",
     "text": [
      "/var/folders/gx/tzjwcf8x1llbhhf36mjt7xqr0000gn/T/ipykernel_98243/3776050204.py:45: SettingWithCopyWarning: \n",
      "A value is trying to be set on a copy of a slice from a DataFrame\n",
      "\n",
      "See the caveats in the documentation: https://pandas.pydata.org/pandas-docs/stable/user_guide/indexing.html#returning-a-view-versus-a-copy\n",
      "  df[prompt_name][i] = isMatch\n"
     ]
    },
    {
     "name": "stdout",
     "output_type": "stream",
     "text": [
      "Are the following two products the same?\n",
      "Product 1: Title: philips magnavox pm435s 4 device universal remote control\n",
      "Brand: philips\n",
      "Description: sync up your tv vcr dvd and satellite system with the philips pm435s remote control among the functions provided by the remote are subtitle repeat and chapter scan for your dvd player a picture in picture pip option with a toggle key for your tv and \n",
      "Product 2: Title: philips 6 hdmi ethernet cable\n",
      "Brand: philips\n",
      "Description: philips 6 hdmi ethernet cable hdmi ethernet channel exceeds 4x 1080p video resolution 24k gold plated connectors high purity copper copper braided reinforced aluminum flexible pvc jacket\n",
      "\n",
      "Answer with 'True' or 'False'.\n",
      "__\n",
      "__\n",
      "False.\n",
      "__\n",
      "__\n",
      "60\n"
     ]
    },
    {
     "name": "stderr",
     "output_type": "stream",
     "text": [
      "/var/folders/gx/tzjwcf8x1llbhhf36mjt7xqr0000gn/T/ipykernel_98243/3776050204.py:45: SettingWithCopyWarning: \n",
      "A value is trying to be set on a copy of a slice from a DataFrame\n",
      "\n",
      "See the caveats in the documentation: https://pandas.pydata.org/pandas-docs/stable/user_guide/indexing.html#returning-a-view-versus-a-copy\n",
      "  df[prompt_name][i] = isMatch\n"
     ]
    },
    {
     "name": "stdout",
     "output_type": "stream",
     "text": [
      "Are the following two products the same?\n",
      "Product 1: Title: philips magnavox pm435s 4 device universal remote control\n",
      "Brand: philips\n",
      "Description: sync up your tv vcr dvd and satellite system with the philips pm435s remote control among the functions provided by the remote are subtitle repeat and chapter scan for your dvd player a picture in picture pip option with a toggle key for your tv and \n",
      "Product 2: Title: philips 8 outlet surge 2160 joules 4ft cord spp3301wa 17\n",
      "Brand: philips\n",
      "Description: the 8 outlet surge provides the user with a fit for all surge protection needs this surge protector is good protection for all household appliances this surge protector comes with coax line protection power blocker auto shutdown pure protection and a\n",
      "\n",
      "Answer with 'True' or 'False'.\n",
      "__\n",
      "__\n",
      "False. The products are different.\n",
      "__\n",
      "__\n",
      "61\n"
     ]
    },
    {
     "name": "stderr",
     "output_type": "stream",
     "text": [
      "/var/folders/gx/tzjwcf8x1llbhhf36mjt7xqr0000gn/T/ipykernel_98243/3776050204.py:45: SettingWithCopyWarning: \n",
      "A value is trying to be set on a copy of a slice from a DataFrame\n",
      "\n",
      "See the caveats in the documentation: https://pandas.pydata.org/pandas-docs/stable/user_guide/indexing.html#returning-a-view-versus-a-copy\n",
      "  df[prompt_name][i] = isMatch\n"
     ]
    },
    {
     "name": "stdout",
     "output_type": "stream",
     "text": [
      "Are the following two products the same?\n",
      "Product 1: Title: pc treasures clickit classic mouse pink 07671\n",
      "Brand: pc treasures\n",
      "Description: features five button mouse with scroll wheel for efficient scrolling and navigation within documents and web pages cpi button switches between 400 dpi 800 dpi and 1600dpi to provide ideal mouse responsiveness side buttons allow for one click back and\n",
      "Product 2: Title: pc treasures external dvd rw drive purple\n",
      "Brand: pc treasures\n",
      "Description: pc treasures external dvd rw drive lg hitachi drive mechanism supports double layer dvd recording smart burn for optimum disc burning usb powered sleek design for mobility color purple\n",
      "\n",
      "Answer with 'True' or 'False'.\n",
      "__\n",
      "__\n",
      "True\n",
      "__\n",
      "__\n",
      "62\n"
     ]
    },
    {
     "name": "stderr",
     "output_type": "stream",
     "text": [
      "/var/folders/gx/tzjwcf8x1llbhhf36mjt7xqr0000gn/T/ipykernel_98243/3776050204.py:45: SettingWithCopyWarning: \n",
      "A value is trying to be set on a copy of a slice from a DataFrame\n",
      "\n",
      "See the caveats in the documentation: https://pandas.pydata.org/pandas-docs/stable/user_guide/indexing.html#returning-a-view-versus-a-copy\n",
      "  df[prompt_name][i] = isMatch\n"
     ]
    },
    {
     "name": "stdout",
     "output_type": "stream",
     "text": [
      "Are the following two products the same?\n",
      "Product 1: Title: pc treasures clickit classic mouse pink 07671\n",
      "Brand: pc treasures\n",
      "Description: features five button mouse with scroll wheel for efficient scrolling and navigation within documents and web pages cpi button switches between 400 dpi 800 dpi and 1600dpi to provide ideal mouse responsiveness side buttons allow for one click back and\n",
      "Product 2: Title: pc treasures 15 6 laptop kit black\n",
      "Brand: pc treasures\n",
      "Description: pc treasures 15 6 pocketpro case durable nylon double handles protects netbook from bumps and dings wireless mouse with 800 dpi precision 10m operation range plug and play 2 4ghz nano receiver 4 port usb hub data transfer rate 480mbps cooling stand f\n",
      "\n",
      "Answer with 'True' or 'False'.\n",
      "__\n",
      "__\n",
      "False.\n",
      "__\n",
      "__\n",
      "63\n"
     ]
    },
    {
     "name": "stderr",
     "output_type": "stream",
     "text": [
      "/var/folders/gx/tzjwcf8x1llbhhf36mjt7xqr0000gn/T/ipykernel_98243/3776050204.py:45: SettingWithCopyWarning: \n",
      "A value is trying to be set on a copy of a slice from a DataFrame\n",
      "\n",
      "See the caveats in the documentation: https://pandas.pydata.org/pandas-docs/stable/user_guide/indexing.html#returning-a-view-versus-a-copy\n",
      "  df[prompt_name][i] = isMatch\n"
     ]
    },
    {
     "name": "stdout",
     "output_type": "stream",
     "text": [
      "Are the following two products the same?\n",
      "Product 1: Title: pc treasures clickit classic mouse pink 07671\n",
      "Brand: pc treasures\n",
      "Description: features five button mouse with scroll wheel for efficient scrolling and navigation within documents and web pages cpi button switches between 400 dpi 800 dpi and 1600dpi to provide ideal mouse responsiveness side buttons allow for one click back and\n",
      "Product 2: Title: pc treasures retractable mighty mini mouse navy\n",
      "Brand: pc treasures\n",
      "Description: pc treasures retractable mighty mini mouse 800dpi precision plug and play simplicity retractable cord power and usb connectivity color navy\n",
      "\n",
      "Answer with 'True' or 'False'.\n",
      "__\n",
      "__\n",
      "False.\n",
      "__\n",
      "__\n",
      "64\n"
     ]
    },
    {
     "name": "stderr",
     "output_type": "stream",
     "text": [
      "/var/folders/gx/tzjwcf8x1llbhhf36mjt7xqr0000gn/T/ipykernel_98243/3776050204.py:45: SettingWithCopyWarning: \n",
      "A value is trying to be set on a copy of a slice from a DataFrame\n",
      "\n",
      "See the caveats in the documentation: https://pandas.pydata.org/pandas-docs/stable/user_guide/indexing.html#returning-a-view-versus-a-copy\n",
      "  df[prompt_name][i] = isMatch\n"
     ]
    },
    {
     "name": "stdout",
     "output_type": "stream",
     "text": [
      "Are the following two products the same?\n",
      "Product 1: Title: pc treasures clickit classic mouse pink 07671\n",
      "Brand: pc treasures\n",
      "Description: features five button mouse with scroll wheel for efficient scrolling and navigation within documents and web pages cpi button switches between 400 dpi 800 dpi and 1600dpi to provide ideal mouse responsiveness side buttons allow for one click back and\n",
      "Product 2: Title: pc treasures external dvd rw drive pink\n",
      "Brand: pc treasures\n",
      "Description: pc treasures external dvd rw drive lg hitachi drive mechanism supports double layer dvd recording smart burn for optimum disc burning usb powered sleek design for mobility color pink\n",
      "\n",
      "Answer with 'True' or 'False'.\n",
      "__\n",
      "__\n",
      "True\n",
      "__\n",
      "__\n",
      "65\n"
     ]
    },
    {
     "name": "stderr",
     "output_type": "stream",
     "text": [
      "/var/folders/gx/tzjwcf8x1llbhhf36mjt7xqr0000gn/T/ipykernel_98243/3776050204.py:45: SettingWithCopyWarning: \n",
      "A value is trying to be set on a copy of a slice from a DataFrame\n",
      "\n",
      "See the caveats in the documentation: https://pandas.pydata.org/pandas-docs/stable/user_guide/indexing.html#returning-a-view-versus-a-copy\n",
      "  df[prompt_name][i] = isMatch\n"
     ]
    },
    {
     "name": "stdout",
     "output_type": "stream",
     "text": [
      "Are the following two products the same?\n",
      "Product 1: Title: pc treasures clickit classic mouse pink 07671\n",
      "Brand: pc treasures\n",
      "Description: features five button mouse with scroll wheel for efficient scrolling and navigation within documents and web pages cpi button switches between 400 dpi 800 dpi and 1600dpi to provide ideal mouse responsiveness side buttons allow for one click back and\n",
      "Product 2: Title: pc treasures 15 slipit laptop case purple\n",
      "Brand: pc treasures\n",
      "Description: pc treasures 15 laptop double zippers for easy use 2 outside zippered pockets fits cords power supply and external drives durable nylon double handle internal pockets for memory cards jump drives etc elastic security straps color purple\n",
      "\n",
      "Answer with 'True' or 'False'.\n",
      "__\n",
      "__\n",
      "False.\n",
      "__\n",
      "__\n",
      "66\n"
     ]
    },
    {
     "name": "stderr",
     "output_type": "stream",
     "text": [
      "/var/folders/gx/tzjwcf8x1llbhhf36mjt7xqr0000gn/T/ipykernel_98243/3776050204.py:45: SettingWithCopyWarning: \n",
      "A value is trying to be set on a copy of a slice from a DataFrame\n",
      "\n",
      "See the caveats in the documentation: https://pandas.pydata.org/pandas-docs/stable/user_guide/indexing.html#returning-a-view-versus-a-copy\n",
      "  df[prompt_name][i] = isMatch\n"
     ]
    },
    {
     "name": "stdout",
     "output_type": "stream",
     "text": [
      "Are the following two products the same?\n",
      "Product 1: Title: pc treasures clickit classic mouse pink 07671\n",
      "Brand: pc treasures\n",
      "Description: features five button mouse with scroll wheel for efficient scrolling and navigation within documents and web pages cpi button switches between 400 dpi 800 dpi and 1600dpi to provide ideal mouse responsiveness side buttons allow for one click back and\n",
      "Product 2: Title: pc treasures wireless optical mouse 2 4ghz purple\n",
      "Brand: pc treasures\n",
      "Description: pc treasures wireless optical mouse 2 4ghz r mini wireless mouse optical sensitivity 3 button manipulation scroll wheel includes nano usb receiver color purple\n",
      "\n",
      "Answer with 'True' or 'False'.\n",
      "__\n",
      "__\n",
      "False.\n",
      "__\n",
      "__\n",
      "67\n"
     ]
    },
    {
     "name": "stderr",
     "output_type": "stream",
     "text": [
      "/var/folders/gx/tzjwcf8x1llbhhf36mjt7xqr0000gn/T/ipykernel_98243/3776050204.py:45: SettingWithCopyWarning: \n",
      "A value is trying to be set on a copy of a slice from a DataFrame\n",
      "\n",
      "See the caveats in the documentation: https://pandas.pydata.org/pandas-docs/stable/user_guide/indexing.html#returning-a-view-versus-a-copy\n",
      "  df[prompt_name][i] = isMatch\n"
     ]
    },
    {
     "name": "stdout",
     "output_type": "stream",
     "text": [
      "Are the following two products the same?\n",
      "Product 1: Title: pc treasures clickit classic mouse pink 07671\n",
      "Brand: pc treasures\n",
      "Description: features five button mouse with scroll wheel for efficient scrolling and navigation within documents and web pages cpi button switches between 400 dpi 800 dpi and 1600dpi to provide ideal mouse responsiveness side buttons allow for one click back and\n",
      "Product 2: Title: pc treasures clickit classic mouse black\n",
      "Brand: pc treasures\n",
      "Description: pc treasures clickit classic mouse 5 button mouse with scroll wheel range 30 plug and play nano receiver nano receiver stores inside mouse 2 x aaa batteries with sleep mode switches between 400 800 and 1600 dpi for responsiveness color black\n",
      "\n",
      "Answer with 'True' or 'False'.\n",
      "__\n",
      "__\n",
      "False. The products have different colors and slightly different descriptions.\n",
      "__\n",
      "__\n",
      "68\n"
     ]
    },
    {
     "name": "stderr",
     "output_type": "stream",
     "text": [
      "/var/folders/gx/tzjwcf8x1llbhhf36mjt7xqr0000gn/T/ipykernel_98243/3776050204.py:45: SettingWithCopyWarning: \n",
      "A value is trying to be set on a copy of a slice from a DataFrame\n",
      "\n",
      "See the caveats in the documentation: https://pandas.pydata.org/pandas-docs/stable/user_guide/indexing.html#returning-a-view-versus-a-copy\n",
      "  df[prompt_name][i] = isMatch\n"
     ]
    },
    {
     "name": "stdout",
     "output_type": "stream",
     "text": [
      "Are the following two products the same?\n",
      "Product 1: Title: pc treasures clickit classic mouse pink 07671\n",
      "Brand: pc treasures\n",
      "Description: features five button mouse with scroll wheel for efficient scrolling and navigation within documents and web pages cpi button switches between 400 dpi 800 dpi and 1600dpi to provide ideal mouse responsiveness side buttons allow for one click back and\n",
      "Product 2: Title: pc treasures slipit 17 3 neoprene laptop case titan\n",
      "Brand: pc treasures\n",
      "Description: pc treasures slipit 17 3 laptops durable lycra exterior shell weather resistant case front pocket for accessories color titan\n",
      "\n",
      "Answer with 'True' or 'False'.\n",
      "__\n",
      "__\n",
      "False.\n",
      "__\n",
      "__\n",
      "69\n"
     ]
    },
    {
     "name": "stderr",
     "output_type": "stream",
     "text": [
      "/var/folders/gx/tzjwcf8x1llbhhf36mjt7xqr0000gn/T/ipykernel_98243/3776050204.py:45: SettingWithCopyWarning: \n",
      "A value is trying to be set on a copy of a slice from a DataFrame\n",
      "\n",
      "See the caveats in the documentation: https://pandas.pydata.org/pandas-docs/stable/user_guide/indexing.html#returning-a-view-versus-a-copy\n",
      "  df[prompt_name][i] = isMatch\n"
     ]
    },
    {
     "name": "stdout",
     "output_type": "stream",
     "text": [
      "Are the following two products the same?\n",
      "Product 1: Title: philips srp4004 27 universal 4 in 1 remote control for tv vcr dvd sat with xxl and fluorescent glow buttons\n",
      "Brand: philips\n",
      "Description: experience a quick and easy setup with your philips universal remote control and its innovative simplesetup feature the ergonomic design and xl fluorescent glow buttons make it easy to use the remote even in the dark the remote works with more than 1\n",
      "Product 2: Title: universal remote kp 900wh ir rf wireless keypad remote with mounting bracket black\n",
      "Brand: universal remote\n",
      "Description: universal remote kp 900wh ir rf wireless keypad remote with mounting bracket controls up to 255 devices controls all home a v equipment backlit lcd screen dual use wireless keypad learning and macro capabilities can be installed in any room without t\n",
      "\n",
      "Answer with 'True' or 'False'.\n",
      "__\n",
      "__\n",
      "False.\n",
      "__\n",
      "__\n",
      "70\n"
     ]
    },
    {
     "name": "stderr",
     "output_type": "stream",
     "text": [
      "/var/folders/gx/tzjwcf8x1llbhhf36mjt7xqr0000gn/T/ipykernel_98243/3776050204.py:45: SettingWithCopyWarning: \n",
      "A value is trying to be set on a copy of a slice from a DataFrame\n",
      "\n",
      "See the caveats in the documentation: https://pandas.pydata.org/pandas-docs/stable/user_guide/indexing.html#returning-a-view-versus-a-copy\n",
      "  df[prompt_name][i] = isMatch\n"
     ]
    },
    {
     "name": "stdout",
     "output_type": "stream",
     "text": [
      "Are the following two products the same?\n",
      "Product 1: Title: philips srp4004 27 universal 4 in 1 remote control for tv vcr dvd sat with xxl and fluorescent glow buttons\n",
      "Brand: philips\n",
      "Description: experience a quick and easy setup with your philips universal remote control and its innovative simplesetup feature the ergonomic design and xl fluorescent glow buttons make it easy to use the remote even in the dark the remote works with more than 1\n",
      "Product 2: Title: comprehensive 25 pin male connector with hood set of 25\n",
      "Brand: comprehensive\n",
      "Description: ch1305these 25 pin male connectors with hood include the comprehensive lifetime warranty comprehensive offers a lifetime warranty on all products\n",
      "\n",
      "Answer with 'True' or 'False'.\n",
      "__\n",
      "__\n",
      "False. The two products are not the same.\n",
      "__\n",
      "__\n",
      "71\n"
     ]
    },
    {
     "name": "stderr",
     "output_type": "stream",
     "text": [
      "/var/folders/gx/tzjwcf8x1llbhhf36mjt7xqr0000gn/T/ipykernel_98243/3776050204.py:45: SettingWithCopyWarning: \n",
      "A value is trying to be set on a copy of a slice from a DataFrame\n",
      "\n",
      "See the caveats in the documentation: https://pandas.pydata.org/pandas-docs/stable/user_guide/indexing.html#returning-a-view-versus-a-copy\n",
      "  df[prompt_name][i] = isMatch\n"
     ]
    },
    {
     "name": "stdout",
     "output_type": "stream",
     "text": [
      "Are the following two products the same?\n",
      "Product 1: Title: philips srp4004 27 universal 4 in 1 remote control for tv vcr dvd sat with xxl and fluorescent glow buttons\n",
      "Brand: philips\n",
      "Description: experience a quick and easy setup with your philips universal remote control and its innovative simplesetup feature the ergonomic design and xl fluorescent glow buttons make it easy to use the remote even in the dark the remote works with more than 1\n",
      "Product 2: Title: middle atlantic hdr 4 external fan option\n",
      "Brand: middle atlantic\n",
      "Description: df1758external 4 1 2 fan kit and vent blocker \n",
      "\n",
      "Answer with 'True' or 'False'.\n",
      "__\n",
      "__\n",
      "False.\n",
      "__\n",
      "__\n",
      "72\n"
     ]
    },
    {
     "name": "stderr",
     "output_type": "stream",
     "text": [
      "/var/folders/gx/tzjwcf8x1llbhhf36mjt7xqr0000gn/T/ipykernel_98243/3776050204.py:45: SettingWithCopyWarning: \n",
      "A value is trying to be set on a copy of a slice from a DataFrame\n",
      "\n",
      "See the caveats in the documentation: https://pandas.pydata.org/pandas-docs/stable/user_guide/indexing.html#returning-a-view-versus-a-copy\n",
      "  df[prompt_name][i] = isMatch\n"
     ]
    },
    {
     "name": "stdout",
     "output_type": "stream",
     "text": [
      "Are the following two products the same?\n",
      "Product 1: Title: lg 32lk450 32 inch 1080p 60 hz lcd hdtv\n",
      "Brand: lg\n",
      "Description: if you ve been hearing about how amazing blu ray entertainment is or how much better your favorite shows would look in hd you ve heard right the thing is you need 1080p full hd to get the most out of both with the lk450 you can key technologies doubl\n",
      "Product 2: Title: lg 23 led tv monitor m2380d black\n",
      "Brand: lg\n",
      "Description: lg 23 diagonal led screen this anti glare monitor can be placed anywhere in the room 16 9 aspect ratio widescreen is perfect for viewing 2 documents side by side or for watching movies 1920 x 1080 resolution enjoy excellent image quality 16 7 million\n",
      "\n",
      "Answer with 'True' or 'False'.\n",
      "__\n",
      "__\n",
      "False.\n",
      "__\n",
      "__\n",
      "73\n"
     ]
    },
    {
     "name": "stderr",
     "output_type": "stream",
     "text": [
      "/var/folders/gx/tzjwcf8x1llbhhf36mjt7xqr0000gn/T/ipykernel_98243/3776050204.py:45: SettingWithCopyWarning: \n",
      "A value is trying to be set on a copy of a slice from a DataFrame\n",
      "\n",
      "See the caveats in the documentation: https://pandas.pydata.org/pandas-docs/stable/user_guide/indexing.html#returning-a-view-versus-a-copy\n",
      "  df[prompt_name][i] = isMatch\n"
     ]
    },
    {
     "name": "stdout",
     "output_type": "stream",
     "text": [
      "Are the following two products the same?\n",
      "Product 1: Title: 30 amp stand alone mpr module\n",
      "Brand: middle atlantic\n",
      "Description: rlm30 l520 1 accommodates accepts nema l 520 20 amp twistlock plugs 30 amp stand alone mpr module accepts nema l 520 20 amp twistlock plugs remote 12v dc dry closure local switch control w status led \n",
      "Product 2: Title: middle atlantic hdr 4 external fan option\n",
      "Brand: middle atlantic\n",
      "Description: df1758external 4 1 2 fan kit and vent blocker \n",
      "\n",
      "Answer with 'True' or 'False'.\n",
      "__\n",
      "__\n",
      "False.\n",
      "__\n",
      "__\n",
      "74\n"
     ]
    },
    {
     "name": "stderr",
     "output_type": "stream",
     "text": [
      "/var/folders/gx/tzjwcf8x1llbhhf36mjt7xqr0000gn/T/ipykernel_98243/3776050204.py:45: SettingWithCopyWarning: \n",
      "A value is trying to be set on a copy of a slice from a DataFrame\n",
      "\n",
      "See the caveats in the documentation: https://pandas.pydata.org/pandas-docs/stable/user_guide/indexing.html#returning-a-view-versus-a-copy\n",
      "  df[prompt_name][i] = isMatch\n"
     ]
    },
    {
     "name": "stdout",
     "output_type": "stream",
     "text": [
      "Are the following two products the same?\n",
      "Product 1: Title: accell ultrarun usb 3 0 type a to micro b superspeed long length cable\n",
      "Brand: accell\n",
      "Description: usb 3 0 superspeed cable type a micro b 6 meters the ultrarun superspeed usb 3 0 cables by accell feature a built in amplifier that enables the data to travel at superspeed signaling rates over a 6m cable the ultrarun active cables require no externa\n",
      "Product 2: Title: accell premium series 10 usb 3 0 a b cable\n",
      "Brand: accell\n",
      "Description: accell premium series 10 usb 3 0 a b cable superspeed 5gbps throughput supports optimized power efficiency backwards compatible with usb 2 0 cable length 10\n",
      "\n",
      "Answer with 'True' or 'False'.\n",
      "__\n",
      "__\n",
      "False.\n",
      "__\n",
      "__\n",
      "75\n"
     ]
    },
    {
     "name": "stderr",
     "output_type": "stream",
     "text": [
      "/var/folders/gx/tzjwcf8x1llbhhf36mjt7xqr0000gn/T/ipykernel_98243/3776050204.py:45: SettingWithCopyWarning: \n",
      "A value is trying to be set on a copy of a slice from a DataFrame\n",
      "\n",
      "See the caveats in the documentation: https://pandas.pydata.org/pandas-docs/stable/user_guide/indexing.html#returning-a-view-versus-a-copy\n",
      "  df[prompt_name][i] = isMatch\n"
     ]
    },
    {
     "name": "stdout",
     "output_type": "stream",
     "text": [
      "Are the following two products the same?\n",
      "Product 1: Title: new premium series usb 2 0 a b cable u74529\n",
      "Brand: accell\n",
      "Description: 10ft premium usb 2 0 a b a b 10 ft data transfer speeds up to 480mbps double metal shielding for error free data transmission compatible with windows and mac compliant with usb 2 0 specifications and fully backwards compatible stingray boot design wi\n",
      "Product 2: Title: accell premium series 10 usb 3 0 a b cable\n",
      "Brand: accell\n",
      "Description: accell premium series 10 usb 3 0 a b cable superspeed 5gbps throughput supports optimized power efficiency backwards compatible with usb 2 0 cable length 10\n",
      "\n",
      "Answer with 'True' or 'False'.\n",
      "__\n",
      "__\n",
      "False.\n",
      "__\n",
      "__\n",
      "76\n"
     ]
    },
    {
     "name": "stderr",
     "output_type": "stream",
     "text": [
      "/var/folders/gx/tzjwcf8x1llbhhf36mjt7xqr0000gn/T/ipykernel_98243/3776050204.py:45: SettingWithCopyWarning: \n",
      "A value is trying to be set on a copy of a slice from a DataFrame\n",
      "\n",
      "See the caveats in the documentation: https://pandas.pydata.org/pandas-docs/stable/user_guide/indexing.html#returning-a-view-versus-a-copy\n",
      "  df[prompt_name][i] = isMatch\n"
     ]
    },
    {
     "name": "stdout",
     "output_type": "stream",
     "text": [
      "Are the following two products the same?\n",
      "Product 1: Title: accell ultracam h121c 006b r standard hdmi cable with micro hdmi connector for digital camera or camcorder\n",
      "Brand: accell\n",
      "Description: design for your digital camera camcorders and mobile devices the accell ultracam high speed hdmi cable with ethernet is engineered to deliver the highest performance and quality manufactured to the latest hdmi high speed specifications this cable is \n",
      "Product 2: Title: accell premium series 10 usb 3 0 a b cable\n",
      "Brand: accell\n",
      "Description: accell premium series 10 usb 3 0 a b cable superspeed 5gbps throughput supports optimized power efficiency backwards compatible with usb 2 0 cable length 10\n",
      "\n",
      "Answer with 'True' or 'False'.\n",
      "__\n",
      "__\n",
      "False.\n",
      "__\n",
      "__\n",
      "77\n"
     ]
    },
    {
     "name": "stderr",
     "output_type": "stream",
     "text": [
      "/var/folders/gx/tzjwcf8x1llbhhf36mjt7xqr0000gn/T/ipykernel_98243/3776050204.py:45: SettingWithCopyWarning: \n",
      "A value is trying to be set on a copy of a slice from a DataFrame\n",
      "\n",
      "See the caveats in the documentation: https://pandas.pydata.org/pandas-docs/stable/user_guide/indexing.html#returning-a-view-versus-a-copy\n",
      "  df[prompt_name][i] = isMatch\n"
     ]
    },
    {
     "name": "stdout",
     "output_type": "stream",
     "text": [
      "Are the following two products the same?\n",
      "Product 1: Title: urc r6 learning remote control\n",
      "Brand: universal\n",
      "Description: rc r6 universal remote affordable control of your home theater with your new home theater you re ready to enjoy the best hollywood has to offer but you don t enjoy having a pile of remotes on your coffee table fortunately universal remote control has\n",
      "Product 2: Title: level mount motorized full motion mount for flat screen tv s 10 42 screens\n",
      "Brand: level mount\n",
      "Description: lvm1009 features black aluminum and steel for lcd or plasma tvs 10 42 up to 100lbs built in bubble level stud finder all hardware included pan 30 degrees tilt 15 degrees and extend 10 5 cord management system neatly gathers cords vesa 75 100 200 400 \n",
      "\n",
      "Answer with 'True' or 'False'.\n",
      "__\n",
      "__\n",
      "False. The two products are not the same.\n",
      "__\n",
      "__\n",
      "78\n"
     ]
    },
    {
     "name": "stderr",
     "output_type": "stream",
     "text": [
      "/var/folders/gx/tzjwcf8x1llbhhf36mjt7xqr0000gn/T/ipykernel_98243/3776050204.py:45: SettingWithCopyWarning: \n",
      "A value is trying to be set on a copy of a slice from a DataFrame\n",
      "\n",
      "See the caveats in the documentation: https://pandas.pydata.org/pandas-docs/stable/user_guide/indexing.html#returning-a-view-versus-a-copy\n",
      "  df[prompt_name][i] = isMatch\n"
     ]
    },
    {
     "name": "stdout",
     "output_type": "stream",
     "text": [
      "Are the following two products the same?\n",
      "Product 1: Title: lens cleaning brush pen for camera lens viewfinder\n",
      "Brand: siig\n",
      "Description: siig lens cleaning brush pen ac cn0512 s1 cleaning kits\n",
      "Product 2: Title: level mount motorized full motion mount for flat screen tv s 10 42 screens\n",
      "Brand: level mount\n",
      "Description: lvm1009 features black aluminum and steel for lcd or plasma tvs 10 42 up to 100lbs built in bubble level stud finder all hardware included pan 30 degrees tilt 15 degrees and extend 10 5 cord management system neatly gathers cords vesa 75 100 200 400 \n",
      "\n",
      "Answer with 'True' or 'False'.\n",
      "__\n",
      "__\n",
      "False.\n",
      "__\n",
      "__\n",
      "79\n"
     ]
    },
    {
     "name": "stderr",
     "output_type": "stream",
     "text": [
      "/var/folders/gx/tzjwcf8x1llbhhf36mjt7xqr0000gn/T/ipykernel_98243/3776050204.py:45: SettingWithCopyWarning: \n",
      "A value is trying to be set on a copy of a slice from a DataFrame\n",
      "\n",
      "See the caveats in the documentation: https://pandas.pydata.org/pandas-docs/stable/user_guide/indexing.html#returning-a-view-versus-a-copy\n",
      "  df[prompt_name][i] = isMatch\n"
     ]
    },
    {
     "name": "stdout",
     "output_type": "stream",
     "text": [
      "Are the following two products the same?\n",
      "Product 1: Title: level mount lvmdc65mcl motor motion mount for 34 65 inch lcd plasma tvs\n",
      "Brand: level mount\n",
      "Description: easy to use and install the level mount lvmdc65mcl is designed to fit any lcd or plasma tv of 34 to 65 inches up to 200 lbs with simple remote controlled operation the 34 65 motorized full motion flat panel mount offers all the versatility of a full \n",
      "Product 2: Title: level mount motorized full motion mount for flat screen tv s 10 42 screens\n",
      "Brand: level mount\n",
      "Description: lvm1009 features black aluminum and steel for lcd or plasma tvs 10 42 up to 100lbs built in bubble level stud finder all hardware included pan 30 degrees tilt 15 degrees and extend 10 5 cord management system neatly gathers cords vesa 75 100 200 400 \n",
      "\n",
      "Answer with 'True' or 'False'.\n",
      "__\n",
      "__\n",
      "False.\n",
      "__\n",
      "__\n",
      "80\n"
     ]
    },
    {
     "name": "stderr",
     "output_type": "stream",
     "text": [
      "/var/folders/gx/tzjwcf8x1llbhhf36mjt7xqr0000gn/T/ipykernel_98243/3776050204.py:45: SettingWithCopyWarning: \n",
      "A value is trying to be set on a copy of a slice from a DataFrame\n",
      "\n",
      "See the caveats in the documentation: https://pandas.pydata.org/pandas-docs/stable/user_guide/indexing.html#returning-a-view-versus-a-copy\n",
      "  df[prompt_name][i] = isMatch\n"
     ]
    },
    {
     "name": "stdout",
     "output_type": "stream",
     "text": [
      "Are the following two products the same?\n",
      "Product 1: Title: level mount motorized full motion mount for flat screen tv s 10 42 screens\n",
      "Brand: level mount\n",
      "Description: lvm1009 features black aluminum and steel for lcd or plasma tvs 10 42 up to 100lbs built in bubble level stud finder all hardware included pan 30 degrees tilt 15 degrees and extend 10 5 cord management system neatly gathers cords vesa 75 100 200 400 \n",
      "Product 2: Title: level mount lm50hdcc lcd fixed tilt mount bundle for 26 to 55 inch tvs with 10 feet hdmi cable and 10 feet cord cover black\n",
      "Brand: level mount\n",
      "Description: fixed or tilt 26 50 tv wall mount bundle for tvs up to 200lbs\n",
      "\n",
      "Answer with 'True' or 'False'.\n",
      "__\n",
      "__\n",
      "False.\n",
      "__\n",
      "__\n",
      "81\n"
     ]
    },
    {
     "name": "stderr",
     "output_type": "stream",
     "text": [
      "/var/folders/gx/tzjwcf8x1llbhhf36mjt7xqr0000gn/T/ipykernel_98243/3776050204.py:45: SettingWithCopyWarning: \n",
      "A value is trying to be set on a copy of a slice from a DataFrame\n",
      "\n",
      "See the caveats in the documentation: https://pandas.pydata.org/pandas-docs/stable/user_guide/indexing.html#returning-a-view-versus-a-copy\n",
      "  df[prompt_name][i] = isMatch\n"
     ]
    },
    {
     "name": "stdout",
     "output_type": "stream",
     "text": [
      "Are the following two products the same?\n",
      "Product 1: Title: level mount motorized full motion mount for flat screen tv s 10 42 screens\n",
      "Brand: level mount\n",
      "Description: lvm1009 features black aluminum and steel for lcd or plasma tvs 10 42 up to 100lbs built in bubble level stud finder all hardware included pan 30 degrees tilt 15 degrees and extend 10 5 cord management system neatly gathers cords vesa 75 100 200 400 \n",
      "Product 2: Title: level mount aisoa full motion small single arm cantilever mount for 10 to 30 displays black\n",
      "Brand: level mount\n",
      "Description: full motion single arm mount fits 10 to 30 tv s level mount full motion single arm mount fits 10 to 30 tv s easy to use and install this level mount aisoa is designed to fit any 10 30 flat panel tv up to 50 lbs this unit has a single arm that will pa\n",
      "\n",
      "Answer with 'True' or 'False'.\n",
      "__\n",
      "__\n",
      "False.\n",
      "__\n",
      "__\n",
      "82\n"
     ]
    },
    {
     "name": "stderr",
     "output_type": "stream",
     "text": [
      "/var/folders/gx/tzjwcf8x1llbhhf36mjt7xqr0000gn/T/ipykernel_98243/3776050204.py:45: SettingWithCopyWarning: \n",
      "A value is trying to be set on a copy of a slice from a DataFrame\n",
      "\n",
      "See the caveats in the documentation: https://pandas.pydata.org/pandas-docs/stable/user_guide/indexing.html#returning-a-view-versus-a-copy\n",
      "  df[prompt_name][i] = isMatch\n"
     ]
    },
    {
     "name": "stdout",
     "output_type": "stream",
     "text": [
      "Are the following two products the same?\n",
      "Product 1: Title: 25 component video cable\n",
      "Brand: cables to go\n",
      "Description: 25ft velocity ponent video interconnect \n",
      "Product 2: Title: cables to go 12 cmg rated hd15 sxga m m monitor projector cable with rounded low profile connectors\n",
      "Brand: cables to go\n",
      "Description: cables to go 12 cmg rated hd15 sxga m m monitor projector cable provides easier in wall installation where cmg rating is required rounded low profile connectors saves valuable space in the gang box rounded shape accommodates smaller monitor mounts su\n",
      "\n",
      "Answer with 'True' or 'False'.\n",
      "__\n",
      "__\n",
      "False.\n",
      "__\n",
      "__\n",
      "83\n"
     ]
    },
    {
     "name": "stderr",
     "output_type": "stream",
     "text": [
      "/var/folders/gx/tzjwcf8x1llbhhf36mjt7xqr0000gn/T/ipykernel_98243/3776050204.py:45: SettingWithCopyWarning: \n",
      "A value is trying to be set on a copy of a slice from a DataFrame\n",
      "\n",
      "See the caveats in the documentation: https://pandas.pydata.org/pandas-docs/stable/user_guide/indexing.html#returning-a-view-versus-a-copy\n",
      "  df[prompt_name][i] = isMatch\n"
     ]
    },
    {
     "name": "stdout",
     "output_type": "stream",
     "text": [
      "Are the following two products the same?\n",
      "Product 1: Title: cables to go 02300 ieee 1284 db25 male to centronics 36 male parallel printer cable 6 feet 1 82 meters beige\n",
      "Brand: cables to go\n",
      "Description: to enjoy the increased data rate and two way communication of your ieee 1284 compliant printer or scanner you need a cable with high quality connectors and a specialized wire type our cable exploits this technology to enable high speed bi directional\n",
      "Product 2: Title: cables to go 12 cmg rated hd15 sxga m m monitor projector cable with rounded low profile connectors\n",
      "Brand: cables to go\n",
      "Description: cables to go 12 cmg rated hd15 sxga m m monitor projector cable provides easier in wall installation where cmg rating is required rounded low profile connectors saves valuable space in the gang box rounded shape accommodates smaller monitor mounts su\n",
      "\n",
      "Answer with 'True' or 'False'.\n",
      "__\n",
      "__\n",
      "False.\n",
      "__\n",
      "__\n",
      "84\n"
     ]
    },
    {
     "name": "stderr",
     "output_type": "stream",
     "text": [
      "/var/folders/gx/tzjwcf8x1llbhhf36mjt7xqr0000gn/T/ipykernel_98243/3776050204.py:45: SettingWithCopyWarning: \n",
      "A value is trying to be set on a copy of a slice from a DataFrame\n",
      "\n",
      "See the caveats in the documentation: https://pandas.pydata.org/pandas-docs/stable/user_guide/indexing.html#returning-a-view-versus-a-copy\n",
      "  df[prompt_name][i] = isMatch\n"
     ]
    },
    {
     "name": "stdout",
     "output_type": "stream",
     "text": [
      "Are the following two products the same?\n",
      "Product 1: Title: cables to go 30504 usb 2 0 to ide or serial ata drive adapter black\n",
      "Brand: cables to go\n",
      "Description: externally connect one 2 5in 3 5in or 5 25in ide atapi or sata drive to your computer via usb 2 0\n",
      "Product 2: Title: cables to go 12 cmg rated hd15 sxga m m monitor projector cable with rounded low profile connectors\n",
      "Brand: cables to go\n",
      "Description: cables to go 12 cmg rated hd15 sxga m m monitor projector cable provides easier in wall installation where cmg rating is required rounded low profile connectors saves valuable space in the gang box rounded shape accommodates smaller monitor mounts su\n",
      "\n",
      "Answer with 'True' or 'False'.\n",
      "__\n",
      "__\n",
      "False.\n",
      "__\n",
      "__\n",
      "85\n"
     ]
    },
    {
     "name": "stderr",
     "output_type": "stream",
     "text": [
      "/var/folders/gx/tzjwcf8x1llbhhf36mjt7xqr0000gn/T/ipykernel_98243/3776050204.py:45: SettingWithCopyWarning: \n",
      "A value is trying to be set on a copy of a slice from a DataFrame\n",
      "\n",
      "See the caveats in the documentation: https://pandas.pydata.org/pandas-docs/stable/user_guide/indexing.html#returning-a-view-versus-a-copy\n",
      "  df[prompt_name][i] = isMatch\n"
     ]
    },
    {
     "name": "stdout",
     "output_type": "stream",
     "text": [
      "Are the following two products the same?\n",
      "Product 1: Title: cables to go 26886 usb to db9 male serial adapter blue 0 45 meters 1 5 feet\n",
      "Brand: cables to go\n",
      "Description: cables to go port authority usb to db9 serial adapter 26886 cable adapters\n",
      "Product 2: Title: cables to go 12 cmg rated hd15 sxga m m monitor projector cable with rounded low profile connectors\n",
      "Brand: cables to go\n",
      "Description: cables to go 12 cmg rated hd15 sxga m m monitor projector cable provides easier in wall installation where cmg rating is required rounded low profile connectors saves valuable space in the gang box rounded shape accommodates smaller monitor mounts su\n",
      "\n",
      "Answer with 'True' or 'False'.\n",
      "__\n",
      "__\n",
      "False.\n",
      "__\n",
      "__\n",
      "86\n"
     ]
    },
    {
     "name": "stderr",
     "output_type": "stream",
     "text": [
      "/var/folders/gx/tzjwcf8x1llbhhf36mjt7xqr0000gn/T/ipykernel_98243/3776050204.py:45: SettingWithCopyWarning: \n",
      "A value is trying to be set on a copy of a slice from a DataFrame\n",
      "\n",
      "See the caveats in the documentation: https://pandas.pydata.org/pandas-docs/stable/user_guide/indexing.html#returning-a-view-versus-a-copy\n",
      "  df[prompt_name][i] = isMatch\n"
     ]
    },
    {
     "name": "stdout",
     "output_type": "stream",
     "text": [
      "Are the following two products the same?\n",
      "Product 1: Title: cables to go 08075 db9 m f null modem adapter\n",
      "Brand: cables to go\n",
      "Description: cables to go null modem adapter 08075 cable adapters\n",
      "Product 2: Title: cables to go 12 cmg rated hd15 sxga m m monitor projector cable with rounded low profile connectors\n",
      "Brand: cables to go\n",
      "Description: cables to go 12 cmg rated hd15 sxga m m monitor projector cable provides easier in wall installation where cmg rating is required rounded low profile connectors saves valuable space in the gang box rounded shape accommodates smaller monitor mounts su\n",
      "\n",
      "Answer with 'True' or 'False'.\n",
      "__\n",
      "__\n",
      "False. The two products are different.\n",
      "__\n",
      "__\n",
      "87\n"
     ]
    },
    {
     "name": "stderr",
     "output_type": "stream",
     "text": [
      "/var/folders/gx/tzjwcf8x1llbhhf36mjt7xqr0000gn/T/ipykernel_98243/3776050204.py:45: SettingWithCopyWarning: \n",
      "A value is trying to be set on a copy of a slice from a DataFrame\n",
      "\n",
      "See the caveats in the documentation: https://pandas.pydata.org/pandas-docs/stable/user_guide/indexing.html#returning-a-view-versus-a-copy\n",
      "  df[prompt_name][i] = isMatch\n"
     ]
    },
    {
     "name": "stdout",
     "output_type": "stream",
     "text": [
      "Are the following two products the same?\n",
      "Product 1: Title: cables to go 02803 db25 male to c36 male parallel printer cable beige 25 feet 7 62 meters\n",
      "Brand: cables to go\n",
      "Description: get a reliable connection between your pc and uni directional dot matrix or older laser printer tough enough for use in industrial settings fully molded for excellent strain relief this cable also provides excellent foil shielding to protect valuable\n",
      "Product 2: Title: cables to go 12 cmg rated hd15 sxga m m monitor projector cable with rounded low profile connectors\n",
      "Brand: cables to go\n",
      "Description: cables to go 12 cmg rated hd15 sxga m m monitor projector cable provides easier in wall installation where cmg rating is required rounded low profile connectors saves valuable space in the gang box rounded shape accommodates smaller monitor mounts su\n",
      "\n",
      "Answer with 'True' or 'False'.\n",
      "__\n",
      "__\n",
      "False.\n",
      "__\n",
      "__\n",
      "88\n"
     ]
    },
    {
     "name": "stderr",
     "output_type": "stream",
     "text": [
      "/var/folders/gx/tzjwcf8x1llbhhf36mjt7xqr0000gn/T/ipykernel_98243/3776050204.py:45: SettingWithCopyWarning: \n",
      "A value is trying to be set on a copy of a slice from a DataFrame\n",
      "\n",
      "See the caveats in the documentation: https://pandas.pydata.org/pandas-docs/stable/user_guide/indexing.html#returning-a-view-versus-a-copy\n",
      "  df[prompt_name][i] = isMatch\n"
     ]
    },
    {
     "name": "stdout",
     "output_type": "stream",
     "text": [
      "Are the following two products the same?\n",
      "Product 1: Title: lg lhb336 1100w 3d blu ray home theater system with smart tv\n",
      "Brand: lg\n",
      "Description: march 2011 internet ready devices internet ready devices use your broadband connection to deliver dynamic content to your television whether it s streaming video from netflix new music or a quick glance at today s weather forecast although there is o\n",
      "Product 2: Title: lg 32 ultra slim 32lv2500\n",
      "Brand: lg\n",
      "Description: lg 32 screen measured diagonally from corner to corner built in digital tuner watch digital broadcasts including hdtv programs where available 1 000 000 1 dynamic contrast ratio hdmi inputs 3 enjoy a superior hd experience with hdmi one cable solutio\n",
      "\n",
      "Answer with 'True' or 'False'.\n",
      "__\n",
      "__\n",
      "False.\n",
      "__\n",
      "__\n",
      "89\n"
     ]
    },
    {
     "name": "stderr",
     "output_type": "stream",
     "text": [
      "/var/folders/gx/tzjwcf8x1llbhhf36mjt7xqr0000gn/T/ipykernel_98243/3776050204.py:45: SettingWithCopyWarning: \n",
      "A value is trying to be set on a copy of a slice from a DataFrame\n",
      "\n",
      "See the caveats in the documentation: https://pandas.pydata.org/pandas-docs/stable/user_guide/indexing.html#returning-a-view-versus-a-copy\n",
      "  df[prompt_name][i] = isMatch\n"
     ]
    },
    {
     "name": "stdout",
     "output_type": "stream",
     "text": [
      "Are the following two products the same?\n",
      "Product 1: Title: lg ips231p bn 23 inch widescreen led lcd pivoting monitor with ips panel black\n",
      "Brand: lg\n",
      "Description: this monitor combines the strengths of led and ips display technologies making everything come true from energy savings to great picture quality all in ultra slim design that pivots from landscape to portrait mode enabling you to make the most of you\n",
      "Product 2: Title: lg 32 ultra slim 32lv2500\n",
      "Brand: lg\n",
      "Description: lg 32 screen measured diagonally from corner to corner built in digital tuner watch digital broadcasts including hdtv programs where available 1 000 000 1 dynamic contrast ratio hdmi inputs 3 enjoy a superior hd experience with hdmi one cable solutio\n",
      "\n",
      "Answer with 'True' or 'False'.\n",
      "__\n",
      "__\n",
      "False.\n",
      "__\n",
      "__\n",
      "90\n"
     ]
    },
    {
     "name": "stderr",
     "output_type": "stream",
     "text": [
      "/var/folders/gx/tzjwcf8x1llbhhf36mjt7xqr0000gn/T/ipykernel_98243/3776050204.py:45: SettingWithCopyWarning: \n",
      "A value is trying to be set on a copy of a slice from a DataFrame\n",
      "\n",
      "See the caveats in the documentation: https://pandas.pydata.org/pandas-docs/stable/user_guide/indexing.html#returning-a-view-versus-a-copy\n",
      "  df[prompt_name][i] = isMatch\n"
     ]
    },
    {
     "name": "stdout",
     "output_type": "stream",
     "text": [
      "Are the following two products the same?\n",
      "Product 1: Title: lg 32lk450 32 inch 1080p 60 hz lcd hdtv\n",
      "Brand: lg\n",
      "Description: if you ve been hearing about how amazing blu ray entertainment is or how much better your favorite shows would look in hd you ve heard right the thing is you need 1080p full hd to get the most out of both with the lk450 you can key technologies doubl\n",
      "Product 2: Title: lg 32 ultra slim 32lv2500\n",
      "Brand: lg\n",
      "Description: lg 32 screen measured diagonally from corner to corner built in digital tuner watch digital broadcasts including hdtv programs where available 1 000 000 1 dynamic contrast ratio hdmi inputs 3 enjoy a superior hd experience with hdmi one cable solutio\n",
      "\n",
      "Answer with 'True' or 'False'.\n",
      "__\n",
      "__\n",
      "False.\n",
      "__\n",
      "__\n",
      "91\n"
     ]
    },
    {
     "name": "stderr",
     "output_type": "stream",
     "text": [
      "/var/folders/gx/tzjwcf8x1llbhhf36mjt7xqr0000gn/T/ipykernel_98243/3776050204.py:45: SettingWithCopyWarning: \n",
      "A value is trying to be set on a copy of a slice from a DataFrame\n",
      "\n",
      "See the caveats in the documentation: https://pandas.pydata.org/pandas-docs/stable/user_guide/indexing.html#returning-a-view-versus-a-copy\n",
      "  df[prompt_name][i] = isMatch\n"
     ]
    },
    {
     "name": "stdout",
     "output_type": "stream",
     "text": [
      "Are the following two products the same?\n",
      "Product 1: Title: lg lg500g tracfone with double minutes for life\n",
      "Brand: lg\n",
      "Description: lg lg500g tracfone with double minutes for life\n",
      "Product 2: Title: lg 32 ultra slim 32lv2500\n",
      "Brand: lg\n",
      "Description: lg 32 screen measured diagonally from corner to corner built in digital tuner watch digital broadcasts including hdtv programs where available 1 000 000 1 dynamic contrast ratio hdmi inputs 3 enjoy a superior hd experience with hdmi one cable solutio\n",
      "\n",
      "Answer with 'True' or 'False'.\n",
      "__\n",
      "__\n",
      "False.\n",
      "__\n",
      "__\n",
      "92\n"
     ]
    },
    {
     "name": "stderr",
     "output_type": "stream",
     "text": [
      "/var/folders/gx/tzjwcf8x1llbhhf36mjt7xqr0000gn/T/ipykernel_98243/3776050204.py:45: SettingWithCopyWarning: \n",
      "A value is trying to be set on a copy of a slice from a DataFrame\n",
      "\n",
      "See the caveats in the documentation: https://pandas.pydata.org/pandas-docs/stable/user_guide/indexing.html#returning-a-view-versus-a-copy\n",
      "  df[prompt_name][i] = isMatch\n"
     ]
    },
    {
     "name": "stdout",
     "output_type": "stream",
     "text": [
      "Are the following two products the same?\n",
      "Product 1: Title: lg 32 ultra slim 32lv2500\n",
      "Brand: lg\n",
      "Description: lg 32 screen measured diagonally from corner to corner built in digital tuner watch digital broadcasts including hdtv programs where available 1 000 000 1 dynamic contrast ratio hdmi inputs 3 enjoy a superior hd experience with hdmi one cable solutio\n",
      "Product 2: Title: lg super multi portable slim dvd rewriter optical drive gp08nu6w white\n",
      "Brand: lg\n",
      "Description: the slim and attractive design of the lg super multi gp08nu6w external optical disc drive trims unnecessary bulk making it very portable you can just plug it in via usb and burn dvd rs at 8x and cds at 24x speeds super multi technology supports cd dv\n",
      "\n",
      "Answer with 'True' or 'False'.\n",
      "__\n",
      "__\n",
      "False.\n",
      "__\n",
      "__\n",
      "93\n"
     ]
    },
    {
     "name": "stderr",
     "output_type": "stream",
     "text": [
      "/var/folders/gx/tzjwcf8x1llbhhf36mjt7xqr0000gn/T/ipykernel_98243/3776050204.py:45: SettingWithCopyWarning: \n",
      "A value is trying to be set on a copy of a slice from a DataFrame\n",
      "\n",
      "See the caveats in the documentation: https://pandas.pydata.org/pandas-docs/stable/user_guide/indexing.html#returning-a-view-versus-a-copy\n",
      "  df[prompt_name][i] = isMatch\n"
     ]
    },
    {
     "name": "stdout",
     "output_type": "stream",
     "text": [
      "Are the following two products the same?\n",
      "Product 1: Title: lg 32 ultra slim 32lv2500\n",
      "Brand: lg\n",
      "Description: lg 32 screen measured diagonally from corner to corner built in digital tuner watch digital broadcasts including hdtv programs where available 1 000 000 1 dynamic contrast ratio hdmi inputs 3 enjoy a superior hd experience with hdmi one cable solutio\n",
      "Product 2: Title: lg gp08lu10 8x dvd rw slim super multi drive with lightscribe\n",
      "Brand: lg\n",
      "Description: you might not know it from looking at this dvd drive s sleek slim exterior but it s loaded with capabilities lg s external cd and dvd burner looks great and works in four unique formats super multi read and write lets you select your style for maximu\n",
      "\n",
      "Answer with 'True' or 'False'.\n",
      "__\n",
      "__\n",
      "False.\n",
      "__\n",
      "__\n",
      "94\n"
     ]
    },
    {
     "name": "stderr",
     "output_type": "stream",
     "text": [
      "/var/folders/gx/tzjwcf8x1llbhhf36mjt7xqr0000gn/T/ipykernel_98243/3776050204.py:45: SettingWithCopyWarning: \n",
      "A value is trying to be set on a copy of a slice from a DataFrame\n",
      "\n",
      "See the caveats in the documentation: https://pandas.pydata.org/pandas-docs/stable/user_guide/indexing.html#returning-a-view-versus-a-copy\n",
      "  df[prompt_name][i] = isMatch\n"
     ]
    },
    {
     "name": "stdout",
     "output_type": "stream",
     "text": [
      "Are the following two products the same?\n",
      "Product 1: Title: middle atlantic fan grill chrome\n",
      "Brand: middle atlantic\n",
      "Description: hamburger style guard for 10 amp quot fans\n",
      "Product 2: Title: middle atlantic designer inspired ultra quiet fan panel\n",
      "Brand: middle atlantic\n",
      "Description: df3017features thermostatic proportional fan control 100 cfm cooling capacity tasteful subdued temperature and alert display provides instant system status on board digital processor varies fan speed based on equipment temperature which is monitored \n",
      "\n",
      "Answer with 'True' or 'False'.\n",
      "__\n",
      "__\n",
      "False.\n",
      "__\n",
      "__\n",
      "95\n"
     ]
    },
    {
     "name": "stderr",
     "output_type": "stream",
     "text": [
      "/var/folders/gx/tzjwcf8x1llbhhf36mjt7xqr0000gn/T/ipykernel_98243/3776050204.py:45: SettingWithCopyWarning: \n",
      "A value is trying to be set on a copy of a slice from a DataFrame\n",
      "\n",
      "See the caveats in the documentation: https://pandas.pydata.org/pandas-docs/stable/user_guide/indexing.html#returning-a-view-versus-a-copy\n",
      "  df[prompt_name][i] = isMatch\n"
     ]
    },
    {
     "name": "stdout",
     "output_type": "stream",
     "text": [
      "Are the following two products the same?\n",
      "Product 1: Title: wrk sa series stand alone rack less rear door 27 32 d rack enclosure depth 27 1 2 d\n",
      "Brand: middle atlantic\n",
      "Description: wrk 44sa 27lrd rack enclosure depth 27 1 2 d select a wrk sa when mounting equipment that demands space for substantial cable bundles solid design and stylish beveled corners are ideal when aesthetics are an issue structural features fully welded con\n",
      "Product 2: Title: middle atlantic designer inspired ultra quiet fan panel\n",
      "Brand: middle atlantic\n",
      "Description: df3017features thermostatic proportional fan control 100 cfm cooling capacity tasteful subdued temperature and alert display provides instant system status on board digital processor varies fan speed based on equipment temperature which is monitored \n",
      "\n",
      "Answer with 'True' or 'False'.\n",
      "__\n",
      "__\n",
      "False. The two products are different.\n",
      "__\n",
      "__\n",
      "96\n"
     ]
    },
    {
     "name": "stderr",
     "output_type": "stream",
     "text": [
      "/var/folders/gx/tzjwcf8x1llbhhf36mjt7xqr0000gn/T/ipykernel_98243/3776050204.py:45: SettingWithCopyWarning: \n",
      "A value is trying to be set on a copy of a slice from a DataFrame\n",
      "\n",
      "See the caveats in the documentation: https://pandas.pydata.org/pandas-docs/stable/user_guide/indexing.html#returning-a-view-versus-a-copy\n",
      "  df[prompt_name][i] = isMatch\n"
     ]
    },
    {
     "name": "stdout",
     "output_type": "stream",
     "text": [
      "Are the following two products the same?\n",
      "Product 1: Title: philips srp4004 27 universal 4 in 1 remote control for tv vcr dvd sat with xxl and fluorescent glow buttons\n",
      "Brand: philips\n",
      "Description: experience a quick and easy setup with your philips universal remote control and its innovative simplesetup feature the ergonomic design and xl fluorescent glow buttons make it easy to use the remote even in the dark the remote works with more than 1\n",
      "Product 2: Title: middle atlantic designer inspired ultra quiet fan panel\n",
      "Brand: middle atlantic\n",
      "Description: df3017features thermostatic proportional fan control 100 cfm cooling capacity tasteful subdued temperature and alert display provides instant system status on board digital processor varies fan speed based on equipment temperature which is monitored \n",
      "\n",
      "Answer with 'True' or 'False'.\n",
      "__\n",
      "__\n",
      "False.\n",
      "__\n",
      "__\n",
      "97\n"
     ]
    },
    {
     "name": "stderr",
     "output_type": "stream",
     "text": [
      "/var/folders/gx/tzjwcf8x1llbhhf36mjt7xqr0000gn/T/ipykernel_98243/3776050204.py:45: SettingWithCopyWarning: \n",
      "A value is trying to be set on a copy of a slice from a DataFrame\n",
      "\n",
      "See the caveats in the documentation: https://pandas.pydata.org/pandas-docs/stable/user_guide/indexing.html#returning-a-view-versus-a-copy\n",
      "  df[prompt_name][i] = isMatch\n"
     ]
    },
    {
     "name": "stdout",
     "output_type": "stream",
     "text": [
      "Are the following two products the same?\n",
      "Product 1: Title: philips magnavox pm435s 4 device universal remote control\n",
      "Brand: philips\n",
      "Description: sync up your tv vcr dvd and satellite system with the philips pm435s remote control among the functions provided by the remote are subtitle repeat and chapter scan for your dvd player a picture in picture pip option with a toggle key for your tv and \n",
      "Product 2: Title: middle atlantic designer inspired ultra quiet fan panel\n",
      "Brand: middle atlantic\n",
      "Description: df3017features thermostatic proportional fan control 100 cfm cooling capacity tasteful subdued temperature and alert display provides instant system status on board digital processor varies fan speed based on equipment temperature which is monitored \n",
      "\n",
      "Answer with 'True' or 'False'.\n",
      "__\n",
      "__\n",
      "False.\n",
      "__\n",
      "__\n",
      "98\n"
     ]
    },
    {
     "name": "stderr",
     "output_type": "stream",
     "text": [
      "/var/folders/gx/tzjwcf8x1llbhhf36mjt7xqr0000gn/T/ipykernel_98243/3776050204.py:45: SettingWithCopyWarning: \n",
      "A value is trying to be set on a copy of a slice from a DataFrame\n",
      "\n",
      "See the caveats in the documentation: https://pandas.pydata.org/pandas-docs/stable/user_guide/indexing.html#returning-a-view-versus-a-copy\n",
      "  df[prompt_name][i] = isMatch\n"
     ]
    },
    {
     "name": "stdout",
     "output_type": "stream",
     "text": [
      "Are the following two products the same?\n",
      "Product 1: Title: 30 amp stand alone mpr module\n",
      "Brand: middle atlantic\n",
      "Description: rlm30 l520 1 accommodates accepts nema l 520 20 amp twistlock plugs 30 amp stand alone mpr module accepts nema l 520 20 amp twistlock plugs remote 12v dc dry closure local switch control w status led \n",
      "Product 2: Title: middle atlantic designer inspired ultra quiet fan panel\n",
      "Brand: middle atlantic\n",
      "Description: df3017features thermostatic proportional fan control 100 cfm cooling capacity tasteful subdued temperature and alert display provides instant system status on board digital processor varies fan speed based on equipment temperature which is monitored \n",
      "\n",
      "Answer with 'True' or 'False'.\n",
      "__\n",
      "__\n",
      "False.\n",
      "__\n",
      "__\n",
      "99\n"
     ]
    },
    {
     "name": "stderr",
     "output_type": "stream",
     "text": [
      "/var/folders/gx/tzjwcf8x1llbhhf36mjt7xqr0000gn/T/ipykernel_98243/3776050204.py:45: SettingWithCopyWarning: \n",
      "A value is trying to be set on a copy of a slice from a DataFrame\n",
      "\n",
      "See the caveats in the documentation: https://pandas.pydata.org/pandas-docs/stable/user_guide/indexing.html#returning-a-view-versus-a-copy\n",
      "  df[prompt_name][i] = isMatch\n"
     ]
    },
    {
     "name": "stdout",
     "output_type": "stream",
     "text": [
      "Are the following two products the same?\n",
      "Product 1: Title: 75 to 300 ohm matching transformer\n",
      "Brand: parts express\n",
      "Description: adapts 75 ohm coax to 300 ohm twin lead or vice versa at antenna or television 5 900 mhz uhf vhf fm \n",
      "Product 2: Title: middle atlantic designer inspired ultra quiet fan panel\n",
      "Brand: middle atlantic\n",
      "Description: df3017features thermostatic proportional fan control 100 cfm cooling capacity tasteful subdued temperature and alert display provides instant system status on board digital processor varies fan speed based on equipment temperature which is monitored \n",
      "\n",
      "Answer with 'True' or 'False'.\n",
      "__\n",
      "__\n",
      "False.\n",
      "__\n",
      "__\n",
      "100\n"
     ]
    },
    {
     "name": "stderr",
     "output_type": "stream",
     "text": [
      "/var/folders/gx/tzjwcf8x1llbhhf36mjt7xqr0000gn/T/ipykernel_98243/3776050204.py:45: SettingWithCopyWarning: \n",
      "A value is trying to be set on a copy of a slice from a DataFrame\n",
      "\n",
      "See the caveats in the documentation: https://pandas.pydata.org/pandas-docs/stable/user_guide/indexing.html#returning-a-view-versus-a-copy\n",
      "  df[prompt_name][i] = isMatch\n"
     ]
    },
    {
     "name": "stdout",
     "output_type": "stream",
     "text": [
      "Are the following two products the same?\n",
      "Product 1: Title: pdc 915r 6 by middle atlantic products\n",
      "Brand: middle atlantic\n",
      "Description: 9 outlet 6 controlled single 15a circuit 2 stage surge spike protected rackmount power distribution w 9 cord black powdercoat finish\n",
      "Product 2: Title: middle atlantic designer inspired ultra quiet fan panel\n",
      "Brand: middle atlantic\n",
      "Description: df3017features thermostatic proportional fan control 100 cfm cooling capacity tasteful subdued temperature and alert display provides instant system status on board digital processor varies fan speed based on equipment temperature which is monitored \n",
      "\n",
      "Answer with 'True' or 'False'.\n",
      "__\n",
      "__\n",
      "False. The two products are different.\n",
      "__\n",
      "__\n",
      "101\n"
     ]
    },
    {
     "name": "stderr",
     "output_type": "stream",
     "text": [
      "/var/folders/gx/tzjwcf8x1llbhhf36mjt7xqr0000gn/T/ipykernel_98243/3776050204.py:45: SettingWithCopyWarning: \n",
      "A value is trying to be set on a copy of a slice from a DataFrame\n",
      "\n",
      "See the caveats in the documentation: https://pandas.pydata.org/pandas-docs/stable/user_guide/indexing.html#returning-a-view-versus-a-copy\n",
      "  df[prompt_name][i] = isMatch\n"
     ]
    },
    {
     "name": "stdout",
     "output_type": "stream",
     "text": [
      "Are the following two products the same?\n",
      "Product 1: Title: pd 620j ig by middle atlantic products\n",
      "Brand: middle atlantic\n",
      "Description: 6 outlet single 20 amp isolated ground circuit power strip w jbox fits racks that accept e power\n",
      "Product 2: Title: middle atlantic designer inspired ultra quiet fan panel\n",
      "Brand: middle atlantic\n",
      "Description: df3017features thermostatic proportional fan control 100 cfm cooling capacity tasteful subdued temperature and alert display provides instant system status on board digital processor varies fan speed based on equipment temperature which is monitored \n",
      "\n",
      "Answer with 'True' or 'False'.\n",
      "__\n",
      "__\n",
      "False.\n",
      "__\n",
      "__\n",
      "102\n"
     ]
    },
    {
     "name": "stderr",
     "output_type": "stream",
     "text": [
      "/var/folders/gx/tzjwcf8x1llbhhf36mjt7xqr0000gn/T/ipykernel_98243/3776050204.py:45: SettingWithCopyWarning: \n",
      "A value is trying to be set on a copy of a slice from a DataFrame\n",
      "\n",
      "See the caveats in the documentation: https://pandas.pydata.org/pandas-docs/stable/user_guide/indexing.html#returning-a-view-versus-a-copy\n",
      "  df[prompt_name][i] = isMatch\n"
     ]
    },
    {
     "name": "stdout",
     "output_type": "stream",
     "text": [
      "Are the following two products the same?\n",
      "Product 1: Title: single motor rf low voltage remote control system\n",
      "Brand: da lite\n",
      "Description: the single motor lvc is used to operate da lite single motor electric screens from one or more locations remote control or for integration into a control panel system \n",
      "Product 2: Title: middle atlantic designer inspired ultra quiet fan panel\n",
      "Brand: middle atlantic\n",
      "Description: df3017features thermostatic proportional fan control 100 cfm cooling capacity tasteful subdued temperature and alert display provides instant system status on board digital processor varies fan speed based on equipment temperature which is monitored \n",
      "\n",
      "Answer with 'True' or 'False'.\n",
      "__\n",
      "__\n",
      "False.\n",
      "__\n",
      "__\n",
      "103\n"
     ]
    },
    {
     "name": "stderr",
     "output_type": "stream",
     "text": [
      "/var/folders/gx/tzjwcf8x1llbhhf36mjt7xqr0000gn/T/ipykernel_98243/3776050204.py:45: SettingWithCopyWarning: \n",
      "A value is trying to be set on a copy of a slice from a DataFrame\n",
      "\n",
      "See the caveats in the documentation: https://pandas.pydata.org/pandas-docs/stable/user_guide/indexing.html#returning-a-view-versus-a-copy\n",
      "  df[prompt_name][i] = isMatch\n"
     ]
    },
    {
     "name": "stdout",
     "output_type": "stream",
     "text": [
      "Are the following two products the same?\n",
      "Product 1: Title: middle atlantic designer inspired ultra quiet fan panel\n",
      "Brand: middle atlantic\n",
      "Description: df3017features thermostatic proportional fan control 100 cfm cooling capacity tasteful subdued temperature and alert display provides instant system status on board digital processor varies fan speed based on equipment temperature which is monitored \n",
      "Product 2: Title: vizio xru100 universal remote for home theater black\n",
      "Brand: vizio\n",
      "Description: the vizio xru100 home theater univeral remote is the perfect match for up to three devices in your home or office \n",
      "\n",
      "Answer with 'True' or 'False'.\n",
      "__\n",
      "__\n",
      "False.\n",
      "__\n",
      "__\n",
      "104\n"
     ]
    },
    {
     "name": "stderr",
     "output_type": "stream",
     "text": [
      "/var/folders/gx/tzjwcf8x1llbhhf36mjt7xqr0000gn/T/ipykernel_98243/3776050204.py:45: SettingWithCopyWarning: \n",
      "A value is trying to be set on a copy of a slice from a DataFrame\n",
      "\n",
      "See the caveats in the documentation: https://pandas.pydata.org/pandas-docs/stable/user_guide/indexing.html#returning-a-view-versus-a-copy\n",
      "  df[prompt_name][i] = isMatch\n"
     ]
    },
    {
     "name": "stdout",
     "output_type": "stream",
     "text": [
      "Are the following two products the same?\n",
      "Product 1: Title: pc treasures clickit classic mouse pink 07671\n",
      "Brand: pc treasures\n",
      "Description: features five button mouse with scroll wheel for efficient scrolling and navigation within documents and web pages cpi button switches between 400 dpi 800 dpi and 1600dpi to provide ideal mouse responsiveness side buttons allow for one click back and\n",
      "Product 2: Title: pc treasures external dvd rom drive red\n",
      "Brand: pc treasures\n",
      "Description: pc treasures external dvd rom drive reading speed 24x cd rom 8x dvd rom slim and lightweight for mobility usb powered smart x technology built in usb cable holder plug and play compatible with windows 7 vista xp linux and mac os color red\n",
      "\n",
      "Answer with 'True' or 'False'.\n",
      "__\n",
      "__\n",
      "False.\n",
      "__\n",
      "__\n",
      "105\n"
     ]
    },
    {
     "name": "stderr",
     "output_type": "stream",
     "text": [
      "/var/folders/gx/tzjwcf8x1llbhhf36mjt7xqr0000gn/T/ipykernel_98243/3776050204.py:45: SettingWithCopyWarning: \n",
      "A value is trying to be set on a copy of a slice from a DataFrame\n",
      "\n",
      "See the caveats in the documentation: https://pandas.pydata.org/pandas-docs/stable/user_guide/indexing.html#returning-a-view-versus-a-copy\n",
      "  df[prompt_name][i] = isMatch\n"
     ]
    },
    {
     "name": "stdout",
     "output_type": "stream",
     "text": [
      "Are the following two products the same?\n",
      "Product 1: Title: middle atlantic fc 4 1c system fan speed controller\n",
      "Brand: middle atlantic\n",
      "Description: proportional speed thermostatic fan control controls up to 4 fans stand alone with 9 cord\n",
      "Product 2: Title: middle atlantic 12 master slave jumper for mpr series modules sold in packs of 6\n",
      "Brand: middle atlantic\n",
      "Description: df1784allows m series slave modules to be switched remotely by an rlm series master module features 12 jumper length sold in packs of 6\n",
      "\n",
      "Answer with 'True' or 'False'.\n",
      "__\n",
      "__\n",
      "False.\n",
      "__\n",
      "__\n",
      "106\n"
     ]
    },
    {
     "name": "stderr",
     "output_type": "stream",
     "text": [
      "/var/folders/gx/tzjwcf8x1llbhhf36mjt7xqr0000gn/T/ipykernel_98243/3776050204.py:45: SettingWithCopyWarning: \n",
      "A value is trying to be set on a copy of a slice from a DataFrame\n",
      "\n",
      "See the caveats in the documentation: https://pandas.pydata.org/pandas-docs/stable/user_guide/indexing.html#returning-a-view-versus-a-copy\n",
      "  df[prompt_name][i] = isMatch\n"
     ]
    },
    {
     "name": "stdout",
     "output_type": "stream",
     "text": [
      "Are the following two products the same?\n",
      "Product 1: Title: middle atlantic fc 4 1c system fan speed controller\n",
      "Brand: middle atlantic\n",
      "Description: proportional speed thermostatic fan control controls up to 4 fans stand alone with 9 cord\n",
      "Product 2: Title: middle atlantic long 20 outlet single 20 amp circuit thin power strip with cord\n",
      "Brand: middle atlantic\n",
      "Description: df2014pdt series thin power strips take up minimal space inside a rack and feature a unique design that allows for isolated ground configurability dual circuit models can be configured to operate as a single circuit and all models are factory assembl\n",
      "\n",
      "Answer with 'True' or 'False'.\n",
      "__\n",
      "__\n",
      "False. The two products are different.\n",
      "__\n",
      "__\n",
      "107\n"
     ]
    },
    {
     "name": "stderr",
     "output_type": "stream",
     "text": [
      "/var/folders/gx/tzjwcf8x1llbhhf36mjt7xqr0000gn/T/ipykernel_98243/3776050204.py:45: SettingWithCopyWarning: \n",
      "A value is trying to be set on a copy of a slice from a DataFrame\n",
      "\n",
      "See the caveats in the documentation: https://pandas.pydata.org/pandas-docs/stable/user_guide/indexing.html#returning-a-view-versus-a-copy\n",
      "  df[prompt_name][i] = isMatch\n"
     ]
    },
    {
     "name": "stdout",
     "output_type": "stream",
     "text": [
      "Are the following two products the same?\n",
      "Product 1: Title: middle atlantic fc 4 1c system fan speed controller\n",
      "Brand: middle atlantic\n",
      "Description: proportional speed thermostatic fan control controls up to 4 fans stand alone with 9 cord\n",
      "Product 2: Title: middle atlantic hdr 4 external fan option\n",
      "Brand: middle atlantic\n",
      "Description: df1758external 4 1 2 fan kit and vent blocker \n",
      "\n",
      "Answer with 'True' or 'False'.\n",
      "__\n",
      "__\n",
      "False.\n",
      "__\n",
      "__\n",
      "108\n"
     ]
    },
    {
     "name": "stderr",
     "output_type": "stream",
     "text": [
      "/var/folders/gx/tzjwcf8x1llbhhf36mjt7xqr0000gn/T/ipykernel_98243/3776050204.py:45: SettingWithCopyWarning: \n",
      "A value is trying to be set on a copy of a slice from a DataFrame\n",
      "\n",
      "See the caveats in the documentation: https://pandas.pydata.org/pandas-docs/stable/user_guide/indexing.html#returning-a-view-versus-a-copy\n",
      "  df[prompt_name][i] = isMatch\n"
     ]
    },
    {
     "name": "stdout",
     "output_type": "stream",
     "text": [
      "Are the following two products the same?\n",
      "Product 1: Title: middle atlantic fc 4 1c system fan speed controller\n",
      "Brand: middle atlantic\n",
      "Description: proportional speed thermostatic fan control controls up to 4 fans stand alone with 9 cord\n",
      "Product 2: Title: middle atlantic cable management straps\n",
      "Brand: middle atlantic\n",
      "Description: df2976fasten cable bundles securely while maintaining the integrity of the cable tw12 cable management straps are perfect for managing cables that are sensitive to strain and are 8 long 12 pieces \n",
      "\n",
      "Answer with 'True' or 'False'.\n",
      "__\n",
      "__\n",
      "False.\n",
      "__\n",
      "__\n",
      "109\n"
     ]
    },
    {
     "name": "stderr",
     "output_type": "stream",
     "text": [
      "/var/folders/gx/tzjwcf8x1llbhhf36mjt7xqr0000gn/T/ipykernel_98243/3776050204.py:45: SettingWithCopyWarning: \n",
      "A value is trying to be set on a copy of a slice from a DataFrame\n",
      "\n",
      "See the caveats in the documentation: https://pandas.pydata.org/pandas-docs/stable/user_guide/indexing.html#returning-a-view-versus-a-copy\n",
      "  df[prompt_name][i] = isMatch\n"
     ]
    },
    {
     "name": "stdout",
     "output_type": "stream",
     "text": [
      "Are the following two products the same?\n",
      "Product 1: Title: ge 87709 high speed hdmi cable with ethernet and swivel connector 12 feet\n",
      "Brand: general electric\n",
      "Description: ge 87709 high speed hdmi cable with ethernet amp swivel connector 12 ft\n",
      "Product 2: Title: ge 8 cable ties clear\n",
      "Brand: general electric\n",
      "Description: ge 8 cable ties clear prevents wires from tangling comes in a pack of 20 model 52083\n",
      "\n",
      "Answer with 'True' or 'False'.\n",
      "__\n",
      "__\n",
      "False.\n",
      "__\n",
      "__\n",
      "110\n"
     ]
    },
    {
     "name": "stderr",
     "output_type": "stream",
     "text": [
      "/var/folders/gx/tzjwcf8x1llbhhf36mjt7xqr0000gn/T/ipykernel_98243/3776050204.py:45: SettingWithCopyWarning: \n",
      "A value is trying to be set on a copy of a slice from a DataFrame\n",
      "\n",
      "See the caveats in the documentation: https://pandas.pydata.org/pandas-docs/stable/user_guide/indexing.html#returning-a-view-versus-a-copy\n",
      "  df[prompt_name][i] = isMatch\n"
     ]
    },
    {
     "name": "stdout",
     "output_type": "stream",
     "text": [
      "Are the following two products the same?\n",
      "Product 1: Title: ge 87709 high speed hdmi cable with ethernet and swivel connector 12 feet\n",
      "Brand: general electric\n",
      "Description: ge 87709 high speed hdmi cable with ethernet amp swivel connector 12 ft\n",
      "Product 2: Title: ge receptacle with safety shutters white\n",
      "Brand: general electric\n",
      "Description: ge receptacle with safety shutters white replaces damaged or outdated receptacles designed with safety in mind measures 1 09 h 2 years limited warranty model 54263\n",
      "\n",
      "Answer with 'True' or 'False'.\n",
      "__\n",
      "__\n",
      "False.\n",
      "__\n",
      "__\n",
      "111\n"
     ]
    },
    {
     "name": "stderr",
     "output_type": "stream",
     "text": [
      "/var/folders/gx/tzjwcf8x1llbhhf36mjt7xqr0000gn/T/ipykernel_98243/3776050204.py:45: SettingWithCopyWarning: \n",
      "A value is trying to be set on a copy of a slice from a DataFrame\n",
      "\n",
      "See the caveats in the documentation: https://pandas.pydata.org/pandas-docs/stable/user_guide/indexing.html#returning-a-view-versus-a-copy\n",
      "  df[prompt_name][i] = isMatch\n"
     ]
    },
    {
     "name": "stdout",
     "output_type": "stream",
     "text": [
      "Are the following two products the same?\n",
      "Product 1: Title: ge 87709 high speed hdmi cable with ethernet and swivel connector 12 feet\n",
      "Brand: general electric\n",
      "Description: ge 87709 high speed hdmi cable with ethernet amp swivel connector 12 ft\n",
      "Product 2: Title: ge 100pk neon cable ties assorted colors\n",
      "Brand: general electric\n",
      "Description: ge 100pk neon cable ties assorted colors prevent wires from tangling easy to color code dimensions 4\n",
      "\n",
      "Answer with 'True' or 'False'.\n",
      "__\n",
      "__\n",
      "False.\n",
      "__\n",
      "__\n",
      "112\n"
     ]
    },
    {
     "name": "stderr",
     "output_type": "stream",
     "text": [
      "/var/folders/gx/tzjwcf8x1llbhhf36mjt7xqr0000gn/T/ipykernel_98243/3776050204.py:45: SettingWithCopyWarning: \n",
      "A value is trying to be set on a copy of a slice from a DataFrame\n",
      "\n",
      "See the caveats in the documentation: https://pandas.pydata.org/pandas-docs/stable/user_guide/indexing.html#returning-a-view-versus-a-copy\n",
      "  df[prompt_name][i] = isMatch\n"
     ]
    },
    {
     "name": "stdout",
     "output_type": "stream",
     "text": [
      "Are the following two products the same?\n",
      "Product 1: Title: ge 87709 high speed hdmi cable with ethernet and swivel connector 12 feet\n",
      "Brand: general electric\n",
      "Description: ge 87709 high speed hdmi cable with ethernet amp swivel connector 12 ft\n",
      "Product 2: Title: ge 3 way rocker switch\n",
      "Brand: general electric\n",
      "Description: ge 3 way rocker switch single pole color ivory made in china 1 year warranty model 18234\n",
      "\n",
      "Answer with 'True' or 'False'.\n",
      "__\n",
      "__\n",
      "False.\n",
      "__\n",
      "__\n",
      "113\n"
     ]
    },
    {
     "name": "stderr",
     "output_type": "stream",
     "text": [
      "/var/folders/gx/tzjwcf8x1llbhhf36mjt7xqr0000gn/T/ipykernel_98243/3776050204.py:45: SettingWithCopyWarning: \n",
      "A value is trying to be set on a copy of a slice from a DataFrame\n",
      "\n",
      "See the caveats in the documentation: https://pandas.pydata.org/pandas-docs/stable/user_guide/indexing.html#returning-a-view-versus-a-copy\n",
      "  df[prompt_name][i] = isMatch\n"
     ]
    },
    {
     "name": "stdout",
     "output_type": "stream",
     "text": [
      "Are the following two products the same?\n",
      "Product 1: Title: ge 87709 high speed hdmi cable with ethernet and swivel connector 12 feet\n",
      "Brand: general electric\n",
      "Description: ge 87709 high speed hdmi cable with ethernet amp swivel connector 12 ft\n",
      "Product 2: Title: ge 3 way rocker switch\n",
      "Brand: general electric\n",
      "Description: ge 3 way rocker switch single pole color brown made in china 1 year warranty model 18236\n",
      "\n",
      "Answer with 'True' or 'False'.\n",
      "__\n",
      "__\n",
      "False.\n",
      "__\n",
      "__\n",
      "114\n"
     ]
    },
    {
     "name": "stderr",
     "output_type": "stream",
     "text": [
      "/var/folders/gx/tzjwcf8x1llbhhf36mjt7xqr0000gn/T/ipykernel_98243/3776050204.py:45: SettingWithCopyWarning: \n",
      "A value is trying to be set on a copy of a slice from a DataFrame\n",
      "\n",
      "See the caveats in the documentation: https://pandas.pydata.org/pandas-docs/stable/user_guide/indexing.html#returning-a-view-versus-a-copy\n",
      "  df[prompt_name][i] = isMatch\n"
     ]
    },
    {
     "name": "stdout",
     "output_type": "stream",
     "text": [
      "Are the following two products the same?\n",
      "Product 1: Title: cables to go 26686 usb a male to a female extension cable white 3 meters 9 84 feet\n",
      "Brand: cables to go\n",
      "Description: 10ft usb extension cable aa m f passive\n",
      "Product 2: Title: cables to go 29563 7 port aluminum usb 2 0 hub\n",
      "Brand: cables to go\n",
      "Description: data transfer rate up to 480 mbps usb 2 0 ports 7 x 4 pin usb 2 0 downstream 1 x 4 pin usb 2 0 upstream form factor external hot pluggable platform support pcs and macs\n",
      "\n",
      "Answer with 'True' or 'False'.\n",
      "__\n",
      "__\n",
      "False.\n",
      "__\n",
      "__\n",
      "115\n"
     ]
    },
    {
     "name": "stderr",
     "output_type": "stream",
     "text": [
      "/var/folders/gx/tzjwcf8x1llbhhf36mjt7xqr0000gn/T/ipykernel_98243/3776050204.py:45: SettingWithCopyWarning: \n",
      "A value is trying to be set on a copy of a slice from a DataFrame\n",
      "\n",
      "See the caveats in the documentation: https://pandas.pydata.org/pandas-docs/stable/user_guide/indexing.html#returning-a-view-versus-a-copy\n",
      "  df[prompt_name][i] = isMatch\n"
     ]
    },
    {
     "name": "stdout",
     "output_type": "stream",
     "text": [
      "Are the following two products the same?\n",
      "Product 1: Title: cables to go 26686 usb a male to a female extension cable white 3 meters 9 84 feet\n",
      "Brand: cables to go\n",
      "Description: 10ft usb extension cable aa m f passive\n",
      "Product 2: Title: cables to go 29109 velocity composite video audio cable\n",
      "Brand: cables to go\n",
      "Description: product type video cable length 50ft connectors 3 x rca male 3 x rca male conductor copper compatibility audio video equipment color blue\n",
      "\n",
      "Answer with 'True' or 'False'.\n",
      "__\n",
      "__\n",
      "False.\n",
      "__\n",
      "__\n",
      "116\n"
     ]
    },
    {
     "name": "stderr",
     "output_type": "stream",
     "text": [
      "/var/folders/gx/tzjwcf8x1llbhhf36mjt7xqr0000gn/T/ipykernel_98243/3776050204.py:45: SettingWithCopyWarning: \n",
      "A value is trying to be set on a copy of a slice from a DataFrame\n",
      "\n",
      "See the caveats in the documentation: https://pandas.pydata.org/pandas-docs/stable/user_guide/indexing.html#returning-a-view-versus-a-copy\n",
      "  df[prompt_name][i] = isMatch\n"
     ]
    },
    {
     "name": "stdout",
     "output_type": "stream",
     "text": [
      "Are the following two products the same?\n",
      "Product 1: Title: cables to go 26686 usb a male to a female extension cable white 3 meters 9 84 feet\n",
      "Brand: cables to go\n",
      "Description: 10ft usb extension cable aa m f passive\n",
      "Product 2: Title: cables to go 03131 6ft premium universal power cord\n",
      "Brand: cables to go\n",
      "Description: plug connector type 1 x iec 320 c13 1 x nema 5 15p compatible with computers monitors scanners printers and devices that use a 3 pin shroud power connector cord length 6 ft \n",
      "\n",
      "Answer with 'True' or 'False'.\n",
      "__\n",
      "__\n",
      "False.\n",
      "__\n",
      "__\n",
      "117\n"
     ]
    },
    {
     "name": "stderr",
     "output_type": "stream",
     "text": [
      "/var/folders/gx/tzjwcf8x1llbhhf36mjt7xqr0000gn/T/ipykernel_98243/3776050204.py:45: SettingWithCopyWarning: \n",
      "A value is trying to be set on a copy of a slice from a DataFrame\n",
      "\n",
      "See the caveats in the documentation: https://pandas.pydata.org/pandas-docs/stable/user_guide/indexing.html#returning-a-view-versus-a-copy\n",
      "  df[prompt_name][i] = isMatch\n"
     ]
    },
    {
     "name": "stdout",
     "output_type": "stream",
     "text": [
      "Are the following two products the same?\n",
      "Product 1: Title: cables to go 26686 usb a male to a female extension cable white 3 meters 9 84 feet\n",
      "Brand: cables to go\n",
      "Description: 10ft usb extension cable aa m f passive\n",
      "Product 2: Title: cables to go 12 cmg rated hd15 sxga m m monitor projector cable with rounded low profile connectors\n",
      "Brand: cables to go\n",
      "Description: cables to go 12 cmg rated hd15 sxga m m monitor projector cable provides easier in wall installation where cmg rating is required rounded low profile connectors saves valuable space in the gang box rounded shape accommodates smaller monitor mounts su\n",
      "\n",
      "Answer with 'True' or 'False'.\n",
      "__\n",
      "__\n",
      "False.\n",
      "__\n",
      "__\n",
      "118\n"
     ]
    },
    {
     "name": "stderr",
     "output_type": "stream",
     "text": [
      "/var/folders/gx/tzjwcf8x1llbhhf36mjt7xqr0000gn/T/ipykernel_98243/3776050204.py:45: SettingWithCopyWarning: \n",
      "A value is trying to be set on a copy of a slice from a DataFrame\n",
      "\n",
      "See the caveats in the documentation: https://pandas.pydata.org/pandas-docs/stable/user_guide/indexing.html#returning-a-view-versus-a-copy\n",
      "  df[prompt_name][i] = isMatch\n"
     ]
    },
    {
     "name": "stdout",
     "output_type": "stream",
     "text": [
      "Are the following two products the same?\n",
      "Product 1: Title: cables to go 26686 usb a male to a female extension cable white 3 meters 9 84 feet\n",
      "Brand: cables to go\n",
      "Description: 10ft usb extension cable aa m f passive\n",
      "Product 2: Title: cables to go 6 usb 2 0 cable\n",
      "Brand: cables to go\n",
      "Description: cables to go 6 usb 2 0 cable data transfer rate 480mbps foil and braid shielding twisted pair construction cable length 6\n",
      "\n",
      "Answer with 'True' or 'False'.\n",
      "__\n",
      "__\n",
      "False.\n",
      "__\n",
      "__\n",
      "119\n"
     ]
    },
    {
     "name": "stderr",
     "output_type": "stream",
     "text": [
      "/var/folders/gx/tzjwcf8x1llbhhf36mjt7xqr0000gn/T/ipykernel_98243/3776050204.py:45: SettingWithCopyWarning: \n",
      "A value is trying to be set on a copy of a slice from a DataFrame\n",
      "\n",
      "See the caveats in the documentation: https://pandas.pydata.org/pandas-docs/stable/user_guide/indexing.html#returning-a-view-versus-a-copy\n",
      "  df[prompt_name][i] = isMatch\n"
     ]
    },
    {
     "name": "stdout",
     "output_type": "stream",
     "text": [
      "Are the following two products the same?\n",
      "Product 1: Title: cables to go 26686 usb a male to a female extension cable white 3 meters 9 84 feet\n",
      "Brand: cables to go\n",
      "Description: 10ft usb extension cable aa m f passive\n",
      "Product 2: Title: cables to go 3 mini usb cable\n",
      "Brand: cables to go\n",
      "Description: cables to go 3 mini usb cable data transfer rate 480mbps foil and braid shielding twisted pair construction plug and play cable length 3\n",
      "\n",
      "Answer with 'True' or 'False'.\n",
      "__\n",
      "__\n",
      "False.\n",
      "__\n",
      "__\n",
      "120\n"
     ]
    },
    {
     "name": "stderr",
     "output_type": "stream",
     "text": [
      "/var/folders/gx/tzjwcf8x1llbhhf36mjt7xqr0000gn/T/ipykernel_98243/3776050204.py:45: SettingWithCopyWarning: \n",
      "A value is trying to be set on a copy of a slice from a DataFrame\n",
      "\n",
      "See the caveats in the documentation: https://pandas.pydata.org/pandas-docs/stable/user_guide/indexing.html#returning-a-view-versus-a-copy\n",
      "  df[prompt_name][i] = isMatch\n"
     ]
    },
    {
     "name": "stdout",
     "output_type": "stream",
     "text": [
      "Are the following two products the same?\n",
      "Product 1: Title: accell ultraav b101b 003b display port with vga active adapter\n",
      "Brand: accell\n",
      "Description: the ultraav displayport to vga cable adapter enables the connection of your displayport supported computer to a vga hd 15 supported monitor or other vga display it supports vga analog resolutions of up to 1920x1200 wuxga 60hz and is simple to setup a\n",
      "Product 2: Title: accell ultraav displayport multi monitor adapter\n",
      "Brand: accell\n",
      "Description: accell ultraav displayport multi monitor adapter connect up to 3 monitors to pc or laptop allows each monitor to display a separate application works on displayport enabled pc or mac displays applications across multiple dvi compliant monitors from a\n",
      "\n",
      "Answer with 'True' or 'False'.\n",
      "__\n",
      "__\n",
      "False.\n",
      "__\n",
      "__\n",
      "121\n"
     ]
    },
    {
     "name": "stderr",
     "output_type": "stream",
     "text": [
      "/var/folders/gx/tzjwcf8x1llbhhf36mjt7xqr0000gn/T/ipykernel_98243/3776050204.py:45: SettingWithCopyWarning: \n",
      "A value is trying to be set on a copy of a slice from a DataFrame\n",
      "\n",
      "See the caveats in the documentation: https://pandas.pydata.org/pandas-docs/stable/user_guide/indexing.html#returning-a-view-versus-a-copy\n",
      "  df[prompt_name][i] = isMatch\n"
     ]
    },
    {
     "name": "stdout",
     "output_type": "stream",
     "text": [
      "Are the following two products the same?\n",
      "Product 1: Title: accell ultraav b101b 003b display port with vga active adapter\n",
      "Brand: accell\n",
      "Description: the ultraav displayport to vga cable adapter enables the connection of your displayport supported computer to a vga hd 15 supported monitor or other vga display it supports vga analog resolutions of up to 1920x1200 wuxga 60hz and is simple to setup a\n",
      "Product 2: Title: accell premium series 10 usb 3 0 a b cable\n",
      "Brand: accell\n",
      "Description: accell premium series 10 usb 3 0 a b cable superspeed 5gbps throughput supports optimized power efficiency backwards compatible with usb 2 0 cable length 10\n",
      "\n",
      "Answer with 'True' or 'False'.\n",
      "__\n",
      "__\n",
      "False.\n",
      "__\n",
      "__\n",
      "122\n"
     ]
    },
    {
     "name": "stderr",
     "output_type": "stream",
     "text": [
      "/var/folders/gx/tzjwcf8x1llbhhf36mjt7xqr0000gn/T/ipykernel_98243/3776050204.py:45: SettingWithCopyWarning: \n",
      "A value is trying to be set on a copy of a slice from a DataFrame\n",
      "\n",
      "See the caveats in the documentation: https://pandas.pydata.org/pandas-docs/stable/user_guide/indexing.html#returning-a-view-versus-a-copy\n",
      "  df[prompt_name][i] = isMatch\n"
     ]
    },
    {
     "name": "stdout",
     "output_type": "stream",
     "text": [
      "Are the following two products the same?\n",
      "Product 1: Title: accell proultra supreme b116c 016b 40 high speed hdmi cable with ethernet 5m\n",
      "Brand: accell\n",
      "Description: accell proultra supreme high speed hdmi cable with ethernet provides a data transfer rate of up to 10 2 gbps 340mhz and is fully compliant to the high speed hdmi specification compatible with all hdmi devices the proultra supreme high speed cable sup\n",
      "Product 2: Title: accell ultraav displayport multi monitor adapter\n",
      "Brand: accell\n",
      "Description: accell ultraav displayport multi monitor adapter connect up to 3 monitors to pc or laptop allows each monitor to display a separate application works on displayport enabled pc or mac displays applications across multiple dvi compliant monitors from a\n",
      "\n",
      "Answer with 'True' or 'False'.\n",
      "__\n",
      "__\n",
      "False\n",
      "__\n",
      "__\n",
      "123\n"
     ]
    },
    {
     "name": "stderr",
     "output_type": "stream",
     "text": [
      "/var/folders/gx/tzjwcf8x1llbhhf36mjt7xqr0000gn/T/ipykernel_98243/3776050204.py:45: SettingWithCopyWarning: \n",
      "A value is trying to be set on a copy of a slice from a DataFrame\n",
      "\n",
      "See the caveats in the documentation: https://pandas.pydata.org/pandas-docs/stable/user_guide/indexing.html#returning-a-view-versus-a-copy\n",
      "  df[prompt_name][i] = isMatch\n"
     ]
    },
    {
     "name": "stdout",
     "output_type": "stream",
     "text": [
      "Are the following two products the same?\n",
      "Product 1: Title: accell proultra supreme b116c 016b 40 high speed hdmi cable with ethernet 5m\n",
      "Brand: accell\n",
      "Description: accell proultra supreme high speed hdmi cable with ethernet provides a data transfer rate of up to 10 2 gbps 340mhz and is fully compliant to the high speed hdmi specification compatible with all hdmi devices the proultra supreme high speed cable sup\n",
      "Product 2: Title: accell premium series 10 usb 3 0 a b cable\n",
      "Brand: accell\n",
      "Description: accell premium series 10 usb 3 0 a b cable superspeed 5gbps throughput supports optimized power efficiency backwards compatible with usb 2 0 cable length 10\n",
      "\n",
      "Answer with 'True' or 'False'.\n",
      "__\n",
      "__\n",
      "False.\n",
      "__\n",
      "__\n",
      "124\n"
     ]
    },
    {
     "name": "stderr",
     "output_type": "stream",
     "text": [
      "/var/folders/gx/tzjwcf8x1llbhhf36mjt7xqr0000gn/T/ipykernel_98243/3776050204.py:45: SettingWithCopyWarning: \n",
      "A value is trying to be set on a copy of a slice from a DataFrame\n",
      "\n",
      "See the caveats in the documentation: https://pandas.pydata.org/pandas-docs/stable/user_guide/indexing.html#returning-a-view-versus-a-copy\n",
      "  df[prompt_name][i] = isMatch\n"
     ]
    },
    {
     "name": "stdout",
     "output_type": "stream",
     "text": [
      "Are the following two products the same?\n",
      "Product 1: Title: accell proultra supreme b116c 016b 40 high speed hdmi cable with ethernet 5m\n",
      "Brand: accell\n",
      "Description: accell proultra supreme high speed hdmi cable with ethernet provides a data transfer rate of up to 10 2 gbps 340mhz and is fully compliant to the high speed hdmi specification compatible with all hdmi devices the proultra supreme high speed cable sup\n",
      "Product 2: Title: accell proultra 2m hdmi ethernet cable\n",
      "Brand: accell\n",
      "Description: accell proultra 2m hdmi ethernet cable high speed up to 10 2gbps integrated hdmi ethernet and audio return channels supports 3d and 4k video supports deep color and x v color cable length 2m\n",
      "\n",
      "Answer with 'True' or 'False'.\n",
      "__\n",
      "__\n",
      "False.\n",
      "__\n",
      "__\n",
      "125\n"
     ]
    },
    {
     "name": "stderr",
     "output_type": "stream",
     "text": [
      "/var/folders/gx/tzjwcf8x1llbhhf36mjt7xqr0000gn/T/ipykernel_98243/3776050204.py:45: SettingWithCopyWarning: \n",
      "A value is trying to be set on a copy of a slice from a DataFrame\n",
      "\n",
      "See the caveats in the documentation: https://pandas.pydata.org/pandas-docs/stable/user_guide/indexing.html#returning-a-view-versus-a-copy\n",
      "  df[prompt_name][i] = isMatch\n"
     ]
    },
    {
     "name": "stdout",
     "output_type": "stream",
     "text": [
      "Are the following two products the same?\n",
      "Product 1: Title: new 3 premium series usb 3 0 a b cable cl4640\n",
      "Brand: accell\n",
      "Description: 3ft a111b 003b premiumusb 3 0 a b cable superspeed 5 gbps throughput supports optimized power efficiency backwards compatible with usb 2 0 3\n",
      "Product 2: Title: accell proultra 2m hdmi ethernet cable\n",
      "Brand: accell\n",
      "Description: accell proultra 2m hdmi ethernet cable high speed up to 10 2gbps integrated hdmi ethernet and audio return channels supports 3d and 4k video supports deep color and x v color cable length 2m\n",
      "\n",
      "Answer with 'True' or 'False'.\n",
      "__\n",
      "__\n",
      "False.\n",
      "__\n",
      "__\n",
      "126\n"
     ]
    },
    {
     "name": "stderr",
     "output_type": "stream",
     "text": [
      "/var/folders/gx/tzjwcf8x1llbhhf36mjt7xqr0000gn/T/ipykernel_98243/3776050204.py:45: SettingWithCopyWarning: \n",
      "A value is trying to be set on a copy of a slice from a DataFrame\n",
      "\n",
      "See the caveats in the documentation: https://pandas.pydata.org/pandas-docs/stable/user_guide/indexing.html#returning-a-view-versus-a-copy\n",
      "  df[prompt_name][i] = isMatch\n"
     ]
    },
    {
     "name": "stdout",
     "output_type": "stream",
     "text": [
      "Are the following two products the same?\n",
      "Product 1: Title: ge 87709 high speed hdmi cable with ethernet and swivel connector 12 feet\n",
      "Brand: general electric\n",
      "Description: ge 87709 high speed hdmi cable with ethernet amp swivel connector 12 ft\n",
      "Product 2: Title: ge rca extension adapter 2pk\n",
      "Brand: general electric\n",
      "Description: ge rca extension adapter 2pk connects 2 rca cables extends the length of the rca cables model 32630\n",
      "\n",
      "Answer with 'True' or 'False'.\n",
      "__\n",
      "__\n",
      "False.\n",
      "__\n",
      "__\n",
      "127\n"
     ]
    },
    {
     "name": "stderr",
     "output_type": "stream",
     "text": [
      "/var/folders/gx/tzjwcf8x1llbhhf36mjt7xqr0000gn/T/ipykernel_98243/3776050204.py:45: SettingWithCopyWarning: \n",
      "A value is trying to be set on a copy of a slice from a DataFrame\n",
      "\n",
      "See the caveats in the documentation: https://pandas.pydata.org/pandas-docs/stable/user_guide/indexing.html#returning-a-view-versus-a-copy\n",
      "  df[prompt_name][i] = isMatch\n"
     ]
    },
    {
     "name": "stdout",
     "output_type": "stream",
     "text": [
      "Are the following two products the same?\n",
      "Product 1: Title: ge handset cord tl26122\n",
      "Brand: general electric\n",
      "Description: coil cord provides extra length or replaces worn or damaged handset cords \n",
      "Product 2: Title: ge rca extension adapter 2pk\n",
      "Brand: general electric\n",
      "Description: ge rca extension adapter 2pk connects 2 rca cables extends the length of the rca cables model 32630\n",
      "\n",
      "Answer with 'True' or 'False'.\n",
      "__\n",
      "__\n",
      "False.\n",
      "__\n",
      "__\n",
      "128\n"
     ]
    },
    {
     "name": "stderr",
     "output_type": "stream",
     "text": [
      "/var/folders/gx/tzjwcf8x1llbhhf36mjt7xqr0000gn/T/ipykernel_98243/3776050204.py:45: SettingWithCopyWarning: \n",
      "A value is trying to be set on a copy of a slice from a DataFrame\n",
      "\n",
      "See the caveats in the documentation: https://pandas.pydata.org/pandas-docs/stable/user_guide/indexing.html#returning-a-view-versus-a-copy\n",
      "  df[prompt_name][i] = isMatch\n"
     ]
    },
    {
     "name": "stdout",
     "output_type": "stream",
     "text": [
      "Are the following two products the same?\n",
      "Product 1: Title: ge cordless phone nimh 3 6v 600mah battery 76401\n",
      "Brand: general electric\n",
      "Description: replaces batteries 500 600 mah of similar size shape and plug type \n",
      "Product 2: Title: ge rca extension adapter 2pk\n",
      "Brand: general electric\n",
      "Description: ge rca extension adapter 2pk connects 2 rca cables extends the length of the rca cables model 32630\n",
      "\n",
      "Answer with 'True' or 'False'.\n",
      "__\n",
      "__\n",
      "False.\n",
      "__\n",
      "__\n",
      "129\n"
     ]
    },
    {
     "name": "stderr",
     "output_type": "stream",
     "text": [
      "/var/folders/gx/tzjwcf8x1llbhhf36mjt7xqr0000gn/T/ipykernel_98243/3776050204.py:45: SettingWithCopyWarning: \n",
      "A value is trying to be set on a copy of a slice from a DataFrame\n",
      "\n",
      "See the caveats in the documentation: https://pandas.pydata.org/pandas-docs/stable/user_guide/indexing.html#returning-a-view-versus-a-copy\n",
      "  df[prompt_name][i] = isMatch\n"
     ]
    },
    {
     "name": "stdout",
     "output_type": "stream",
     "text": [
      "Are the following two products the same?\n",
      "Product 1: Title: da lite lvc 3 button radio frequency wireless remote\n",
      "Brand: da lite screen\n",
      "Description: purchase an extra transmitter to replace missing remotes or when a second is desired \n",
      "Product 2: Title: ge rca extension adapter 2pk\n",
      "Brand: general electric\n",
      "Description: ge rca extension adapter 2pk connects 2 rca cables extends the length of the rca cables model 32630\n",
      "\n",
      "Answer with 'True' or 'False'.\n",
      "__\n",
      "__\n",
      "False.\n",
      "__\n",
      "__\n",
      "130\n"
     ]
    },
    {
     "name": "stderr",
     "output_type": "stream",
     "text": [
      "/var/folders/gx/tzjwcf8x1llbhhf36mjt7xqr0000gn/T/ipykernel_98243/3776050204.py:45: SettingWithCopyWarning: \n",
      "A value is trying to be set on a copy of a slice from a DataFrame\n",
      "\n",
      "See the caveats in the documentation: https://pandas.pydata.org/pandas-docs/stable/user_guide/indexing.html#returning-a-view-versus-a-copy\n",
      "  df[prompt_name][i] = isMatch\n"
     ]
    },
    {
     "name": "stdout",
     "output_type": "stream",
     "text": [
      "Are the following two products the same?\n",
      "Product 1: Title: ge smarthome motion sensing light switch white pir617m\n",
      "Brand: general electric\n",
      "Description: 11 02 2007 brand new item description ge smarthome jassh57885 motion sensing switch the motion sensing switch turns lights on automatically the sensor detects motion in a 150 range up to 30 ft away \n",
      "Product 2: Title: ge rca extension adapter 2pk\n",
      "Brand: general electric\n",
      "Description: ge rca extension adapter 2pk connects 2 rca cables extends the length of the rca cables model 32630\n",
      "\n",
      "Answer with 'True' or 'False'.\n",
      "__\n",
      "__\n",
      "False.\n",
      "__\n",
      "__\n",
      "131\n"
     ]
    },
    {
     "name": "stderr",
     "output_type": "stream",
     "text": [
      "/var/folders/gx/tzjwcf8x1llbhhf36mjt7xqr0000gn/T/ipykernel_98243/3776050204.py:45: SettingWithCopyWarning: \n",
      "A value is trying to be set on a copy of a slice from a DataFrame\n",
      "\n",
      "See the caveats in the documentation: https://pandas.pydata.org/pandas-docs/stable/user_guide/indexing.html#returning-a-view-versus-a-copy\n",
      "  df[prompt_name][i] = isMatch\n"
     ]
    },
    {
     "name": "stdout",
     "output_type": "stream",
     "text": [
      "Are the following two products the same?\n",
      "Product 1: Title: ge 23269 rg6 coaxial video cable black 12 feet\n",
      "Brand: general electric\n",
      "Description: rg6 video cable connects tvs dvrs vcrs satellite receivers and other audio or video components equipped with f type connections \n",
      "Product 2: Title: ge rca extension adapter 2pk\n",
      "Brand: general electric\n",
      "Description: ge rca extension adapter 2pk connects 2 rca cables extends the length of the rca cables model 32630\n",
      "\n",
      "Answer with 'True' or 'False'.\n",
      "__\n",
      "__\n",
      "False.\n",
      "__\n",
      "__\n",
      "132\n"
     ]
    },
    {
     "name": "stderr",
     "output_type": "stream",
     "text": [
      "/var/folders/gx/tzjwcf8x1llbhhf36mjt7xqr0000gn/T/ipykernel_98243/3776050204.py:45: SettingWithCopyWarning: \n",
      "A value is trying to be set on a copy of a slice from a DataFrame\n",
      "\n",
      "See the caveats in the documentation: https://pandas.pydata.org/pandas-docs/stable/user_guide/indexing.html#returning-a-view-versus-a-copy\n",
      "  df[prompt_name][i] = isMatch\n"
     ]
    },
    {
     "name": "stdout",
     "output_type": "stream",
     "text": [
      "Are the following two products the same?\n",
      "Product 1: Title: cables to go 45427 3ft sonicwave rca audio cable\n",
      "Brand: cables to go\n",
      "Description: superior quality interconnect for audiophiles and videophiles who demand maximum performance and flawless fidelity to the original signal analog audio interconnects perform at the very highest level silver plated ofc twisted pair conductors ar\n",
      "Product 2: Title: cables to go 29109 velocity composite video audio cable\n",
      "Brand: cables to go\n",
      "Description: product type video cable length 50ft connectors 3 x rca male 3 x rca male conductor copper compatibility audio video equipment color blue\n",
      "\n",
      "Answer with 'True' or 'False'.\n",
      "__\n",
      "__\n",
      "False.\n",
      "__\n",
      "__\n",
      "133\n"
     ]
    },
    {
     "name": "stderr",
     "output_type": "stream",
     "text": [
      "/var/folders/gx/tzjwcf8x1llbhhf36mjt7xqr0000gn/T/ipykernel_98243/3776050204.py:45: SettingWithCopyWarning: \n",
      "A value is trying to be set on a copy of a slice from a DataFrame\n",
      "\n",
      "See the caveats in the documentation: https://pandas.pydata.org/pandas-docs/stable/user_guide/indexing.html#returning-a-view-versus-a-copy\n",
      "  df[prompt_name][i] = isMatch\n"
     ]
    },
    {
     "name": "stdout",
     "output_type": "stream",
     "text": [
      "Are the following two products the same?\n",
      "Product 1: Title: cables to go 45427 3ft sonicwave rca audio cable\n",
      "Brand: cables to go\n",
      "Description: superior quality interconnect for audiophiles and videophiles who demand maximum performance and flawless fidelity to the original signal analog audio interconnects perform at the very highest level silver plated ofc twisted pair conductors ar\n",
      "Product 2: Title: cables to go 03131 6ft premium universal power cord\n",
      "Brand: cables to go\n",
      "Description: plug connector type 1 x iec 320 c13 1 x nema 5 15p compatible with computers monitors scanners printers and devices that use a 3 pin shroud power connector cord length 6 ft \n",
      "\n",
      "Answer with 'True' or 'False'.\n",
      "__\n",
      "__\n",
      "False.\n",
      "__\n",
      "__\n",
      "134\n"
     ]
    },
    {
     "name": "stderr",
     "output_type": "stream",
     "text": [
      "/var/folders/gx/tzjwcf8x1llbhhf36mjt7xqr0000gn/T/ipykernel_98243/3776050204.py:45: SettingWithCopyWarning: \n",
      "A value is trying to be set on a copy of a slice from a DataFrame\n",
      "\n",
      "See the caveats in the documentation: https://pandas.pydata.org/pandas-docs/stable/user_guide/indexing.html#returning-a-view-versus-a-copy\n",
      "  df[prompt_name][i] = isMatch\n"
     ]
    },
    {
     "name": "stdout",
     "output_type": "stream",
     "text": [
      "Are the following two products the same?\n",
      "Product 1: Title: cables to go 45427 3ft sonicwave rca audio cable\n",
      "Brand: cables to go\n",
      "Description: superior quality interconnect for audiophiles and videophiles who demand maximum performance and flawless fidelity to the original signal analog audio interconnects perform at the very highest level silver plated ofc twisted pair conductors ar\n",
      "Product 2: Title: cables to go 12 cmg rated hd15 sxga m m monitor projector cable with rounded low profile connectors\n",
      "Brand: cables to go\n",
      "Description: cables to go 12 cmg rated hd15 sxga m m monitor projector cable provides easier in wall installation where cmg rating is required rounded low profile connectors saves valuable space in the gang box rounded shape accommodates smaller monitor mounts su\n",
      "\n",
      "Answer with 'True' or 'False'.\n",
      "__\n",
      "__\n",
      "False. The two products are different.\n",
      "__\n",
      "__\n",
      "135\n"
     ]
    },
    {
     "name": "stderr",
     "output_type": "stream",
     "text": [
      "/var/folders/gx/tzjwcf8x1llbhhf36mjt7xqr0000gn/T/ipykernel_98243/3776050204.py:45: SettingWithCopyWarning: \n",
      "A value is trying to be set on a copy of a slice from a DataFrame\n",
      "\n",
      "See the caveats in the documentation: https://pandas.pydata.org/pandas-docs/stable/user_guide/indexing.html#returning-a-view-versus-a-copy\n",
      "  df[prompt_name][i] = isMatch\n"
     ]
    },
    {
     "name": "stdout",
     "output_type": "stream",
     "text": [
      "Are the following two products the same?\n",
      "Product 1: Title: cables to go 45427 3ft sonicwave rca audio cable\n",
      "Brand: cables to go\n",
      "Description: superior quality interconnect for audiophiles and videophiles who demand maximum performance and flawless fidelity to the original signal analog audio interconnects perform at the very highest level silver plated ofc twisted pair conductors ar\n",
      "Product 2: Title: cables to go 6 usb 2 0 cable\n",
      "Brand: cables to go\n",
      "Description: cables to go 6 usb 2 0 cable data transfer rate 480mbps foil and braid shielding twisted pair construction cable length 6\n",
      "\n",
      "Answer with 'True' or 'False'.\n",
      "__\n",
      "__\n",
      "False.\n",
      "__\n",
      "__\n",
      "136\n"
     ]
    },
    {
     "name": "stderr",
     "output_type": "stream",
     "text": [
      "/var/folders/gx/tzjwcf8x1llbhhf36mjt7xqr0000gn/T/ipykernel_98243/3776050204.py:45: SettingWithCopyWarning: \n",
      "A value is trying to be set on a copy of a slice from a DataFrame\n",
      "\n",
      "See the caveats in the documentation: https://pandas.pydata.org/pandas-docs/stable/user_guide/indexing.html#returning-a-view-versus-a-copy\n",
      "  df[prompt_name][i] = isMatch\n"
     ]
    },
    {
     "name": "stdout",
     "output_type": "stream",
     "text": [
      "Are the following two products the same?\n",
      "Product 1: Title: accell pro hdmia locking connector 1m retail bag\n",
      "Brand: accell\n",
      "Description: accell corp avgrip pro hdmi cable b104c 003b a v device cables\n",
      "Product 2: Title: accell proultra 2m hdmi ethernet cable\n",
      "Brand: accell\n",
      "Description: accell proultra 2m hdmi ethernet cable high speed up to 10 2gbps integrated hdmi ethernet and audio return channels supports 3d and 4k video supports deep color and x v color cable length 2m\n",
      "\n",
      "Answer with 'True' or 'False'.\n",
      "__\n",
      "__\n",
      "False.\n",
      "__\n",
      "__\n",
      "137\n"
     ]
    },
    {
     "name": "stderr",
     "output_type": "stream",
     "text": [
      "/var/folders/gx/tzjwcf8x1llbhhf36mjt7xqr0000gn/T/ipykernel_98243/3776050204.py:45: SettingWithCopyWarning: \n",
      "A value is trying to be set on a copy of a slice from a DataFrame\n",
      "\n",
      "See the caveats in the documentation: https://pandas.pydata.org/pandas-docs/stable/user_guide/indexing.html#returning-a-view-versus-a-copy\n",
      "  df[prompt_name][i] = isMatch\n"
     ]
    },
    {
     "name": "stdout",
     "output_type": "stream",
     "text": [
      "Are the following two products the same?\n",
      "Product 1: Title: accell pro hdmia locking connector 1m retail bag\n",
      "Brand: accell\n",
      "Description: accell corp avgrip pro hdmi cable b104c 003b a v device cables\n",
      "Product 2: Title: accell ultraav displayport multi monitor adapter\n",
      "Brand: accell\n",
      "Description: accell ultraav displayport multi monitor adapter connect up to 3 monitors to pc or laptop allows each monitor to display a separate application works on displayport enabled pc or mac displays applications across multiple dvi compliant monitors from a\n",
      "\n",
      "Answer with 'True' or 'False'.\n",
      "__\n",
      "__\n",
      "False.\n",
      "__\n",
      "__\n",
      "138\n"
     ]
    },
    {
     "name": "stderr",
     "output_type": "stream",
     "text": [
      "/var/folders/gx/tzjwcf8x1llbhhf36mjt7xqr0000gn/T/ipykernel_98243/3776050204.py:45: SettingWithCopyWarning: \n",
      "A value is trying to be set on a copy of a slice from a DataFrame\n",
      "\n",
      "See the caveats in the documentation: https://pandas.pydata.org/pandas-docs/stable/user_guide/indexing.html#returning-a-view-versus-a-copy\n",
      "  df[prompt_name][i] = isMatch\n"
     ]
    },
    {
     "name": "stdout",
     "output_type": "stream",
     "text": [
      "Are the following two products the same?\n",
      "Product 1: Title: 25 component video cable\n",
      "Brand: cables to go\n",
      "Description: 25ft velocity ponent video interconnect \n",
      "Product 2: Title: cables to go 40316 velocity hdmi high definition multimedia interconnect\n",
      "Brand: cables to go\n",
      "Description: connector on first end 1 x male hdmi connector on second end 1 x male hdmi cable type hdmi cable length 9 84 ft compatible with projection tvs a v receivers displays and digital audio video sources\n",
      "\n",
      "Answer with 'True' or 'False'.\n",
      "__\n",
      "__\n",
      "False.\n",
      "__\n",
      "__\n",
      "139\n"
     ]
    },
    {
     "name": "stderr",
     "output_type": "stream",
     "text": [
      "/var/folders/gx/tzjwcf8x1llbhhf36mjt7xqr0000gn/T/ipykernel_98243/3776050204.py:45: SettingWithCopyWarning: \n",
      "A value is trying to be set on a copy of a slice from a DataFrame\n",
      "\n",
      "See the caveats in the documentation: https://pandas.pydata.org/pandas-docs/stable/user_guide/indexing.html#returning-a-view-versus-a-copy\n",
      "  df[prompt_name][i] = isMatch\n"
     ]
    },
    {
     "name": "stdout",
     "output_type": "stream",
     "text": [
      "Are the following two products the same?\n",
      "Product 1: Title: cables to go 02300 ieee 1284 db25 male to centronics 36 male parallel printer cable 6 feet 1 82 meters beige\n",
      "Brand: cables to go\n",
      "Description: to enjoy the increased data rate and two way communication of your ieee 1284 compliant printer or scanner you need a cable with high quality connectors and a specialized wire type our cable exploits this technology to enable high speed bi directional\n",
      "Product 2: Title: cables to go 40316 velocity hdmi high definition multimedia interconnect\n",
      "Brand: cables to go\n",
      "Description: connector on first end 1 x male hdmi connector on second end 1 x male hdmi cable type hdmi cable length 9 84 ft compatible with projection tvs a v receivers displays and digital audio video sources\n",
      "\n",
      "Answer with 'True' or 'False'.\n",
      "__\n",
      "__\n",
      "False.\n",
      "__\n",
      "__\n",
      "140\n"
     ]
    },
    {
     "name": "stderr",
     "output_type": "stream",
     "text": [
      "/var/folders/gx/tzjwcf8x1llbhhf36mjt7xqr0000gn/T/ipykernel_98243/3776050204.py:45: SettingWithCopyWarning: \n",
      "A value is trying to be set on a copy of a slice from a DataFrame\n",
      "\n",
      "See the caveats in the documentation: https://pandas.pydata.org/pandas-docs/stable/user_guide/indexing.html#returning-a-view-versus-a-copy\n",
      "  df[prompt_name][i] = isMatch\n"
     ]
    },
    {
     "name": "stdout",
     "output_type": "stream",
     "text": [
      "Are the following two products the same?\n",
      "Product 1: Title: cables to go 30504 usb 2 0 to ide or serial ata drive adapter black\n",
      "Brand: cables to go\n",
      "Description: externally connect one 2 5in 3 5in or 5 25in ide atapi or sata drive to your computer via usb 2 0\n",
      "Product 2: Title: cables to go 40316 velocity hdmi high definition multimedia interconnect\n",
      "Brand: cables to go\n",
      "Description: connector on first end 1 x male hdmi connector on second end 1 x male hdmi cable type hdmi cable length 9 84 ft compatible with projection tvs a v receivers displays and digital audio video sources\n",
      "\n",
      "Answer with 'True' or 'False'.\n",
      "__\n",
      "__\n",
      "False.\n",
      "__\n",
      "__\n",
      "141\n"
     ]
    },
    {
     "name": "stderr",
     "output_type": "stream",
     "text": [
      "/var/folders/gx/tzjwcf8x1llbhhf36mjt7xqr0000gn/T/ipykernel_98243/3776050204.py:45: SettingWithCopyWarning: \n",
      "A value is trying to be set on a copy of a slice from a DataFrame\n",
      "\n",
      "See the caveats in the documentation: https://pandas.pydata.org/pandas-docs/stable/user_guide/indexing.html#returning-a-view-versus-a-copy\n",
      "  df[prompt_name][i] = isMatch\n"
     ]
    },
    {
     "name": "stdout",
     "output_type": "stream",
     "text": [
      "Are the following two products the same?\n",
      "Product 1: Title: cables to go 26886 usb to db9 male serial adapter blue 0 45 meters 1 5 feet\n",
      "Brand: cables to go\n",
      "Description: cables to go port authority usb to db9 serial adapter 26886 cable adapters\n",
      "Product 2: Title: cables to go 40316 velocity hdmi high definition multimedia interconnect\n",
      "Brand: cables to go\n",
      "Description: connector on first end 1 x male hdmi connector on second end 1 x male hdmi cable type hdmi cable length 9 84 ft compatible with projection tvs a v receivers displays and digital audio video sources\n",
      "\n",
      "Answer with 'True' or 'False'.\n",
      "__\n",
      "__\n",
      "False.\n",
      "__\n",
      "__\n",
      "142\n"
     ]
    },
    {
     "name": "stderr",
     "output_type": "stream",
     "text": [
      "/var/folders/gx/tzjwcf8x1llbhhf36mjt7xqr0000gn/T/ipykernel_98243/3776050204.py:45: SettingWithCopyWarning: \n",
      "A value is trying to be set on a copy of a slice from a DataFrame\n",
      "\n",
      "See the caveats in the documentation: https://pandas.pydata.org/pandas-docs/stable/user_guide/indexing.html#returning-a-view-versus-a-copy\n",
      "  df[prompt_name][i] = isMatch\n"
     ]
    },
    {
     "name": "stdout",
     "output_type": "stream",
     "text": [
      "Are the following two products the same?\n",
      "Product 1: Title: cables to go 08075 db9 m f null modem adapter\n",
      "Brand: cables to go\n",
      "Description: cables to go null modem adapter 08075 cable adapters\n",
      "Product 2: Title: cables to go 40316 velocity hdmi high definition multimedia interconnect\n",
      "Brand: cables to go\n",
      "Description: connector on first end 1 x male hdmi connector on second end 1 x male hdmi cable type hdmi cable length 9 84 ft compatible with projection tvs a v receivers displays and digital audio video sources\n",
      "\n",
      "Answer with 'True' or 'False'.\n",
      "__\n",
      "__\n",
      "False.\n",
      "__\n",
      "__\n",
      "143\n"
     ]
    },
    {
     "name": "stderr",
     "output_type": "stream",
     "text": [
      "/var/folders/gx/tzjwcf8x1llbhhf36mjt7xqr0000gn/T/ipykernel_98243/3776050204.py:45: SettingWithCopyWarning: \n",
      "A value is trying to be set on a copy of a slice from a DataFrame\n",
      "\n",
      "See the caveats in the documentation: https://pandas.pydata.org/pandas-docs/stable/user_guide/indexing.html#returning-a-view-versus-a-copy\n",
      "  df[prompt_name][i] = isMatch\n"
     ]
    },
    {
     "name": "stdout",
     "output_type": "stream",
     "text": [
      "Are the following two products the same?\n",
      "Product 1: Title: cables to go 02803 db25 male to c36 male parallel printer cable beige 25 feet 7 62 meters\n",
      "Brand: cables to go\n",
      "Description: get a reliable connection between your pc and uni directional dot matrix or older laser printer tough enough for use in industrial settings fully molded for excellent strain relief this cable also provides excellent foil shielding to protect valuable\n",
      "Product 2: Title: cables to go 40316 velocity hdmi high definition multimedia interconnect\n",
      "Brand: cables to go\n",
      "Description: connector on first end 1 x male hdmi connector on second end 1 x male hdmi cable type hdmi cable length 9 84 ft compatible with projection tvs a v receivers displays and digital audio video sources\n",
      "\n",
      "Answer with 'True' or 'False'.\n",
      "__\n",
      "__\n",
      "False.\n",
      "__\n",
      "__\n",
      "144\n"
     ]
    },
    {
     "name": "stderr",
     "output_type": "stream",
     "text": [
      "/var/folders/gx/tzjwcf8x1llbhhf36mjt7xqr0000gn/T/ipykernel_98243/3776050204.py:45: SettingWithCopyWarning: \n",
      "A value is trying to be set on a copy of a slice from a DataFrame\n",
      "\n",
      "See the caveats in the documentation: https://pandas.pydata.org/pandas-docs/stable/user_guide/indexing.html#returning-a-view-versus-a-copy\n",
      "  df[prompt_name][i] = isMatch\n"
     ]
    },
    {
     "name": "stdout",
     "output_type": "stream",
     "text": [
      "Are the following two products the same?\n",
      "Product 1: Title: cables to go 26686 usb a male to a female extension cable white 3 meters 9 84 feet\n",
      "Brand: cables to go\n",
      "Description: 10ft usb extension cable aa m f passive\n",
      "Product 2: Title: cables to go 40316 velocity hdmi high definition multimedia interconnect\n",
      "Brand: cables to go\n",
      "Description: connector on first end 1 x male hdmi connector on second end 1 x male hdmi cable type hdmi cable length 9 84 ft compatible with projection tvs a v receivers displays and digital audio video sources\n",
      "\n",
      "Answer with 'True' or 'False'.\n",
      "__\n",
      "__\n",
      "False.\n",
      "__\n",
      "__\n",
      "145\n"
     ]
    },
    {
     "name": "stderr",
     "output_type": "stream",
     "text": [
      "/var/folders/gx/tzjwcf8x1llbhhf36mjt7xqr0000gn/T/ipykernel_98243/3776050204.py:45: SettingWithCopyWarning: \n",
      "A value is trying to be set on a copy of a slice from a DataFrame\n",
      "\n",
      "See the caveats in the documentation: https://pandas.pydata.org/pandas-docs/stable/user_guide/indexing.html#returning-a-view-versus-a-copy\n",
      "  df[prompt_name][i] = isMatch\n"
     ]
    },
    {
     "name": "stdout",
     "output_type": "stream",
     "text": [
      "Are the following two products the same?\n",
      "Product 1: Title: cables to go audio unlimited 900mhz wireless stereo headphones spk 9100\n",
      "Brand: cables to go\n",
      "Description: listen to music just about anywhere without the hassle of cumbersome wires the powerful transmitter uses 900 mhz technology to send music through walls and floors to the wireless headphone this comfortable high quality lightweight headphone is the pe\n",
      "Product 2: Title: cables to go 40316 velocity hdmi high definition multimedia interconnect\n",
      "Brand: cables to go\n",
      "Description: connector on first end 1 x male hdmi connector on second end 1 x male hdmi cable type hdmi cable length 9 84 ft compatible with projection tvs a v receivers displays and digital audio video sources\n",
      "\n",
      "Answer with 'True' or 'False'.\n",
      "__\n",
      "__\n",
      "False.\n",
      "__\n",
      "__\n",
      "146\n"
     ]
    },
    {
     "name": "stderr",
     "output_type": "stream",
     "text": [
      "/var/folders/gx/tzjwcf8x1llbhhf36mjt7xqr0000gn/T/ipykernel_98243/3776050204.py:45: SettingWithCopyWarning: \n",
      "A value is trying to be set on a copy of a slice from a DataFrame\n",
      "\n",
      "See the caveats in the documentation: https://pandas.pydata.org/pandas-docs/stable/user_guide/indexing.html#returning-a-view-versus-a-copy\n",
      "  df[prompt_name][i] = isMatch\n"
     ]
    },
    {
     "name": "stdout",
     "output_type": "stream",
     "text": [
      "Are the following two products the same?\n",
      "Product 1: Title: lens cleaning brush pen for camera lens viewfinder\n",
      "Brand: siig\n",
      "Description: siig lens cleaning brush pen ac cn0512 s1 cleaning kits\n",
      "Product 2: Title: cables to go 40316 velocity hdmi high definition multimedia interconnect\n",
      "Brand: cables to go\n",
      "Description: connector on first end 1 x male hdmi connector on second end 1 x male hdmi cable type hdmi cable length 9 84 ft compatible with projection tvs a v receivers displays and digital audio video sources\n",
      "\n",
      "Answer with 'True' or 'False'.\n",
      "__\n",
      "__\n",
      "False.\n",
      "__\n",
      "__\n",
      "147\n"
     ]
    },
    {
     "name": "stderr",
     "output_type": "stream",
     "text": [
      "/var/folders/gx/tzjwcf8x1llbhhf36mjt7xqr0000gn/T/ipykernel_98243/3776050204.py:45: SettingWithCopyWarning: \n",
      "A value is trying to be set on a copy of a slice from a DataFrame\n",
      "\n",
      "See the caveats in the documentation: https://pandas.pydata.org/pandas-docs/stable/user_guide/indexing.html#returning-a-view-versus-a-copy\n",
      "  df[prompt_name][i] = isMatch\n"
     ]
    },
    {
     "name": "stdout",
     "output_type": "stream",
     "text": [
      "Are the following two products the same?\n",
      "Product 1: Title: cables to go 45427 3ft sonicwave rca audio cable\n",
      "Brand: cables to go\n",
      "Description: superior quality interconnect for audiophiles and videophiles who demand maximum performance and flawless fidelity to the original signal analog audio interconnects perform at the very highest level silver plated ofc twisted pair conductors ar\n",
      "Product 2: Title: cables to go 40316 velocity hdmi high definition multimedia interconnect\n",
      "Brand: cables to go\n",
      "Description: connector on first end 1 x male hdmi connector on second end 1 x male hdmi cable type hdmi cable length 9 84 ft compatible with projection tvs a v receivers displays and digital audio video sources\n",
      "\n",
      "Answer with 'True' or 'False'.\n",
      "__\n",
      "__\n",
      "False.\n",
      "__\n",
      "__\n",
      "148\n"
     ]
    },
    {
     "name": "stderr",
     "output_type": "stream",
     "text": [
      "/var/folders/gx/tzjwcf8x1llbhhf36mjt7xqr0000gn/T/ipykernel_98243/3776050204.py:45: SettingWithCopyWarning: \n",
      "A value is trying to be set on a copy of a slice from a DataFrame\n",
      "\n",
      "See the caveats in the documentation: https://pandas.pydata.org/pandas-docs/stable/user_guide/indexing.html#returning-a-view-versus-a-copy\n",
      "  df[prompt_name][i] = isMatch\n"
     ]
    },
    {
     "name": "stdout",
     "output_type": "stream",
     "text": [
      "Are the following two products the same?\n",
      "Product 1: Title: rca rcrv06gr 6 device voice control remote gloss black\n",
      "Brand: rca\n",
      "Description: rca rcrv06g six device voice control universal remote hands free voice control just say the word and freedom is yours rca s voice control universal remote gives you the freedom you desire just say the word and you can easily control your home theater\n",
      "Product 2: Title: belkin f8v3311b10 hdmi cable\n",
      "Brand: belkin\n",
      "Description: cable length 10 ft color black connector on first end 1 x 19 pin type a male hdmi connector on second end 1 x 19 pin type a male hdmi copper conductors\n",
      "\n",
      "Answer with 'True' or 'False'.\n",
      "__\n",
      "__\n",
      "False.\n",
      "__\n",
      "__\n",
      "149\n"
     ]
    },
    {
     "name": "stderr",
     "output_type": "stream",
     "text": [
      "/var/folders/gx/tzjwcf8x1llbhhf36mjt7xqr0000gn/T/ipykernel_98243/3776050204.py:45: SettingWithCopyWarning: \n",
      "A value is trying to be set on a copy of a slice from a DataFrame\n",
      "\n",
      "See the caveats in the documentation: https://pandas.pydata.org/pandas-docs/stable/user_guide/indexing.html#returning-a-view-versus-a-copy\n",
      "  df[prompt_name][i] = isMatch\n"
     ]
    },
    {
     "name": "stdout",
     "output_type": "stream",
     "text": [
      "Are the following two products the same?\n",
      "Product 1: Title: rca rcrv06gr 6 device voice control remote gloss black\n",
      "Brand: rca\n",
      "Description: rca rcrv06g six device voice control universal remote hands free voice control just say the word and freedom is yours rca s voice control universal remote gives you the freedom you desire just say the word and you can easily control your home theater\n",
      "Product 2: Title: accell proultra 2m hdmi ethernet cable\n",
      "Brand: accell\n",
      "Description: accell proultra 2m hdmi ethernet cable high speed up to 10 2gbps integrated hdmi ethernet and audio return channels supports 3d and 4k video supports deep color and x v color cable length 2m\n",
      "\n",
      "Answer with 'True' or 'False'.\n",
      "__\n",
      "__\n",
      "True\n",
      "__\n",
      "__\n",
      "150\n"
     ]
    },
    {
     "name": "stderr",
     "output_type": "stream",
     "text": [
      "/var/folders/gx/tzjwcf8x1llbhhf36mjt7xqr0000gn/T/ipykernel_98243/3776050204.py:45: SettingWithCopyWarning: \n",
      "A value is trying to be set on a copy of a slice from a DataFrame\n",
      "\n",
      "See the caveats in the documentation: https://pandas.pydata.org/pandas-docs/stable/user_guide/indexing.html#returning-a-view-versus-a-copy\n",
      "  df[prompt_name][i] = isMatch\n"
     ]
    },
    {
     "name": "stdout",
     "output_type": "stream",
     "text": [
      "Are the following two products the same?\n",
      "Product 1: Title: rca rcrv06gr 6 device voice control remote gloss black\n",
      "Brand: rca\n",
      "Description: rca rcrv06g six device voice control universal remote hands free voice control just say the word and freedom is yours rca s voice control universal remote gives you the freedom you desire just say the word and you can easily control your home theater\n",
      "Product 2: Title: peerless paramount articulating flat panel wall arm 37 to 60 screens\n",
      "Brand: peerless\n",
      "Description: pe2747this solution captures the essence of articulating mounts while offering a high performance feature packed design for any budget delivering exceptional strength and durability this mount supports flat panel tvs from 37 to 60 its smooth motion e\n",
      "\n",
      "Answer with 'True' or 'False'.\n",
      "__\n",
      "__\n",
      "True\n",
      "__\n",
      "__\n",
      "151\n"
     ]
    },
    {
     "name": "stderr",
     "output_type": "stream",
     "text": [
      "/var/folders/gx/tzjwcf8x1llbhhf36mjt7xqr0000gn/T/ipykernel_98243/3776050204.py:45: SettingWithCopyWarning: \n",
      "A value is trying to be set on a copy of a slice from a DataFrame\n",
      "\n",
      "See the caveats in the documentation: https://pandas.pydata.org/pandas-docs/stable/user_guide/indexing.html#returning-a-view-versus-a-copy\n",
      "  df[prompt_name][i] = isMatch\n"
     ]
    },
    {
     "name": "stdout",
     "output_type": "stream",
     "text": [
      "Are the following two products the same?\n",
      "Product 1: Title: arrowmounts cantilever retractable wall mount for flat panel tvs up to 27\n",
      "Brand: arrowmounts\n",
      "Description: arrowmounts cantilever retractable wall mount for flat panel tvs up to 27 tilts 20 degrees upward and 20 degrees downward swivels 180 degrees color black includes installation guide and hardware kit\n",
      "Product 2: Title: pc treasures 19386 treefrog camera accessory kit with adobe photo video editing software\n",
      "Brand: pc treasures\n",
      "Description: camera accessory kit mini tripod cleaning kit adobe photo editing and video editing software\n",
      "\n",
      "Answer with 'True' or 'False'.\n",
      "__\n",
      "__\n",
      "False.\n",
      "__\n",
      "__\n",
      "152\n"
     ]
    },
    {
     "name": "stderr",
     "output_type": "stream",
     "text": [
      "/var/folders/gx/tzjwcf8x1llbhhf36mjt7xqr0000gn/T/ipykernel_98243/3776050204.py:45: SettingWithCopyWarning: \n",
      "A value is trying to be set on a copy of a slice from a DataFrame\n",
      "\n",
      "See the caveats in the documentation: https://pandas.pydata.org/pandas-docs/stable/user_guide/indexing.html#returning-a-view-versus-a-copy\n",
      "  df[prompt_name][i] = isMatch\n"
     ]
    },
    {
     "name": "stdout",
     "output_type": "stream",
     "text": [
      "Are the following two products the same?\n",
      "Product 1: Title: pc treasures external dvd rom drive red\n",
      "Brand: pc treasures\n",
      "Description: pc treasures external dvd rom drive reading speed 24x cd rom 8x dvd rom slim and lightweight for mobility usb powered smart x technology built in usb cable holder plug and play compatible with windows 7 vista xp linux and mac os color red\n",
      "Product 2: Title: pc treasures 19386 treefrog camera accessory kit with adobe photo video editing software\n",
      "Brand: pc treasures\n",
      "Description: camera accessory kit mini tripod cleaning kit adobe photo editing and video editing software\n",
      "\n",
      "Answer with 'True' or 'False'.\n",
      "__\n",
      "__\n",
      "False.\n",
      "__\n",
      "__\n",
      "153\n"
     ]
    },
    {
     "name": "stderr",
     "output_type": "stream",
     "text": [
      "/var/folders/gx/tzjwcf8x1llbhhf36mjt7xqr0000gn/T/ipykernel_98243/3776050204.py:45: SettingWithCopyWarning: \n",
      "A value is trying to be set on a copy of a slice from a DataFrame\n",
      "\n",
      "See the caveats in the documentation: https://pandas.pydata.org/pandas-docs/stable/user_guide/indexing.html#returning-a-view-versus-a-copy\n",
      "  df[prompt_name][i] = isMatch\n"
     ]
    },
    {
     "name": "stdout",
     "output_type": "stream",
     "text": [
      "Are the following two products the same?\n",
      "Product 1: Title: arrowmounts cantilever retractable wall mount for flat panel tvs up to 27\n",
      "Brand: arrowmounts\n",
      "Description: arrowmounts cantilever retractable wall mount for flat panel tvs up to 27 tilts 20 degrees upward and 20 degrees downward swivels 180 degrees color black includes installation guide and hardware kit\n",
      "Product 2: Title: peerless hds100 hd flow wireless multimedia system black\n",
      "Brand: peerless\n",
      "Description: with the hd flow wireless multimedia kit hds100 you can wirelessly stream full hd 1080p 60 hz video and 5 1 channel digital audio for an exceptional viewing experience without the clutter of a v cables this kit offers a simple plug and play setup and\n",
      "\n",
      "Answer with 'True' or 'False'.\n",
      "__\n",
      "__\n",
      "False.\n",
      "__\n",
      "__\n",
      "154\n"
     ]
    },
    {
     "name": "stderr",
     "output_type": "stream",
     "text": [
      "/var/folders/gx/tzjwcf8x1llbhhf36mjt7xqr0000gn/T/ipykernel_98243/3776050204.py:45: SettingWithCopyWarning: \n",
      "A value is trying to be set on a copy of a slice from a DataFrame\n",
      "\n",
      "See the caveats in the documentation: https://pandas.pydata.org/pandas-docs/stable/user_guide/indexing.html#returning-a-view-versus-a-copy\n",
      "  df[prompt_name][i] = isMatch\n"
     ]
    },
    {
     "name": "stdout",
     "output_type": "stream",
     "text": [
      "Are the following two products the same?\n",
      "Product 1: Title: accell ultraav b101b 003b display port with vga active adapter\n",
      "Brand: accell\n",
      "Description: the ultraav displayport to vga cable adapter enables the connection of your displayport supported computer to a vga hd 15 supported monitor or other vga display it supports vga analog resolutions of up to 1920x1200 wuxga 60hz and is simple to setup a\n",
      "Product 2: Title: accell ultraav displayport multi monitor adapter\n",
      "Brand: accell\n",
      "Description: accell ultraav displayport multi monitor adapter connect up to 3 monitors to pc or laptop allows each monitor to display a separate application works on displayport enabled pc or mac displays applications across multiple dvi compliant monitors from a\n",
      "\n",
      "Answer with 'True' or 'False'.\n",
      "__\n",
      "__\n",
      "False.\n",
      "__\n",
      "__\n",
      "155\n"
     ]
    },
    {
     "name": "stderr",
     "output_type": "stream",
     "text": [
      "/var/folders/gx/tzjwcf8x1llbhhf36mjt7xqr0000gn/T/ipykernel_98243/3776050204.py:45: SettingWithCopyWarning: \n",
      "A value is trying to be set on a copy of a slice from a DataFrame\n",
      "\n",
      "See the caveats in the documentation: https://pandas.pydata.org/pandas-docs/stable/user_guide/indexing.html#returning-a-view-versus-a-copy\n",
      "  df[prompt_name][i] = isMatch\n"
     ]
    },
    {
     "name": "stdout",
     "output_type": "stream",
     "text": [
      "Are the following two products the same?\n",
      "Product 1: Title: accell proultra supreme b116c 016b 40 high speed hdmi cable with ethernet 5m\n",
      "Brand: accell\n",
      "Description: accell proultra supreme high speed hdmi cable with ethernet provides a data transfer rate of up to 10 2 gbps 340mhz and is fully compliant to the high speed hdmi specification compatible with all hdmi devices the proultra supreme high speed cable sup\n",
      "Product 2: Title: accell ultraav displayport multi monitor adapter\n",
      "Brand: accell\n",
      "Description: accell ultraav displayport multi monitor adapter connect up to 3 monitors to pc or laptop allows each monitor to display a separate application works on displayport enabled pc or mac displays applications across multiple dvi compliant monitors from a\n",
      "\n",
      "Answer with 'True' or 'False'.\n",
      "__\n",
      "__\n",
      "False\n",
      "__\n",
      "__\n",
      "156\n"
     ]
    },
    {
     "name": "stderr",
     "output_type": "stream",
     "text": [
      "/var/folders/gx/tzjwcf8x1llbhhf36mjt7xqr0000gn/T/ipykernel_98243/3776050204.py:45: SettingWithCopyWarning: \n",
      "A value is trying to be set on a copy of a slice from a DataFrame\n",
      "\n",
      "See the caveats in the documentation: https://pandas.pydata.org/pandas-docs/stable/user_guide/indexing.html#returning-a-view-versus-a-copy\n",
      "  df[prompt_name][i] = isMatch\n"
     ]
    },
    {
     "name": "stdout",
     "output_type": "stream",
     "text": [
      "Are the following two products the same?\n",
      "Product 1: Title: new 3 premium series usb 3 0 a b cable cl4640\n",
      "Brand: accell\n",
      "Description: 3ft a111b 003b premiumusb 3 0 a b cable superspeed 5 gbps throughput supports optimized power efficiency backwards compatible with usb 2 0 3\n",
      "Product 2: Title: accell ultraav displayport multi monitor adapter\n",
      "Brand: accell\n",
      "Description: accell ultraav displayport multi monitor adapter connect up to 3 monitors to pc or laptop allows each monitor to display a separate application works on displayport enabled pc or mac displays applications across multiple dvi compliant monitors from a\n",
      "\n",
      "Answer with 'True' or 'False'.\n",
      "__\n",
      "__\n",
      "False.\n",
      "__\n",
      "__\n",
      "157\n"
     ]
    },
    {
     "name": "stderr",
     "output_type": "stream",
     "text": [
      "/var/folders/gx/tzjwcf8x1llbhhf36mjt7xqr0000gn/T/ipykernel_98243/3776050204.py:45: SettingWithCopyWarning: \n",
      "A value is trying to be set on a copy of a slice from a DataFrame\n",
      "\n",
      "See the caveats in the documentation: https://pandas.pydata.org/pandas-docs/stable/user_guide/indexing.html#returning-a-view-versus-a-copy\n",
      "  df[prompt_name][i] = isMatch\n"
     ]
    },
    {
     "name": "stdout",
     "output_type": "stream",
     "text": [
      "Are the following two products the same?\n",
      "Product 1: Title: vonnic b110 mounting bracket\n",
      "Brand: vonnic inc\n",
      "Description: vonnic b110 mounting bracket housing bracket\n",
      "Product 2: Title: middle atlantic 12 master slave jumper for mpr series modules sold in packs of 6\n",
      "Brand: middle atlantic\n",
      "Description: df1784allows m series slave modules to be switched remotely by an rlm series master module features 12 jumper length sold in packs of 6\n",
      "\n",
      "Answer with 'True' or 'False'.\n",
      "__\n",
      "__\n",
      "False.\n",
      "__\n",
      "__\n",
      "158\n"
     ]
    },
    {
     "name": "stderr",
     "output_type": "stream",
     "text": [
      "/var/folders/gx/tzjwcf8x1llbhhf36mjt7xqr0000gn/T/ipykernel_98243/3776050204.py:45: SettingWithCopyWarning: \n",
      "A value is trying to be set on a copy of a slice from a DataFrame\n",
      "\n",
      "See the caveats in the documentation: https://pandas.pydata.org/pandas-docs/stable/user_guide/indexing.html#returning-a-view-versus-a-copy\n",
      "  df[prompt_name][i] = isMatch\n"
     ]
    },
    {
     "name": "stdout",
     "output_type": "stream",
     "text": [
      "Are the following two products the same?\n",
      "Product 1: Title: vonnic b110 mounting bracket\n",
      "Brand: vonnic inc\n",
      "Description: vonnic b110 mounting bracket housing bracket\n",
      "Product 2: Title: comprehensive 1 4 standard stereo phone jack cable end set of 25\n",
      "Brand: comprehensive\n",
      "Description: ch1273these standard 1 4 stereo phone jacks come equipped with a cable end as well as the comprehensive lifetime warranty comprehensive offers a lifetime warranty on all products\n",
      "\n",
      "Answer with 'True' or 'False'.\n",
      "__\n",
      "__\n",
      "False.\n",
      "__\n",
      "__\n",
      "159\n"
     ]
    },
    {
     "name": "stderr",
     "output_type": "stream",
     "text": [
      "/var/folders/gx/tzjwcf8x1llbhhf36mjt7xqr0000gn/T/ipykernel_98243/3776050204.py:45: SettingWithCopyWarning: \n",
      "A value is trying to be set on a copy of a slice from a DataFrame\n",
      "\n",
      "See the caveats in the documentation: https://pandas.pydata.org/pandas-docs/stable/user_guide/indexing.html#returning-a-view-versus-a-copy\n",
      "  df[prompt_name][i] = isMatch\n"
     ]
    },
    {
     "name": "stdout",
     "output_type": "stream",
     "text": [
      "Are the following two products the same?\n",
      "Product 1: Title: vonnic b110 mounting bracket\n",
      "Brand: vonnic inc\n",
      "Description: vonnic b110 mounting bracket housing bracket\n",
      "Product 2: Title: middle atlantic long 20 outlet single 20 amp circuit thin power strip with cord\n",
      "Brand: middle atlantic\n",
      "Description: df2014pdt series thin power strips take up minimal space inside a rack and feature a unique design that allows for isolated ground configurability dual circuit models can be configured to operate as a single circuit and all models are factory assembl\n",
      "\n",
      "Answer with 'True' or 'False'.\n",
      "__\n",
      "__\n",
      "False.\n",
      "__\n",
      "__\n",
      "160\n"
     ]
    },
    {
     "name": "stderr",
     "output_type": "stream",
     "text": [
      "/var/folders/gx/tzjwcf8x1llbhhf36mjt7xqr0000gn/T/ipykernel_98243/3776050204.py:45: SettingWithCopyWarning: \n",
      "A value is trying to be set on a copy of a slice from a DataFrame\n",
      "\n",
      "See the caveats in the documentation: https://pandas.pydata.org/pandas-docs/stable/user_guide/indexing.html#returning-a-view-versus-a-copy\n",
      "  df[prompt_name][i] = isMatch\n"
     ]
    },
    {
     "name": "stdout",
     "output_type": "stream",
     "text": [
      "Are the following two products the same?\n",
      "Product 1: Title: ge rg6 coax cable 25\n",
      "Brand: ge\n",
      "Description: ge rg6 coax cable connects 2 video components equipped with f type jacks cable length 25 color white\n",
      "Product 2: Title: ge 73823 complete headphone extension kit with 5 adapters 25ft black\n",
      "Brand: ge\n",
      "Description: none\n",
      "\n",
      "Answer with 'True' or 'False'.\n",
      "__\n",
      "__\n",
      "False.\n",
      "__\n",
      "__\n",
      "161\n"
     ]
    },
    {
     "name": "stderr",
     "output_type": "stream",
     "text": [
      "/var/folders/gx/tzjwcf8x1llbhhf36mjt7xqr0000gn/T/ipykernel_98243/3776050204.py:45: SettingWithCopyWarning: \n",
      "A value is trying to be set on a copy of a slice from a DataFrame\n",
      "\n",
      "See the caveats in the documentation: https://pandas.pydata.org/pandas-docs/stable/user_guide/indexing.html#returning-a-view-versus-a-copy\n",
      "  df[prompt_name][i] = isMatch\n"
     ]
    },
    {
     "name": "stdout",
     "output_type": "stream",
     "text": [
      "Are the following two products the same?\n",
      "Product 1: Title: ge door stop alarm\n",
      "Brand: ge\n",
      "Description: sounds 120 decibel alarm when activated pressure on door stop activates alarm on off switch to toggle activation low battery indicator light requires 1 9v battery not included\n",
      "Product 2: Title: ge 73823 complete headphone extension kit with 5 adapters 25ft black\n",
      "Brand: ge\n",
      "Description: none\n",
      "\n",
      "Answer with 'True' or 'False'.\n",
      "__\n",
      "__\n",
      "False.\n",
      "__\n",
      "__\n",
      "162\n"
     ]
    },
    {
     "name": "stderr",
     "output_type": "stream",
     "text": [
      "/var/folders/gx/tzjwcf8x1llbhhf36mjt7xqr0000gn/T/ipykernel_98243/3776050204.py:45: SettingWithCopyWarning: \n",
      "A value is trying to be set on a copy of a slice from a DataFrame\n",
      "\n",
      "See the caveats in the documentation: https://pandas.pydata.org/pandas-docs/stable/user_guide/indexing.html#returning-a-view-versus-a-copy\n",
      "  df[prompt_name][i] = isMatch\n"
     ]
    },
    {
     "name": "stdout",
     "output_type": "stream",
     "text": [
      "Are the following two products the same?\n",
      "Product 1: Title: ematic em714vid 4 3 inch hd touch screen 4 gb mp3 video player with fm radio hdmi out voice recorder\n",
      "Brand: ematic\n",
      "Description: enjoy the luxury of the crystal clear 4 3 hd video player features include versatile playback of audio and hd video files including mp4 avi and more the compact design makes it portable lightweight and ideal for in flight in car movies plus with the \n",
      "Product 2: Title: ematic full motion wall mount kit for 37 tv with 6ft hdmi cable 15ft hdmi cable cleaning solution cleaning cloth emw5001\n",
      "Brand: ematic\n",
      "Description: ematic full motion lcd tv wall mount kit for 37 41 5cm from the wall completely adjustable for optimal viewings with a 180 swivel pan and a 15 tilt down maximum weight capacity of 132lbs standard vesa mounting hole patterns supporting up to a maximum\n",
      "\n",
      "Answer with 'True' or 'False'.\n",
      "__\n",
      "__\n",
      "False.\n",
      "__\n",
      "__\n",
      "163\n"
     ]
    },
    {
     "name": "stderr",
     "output_type": "stream",
     "text": [
      "/var/folders/gx/tzjwcf8x1llbhhf36mjt7xqr0000gn/T/ipykernel_98243/3776050204.py:45: SettingWithCopyWarning: \n",
      "A value is trying to be set on a copy of a slice from a DataFrame\n",
      "\n",
      "See the caveats in the documentation: https://pandas.pydata.org/pandas-docs/stable/user_guide/indexing.html#returning-a-view-versus-a-copy\n",
      "  df[prompt_name][i] = isMatch\n"
     ]
    },
    {
     "name": "stdout",
     "output_type": "stream",
     "text": [
      "Are the following two products the same?\n",
      "Product 1: Title: ematic 9 in 1 ep101 ipad accessory kit including charger leather case and other accessories\n",
      "Brand: ematic\n",
      "Description: this ipad accessory kit features everything you need in order to get the most out of your ipad includes leather case let s you enjoy your ipad on the move and in style usb wall charger eliminates the need for a computer when charging your ipad audio \n",
      "Product 2: Title: ematic articulating wall mount kit for 15 tv includes 6ft hdmi cable cleaning solution cleaning cloth emw3202\n",
      "Brand: ematic\n",
      "Description: ematic articulating 15 tv wall mount kit kit includes the tv wall mount a 6ft 1080p hdmi cable and a cleaning kit for use with 15 lcd tvs extends up to 10 8 27 4cm from the wall completely adjustable for optimal viewings with a 13 8 degree tilt and 1\n",
      "\n",
      "Answer with 'True' or 'False'.\n",
      "__\n",
      "__\n",
      "False.\n",
      "__\n",
      "__\n",
      "164\n"
     ]
    },
    {
     "name": "stderr",
     "output_type": "stream",
     "text": [
      "/var/folders/gx/tzjwcf8x1llbhhf36mjt7xqr0000gn/T/ipykernel_98243/3776050204.py:45: SettingWithCopyWarning: \n",
      "A value is trying to be set on a copy of a slice from a DataFrame\n",
      "\n",
      "See the caveats in the documentation: https://pandas.pydata.org/pandas-docs/stable/user_guide/indexing.html#returning-a-view-versus-a-copy\n",
      "  df[prompt_name][i] = isMatch\n"
     ]
    },
    {
     "name": "stdout",
     "output_type": "stream",
     "text": [
      "Are the following two products the same?\n",
      "Product 1: Title: rca rcrv06gr 6 device voice control remote gloss black\n",
      "Brand: rca\n",
      "Description: rca rcrv06g six device voice control universal remote hands free voice control just say the word and freedom is yours rca s voice control universal remote gives you the freedom you desire just say the word and you can easily control your home theater\n",
      "Product 2: Title: ematic articulating wall mount kit for 15 tv includes 6ft hdmi cable cleaning solution cleaning cloth emw3202\n",
      "Brand: ematic\n",
      "Description: ematic articulating 15 tv wall mount kit kit includes the tv wall mount a 6ft 1080p hdmi cable and a cleaning kit for use with 15 lcd tvs extends up to 10 8 27 4cm from the wall completely adjustable for optimal viewings with a 13 8 degree tilt and 1\n",
      "\n",
      "Answer with 'True' or 'False'.\n",
      "__\n",
      "__\n",
      "False.\n",
      "__\n",
      "__\n",
      "165\n"
     ]
    },
    {
     "name": "stderr",
     "output_type": "stream",
     "text": [
      "/var/folders/gx/tzjwcf8x1llbhhf36mjt7xqr0000gn/T/ipykernel_98243/3776050204.py:45: SettingWithCopyWarning: \n",
      "A value is trying to be set on a copy of a slice from a DataFrame\n",
      "\n",
      "See the caveats in the documentation: https://pandas.pydata.org/pandas-docs/stable/user_guide/indexing.html#returning-a-view-versus-a-copy\n",
      "  df[prompt_name][i] = isMatch\n"
     ]
    },
    {
     "name": "stdout",
     "output_type": "stream",
     "text": [
      "Are the following two products the same?\n",
      "Product 1: Title: ematic em714vid 4 3 inch hd touch screen 4 gb mp3 video player with fm radio hdmi out voice recorder\n",
      "Brand: ematic\n",
      "Description: enjoy the luxury of the crystal clear 4 3 hd video player features include versatile playback of audio and hd video files including mp4 avi and more the compact design makes it portable lightweight and ideal for in flight in car movies plus with the \n",
      "Product 2: Title: ematic articulating wall mount kit for 15 tv includes 6ft hdmi cable cleaning solution cleaning cloth emw3202\n",
      "Brand: ematic\n",
      "Description: ematic articulating 15 tv wall mount kit kit includes the tv wall mount a 6ft 1080p hdmi cable and a cleaning kit for use with 15 lcd tvs extends up to 10 8 27 4cm from the wall completely adjustable for optimal viewings with a 13 8 degree tilt and 1\n",
      "\n",
      "Answer with 'True' or 'False'.\n",
      "__\n",
      "__\n",
      "False.\n",
      "__\n",
      "__\n",
      "166\n"
     ]
    },
    {
     "name": "stderr",
     "output_type": "stream",
     "text": [
      "/var/folders/gx/tzjwcf8x1llbhhf36mjt7xqr0000gn/T/ipykernel_98243/3776050204.py:45: SettingWithCopyWarning: \n",
      "A value is trying to be set on a copy of a slice from a DataFrame\n",
      "\n",
      "See the caveats in the documentation: https://pandas.pydata.org/pandas-docs/stable/user_guide/indexing.html#returning-a-view-versus-a-copy\n",
      "  df[prompt_name][i] = isMatch\n"
     ]
    },
    {
     "name": "stdout",
     "output_type": "stream",
     "text": [
      "Are the following two products the same?\n",
      "Product 1: Title: zax pro series subwoofer cable 4m\n",
      "Brand: zax\n",
      "Description: zax pro series subwoofer cable 4m delivers bass output from a v receivers to high performance subwoofers improves low frequencies and deep bass response dual shielding 8 cut 24k gold plated connectors split tip center pin conductor die cast metal con\n",
      "Product 2: Title: zax 85525 select series 2 rca plugs to rca jack y adapter\n",
      "Brand: zax\n",
      "Description: combines or separates stereo audio signals adapts 2 rca plugs to 1 rca jack delivers interference free clear audio dual shielding reduces distortion amp interference 4 cut 24k gold plated connectors durable molded connectors for lasting connection in\n",
      "\n",
      "Answer with 'True' or 'False'.\n",
      "__\n",
      "__\n",
      "False.\n",
      "__\n",
      "__\n",
      "167\n"
     ]
    },
    {
     "name": "stderr",
     "output_type": "stream",
     "text": [
      "/var/folders/gx/tzjwcf8x1llbhhf36mjt7xqr0000gn/T/ipykernel_98243/3776050204.py:45: SettingWithCopyWarning: \n",
      "A value is trying to be set on a copy of a slice from a DataFrame\n",
      "\n",
      "See the caveats in the documentation: https://pandas.pydata.org/pandas-docs/stable/user_guide/indexing.html#returning-a-view-versus-a-copy\n",
      "  df[prompt_name][i] = isMatch\n"
     ]
    },
    {
     "name": "stdout",
     "output_type": "stream",
     "text": [
      "Are the following two products the same?\n",
      "Product 1: Title: zax 87802 pro series rf coaxial f pin cable 2 m\n",
      "Brand: zax\n",
      "Description: delivers television cable signal to components with rf connectionsdual shielding reduces distortion amp interferencenitrogen injected pe dielectric for a stronger signal24k gold plated connectorsprecision engineered die cast metal connectorsintegrate\n",
      "Product 2: Title: zax pro series component cable 3m\n",
      "Brand: zax\n",
      "Description: zax pro series component cable 3m connects hdtvs dvds digital monitors tvs dvrs and vcrs splits video into 3 components y pr pb for high definition picture up to 720p quad shielding nitrogen injected pe dielectric 8 cut 24k gold plated connectors spl\n",
      "\n",
      "Answer with 'True' or 'False'.\n",
      "__\n",
      "__\n",
      "False.\n",
      "__\n",
      "__\n",
      "168\n"
     ]
    },
    {
     "name": "stderr",
     "output_type": "stream",
     "text": [
      "/var/folders/gx/tzjwcf8x1llbhhf36mjt7xqr0000gn/T/ipykernel_98243/3776050204.py:45: SettingWithCopyWarning: \n",
      "A value is trying to be set on a copy of a slice from a DataFrame\n",
      "\n",
      "See the caveats in the documentation: https://pandas.pydata.org/pandas-docs/stable/user_guide/indexing.html#returning-a-view-versus-a-copy\n",
      "  df[prompt_name][i] = isMatch\n"
     ]
    },
    {
     "name": "stdout",
     "output_type": "stream",
     "text": [
      "Are the following two products the same?\n",
      "Product 1: Title: urc r6 learning remote control\n",
      "Brand: universal\n",
      "Description: rc r6 universal remote affordable control of your home theater with your new home theater you re ready to enjoy the best hollywood has to offer but you don t enjoy having a pile of remotes on your coffee table fortunately universal remote control has\n",
      "Product 2: Title: zax pro series component cable 3m\n",
      "Brand: zax\n",
      "Description: zax pro series component cable 3m connects hdtvs dvds digital monitors tvs dvrs and vcrs splits video into 3 components y pr pb for high definition picture up to 720p quad shielding nitrogen injected pe dielectric 8 cut 24k gold plated connectors spl\n",
      "\n",
      "Answer with 'True' or 'False'.\n",
      "__\n",
      "__\n",
      "False. The two products are not the same.\n",
      "__\n",
      "__\n",
      "169\n"
     ]
    },
    {
     "name": "stderr",
     "output_type": "stream",
     "text": [
      "/var/folders/gx/tzjwcf8x1llbhhf36mjt7xqr0000gn/T/ipykernel_98243/3776050204.py:45: SettingWithCopyWarning: \n",
      "A value is trying to be set on a copy of a slice from a DataFrame\n",
      "\n",
      "See the caveats in the documentation: https://pandas.pydata.org/pandas-docs/stable/user_guide/indexing.html#returning-a-view-versus-a-copy\n",
      "  df[prompt_name][i] = isMatch\n"
     ]
    },
    {
     "name": "stdout",
     "output_type": "stream",
     "text": [
      "Are the following two products the same?\n",
      "Product 1: Title: rca rcrn04gr 4 device universal remote with green backlit keypad gloss black\n",
      "Brand: rca\n",
      "Description: rca 4 device remote controls are easy to program and easy to use with a variety of designs and form factors to suit different environments or preferences these remotes are carefully engineered to put keys where you d expect making them a comfortable \n",
      "Product 2: Title: zax pro series component cable 3m\n",
      "Brand: zax\n",
      "Description: zax pro series component cable 3m connects hdtvs dvds digital monitors tvs dvrs and vcrs splits video into 3 components y pr pb for high definition picture up to 720p quad shielding nitrogen injected pe dielectric 8 cut 24k gold plated connectors spl\n",
      "\n",
      "Answer with 'True' or 'False'.\n",
      "__\n",
      "__\n",
      "True\n",
      "__\n",
      "__\n",
      "170\n"
     ]
    },
    {
     "name": "stderr",
     "output_type": "stream",
     "text": [
      "/var/folders/gx/tzjwcf8x1llbhhf36mjt7xqr0000gn/T/ipykernel_98243/3776050204.py:45: SettingWithCopyWarning: \n",
      "A value is trying to be set on a copy of a slice from a DataFrame\n",
      "\n",
      "See the caveats in the documentation: https://pandas.pydata.org/pandas-docs/stable/user_guide/indexing.html#returning-a-view-versus-a-copy\n",
      "  df[prompt_name][i] = isMatch\n"
     ]
    },
    {
     "name": "stdout",
     "output_type": "stream",
     "text": [
      "Are the following two products the same?\n",
      "Product 1: Title: vonnic b110 mounting bracket\n",
      "Brand: vonnic inc\n",
      "Description: vonnic b110 mounting bracket housing bracket\n",
      "Product 2: Title: zax pro series component cable 3m\n",
      "Brand: zax\n",
      "Description: zax pro series component cable 3m connects hdtvs dvds digital monitors tvs dvrs and vcrs splits video into 3 components y pr pb for high definition picture up to 720p quad shielding nitrogen injected pe dielectric 8 cut 24k gold plated connectors spl\n",
      "\n",
      "Answer with 'True' or 'False'.\n",
      "__\n",
      "__\n",
      "False.\n",
      "__\n",
      "__\n",
      "171\n"
     ]
    },
    {
     "name": "stderr",
     "output_type": "stream",
     "text": [
      "/var/folders/gx/tzjwcf8x1llbhhf36mjt7xqr0000gn/T/ipykernel_98243/3776050204.py:45: SettingWithCopyWarning: \n",
      "A value is trying to be set on a copy of a slice from a DataFrame\n",
      "\n",
      "See the caveats in the documentation: https://pandas.pydata.org/pandas-docs/stable/user_guide/indexing.html#returning-a-view-versus-a-copy\n",
      "  df[prompt_name][i] = isMatch\n"
     ]
    },
    {
     "name": "stdout",
     "output_type": "stream",
     "text": [
      "Are the following two products the same?\n",
      "Product 1: Title: zax 87520 pro series 2 rca jacks to rca plug y adapter\n",
      "Brand: zax\n",
      "Description: combines or separates stereo audio signals adapts 2 rca jacks to 1 rca plug delivers interference free clear audio dual shielding reduces distortion amp interference 8 cut 24k gold plated connectors for more surface area amp connection points split t\n",
      "Product 2: Title: zax pro series component cable 3m\n",
      "Brand: zax\n",
      "Description: zax pro series component cable 3m connects hdtvs dvds digital monitors tvs dvrs and vcrs splits video into 3 components y pr pb for high definition picture up to 720p quad shielding nitrogen injected pe dielectric 8 cut 24k gold plated connectors spl\n",
      "\n",
      "Answer with 'True' or 'False'.\n",
      "__\n",
      "__\n",
      "False.\n",
      "__\n",
      "__\n",
      "172\n"
     ]
    },
    {
     "name": "stderr",
     "output_type": "stream",
     "text": [
      "/var/folders/gx/tzjwcf8x1llbhhf36mjt7xqr0000gn/T/ipykernel_98243/3776050204.py:45: SettingWithCopyWarning: \n",
      "A value is trying to be set on a copy of a slice from a DataFrame\n",
      "\n",
      "See the caveats in the documentation: https://pandas.pydata.org/pandas-docs/stable/user_guide/indexing.html#returning-a-view-versus-a-copy\n",
      "  df[prompt_name][i] = isMatch\n"
     ]
    },
    {
     "name": "stdout",
     "output_type": "stream",
     "text": [
      "Are the following two products the same?\n",
      "Product 1: Title: zax pro series component cable 3m\n",
      "Brand: zax\n",
      "Description: zax pro series component cable 3m connects hdtvs dvds digital monitors tvs dvrs and vcrs splits video into 3 components y pr pb for high definition picture up to 720p quad shielding nitrogen injected pe dielectric 8 cut 24k gold plated connectors spl\n",
      "Product 2: Title: zax 85525 select series 2 rca plugs to rca jack y adapter\n",
      "Brand: zax\n",
      "Description: combines or separates stereo audio signals adapts 2 rca plugs to 1 rca jack delivers interference free clear audio dual shielding reduces distortion amp interference 4 cut 24k gold plated connectors durable molded connectors for lasting connection in\n",
      "\n",
      "Answer with 'True' or 'False'.\n",
      "__\n",
      "__\n",
      "False.\n",
      "__\n",
      "__\n",
      "173\n"
     ]
    },
    {
     "name": "stderr",
     "output_type": "stream",
     "text": [
      "/var/folders/gx/tzjwcf8x1llbhhf36mjt7xqr0000gn/T/ipykernel_98243/3776050204.py:45: SettingWithCopyWarning: \n",
      "A value is trying to be set on a copy of a slice from a DataFrame\n",
      "\n",
      "See the caveats in the documentation: https://pandas.pydata.org/pandas-docs/stable/user_guide/indexing.html#returning-a-view-versus-a-copy\n",
      "  df[prompt_name][i] = isMatch\n"
     ]
    },
    {
     "name": "stdout",
     "output_type": "stream",
     "text": [
      "Are the following two products the same?\n",
      "Product 1: Title: rca rcrv06gr 6 device voice control remote gloss black\n",
      "Brand: rca\n",
      "Description: rca rcrv06g six device voice control universal remote hands free voice control just say the word and freedom is yours rca s voice control universal remote gives you the freedom you desire just say the word and you can easily control your home theater\n",
      "Product 2: Title: middle atlantic remote control switch\n",
      "Brand: middle atlantic\n",
      "Description: df3020the control switches provide remote up down sequence initiation status led indicators can connect to our sequencing controllers remote wallplate keyswitch with led status indicators \n",
      "\n",
      "Answer with 'True' or 'False'.\n",
      "__\n",
      "__\n",
      "False.\n",
      "__\n",
      "__\n",
      "174\n"
     ]
    },
    {
     "name": "stderr",
     "output_type": "stream",
     "text": [
      "/var/folders/gx/tzjwcf8x1llbhhf36mjt7xqr0000gn/T/ipykernel_98243/3776050204.py:45: SettingWithCopyWarning: \n",
      "A value is trying to be set on a copy of a slice from a DataFrame\n",
      "\n",
      "See the caveats in the documentation: https://pandas.pydata.org/pandas-docs/stable/user_guide/indexing.html#returning-a-view-versus-a-copy\n",
      "  df[prompt_name][i] = isMatch\n"
     ]
    },
    {
     "name": "stdout",
     "output_type": "stream",
     "text": [
      "Are the following two products the same?\n",
      "Product 1: Title: middle atlantic fan grill chrome\n",
      "Brand: middle atlantic\n",
      "Description: hamburger style guard for 10 amp quot fans\n",
      "Product 2: Title: middle atlantic remote control switch\n",
      "Brand: middle atlantic\n",
      "Description: df3020the control switches provide remote up down sequence initiation status led indicators can connect to our sequencing controllers remote wallplate keyswitch with led status indicators \n",
      "\n",
      "Answer with 'True' or 'False'.\n",
      "__\n",
      "__\n",
      "False.\n",
      "__\n",
      "__\n",
      "175\n"
     ]
    },
    {
     "name": "stderr",
     "output_type": "stream",
     "text": [
      "/var/folders/gx/tzjwcf8x1llbhhf36mjt7xqr0000gn/T/ipykernel_98243/3776050204.py:45: SettingWithCopyWarning: \n",
      "A value is trying to be set on a copy of a slice from a DataFrame\n",
      "\n",
      "See the caveats in the documentation: https://pandas.pydata.org/pandas-docs/stable/user_guide/indexing.html#returning-a-view-versus-a-copy\n",
      "  df[prompt_name][i] = isMatch\n"
     ]
    },
    {
     "name": "stdout",
     "output_type": "stream",
     "text": [
      "Are the following two products the same?\n",
      "Product 1: Title: middle atlantic fc 4 1c system fan speed controller\n",
      "Brand: middle atlantic\n",
      "Description: proportional speed thermostatic fan control controls up to 4 fans stand alone with 9 cord\n",
      "Product 2: Title: middle atlantic remote control switch\n",
      "Brand: middle atlantic\n",
      "Description: df3020the control switches provide remote up down sequence initiation status led indicators can connect to our sequencing controllers remote wallplate keyswitch with led status indicators \n",
      "\n",
      "Answer with 'True' or 'False'.\n",
      "__\n",
      "__\n",
      "False.\n",
      "__\n",
      "__\n",
      "176\n"
     ]
    },
    {
     "name": "stderr",
     "output_type": "stream",
     "text": [
      "/var/folders/gx/tzjwcf8x1llbhhf36mjt7xqr0000gn/T/ipykernel_98243/3776050204.py:45: SettingWithCopyWarning: \n",
      "A value is trying to be set on a copy of a slice from a DataFrame\n",
      "\n",
      "See the caveats in the documentation: https://pandas.pydata.org/pandas-docs/stable/user_guide/indexing.html#returning-a-view-versus-a-copy\n",
      "  df[prompt_name][i] = isMatch\n"
     ]
    },
    {
     "name": "stdout",
     "output_type": "stream",
     "text": [
      "Are the following two products the same?\n",
      "Product 1: Title: zax 87802 pro series rf coaxial f pin cable 2 m\n",
      "Brand: zax\n",
      "Description: delivers television cable signal to components with rf connectionsdual shielding reduces distortion amp interferencenitrogen injected pe dielectric for a stronger signal24k gold plated connectorsprecision engineered die cast metal connectorsintegrate\n",
      "Product 2: Title: zax 87303 pro series 3m composite audio video cable\n",
      "Brand: zax\n",
      "Description: zax 87303 pro series 3m composite audio video cable provides video and stereo audio for tv vcr camcorder or other devices using stereo audio connections dual shielding reduces distortion and interference nitrogen injected pe dielectric 8 cut 24k gold\n",
      "\n",
      "Answer with 'True' or 'False'.\n",
      "__\n",
      "__\n",
      "False.\n",
      "__\n",
      "__\n",
      "177\n"
     ]
    },
    {
     "name": "stderr",
     "output_type": "stream",
     "text": [
      "/var/folders/gx/tzjwcf8x1llbhhf36mjt7xqr0000gn/T/ipykernel_98243/3776050204.py:45: SettingWithCopyWarning: \n",
      "A value is trying to be set on a copy of a slice from a DataFrame\n",
      "\n",
      "See the caveats in the documentation: https://pandas.pydata.org/pandas-docs/stable/user_guide/indexing.html#returning-a-view-versus-a-copy\n",
      "  df[prompt_name][i] = isMatch\n"
     ]
    },
    {
     "name": "stdout",
     "output_type": "stream",
     "text": [
      "Are the following two products the same?\n",
      "Product 1: Title: urc r6 learning remote control\n",
      "Brand: universal\n",
      "Description: rc r6 universal remote affordable control of your home theater with your new home theater you re ready to enjoy the best hollywood has to offer but you don t enjoy having a pile of remotes on your coffee table fortunately universal remote control has\n",
      "Product 2: Title: zax 87303 pro series 3m composite audio video cable\n",
      "Brand: zax\n",
      "Description: zax 87303 pro series 3m composite audio video cable provides video and stereo audio for tv vcr camcorder or other devices using stereo audio connections dual shielding reduces distortion and interference nitrogen injected pe dielectric 8 cut 24k gold\n",
      "\n",
      "Answer with 'True' or 'False'.\n",
      "__\n",
      "__\n",
      "False. The two products are different.\n",
      "__\n",
      "__\n",
      "178\n"
     ]
    },
    {
     "name": "stderr",
     "output_type": "stream",
     "text": [
      "/var/folders/gx/tzjwcf8x1llbhhf36mjt7xqr0000gn/T/ipykernel_98243/3776050204.py:45: SettingWithCopyWarning: \n",
      "A value is trying to be set on a copy of a slice from a DataFrame\n",
      "\n",
      "See the caveats in the documentation: https://pandas.pydata.org/pandas-docs/stable/user_guide/indexing.html#returning-a-view-versus-a-copy\n",
      "  df[prompt_name][i] = isMatch\n"
     ]
    },
    {
     "name": "stdout",
     "output_type": "stream",
     "text": [
      "Are the following two products the same?\n",
      "Product 1: Title: lens cleaning brush pen for camera lens viewfinder\n",
      "Brand: siig\n",
      "Description: siig lens cleaning brush pen ac cn0512 s1 cleaning kits\n",
      "Product 2: Title: zax 87303 pro series 3m composite audio video cable\n",
      "Brand: zax\n",
      "Description: zax 87303 pro series 3m composite audio video cable provides video and stereo audio for tv vcr camcorder or other devices using stereo audio connections dual shielding reduces distortion and interference nitrogen injected pe dielectric 8 cut 24k gold\n",
      "\n",
      "Answer with 'True' or 'False'.\n",
      "__\n",
      "__\n",
      "True.\n",
      "__\n",
      "__\n",
      "179\n"
     ]
    },
    {
     "name": "stderr",
     "output_type": "stream",
     "text": [
      "/var/folders/gx/tzjwcf8x1llbhhf36mjt7xqr0000gn/T/ipykernel_98243/3776050204.py:45: SettingWithCopyWarning: \n",
      "A value is trying to be set on a copy of a slice from a DataFrame\n",
      "\n",
      "See the caveats in the documentation: https://pandas.pydata.org/pandas-docs/stable/user_guide/indexing.html#returning-a-view-versus-a-copy\n",
      "  df[prompt_name][i] = isMatch\n"
     ]
    },
    {
     "name": "stdout",
     "output_type": "stream",
     "text": [
      "Are the following two products the same?\n",
      "Product 1: Title: zax 87303 pro series 3m composite audio video cable\n",
      "Brand: zax\n",
      "Description: zax 87303 pro series 3m composite audio video cable provides video and stereo audio for tv vcr camcorder or other devices using stereo audio connections dual shielding reduces distortion and interference nitrogen injected pe dielectric 8 cut 24k gold\n",
      "Product 2: Title: zax 85525 select series 2 rca plugs to rca jack y adapter\n",
      "Brand: zax\n",
      "Description: combines or separates stereo audio signals adapts 2 rca plugs to 1 rca jack delivers interference free clear audio dual shielding reduces distortion amp interference 4 cut 24k gold plated connectors durable molded connectors for lasting connection in\n",
      "\n",
      "Answer with 'True' or 'False'.\n",
      "__\n",
      "__\n",
      "False.\n",
      "__\n",
      "__\n",
      "180\n"
     ]
    },
    {
     "name": "stderr",
     "output_type": "stream",
     "text": [
      "/var/folders/gx/tzjwcf8x1llbhhf36mjt7xqr0000gn/T/ipykernel_98243/3776050204.py:45: SettingWithCopyWarning: \n",
      "A value is trying to be set on a copy of a slice from a DataFrame\n",
      "\n",
      "See the caveats in the documentation: https://pandas.pydata.org/pandas-docs/stable/user_guide/indexing.html#returning-a-view-versus-a-copy\n",
      "  df[prompt_name][i] = isMatch\n"
     ]
    },
    {
     "name": "stdout",
     "output_type": "stream",
     "text": [
      "Are the following two products the same?\n",
      "Product 1: Title: comprehensive xlrj 3n premium 3 pin xlr jack\n",
      "Brand: comprehensive\n",
      "Description: these premium xlr connectors are manufactured for the true audio professional comprehensive premium xlr connectors have an extremely rugged die cast housing with superior strain relief xlr connectors come in 3 4 and 5 pin versions and are extremely\n",
      "Product 2: Title: comprehensive wallplate with vga stereo mini rj 45 and 3 rca connectors\n",
      "Brand: comprehensive\n",
      "Description: ch1666this double gang wall plate has an anodized clear backing plate with vga stereo mini rj 45 and 3 rca connectors it is available in both a soldering required version and a passthru solder free version features vga connector stereo mini connector\n",
      "\n",
      "Answer with 'True' or 'False'.\n",
      "__\n",
      "__\n",
      "False.\n",
      "__\n",
      "__\n",
      "181\n"
     ]
    },
    {
     "name": "stderr",
     "output_type": "stream",
     "text": [
      "/var/folders/gx/tzjwcf8x1llbhhf36mjt7xqr0000gn/T/ipykernel_98243/3776050204.py:45: SettingWithCopyWarning: \n",
      "A value is trying to be set on a copy of a slice from a DataFrame\n",
      "\n",
      "See the caveats in the documentation: https://pandas.pydata.org/pandas-docs/stable/user_guide/indexing.html#returning-a-view-versus-a-copy\n",
      "  df[prompt_name][i] = isMatch\n"
     ]
    },
    {
     "name": "stdout",
     "output_type": "stream",
     "text": [
      "Are the following two products the same?\n",
      "Product 1: Title: middle atlantic rackmount power strip pd 815r pl power distribution strip rack mountable ac 115 v 8 output connector s 1u\n",
      "Brand: middle atlantic\n",
      "Description: 8 outlet single 15 amp circuit surge spike protected rackmount power distribution w 9 cord black powdercoat finish\n",
      "Product 2: Title: middle atlantic remote control switch\n",
      "Brand: middle atlantic\n",
      "Description: df3020the control switches provide remote up down sequence initiation status led indicators can connect to our sequencing controllers remote wallplate keyswitch with led status indicators \n",
      "\n",
      "Answer with 'True' or 'False'.\n",
      "__\n",
      "__\n",
      "False.\n",
      "__\n",
      "__\n",
      "182\n"
     ]
    },
    {
     "name": "stderr",
     "output_type": "stream",
     "text": [
      "/var/folders/gx/tzjwcf8x1llbhhf36mjt7xqr0000gn/T/ipykernel_98243/3776050204.py:45: SettingWithCopyWarning: \n",
      "A value is trying to be set on a copy of a slice from a DataFrame\n",
      "\n",
      "See the caveats in the documentation: https://pandas.pydata.org/pandas-docs/stable/user_guide/indexing.html#returning-a-view-versus-a-copy\n",
      "  df[prompt_name][i] = isMatch\n"
     ]
    },
    {
     "name": "stdout",
     "output_type": "stream",
     "text": [
      "Are the following two products the same?\n",
      "Product 1: Title: middle atlantic rackmount power strip pd 815r pl power distribution strip rack mountable ac 115 v 8 output connector s 1u\n",
      "Brand: middle atlantic\n",
      "Description: 8 outlet single 15 amp circuit surge spike protected rackmount power distribution w 9 cord black powdercoat finish\n",
      "Product 2: Title: middle atlantic drk series cable management brush grommel panel\n",
      "Brand: middle atlantic\n",
      "Description: df1274features panels provide a clean organized cable entry method when used in conjunction with any work surface built in cable management tray available in 1u 1 3 4 h or 2u 3 1 2 h space versions note 2 space brush grommet panel fits in opening on \n",
      "\n",
      "Answer with 'True' or 'False'.\n",
      "__\n",
      "__\n",
      "False. The two products are different.\n",
      "__\n",
      "__\n",
      "183\n"
     ]
    },
    {
     "name": "stderr",
     "output_type": "stream",
     "text": [
      "/var/folders/gx/tzjwcf8x1llbhhf36mjt7xqr0000gn/T/ipykernel_98243/3776050204.py:45: SettingWithCopyWarning: \n",
      "A value is trying to be set on a copy of a slice from a DataFrame\n",
      "\n",
      "See the caveats in the documentation: https://pandas.pydata.org/pandas-docs/stable/user_guide/indexing.html#returning-a-view-versus-a-copy\n",
      "  df[prompt_name][i] = isMatch\n"
     ]
    },
    {
     "name": "stdout",
     "output_type": "stream",
     "text": [
      "Are the following two products the same?\n",
      "Product 1: Title: middle atlantic rackmount power strip pd 815r pl power distribution strip rack mountable ac 115 v 8 output connector s 1u\n",
      "Brand: middle atlantic\n",
      "Description: 8 outlet single 15 amp circuit surge spike protected rackmount power distribution w 9 cord black powdercoat finish\n",
      "Product 2: Title: middle atlantic 12 master slave jumper for mpr series modules sold in packs of 6\n",
      "Brand: middle atlantic\n",
      "Description: df1784allows m series slave modules to be switched remotely by an rlm series master module features 12 jumper length sold in packs of 6\n",
      "\n",
      "Answer with 'True' or 'False'.\n",
      "__\n",
      "__\n",
      "False.\n",
      "__\n",
      "__\n",
      "184\n"
     ]
    },
    {
     "name": "stderr",
     "output_type": "stream",
     "text": [
      "/var/folders/gx/tzjwcf8x1llbhhf36mjt7xqr0000gn/T/ipykernel_98243/3776050204.py:45: SettingWithCopyWarning: \n",
      "A value is trying to be set on a copy of a slice from a DataFrame\n",
      "\n",
      "See the caveats in the documentation: https://pandas.pydata.org/pandas-docs/stable/user_guide/indexing.html#returning-a-view-versus-a-copy\n",
      "  df[prompt_name][i] = isMatch\n"
     ]
    },
    {
     "name": "stdout",
     "output_type": "stream",
     "text": [
      "Are the following two products the same?\n",
      "Product 1: Title: middle atlantic rackmount power strip pd 815r pl power distribution strip rack mountable ac 115 v 8 output connector s 1u\n",
      "Brand: middle atlantic\n",
      "Description: 8 outlet single 15 amp circuit surge spike protected rackmount power distribution w 9 cord black powdercoat finish\n",
      "Product 2: Title: middle atlantic long 20 outlet single 20 amp circuit thin power strip with cord\n",
      "Brand: middle atlantic\n",
      "Description: df2014pdt series thin power strips take up minimal space inside a rack and feature a unique design that allows for isolated ground configurability dual circuit models can be configured to operate as a single circuit and all models are factory assembl\n",
      "\n",
      "Answer with 'True' or 'False'.\n",
      "__\n",
      "__\n",
      "False.\n",
      "__\n",
      "__\n",
      "185\n"
     ]
    },
    {
     "name": "stderr",
     "output_type": "stream",
     "text": [
      "/var/folders/gx/tzjwcf8x1llbhhf36mjt7xqr0000gn/T/ipykernel_98243/3776050204.py:45: SettingWithCopyWarning: \n",
      "A value is trying to be set on a copy of a slice from a DataFrame\n",
      "\n",
      "See the caveats in the documentation: https://pandas.pydata.org/pandas-docs/stable/user_guide/indexing.html#returning-a-view-versus-a-copy\n",
      "  df[prompt_name][i] = isMatch\n"
     ]
    },
    {
     "name": "stdout",
     "output_type": "stream",
     "text": [
      "Are the following two products the same?\n",
      "Product 1: Title: middle atlantic rackmount power strip pd 815r pl power distribution strip rack mountable ac 115 v 8 output connector s 1u\n",
      "Brand: middle atlantic\n",
      "Description: 8 outlet single 15 amp circuit surge spike protected rackmount power distribution w 9 cord black powdercoat finish\n",
      "Product 2: Title: middle atlantic hdr 4 external fan option\n",
      "Brand: middle atlantic\n",
      "Description: df1758external 4 1 2 fan kit and vent blocker \n",
      "\n",
      "Answer with 'True' or 'False'.\n",
      "__\n",
      "__\n",
      "False.\n",
      "__\n",
      "__\n",
      "186\n"
     ]
    },
    {
     "name": "stderr",
     "output_type": "stream",
     "text": [
      "/var/folders/gx/tzjwcf8x1llbhhf36mjt7xqr0000gn/T/ipykernel_98243/3776050204.py:45: SettingWithCopyWarning: \n",
      "A value is trying to be set on a copy of a slice from a DataFrame\n",
      "\n",
      "See the caveats in the documentation: https://pandas.pydata.org/pandas-docs/stable/user_guide/indexing.html#returning-a-view-versus-a-copy\n",
      "  df[prompt_name][i] = isMatch\n"
     ]
    },
    {
     "name": "stdout",
     "output_type": "stream",
     "text": [
      "Are the following two products the same?\n",
      "Product 1: Title: middle atlantic rackmount power strip pd 815r pl power distribution strip rack mountable ac 115 v 8 output connector s 1u\n",
      "Brand: middle atlantic\n",
      "Description: 8 outlet single 15 amp circuit surge spike protected rackmount power distribution w 9 cord black powdercoat finish\n",
      "Product 2: Title: middle atlantic designer inspired ultra quiet fan panel\n",
      "Brand: middle atlantic\n",
      "Description: df3017features thermostatic proportional fan control 100 cfm cooling capacity tasteful subdued temperature and alert display provides instant system status on board digital processor varies fan speed based on equipment temperature which is monitored \n",
      "\n",
      "Answer with 'True' or 'False'.\n",
      "__\n",
      "__\n",
      "False.\n",
      "__\n",
      "__\n",
      "187\n"
     ]
    },
    {
     "name": "stderr",
     "output_type": "stream",
     "text": [
      "/var/folders/gx/tzjwcf8x1llbhhf36mjt7xqr0000gn/T/ipykernel_98243/3776050204.py:45: SettingWithCopyWarning: \n",
      "A value is trying to be set on a copy of a slice from a DataFrame\n",
      "\n",
      "See the caveats in the documentation: https://pandas.pydata.org/pandas-docs/stable/user_guide/indexing.html#returning-a-view-versus-a-copy\n",
      "  df[prompt_name][i] = isMatch\n"
     ]
    },
    {
     "name": "stdout",
     "output_type": "stream",
     "text": [
      "Are the following two products the same?\n",
      "Product 1: Title: rca rcrv06gr 6 device voice control remote gloss black\n",
      "Brand: rca\n",
      "Description: rca rcrv06g six device voice control universal remote hands free voice control just say the word and freedom is yours rca s voice control universal remote gives you the freedom you desire just say the word and you can easily control your home theater\n",
      "Product 2: Title: accell greencable series 1m hdmi a 1 3 cable\n",
      "Brand: accell\n",
      "Description: key features data transfer rate 10 2gbps ideal for blu ray players supports up to 1080p resolution supports up to 7 1 audio 24k gold plated connectors cable length 1m\n",
      "\n",
      "Answer with 'True' or 'False'.\n",
      "__\n",
      "__\n",
      "False.\n",
      "__\n",
      "__\n",
      "188\n"
     ]
    },
    {
     "name": "stderr",
     "output_type": "stream",
     "text": [
      "/var/folders/gx/tzjwcf8x1llbhhf36mjt7xqr0000gn/T/ipykernel_98243/3776050204.py:45: SettingWithCopyWarning: \n",
      "A value is trying to be set on a copy of a slice from a DataFrame\n",
      "\n",
      "See the caveats in the documentation: https://pandas.pydata.org/pandas-docs/stable/user_guide/indexing.html#returning-a-view-versus-a-copy\n",
      "  df[prompt_name][i] = isMatch\n"
     ]
    },
    {
     "name": "stdout",
     "output_type": "stream",
     "text": [
      "Are the following two products the same?\n",
      "Product 1: Title: accell pro hdmia locking connector 1m retail bag\n",
      "Brand: accell\n",
      "Description: accell corp avgrip pro hdmi cable b104c 003b a v device cables\n",
      "Product 2: Title: accell greencable series 1m hdmi a 1 3 cable\n",
      "Brand: accell\n",
      "Description: key features data transfer rate 10 2gbps ideal for blu ray players supports up to 1080p resolution supports up to 7 1 audio 24k gold plated connectors cable length 1m\n",
      "\n",
      "Answer with 'True' or 'False'.\n",
      "__\n",
      "__\n",
      "False.\n",
      "__\n",
      "__\n",
      "189\n"
     ]
    },
    {
     "name": "stderr",
     "output_type": "stream",
     "text": [
      "/var/folders/gx/tzjwcf8x1llbhhf36mjt7xqr0000gn/T/ipykernel_98243/3776050204.py:45: SettingWithCopyWarning: \n",
      "A value is trying to be set on a copy of a slice from a DataFrame\n",
      "\n",
      "See the caveats in the documentation: https://pandas.pydata.org/pandas-docs/stable/user_guide/indexing.html#returning-a-view-versus-a-copy\n",
      "  df[prompt_name][i] = isMatch\n"
     ]
    },
    {
     "name": "stdout",
     "output_type": "stream",
     "text": [
      "Are the following two products the same?\n",
      "Product 1: Title: accell ultraav b101b 003b display port with vga active adapter\n",
      "Brand: accell\n",
      "Description: the ultraav displayport to vga cable adapter enables the connection of your displayport supported computer to a vga hd 15 supported monitor or other vga display it supports vga analog resolutions of up to 1920x1200 wuxga 60hz and is simple to setup a\n",
      "Product 2: Title: accell greencable series 1m hdmi a 1 3 cable\n",
      "Brand: accell\n",
      "Description: key features data transfer rate 10 2gbps ideal for blu ray players supports up to 1080p resolution supports up to 7 1 audio 24k gold plated connectors cable length 1m\n",
      "\n",
      "Answer with 'True' or 'False'.\n",
      "__\n",
      "__\n",
      "False.\n",
      "__\n",
      "__\n",
      "190\n"
     ]
    },
    {
     "name": "stderr",
     "output_type": "stream",
     "text": [
      "/var/folders/gx/tzjwcf8x1llbhhf36mjt7xqr0000gn/T/ipykernel_98243/3776050204.py:45: SettingWithCopyWarning: \n",
      "A value is trying to be set on a copy of a slice from a DataFrame\n",
      "\n",
      "See the caveats in the documentation: https://pandas.pydata.org/pandas-docs/stable/user_guide/indexing.html#returning-a-view-versus-a-copy\n",
      "  df[prompt_name][i] = isMatch\n"
     ]
    },
    {
     "name": "stdout",
     "output_type": "stream",
     "text": [
      "Are the following two products the same?\n",
      "Product 1: Title: accell proultra supreme b116c 016b 40 high speed hdmi cable with ethernet 5m\n",
      "Brand: accell\n",
      "Description: accell proultra supreme high speed hdmi cable with ethernet provides a data transfer rate of up to 10 2 gbps 340mhz and is fully compliant to the high speed hdmi specification compatible with all hdmi devices the proultra supreme high speed cable sup\n",
      "Product 2: Title: accell greencable series 1m hdmi a 1 3 cable\n",
      "Brand: accell\n",
      "Description: key features data transfer rate 10 2gbps ideal for blu ray players supports up to 1080p resolution supports up to 7 1 audio 24k gold plated connectors cable length 1m\n",
      "\n",
      "Answer with 'True' or 'False'.\n",
      "__\n",
      "__\n",
      "False.\n",
      "__\n",
      "__\n",
      "191\n"
     ]
    },
    {
     "name": "stderr",
     "output_type": "stream",
     "text": [
      "/var/folders/gx/tzjwcf8x1llbhhf36mjt7xqr0000gn/T/ipykernel_98243/3776050204.py:45: SettingWithCopyWarning: \n",
      "A value is trying to be set on a copy of a slice from a DataFrame\n",
      "\n",
      "See the caveats in the documentation: https://pandas.pydata.org/pandas-docs/stable/user_guide/indexing.html#returning-a-view-versus-a-copy\n",
      "  df[prompt_name][i] = isMatch\n"
     ]
    },
    {
     "name": "stdout",
     "output_type": "stream",
     "text": [
      "Are the following two products the same?\n",
      "Product 1: Title: lg an mr200 magic motion remote for lg smart tv black\n",
      "Brand: lg\n",
      "Description: get the most out of your lg smart tv by using the magic remote the remote acts like a mouse allowing you to simply point at the screen from the comfort of your couch and selecting the smart tv service or application your would like to launch it could\n",
      "Product 2: Title: ge rca extension adapter 2pk\n",
      "Brand: general electric\n",
      "Description: ge rca extension adapter 2pk connects 2 rca cables extends the length of the rca cables model 32630\n",
      "\n",
      "Answer with 'True' or 'False'.\n",
      "__\n",
      "__\n",
      "False.\n",
      "__\n",
      "__\n",
      "192\n"
     ]
    },
    {
     "name": "stderr",
     "output_type": "stream",
     "text": [
      "/var/folders/gx/tzjwcf8x1llbhhf36mjt7xqr0000gn/T/ipykernel_98243/3776050204.py:45: SettingWithCopyWarning: \n",
      "A value is trying to be set on a copy of a slice from a DataFrame\n",
      "\n",
      "See the caveats in the documentation: https://pandas.pydata.org/pandas-docs/stable/user_guide/indexing.html#returning-a-view-versus-a-copy\n",
      "  df[prompt_name][i] = isMatch\n"
     ]
    },
    {
     "name": "stdout",
     "output_type": "stream",
     "text": [
      "Are the following two products the same?\n",
      "Product 1: Title: lg an mr200 magic motion remote for lg smart tv black\n",
      "Brand: lg\n",
      "Description: get the most out of your lg smart tv by using the magic remote the remote acts like a mouse allowing you to simply point at the screen from the comfort of your couch and selecting the smart tv service or application your would like to launch it could\n",
      "Product 2: Title: lg 32 ultra slim 32lv2500\n",
      "Brand: lg\n",
      "Description: lg 32 screen measured diagonally from corner to corner built in digital tuner watch digital broadcasts including hdtv programs where available 1 000 000 1 dynamic contrast ratio hdmi inputs 3 enjoy a superior hd experience with hdmi one cable solutio\n",
      "\n",
      "Answer with 'True' or 'False'.\n",
      "__\n",
      "__\n",
      "False.\n",
      "__\n",
      "__\n",
      "193\n"
     ]
    },
    {
     "name": "stderr",
     "output_type": "stream",
     "text": [
      "/var/folders/gx/tzjwcf8x1llbhhf36mjt7xqr0000gn/T/ipykernel_98243/3776050204.py:45: SettingWithCopyWarning: \n",
      "A value is trying to be set on a copy of a slice from a DataFrame\n",
      "\n",
      "See the caveats in the documentation: https://pandas.pydata.org/pandas-docs/stable/user_guide/indexing.html#returning-a-view-versus-a-copy\n",
      "  df[prompt_name][i] = isMatch\n"
     ]
    },
    {
     "name": "stdout",
     "output_type": "stream",
     "text": [
      "Are the following two products the same?\n",
      "Product 1: Title: lg an mr200 magic motion remote for lg smart tv black\n",
      "Brand: lg\n",
      "Description: get the most out of your lg smart tv by using the magic remote the remote acts like a mouse allowing you to simply point at the screen from the comfort of your couch and selecting the smart tv service or application your would like to launch it could\n",
      "Product 2: Title: zax pro series component cable 3m\n",
      "Brand: zax\n",
      "Description: zax pro series component cable 3m connects hdtvs dvds digital monitors tvs dvrs and vcrs splits video into 3 components y pr pb for high definition picture up to 720p quad shielding nitrogen injected pe dielectric 8 cut 24k gold plated connectors spl\n",
      "\n",
      "Answer with 'True' or 'False'.\n",
      "__\n",
      "__\n",
      "False.\n",
      "__\n",
      "__\n",
      "194\n"
     ]
    },
    {
     "name": "stderr",
     "output_type": "stream",
     "text": [
      "/var/folders/gx/tzjwcf8x1llbhhf36mjt7xqr0000gn/T/ipykernel_98243/3776050204.py:45: SettingWithCopyWarning: \n",
      "A value is trying to be set on a copy of a slice from a DataFrame\n",
      "\n",
      "See the caveats in the documentation: https://pandas.pydata.org/pandas-docs/stable/user_guide/indexing.html#returning-a-view-versus-a-copy\n",
      "  df[prompt_name][i] = isMatch\n"
     ]
    },
    {
     "name": "stdout",
     "output_type": "stream",
     "text": [
      "Are the following two products the same?\n",
      "Product 1: Title: lg an mr200 magic motion remote for lg smart tv black\n",
      "Brand: lg\n",
      "Description: get the most out of your lg smart tv by using the magic remote the remote acts like a mouse allowing you to simply point at the screen from the comfort of your couch and selecting the smart tv service or application your would like to launch it could\n",
      "Product 2: Title: comprehensive 1 4 standard stereo phone jack cable end set of 25\n",
      "Brand: comprehensive\n",
      "Description: ch1273these standard 1 4 stereo phone jacks come equipped with a cable end as well as the comprehensive lifetime warranty comprehensive offers a lifetime warranty on all products\n",
      "\n",
      "Answer with 'True' or 'False'.\n",
      "__\n",
      "__\n",
      "False.\n",
      "__\n",
      "__\n",
      "195\n"
     ]
    },
    {
     "name": "stderr",
     "output_type": "stream",
     "text": [
      "/var/folders/gx/tzjwcf8x1llbhhf36mjt7xqr0000gn/T/ipykernel_98243/3776050204.py:45: SettingWithCopyWarning: \n",
      "A value is trying to be set on a copy of a slice from a DataFrame\n",
      "\n",
      "See the caveats in the documentation: https://pandas.pydata.org/pandas-docs/stable/user_guide/indexing.html#returning-a-view-versus-a-copy\n",
      "  df[prompt_name][i] = isMatch\n"
     ]
    },
    {
     "name": "stdout",
     "output_type": "stream",
     "text": [
      "Are the following two products the same?\n",
      "Product 1: Title: lg an mr200 magic motion remote for lg smart tv black\n",
      "Brand: lg\n",
      "Description: get the most out of your lg smart tv by using the magic remote the remote acts like a mouse allowing you to simply point at the screen from the comfort of your couch and selecting the smart tv service or application your would like to launch it could\n",
      "Product 2: Title: middle atlantic long 20 outlet single 20 amp circuit thin power strip with cord\n",
      "Brand: middle atlantic\n",
      "Description: df2014pdt series thin power strips take up minimal space inside a rack and feature a unique design that allows for isolated ground configurability dual circuit models can be configured to operate as a single circuit and all models are factory assembl\n",
      "\n",
      "Answer with 'True' or 'False'.\n",
      "__\n",
      "__\n",
      "False.\n",
      "__\n",
      "__\n",
      "196\n"
     ]
    },
    {
     "name": "stderr",
     "output_type": "stream",
     "text": [
      "/var/folders/gx/tzjwcf8x1llbhhf36mjt7xqr0000gn/T/ipykernel_98243/3776050204.py:45: SettingWithCopyWarning: \n",
      "A value is trying to be set on a copy of a slice from a DataFrame\n",
      "\n",
      "See the caveats in the documentation: https://pandas.pydata.org/pandas-docs/stable/user_guide/indexing.html#returning-a-view-versus-a-copy\n",
      "  df[prompt_name][i] = isMatch\n"
     ]
    },
    {
     "name": "stdout",
     "output_type": "stream",
     "text": [
      "Are the following two products the same?\n",
      "Product 1: Title: lg an mr200 magic motion remote for lg smart tv black\n",
      "Brand: lg\n",
      "Description: get the most out of your lg smart tv by using the magic remote the remote acts like a mouse allowing you to simply point at the screen from the comfort of your couch and selecting the smart tv service or application your would like to launch it could\n",
      "Product 2: Title: cables unlimited ultrafast hardcore gaming hdmi cable\n",
      "Brand: cables unlimited\n",
      "Description: cables unlimited ultrafast hardcore gaming hdmi cable 6 high speed hdmi cable hdmi atc certified high speed hdmi cables supports 3d over hdmi feature for true 3d gaming 3d tv and 3d home theater applications 4k video support for resolutions far beyon\n",
      "\n",
      "Answer with 'True' or 'False'.\n",
      "__\n",
      "__\n",
      "False.\n",
      "__\n",
      "__\n",
      "197\n"
     ]
    },
    {
     "name": "stderr",
     "output_type": "stream",
     "text": [
      "/var/folders/gx/tzjwcf8x1llbhhf36mjt7xqr0000gn/T/ipykernel_98243/3776050204.py:45: SettingWithCopyWarning: \n",
      "A value is trying to be set on a copy of a slice from a DataFrame\n",
      "\n",
      "See the caveats in the documentation: https://pandas.pydata.org/pandas-docs/stable/user_guide/indexing.html#returning-a-view-versus-a-copy\n",
      "  df[prompt_name][i] = isMatch\n"
     ]
    },
    {
     "name": "stdout",
     "output_type": "stream",
     "text": [
      "Are the following two products the same?\n",
      "Product 1: Title: lg an mr200 magic motion remote for lg smart tv black\n",
      "Brand: lg\n",
      "Description: get the most out of your lg smart tv by using the magic remote the remote acts like a mouse allowing you to simply point at the screen from the comfort of your couch and selecting the smart tv service or application your would like to launch it could\n",
      "Product 2: Title: universal remote kp 900wh ir rf wireless keypad remote with mounting bracket black\n",
      "Brand: universal remote\n",
      "Description: universal remote kp 900wh ir rf wireless keypad remote with mounting bracket controls up to 255 devices controls all home a v equipment backlit lcd screen dual use wireless keypad learning and macro capabilities can be installed in any room without t\n",
      "\n",
      "Answer with 'True' or 'False'.\n",
      "__\n",
      "__\n",
      "False.\n",
      "__\n",
      "__\n",
      "198\n"
     ]
    },
    {
     "name": "stderr",
     "output_type": "stream",
     "text": [
      "/var/folders/gx/tzjwcf8x1llbhhf36mjt7xqr0000gn/T/ipykernel_98243/3776050204.py:45: SettingWithCopyWarning: \n",
      "A value is trying to be set on a copy of a slice from a DataFrame\n",
      "\n",
      "See the caveats in the documentation: https://pandas.pydata.org/pandas-docs/stable/user_guide/indexing.html#returning-a-view-versus-a-copy\n",
      "  df[prompt_name][i] = isMatch\n"
     ]
    },
    {
     "name": "stdout",
     "output_type": "stream",
     "text": [
      "Are the following two products the same?\n",
      "Product 1: Title: lg an mr200 magic motion remote for lg smart tv black\n",
      "Brand: lg\n",
      "Description: get the most out of your lg smart tv by using the magic remote the remote acts like a mouse allowing you to simply point at the screen from the comfort of your couch and selecting the smart tv service or application your would like to launch it could\n",
      "Product 2: Title: comprehensive 1 4 standard phone plug to 3 pin xlr jack set of 10\n",
      "Brand: comprehensive\n",
      "Description: ch1293comprehensive premium standard phone 1 4 plug to xlr jack audio adapter comprehensive offers a lifetime warranty on all products\n",
      "\n",
      "Answer with 'True' or 'False'.\n",
      "__\n",
      "__\n",
      "True\n",
      "__\n",
      "__\n",
      "199\n"
     ]
    },
    {
     "name": "stderr",
     "output_type": "stream",
     "text": [
      "/var/folders/gx/tzjwcf8x1llbhhf36mjt7xqr0000gn/T/ipykernel_98243/3776050204.py:45: SettingWithCopyWarning: \n",
      "A value is trying to be set on a copy of a slice from a DataFrame\n",
      "\n",
      "See the caveats in the documentation: https://pandas.pydata.org/pandas-docs/stable/user_guide/indexing.html#returning-a-view-versus-a-copy\n",
      "  df[prompt_name][i] = isMatch\n"
     ]
    },
    {
     "name": "stdout",
     "output_type": "stream",
     "text": [
      "Are the following two products the same?\n",
      "Product 1: Title: lg an mr200 magic motion remote for lg smart tv black\n",
      "Brand: lg\n",
      "Description: get the most out of your lg smart tv by using the magic remote the remote acts like a mouse allowing you to simply point at the screen from the comfort of your couch and selecting the smart tv service or application your would like to launch it could\n",
      "Product 2: Title: zax 87303 pro series 3m composite audio video cable\n",
      "Brand: zax\n",
      "Description: zax 87303 pro series 3m composite audio video cable provides video and stereo audio for tv vcr camcorder or other devices using stereo audio connections dual shielding reduces distortion and interference nitrogen injected pe dielectric 8 cut 24k gold\n",
      "\n",
      "Answer with 'True' or 'False'.\n",
      "__\n",
      "__\n",
      "False.\n",
      "__\n",
      "__\n",
      "200\n"
     ]
    },
    {
     "name": "stderr",
     "output_type": "stream",
     "text": [
      "/var/folders/gx/tzjwcf8x1llbhhf36mjt7xqr0000gn/T/ipykernel_98243/3776050204.py:45: SettingWithCopyWarning: \n",
      "A value is trying to be set on a copy of a slice from a DataFrame\n",
      "\n",
      "See the caveats in the documentation: https://pandas.pydata.org/pandas-docs/stable/user_guide/indexing.html#returning-a-view-versus-a-copy\n",
      "  df[prompt_name][i] = isMatch\n"
     ]
    },
    {
     "name": "stdout",
     "output_type": "stream",
     "text": [
      "Are the following two products the same?\n",
      "Product 1: Title: lg an mr200 magic motion remote for lg smart tv black\n",
      "Brand: lg\n",
      "Description: get the most out of your lg smart tv by using the magic remote the remote acts like a mouse allowing you to simply point at the screen from the comfort of your couch and selecting the smart tv service or application your would like to launch it could\n",
      "Product 2: Title: cables to go 40316 velocity hdmi high definition multimedia interconnect\n",
      "Brand: cables to go\n",
      "Description: connector on first end 1 x male hdmi connector on second end 1 x male hdmi cable type hdmi cable length 9 84 ft compatible with projection tvs a v receivers displays and digital audio video sources\n",
      "\n",
      "Answer with 'True' or 'False'.\n",
      "__\n",
      "__\n",
      "False.\n",
      "__\n",
      "__\n",
      "201\n"
     ]
    },
    {
     "name": "stderr",
     "output_type": "stream",
     "text": [
      "/var/folders/gx/tzjwcf8x1llbhhf36mjt7xqr0000gn/T/ipykernel_98243/3776050204.py:45: SettingWithCopyWarning: \n",
      "A value is trying to be set on a copy of a slice from a DataFrame\n",
      "\n",
      "See the caveats in the documentation: https://pandas.pydata.org/pandas-docs/stable/user_guide/indexing.html#returning-a-view-versus-a-copy\n",
      "  df[prompt_name][i] = isMatch\n"
     ]
    },
    {
     "name": "stdout",
     "output_type": "stream",
     "text": [
      "Are the following two products the same?\n",
      "Product 1: Title: lg an mr200 magic motion remote for lg smart tv black\n",
      "Brand: lg\n",
      "Description: get the most out of your lg smart tv by using the magic remote the remote acts like a mouse allowing you to simply point at the screen from the comfort of your couch and selecting the smart tv service or application your would like to launch it could\n",
      "Product 2: Title: level mount motorized full motion mount for flat screen tv s 10 42 screens\n",
      "Brand: level mount\n",
      "Description: lvm1009 features black aluminum and steel for lcd or plasma tvs 10 42 up to 100lbs built in bubble level stud finder all hardware included pan 30 degrees tilt 15 degrees and extend 10 5 cord management system neatly gathers cords vesa 75 100 200 400 \n",
      "\n",
      "Answer with 'True' or 'False'.\n",
      "__\n",
      "__\n",
      "False.\n",
      "__\n",
      "__\n",
      "202\n"
     ]
    },
    {
     "name": "stderr",
     "output_type": "stream",
     "text": [
      "/var/folders/gx/tzjwcf8x1llbhhf36mjt7xqr0000gn/T/ipykernel_98243/3776050204.py:45: SettingWithCopyWarning: \n",
      "A value is trying to be set on a copy of a slice from a DataFrame\n",
      "\n",
      "See the caveats in the documentation: https://pandas.pydata.org/pandas-docs/stable/user_guide/indexing.html#returning-a-view-versus-a-copy\n",
      "  df[prompt_name][i] = isMatch\n"
     ]
    },
    {
     "name": "stdout",
     "output_type": "stream",
     "text": [
      "Are the following two products the same?\n",
      "Product 1: Title: lg an mr200 magic motion remote for lg smart tv black\n",
      "Brand: lg\n",
      "Description: get the most out of your lg smart tv by using the magic remote the remote acts like a mouse allowing you to simply point at the screen from the comfort of your couch and selecting the smart tv service or application your would like to launch it could\n",
      "Product 2: Title: comprehensive f plug to bnc plug set of 25\n",
      "Brand: comprehensive\n",
      "Description: ch1230these f plug to bnc plug video cables include the comprehensive cable lifetime warranty comprehensive offers a lifetime warranty on all products\n",
      "\n",
      "Answer with 'True' or 'False'.\n",
      "__\n",
      "__\n",
      "False.\n",
      "__\n",
      "__\n",
      "203\n"
     ]
    },
    {
     "name": "stderr",
     "output_type": "stream",
     "text": [
      "/var/folders/gx/tzjwcf8x1llbhhf36mjt7xqr0000gn/T/ipykernel_98243/3776050204.py:45: SettingWithCopyWarning: \n",
      "A value is trying to be set on a copy of a slice from a DataFrame\n",
      "\n",
      "See the caveats in the documentation: https://pandas.pydata.org/pandas-docs/stable/user_guide/indexing.html#returning-a-view-versus-a-copy\n",
      "  df[prompt_name][i] = isMatch\n"
     ]
    },
    {
     "name": "stdout",
     "output_type": "stream",
     "text": [
      "Are the following two products the same?\n",
      "Product 1: Title: lg an mr200 magic motion remote for lg smart tv black\n",
      "Brand: lg\n",
      "Description: get the most out of your lg smart tv by using the magic remote the remote acts like a mouse allowing you to simply point at the screen from the comfort of your couch and selecting the smart tv service or application your would like to launch it could\n",
      "Product 2: Title: comprehensive 25 pin male connector with hood set of 25\n",
      "Brand: comprehensive\n",
      "Description: ch1305these 25 pin male connectors with hood include the comprehensive lifetime warranty comprehensive offers a lifetime warranty on all products\n",
      "\n",
      "Answer with 'True' or 'False'.\n",
      "__\n",
      "__\n",
      "False.\n",
      "__\n",
      "__\n",
      "204\n"
     ]
    },
    {
     "name": "stderr",
     "output_type": "stream",
     "text": [
      "/var/folders/gx/tzjwcf8x1llbhhf36mjt7xqr0000gn/T/ipykernel_98243/3776050204.py:45: SettingWithCopyWarning: \n",
      "A value is trying to be set on a copy of a slice from a DataFrame\n",
      "\n",
      "See the caveats in the documentation: https://pandas.pydata.org/pandas-docs/stable/user_guide/indexing.html#returning-a-view-versus-a-copy\n",
      "  df[prompt_name][i] = isMatch\n"
     ]
    },
    {
     "name": "stdout",
     "output_type": "stream",
     "text": [
      "Are the following two products the same?\n",
      "Product 1: Title: lg an mr200 magic motion remote for lg smart tv black\n",
      "Brand: lg\n",
      "Description: get the most out of your lg smart tv by using the magic remote the remote acts like a mouse allowing you to simply point at the screen from the comfort of your couch and selecting the smart tv service or application your would like to launch it could\n",
      "Product 2: Title: middle atlantic hdr 4 external fan option\n",
      "Brand: middle atlantic\n",
      "Description: df1758external 4 1 2 fan kit and vent blocker \n",
      "\n",
      "Answer with 'True' or 'False'.\n",
      "__\n",
      "__\n",
      "False.\n",
      "__\n",
      "__\n",
      "205\n"
     ]
    },
    {
     "name": "stderr",
     "output_type": "stream",
     "text": [
      "/var/folders/gx/tzjwcf8x1llbhhf36mjt7xqr0000gn/T/ipykernel_98243/3776050204.py:45: SettingWithCopyWarning: \n",
      "A value is trying to be set on a copy of a slice from a DataFrame\n",
      "\n",
      "See the caveats in the documentation: https://pandas.pydata.org/pandas-docs/stable/user_guide/indexing.html#returning-a-view-versus-a-copy\n",
      "  df[prompt_name][i] = isMatch\n"
     ]
    },
    {
     "name": "stdout",
     "output_type": "stream",
     "text": [
      "Are the following two products the same?\n",
      "Product 1: Title: lg an mr200 magic motion remote for lg smart tv black\n",
      "Brand: lg\n",
      "Description: get the most out of your lg smart tv by using the magic remote the remote acts like a mouse allowing you to simply point at the screen from the comfort of your couch and selecting the smart tv service or application your would like to launch it could\n",
      "Product 2: Title: middle atlantic designer inspired ultra quiet fan panel\n",
      "Brand: middle atlantic\n",
      "Description: df3017features thermostatic proportional fan control 100 cfm cooling capacity tasteful subdued temperature and alert display provides instant system status on board digital processor varies fan speed based on equipment temperature which is monitored \n",
      "\n",
      "Answer with 'True' or 'False'.\n",
      "__\n",
      "__\n",
      "False.\n",
      "__\n",
      "__\n",
      "206\n"
     ]
    },
    {
     "name": "stderr",
     "output_type": "stream",
     "text": [
      "/var/folders/gx/tzjwcf8x1llbhhf36mjt7xqr0000gn/T/ipykernel_98243/3776050204.py:45: SettingWithCopyWarning: \n",
      "A value is trying to be set on a copy of a slice from a DataFrame\n",
      "\n",
      "See the caveats in the documentation: https://pandas.pydata.org/pandas-docs/stable/user_guide/indexing.html#returning-a-view-versus-a-copy\n",
      "  df[prompt_name][i] = isMatch\n"
     ]
    },
    {
     "name": "stdout",
     "output_type": "stream",
     "text": [
      "Are the following two products the same?\n",
      "Product 1: Title: da lite floating mounting bracket for projection screen\n",
      "Brand: da lite\n",
      "Description: da lite floating mounting bracket for projection screen floating mounting brkts cosmo color black\n",
      "Product 2: Title: peerless paramount articulating flat panel wall arm 37 to 60 screens\n",
      "Brand: peerless\n",
      "Description: pe2747this solution captures the essence of articulating mounts while offering a high performance feature packed design for any budget delivering exceptional strength and durability this mount supports flat panel tvs from 37 to 60 its smooth motion e\n",
      "\n",
      "Answer with 'True' or 'False'.\n",
      "__\n",
      "__\n",
      "False.\n",
      "__\n",
      "__\n",
      "207\n"
     ]
    },
    {
     "name": "stderr",
     "output_type": "stream",
     "text": [
      "/var/folders/gx/tzjwcf8x1llbhhf36mjt7xqr0000gn/T/ipykernel_98243/3776050204.py:45: SettingWithCopyWarning: \n",
      "A value is trying to be set on a copy of a slice from a DataFrame\n",
      "\n",
      "See the caveats in the documentation: https://pandas.pydata.org/pandas-docs/stable/user_guide/indexing.html#returning-a-view-versus-a-copy\n",
      "  df[prompt_name][i] = isMatch\n"
     ]
    },
    {
     "name": "stdout",
     "output_type": "stream",
     "text": [
      "Are the following two products the same?\n",
      "Product 1: Title: rca rcrv06gr 6 device voice control remote gloss black\n",
      "Brand: rca\n",
      "Description: rca rcrv06g six device voice control universal remote hands free voice control just say the word and freedom is yours rca s voice control universal remote gives you the freedom you desire just say the word and you can easily control your home theater\n",
      "Product 2: Title: srs labs analog rca volume leveler\n",
      "Brand: srs labs\n",
      "Description: srs labs analog rca volume leveler maintains steady volume level reproduces sound true to original recording clear audio and video easy installation includes rca cable\n",
      "\n",
      "Answer with 'True' or 'False'.\n",
      "__\n",
      "__\n",
      "False.\n",
      "__\n",
      "__\n",
      "208\n"
     ]
    },
    {
     "name": "stderr",
     "output_type": "stream",
     "text": [
      "/var/folders/gx/tzjwcf8x1llbhhf36mjt7xqr0000gn/T/ipykernel_98243/3776050204.py:45: SettingWithCopyWarning: \n",
      "A value is trying to be set on a copy of a slice from a DataFrame\n",
      "\n",
      "See the caveats in the documentation: https://pandas.pydata.org/pandas-docs/stable/user_guide/indexing.html#returning-a-view-versus-a-copy\n",
      "  df[prompt_name][i] = isMatch\n"
     ]
    },
    {
     "name": "stdout",
     "output_type": "stream",
     "text": [
      "Are the following two products the same?\n",
      "Product 1: Title: srs labs iwow 3d audio enhancement adaptor for iphone ipod and ipad black\n",
      "Brand: srs labs\n",
      "Description: experience renewed clarity and detail with the srs iwow 3d adjust the audio settings with the free iwow app enlarge the srs iwow 3d audio enhancing adapter is a plug and play device that attaches seamlessly to the iphone ipod ipod nano or ipad via th\n",
      "Product 2: Title: srs labs analog rca volume leveler\n",
      "Brand: srs labs\n",
      "Description: srs labs analog rca volume leveler maintains steady volume level reproduces sound true to original recording clear audio and video easy installation includes rca cable\n",
      "\n",
      "Answer with 'True' or 'False'.\n",
      "__\n",
      "__\n",
      "False.\n",
      "__\n",
      "__\n",
      "209\n"
     ]
    },
    {
     "name": "stderr",
     "output_type": "stream",
     "text": [
      "/var/folders/gx/tzjwcf8x1llbhhf36mjt7xqr0000gn/T/ipykernel_98243/3776050204.py:45: SettingWithCopyWarning: \n",
      "A value is trying to be set on a copy of a slice from a DataFrame\n",
      "\n",
      "See the caveats in the documentation: https://pandas.pydata.org/pandas-docs/stable/user_guide/indexing.html#returning-a-view-versus-a-copy\n",
      "  df[prompt_name][i] = isMatch\n"
     ]
    },
    {
     "name": "stdout",
     "output_type": "stream",
     "text": [
      "Are the following two products the same?\n",
      "Product 1: Title: rca rcrv06gr 6 device voice control remote gloss black\n",
      "Brand: rca\n",
      "Description: rca rcrv06g six device voice control universal remote hands free voice control just say the word and freedom is yours rca s voice control universal remote gives you the freedom you desire just say the word and you can easily control your home theater\n",
      "Product 2: Title: bell o high speed hdmi cable with ethernet 2 meter\n",
      "Brand: bell o\n",
      "Description: bell o high speed hdmi cable with ethernet 2 meter 14 9gbps truspeed transfer rate lifejacket ul listed for in wall installation hdmi ethernet channel audio return channel 1080p hd video 180 degree swivel connector head\n",
      "\n",
      "Answer with 'True' or 'False'.\n",
      "__\n",
      "__\n",
      "False.\n",
      "__\n",
      "__\n",
      "210\n"
     ]
    },
    {
     "name": "stderr",
     "output_type": "stream",
     "text": [
      "/var/folders/gx/tzjwcf8x1llbhhf36mjt7xqr0000gn/T/ipykernel_98243/3776050204.py:45: SettingWithCopyWarning: \n",
      "A value is trying to be set on a copy of a slice from a DataFrame\n",
      "\n",
      "See the caveats in the documentation: https://pandas.pydata.org/pandas-docs/stable/user_guide/indexing.html#returning-a-view-versus-a-copy\n",
      "  df[prompt_name][i] = isMatch\n"
     ]
    },
    {
     "name": "stdout",
     "output_type": "stream",
     "text": [
      "Are the following two products the same?\n",
      "Product 1: Title: bell o high speed hdmi cable with ethernet 2 meter\n",
      "Brand: bell o\n",
      "Description: bell o high speed hdmi cable with ethernet 2 meter 14 9gbps truspeed transfer rate lifejacket ul listed for in wall installation hdmi ethernet channel audio return channel 1080p hd video 180 degree swivel connector head\n",
      "Product 2: Title: bell o scl 1008 screen cleaner kit\n",
      "Brand: bell o\n",
      "Description: your tv screen is coated with a special coating for protection and anti reflection this coating can be easily damaged by household cleaners and cloths the bell o tv screen cleaner and optic quality micro filament cleaning cloth have been specially de\n",
      "\n",
      "Answer with 'True' or 'False'.\n",
      "__\n",
      "__\n",
      "False.\n",
      "__\n",
      "__\n",
      "211\n"
     ]
    },
    {
     "name": "stderr",
     "output_type": "stream",
     "text": [
      "/var/folders/gx/tzjwcf8x1llbhhf36mjt7xqr0000gn/T/ipykernel_98243/3776050204.py:45: SettingWithCopyWarning: \n",
      "A value is trying to be set on a copy of a slice from a DataFrame\n",
      "\n",
      "See the caveats in the documentation: https://pandas.pydata.org/pandas-docs/stable/user_guide/indexing.html#returning-a-view-versus-a-copy\n",
      "  df[prompt_name][i] = isMatch\n"
     ]
    },
    {
     "name": "stdout",
     "output_type": "stream",
     "text": [
      "Are the following two products the same?\n",
      "Product 1: Title: rca rcrv06gr 6 device voice control remote gloss black\n",
      "Brand: rca\n",
      "Description: rca rcrv06g six device voice control universal remote hands free voice control just say the word and freedom is yours rca s voice control universal remote gives you the freedom you desire just say the word and you can easily control your home theater\n",
      "Product 2: Title: middle atlantic 30 amp stand alone mpr module\n",
      "Brand: middle atlantic\n",
      "Description: df217630 amp stand alone mpr module accepts nema l 520 20 amp twistlock plugs remote 12v dc dry closure local switch control w status led \n",
      "\n",
      "Answer with 'True' or 'False'.\n",
      "__\n",
      "__\n",
      "True\n",
      "__\n",
      "__\n",
      "212\n"
     ]
    },
    {
     "name": "stderr",
     "output_type": "stream",
     "text": [
      "/var/folders/gx/tzjwcf8x1llbhhf36mjt7xqr0000gn/T/ipykernel_98243/3776050204.py:45: SettingWithCopyWarning: \n",
      "A value is trying to be set on a copy of a slice from a DataFrame\n",
      "\n",
      "See the caveats in the documentation: https://pandas.pydata.org/pandas-docs/stable/user_guide/indexing.html#returning-a-view-versus-a-copy\n",
      "  df[prompt_name][i] = isMatch\n"
     ]
    },
    {
     "name": "stdout",
     "output_type": "stream",
     "text": [
      "Are the following two products the same?\n",
      "Product 1: Title: middle atlantic rackmount power strip pd 815r pl power distribution strip rack mountable ac 115 v 8 output connector s 1u\n",
      "Brand: middle atlantic\n",
      "Description: 8 outlet single 15 amp circuit surge spike protected rackmount power distribution w 9 cord black powdercoat finish\n",
      "Product 2: Title: middle atlantic 30 amp stand alone mpr module\n",
      "Brand: middle atlantic\n",
      "Description: df217630 amp stand alone mpr module accepts nema l 520 20 amp twistlock plugs remote 12v dc dry closure local switch control w status led \n",
      "\n",
      "Answer with 'True' or 'False'.\n",
      "__\n",
      "__\n",
      "False.\n",
      "__\n",
      "__\n",
      "213\n"
     ]
    },
    {
     "name": "stderr",
     "output_type": "stream",
     "text": [
      "/var/folders/gx/tzjwcf8x1llbhhf36mjt7xqr0000gn/T/ipykernel_98243/3776050204.py:45: SettingWithCopyWarning: \n",
      "A value is trying to be set on a copy of a slice from a DataFrame\n",
      "\n",
      "See the caveats in the documentation: https://pandas.pydata.org/pandas-docs/stable/user_guide/indexing.html#returning-a-view-versus-a-copy\n",
      "  df[prompt_name][i] = isMatch\n"
     ]
    },
    {
     "name": "stdout",
     "output_type": "stream",
     "text": [
      "Are the following two products the same?\n",
      "Product 1: Title: 15 amp power strip medium 10 outlet\n",
      "Brand: middle atlantic\n",
      "Description: pd 1015c ns protection circuit breaker don t wait for your power strip to be configured that s why middle atlantic has developed a comprehensive line of 16 vertical power strips in three different sizes all available and ready to ship from stock and \n",
      "Product 2: Title: middle atlantic 30 amp stand alone mpr module\n",
      "Brand: middle atlantic\n",
      "Description: df217630 amp stand alone mpr module accepts nema l 520 20 amp twistlock plugs remote 12v dc dry closure local switch control w status led \n",
      "\n",
      "Answer with 'True' or 'False'.\n",
      "__\n",
      "__\n",
      "False.\n",
      "__\n",
      "__\n",
      "214\n"
     ]
    },
    {
     "name": "stderr",
     "output_type": "stream",
     "text": [
      "/var/folders/gx/tzjwcf8x1llbhhf36mjt7xqr0000gn/T/ipykernel_98243/3776050204.py:45: SettingWithCopyWarning: \n",
      "A value is trying to be set on a copy of a slice from a DataFrame\n",
      "\n",
      "See the caveats in the documentation: https://pandas.pydata.org/pandas-docs/stable/user_guide/indexing.html#returning-a-view-versus-a-copy\n",
      "  df[prompt_name][i] = isMatch\n"
     ]
    },
    {
     "name": "stdout",
     "output_type": "stream",
     "text": [
      "Are the following two products the same?\n",
      "Product 1: Title: arrowmounts cantilever retractable wall mount for flat panel tvs up to 27\n",
      "Brand: arrowmounts\n",
      "Description: arrowmounts cantilever retractable wall mount for flat panel tvs up to 27 tilts 20 degrees upward and 20 degrees downward swivels 180 degrees color black includes installation guide and hardware kit\n",
      "Product 2: Title: noah company mediagate gv ir05wt 1 channel ir windows vista media center learning remote control black\n",
      "Brand: by noah company\n",
      "Description: three modes of device tv av and aux are for users to learn and store three sets of code into each mode in each mode 43 buttons learn ir commands from other remote controls this feature lets you use the media center remote control send commands to you\n",
      "\n",
      "Answer with 'True' or 'False'.\n",
      "__\n",
      "__\n",
      "False.\n",
      "__\n",
      "__\n",
      "215\n"
     ]
    },
    {
     "name": "stderr",
     "output_type": "stream",
     "text": [
      "/var/folders/gx/tzjwcf8x1llbhhf36mjt7xqr0000gn/T/ipykernel_98243/3776050204.py:45: SettingWithCopyWarning: \n",
      "A value is trying to be set on a copy of a slice from a DataFrame\n",
      "\n",
      "See the caveats in the documentation: https://pandas.pydata.org/pandas-docs/stable/user_guide/indexing.html#returning-a-view-versus-a-copy\n",
      "  df[prompt_name][i] = isMatch\n"
     ]
    },
    {
     "name": "stdout",
     "output_type": "stream",
     "text": [
      "Are the following two products the same?\n",
      "Product 1: Title: accell ultrarun usb 3 0 type a to b superspeed long length cable\n",
      "Brand: accell\n",
      "Description: usb 3 0 superspeed cable type a b 6 meters length the ultrarun superspeed usb 3 0 cables by accell feature a built in amplifier that enables the data to travel at superspeed signaling rates over a 6m cable the ultrarun active cables require no extern\n",
      "Product 2: Title: accell proultra 2m hdmi ethernet cable\n",
      "Brand: accell\n",
      "Description: accell proultra 2m hdmi ethernet cable high speed up to 10 2gbps integrated hdmi ethernet and audio return channels supports 3d and 4k video supports deep color and x v color cable length 2m\n",
      "\n",
      "Answer with 'True' or 'False'.\n",
      "__\n",
      "__\n",
      "False.\n",
      "__\n",
      "__\n",
      "216\n"
     ]
    },
    {
     "name": "stderr",
     "output_type": "stream",
     "text": [
      "/var/folders/gx/tzjwcf8x1llbhhf36mjt7xqr0000gn/T/ipykernel_98243/3776050204.py:45: SettingWithCopyWarning: \n",
      "A value is trying to be set on a copy of a slice from a DataFrame\n",
      "\n",
      "See the caveats in the documentation: https://pandas.pydata.org/pandas-docs/stable/user_guide/indexing.html#returning-a-view-versus-a-copy\n",
      "  df[prompt_name][i] = isMatch\n"
     ]
    },
    {
     "name": "stdout",
     "output_type": "stream",
     "text": [
      "Are the following two products the same?\n",
      "Product 1: Title: accell ultrarun usb 3 0 type a to b superspeed long length cable\n",
      "Brand: accell\n",
      "Description: usb 3 0 superspeed cable type a b 6 meters length the ultrarun superspeed usb 3 0 cables by accell feature a built in amplifier that enables the data to travel at superspeed signaling rates over a 6m cable the ultrarun active cables require no extern\n",
      "Product 2: Title: accell ultraav displayport multi monitor adapter\n",
      "Brand: accell\n",
      "Description: accell ultraav displayport multi monitor adapter connect up to 3 monitors to pc or laptop allows each monitor to display a separate application works on displayport enabled pc or mac displays applications across multiple dvi compliant monitors from a\n",
      "\n",
      "Answer with 'True' or 'False'.\n",
      "__\n",
      "__\n",
      "False. The two products are different.\n",
      "__\n",
      "__\n",
      "217\n"
     ]
    },
    {
     "name": "stderr",
     "output_type": "stream",
     "text": [
      "/var/folders/gx/tzjwcf8x1llbhhf36mjt7xqr0000gn/T/ipykernel_98243/3776050204.py:45: SettingWithCopyWarning: \n",
      "A value is trying to be set on a copy of a slice from a DataFrame\n",
      "\n",
      "See the caveats in the documentation: https://pandas.pydata.org/pandas-docs/stable/user_guide/indexing.html#returning-a-view-versus-a-copy\n",
      "  df[prompt_name][i] = isMatch\n"
     ]
    },
    {
     "name": "stdout",
     "output_type": "stream",
     "text": [
      "Are the following two products the same?\n",
      "Product 1: Title: accell ultrarun usb 3 0 type a to b superspeed long length cable\n",
      "Brand: accell\n",
      "Description: usb 3 0 superspeed cable type a b 6 meters length the ultrarun superspeed usb 3 0 cables by accell feature a built in amplifier that enables the data to travel at superspeed signaling rates over a 6m cable the ultrarun active cables require no extern\n",
      "Product 2: Title: accell greencable series 1m hdmi a 1 3 cable\n",
      "Brand: accell\n",
      "Description: key features data transfer rate 10 2gbps ideal for blu ray players supports up to 1080p resolution supports up to 7 1 audio 24k gold plated connectors cable length 1m\n",
      "\n",
      "Answer with 'True' or 'False'.\n",
      "__\n",
      "__\n",
      "False.\n",
      "__\n",
      "__\n",
      "218\n"
     ]
    },
    {
     "name": "stderr",
     "output_type": "stream",
     "text": [
      "/var/folders/gx/tzjwcf8x1llbhhf36mjt7xqr0000gn/T/ipykernel_98243/3776050204.py:45: SettingWithCopyWarning: \n",
      "A value is trying to be set on a copy of a slice from a DataFrame\n",
      "\n",
      "See the caveats in the documentation: https://pandas.pydata.org/pandas-docs/stable/user_guide/indexing.html#returning-a-view-versus-a-copy\n",
      "  df[prompt_name][i] = isMatch\n"
     ]
    },
    {
     "name": "stdout",
     "output_type": "stream",
     "text": [
      "Are the following two products the same?\n",
      "Product 1: Title: accell ultrarun usb 3 0 type a to b superspeed long length cable\n",
      "Brand: accell\n",
      "Description: usb 3 0 superspeed cable type a b 6 meters length the ultrarun superspeed usb 3 0 cables by accell feature a built in amplifier that enables the data to travel at superspeed signaling rates over a 6m cable the ultrarun active cables require no extern\n",
      "Product 2: Title: accell ultraav displayport multi monitor adapter\n",
      "Brand: accell\n",
      "Description: accell ultraav displayport multi monitor adapter connect up to 3 monitors to pc or laptop allows each monitor to display a separate application works on displayport enabled pc or mac displays applications across multiple dvi compliant monitors from a\n",
      "\n",
      "Answer with 'True' or 'False'.\n",
      "__\n",
      "__\n",
      "False. The two products are different.\n",
      "__\n",
      "__\n",
      "219\n"
     ]
    },
    {
     "name": "stderr",
     "output_type": "stream",
     "text": [
      "/var/folders/gx/tzjwcf8x1llbhhf36mjt7xqr0000gn/T/ipykernel_98243/3776050204.py:45: SettingWithCopyWarning: \n",
      "A value is trying to be set on a copy of a slice from a DataFrame\n",
      "\n",
      "See the caveats in the documentation: https://pandas.pydata.org/pandas-docs/stable/user_guide/indexing.html#returning-a-view-versus-a-copy\n",
      "  df[prompt_name][i] = isMatch\n"
     ]
    },
    {
     "name": "stdout",
     "output_type": "stream",
     "text": [
      "Are the following two products the same?\n",
      "Product 1: Title: accell ultrarun usb 3 0 type a to b superspeed long length cable\n",
      "Brand: accell\n",
      "Description: usb 3 0 superspeed cable type a b 6 meters length the ultrarun superspeed usb 3 0 cables by accell feature a built in amplifier that enables the data to travel at superspeed signaling rates over a 6m cable the ultrarun active cables require no extern\n",
      "Product 2: Title: accell premium series 10 usb 3 0 a b cable\n",
      "Brand: accell\n",
      "Description: accell premium series 10 usb 3 0 a b cable superspeed 5gbps throughput supports optimized power efficiency backwards compatible with usb 2 0 cable length 10\n",
      "\n",
      "Answer with 'True' or 'False'.\n",
      "__\n",
      "__\n",
      "False.\n",
      "__\n",
      "__\n",
      "220\n"
     ]
    },
    {
     "name": "stderr",
     "output_type": "stream",
     "text": [
      "/var/folders/gx/tzjwcf8x1llbhhf36mjt7xqr0000gn/T/ipykernel_98243/3776050204.py:45: SettingWithCopyWarning: \n",
      "A value is trying to be set on a copy of a slice from a DataFrame\n",
      "\n",
      "See the caveats in the documentation: https://pandas.pydata.org/pandas-docs/stable/user_guide/indexing.html#returning-a-view-versus-a-copy\n",
      "  df[prompt_name][i] = isMatch\n"
     ]
    },
    {
     "name": "stdout",
     "output_type": "stream",
     "text": [
      "Are the following two products the same?\n",
      "Product 1: Title: rca rcrv06gr 6 device voice control remote gloss black\n",
      "Brand: rca\n",
      "Description: rca rcrv06g six device voice control universal remote hands free voice control just say the word and freedom is yours rca s voice control universal remote gives you the freedom you desire just say the word and you can easily control your home theater\n",
      "Product 2: Title: level tv wall mount full motion mount for 10 30 flat panel tvs dc30t\n",
      "Brand: level mount\n",
      "Description: cord management system neatly gathers and routes cords for a clean look built in bubble level stud finder and all hardware included extender plates pan 30 and tilt 15 2 piece design vesa 75 x 75 100 x 100 and 200 x 100 mm mounting hole patterns\n",
      "\n",
      "Answer with 'True' or 'False'.\n",
      "__\n",
      "__\n",
      "True\n",
      "__\n",
      "__\n",
      "221\n"
     ]
    },
    {
     "name": "stderr",
     "output_type": "stream",
     "text": [
      "/var/folders/gx/tzjwcf8x1llbhhf36mjt7xqr0000gn/T/ipykernel_98243/3776050204.py:45: SettingWithCopyWarning: \n",
      "A value is trying to be set on a copy of a slice from a DataFrame\n",
      "\n",
      "See the caveats in the documentation: https://pandas.pydata.org/pandas-docs/stable/user_guide/indexing.html#returning-a-view-versus-a-copy\n",
      "  df[prompt_name][i] = isMatch\n"
     ]
    },
    {
     "name": "stdout",
     "output_type": "stream",
     "text": [
      "Are the following two products the same?\n",
      "Product 1: Title: level mount dc42sm full motion articulating motorized wall mount for 26 to 42 displays black\n",
      "Brand: level mount\n",
      "Description: full motion motorized cantilever mount fits 26 to 42 tv s level mount full motion motorized cantilever mount fits 26 to 42 tv s easy to use and install the level mount dc42sm is designed to fit any 26 42 flat panel tv up to 100 lbs this unit is a mot\n",
      "Product 2: Title: level tv wall mount full motion mount for 10 30 flat panel tvs dc30t\n",
      "Brand: level mount\n",
      "Description: cord management system neatly gathers and routes cords for a clean look built in bubble level stud finder and all hardware included extender plates pan 30 and tilt 15 2 piece design vesa 75 x 75 100 x 100 and 200 x 100 mm mounting hole patterns\n",
      "\n",
      "Answer with 'True' or 'False'.\n",
      "__\n",
      "__\n",
      "False.\n",
      "__\n",
      "__\n",
      "222\n"
     ]
    },
    {
     "name": "stderr",
     "output_type": "stream",
     "text": [
      "/var/folders/gx/tzjwcf8x1llbhhf36mjt7xqr0000gn/T/ipykernel_98243/3776050204.py:45: SettingWithCopyWarning: \n",
      "A value is trying to be set on a copy of a slice from a DataFrame\n",
      "\n",
      "See the caveats in the documentation: https://pandas.pydata.org/pandas-docs/stable/user_guide/indexing.html#returning-a-view-versus-a-copy\n",
      "  df[prompt_name][i] = isMatch\n"
     ]
    },
    {
     "name": "stdout",
     "output_type": "stream",
     "text": [
      "Are the following two products the same?\n",
      "Product 1: Title: lg an mr200 magic motion remote for lg smart tv black\n",
      "Brand: lg\n",
      "Description: get the most out of your lg smart tv by using the magic remote the remote acts like a mouse allowing you to simply point at the screen from the comfort of your couch and selecting the smart tv service or application your would like to launch it could\n",
      "Product 2: Title: level tv wall mount full motion mount for 10 30 flat panel tvs dc30t\n",
      "Brand: level mount\n",
      "Description: cord management system neatly gathers and routes cords for a clean look built in bubble level stud finder and all hardware included extender plates pan 30 and tilt 15 2 piece design vesa 75 x 75 100 x 100 and 200 x 100 mm mounting hole patterns\n",
      "\n",
      "Answer with 'True' or 'False'.\n",
      "__\n",
      "__\n",
      "False.\n",
      "__\n",
      "__\n",
      "223\n"
     ]
    },
    {
     "name": "stderr",
     "output_type": "stream",
     "text": [
      "/var/folders/gx/tzjwcf8x1llbhhf36mjt7xqr0000gn/T/ipykernel_98243/3776050204.py:45: SettingWithCopyWarning: \n",
      "A value is trying to be set on a copy of a slice from a DataFrame\n",
      "\n",
      "See the caveats in the documentation: https://pandas.pydata.org/pandas-docs/stable/user_guide/indexing.html#returning-a-view-versus-a-copy\n",
      "  df[prompt_name][i] = isMatch\n"
     ]
    },
    {
     "name": "stdout",
     "output_type": "stream",
     "text": [
      "Are the following two products the same?\n",
      "Product 1: Title: da lite floating mounting bracket for projection screen\n",
      "Brand: da lite\n",
      "Description: da lite floating mounting bracket for projection screen floating mounting brkts cosmo color black\n",
      "Product 2: Title: level tv wall mount full motion mount for 10 30 flat panel tvs dc30t\n",
      "Brand: level mount\n",
      "Description: cord management system neatly gathers and routes cords for a clean look built in bubble level stud finder and all hardware included extender plates pan 30 and tilt 15 2 piece design vesa 75 x 75 100 x 100 and 200 x 100 mm mounting hole patterns\n",
      "\n",
      "Answer with 'True' or 'False'.\n",
      "__\n",
      "__\n",
      "False.\n",
      "__\n",
      "__\n",
      "224\n"
     ]
    },
    {
     "name": "stderr",
     "output_type": "stream",
     "text": [
      "/var/folders/gx/tzjwcf8x1llbhhf36mjt7xqr0000gn/T/ipykernel_98243/3776050204.py:45: SettingWithCopyWarning: \n",
      "A value is trying to be set on a copy of a slice from a DataFrame\n",
      "\n",
      "See the caveats in the documentation: https://pandas.pydata.org/pandas-docs/stable/user_guide/indexing.html#returning-a-view-versus-a-copy\n",
      "  df[prompt_name][i] = isMatch\n"
     ]
    },
    {
     "name": "stdout",
     "output_type": "stream",
     "text": [
      "Are the following two products the same?\n",
      "Product 1: Title: level mount lvmdc65mcl motor motion mount for 34 65 inch lcd plasma tvs\n",
      "Brand: level mount\n",
      "Description: easy to use and install the level mount lvmdc65mcl is designed to fit any lcd or plasma tv of 34 to 65 inches up to 200 lbs with simple remote controlled operation the 34 65 motorized full motion flat panel mount offers all the versatility of a full \n",
      "Product 2: Title: level tv wall mount full motion mount for 10 30 flat panel tvs dc30t\n",
      "Brand: level mount\n",
      "Description: cord management system neatly gathers and routes cords for a clean look built in bubble level stud finder and all hardware included extender plates pan 30 and tilt 15 2 piece design vesa 75 x 75 100 x 100 and 200 x 100 mm mounting hole patterns\n",
      "\n",
      "Answer with 'True' or 'False'.\n",
      "__\n",
      "__\n",
      "False.\n",
      "__\n",
      "__\n",
      "225\n"
     ]
    },
    {
     "name": "stderr",
     "output_type": "stream",
     "text": [
      "/var/folders/gx/tzjwcf8x1llbhhf36mjt7xqr0000gn/T/ipykernel_98243/3776050204.py:45: SettingWithCopyWarning: \n",
      "A value is trying to be set on a copy of a slice from a DataFrame\n",
      "\n",
      "See the caveats in the documentation: https://pandas.pydata.org/pandas-docs/stable/user_guide/indexing.html#returning-a-view-versus-a-copy\n",
      "  df[prompt_name][i] = isMatch\n"
     ]
    },
    {
     "name": "stdout",
     "output_type": "stream",
     "text": [
      "Are the following two products the same?\n",
      "Product 1: Title: level tv wall mount full motion mount for 10 30 flat panel tvs dc30t\n",
      "Brand: level mount\n",
      "Description: cord management system neatly gathers and routes cords for a clean look built in bubble level stud finder and all hardware included extender plates pan 30 and tilt 15 2 piece design vesa 75 x 75 100 x 100 and 200 x 100 mm mounting hole patterns\n",
      "Product 2: Title: level mount aisoa full motion small single arm cantilever mount for 10 to 30 displays black\n",
      "Brand: level mount\n",
      "Description: full motion single arm mount fits 10 to 30 tv s level mount full motion single arm mount fits 10 to 30 tv s easy to use and install this level mount aisoa is designed to fit any 10 30 flat panel tv up to 50 lbs this unit has a single arm that will pa\n",
      "\n",
      "Answer with 'True' or 'False'.\n",
      "__\n",
      "__\n",
      "False.\n",
      "__\n",
      "__\n",
      "226\n"
     ]
    },
    {
     "name": "stderr",
     "output_type": "stream",
     "text": [
      "/var/folders/gx/tzjwcf8x1llbhhf36mjt7xqr0000gn/T/ipykernel_98243/3776050204.py:45: SettingWithCopyWarning: \n",
      "A value is trying to be set on a copy of a slice from a DataFrame\n",
      "\n",
      "See the caveats in the documentation: https://pandas.pydata.org/pandas-docs/stable/user_guide/indexing.html#returning-a-view-versus-a-copy\n",
      "  df[prompt_name][i] = isMatch\n"
     ]
    },
    {
     "name": "stdout",
     "output_type": "stream",
     "text": [
      "Are the following two products the same?\n",
      "Product 1: Title: level tv wall mount full motion mount for 10 30 flat panel tvs dc30t\n",
      "Brand: level mount\n",
      "Description: cord management system neatly gathers and routes cords for a clean look built in bubble level stud finder and all hardware included extender plates pan 30 and tilt 15 2 piece design vesa 75 x 75 100 x 100 and 200 x 100 mm mounting hole patterns\n",
      "Product 2: Title: level mount elspm 5 surround sound speaker wall ceiling bracket black\n",
      "Brand: level mount\n",
      "Description: 5 surround sound speaker wall ceiling bracket level mount 5 surround sound speaker wall ceiling bracket easy to use and install this level mount elspm is an accessory bracket that attaches to any cube style speaker to be mounted on a wall or ceiling \n",
      "\n",
      "Answer with 'True' or 'False'.\n",
      "__\n",
      "__\n",
      "False. The products are different.\n",
      "__\n",
      "__\n",
      "227\n"
     ]
    },
    {
     "name": "stderr",
     "output_type": "stream",
     "text": [
      "/var/folders/gx/tzjwcf8x1llbhhf36mjt7xqr0000gn/T/ipykernel_98243/3776050204.py:45: SettingWithCopyWarning: \n",
      "A value is trying to be set on a copy of a slice from a DataFrame\n",
      "\n",
      "See the caveats in the documentation: https://pandas.pydata.org/pandas-docs/stable/user_guide/indexing.html#returning-a-view-versus-a-copy\n",
      "  df[prompt_name][i] = isMatch\n"
     ]
    },
    {
     "name": "stdout",
     "output_type": "stream",
     "text": [
      "Are the following two products the same?\n",
      "Product 1: Title: level tv wall mount full motion mount for 10 30 flat panel tvs dc30t\n",
      "Brand: level mount\n",
      "Description: cord management system neatly gathers and routes cords for a clean look built in bubble level stud finder and all hardware included extender plates pan 30 and tilt 15 2 piece design vesa 75 x 75 100 x 100 and 200 x 100 mm mounting hole patterns\n",
      "Product 2: Title: level mount aista full motion small dual arm cantilerver mount for 10 to 30 displays black\n",
      "Brand: level mount\n",
      "Description: full motion dual arm mount fits 10 to 30 tv s level mount full motion dual arm mount fits 10 to 30 tv s easy to use and install the level mount aista is designed to fit any 10 30 flat panel tv up to 45 lbs this unit will pan up to 30 extend up to 10 \n",
      "\n",
      "Answer with 'True' or 'False'.\n",
      "__\n",
      "__\n",
      "False.\n",
      "__\n",
      "__\n",
      "228\n"
     ]
    },
    {
     "name": "stderr",
     "output_type": "stream",
     "text": [
      "/var/folders/gx/tzjwcf8x1llbhhf36mjt7xqr0000gn/T/ipykernel_98243/3776050204.py:45: SettingWithCopyWarning: \n",
      "A value is trying to be set on a copy of a slice from a DataFrame\n",
      "\n",
      "See the caveats in the documentation: https://pandas.pydata.org/pandas-docs/stable/user_guide/indexing.html#returning-a-view-versus-a-copy\n",
      "  df[prompt_name][i] = isMatch\n"
     ]
    },
    {
     "name": "stdout",
     "output_type": "stream",
     "text": [
      "Are the following two products the same?\n",
      "Product 1: Title: rca rcrv06gr 6 device voice control remote gloss black\n",
      "Brand: rca\n",
      "Description: rca rcrv06g six device voice control universal remote hands free voice control just say the word and freedom is yours rca s voice control universal remote gives you the freedom you desire just say the word and you can easily control your home theater\n",
      "Product 2: Title: comprehensive two piece 75 precision bnc jack for rg 59 set of 25\n",
      "Brand: comprehensive\n",
      "Description: ch1151comprehensive s true 75 connectors eliminate impedance mismatching and distortion that can be caused by using 50 connectors on 75 cable true 75 bnc connectors are a must for all digital high bandwidth applications above 300 mhz and recommended \n",
      "\n",
      "Answer with 'True' or 'False'.\n",
      "__\n",
      "__\n",
      "False.\n",
      "__\n",
      "__\n",
      "229\n"
     ]
    },
    {
     "name": "stderr",
     "output_type": "stream",
     "text": [
      "/var/folders/gx/tzjwcf8x1llbhhf36mjt7xqr0000gn/T/ipykernel_98243/3776050204.py:45: SettingWithCopyWarning: \n",
      "A value is trying to be set on a copy of a slice from a DataFrame\n",
      "\n",
      "See the caveats in the documentation: https://pandas.pydata.org/pandas-docs/stable/user_guide/indexing.html#returning-a-view-versus-a-copy\n",
      "  df[prompt_name][i] = isMatch\n"
     ]
    },
    {
     "name": "stdout",
     "output_type": "stream",
     "text": [
      "Are the following two products the same?\n",
      "Product 1: Title: comprehensive rca 75c p premium true 75ohm rca plug crimp type for cvc 59p plenum\n",
      "Brand: comprehensive\n",
      "Description: comprehesnive premium true 75 ohm rca plug crimp type for cvc 59p plenum high resolution true 75 ohm nickel over brass construction gold plated brass center pin for highest signal conductivity lifetime warranty \n",
      "Product 2: Title: comprehensive two piece 75 precision bnc jack for rg 59 set of 25\n",
      "Brand: comprehensive\n",
      "Description: ch1151comprehensive s true 75 connectors eliminate impedance mismatching and distortion that can be caused by using 50 connectors on 75 cable true 75 bnc connectors are a must for all digital high bandwidth applications above 300 mhz and recommended \n",
      "\n",
      "Answer with 'True' or 'False'.\n",
      "__\n",
      "__\n",
      "False.\n",
      "__\n",
      "__\n",
      "230\n"
     ]
    },
    {
     "name": "stderr",
     "output_type": "stream",
     "text": [
      "/var/folders/gx/tzjwcf8x1llbhhf36mjt7xqr0000gn/T/ipykernel_98243/3776050204.py:45: SettingWithCopyWarning: \n",
      "A value is trying to be set on a copy of a slice from a DataFrame\n",
      "\n",
      "See the caveats in the documentation: https://pandas.pydata.org/pandas-docs/stable/user_guide/indexing.html#returning-a-view-versus-a-copy\n",
      "  df[prompt_name][i] = isMatch\n"
     ]
    },
    {
     "name": "stdout",
     "output_type": "stream",
     "text": [
      "Are the following two products the same?\n",
      "Product 1: Title: comprehensive xlrj 3n premium 3 pin xlr jack\n",
      "Brand: comprehensive\n",
      "Description: these premium xlr connectors are manufactured for the true audio professional comprehensive premium xlr connectors have an extremely rugged die cast housing with superior strain relief xlr connectors come in 3 4 and 5 pin versions and are extremely\n",
      "Product 2: Title: comprehensive two piece 75 precision bnc jack for rg 59 set of 25\n",
      "Brand: comprehensive\n",
      "Description: ch1151comprehensive s true 75 connectors eliminate impedance mismatching and distortion that can be caused by using 50 connectors on 75 cable true 75 bnc connectors are a must for all digital high bandwidth applications above 300 mhz and recommended \n",
      "\n",
      "Answer with 'True' or 'False'.\n",
      "__\n",
      "__\n",
      "False.\n",
      "__\n",
      "__\n",
      "231\n"
     ]
    },
    {
     "name": "stderr",
     "output_type": "stream",
     "text": [
      "/var/folders/gx/tzjwcf8x1llbhhf36mjt7xqr0000gn/T/ipykernel_98243/3776050204.py:45: SettingWithCopyWarning: \n",
      "A value is trying to be set on a copy of a slice from a DataFrame\n",
      "\n",
      "See the caveats in the documentation: https://pandas.pydata.org/pandas-docs/stable/user_guide/indexing.html#returning-a-view-versus-a-copy\n",
      "  df[prompt_name][i] = isMatch\n"
     ]
    },
    {
     "name": "stdout",
     "output_type": "stream",
     "text": [
      "Are the following two products the same?\n",
      "Product 1: Title: rca rcrv06gr 6 device voice control remote gloss black\n",
      "Brand: rca\n",
      "Description: rca rcrv06g six device voice control universal remote hands free voice control just say the word and freedom is yours rca s voice control universal remote gives you the freedom you desire just say the word and you can easily control your home theater\n",
      "Product 2: Title: accell proultra 4m hdmi ethernet cable\n",
      "Brand: accell\n",
      "Description: accell proultra 4m hdmi ethernet cable high speed up to 10 2gbps integrated hdmi ethernet and audio return channels supports 3d and 4k video supports deep color and x v color cable length 4m\n",
      "\n",
      "Answer with 'True' or 'False'.\n",
      "__\n",
      "__\n",
      "True\n",
      "__\n",
      "__\n",
      "232\n"
     ]
    },
    {
     "name": "stderr",
     "output_type": "stream",
     "text": [
      "/var/folders/gx/tzjwcf8x1llbhhf36mjt7xqr0000gn/T/ipykernel_98243/3776050204.py:45: SettingWithCopyWarning: \n",
      "A value is trying to be set on a copy of a slice from a DataFrame\n",
      "\n",
      "See the caveats in the documentation: https://pandas.pydata.org/pandas-docs/stable/user_guide/indexing.html#returning-a-view-versus-a-copy\n",
      "  df[prompt_name][i] = isMatch\n"
     ]
    },
    {
     "name": "stdout",
     "output_type": "stream",
     "text": [
      "Are the following two products the same?\n",
      "Product 1: Title: accell ultrarun usb 3 0 type a to b superspeed long length cable\n",
      "Brand: accell\n",
      "Description: usb 3 0 superspeed cable type a b 6 meters length the ultrarun superspeed usb 3 0 cables by accell feature a built in amplifier that enables the data to travel at superspeed signaling rates over a 6m cable the ultrarun active cables require no extern\n",
      "Product 2: Title: accell proultra 4m hdmi ethernet cable\n",
      "Brand: accell\n",
      "Description: accell proultra 4m hdmi ethernet cable high speed up to 10 2gbps integrated hdmi ethernet and audio return channels supports 3d and 4k video supports deep color and x v color cable length 4m\n",
      "\n",
      "Answer with 'True' or 'False'.\n",
      "__\n",
      "__\n",
      "False.\n",
      "__\n",
      "__\n",
      "233\n"
     ]
    },
    {
     "name": "stderr",
     "output_type": "stream",
     "text": [
      "/var/folders/gx/tzjwcf8x1llbhhf36mjt7xqr0000gn/T/ipykernel_98243/3776050204.py:45: SettingWithCopyWarning: \n",
      "A value is trying to be set on a copy of a slice from a DataFrame\n",
      "\n",
      "See the caveats in the documentation: https://pandas.pydata.org/pandas-docs/stable/user_guide/indexing.html#returning-a-view-versus-a-copy\n",
      "  df[prompt_name][i] = isMatch\n"
     ]
    },
    {
     "name": "stdout",
     "output_type": "stream",
     "text": [
      "Are the following two products the same?\n",
      "Product 1: Title: accell pro hdmia locking connector 1m retail bag\n",
      "Brand: accell\n",
      "Description: accell corp avgrip pro hdmi cable b104c 003b a v device cables\n",
      "Product 2: Title: accell proultra 4m hdmi ethernet cable\n",
      "Brand: accell\n",
      "Description: accell proultra 4m hdmi ethernet cable high speed up to 10 2gbps integrated hdmi ethernet and audio return channels supports 3d and 4k video supports deep color and x v color cable length 4m\n",
      "\n",
      "Answer with 'True' or 'False'.\n",
      "__\n",
      "__\n",
      "False.\n",
      "__\n",
      "__\n",
      "234\n"
     ]
    },
    {
     "name": "stderr",
     "output_type": "stream",
     "text": [
      "/var/folders/gx/tzjwcf8x1llbhhf36mjt7xqr0000gn/T/ipykernel_98243/3776050204.py:45: SettingWithCopyWarning: \n",
      "A value is trying to be set on a copy of a slice from a DataFrame\n",
      "\n",
      "See the caveats in the documentation: https://pandas.pydata.org/pandas-docs/stable/user_guide/indexing.html#returning-a-view-versus-a-copy\n",
      "  df[prompt_name][i] = isMatch\n"
     ]
    },
    {
     "name": "stdout",
     "output_type": "stream",
     "text": [
      "Are the following two products the same?\n",
      "Product 1: Title: accell proultra supreme b116c 016b 40 high speed hdmi cable with ethernet 5m\n",
      "Brand: accell\n",
      "Description: accell proultra supreme high speed hdmi cable with ethernet provides a data transfer rate of up to 10 2 gbps 340mhz and is fully compliant to the high speed hdmi specification compatible with all hdmi devices the proultra supreme high speed cable sup\n",
      "Product 2: Title: accell proultra 4m hdmi ethernet cable\n",
      "Brand: accell\n",
      "Description: accell proultra 4m hdmi ethernet cable high speed up to 10 2gbps integrated hdmi ethernet and audio return channels supports 3d and 4k video supports deep color and x v color cable length 4m\n",
      "\n",
      "Answer with 'True' or 'False'.\n",
      "__\n",
      "__\n",
      "False.\n",
      "__\n",
      "__\n",
      "235\n"
     ]
    },
    {
     "name": "stderr",
     "output_type": "stream",
     "text": [
      "/var/folders/gx/tzjwcf8x1llbhhf36mjt7xqr0000gn/T/ipykernel_98243/3776050204.py:45: SettingWithCopyWarning: \n",
      "A value is trying to be set on a copy of a slice from a DataFrame\n",
      "\n",
      "See the caveats in the documentation: https://pandas.pydata.org/pandas-docs/stable/user_guide/indexing.html#returning-a-view-versus-a-copy\n",
      "  df[prompt_name][i] = isMatch\n"
     ]
    },
    {
     "name": "stdout",
     "output_type": "stream",
     "text": [
      "Are the following two products the same?\n",
      "Product 1: Title: 15 rg6 video cable white\n",
      "Brand: ge\n",
      "Description: 15 rg6 video cable for f type jacks 15 long color white\n",
      "Product 2: Title: ge 73823 complete headphone extension kit with 5 adapters 25ft black\n",
      "Brand: ge\n",
      "Description: none\n",
      "\n",
      "Answer with 'True' or 'False'.\n",
      "__\n",
      "__\n",
      "False.\n",
      "__\n",
      "__\n",
      "236\n"
     ]
    },
    {
     "name": "stderr",
     "output_type": "stream",
     "text": [
      "/var/folders/gx/tzjwcf8x1llbhhf36mjt7xqr0000gn/T/ipykernel_98243/3776050204.py:45: SettingWithCopyWarning: \n",
      "A value is trying to be set on a copy of a slice from a DataFrame\n",
      "\n",
      "See the caveats in the documentation: https://pandas.pydata.org/pandas-docs/stable/user_guide/indexing.html#returning-a-view-versus-a-copy\n",
      "  df[prompt_name][i] = isMatch\n"
     ]
    },
    {
     "name": "stdout",
     "output_type": "stream",
     "text": [
      "Are the following two products the same?\n",
      "Product 1: Title: bell o hd7104 high speed hdmi cables\n",
      "Brand: bell o\n",
      "Description: bell o hdmi7100 series hd7104 13 1feet 4 meter high speed hdmi cables with 90 degree tight space adaptor ethernet and 3d ready engineered for superior performance advanced technologies including 3d ready ethernet capability and a 14 9 gigabit per sec\n",
      "Product 2: Title: bell o high speed hdmi cable with ethernet 2 meter\n",
      "Brand: bell o\n",
      "Description: bell o high speed hdmi cable with ethernet 2 meter 14 9gbps truspeed transfer rate lifejacket ul listed for in wall installation hdmi ethernet channel audio return channel 1080p hd video 180 degree swivel connector head\n",
      "\n",
      "Answer with 'True' or 'False'.\n",
      "__\n",
      "__\n",
      "False.\n",
      "__\n",
      "__\n",
      "237\n"
     ]
    },
    {
     "name": "stderr",
     "output_type": "stream",
     "text": [
      "/var/folders/gx/tzjwcf8x1llbhhf36mjt7xqr0000gn/T/ipykernel_98243/3776050204.py:45: SettingWithCopyWarning: \n",
      "A value is trying to be set on a copy of a slice from a DataFrame\n",
      "\n",
      "See the caveats in the documentation: https://pandas.pydata.org/pandas-docs/stable/user_guide/indexing.html#returning-a-view-versus-a-copy\n",
      "  df[prompt_name][i] = isMatch\n"
     ]
    },
    {
     "name": "stdout",
     "output_type": "stream",
     "text": [
      "Are the following two products the same?\n",
      "Product 1: Title: bell o high speed hdmi cable with ethernet 2 meter\n",
      "Brand: bell o\n",
      "Description: bell o high speed hdmi cable with ethernet 2 meter 14 9gbps truspeed transfer rate lifejacket ul listed for in wall installation hdmi ethernet channel audio return channel 1080p hd video 180 degree swivel connector head\n",
      "Product 2: Title: bello hd3102 hdmi cable\n",
      "Brand: bell o\n",
      "Description: 10 2 gbps high speed 3d ready 1080p hd video ul cl3 listed for in wall installation 24k gold plating for optimum data transfer 99 99 oxygen free copper 2m\n",
      "\n",
      "Answer with 'True' or 'False'.\n",
      "__\n",
      "__\n",
      "False.\n",
      "__\n",
      "__\n",
      "238\n"
     ]
    },
    {
     "name": "stderr",
     "output_type": "stream",
     "text": [
      "/var/folders/gx/tzjwcf8x1llbhhf36mjt7xqr0000gn/T/ipykernel_98243/3776050204.py:45: SettingWithCopyWarning: \n",
      "A value is trying to be set on a copy of a slice from a DataFrame\n",
      "\n",
      "See the caveats in the documentation: https://pandas.pydata.org/pandas-docs/stable/user_guide/indexing.html#returning-a-view-versus-a-copy\n",
      "  df[prompt_name][i] = isMatch\n"
     ]
    },
    {
     "name": "stdout",
     "output_type": "stream",
     "text": [
      "Are the following two products the same?\n",
      "Product 1: Title: ge 51207 smart home wireless motion sensor alarm\n",
      "Brand: general electric\n",
      "Description: use with the 120db motion sensing alarm system or switch to simple door chime mode to announce visitors perfect for home security or business \n",
      "Product 2: Title: ge composite a v cable 12\n",
      "Brand: general electric\n",
      "Description: ge composite a v cable 12 provides an a v connection to your audio and video source works with tvs dvd players satellites vcrs av receivers and dvrs model 33267\n",
      "\n",
      "Answer with 'True' or 'False'.\n",
      "__\n",
      "__\n",
      "False.\n",
      "__\n",
      "__\n",
      "239\n"
     ]
    },
    {
     "name": "stderr",
     "output_type": "stream",
     "text": [
      "/var/folders/gx/tzjwcf8x1llbhhf36mjt7xqr0000gn/T/ipykernel_98243/3776050204.py:45: SettingWithCopyWarning: \n",
      "A value is trying to be set on a copy of a slice from a DataFrame\n",
      "\n",
      "See the caveats in the documentation: https://pandas.pydata.org/pandas-docs/stable/user_guide/indexing.html#returning-a-view-versus-a-copy\n",
      "  df[prompt_name][i] = isMatch\n"
     ]
    },
    {
     "name": "stdout",
     "output_type": "stream",
     "text": [
      "Are the following two products the same?\n",
      "Product 1: Title: ge 54283 household polarized connector black\n",
      "Brand: general electric\n",
      "Description: none\n",
      "Product 2: Title: ge composite a v cable 12\n",
      "Brand: general electric\n",
      "Description: ge composite a v cable 12 provides an a v connection to your audio and video source works with tvs dvd players satellites vcrs av receivers and dvrs model 33267\n",
      "\n",
      "Answer with 'True' or 'False'.\n",
      "__\n",
      "__\n",
      "False.\n",
      "__\n",
      "__\n",
      "240\n"
     ]
    },
    {
     "name": "stderr",
     "output_type": "stream",
     "text": [
      "/var/folders/gx/tzjwcf8x1llbhhf36mjt7xqr0000gn/T/ipykernel_98243/3776050204.py:45: SettingWithCopyWarning: \n",
      "A value is trying to be set on a copy of a slice from a DataFrame\n",
      "\n",
      "See the caveats in the documentation: https://pandas.pydata.org/pandas-docs/stable/user_guide/indexing.html#returning-a-view-versus-a-copy\n",
      "  df[prompt_name][i] = isMatch\n"
     ]
    },
    {
     "name": "stdout",
     "output_type": "stream",
     "text": [
      "Are the following two products the same?\n",
      "Product 1: Title: ge dect 6 0 corded phone with cordless handset caller id answering system combination and large lcd display 30524ee2\n",
      "Brand: general electric\n",
      "Description: ge provides the highest quality communication products with progressive technology which are effortless to use and elegant in their design our commitment to innovation for enhancing the lives of our customers is equally shared with our dedication to \n",
      "Product 2: Title: ge composite a v cable 12\n",
      "Brand: general electric\n",
      "Description: ge composite a v cable 12 provides an a v connection to your audio and video source works with tvs dvd players satellites vcrs av receivers and dvrs model 33267\n",
      "\n",
      "Answer with 'True' or 'False'.\n",
      "__\n",
      "__\n",
      "False.\n",
      "__\n",
      "__\n",
      "241\n"
     ]
    },
    {
     "name": "stderr",
     "output_type": "stream",
     "text": [
      "/var/folders/gx/tzjwcf8x1llbhhf36mjt7xqr0000gn/T/ipykernel_98243/3776050204.py:45: SettingWithCopyWarning: \n",
      "A value is trying to be set on a copy of a slice from a DataFrame\n",
      "\n",
      "See the caveats in the documentation: https://pandas.pydata.org/pandas-docs/stable/user_guide/indexing.html#returning-a-view-versus-a-copy\n",
      "  df[prompt_name][i] = isMatch\n"
     ]
    },
    {
     "name": "stdout",
     "output_type": "stream",
     "text": [
      "Are the following two products the same?\n",
      "Product 1: Title: ge composite a v cable 12\n",
      "Brand: general electric\n",
      "Description: ge composite a v cable 12 provides an a v connection to your audio and video source works with tvs dvd players satellites vcrs av receivers and dvrs model 33267\n",
      "Product 2: Title: peerless hds100 hd flow wireless multimedia system black\n",
      "Brand: peerless\n",
      "Description: with the hd flow wireless multimedia kit hds100 you can wirelessly stream full hd 1080p 60 hz video and 5 1 channel digital audio for an exceptional viewing experience without the clutter of a v cables this kit offers a simple plug and play setup and\n",
      "\n",
      "Answer with 'True' or 'False'.\n",
      "__\n",
      "__\n",
      "False.\n",
      "__\n",
      "__\n",
      "242\n"
     ]
    },
    {
     "name": "stderr",
     "output_type": "stream",
     "text": [
      "/var/folders/gx/tzjwcf8x1llbhhf36mjt7xqr0000gn/T/ipykernel_98243/3776050204.py:45: SettingWithCopyWarning: \n",
      "A value is trying to be set on a copy of a slice from a DataFrame\n",
      "\n",
      "See the caveats in the documentation: https://pandas.pydata.org/pandas-docs/stable/user_guide/indexing.html#returning-a-view-versus-a-copy\n",
      "  df[prompt_name][i] = isMatch\n"
     ]
    },
    {
     "name": "stdout",
     "output_type": "stream",
     "text": [
      "Are the following two products the same?\n",
      "Product 1: Title: ge composite a v cable 12\n",
      "Brand: general electric\n",
      "Description: ge composite a v cable 12 provides an a v connection to your audio and video source works with tvs dvd players satellites vcrs av receivers and dvrs model 33267\n",
      "Product 2: Title: pc treasures 19386 treefrog camera accessory kit with adobe photo video editing software\n",
      "Brand: pc treasures\n",
      "Description: camera accessory kit mini tripod cleaning kit adobe photo editing and video editing software\n",
      "\n",
      "Answer with 'True' or 'False'.\n",
      "__\n",
      "__\n",
      "False.\n",
      "__\n",
      "__\n",
      "243\n"
     ]
    },
    {
     "name": "stderr",
     "output_type": "stream",
     "text": [
      "/var/folders/gx/tzjwcf8x1llbhhf36mjt7xqr0000gn/T/ipykernel_98243/3776050204.py:45: SettingWithCopyWarning: \n",
      "A value is trying to be set on a copy of a slice from a DataFrame\n",
      "\n",
      "See the caveats in the documentation: https://pandas.pydata.org/pandas-docs/stable/user_guide/indexing.html#returning-a-view-versus-a-copy\n",
      "  df[prompt_name][i] = isMatch\n"
     ]
    },
    {
     "name": "stdout",
     "output_type": "stream",
     "text": [
      "Are the following two products the same?\n",
      "Product 1: Title: ge composite a v cable 12\n",
      "Brand: general electric\n",
      "Description: ge composite a v cable 12 provides an a v connection to your audio and video source works with tvs dvd players satellites vcrs av receivers and dvrs model 33267\n",
      "Product 2: Title: noah company mediagate gv ir05wt 1 channel ir windows vista media center learning remote control black\n",
      "Brand: by noah company\n",
      "Description: three modes of device tv av and aux are for users to learn and store three sets of code into each mode in each mode 43 buttons learn ir commands from other remote controls this feature lets you use the media center remote control send commands to you\n",
      "\n",
      "Answer with 'True' or 'False'.\n",
      "__\n",
      "__\n",
      "False.\n",
      "__\n",
      "__\n",
      "244\n"
     ]
    },
    {
     "name": "stderr",
     "output_type": "stream",
     "text": [
      "/var/folders/gx/tzjwcf8x1llbhhf36mjt7xqr0000gn/T/ipykernel_98243/3776050204.py:45: SettingWithCopyWarning: \n",
      "A value is trying to be set on a copy of a slice from a DataFrame\n",
      "\n",
      "See the caveats in the documentation: https://pandas.pydata.org/pandas-docs/stable/user_guide/indexing.html#returning-a-view-versus-a-copy\n",
      "  df[prompt_name][i] = isMatch\n"
     ]
    },
    {
     "name": "stdout",
     "output_type": "stream",
     "text": [
      "Are the following two products the same?\n",
      "Product 1: Title: ge composite a v cable 12\n",
      "Brand: general electric\n",
      "Description: ge composite a v cable 12 provides an a v connection to your audio and video source works with tvs dvd players satellites vcrs av receivers and dvrs model 33267\n",
      "Product 2: Title: dect6 0 accessory handset 2887\n",
      "Brand: general electric\n",
      "Description: ge black cordless accessory handset for 28871 and 28861 series phones combines the unbeatable clarity of dect 6 0 interference free technology with handsfree ease of movement wifi freindly unit works with digital answering system in base unit to allo\n",
      "\n",
      "Answer with 'True' or 'False'.\n",
      "__\n",
      "__\n",
      "False. The two products are not the same.\n",
      "__\n",
      "__\n",
      "245\n"
     ]
    },
    {
     "name": "stderr",
     "output_type": "stream",
     "text": [
      "/var/folders/gx/tzjwcf8x1llbhhf36mjt7xqr0000gn/T/ipykernel_98243/3776050204.py:45: SettingWithCopyWarning: \n",
      "A value is trying to be set on a copy of a slice from a DataFrame\n",
      "\n",
      "See the caveats in the documentation: https://pandas.pydata.org/pandas-docs/stable/user_guide/indexing.html#returning-a-view-versus-a-copy\n",
      "  df[prompt_name][i] = isMatch\n"
     ]
    },
    {
     "name": "stdout",
     "output_type": "stream",
     "text": [
      "Are the following two products the same?\n",
      "Product 1: Title: rca rcrv06gr 6 device voice control remote gloss black\n",
      "Brand: rca\n",
      "Description: rca rcrv06g six device voice control universal remote hands free voice control just say the word and freedom is yours rca s voice control universal remote gives you the freedom you desire just say the word and you can easily control your home theater\n",
      "Product 2: Title: bell o high speed hdmi cable with ethernet 1 meter\n",
      "Brand: bell o\n",
      "Description: bell o high speed hdmi cable with ethernet 1 meter 14 9gbps truspeed transfer rate lifejacket ul listed for in wall installation hdmi ethernet channel audio return channel 1080p hd video 180 degree swivel connector head\n",
      "\n",
      "Answer with 'True' or 'False'.\n",
      "__\n",
      "__\n",
      "False.\n",
      "__\n",
      "__\n",
      "246\n"
     ]
    },
    {
     "name": "stderr",
     "output_type": "stream",
     "text": [
      "/var/folders/gx/tzjwcf8x1llbhhf36mjt7xqr0000gn/T/ipykernel_98243/3776050204.py:45: SettingWithCopyWarning: \n",
      "A value is trying to be set on a copy of a slice from a DataFrame\n",
      "\n",
      "See the caveats in the documentation: https://pandas.pydata.org/pandas-docs/stable/user_guide/indexing.html#returning-a-view-versus-a-copy\n",
      "  df[prompt_name][i] = isMatch\n"
     ]
    },
    {
     "name": "stdout",
     "output_type": "stream",
     "text": [
      "Are the following two products the same?\n",
      "Product 1: Title: bell o 7615b tilting low profile wall mount for a 37 inch to 52 inch flat screen tv up to 200 lb s black\n",
      "Brand: bell o\n",
      "Description: tilting low profile wall mount for a 37 inch to 52 inch flat screen tv up to 200lb s fits vesa configurations up to 700mm x 440mm \n",
      "Product 2: Title: bell o high speed hdmi cable with ethernet 1 meter\n",
      "Brand: bell o\n",
      "Description: bell o high speed hdmi cable with ethernet 1 meter 14 9gbps truspeed transfer rate lifejacket ul listed for in wall installation hdmi ethernet channel audio return channel 1080p hd video 180 degree swivel connector head\n",
      "\n",
      "Answer with 'True' or 'False'.\n",
      "__\n",
      "__\n",
      "False.\n",
      "__\n",
      "__\n",
      "247\n"
     ]
    },
    {
     "name": "stderr",
     "output_type": "stream",
     "text": [
      "/var/folders/gx/tzjwcf8x1llbhhf36mjt7xqr0000gn/T/ipykernel_98243/3776050204.py:45: SettingWithCopyWarning: \n",
      "A value is trying to be set on a copy of a slice from a DataFrame\n",
      "\n",
      "See the caveats in the documentation: https://pandas.pydata.org/pandas-docs/stable/user_guide/indexing.html#returning-a-view-versus-a-copy\n",
      "  df[prompt_name][i] = isMatch\n"
     ]
    },
    {
     "name": "stdout",
     "output_type": "stream",
     "text": [
      "Are the following two products the same?\n",
      "Product 1: Title: bell o hd7104 high speed hdmi cables\n",
      "Brand: bell o\n",
      "Description: bell o hdmi7100 series hd7104 13 1feet 4 meter high speed hdmi cables with 90 degree tight space adaptor ethernet and 3d ready engineered for superior performance advanced technologies including 3d ready ethernet capability and a 14 9 gigabit per sec\n",
      "Product 2: Title: bell o high speed hdmi cable with ethernet 1 meter\n",
      "Brand: bell o\n",
      "Description: bell o high speed hdmi cable with ethernet 1 meter 14 9gbps truspeed transfer rate lifejacket ul listed for in wall installation hdmi ethernet channel audio return channel 1080p hd video 180 degree swivel connector head\n",
      "\n",
      "Answer with 'True' or 'False'.\n",
      "__\n",
      "__\n",
      "False\n",
      "__\n",
      "__\n",
      "248\n"
     ]
    },
    {
     "name": "stderr",
     "output_type": "stream",
     "text": [
      "/var/folders/gx/tzjwcf8x1llbhhf36mjt7xqr0000gn/T/ipykernel_98243/3776050204.py:45: SettingWithCopyWarning: \n",
      "A value is trying to be set on a copy of a slice from a DataFrame\n",
      "\n",
      "See the caveats in the documentation: https://pandas.pydata.org/pandas-docs/stable/user_guide/indexing.html#returning-a-view-versus-a-copy\n",
      "  df[prompt_name][i] = isMatch\n"
     ]
    },
    {
     "name": "stdout",
     "output_type": "stream",
     "text": [
      "Are the following two products the same?\n",
      "Product 1: Title: bell o hd7102 high speed hdmi cables\n",
      "Brand: bell o\n",
      "Description: bell o hdmi7100 series hd7102 6 6 feet 2 meter high speed hdmi cables with 180 degree swivel head ethernet and 3d ready engineered for superior performance advanced technologies including 3d ready ethernet capability and a 14 9 gigabit per second tra\n",
      "Product 2: Title: bell o high speed hdmi cable with ethernet 1 meter\n",
      "Brand: bell o\n",
      "Description: bell o high speed hdmi cable with ethernet 1 meter 14 9gbps truspeed transfer rate lifejacket ul listed for in wall installation hdmi ethernet channel audio return channel 1080p hd video 180 degree swivel connector head\n",
      "\n",
      "Answer with 'True' or 'False'.\n",
      "__\n",
      "__\n",
      "False.\n",
      "__\n",
      "__\n",
      "249\n"
     ]
    },
    {
     "name": "stderr",
     "output_type": "stream",
     "text": [
      "/var/folders/gx/tzjwcf8x1llbhhf36mjt7xqr0000gn/T/ipykernel_98243/3776050204.py:45: SettingWithCopyWarning: \n",
      "A value is trying to be set on a copy of a slice from a DataFrame\n",
      "\n",
      "See the caveats in the documentation: https://pandas.pydata.org/pandas-docs/stable/user_guide/indexing.html#returning-a-view-versus-a-copy\n",
      "  df[prompt_name][i] = isMatch\n"
     ]
    },
    {
     "name": "stdout",
     "output_type": "stream",
     "text": [
      "Are the following two products the same?\n",
      "Product 1: Title: bell o 7848b tilt pan extending 28 inch articulating arm wall mount fits a 32 inch to 70 inch flat screen tv holds up to 200 lb s black\n",
      "Brand: bell o\n",
      "Description: tilt pan 28 inch articulating arm wall mount fits a 32 inch to 70 inch flat screen tv holds up to 200lb s fits vesa configurations from 300 x 100mm to 850 x 650mm \n",
      "Product 2: Title: bell o high speed hdmi cable with ethernet 1 meter\n",
      "Brand: bell o\n",
      "Description: bell o high speed hdmi cable with ethernet 1 meter 14 9gbps truspeed transfer rate lifejacket ul listed for in wall installation hdmi ethernet channel audio return channel 1080p hd video 180 degree swivel connector head\n",
      "\n",
      "Answer with 'True' or 'False'.\n",
      "__\n",
      "__\n",
      "False.\n",
      "__\n",
      "__\n",
      "250\n"
     ]
    },
    {
     "name": "stderr",
     "output_type": "stream",
     "text": [
      "/var/folders/gx/tzjwcf8x1llbhhf36mjt7xqr0000gn/T/ipykernel_98243/3776050204.py:45: SettingWithCopyWarning: \n",
      "A value is trying to be set on a copy of a slice from a DataFrame\n",
      "\n",
      "See the caveats in the documentation: https://pandas.pydata.org/pandas-docs/stable/user_guide/indexing.html#returning-a-view-versus-a-copy\n",
      "  df[prompt_name][i] = isMatch\n"
     ]
    },
    {
     "name": "stdout",
     "output_type": "stream",
     "text": [
      "Are the following two products the same?\n",
      "Product 1: Title: da lite floating mounting bracket for projection screen\n",
      "Brand: da lite\n",
      "Description: da lite floating mounting bracket for projection screen floating mounting brkts cosmo color black\n",
      "Product 2: Title: bell o high speed hdmi cable with ethernet 1 meter\n",
      "Brand: bell o\n",
      "Description: bell o high speed hdmi cable with ethernet 1 meter 14 9gbps truspeed transfer rate lifejacket ul listed for in wall installation hdmi ethernet channel audio return channel 1080p hd video 180 degree swivel connector head\n",
      "\n",
      "Answer with 'True' or 'False'.\n",
      "__\n",
      "__\n",
      "False.\n",
      "__\n",
      "__\n",
      "251\n"
     ]
    },
    {
     "name": "stderr",
     "output_type": "stream",
     "text": [
      "/var/folders/gx/tzjwcf8x1llbhhf36mjt7xqr0000gn/T/ipykernel_98243/3776050204.py:45: SettingWithCopyWarning: \n",
      "A value is trying to be set on a copy of a slice from a DataFrame\n",
      "\n",
      "See the caveats in the documentation: https://pandas.pydata.org/pandas-docs/stable/user_guide/indexing.html#returning-a-view-versus-a-copy\n",
      "  df[prompt_name][i] = isMatch\n"
     ]
    },
    {
     "name": "stdout",
     "output_type": "stream",
     "text": [
      "Are the following two products the same?\n",
      "Product 1: Title: bell o high speed hdmi cable with ethernet 1 meter\n",
      "Brand: bell o\n",
      "Description: bell o high speed hdmi cable with ethernet 1 meter 14 9gbps truspeed transfer rate lifejacket ul listed for in wall installation hdmi ethernet channel audio return channel 1080p hd video 180 degree swivel connector head\n",
      "Product 2: Title: bell o scl 1008 screen cleaner kit\n",
      "Brand: bell o\n",
      "Description: your tv screen is coated with a special coating for protection and anti reflection this coating can be easily damaged by household cleaners and cloths the bell o tv screen cleaner and optic quality micro filament cleaning cloth have been specially de\n",
      "\n",
      "Answer with 'True' or 'False'.\n",
      "__\n",
      "__\n",
      "False.\n",
      "__\n",
      "__\n",
      "252\n"
     ]
    },
    {
     "name": "stderr",
     "output_type": "stream",
     "text": [
      "/var/folders/gx/tzjwcf8x1llbhhf36mjt7xqr0000gn/T/ipykernel_98243/3776050204.py:45: SettingWithCopyWarning: \n",
      "A value is trying to be set on a copy of a slice from a DataFrame\n",
      "\n",
      "See the caveats in the documentation: https://pandas.pydata.org/pandas-docs/stable/user_guide/indexing.html#returning-a-view-versus-a-copy\n",
      "  df[prompt_name][i] = isMatch\n"
     ]
    },
    {
     "name": "stdout",
     "output_type": "stream",
     "text": [
      "Are the following two products the same?\n",
      "Product 1: Title: bell o high speed hdmi cable with ethernet 1 meter\n",
      "Brand: bell o\n",
      "Description: bell o high speed hdmi cable with ethernet 1 meter 14 9gbps truspeed transfer rate lifejacket ul listed for in wall installation hdmi ethernet channel audio return channel 1080p hd video 180 degree swivel connector head\n",
      "Product 2: Title: bello hd3102 hdmi cable\n",
      "Brand: bell o\n",
      "Description: 10 2 gbps high speed 3d ready 1080p hd video ul cl3 listed for in wall installation 24k gold plating for optimum data transfer 99 99 oxygen free copper 2m\n",
      "\n",
      "Answer with 'True' or 'False'.\n",
      "__\n",
      "__\n",
      "False.\n",
      "__\n",
      "__\n",
      "253\n"
     ]
    },
    {
     "name": "stderr",
     "output_type": "stream",
     "text": [
      "/var/folders/gx/tzjwcf8x1llbhhf36mjt7xqr0000gn/T/ipykernel_98243/3776050204.py:45: SettingWithCopyWarning: \n",
      "A value is trying to be set on a copy of a slice from a DataFrame\n",
      "\n",
      "See the caveats in the documentation: https://pandas.pydata.org/pandas-docs/stable/user_guide/indexing.html#returning-a-view-versus-a-copy\n",
      "  df[prompt_name][i] = isMatch\n"
     ]
    },
    {
     "name": "stdout",
     "output_type": "stream",
     "text": [
      "Are the following two products the same?\n",
      "Product 1: Title: ds1da2 mounting arm\n",
      "Brand: v7\n",
      "Description: v7 ds1da2 mounting arm ds1da2 tv amp display mounts amp adapters\n",
      "Product 2: Title: comprehensive two piece 75 precision bnc jack for rg 59 set of 25\n",
      "Brand: comprehensive\n",
      "Description: ch1151comprehensive s true 75 connectors eliminate impedance mismatching and distortion that can be caused by using 50 connectors on 75 cable true 75 bnc connectors are a must for all digital high bandwidth applications above 300 mhz and recommended \n",
      "\n",
      "Answer with 'True' or 'False'.\n",
      "__\n",
      "__\n",
      "False.\n",
      "__\n",
      "__\n",
      "254\n"
     ]
    },
    {
     "name": "stderr",
     "output_type": "stream",
     "text": [
      "/var/folders/gx/tzjwcf8x1llbhhf36mjt7xqr0000gn/T/ipykernel_98243/3776050204.py:45: SettingWithCopyWarning: \n",
      "A value is trying to be set on a copy of a slice from a DataFrame\n",
      "\n",
      "See the caveats in the documentation: https://pandas.pydata.org/pandas-docs/stable/user_guide/indexing.html#returning-a-view-versus-a-copy\n",
      "  df[prompt_name][i] = isMatch\n"
     ]
    },
    {
     "name": "stdout",
     "output_type": "stream",
     "text": [
      "Are the following two products the same?\n",
      "Product 1: Title: ds1da2 mounting arm\n",
      "Brand: v7\n",
      "Description: v7 ds1da2 mounting arm ds1da2 tv amp display mounts amp adapters\n",
      "Product 2: Title: middle atlantic 30 amp stand alone mpr module\n",
      "Brand: middle atlantic\n",
      "Description: df217630 amp stand alone mpr module accepts nema l 520 20 amp twistlock plugs remote 12v dc dry closure local switch control w status led \n",
      "\n",
      "Answer with 'True' or 'False'.\n",
      "__\n",
      "__\n",
      "True\n",
      "__\n",
      "__\n",
      "255\n"
     ]
    },
    {
     "name": "stderr",
     "output_type": "stream",
     "text": [
      "/var/folders/gx/tzjwcf8x1llbhhf36mjt7xqr0000gn/T/ipykernel_98243/3776050204.py:45: SettingWithCopyWarning: \n",
      "A value is trying to be set on a copy of a slice from a DataFrame\n",
      "\n",
      "See the caveats in the documentation: https://pandas.pydata.org/pandas-docs/stable/user_guide/indexing.html#returning-a-view-versus-a-copy\n",
      "  df[prompt_name][i] = isMatch\n"
     ]
    },
    {
     "name": "stdout",
     "output_type": "stream",
     "text": [
      "Are the following two products the same?\n",
      "Product 1: Title: ds1da2 mounting arm\n",
      "Brand: v7\n",
      "Description: v7 ds1da2 mounting arm ds1da2 tv amp display mounts amp adapters\n",
      "Product 2: Title: cp technologies levelone wan 2140 panel antenna\n",
      "Brand: cp tech\n",
      "Description: cp technologies levelone wan 2140 panel antenna for ieee 802 11b g applications at the range between 2 4ghz 2 5ghz frequency band easy to install for vertical or horizontal polarization directional operation provides extended point to point coverage \n",
      "\n",
      "Answer with 'True' or 'False'.\n",
      "__\n",
      "__\n",
      "True.\n",
      "__\n",
      "__\n",
      "256\n"
     ]
    },
    {
     "name": "stderr",
     "output_type": "stream",
     "text": [
      "/var/folders/gx/tzjwcf8x1llbhhf36mjt7xqr0000gn/T/ipykernel_98243/3776050204.py:45: SettingWithCopyWarning: \n",
      "A value is trying to be set on a copy of a slice from a DataFrame\n",
      "\n",
      "See the caveats in the documentation: https://pandas.pydata.org/pandas-docs/stable/user_guide/indexing.html#returning-a-view-versus-a-copy\n",
      "  df[prompt_name][i] = isMatch\n"
     ]
    },
    {
     "name": "stdout",
     "output_type": "stream",
     "text": [
      "Are the following two products the same?\n",
      "Product 1: Title: ds1da2 mounting arm\n",
      "Brand: v7\n",
      "Description: v7 ds1da2 mounting arm ds1da2 tv amp display mounts amp adapters\n",
      "Product 2: Title: middle atlantic remote control switch\n",
      "Brand: middle atlantic\n",
      "Description: df3020the control switches provide remote up down sequence initiation status led indicators can connect to our sequencing controllers remote wallplate keyswitch with led status indicators \n",
      "\n",
      "Answer with 'True' or 'False'.\n",
      "__\n",
      "__\n",
      "False.\n",
      "__\n",
      "__\n",
      "257\n"
     ]
    },
    {
     "name": "stderr",
     "output_type": "stream",
     "text": [
      "/var/folders/gx/tzjwcf8x1llbhhf36mjt7xqr0000gn/T/ipykernel_98243/3776050204.py:45: SettingWithCopyWarning: \n",
      "A value is trying to be set on a copy of a slice from a DataFrame\n",
      "\n",
      "See the caveats in the documentation: https://pandas.pydata.org/pandas-docs/stable/user_guide/indexing.html#returning-a-view-versus-a-copy\n",
      "  df[prompt_name][i] = isMatch\n"
     ]
    },
    {
     "name": "stdout",
     "output_type": "stream",
     "text": [
      "Are the following two products the same?\n",
      "Product 1: Title: ds1da2 mounting arm\n",
      "Brand: v7\n",
      "Description: v7 ds1da2 mounting arm ds1da2 tv amp display mounts amp adapters\n",
      "Product 2: Title: comprehensive high density15 pin vga male metal connector with hood set of 25\n",
      "Brand: comprehensive\n",
      "Description: ch1307comprehensive premium high density 15 pin plug with metal hood video computer connector these high density male metal connectors include the hood as well as the comprehensive lifetime warranty comprehensive offers a lifetime warranty on all pro\n",
      "\n",
      "Answer with 'True' or 'False'.\n",
      "__\n",
      "__\n",
      "False.\n",
      "__\n",
      "__\n",
      "258\n"
     ]
    },
    {
     "name": "stderr",
     "output_type": "stream",
     "text": [
      "/var/folders/gx/tzjwcf8x1llbhhf36mjt7xqr0000gn/T/ipykernel_98243/3776050204.py:45: SettingWithCopyWarning: \n",
      "A value is trying to be set on a copy of a slice from a DataFrame\n",
      "\n",
      "See the caveats in the documentation: https://pandas.pydata.org/pandas-docs/stable/user_guide/indexing.html#returning-a-view-versus-a-copy\n",
      "  df[prompt_name][i] = isMatch\n"
     ]
    },
    {
     "name": "stdout",
     "output_type": "stream",
     "text": [
      "Are the following two products the same?\n",
      "Product 1: Title: ds1da2 mounting arm\n",
      "Brand: v7\n",
      "Description: v7 ds1da2 mounting arm ds1da2 tv amp display mounts amp adapters\n",
      "Product 2: Title: 15 rg6 video cable white\n",
      "Brand: ge\n",
      "Description: 15 rg6 video cable for f type jacks 15 long color white\n",
      "\n",
      "Answer with 'True' or 'False'.\n",
      "__\n",
      "__\n",
      "False.\n",
      "__\n",
      "__\n",
      "259\n"
     ]
    },
    {
     "name": "stderr",
     "output_type": "stream",
     "text": [
      "/var/folders/gx/tzjwcf8x1llbhhf36mjt7xqr0000gn/T/ipykernel_98243/3776050204.py:45: SettingWithCopyWarning: \n",
      "A value is trying to be set on a copy of a slice from a DataFrame\n",
      "\n",
      "See the caveats in the documentation: https://pandas.pydata.org/pandas-docs/stable/user_guide/indexing.html#returning-a-view-versus-a-copy\n",
      "  df[prompt_name][i] = isMatch\n"
     ]
    },
    {
     "name": "stdout",
     "output_type": "stream",
     "text": [
      "Are the following two products the same?\n",
      "Product 1: Title: ds1da2 mounting arm\n",
      "Brand: v7\n",
      "Description: v7 ds1da2 mounting arm ds1da2 tv amp display mounts amp adapters\n",
      "Product 2: Title: ematic articulating wall mount kit for 15 tv includes 6ft hdmi cable cleaning solution cleaning cloth emw3202\n",
      "Brand: ematic\n",
      "Description: ematic articulating 15 tv wall mount kit kit includes the tv wall mount a 6ft 1080p hdmi cable and a cleaning kit for use with 15 lcd tvs extends up to 10 8 27 4cm from the wall completely adjustable for optimal viewings with a 13 8 degree tilt and 1\n",
      "\n",
      "Answer with 'True' or 'False'.\n",
      "__\n",
      "__\n",
      "False.\n",
      "__\n",
      "__\n",
      "260\n"
     ]
    },
    {
     "name": "stderr",
     "output_type": "stream",
     "text": [
      "/var/folders/gx/tzjwcf8x1llbhhf36mjt7xqr0000gn/T/ipykernel_98243/3776050204.py:45: SettingWithCopyWarning: \n",
      "A value is trying to be set on a copy of a slice from a DataFrame\n",
      "\n",
      "See the caveats in the documentation: https://pandas.pydata.org/pandas-docs/stable/user_guide/indexing.html#returning-a-view-versus-a-copy\n",
      "  df[prompt_name][i] = isMatch\n"
     ]
    },
    {
     "name": "stdout",
     "output_type": "stream",
     "text": [
      "Are the following two products the same?\n",
      "Product 1: Title: ds1da2 mounting arm\n",
      "Brand: v7\n",
      "Description: v7 ds1da2 mounting arm ds1da2 tv amp display mounts amp adapters\n",
      "Product 2: Title: ematic full motion wall mount kit for 37 tv with 6ft hdmi cable 15ft hdmi cable cleaning solution cleaning cloth emw5001\n",
      "Brand: ematic\n",
      "Description: ematic full motion lcd tv wall mount kit for 37 41 5cm from the wall completely adjustable for optimal viewings with a 180 swivel pan and a 15 tilt down maximum weight capacity of 132lbs standard vesa mounting hole patterns supporting up to a maximum\n",
      "\n",
      "Answer with 'True' or 'False'.\n",
      "__\n",
      "__\n",
      "False.\n",
      "__\n",
      "__\n",
      "261\n"
     ]
    },
    {
     "name": "stderr",
     "output_type": "stream",
     "text": [
      "/var/folders/gx/tzjwcf8x1llbhhf36mjt7xqr0000gn/T/ipykernel_98243/3776050204.py:45: SettingWithCopyWarning: \n",
      "A value is trying to be set on a copy of a slice from a DataFrame\n",
      "\n",
      "See the caveats in the documentation: https://pandas.pydata.org/pandas-docs/stable/user_guide/indexing.html#returning-a-view-versus-a-copy\n",
      "  df[prompt_name][i] = isMatch\n"
     ]
    },
    {
     "name": "stdout",
     "output_type": "stream",
     "text": [
      "Are the following two products the same?\n",
      "Product 1: Title: ds1da2 mounting arm\n",
      "Brand: v7\n",
      "Description: v7 ds1da2 mounting arm ds1da2 tv amp display mounts amp adapters\n",
      "Product 2: Title: srs labs analog rca volume leveler\n",
      "Brand: srs labs\n",
      "Description: srs labs analog rca volume leveler maintains steady volume level reproduces sound true to original recording clear audio and video easy installation includes rca cable\n",
      "\n",
      "Answer with 'True' or 'False'.\n",
      "__\n",
      "__\n",
      "False.\n",
      "__\n",
      "__\n",
      "262\n"
     ]
    },
    {
     "name": "stderr",
     "output_type": "stream",
     "text": [
      "/var/folders/gx/tzjwcf8x1llbhhf36mjt7xqr0000gn/T/ipykernel_98243/3776050204.py:45: SettingWithCopyWarning: \n",
      "A value is trying to be set on a copy of a slice from a DataFrame\n",
      "\n",
      "See the caveats in the documentation: https://pandas.pydata.org/pandas-docs/stable/user_guide/indexing.html#returning-a-view-versus-a-copy\n",
      "  df[prompt_name][i] = isMatch\n"
     ]
    },
    {
     "name": "stdout",
     "output_type": "stream",
     "text": [
      "Are the following two products the same?\n",
      "Product 1: Title: ds1da2 mounting arm\n",
      "Brand: v7\n",
      "Description: v7 ds1da2 mounting arm ds1da2 tv amp display mounts amp adapters\n",
      "Product 2: Title: bell o high speed hdmi cable with ethernet 2 meter\n",
      "Brand: bell o\n",
      "Description: bell o high speed hdmi cable with ethernet 2 meter 14 9gbps truspeed transfer rate lifejacket ul listed for in wall installation hdmi ethernet channel audio return channel 1080p hd video 180 degree swivel connector head\n",
      "\n",
      "Answer with 'True' or 'False'.\n",
      "__\n",
      "__\n",
      "False.\n",
      "__\n",
      "__\n",
      "263\n"
     ]
    },
    {
     "name": "stderr",
     "output_type": "stream",
     "text": [
      "/var/folders/gx/tzjwcf8x1llbhhf36mjt7xqr0000gn/T/ipykernel_98243/3776050204.py:45: SettingWithCopyWarning: \n",
      "A value is trying to be set on a copy of a slice from a DataFrame\n",
      "\n",
      "See the caveats in the documentation: https://pandas.pydata.org/pandas-docs/stable/user_guide/indexing.html#returning-a-view-versus-a-copy\n",
      "  df[prompt_name][i] = isMatch\n"
     ]
    },
    {
     "name": "stdout",
     "output_type": "stream",
     "text": [
      "Are the following two products the same?\n",
      "Product 1: Title: ds1da2 mounting arm\n",
      "Brand: v7\n",
      "Description: v7 ds1da2 mounting arm ds1da2 tv amp display mounts amp adapters\n",
      "Product 2: Title: peerless paramount articulating flat panel wall arm 37 to 60 screens\n",
      "Brand: peerless\n",
      "Description: pe2747this solution captures the essence of articulating mounts while offering a high performance feature packed design for any budget delivering exceptional strength and durability this mount supports flat panel tvs from 37 to 60 its smooth motion e\n",
      "\n",
      "Answer with 'True' or 'False'.\n",
      "__\n",
      "__\n",
      "False.\n",
      "__\n",
      "__\n",
      "264\n"
     ]
    },
    {
     "name": "stderr",
     "output_type": "stream",
     "text": [
      "/var/folders/gx/tzjwcf8x1llbhhf36mjt7xqr0000gn/T/ipykernel_98243/3776050204.py:45: SettingWithCopyWarning: \n",
      "A value is trying to be set on a copy of a slice from a DataFrame\n",
      "\n",
      "See the caveats in the documentation: https://pandas.pydata.org/pandas-docs/stable/user_guide/indexing.html#returning-a-view-versus-a-copy\n",
      "  df[prompt_name][i] = isMatch\n"
     ]
    },
    {
     "name": "stdout",
     "output_type": "stream",
     "text": [
      "Are the following two products the same?\n",
      "Product 1: Title: ds1da2 mounting arm\n",
      "Brand: v7\n",
      "Description: v7 ds1da2 mounting arm ds1da2 tv amp display mounts amp adapters\n",
      "Product 2: Title: bell o high speed hdmi cable with ethernet 1 meter\n",
      "Brand: bell o\n",
      "Description: bell o high speed hdmi cable with ethernet 1 meter 14 9gbps truspeed transfer rate lifejacket ul listed for in wall installation hdmi ethernet channel audio return channel 1080p hd video 180 degree swivel connector head\n",
      "\n",
      "Answer with 'True' or 'False'.\n",
      "__\n",
      "__\n",
      "False.\n",
      "__\n",
      "__\n",
      "265\n"
     ]
    },
    {
     "name": "stderr",
     "output_type": "stream",
     "text": [
      "/var/folders/gx/tzjwcf8x1llbhhf36mjt7xqr0000gn/T/ipykernel_98243/3776050204.py:45: SettingWithCopyWarning: \n",
      "A value is trying to be set on a copy of a slice from a DataFrame\n",
      "\n",
      "See the caveats in the documentation: https://pandas.pydata.org/pandas-docs/stable/user_guide/indexing.html#returning-a-view-versus-a-copy\n",
      "  df[prompt_name][i] = isMatch\n"
     ]
    },
    {
     "name": "stdout",
     "output_type": "stream",
     "text": [
      "Are the following two products the same?\n",
      "Product 1: Title: ds1da2 mounting arm\n",
      "Brand: v7\n",
      "Description: v7 ds1da2 mounting arm ds1da2 tv amp display mounts amp adapters\n",
      "Product 2: Title: accell proultra 4m hdmi ethernet cable\n",
      "Brand: accell\n",
      "Description: accell proultra 4m hdmi ethernet cable high speed up to 10 2gbps integrated hdmi ethernet and audio return channels supports 3d and 4k video supports deep color and x v color cable length 4m\n",
      "\n",
      "Answer with 'True' or 'False'.\n",
      "__\n",
      "__\n",
      "False.\n",
      "__\n",
      "__\n",
      "266\n"
     ]
    },
    {
     "name": "stderr",
     "output_type": "stream",
     "text": [
      "/var/folders/gx/tzjwcf8x1llbhhf36mjt7xqr0000gn/T/ipykernel_98243/3776050204.py:45: SettingWithCopyWarning: \n",
      "A value is trying to be set on a copy of a slice from a DataFrame\n",
      "\n",
      "See the caveats in the documentation: https://pandas.pydata.org/pandas-docs/stable/user_guide/indexing.html#returning-a-view-versus-a-copy\n",
      "  df[prompt_name][i] = isMatch\n"
     ]
    },
    {
     "name": "stdout",
     "output_type": "stream",
     "text": [
      "Are the following two products the same?\n",
      "Product 1: Title: ds1da2 mounting arm\n",
      "Brand: v7\n",
      "Description: v7 ds1da2 mounting arm ds1da2 tv amp display mounts amp adapters\n",
      "Product 2: Title: level tv wall mount full motion mount for 10 30 flat panel tvs dc30t\n",
      "Brand: level mount\n",
      "Description: cord management system neatly gathers and routes cords for a clean look built in bubble level stud finder and all hardware included extender plates pan 30 and tilt 15 2 piece design vesa 75 x 75 100 x 100 and 200 x 100 mm mounting hole patterns\n",
      "\n",
      "Answer with 'True' or 'False'.\n",
      "__\n",
      "__\n",
      "False.\n",
      "__\n",
      "__\n",
      "267\n"
     ]
    },
    {
     "name": "stderr",
     "output_type": "stream",
     "text": [
      "/var/folders/gx/tzjwcf8x1llbhhf36mjt7xqr0000gn/T/ipykernel_98243/3776050204.py:45: SettingWithCopyWarning: \n",
      "A value is trying to be set on a copy of a slice from a DataFrame\n",
      "\n",
      "See the caveats in the documentation: https://pandas.pydata.org/pandas-docs/stable/user_guide/indexing.html#returning-a-view-versus-a-copy\n",
      "  df[prompt_name][i] = isMatch\n"
     ]
    },
    {
     "name": "stdout",
     "output_type": "stream",
     "text": [
      "Are the following two products the same?\n",
      "Product 1: Title: ds1da2 mounting arm\n",
      "Brand: v7\n",
      "Description: v7 ds1da2 mounting arm ds1da2 tv amp display mounts amp adapters\n",
      "Product 2: Title: arrowmounts cantilever retractable wall mount for flat panel tvs up to 27\n",
      "Brand: arrowmounts\n",
      "Description: arrowmounts cantilever retractable wall mount for flat panel tvs up to 27 tilts 20 degrees upward and 20 degrees downward swivels 180 degrees color black includes installation guide and hardware kit\n",
      "\n",
      "Answer with 'True' or 'False'.\n",
      "__\n",
      "__\n",
      "False.\n",
      "__\n",
      "__\n",
      "268\n"
     ]
    },
    {
     "name": "stderr",
     "output_type": "stream",
     "text": [
      "/var/folders/gx/tzjwcf8x1llbhhf36mjt7xqr0000gn/T/ipykernel_98243/3776050204.py:45: SettingWithCopyWarning: \n",
      "A value is trying to be set on a copy of a slice from a DataFrame\n",
      "\n",
      "See the caveats in the documentation: https://pandas.pydata.org/pandas-docs/stable/user_guide/indexing.html#returning-a-view-versus-a-copy\n",
      "  df[prompt_name][i] = isMatch\n"
     ]
    },
    {
     "name": "stdout",
     "output_type": "stream",
     "text": [
      "Are the following two products the same?\n",
      "Product 1: Title: ds1da2 mounting arm\n",
      "Brand: v7\n",
      "Description: v7 ds1da2 mounting arm ds1da2 tv amp display mounts amp adapters\n",
      "Product 2: Title: v7 professional 17 front loader laptop case\n",
      "Brand: v7\n",
      "Description: v7 professional 17 material nylon polyester key clip three pen loops and business card holder 2 netted accessory pockets padded shoulder straps and cushioned handles\n",
      "\n",
      "Answer with 'True' or 'False'.\n",
      "__\n",
      "__\n",
      "False.\n",
      "__\n",
      "__\n",
      "269\n"
     ]
    },
    {
     "name": "stderr",
     "output_type": "stream",
     "text": [
      "/var/folders/gx/tzjwcf8x1llbhhf36mjt7xqr0000gn/T/ipykernel_98243/3776050204.py:45: SettingWithCopyWarning: \n",
      "A value is trying to be set on a copy of a slice from a DataFrame\n",
      "\n",
      "See the caveats in the documentation: https://pandas.pydata.org/pandas-docs/stable/user_guide/indexing.html#returning-a-view-versus-a-copy\n",
      "  df[prompt_name][i] = isMatch\n"
     ]
    },
    {
     "name": "stdout",
     "output_type": "stream",
     "text": [
      "Are the following two products the same?\n",
      "Product 1: Title: ds1da2 mounting arm\n",
      "Brand: v7\n",
      "Description: v7 ds1da2 mounting arm ds1da2 tv amp display mounts amp adapters\n",
      "Product 2: Title: ge composite a v cable 12\n",
      "Brand: general electric\n",
      "Description: ge composite a v cable 12 provides an a v connection to your audio and video source works with tvs dvd players satellites vcrs av receivers and dvrs model 33267\n",
      "\n",
      "Answer with 'True' or 'False'.\n",
      "__\n",
      "__\n",
      "False.\n",
      "__\n",
      "__\n",
      "270\n"
     ]
    },
    {
     "name": "stderr",
     "output_type": "stream",
     "text": [
      "/var/folders/gx/tzjwcf8x1llbhhf36mjt7xqr0000gn/T/ipykernel_98243/3776050204.py:45: SettingWithCopyWarning: \n",
      "A value is trying to be set on a copy of a slice from a DataFrame\n",
      "\n",
      "See the caveats in the documentation: https://pandas.pydata.org/pandas-docs/stable/user_guide/indexing.html#returning-a-view-versus-a-copy\n",
      "  df[prompt_name][i] = isMatch\n"
     ]
    },
    {
     "name": "stdout",
     "output_type": "stream",
     "text": [
      "Are the following two products the same?\n",
      "Product 1: Title: ds1da2 mounting arm\n",
      "Brand: v7\n",
      "Description: v7 ds1da2 mounting arm ds1da2 tv amp display mounts amp adapters\n",
      "Product 2: Title: peerless smartmount universal flat mount 32 50 screens\n",
      "Brand: peerless\n",
      "Description: versatile functionality and solid engineering makes the new sf650 universal flat lcd plasma mount and intelligent choice for boardrooms digital signage or home theaters smartmount universal flat wall mounts come with everything you need for a quick a\n",
      "\n",
      "Answer with 'True' or 'False'.\n",
      "__\n",
      "__\n",
      "False.\n",
      "__\n",
      "__\n",
      "271\n"
     ]
    },
    {
     "name": "stderr",
     "output_type": "stream",
     "text": [
      "/var/folders/gx/tzjwcf8x1llbhhf36mjt7xqr0000gn/T/ipykernel_98243/3776050204.py:45: SettingWithCopyWarning: \n",
      "A value is trying to be set on a copy of a slice from a DataFrame\n",
      "\n",
      "See the caveats in the documentation: https://pandas.pydata.org/pandas-docs/stable/user_guide/indexing.html#returning-a-view-versus-a-copy\n",
      "  df[prompt_name][i] = isMatch\n"
     ]
    },
    {
     "name": "stdout",
     "output_type": "stream",
     "text": [
      "Are the following two products the same?\n",
      "Product 1: Title: ds1da2 mounting arm\n",
      "Brand: v7\n",
      "Description: v7 ds1da2 mounting arm ds1da2 tv amp display mounts amp adapters\n",
      "Product 2: Title: v7 m30p20 7n standard ps 2 optical mouse\n",
      "Brand: v7\n",
      "Description: get contoured comfort and optimum ease of use with the v7 standard ps 2 mouse its plug and play functionality provides simplicity while v7 s sleek textured plastic provides maximum precision with minimal mouse movement the mouse is 100 percent compat\n",
      "\n",
      "Answer with 'True' or 'False'.\n",
      "__\n",
      "__\n",
      "False. The two products are different.\n",
      "__\n",
      "__\n",
      "272\n"
     ]
    },
    {
     "name": "stderr",
     "output_type": "stream",
     "text": [
      "/var/folders/gx/tzjwcf8x1llbhhf36mjt7xqr0000gn/T/ipykernel_98243/3776050204.py:45: SettingWithCopyWarning: \n",
      "A value is trying to be set on a copy of a slice from a DataFrame\n",
      "\n",
      "See the caveats in the documentation: https://pandas.pydata.org/pandas-docs/stable/user_guide/indexing.html#returning-a-view-versus-a-copy\n",
      "  df[prompt_name][i] = isMatch\n"
     ]
    },
    {
     "name": "stdout",
     "output_type": "stream",
     "text": [
      "Are the following two products the same?\n",
      "Product 1: Title: ds1da2 mounting arm\n",
      "Brand: v7\n",
      "Description: v7 ds1da2 mounting arm ds1da2 tv amp display mounts amp adapters\n",
      "Product 2: Title: apc line r 1200va line conditioner with automatic voltage regulator le1200\n",
      "Brand: apc\n",
      "Description: surge protection reset able circuit breaker 60hz frequency protects from brownouts surges and over voltage\n",
      "\n",
      "Answer with 'True' or 'False'.\n",
      "__\n",
      "__\n",
      "False.\n",
      "__\n",
      "__\n",
      "273\n"
     ]
    },
    {
     "name": "stderr",
     "output_type": "stream",
     "text": [
      "/var/folders/gx/tzjwcf8x1llbhhf36mjt7xqr0000gn/T/ipykernel_98243/3776050204.py:45: SettingWithCopyWarning: \n",
      "A value is trying to be set on a copy of a slice from a DataFrame\n",
      "\n",
      "See the caveats in the documentation: https://pandas.pydata.org/pandas-docs/stable/user_guide/indexing.html#returning-a-view-versus-a-copy\n",
      "  df[prompt_name][i] = isMatch\n"
     ]
    },
    {
     "name": "stdout",
     "output_type": "stream",
     "text": [
      "Are the following two products the same?\n",
      "Product 1: Title: cables unlimited 18 inch ide dual device 40 pin cable\n",
      "Brand: cables unlimited\n",
      "Description: cables unlimited unlimited 2 device ide cable flt 1600 18 cables\n",
      "Product 2: Title: cables unlimited 2 port e sata controller pci express card\n",
      "Brand: cables unlimited\n",
      "Description: cables unlimited 2 port e sata controller pci express card easy to install and configure pci express card adds 2 e sata ports to any newer pc includes an extra pci express slot this simple and reliable card is compatible with all e sata peripherals a\n",
      "\n",
      "Answer with 'True' or 'False'.\n",
      "__\n",
      "__\n",
      "False.\n",
      "__\n",
      "__\n",
      "274\n"
     ]
    },
    {
     "name": "stderr",
     "output_type": "stream",
     "text": [
      "/var/folders/gx/tzjwcf8x1llbhhf36mjt7xqr0000gn/T/ipykernel_98243/3776050204.py:45: SettingWithCopyWarning: \n",
      "A value is trying to be set on a copy of a slice from a DataFrame\n",
      "\n",
      "See the caveats in the documentation: https://pandas.pydata.org/pandas-docs/stable/user_guide/indexing.html#returning-a-view-versus-a-copy\n",
      "  df[prompt_name][i] = isMatch\n"
     ]
    },
    {
     "name": "stdout",
     "output_type": "stream",
     "text": [
      "Are the following two products the same?\n",
      "Product 1: Title: cables unlimited utp 6350 kit cat5e networkinstallation kit 1 pack gray\n",
      "Brand: cables unlimited\n",
      "Description: this network cable kit includes everything you need for a successful hassle free installation includes all of the necessary tools and cables to get your network up and running in no time who needs all the worries about finding the right tools when yo\n",
      "Product 2: Title: cables unlimited 2 port e sata controller pci express card\n",
      "Brand: cables unlimited\n",
      "Description: cables unlimited 2 port e sata controller pci express card easy to install and configure pci express card adds 2 e sata ports to any newer pc includes an extra pci express slot this simple and reliable card is compatible with all e sata peripherals a\n",
      "\n",
      "Answer with 'True' or 'False'.\n",
      "__\n",
      "__\n",
      "False.\n",
      "__\n",
      "__\n",
      "275\n"
     ]
    },
    {
     "name": "stderr",
     "output_type": "stream",
     "text": [
      "/var/folders/gx/tzjwcf8x1llbhhf36mjt7xqr0000gn/T/ipykernel_98243/3776050204.py:45: SettingWithCopyWarning: \n",
      "A value is trying to be set on a copy of a slice from a DataFrame\n",
      "\n",
      "See the caveats in the documentation: https://pandas.pydata.org/pandas-docs/stable/user_guide/indexing.html#returning-a-view-versus-a-copy\n",
      "  df[prompt_name][i] = isMatch\n"
     ]
    },
    {
     "name": "stdout",
     "output_type": "stream",
     "text": [
      "Are the following two products the same?\n",
      "Product 1: Title: cables unlimited utp 9012 12 port cat6 patch panel black\n",
      "Brand: cables unlimited\n",
      "Description: keep your sever room and wiring closet organized with this high performance 12 port cat6 patch panel this panel is compliant with eia tia category 6 draft 11 specifications and features 110 idc punch down terminations that can be wired in ether 568a \n",
      "Product 2: Title: cables unlimited 2 port e sata controller pci express card\n",
      "Brand: cables unlimited\n",
      "Description: cables unlimited 2 port e sata controller pci express card easy to install and configure pci express card adds 2 e sata ports to any newer pc includes an extra pci express slot this simple and reliable card is compatible with all e sata peripherals a\n",
      "\n",
      "Answer with 'True' or 'False'.\n",
      "__\n",
      "__\n",
      "False.\n",
      "__\n",
      "__\n",
      "276\n"
     ]
    },
    {
     "name": "stderr",
     "output_type": "stream",
     "text": [
      "/var/folders/gx/tzjwcf8x1llbhhf36mjt7xqr0000gn/T/ipykernel_98243/3776050204.py:45: SettingWithCopyWarning: \n",
      "A value is trying to be set on a copy of a slice from a DataFrame\n",
      "\n",
      "See the caveats in the documentation: https://pandas.pydata.org/pandas-docs/stable/user_guide/indexing.html#returning-a-view-versus-a-copy\n",
      "  df[prompt_name][i] = isMatch\n"
     ]
    },
    {
     "name": "stdout",
     "output_type": "stream",
     "text": [
      "Are the following two products the same?\n",
      "Product 1: Title: ds1da2 mounting arm\n",
      "Brand: v7\n",
      "Description: v7 ds1da2 mounting arm ds1da2 tv amp display mounts amp adapters\n",
      "Product 2: Title: cables unlimited 3 high speed hdmi cable black\n",
      "Brand: cables unlimited\n",
      "Description: cables unlimited 3 high speed hdmi cable connects a mini hdmi equipped component with an hdmi equipped display device supports uncompressed audio video signals perfect for high definition video and standard video formats fully hdcp compliant supports\n",
      "\n",
      "Answer with 'True' or 'False'.\n",
      "__\n",
      "__\n",
      "False.\n",
      "__\n",
      "__\n",
      "277\n"
     ]
    },
    {
     "name": "stderr",
     "output_type": "stream",
     "text": [
      "/var/folders/gx/tzjwcf8x1llbhhf36mjt7xqr0000gn/T/ipykernel_98243/3776050204.py:45: SettingWithCopyWarning: \n",
      "A value is trying to be set on a copy of a slice from a DataFrame\n",
      "\n",
      "See the caveats in the documentation: https://pandas.pydata.org/pandas-docs/stable/user_guide/indexing.html#returning-a-view-versus-a-copy\n",
      "  df[prompt_name][i] = isMatch\n"
     ]
    },
    {
     "name": "stdout",
     "output_type": "stream",
     "text": [
      "Are the following two products the same?\n",
      "Product 1: Title: cables unlimited utp 9012 12 port cat6 patch panel black\n",
      "Brand: cables unlimited\n",
      "Description: keep your sever room and wiring closet organized with this high performance 12 port cat6 patch panel this panel is compliant with eia tia category 6 draft 11 specifications and features 110 idc punch down terminations that can be wired in ether 568a \n",
      "Product 2: Title: cables unlimited 3 high speed hdmi cable black\n",
      "Brand: cables unlimited\n",
      "Description: cables unlimited 3 high speed hdmi cable connects a mini hdmi equipped component with an hdmi equipped display device supports uncompressed audio video signals perfect for high definition video and standard video formats fully hdcp compliant supports\n",
      "\n",
      "Answer with 'True' or 'False'.\n",
      "__\n",
      "__\n",
      "False.\n",
      "__\n",
      "__\n",
      "278\n"
     ]
    },
    {
     "name": "stderr",
     "output_type": "stream",
     "text": [
      "/var/folders/gx/tzjwcf8x1llbhhf36mjt7xqr0000gn/T/ipykernel_98243/3776050204.py:45: SettingWithCopyWarning: \n",
      "A value is trying to be set on a copy of a slice from a DataFrame\n",
      "\n",
      "See the caveats in the documentation: https://pandas.pydata.org/pandas-docs/stable/user_guide/indexing.html#returning-a-view-versus-a-copy\n",
      "  df[prompt_name][i] = isMatch\n"
     ]
    },
    {
     "name": "stdout",
     "output_type": "stream",
     "text": [
      "Are the following two products the same?\n",
      "Product 1: Title: cables unlimited utp 6350 kit cat5e networkinstallation kit 1 pack gray\n",
      "Brand: cables unlimited\n",
      "Description: this network cable kit includes everything you need for a successful hassle free installation includes all of the necessary tools and cables to get your network up and running in no time who needs all the worries about finding the right tools when yo\n",
      "Product 2: Title: cables unlimited 3 high speed hdmi cable black\n",
      "Brand: cables unlimited\n",
      "Description: cables unlimited 3 high speed hdmi cable connects a mini hdmi equipped component with an hdmi equipped display device supports uncompressed audio video signals perfect for high definition video and standard video formats fully hdcp compliant supports\n",
      "\n",
      "Answer with 'True' or 'False'.\n",
      "__\n",
      "__\n",
      "False.\n",
      "__\n",
      "__\n",
      "279\n"
     ]
    },
    {
     "name": "stderr",
     "output_type": "stream",
     "text": [
      "/var/folders/gx/tzjwcf8x1llbhhf36mjt7xqr0000gn/T/ipykernel_98243/3776050204.py:45: SettingWithCopyWarning: \n",
      "A value is trying to be set on a copy of a slice from a DataFrame\n",
      "\n",
      "See the caveats in the documentation: https://pandas.pydata.org/pandas-docs/stable/user_guide/indexing.html#returning-a-view-versus-a-copy\n",
      "  df[prompt_name][i] = isMatch\n"
     ]
    },
    {
     "name": "stdout",
     "output_type": "stream",
     "text": [
      "Are the following two products the same?\n",
      "Product 1: Title: cables unlimited wireless usb to hdmi and vga adapter with audio\n",
      "Brand: cables unlimited\n",
      "Description: this wireless usb to hdmi and vga adapter with audio enables users to display their notebook pc content such as pictures movies presentations office documents and web content on a larger remote display share it with others or enjoy a larger size disp\n",
      "Product 2: Title: cables unlimited 2 port e sata controller pci express card\n",
      "Brand: cables unlimited\n",
      "Description: cables unlimited 2 port e sata controller pci express card easy to install and configure pci express card adds 2 e sata ports to any newer pc includes an extra pci express slot this simple and reliable card is compatible with all e sata peripherals a\n",
      "\n",
      "Answer with 'True' or 'False'.\n",
      "__\n",
      "__\n",
      "False.\n",
      "__\n",
      "__\n",
      "280\n"
     ]
    },
    {
     "name": "stderr",
     "output_type": "stream",
     "text": [
      "/var/folders/gx/tzjwcf8x1llbhhf36mjt7xqr0000gn/T/ipykernel_98243/3776050204.py:45: SettingWithCopyWarning: \n",
      "A value is trying to be set on a copy of a slice from a DataFrame\n",
      "\n",
      "See the caveats in the documentation: https://pandas.pydata.org/pandas-docs/stable/user_guide/indexing.html#returning-a-view-versus-a-copy\n",
      "  df[prompt_name][i] = isMatch\n"
     ]
    },
    {
     "name": "stdout",
     "output_type": "stream",
     "text": [
      "Are the following two products the same?\n",
      "Product 1: Title: cables unlimited wireless usb to hdmi and vga adapter with audio\n",
      "Brand: cables unlimited\n",
      "Description: this wireless usb to hdmi and vga adapter with audio enables users to display their notebook pc content such as pictures movies presentations office documents and web content on a larger remote display share it with others or enjoy a larger size disp\n",
      "Product 2: Title: cables unlimited 3 high speed hdmi cable black\n",
      "Brand: cables unlimited\n",
      "Description: cables unlimited 3 high speed hdmi cable connects a mini hdmi equipped component with an hdmi equipped display device supports uncompressed audio video signals perfect for high definition video and standard video formats fully hdcp compliant supports\n",
      "\n",
      "Answer with 'True' or 'False'.\n",
      "__\n",
      "__\n",
      "False.\n",
      "__\n",
      "__\n",
      "281\n"
     ]
    },
    {
     "name": "stderr",
     "output_type": "stream",
     "text": [
      "/var/folders/gx/tzjwcf8x1llbhhf36mjt7xqr0000gn/T/ipykernel_98243/3776050204.py:45: SettingWithCopyWarning: \n",
      "A value is trying to be set on a copy of a slice from a DataFrame\n",
      "\n",
      "See the caveats in the documentation: https://pandas.pydata.org/pandas-docs/stable/user_guide/indexing.html#returning-a-view-versus-a-copy\n",
      "  df[prompt_name][i] = isMatch\n"
     ]
    },
    {
     "name": "stdout",
     "output_type": "stream",
     "text": [
      "Are the following two products the same?\n",
      "Product 1: Title: cables unlimited snagless utp 6700 14y molded boot cat6 patch cable 14 feet yellow\n",
      "Brand: cables unlimited\n",
      "Description: our category 6 550mhz cables feature a center spine eliminating cross talk between the 24 awg twisted pairs and staggered connectors to reduce near end cross talk these cables meet draft 11 of the tia eia cat 6 standard and supports current and futur\n",
      "Product 2: Title: cables unlimited 2 port e sata controller pci express card\n",
      "Brand: cables unlimited\n",
      "Description: cables unlimited 2 port e sata controller pci express card easy to install and configure pci express card adds 2 e sata ports to any newer pc includes an extra pci express slot this simple and reliable card is compatible with all e sata peripherals a\n",
      "\n",
      "Answer with 'True' or 'False'.\n",
      "__\n",
      "__\n",
      "False. The two products are different.\n",
      "__\n",
      "__\n",
      "282\n"
     ]
    },
    {
     "name": "stderr",
     "output_type": "stream",
     "text": [
      "/var/folders/gx/tzjwcf8x1llbhhf36mjt7xqr0000gn/T/ipykernel_98243/3776050204.py:45: SettingWithCopyWarning: \n",
      "A value is trying to be set on a copy of a slice from a DataFrame\n",
      "\n",
      "See the caveats in the documentation: https://pandas.pydata.org/pandas-docs/stable/user_guide/indexing.html#returning-a-view-versus-a-copy\n",
      "  df[prompt_name][i] = isMatch\n"
     ]
    },
    {
     "name": "stdout",
     "output_type": "stream",
     "text": [
      "Are the following two products the same?\n",
      "Product 1: Title: cables unlimited snagless utp 6700 14y molded boot cat6 patch cable 14 feet yellow\n",
      "Brand: cables unlimited\n",
      "Description: our category 6 550mhz cables feature a center spine eliminating cross talk between the 24 awg twisted pairs and staggered connectors to reduce near end cross talk these cables meet draft 11 of the tia eia cat 6 standard and supports current and futur\n",
      "Product 2: Title: cables unlimited 1 port db9 serial neos 9820 chipset pci i o card\n",
      "Brand: cables unlimited\n",
      "Description: pci specification revision 2 1 compliant fast data rates up to 1 mbytes sec compatible with standard 16c550 uart with 16 byte transmit receive fifo db9 serial port connector x 1 pin header serial port connector x 1\n",
      "\n",
      "Answer with 'True' or 'False'.\n",
      "__\n",
      "__\n",
      "True\n",
      "__\n",
      "__\n",
      "283\n"
     ]
    },
    {
     "name": "stderr",
     "output_type": "stream",
     "text": [
      "/var/folders/gx/tzjwcf8x1llbhhf36mjt7xqr0000gn/T/ipykernel_98243/3776050204.py:45: SettingWithCopyWarning: \n",
      "A value is trying to be set on a copy of a slice from a DataFrame\n",
      "\n",
      "See the caveats in the documentation: https://pandas.pydata.org/pandas-docs/stable/user_guide/indexing.html#returning-a-view-versus-a-copy\n",
      "  df[prompt_name][i] = isMatch\n"
     ]
    },
    {
     "name": "stdout",
     "output_type": "stream",
     "text": [
      "Are the following two products the same?\n",
      "Product 1: Title: cables unlimited wireless usb to hdmi and vga adapter with audio\n",
      "Brand: cables unlimited\n",
      "Description: this wireless usb to hdmi and vga adapter with audio enables users to display their notebook pc content such as pictures movies presentations office documents and web content on a larger remote display share it with others or enjoy a larger size disp\n",
      "Product 2: Title: cables unlimited 1 port db9 serial neos 9820 chipset pci i o card\n",
      "Brand: cables unlimited\n",
      "Description: pci specification revision 2 1 compliant fast data rates up to 1 mbytes sec compatible with standard 16c550 uart with 16 byte transmit receive fifo db9 serial port connector x 1 pin header serial port connector x 1\n",
      "\n",
      "Answer with 'True' or 'False'.\n",
      "__\n",
      "__\n",
      "False.\n",
      "__\n",
      "__\n",
      "284\n"
     ]
    },
    {
     "name": "stderr",
     "output_type": "stream",
     "text": [
      "/var/folders/gx/tzjwcf8x1llbhhf36mjt7xqr0000gn/T/ipykernel_98243/3776050204.py:45: SettingWithCopyWarning: \n",
      "A value is trying to be set on a copy of a slice from a DataFrame\n",
      "\n",
      "See the caveats in the documentation: https://pandas.pydata.org/pandas-docs/stable/user_guide/indexing.html#returning-a-view-versus-a-copy\n",
      "  df[prompt_name][i] = isMatch\n"
     ]
    },
    {
     "name": "stdout",
     "output_type": "stream",
     "text": [
      "Are the following two products the same?\n",
      "Product 1: Title: cables unlimited utp 9012 12 port cat6 patch panel black\n",
      "Brand: cables unlimited\n",
      "Description: keep your sever room and wiring closet organized with this high performance 12 port cat6 patch panel this panel is compliant with eia tia category 6 draft 11 specifications and features 110 idc punch down terminations that can be wired in ether 568a \n",
      "Product 2: Title: cables unlimited 1 port db9 serial neos 9820 chipset pci i o card\n",
      "Brand: cables unlimited\n",
      "Description: pci specification revision 2 1 compliant fast data rates up to 1 mbytes sec compatible with standard 16c550 uart with 16 byte transmit receive fifo db9 serial port connector x 1 pin header serial port connector x 1\n",
      "\n",
      "Answer with 'True' or 'False'.\n",
      "__\n",
      "__\n",
      "False.\n",
      "__\n",
      "__\n",
      "285\n"
     ]
    },
    {
     "name": "stderr",
     "output_type": "stream",
     "text": [
      "/var/folders/gx/tzjwcf8x1llbhhf36mjt7xqr0000gn/T/ipykernel_98243/3776050204.py:45: SettingWithCopyWarning: \n",
      "A value is trying to be set on a copy of a slice from a DataFrame\n",
      "\n",
      "See the caveats in the documentation: https://pandas.pydata.org/pandas-docs/stable/user_guide/indexing.html#returning-a-view-versus-a-copy\n",
      "  df[prompt_name][i] = isMatch\n"
     ]
    },
    {
     "name": "stdout",
     "output_type": "stream",
     "text": [
      "Are the following two products the same?\n",
      "Product 1: Title: cables unlimited utp 6350 kit cat5e networkinstallation kit 1 pack gray\n",
      "Brand: cables unlimited\n",
      "Description: this network cable kit includes everything you need for a successful hassle free installation includes all of the necessary tools and cables to get your network up and running in no time who needs all the worries about finding the right tools when yo\n",
      "Product 2: Title: cables unlimited 1 port db9 serial neos 9820 chipset pci i o card\n",
      "Brand: cables unlimited\n",
      "Description: pci specification revision 2 1 compliant fast data rates up to 1 mbytes sec compatible with standard 16c550 uart with 16 byte transmit receive fifo db9 serial port connector x 1 pin header serial port connector x 1\n",
      "\n",
      "Answer with 'True' or 'False'.\n",
      "__\n",
      "__\n",
      "False. The two products are different.\n",
      "__\n",
      "__\n",
      "286\n"
     ]
    },
    {
     "name": "stderr",
     "output_type": "stream",
     "text": [
      "/var/folders/gx/tzjwcf8x1llbhhf36mjt7xqr0000gn/T/ipykernel_98243/3776050204.py:45: SettingWithCopyWarning: \n",
      "A value is trying to be set on a copy of a slice from a DataFrame\n",
      "\n",
      "See the caveats in the documentation: https://pandas.pydata.org/pandas-docs/stable/user_guide/indexing.html#returning-a-view-versus-a-copy\n",
      "  df[prompt_name][i] = isMatch\n"
     ]
    },
    {
     "name": "stdout",
     "output_type": "stream",
     "text": [
      "Are the following two products the same?\n",
      "Product 1: Title: cables unlimited pcm 2150 db9 1f and 2m cable splitter\n",
      "Brand: cables unlimited\n",
      "Description: cables unlimited 6in db9 1f and 2m cable splitter pcm 2150 711\n",
      "Product 2: Title: cables unlimited 1 port db9 serial neos 9820 chipset pci i o card\n",
      "Brand: cables unlimited\n",
      "Description: pci specification revision 2 1 compliant fast data rates up to 1 mbytes sec compatible with standard 16c550 uart with 16 byte transmit receive fifo db9 serial port connector x 1 pin header serial port connector x 1\n",
      "\n",
      "Answer with 'True' or 'False'.\n",
      "__\n",
      "__\n",
      "False.\n",
      "__\n",
      "__\n",
      "287\n"
     ]
    },
    {
     "name": "stderr",
     "output_type": "stream",
     "text": [
      "/var/folders/gx/tzjwcf8x1llbhhf36mjt7xqr0000gn/T/ipykernel_98243/3776050204.py:45: SettingWithCopyWarning: \n",
      "A value is trying to be set on a copy of a slice from a DataFrame\n",
      "\n",
      "See the caveats in the documentation: https://pandas.pydata.org/pandas-docs/stable/user_guide/indexing.html#returning-a-view-versus-a-copy\n",
      "  df[prompt_name][i] = isMatch\n"
     ]
    },
    {
     "name": "stdout",
     "output_type": "stream",
     "text": [
      "Are the following two products the same?\n",
      "Product 1: Title: cables unlimited 18 inch ide dual device 40 pin cable\n",
      "Brand: cables unlimited\n",
      "Description: cables unlimited unlimited 2 device ide cable flt 1600 18 cables\n",
      "Product 2: Title: cables unlimited 1 port db9 serial neos 9820 chipset pci i o card\n",
      "Brand: cables unlimited\n",
      "Description: pci specification revision 2 1 compliant fast data rates up to 1 mbytes sec compatible with standard 16c550 uart with 16 byte transmit receive fifo db9 serial port connector x 1 pin header serial port connector x 1\n",
      "\n",
      "Answer with 'True' or 'False'.\n",
      "__\n",
      "__\n",
      "False.\n",
      "__\n",
      "__\n",
      "288\n"
     ]
    },
    {
     "name": "stderr",
     "output_type": "stream",
     "text": [
      "/var/folders/gx/tzjwcf8x1llbhhf36mjt7xqr0000gn/T/ipykernel_98243/3776050204.py:45: SettingWithCopyWarning: \n",
      "A value is trying to be set on a copy of a slice from a DataFrame\n",
      "\n",
      "See the caveats in the documentation: https://pandas.pydata.org/pandas-docs/stable/user_guide/indexing.html#returning-a-view-versus-a-copy\n",
      "  df[prompt_name][i] = isMatch\n"
     ]
    },
    {
     "name": "stdout",
     "output_type": "stream",
     "text": [
      "Are the following two products the same?\n",
      "Product 1: Title: cables unlimited snagless utp 6700 14y molded boot cat6 patch cable 14 feet yellow\n",
      "Brand: cables unlimited\n",
      "Description: our category 6 550mhz cables feature a center spine eliminating cross talk between the 24 awg twisted pairs and staggered connectors to reduce near end cross talk these cables meet draft 11 of the tia eia cat 6 standard and supports current and futur\n",
      "Product 2: Title: cables unlimited 3 svga video cable hdb15 male to male with 3 5mm audio\n",
      "Brand: cables unlimited\n",
      "Description: cables unlimited 3 svga video cable hdb15 male to male with 3 5mm audio molded svga and stereo audio in a single cable cable runs up to 100 without a booster 3 internal coax cables for red green and blue constructed of premium double shielded video c\n",
      "\n",
      "Answer with 'True' or 'False'.\n",
      "__\n",
      "__\n",
      "True\n",
      "__\n",
      "__\n",
      "289\n"
     ]
    },
    {
     "name": "stderr",
     "output_type": "stream",
     "text": [
      "/var/folders/gx/tzjwcf8x1llbhhf36mjt7xqr0000gn/T/ipykernel_98243/3776050204.py:45: SettingWithCopyWarning: \n",
      "A value is trying to be set on a copy of a slice from a DataFrame\n",
      "\n",
      "See the caveats in the documentation: https://pandas.pydata.org/pandas-docs/stable/user_guide/indexing.html#returning-a-view-versus-a-copy\n",
      "  df[prompt_name][i] = isMatch\n"
     ]
    },
    {
     "name": "stdout",
     "output_type": "stream",
     "text": [
      "Are the following two products the same?\n",
      "Product 1: Title: cables unlimited wireless usb to hdmi and vga adapter with audio\n",
      "Brand: cables unlimited\n",
      "Description: this wireless usb to hdmi and vga adapter with audio enables users to display their notebook pc content such as pictures movies presentations office documents and web content on a larger remote display share it with others or enjoy a larger size disp\n",
      "Product 2: Title: cables unlimited 3 svga video cable hdb15 male to male with 3 5mm audio\n",
      "Brand: cables unlimited\n",
      "Description: cables unlimited 3 svga video cable hdb15 male to male with 3 5mm audio molded svga and stereo audio in a single cable cable runs up to 100 without a booster 3 internal coax cables for red green and blue constructed of premium double shielded video c\n",
      "\n",
      "Answer with 'True' or 'False'.\n",
      "__\n",
      "__\n",
      "False.\n",
      "__\n",
      "__\n",
      "290\n"
     ]
    },
    {
     "name": "stderr",
     "output_type": "stream",
     "text": [
      "/var/folders/gx/tzjwcf8x1llbhhf36mjt7xqr0000gn/T/ipykernel_98243/3776050204.py:45: SettingWithCopyWarning: \n",
      "A value is trying to be set on a copy of a slice from a DataFrame\n",
      "\n",
      "See the caveats in the documentation: https://pandas.pydata.org/pandas-docs/stable/user_guide/indexing.html#returning-a-view-versus-a-copy\n",
      "  df[prompt_name][i] = isMatch\n"
     ]
    },
    {
     "name": "stdout",
     "output_type": "stream",
     "text": [
      "Are the following two products the same?\n",
      "Product 1: Title: cables unlimited utp 9012 12 port cat6 patch panel black\n",
      "Brand: cables unlimited\n",
      "Description: keep your sever room and wiring closet organized with this high performance 12 port cat6 patch panel this panel is compliant with eia tia category 6 draft 11 specifications and features 110 idc punch down terminations that can be wired in ether 568a \n",
      "Product 2: Title: cables unlimited 3 svga video cable hdb15 male to male with 3 5mm audio\n",
      "Brand: cables unlimited\n",
      "Description: cables unlimited 3 svga video cable hdb15 male to male with 3 5mm audio molded svga and stereo audio in a single cable cable runs up to 100 without a booster 3 internal coax cables for red green and blue constructed of premium double shielded video c\n",
      "\n",
      "Answer with 'True' or 'False'.\n",
      "__\n",
      "__\n",
      "False. The two products are different.\n",
      "__\n",
      "__\n",
      "291\n"
     ]
    },
    {
     "name": "stderr",
     "output_type": "stream",
     "text": [
      "/var/folders/gx/tzjwcf8x1llbhhf36mjt7xqr0000gn/T/ipykernel_98243/3776050204.py:45: SettingWithCopyWarning: \n",
      "A value is trying to be set on a copy of a slice from a DataFrame\n",
      "\n",
      "See the caveats in the documentation: https://pandas.pydata.org/pandas-docs/stable/user_guide/indexing.html#returning-a-view-versus-a-copy\n",
      "  df[prompt_name][i] = isMatch\n"
     ]
    },
    {
     "name": "stdout",
     "output_type": "stream",
     "text": [
      "Are the following two products the same?\n",
      "Product 1: Title: cables unlimited utp 6350 kit cat5e networkinstallation kit 1 pack gray\n",
      "Brand: cables unlimited\n",
      "Description: this network cable kit includes everything you need for a successful hassle free installation includes all of the necessary tools and cables to get your network up and running in no time who needs all the worries about finding the right tools when yo\n",
      "Product 2: Title: cables unlimited 3 svga video cable hdb15 male to male with 3 5mm audio\n",
      "Brand: cables unlimited\n",
      "Description: cables unlimited 3 svga video cable hdb15 male to male with 3 5mm audio molded svga and stereo audio in a single cable cable runs up to 100 without a booster 3 internal coax cables for red green and blue constructed of premium double shielded video c\n",
      "\n",
      "Answer with 'True' or 'False'.\n",
      "__\n",
      "__\n",
      "False. The two products are different.\n",
      "__\n",
      "__\n",
      "292\n"
     ]
    },
    {
     "name": "stderr",
     "output_type": "stream",
     "text": [
      "/var/folders/gx/tzjwcf8x1llbhhf36mjt7xqr0000gn/T/ipykernel_98243/3776050204.py:45: SettingWithCopyWarning: \n",
      "A value is trying to be set on a copy of a slice from a DataFrame\n",
      "\n",
      "See the caveats in the documentation: https://pandas.pydata.org/pandas-docs/stable/user_guide/indexing.html#returning-a-view-versus-a-copy\n",
      "  df[prompt_name][i] = isMatch\n"
     ]
    },
    {
     "name": "stdout",
     "output_type": "stream",
     "text": [
      "Are the following two products the same?\n",
      "Product 1: Title: cables unlimited pcm 2150 db9 1f and 2m cable splitter\n",
      "Brand: cables unlimited\n",
      "Description: cables unlimited 6in db9 1f and 2m cable splitter pcm 2150 711\n",
      "Product 2: Title: cables unlimited 3 svga video cable hdb15 male to male with 3 5mm audio\n",
      "Brand: cables unlimited\n",
      "Description: cables unlimited 3 svga video cable hdb15 male to male with 3 5mm audio molded svga and stereo audio in a single cable cable runs up to 100 without a booster 3 internal coax cables for red green and blue constructed of premium double shielded video c\n",
      "\n",
      "Answer with 'True' or 'False'.\n",
      "__\n",
      "__\n",
      "False.\n",
      "__\n",
      "__\n",
      "293\n"
     ]
    },
    {
     "name": "stderr",
     "output_type": "stream",
     "text": [
      "/var/folders/gx/tzjwcf8x1llbhhf36mjt7xqr0000gn/T/ipykernel_98243/3776050204.py:45: SettingWithCopyWarning: \n",
      "A value is trying to be set on a copy of a slice from a DataFrame\n",
      "\n",
      "See the caveats in the documentation: https://pandas.pydata.org/pandas-docs/stable/user_guide/indexing.html#returning-a-view-versus-a-copy\n",
      "  df[prompt_name][i] = isMatch\n"
     ]
    },
    {
     "name": "stdout",
     "output_type": "stream",
     "text": [
      "Are the following two products the same?\n",
      "Product 1: Title: cables unlimited 18 inch ide dual device 40 pin cable\n",
      "Brand: cables unlimited\n",
      "Description: cables unlimited unlimited 2 device ide cable flt 1600 18 cables\n",
      "Product 2: Title: cables unlimited 3 svga video cable hdb15 male to male with 3 5mm audio\n",
      "Brand: cables unlimited\n",
      "Description: cables unlimited 3 svga video cable hdb15 male to male with 3 5mm audio molded svga and stereo audio in a single cable cable runs up to 100 without a booster 3 internal coax cables for red green and blue constructed of premium double shielded video c\n",
      "\n",
      "Answer with 'True' or 'False'.\n",
      "__\n",
      "__\n",
      "True.\n",
      "__\n",
      "__\n",
      "294\n"
     ]
    },
    {
     "name": "stderr",
     "output_type": "stream",
     "text": [
      "/var/folders/gx/tzjwcf8x1llbhhf36mjt7xqr0000gn/T/ipykernel_98243/3776050204.py:45: SettingWithCopyWarning: \n",
      "A value is trying to be set on a copy of a slice from a DataFrame\n",
      "\n",
      "See the caveats in the documentation: https://pandas.pydata.org/pandas-docs/stable/user_guide/indexing.html#returning-a-view-versus-a-copy\n",
      "  df[prompt_name][i] = isMatch\n"
     ]
    },
    {
     "name": "stdout",
     "output_type": "stream",
     "text": [
      "Are the following two products the same?\n",
      "Product 1: Title: cables unlimted flt610018g 18 inch translucent green sata ii 3gbps cable with straight connectors\n",
      "Brand: cables unlimited\n",
      "Description: these translucent green sata cables look great in any modded case our serial ata cables support high speed data transfer rates of up to 3gbps over distances up to 3 feet these narrower cables are simple to route install and increase airflow resulting\n",
      "Product 2: Title: cables unlimited 1 port db9 serial neos 9820 chipset pci i o card\n",
      "Brand: cables unlimited\n",
      "Description: pci specification revision 2 1 compliant fast data rates up to 1 mbytes sec compatible with standard 16c550 uart with 16 byte transmit receive fifo db9 serial port connector x 1 pin header serial port connector x 1\n",
      "\n",
      "Answer with 'True' or 'False'.\n",
      "__\n",
      "__\n",
      "True.\n",
      "__\n",
      "__\n",
      "295\n"
     ]
    },
    {
     "name": "stderr",
     "output_type": "stream",
     "text": [
      "/var/folders/gx/tzjwcf8x1llbhhf36mjt7xqr0000gn/T/ipykernel_98243/3776050204.py:45: SettingWithCopyWarning: \n",
      "A value is trying to be set on a copy of a slice from a DataFrame\n",
      "\n",
      "See the caveats in the documentation: https://pandas.pydata.org/pandas-docs/stable/user_guide/indexing.html#returning-a-view-versus-a-copy\n",
      "  df[prompt_name][i] = isMatch\n"
     ]
    },
    {
     "name": "stdout",
     "output_type": "stream",
     "text": [
      "Are the following two products the same?\n",
      "Product 1: Title: cables unlimted flt610018g 18 inch translucent green sata ii 3gbps cable with straight connectors\n",
      "Brand: cables unlimited\n",
      "Description: these translucent green sata cables look great in any modded case our serial ata cables support high speed data transfer rates of up to 3gbps over distances up to 3 feet these narrower cables are simple to route install and increase airflow resulting\n",
      "Product 2: Title: cables unlimited 3 svga video cable hdb15 male to male with 3 5mm audio\n",
      "Brand: cables unlimited\n",
      "Description: cables unlimited 3 svga video cable hdb15 male to male with 3 5mm audio molded svga and stereo audio in a single cable cable runs up to 100 without a booster 3 internal coax cables for red green and blue constructed of premium double shielded video c\n",
      "\n",
      "Answer with 'True' or 'False'.\n",
      "__\n",
      "__\n",
      "False.\n",
      "__\n",
      "__\n",
      "296\n"
     ]
    },
    {
     "name": "stderr",
     "output_type": "stream",
     "text": [
      "/var/folders/gx/tzjwcf8x1llbhhf36mjt7xqr0000gn/T/ipykernel_98243/3776050204.py:45: SettingWithCopyWarning: \n",
      "A value is trying to be set on a copy of a slice from a DataFrame\n",
      "\n",
      "See the caveats in the documentation: https://pandas.pydata.org/pandas-docs/stable/user_guide/indexing.html#returning-a-view-versus-a-copy\n",
      "  df[prompt_name][i] = isMatch\n"
     ]
    },
    {
     "name": "stdout",
     "output_type": "stream",
     "text": [
      "Are the following two products the same?\n",
      "Product 1: Title: cables unlimted flt610018g 18 inch translucent green sata ii 3gbps cable with straight connectors\n",
      "Brand: cables unlimited\n",
      "Description: these translucent green sata cables look great in any modded case our serial ata cables support high speed data transfer rates of up to 3gbps over distances up to 3 feet these narrower cables are simple to route install and increase airflow resulting\n",
      "Product 2: Title: cables unlimited 2 port e sata controller pci express card\n",
      "Brand: cables unlimited\n",
      "Description: cables unlimited 2 port e sata controller pci express card easy to install and configure pci express card adds 2 e sata ports to any newer pc includes an extra pci express slot this simple and reliable card is compatible with all e sata peripherals a\n",
      "\n",
      "Answer with 'True' or 'False'.\n",
      "__\n",
      "__\n",
      "False.\n",
      "__\n",
      "__\n",
      "297\n"
     ]
    },
    {
     "name": "stderr",
     "output_type": "stream",
     "text": [
      "/var/folders/gx/tzjwcf8x1llbhhf36mjt7xqr0000gn/T/ipykernel_98243/3776050204.py:45: SettingWithCopyWarning: \n",
      "A value is trying to be set on a copy of a slice from a DataFrame\n",
      "\n",
      "See the caveats in the documentation: https://pandas.pydata.org/pandas-docs/stable/user_guide/indexing.html#returning-a-view-versus-a-copy\n",
      "  df[prompt_name][i] = isMatch\n"
     ]
    },
    {
     "name": "stdout",
     "output_type": "stream",
     "text": [
      "Are the following two products the same?\n",
      "Product 1: Title: cables unlimted flt610018g 18 inch translucent green sata ii 3gbps cable with straight connectors\n",
      "Brand: cables unlimited\n",
      "Description: these translucent green sata cables look great in any modded case our serial ata cables support high speed data transfer rates of up to 3gbps over distances up to 3 feet these narrower cables are simple to route install and increase airflow resulting\n",
      "Product 2: Title: cables unlimited 3 high speed hdmi cable black\n",
      "Brand: cables unlimited\n",
      "Description: cables unlimited 3 high speed hdmi cable connects a mini hdmi equipped component with an hdmi equipped display device supports uncompressed audio video signals perfect for high definition video and standard video formats fully hdcp compliant supports\n",
      "\n",
      "Answer with 'True' or 'False'.\n",
      "__\n",
      "__\n",
      "False.\n",
      "__\n",
      "__\n",
      "298\n"
     ]
    },
    {
     "name": "stderr",
     "output_type": "stream",
     "text": [
      "/var/folders/gx/tzjwcf8x1llbhhf36mjt7xqr0000gn/T/ipykernel_98243/3776050204.py:45: SettingWithCopyWarning: \n",
      "A value is trying to be set on a copy of a slice from a DataFrame\n",
      "\n",
      "See the caveats in the documentation: https://pandas.pydata.org/pandas-docs/stable/user_guide/indexing.html#returning-a-view-versus-a-copy\n",
      "  df[prompt_name][i] = isMatch\n"
     ]
    },
    {
     "name": "stdout",
     "output_type": "stream",
     "text": [
      "Are the following two products the same?\n",
      "Product 1: Title: aluratek cinepal apmp100f personal media player\n",
      "Brand: aluratek\n",
      "Description: hi definition 720p ultra portable all in one solution for all your videos photos music and ebooks txt only \n",
      "Product 2: Title: aluratek deluxe leather travel case for the libre ebook reader pro\n",
      "Brand: aluratek\n",
      "Description: aluratek deluxe leather travel case for the libre ebook reader pro premium quality hand stitched leather held securely with outside magnetic clasp securely holds the ebook reader in place with flexible straps on top and bottom lightweight and compact\n",
      "\n",
      "Answer with 'True' or 'False'.\n",
      "__\n",
      "__\n",
      "False.\n",
      "__\n",
      "__\n",
      "299\n"
     ]
    },
    {
     "name": "stderr",
     "output_type": "stream",
     "text": [
      "/var/folders/gx/tzjwcf8x1llbhhf36mjt7xqr0000gn/T/ipykernel_98243/3776050204.py:45: SettingWithCopyWarning: \n",
      "A value is trying to be set on a copy of a slice from a DataFrame\n",
      "\n",
      "See the caveats in the documentation: https://pandas.pydata.org/pandas-docs/stable/user_guide/indexing.html#returning-a-view-versus-a-copy\n",
      "  df[prompt_name][i] = isMatch\n"
     ]
    },
    {
     "name": "stdout",
     "output_type": "stream",
     "text": [
      "Are the following two products the same?\n",
      "Product 1: Title: aluratek cinepal apmp100f personal media player\n",
      "Brand: aluratek\n",
      "Description: hi definition 720p ultra portable all in one solution for all your videos photos music and ebooks txt only \n",
      "Product 2: Title: aluratek plug less usb charging station\n",
      "Brand: aluratek\n",
      "Description: aluratek plug less usb charging station supports all smartphones supports all ipods and mp3 players built in circuit protection\n",
      "\n",
      "Answer with 'True' or 'False'.\n",
      "__\n",
      "__\n",
      "False.\n",
      "__\n",
      "__\n",
      "300\n"
     ]
    },
    {
     "name": "stderr",
     "output_type": "stream",
     "text": [
      "/var/folders/gx/tzjwcf8x1llbhhf36mjt7xqr0000gn/T/ipykernel_98243/3776050204.py:45: SettingWithCopyWarning: \n",
      "A value is trying to be set on a copy of a slice from a DataFrame\n",
      "\n",
      "See the caveats in the documentation: https://pandas.pydata.org/pandas-docs/stable/user_guide/indexing.html#returning-a-view-versus-a-copy\n",
      "  df[prompt_name][i] = isMatch\n"
     ]
    },
    {
     "name": "stdout",
     "output_type": "stream",
     "text": [
      "Are the following two products the same?\n",
      "Product 1: Title: aluratek the brick speaker dock for ipod iphone\n",
      "Brand: aluratek\n",
      "Description: the brick packs a sound punch connect your ipod iphone or any other mp3 player with an auxiliary input the brick by aluratek offers even the most difficult to please audiophiles the ultimate listening experience possible in a small yet powerful footp\n",
      "Product 2: Title: aluratek plug less usb charging station\n",
      "Brand: aluratek\n",
      "Description: aluratek plug less usb charging station supports all smartphones supports all ipods and mp3 players built in circuit protection\n",
      "\n",
      "Answer with 'True' or 'False'.\n",
      "__\n",
      "__\n",
      "False.\n",
      "__\n",
      "__\n",
      "301\n"
     ]
    },
    {
     "name": "stderr",
     "output_type": "stream",
     "text": [
      "/var/folders/gx/tzjwcf8x1llbhhf36mjt7xqr0000gn/T/ipykernel_98243/3776050204.py:45: SettingWithCopyWarning: \n",
      "A value is trying to be set on a copy of a slice from a DataFrame\n",
      "\n",
      "See the caveats in the documentation: https://pandas.pydata.org/pandas-docs/stable/user_guide/indexing.html#returning-a-view-versus-a-copy\n",
      "  df[prompt_name][i] = isMatch\n"
     ]
    },
    {
     "name": "stdout",
     "output_type": "stream",
     "text": [
      "Are the following two products the same?\n",
      "Product 1: Title: 4pt superspeed usb 3 0 hub with cable and power adapter\n",
      "Brand: aluratek\n",
      "Description: 4pt superspeed usb 3 0 hub with cable and power adapter\n",
      "Product 2: Title: aluratek plug less usb charging station\n",
      "Brand: aluratek\n",
      "Description: aluratek plug less usb charging station supports all smartphones supports all ipods and mp3 players built in circuit protection\n",
      "\n",
      "Answer with 'True' or 'False'.\n",
      "__\n",
      "__\n",
      "False.\n",
      "__\n",
      "__\n",
      "302\n"
     ]
    },
    {
     "name": "stderr",
     "output_type": "stream",
     "text": [
      "/var/folders/gx/tzjwcf8x1llbhhf36mjt7xqr0000gn/T/ipykernel_98243/3776050204.py:45: SettingWithCopyWarning: \n",
      "A value is trying to be set on a copy of a slice from a DataFrame\n",
      "\n",
      "See the caveats in the documentation: https://pandas.pydata.org/pandas-docs/stable/user_guide/indexing.html#returning-a-view-versus-a-copy\n",
      "  df[prompt_name][i] = isMatch\n"
     ]
    },
    {
     "name": "stdout",
     "output_type": "stream",
     "text": [
      "Are the following two products the same?\n",
      "Product 1: Title: libre ebook reader pro black\n",
      "Brand: aluratek\n",
      "Description: aluratek libre aebk01f ebook reader pro digital text reader aebk01f pdas amp handheld pcs\n",
      "Product 2: Title: aluratek plug less usb charging station\n",
      "Brand: aluratek\n",
      "Description: aluratek plug less usb charging station supports all smartphones supports all ipods and mp3 players built in circuit protection\n",
      "\n",
      "Answer with 'True' or 'False'.\n",
      "__\n",
      "__\n",
      "False.\n",
      "__\n",
      "__\n",
      "303\n"
     ]
    },
    {
     "name": "stderr",
     "output_type": "stream",
     "text": [
      "/var/folders/gx/tzjwcf8x1llbhhf36mjt7xqr0000gn/T/ipykernel_98243/3776050204.py:45: SettingWithCopyWarning: \n",
      "A value is trying to be set on a copy of a slice from a DataFrame\n",
      "\n",
      "See the caveats in the documentation: https://pandas.pydata.org/pandas-docs/stable/user_guide/indexing.html#returning-a-view-versus-a-copy\n",
      "  df[prompt_name][i] = isMatch\n"
     ]
    },
    {
     "name": "stdout",
     "output_type": "stream",
     "text": [
      "Are the following two products the same?\n",
      "Product 1: Title: thinkpad basic case\n",
      "Brand: lenovo\n",
      "Description: lenovo thinkpad basic case 43r9113 laptop notebook cases\n",
      "Product 2: Title: lenovo matte black 15 6 thinkpad edge e520 laptop pc with intel i3 2310 processor and windows 7 professional\n",
      "Brand: lenovo\n",
      "Description: lenovo 15 6 hd color led backlit display intel hd graphics 3000 additional features 720p hd webcam 4 in 1 memory card reader 3 x usb 2 0 ports 1 x usb 2 0 esata combo port 1 x rj 45 ethernet port 1 x vga port 6 cell lithium ion battery up to 4 2 h ba\n",
      "\n",
      "Answer with 'True' or 'False'.\n",
      "__\n",
      "__\n",
      "False.\n",
      "__\n",
      "__\n",
      "304\n"
     ]
    },
    {
     "name": "stderr",
     "output_type": "stream",
     "text": [
      "/var/folders/gx/tzjwcf8x1llbhhf36mjt7xqr0000gn/T/ipykernel_98243/3776050204.py:45: SettingWithCopyWarning: \n",
      "A value is trying to be set on a copy of a slice from a DataFrame\n",
      "\n",
      "See the caveats in the documentation: https://pandas.pydata.org/pandas-docs/stable/user_guide/indexing.html#returning-a-view-versus-a-copy\n",
      "  df[prompt_name][i] = isMatch\n"
     ]
    },
    {
     "name": "stdout",
     "output_type": "stream",
     "text": [
      "Are the following two products the same?\n",
      "Product 1: Title: thinkpad basic case\n",
      "Brand: lenovo\n",
      "Description: lenovo thinkpad basic case 43r9113 laptop notebook cases\n",
      "Product 2: Title: lenovo black thinkcentre m70e desktop pc with intel core 2 duo e7500 processor 320gb hard drive and windows 7 professional monitor not included\n",
      "Brand: lenovo\n",
      "Description: lenovo thinkcentre m70e desktop pc key features and benefits intel core 2 duo e7500 processor 2 93ghz 3mb l2 cache 3gb ddr3 sdram system memory expandable to 4gb gives you the comfort for multimedia videos and images video conferencing basic gaming a\n",
      "\n",
      "Answer with 'True' or 'False'.\n",
      "__\n",
      "__\n",
      "False.\n",
      "__\n",
      "__\n",
      "305\n"
     ]
    },
    {
     "name": "stderr",
     "output_type": "stream",
     "text": [
      "/var/folders/gx/tzjwcf8x1llbhhf36mjt7xqr0000gn/T/ipykernel_98243/3776050204.py:45: SettingWithCopyWarning: \n",
      "A value is trying to be set on a copy of a slice from a DataFrame\n",
      "\n",
      "See the caveats in the documentation: https://pandas.pydata.org/pandas-docs/stable/user_guide/indexing.html#returning-a-view-versus-a-copy\n",
      "  df[prompt_name][i] = isMatch\n"
     ]
    },
    {
     "name": "stdout",
     "output_type": "stream",
     "text": [
      "Are the following two products the same?\n",
      "Product 1: Title: thinkpad basic case\n",
      "Brand: lenovo\n",
      "Description: lenovo thinkpad basic case 43r9113 laptop notebook cases\n",
      "Product 2: Title: lenovo black 15 6 ideapad z565 43113hu laptop pc with amd turion ii p560 processor and windows 7 home premium 64 bit\n",
      "Brand: lenovo\n",
      "Description: lenovo black 15 6 hd led backlit display ati mobility radeon hd 4270 additional features 0 3mp webcam 5 in 1 memory card reader 2 x usb 2 0 ports 1 x esata usb combo port 1 x microphone jack 1 x headphone jack 1 x rj 45 ethernet port 1 x vga port 1 x\n",
      "\n",
      "Answer with 'True' or 'False'.\n",
      "__\n",
      "__\n",
      "False.\n",
      "__\n",
      "__\n",
      "306\n"
     ]
    },
    {
     "name": "stderr",
     "output_type": "stream",
     "text": [
      "/var/folders/gx/tzjwcf8x1llbhhf36mjt7xqr0000gn/T/ipykernel_98243/3776050204.py:45: SettingWithCopyWarning: \n",
      "A value is trying to be set on a copy of a slice from a DataFrame\n",
      "\n",
      "See the caveats in the documentation: https://pandas.pydata.org/pandas-docs/stable/user_guide/indexing.html#returning-a-view-versus-a-copy\n",
      "  df[prompt_name][i] = isMatch\n"
     ]
    },
    {
     "name": "stdout",
     "output_type": "stream",
     "text": [
      "Are the following two products the same?\n",
      "Product 1: Title: thinkpad basic case\n",
      "Brand: lenovo\n",
      "Description: lenovo thinkpad basic case 43r9113 laptop notebook cases\n",
      "Product 2: Title: lenovo black ideacentre a700 4024 5fu all in one desktop pc with intel core i3 processor 23 hd led backlit display windows 7 home premium 64 bit\n",
      "Brand: lenovo\n",
      "Description: lenovo ideacentre a700 4024 5fu all in one desktop pc key features and benefits intel core i3 350m processor 2 26ghz 3mb cache 4gb ddr3 sdram system gives you the power to handle most power hungry applications and tons of multimedia work 500gb sata h\n",
      "\n",
      "Answer with 'True' or 'False'.\n",
      "__\n",
      "__\n",
      "False.\n",
      "__\n",
      "__\n",
      "307\n"
     ]
    },
    {
     "name": "stderr",
     "output_type": "stream",
     "text": [
      "/var/folders/gx/tzjwcf8x1llbhhf36mjt7xqr0000gn/T/ipykernel_98243/3776050204.py:45: SettingWithCopyWarning: \n",
      "A value is trying to be set on a copy of a slice from a DataFrame\n",
      "\n",
      "See the caveats in the documentation: https://pandas.pydata.org/pandas-docs/stable/user_guide/indexing.html#returning-a-view-versus-a-copy\n",
      "  df[prompt_name][i] = isMatch\n"
     ]
    },
    {
     "name": "stdout",
     "output_type": "stream",
     "text": [
      "Are the following two products the same?\n",
      "Product 1: Title: thinkpad basic case\n",
      "Brand: lenovo\n",
      "Description: lenovo thinkpad basic case 43r9113 laptop notebook cases\n",
      "Product 2: Title: lenovo gray 15 6 ideapad y560 064652yu laptop pc with intel core i5 460m processor windows 7 home premium\n",
      "Brand: lenovo\n",
      "Description: lenovo ideapad y560 064652yu laptop pc intel core i5 460m processor 2 53ghz 3mb cache 6gb ddr3 system memory expandable up to 8gb gives you the power to handle the most power hungry applications and tons of multimedia work 500gb sata hard drive store\n",
      "\n",
      "Answer with 'True' or 'False'.\n",
      "__\n",
      "__\n",
      "False.\n",
      "__\n",
      "__\n",
      "308\n"
     ]
    },
    {
     "name": "stderr",
     "output_type": "stream",
     "text": [
      "/var/folders/gx/tzjwcf8x1llbhhf36mjt7xqr0000gn/T/ipykernel_98243/3776050204.py:45: SettingWithCopyWarning: \n",
      "A value is trying to be set on a copy of a slice from a DataFrame\n",
      "\n",
      "See the caveats in the documentation: https://pandas.pydata.org/pandas-docs/stable/user_guide/indexing.html#returning-a-view-versus-a-copy\n",
      "  df[prompt_name][i] = isMatch\n"
     ]
    },
    {
     "name": "stdout",
     "output_type": "stream",
     "text": [
      "Are the following two products the same?\n",
      "Product 1: Title: thinkpad basic case\n",
      "Brand: lenovo\n",
      "Description: lenovo thinkpad basic case 43r9113 laptop notebook cases\n",
      "Product 2: Title: lenovo 2gb ddr3 1333mhz sodimm sdram notebook memory module\n",
      "Brand: lenovo\n",
      "Description: lenovo 2gb ddr3 1333mhz sodimm sdram notebook memory module lower power consumption higher bandwidth and increased performance when compared to ddr2 memory higher bandwidth made possible by 8 bit pre fetch buffer error correcting code ecc offers prot\n",
      "\n",
      "Answer with 'True' or 'False'.\n",
      "__\n",
      "__\n",
      "False.\n",
      "__\n",
      "__\n",
      "309\n"
     ]
    },
    {
     "name": "stderr",
     "output_type": "stream",
     "text": [
      "/var/folders/gx/tzjwcf8x1llbhhf36mjt7xqr0000gn/T/ipykernel_98243/3776050204.py:45: SettingWithCopyWarning: \n",
      "A value is trying to be set on a copy of a slice from a DataFrame\n",
      "\n",
      "See the caveats in the documentation: https://pandas.pydata.org/pandas-docs/stable/user_guide/indexing.html#returning-a-view-versus-a-copy\n",
      "  df[prompt_name][i] = isMatch\n"
     ]
    },
    {
     "name": "stdout",
     "output_type": "stream",
     "text": [
      "Are the following two products the same?\n",
      "Product 1: Title: lenovo 65w ultraport ac adapter\n",
      "Brand: lenovo\n",
      "Description: lenovo 65 watt universal ac adapter for notebooks 40y7696 camera power adapters\n",
      "Product 2: Title: lenovo 2gb ddr3 1333mhz sodimm sdram notebook memory module\n",
      "Brand: lenovo\n",
      "Description: lenovo 2gb ddr3 1333mhz sodimm sdram notebook memory module lower power consumption higher bandwidth and increased performance when compared to ddr2 memory higher bandwidth made possible by 8 bit pre fetch buffer error correcting code ecc offers prot\n",
      "\n",
      "Answer with 'True' or 'False'.\n",
      "__\n",
      "__\n",
      "False.\n",
      "__\n",
      "__\n",
      "310\n"
     ]
    },
    {
     "name": "stderr",
     "output_type": "stream",
     "text": [
      "/var/folders/gx/tzjwcf8x1llbhhf36mjt7xqr0000gn/T/ipykernel_98243/3776050204.py:45: SettingWithCopyWarning: \n",
      "A value is trying to be set on a copy of a slice from a DataFrame\n",
      "\n",
      "See the caveats in the documentation: https://pandas.pydata.org/pandas-docs/stable/user_guide/indexing.html#returning-a-view-versus-a-copy\n",
      "  df[prompt_name][i] = isMatch\n"
     ]
    },
    {
     "name": "stdout",
     "output_type": "stream",
     "text": [
      "Are the following two products the same?\n",
      "Product 1: Title: thinkpad basic case\n",
      "Brand: lenovo\n",
      "Description: lenovo thinkpad basic case 43r9113 laptop notebook cases\n",
      "Product 2: Title: lenovo black thinkcentre m58 desktop pc with intel core 2 duo e7500 processor 250gb hard drive and windows 7 professional\n",
      "Brand: lenovo\n",
      "Description: lenovo thinkcentre m58 desktop pc key features and benefits intel core 2 duo e7500 processor 2 93ghz 3mb l2 cache 2gb ddr3 sdram system memory expandable to 16gb gives you the options for surfing video conferencing documents basic photo editing and s\n",
      "\n",
      "Answer with 'True' or 'False'.\n",
      "__\n",
      "__\n",
      "False.\n",
      "__\n",
      "__\n",
      "311\n"
     ]
    },
    {
     "name": "stderr",
     "output_type": "stream",
     "text": [
      "/var/folders/gx/tzjwcf8x1llbhhf36mjt7xqr0000gn/T/ipykernel_98243/3776050204.py:45: SettingWithCopyWarning: \n",
      "A value is trying to be set on a copy of a slice from a DataFrame\n",
      "\n",
      "See the caveats in the documentation: https://pandas.pydata.org/pandas-docs/stable/user_guide/indexing.html#returning-a-view-versus-a-copy\n",
      "  df[prompt_name][i] = isMatch\n"
     ]
    },
    {
     "name": "stdout",
     "output_type": "stream",
     "text": [
      "Are the following two products the same?\n",
      "Product 1: Title: lenovo black thinkcentre m58 desktop pc with intel core 2 duo e7500 processor 250gb hard drive and windows 7 professional\n",
      "Brand: lenovo\n",
      "Description: lenovo thinkcentre m58 desktop pc key features and benefits intel core 2 duo e7500 processor 2 93ghz 3mb l2 cache 2gb ddr3 sdram system memory expandable to 16gb gives you the options for surfing video conferencing documents basic photo editing and s\n",
      "Product 2: Title: lenovo memory 2 gb dimm 240 pin ddr2 800 mhz pc2 6400 unbuffered non ecc\n",
      "Brand: lenovo\n",
      "Description: 2gb 800mhz ddr2 800 pc2 6400 ddr2 sdram 240 pin dimm\n",
      "\n",
      "Answer with 'True' or 'False'.\n",
      "__\n",
      "__\n",
      "False.\n",
      "__\n",
      "__\n",
      "312\n"
     ]
    },
    {
     "name": "stderr",
     "output_type": "stream",
     "text": [
      "/var/folders/gx/tzjwcf8x1llbhhf36mjt7xqr0000gn/T/ipykernel_98243/3776050204.py:45: SettingWithCopyWarning: \n",
      "A value is trying to be set on a copy of a slice from a DataFrame\n",
      "\n",
      "See the caveats in the documentation: https://pandas.pydata.org/pandas-docs/stable/user_guide/indexing.html#returning-a-view-versus-a-copy\n",
      "  df[prompt_name][i] = isMatch\n"
     ]
    },
    {
     "name": "stdout",
     "output_type": "stream",
     "text": [
      "Are the following two products the same?\n",
      "Product 1: Title: thinkpad mini dock series 3 433710u\n",
      "Brand: lenovo\n",
      "Description: pthe thinkpad mini dock series 3 is ideal for notebook users who need easy access to the internet lan multiple usb devices audio and video equipment and robust key lock security left corner alignment for easy system attachment p note compatible with \n",
      "Product 2: Title: lenovo matte black 15 6 thinkpad edge e520 laptop pc with intel i3 2310 processor and windows 7 professional\n",
      "Brand: lenovo\n",
      "Description: lenovo 15 6 hd color led backlit display intel hd graphics 3000 additional features 720p hd webcam 4 in 1 memory card reader 3 x usb 2 0 ports 1 x usb 2 0 esata combo port 1 x rj 45 ethernet port 1 x vga port 6 cell lithium ion battery up to 4 2 h ba\n",
      "\n",
      "Answer with 'True' or 'False'.\n",
      "__\n",
      "__\n",
      "False.\n",
      "__\n",
      "__\n",
      "313\n"
     ]
    },
    {
     "name": "stderr",
     "output_type": "stream",
     "text": [
      "/var/folders/gx/tzjwcf8x1llbhhf36mjt7xqr0000gn/T/ipykernel_98243/3776050204.py:45: SettingWithCopyWarning: \n",
      "A value is trying to be set on a copy of a slice from a DataFrame\n",
      "\n",
      "See the caveats in the documentation: https://pandas.pydata.org/pandas-docs/stable/user_guide/indexing.html#returning-a-view-versus-a-copy\n",
      "  df[prompt_name][i] = isMatch\n"
     ]
    },
    {
     "name": "stdout",
     "output_type": "stream",
     "text": [
      "Are the following two products the same?\n",
      "Product 1: Title: thinkpad mini dock series 3 433710u\n",
      "Brand: lenovo\n",
      "Description: pthe thinkpad mini dock series 3 is ideal for notebook users who need easy access to the internet lan multiple usb devices audio and video equipment and robust key lock security left corner alignment for easy system attachment p note compatible with \n",
      "Product 2: Title: lenovo black thinkcentre m70e desktop pc with intel core 2 duo e7500 processor 320gb hard drive and windows 7 professional monitor not included\n",
      "Brand: lenovo\n",
      "Description: lenovo thinkcentre m70e desktop pc key features and benefits intel core 2 duo e7500 processor 2 93ghz 3mb l2 cache 3gb ddr3 sdram system memory expandable to 4gb gives you the comfort for multimedia videos and images video conferencing basic gaming a\n",
      "\n",
      "Answer with 'True' or 'False'.\n",
      "__\n",
      "__\n",
      "False.\n",
      "__\n",
      "__\n",
      "314\n"
     ]
    },
    {
     "name": "stderr",
     "output_type": "stream",
     "text": [
      "/var/folders/gx/tzjwcf8x1llbhhf36mjt7xqr0000gn/T/ipykernel_98243/3776050204.py:45: SettingWithCopyWarning: \n",
      "A value is trying to be set on a copy of a slice from a DataFrame\n",
      "\n",
      "See the caveats in the documentation: https://pandas.pydata.org/pandas-docs/stable/user_guide/indexing.html#returning-a-view-versus-a-copy\n",
      "  df[prompt_name][i] = isMatch\n"
     ]
    },
    {
     "name": "stdout",
     "output_type": "stream",
     "text": [
      "Are the following two products the same?\n",
      "Product 1: Title: thinkpad mini dock series 3 433710u\n",
      "Brand: lenovo\n",
      "Description: pthe thinkpad mini dock series 3 is ideal for notebook users who need easy access to the internet lan multiple usb devices audio and video equipment and robust key lock security left corner alignment for easy system attachment p note compatible with \n",
      "Product 2: Title: lenovo black 15 6 ideapad z565 43113hu laptop pc with amd turion ii p560 processor and windows 7 home premium 64 bit\n",
      "Brand: lenovo\n",
      "Description: lenovo black 15 6 hd led backlit display ati mobility radeon hd 4270 additional features 0 3mp webcam 5 in 1 memory card reader 2 x usb 2 0 ports 1 x esata usb combo port 1 x microphone jack 1 x headphone jack 1 x rj 45 ethernet port 1 x vga port 1 x\n",
      "\n",
      "Answer with 'True' or 'False'.\n",
      "__\n",
      "__\n",
      "False.\n",
      "__\n",
      "__\n",
      "315\n"
     ]
    },
    {
     "name": "stderr",
     "output_type": "stream",
     "text": [
      "/var/folders/gx/tzjwcf8x1llbhhf36mjt7xqr0000gn/T/ipykernel_98243/3776050204.py:45: SettingWithCopyWarning: \n",
      "A value is trying to be set on a copy of a slice from a DataFrame\n",
      "\n",
      "See the caveats in the documentation: https://pandas.pydata.org/pandas-docs/stable/user_guide/indexing.html#returning-a-view-versus-a-copy\n",
      "  df[prompt_name][i] = isMatch\n"
     ]
    },
    {
     "name": "stdout",
     "output_type": "stream",
     "text": [
      "Are the following two products the same?\n",
      "Product 1: Title: thinkpad mini dock series 3 433710u\n",
      "Brand: lenovo\n",
      "Description: pthe thinkpad mini dock series 3 is ideal for notebook users who need easy access to the internet lan multiple usb devices audio and video equipment and robust key lock security left corner alignment for easy system attachment p note compatible with \n",
      "Product 2: Title: lenovo black thinkcentre m58 desktop pc with intel core 2 duo e7500 processor 250gb hard drive and windows 7 professional\n",
      "Brand: lenovo\n",
      "Description: lenovo thinkcentre m58 desktop pc key features and benefits intel core 2 duo e7500 processor 2 93ghz 3mb l2 cache 2gb ddr3 sdram system memory expandable to 16gb gives you the options for surfing video conferencing documents basic photo editing and s\n",
      "\n",
      "Answer with 'True' or 'False'.\n",
      "__\n",
      "__\n",
      "False.\n",
      "__\n",
      "__\n",
      "316\n"
     ]
    },
    {
     "name": "stderr",
     "output_type": "stream",
     "text": [
      "/var/folders/gx/tzjwcf8x1llbhhf36mjt7xqr0000gn/T/ipykernel_98243/3776050204.py:45: SettingWithCopyWarning: \n",
      "A value is trying to be set on a copy of a slice from a DataFrame\n",
      "\n",
      "See the caveats in the documentation: https://pandas.pydata.org/pandas-docs/stable/user_guide/indexing.html#returning-a-view-versus-a-copy\n",
      "  df[prompt_name][i] = isMatch\n"
     ]
    },
    {
     "name": "stdout",
     "output_type": "stream",
     "text": [
      "Are the following two products the same?\n",
      "Product 1: Title: thinkpad mini dock series 3 433710u\n",
      "Brand: lenovo\n",
      "Description: pthe thinkpad mini dock series 3 is ideal for notebook users who need easy access to the internet lan multiple usb devices audio and video equipment and robust key lock security left corner alignment for easy system attachment p note compatible with \n",
      "Product 2: Title: lenovo black ideacentre a700 4024 5fu all in one desktop pc with intel core i3 processor 23 hd led backlit display windows 7 home premium 64 bit\n",
      "Brand: lenovo\n",
      "Description: lenovo ideacentre a700 4024 5fu all in one desktop pc key features and benefits intel core i3 350m processor 2 26ghz 3mb cache 4gb ddr3 sdram system gives you the power to handle most power hungry applications and tons of multimedia work 500gb sata h\n",
      "\n",
      "Answer with 'True' or 'False'.\n",
      "__\n",
      "__\n",
      "False.\n",
      "__\n",
      "__\n",
      "317\n"
     ]
    },
    {
     "name": "stderr",
     "output_type": "stream",
     "text": [
      "/var/folders/gx/tzjwcf8x1llbhhf36mjt7xqr0000gn/T/ipykernel_98243/3776050204.py:45: SettingWithCopyWarning: \n",
      "A value is trying to be set on a copy of a slice from a DataFrame\n",
      "\n",
      "See the caveats in the documentation: https://pandas.pydata.org/pandas-docs/stable/user_guide/indexing.html#returning-a-view-versus-a-copy\n",
      "  df[prompt_name][i] = isMatch\n"
     ]
    },
    {
     "name": "stdout",
     "output_type": "stream",
     "text": [
      "Are the following two products the same?\n",
      "Product 1: Title: thinkpad mini dock series 3 433710u\n",
      "Brand: lenovo\n",
      "Description: pthe thinkpad mini dock series 3 is ideal for notebook users who need easy access to the internet lan multiple usb devices audio and video equipment and robust key lock security left corner alignment for easy system attachment p note compatible with \n",
      "Product 2: Title: lenovo 2gb ddr3 1333mhz sodimm sdram notebook memory module\n",
      "Brand: lenovo\n",
      "Description: lenovo 2gb ddr3 1333mhz sodimm sdram notebook memory module lower power consumption higher bandwidth and increased performance when compared to ddr2 memory higher bandwidth made possible by 8 bit pre fetch buffer error correcting code ecc offers prot\n",
      "\n",
      "Answer with 'True' or 'False'.\n",
      "__\n",
      "__\n",
      "False.\n",
      "__\n",
      "__\n",
      "318\n"
     ]
    },
    {
     "name": "stderr",
     "output_type": "stream",
     "text": [
      "/var/folders/gx/tzjwcf8x1llbhhf36mjt7xqr0000gn/T/ipykernel_98243/3776050204.py:45: SettingWithCopyWarning: \n",
      "A value is trying to be set on a copy of a slice from a DataFrame\n",
      "\n",
      "See the caveats in the documentation: https://pandas.pydata.org/pandas-docs/stable/user_guide/indexing.html#returning-a-view-versus-a-copy\n",
      "  df[prompt_name][i] = isMatch\n"
     ]
    },
    {
     "name": "stdout",
     "output_type": "stream",
     "text": [
      "Are the following two products the same?\n",
      "Product 1: Title: thinkpad mini dock series 3 433710u\n",
      "Brand: lenovo\n",
      "Description: pthe thinkpad mini dock series 3 is ideal for notebook users who need easy access to the internet lan multiple usb devices audio and video equipment and robust key lock security left corner alignment for easy system attachment p note compatible with \n",
      "Product 2: Title: lenovo gray 15 6 ideapad y560 064652yu laptop pc with intel core i5 460m processor windows 7 home premium\n",
      "Brand: lenovo\n",
      "Description: lenovo ideapad y560 064652yu laptop pc intel core i5 460m processor 2 53ghz 3mb cache 6gb ddr3 system memory expandable up to 8gb gives you the power to handle the most power hungry applications and tons of multimedia work 500gb sata hard drive store\n",
      "\n",
      "Answer with 'True' or 'False'.\n",
      "__\n",
      "__\n",
      "False.\n",
      "__\n",
      "__\n",
      "319\n"
     ]
    },
    {
     "name": "stderr",
     "output_type": "stream",
     "text": [
      "/var/folders/gx/tzjwcf8x1llbhhf36mjt7xqr0000gn/T/ipykernel_98243/3776050204.py:45: SettingWithCopyWarning: \n",
      "A value is trying to be set on a copy of a slice from a DataFrame\n",
      "\n",
      "See the caveats in the documentation: https://pandas.pydata.org/pandas-docs/stable/user_guide/indexing.html#returning-a-view-versus-a-copy\n",
      "  df[prompt_name][i] = isMatch\n"
     ]
    },
    {
     "name": "stdout",
     "output_type": "stream",
     "text": [
      "Are the following two products the same?\n",
      "Product 1: Title: lenovo black thinkcentre m58 desktop pc with intel core 2 duo e7500 processor 250gb hard drive and windows 7 professional\n",
      "Brand: lenovo\n",
      "Description: lenovo thinkcentre m58 desktop pc key features and benefits intel core 2 duo e7500 processor 2 93ghz 3mb l2 cache 2gb ddr3 sdram system memory expandable to 16gb gives you the options for surfing video conferencing documents basic photo editing and s\n",
      "Product 2: Title: lenovo dataslim uhd external portable hard drive 500gb\n",
      "Brand: lenovo\n",
      "Description: lenovo dataslim uhd e18 hard drive 55y9402 611\n",
      "\n",
      "Answer with 'True' or 'False'.\n",
      "__\n",
      "__\n",
      "False.\n",
      "__\n",
      "__\n",
      "320\n"
     ]
    },
    {
     "name": "stderr",
     "output_type": "stream",
     "text": [
      "/var/folders/gx/tzjwcf8x1llbhhf36mjt7xqr0000gn/T/ipykernel_98243/3776050204.py:45: SettingWithCopyWarning: \n",
      "A value is trying to be set on a copy of a slice from a DataFrame\n",
      "\n",
      "See the caveats in the documentation: https://pandas.pydata.org/pandas-docs/stable/user_guide/indexing.html#returning-a-view-versus-a-copy\n",
      "  df[prompt_name][i] = isMatch\n"
     ]
    },
    {
     "name": "stdout",
     "output_type": "stream",
     "text": [
      "Are the following two products the same?\n",
      "Product 1: Title: thinkpad basic case\n",
      "Brand: lenovo\n",
      "Description: lenovo thinkpad basic case 43r9113 laptop notebook cases\n",
      "Product 2: Title: lenovo thinkpad x60 tablet digitizer pen tether 3pk\n",
      "Brand: lenovo\n",
      "Description: lenovo thinkpad x60 tablet digitizer pen tether 3pk secures digitizer pens to x200 and x60 series tablet laptops prevents accidental loss of digitizer pen handy 3 pack set\n",
      "\n",
      "Answer with 'True' or 'False'.\n",
      "__\n",
      "__\n",
      "False.\n",
      "__\n",
      "__\n",
      "321\n"
     ]
    },
    {
     "name": "stderr",
     "output_type": "stream",
     "text": [
      "/var/folders/gx/tzjwcf8x1llbhhf36mjt7xqr0000gn/T/ipykernel_98243/3776050204.py:45: SettingWithCopyWarning: \n",
      "A value is trying to be set on a copy of a slice from a DataFrame\n",
      "\n",
      "See the caveats in the documentation: https://pandas.pydata.org/pandas-docs/stable/user_guide/indexing.html#returning-a-view-versus-a-copy\n",
      "  df[prompt_name][i] = isMatch\n"
     ]
    },
    {
     "name": "stdout",
     "output_type": "stream",
     "text": [
      "Are the following two products the same?\n",
      "Product 1: Title: thinkpad mini dock series 3 433710u\n",
      "Brand: lenovo\n",
      "Description: pthe thinkpad mini dock series 3 is ideal for notebook users who need easy access to the internet lan multiple usb devices audio and video equipment and robust key lock security left corner alignment for easy system attachment p note compatible with \n",
      "Product 2: Title: lenovo thinkpad x60 tablet digitizer pen tether 3pk\n",
      "Brand: lenovo\n",
      "Description: lenovo thinkpad x60 tablet digitizer pen tether 3pk secures digitizer pens to x200 and x60 series tablet laptops prevents accidental loss of digitizer pen handy 3 pack set\n",
      "\n",
      "Answer with 'True' or 'False'.\n",
      "__\n",
      "__\n",
      "False.\n",
      "__\n",
      "__\n",
      "322\n"
     ]
    },
    {
     "name": "stderr",
     "output_type": "stream",
     "text": [
      "/var/folders/gx/tzjwcf8x1llbhhf36mjt7xqr0000gn/T/ipykernel_98243/3776050204.py:45: SettingWithCopyWarning: \n",
      "A value is trying to be set on a copy of a slice from a DataFrame\n",
      "\n",
      "See the caveats in the documentation: https://pandas.pydata.org/pandas-docs/stable/user_guide/indexing.html#returning-a-view-versus-a-copy\n",
      "  df[prompt_name][i] = isMatch\n"
     ]
    },
    {
     "name": "stdout",
     "output_type": "stream",
     "text": [
      "Are the following two products the same?\n",
      "Product 1: Title: lenovo thinkpad x60 tablet digitizer pen tether 3pk\n",
      "Brand: lenovo\n",
      "Description: lenovo thinkpad x60 tablet digitizer pen tether 3pk secures digitizer pens to x200 and x60 series tablet laptops prevents accidental loss of digitizer pen handy 3 pack set\n",
      "Product 2: Title: lenovo dataslim uhd external portable hard drive 500gb\n",
      "Brand: lenovo\n",
      "Description: lenovo dataslim uhd e18 hard drive 55y9402 611\n",
      "\n",
      "Answer with 'True' or 'False'.\n",
      "__\n",
      "__\n",
      "False.\n",
      "__\n",
      "__\n",
      "323\n"
     ]
    },
    {
     "name": "stderr",
     "output_type": "stream",
     "text": [
      "/var/folders/gx/tzjwcf8x1llbhhf36mjt7xqr0000gn/T/ipykernel_98243/3776050204.py:45: SettingWithCopyWarning: \n",
      "A value is trying to be set on a copy of a slice from a DataFrame\n",
      "\n",
      "See the caveats in the documentation: https://pandas.pydata.org/pandas-docs/stable/user_guide/indexing.html#returning-a-view-versus-a-copy\n",
      "  df[prompt_name][i] = isMatch\n"
     ]
    },
    {
     "name": "stdout",
     "output_type": "stream",
     "text": [
      "Are the following two products the same?\n",
      "Product 1: Title: lenovo thinkpad x60 tablet digitizer pen tether 3pk\n",
      "Brand: lenovo\n",
      "Description: lenovo thinkpad x60 tablet digitizer pen tether 3pk secures digitizer pens to x200 and x60 series tablet laptops prevents accidental loss of digitizer pen handy 3 pack set\n",
      "Product 2: Title: lenovo 57y4390 2 gb ddr3 sdram memory module 2 gb 1333mhz ddr3 1333 pc3 10600 non parity ddr3 sdram 240 pin dimm\n",
      "Brand: lenovo\n",
      "Description: improve overall performance of selected thinkcentre of thinkstation systems by upgrading with additional memory pc3 10600 ddr3 1333 ddr3 udimm non ecc memory offers maximum data transfer rates up to 1333mb sec to help you increased performance of mem\n",
      "\n",
      "Answer with 'True' or 'False'.\n",
      "__\n",
      "__\n",
      "True.\n",
      "__\n",
      "__\n",
      "324\n"
     ]
    },
    {
     "name": "stderr",
     "output_type": "stream",
     "text": [
      "/var/folders/gx/tzjwcf8x1llbhhf36mjt7xqr0000gn/T/ipykernel_98243/3776050204.py:45: SettingWithCopyWarning: \n",
      "A value is trying to be set on a copy of a slice from a DataFrame\n",
      "\n",
      "See the caveats in the documentation: https://pandas.pydata.org/pandas-docs/stable/user_guide/indexing.html#returning-a-view-versus-a-copy\n",
      "  df[prompt_name][i] = isMatch\n"
     ]
    },
    {
     "name": "stdout",
     "output_type": "stream",
     "text": [
      "Are the following two products the same?\n",
      "Product 1: Title: lenovo thinkpad x60 tablet digitizer pen tether 3pk\n",
      "Brand: lenovo\n",
      "Description: lenovo thinkpad x60 tablet digitizer pen tether 3pk secures digitizer pens to x200 and x60 series tablet laptops prevents accidental loss of digitizer pen handy 3 pack set\n",
      "Product 2: Title: lenovo memory 2 gb dimm 240 pin ddr2 800 mhz pc2 6400 unbuffered non ecc\n",
      "Brand: lenovo\n",
      "Description: 2gb 800mhz ddr2 800 pc2 6400 ddr2 sdram 240 pin dimm\n",
      "\n",
      "Answer with 'True' or 'False'.\n",
      "__\n",
      "__\n",
      "True\n",
      "__\n",
      "__\n",
      "325\n"
     ]
    },
    {
     "name": "stderr",
     "output_type": "stream",
     "text": [
      "/var/folders/gx/tzjwcf8x1llbhhf36mjt7xqr0000gn/T/ipykernel_98243/3776050204.py:45: SettingWithCopyWarning: \n",
      "A value is trying to be set on a copy of a slice from a DataFrame\n",
      "\n",
      "See the caveats in the documentation: https://pandas.pydata.org/pandas-docs/stable/user_guide/indexing.html#returning-a-view-versus-a-copy\n",
      "  df[prompt_name][i] = isMatch\n"
     ]
    },
    {
     "name": "stdout",
     "output_type": "stream",
     "text": [
      "Are the following two products the same?\n",
      "Product 1: Title: new 6 cell li battery g530 550 57y6266\n",
      "Brand: lenovo\n",
      "Description: 6 cell li battery g530 550\n",
      "Product 2: Title: lenovo thinkpad x60 tablet digitizer pen tether 3pk\n",
      "Brand: lenovo\n",
      "Description: lenovo thinkpad x60 tablet digitizer pen tether 3pk secures digitizer pens to x200 and x60 series tablet laptops prevents accidental loss of digitizer pen handy 3 pack set\n",
      "\n",
      "Answer with 'True' or 'False'.\n",
      "__\n",
      "__\n",
      "False.\n",
      "__\n",
      "__\n",
      "326\n"
     ]
    },
    {
     "name": "stderr",
     "output_type": "stream",
     "text": [
      "/var/folders/gx/tzjwcf8x1llbhhf36mjt7xqr0000gn/T/ipykernel_98243/3776050204.py:45: SettingWithCopyWarning: \n",
      "A value is trying to be set on a copy of a slice from a DataFrame\n",
      "\n",
      "See the caveats in the documentation: https://pandas.pydata.org/pandas-docs/stable/user_guide/indexing.html#returning-a-view-versus-a-copy\n",
      "  df[prompt_name][i] = isMatch\n"
     ]
    },
    {
     "name": "stdout",
     "output_type": "stream",
     "text": [
      "Are the following two products the same?\n",
      "Product 1: Title: new 6 cell li battery g530 550 57y6266\n",
      "Brand: lenovo\n",
      "Description: 6 cell li battery g530 550\n",
      "Product 2: Title: lenovo 2gb ddr3 1333mhz sodimm sdram notebook memory module\n",
      "Brand: lenovo\n",
      "Description: lenovo 2gb ddr3 1333mhz sodimm sdram notebook memory module lower power consumption higher bandwidth and increased performance when compared to ddr2 memory higher bandwidth made possible by 8 bit pre fetch buffer error correcting code ecc offers prot\n",
      "\n",
      "Answer with 'True' or 'False'.\n",
      "__\n",
      "__\n",
      "False.\n",
      "__\n",
      "__\n",
      "327\n"
     ]
    },
    {
     "name": "stderr",
     "output_type": "stream",
     "text": [
      "/var/folders/gx/tzjwcf8x1llbhhf36mjt7xqr0000gn/T/ipykernel_98243/3776050204.py:45: SettingWithCopyWarning: \n",
      "A value is trying to be set on a copy of a slice from a DataFrame\n",
      "\n",
      "See the caveats in the documentation: https://pandas.pydata.org/pandas-docs/stable/user_guide/indexing.html#returning-a-view-versus-a-copy\n",
      "  df[prompt_name][i] = isMatch\n"
     ]
    },
    {
     "name": "stdout",
     "output_type": "stream",
     "text": [
      "Are the following two products the same?\n",
      "Product 1: Title: new 6 cell li battery g530 550 57y6266\n",
      "Brand: lenovo\n",
      "Description: 6 cell li battery g530 550\n",
      "Product 2: Title: lenovo gray 15 6 ideapad y560 064652yu laptop pc with intel core i5 460m processor windows 7 home premium\n",
      "Brand: lenovo\n",
      "Description: lenovo ideapad y560 064652yu laptop pc intel core i5 460m processor 2 53ghz 3mb cache 6gb ddr3 system memory expandable up to 8gb gives you the power to handle the most power hungry applications and tons of multimedia work 500gb sata hard drive store\n",
      "\n",
      "Answer with 'True' or 'False'.\n",
      "__\n",
      "__\n",
      "False.\n",
      "__\n",
      "__\n",
      "328\n"
     ]
    },
    {
     "name": "stderr",
     "output_type": "stream",
     "text": [
      "/var/folders/gx/tzjwcf8x1llbhhf36mjt7xqr0000gn/T/ipykernel_98243/3776050204.py:45: SettingWithCopyWarning: \n",
      "A value is trying to be set on a copy of a slice from a DataFrame\n",
      "\n",
      "See the caveats in the documentation: https://pandas.pydata.org/pandas-docs/stable/user_guide/indexing.html#returning-a-view-versus-a-copy\n",
      "  df[prompt_name][i] = isMatch\n"
     ]
    },
    {
     "name": "stdout",
     "output_type": "stream",
     "text": [
      "Are the following two products the same?\n",
      "Product 1: Title: cobra 15 band digital radar laser detector\n",
      "Brand: cobra\n",
      "Description: key features 15 band detection radar detector is undetectable lasereye provides 360 degree detection provides advance warning of emergency vehicles city highway modes easyset programming menu\n",
      "Product 2: Title: cobra microtalk ctx225 20 mile 22 channel frs gmrs two way radio\n",
      "Brand: cobra\n",
      "Description: the cobra ctx225 is a micro talk 2 way radio two pack with up to a 20 mile range this unit consists of 22 channels and 142privacy codes 38 ctcss codes 104 dcs codes this adds up to over 2662 channel combinations which prevent interference from other \n",
      "\n",
      "Answer with 'True' or 'False'.\n",
      "__\n",
      "__\n",
      "False.\n",
      "__\n",
      "__\n",
      "329\n"
     ]
    },
    {
     "name": "stderr",
     "output_type": "stream",
     "text": [
      "/var/folders/gx/tzjwcf8x1llbhhf36mjt7xqr0000gn/T/ipykernel_98243/3776050204.py:45: SettingWithCopyWarning: \n",
      "A value is trying to be set on a copy of a slice from a DataFrame\n",
      "\n",
      "See the caveats in the documentation: https://pandas.pydata.org/pandas-docs/stable/user_guide/indexing.html#returning-a-view-versus-a-copy\n",
      "  df[prompt_name][i] = isMatch\n"
     ]
    },
    {
     "name": "stdout",
     "output_type": "stream",
     "text": [
      "Are the following two products the same?\n",
      "Product 1: Title: cobra 15 band digital radar laser detector\n",
      "Brand: cobra\n",
      "Description: key features 15 band detection radar detector is undetectable lasereye provides 360 degree detection provides advance warning of emergency vehicles city highway modes easyset programming menu\n",
      "Product 2: Title: cobra 29 wxnwbt 40 channel cb radio with bluetooth wireless connectivity\n",
      "Brand: cobra\n",
      "Description: the cobra 29 wx nw bt features one touch phone operation with a noise cancelling microphone which allows you to make and receive crystal clear calls thru the cb radio in the noisiest of environments with just the push of a button other features inclu\n",
      "\n",
      "Answer with 'True' or 'False'.\n",
      "__\n",
      "__\n",
      "False.\n",
      "__\n",
      "__\n",
      "330\n"
     ]
    },
    {
     "name": "stderr",
     "output_type": "stream",
     "text": [
      "/var/folders/gx/tzjwcf8x1llbhhf36mjt7xqr0000gn/T/ipykernel_98243/3776050204.py:45: SettingWithCopyWarning: \n",
      "A value is trying to be set on a copy of a slice from a DataFrame\n",
      "\n",
      "See the caveats in the documentation: https://pandas.pydata.org/pandas-docs/stable/user_guide/indexing.html#returning-a-view-versus-a-copy\n",
      "  df[prompt_name][i] = isMatch\n"
     ]
    },
    {
     "name": "stdout",
     "output_type": "stream",
     "text": [
      "Are the following two products the same?\n",
      "Product 1: Title: new cobra digital dca1650 16 0 megapixel dca1650 digital camera cbddca1650\n",
      "Brand: cobra\n",
      "Description: cobra digital dca1650 16 0 megapixel dca1650 digital camera 16 0 megapixel 720p high definition video with sound 8x digital zoom 2 7 lcd anti shake face detection smile detection li ion battery compatible with secure digital cards tm to 16 gb\n",
      "Product 2: Title: cobra 15 band digital radar laser detector\n",
      "Brand: cobra\n",
      "Description: key features 15 band detection radar detector is undetectable lasereye provides 360 degree detection provides advance warning of emergency vehicles city highway modes easyset programming menu\n",
      "\n",
      "Answer with 'True' or 'False'.\n",
      "__\n",
      "__\n",
      "True\n",
      "__\n",
      "__\n",
      "331\n"
     ]
    },
    {
     "name": "stderr",
     "output_type": "stream",
     "text": [
      "/var/folders/gx/tzjwcf8x1llbhhf36mjt7xqr0000gn/T/ipykernel_98243/3776050204.py:45: SettingWithCopyWarning: \n",
      "A value is trying to be set on a copy of a slice from a DataFrame\n",
      "\n",
      "See the caveats in the documentation: https://pandas.pydata.org/pandas-docs/stable/user_guide/indexing.html#returning-a-view-versus-a-copy\n",
      "  df[prompt_name][i] = isMatch\n"
     ]
    },
    {
     "name": "stdout",
     "output_type": "stream",
     "text": [
      "Are the following two products the same?\n",
      "Product 1: Title: cobra digital pc1000 ultimate web camera\n",
      "Brand: cobra\n",
      "Description: cobra digital pc1000 ultimate web camera\n",
      "Product 2: Title: cobra 15 band digital radar laser detector\n",
      "Brand: cobra\n",
      "Description: key features 15 band detection radar detector is undetectable lasereye provides 360 degree detection provides advance warning of emergency vehicles city highway modes easyset programming menu\n",
      "\n",
      "Answer with 'True' or 'False'.\n",
      "__\n",
      "__\n",
      "False.\n",
      "__\n",
      "__\n",
      "332\n"
     ]
    },
    {
     "name": "stderr",
     "output_type": "stream",
     "text": [
      "/var/folders/gx/tzjwcf8x1llbhhf36mjt7xqr0000gn/T/ipykernel_98243/3776050204.py:45: SettingWithCopyWarning: \n",
      "A value is trying to be set on a copy of a slice from a DataFrame\n",
      "\n",
      "See the caveats in the documentation: https://pandas.pydata.org/pandas-docs/stable/user_guide/indexing.html#returning-a-view-versus-a-copy\n",
      "  df[prompt_name][i] = isMatch\n"
     ]
    },
    {
     "name": "stdout",
     "output_type": "stream",
     "text": [
      "Are the following two products the same?\n",
      "Product 1: Title: cobra 15 band digital radar laser detector\n",
      "Brand: cobra\n",
      "Description: key features 15 band detection radar detector is undetectable lasereye provides 360 degree detection provides advance warning of emergency vehicles city highway modes easyset programming menu\n",
      "Product 2: Title: cobra coiled power cord for cobra radar detectors\n",
      "Brand: cobra\n",
      "Description: the cobra coiled cord fits all current and past cobra models coiled cord for cobra esd7000 pro7080 xrs 9300 xrs 9330 xrs 9340 xrs 9345 xrs 9400 xrs 9430 xrs 9440 xrs 9445 xrs 9500 xrs 9530 xrs 9540 xrs 9545 xrs 9600 xrs 9630 xrs 9640 xrs 9645 xrs 970\n",
      "\n",
      "Answer with 'True' or 'False'.\n",
      "__\n",
      "__\n",
      "False.\n",
      "__\n",
      "__\n",
      "333\n"
     ]
    },
    {
     "name": "stderr",
     "output_type": "stream",
     "text": [
      "/var/folders/gx/tzjwcf8x1llbhhf36mjt7xqr0000gn/T/ipykernel_98243/3776050204.py:45: SettingWithCopyWarning: \n",
      "A value is trying to be set on a copy of a slice from a DataFrame\n",
      "\n",
      "See the caveats in the documentation: https://pandas.pydata.org/pandas-docs/stable/user_guide/indexing.html#returning-a-view-versus-a-copy\n",
      "  df[prompt_name][i] = isMatch\n"
     ]
    },
    {
     "name": "stdout",
     "output_type": "stream",
     "text": [
      "Are the following two products the same?\n",
      "Product 1: Title: cobra digital pc1000 ultimate web camera\n",
      "Brand: cobra\n",
      "Description: cobra digital pc1000 ultimate web camera\n",
      "Product 2: Title: cobra mobile cb radio with nightwatch illuminated display and swr antenna calibration\n",
      "Brand: cobra\n",
      "Description: swr calibration allows calibration of antenna system for maximum performance 9 foot microphone cord for easy reach within any area of the vehicle front microphone connector allows convenient installation to be in dash or under dash adjustable dynamik\n",
      "\n",
      "Answer with 'True' or 'False'.\n",
      "__\n",
      "__\n",
      "False.\n",
      "__\n",
      "__\n",
      "334\n"
     ]
    },
    {
     "name": "stderr",
     "output_type": "stream",
     "text": [
      "/var/folders/gx/tzjwcf8x1llbhhf36mjt7xqr0000gn/T/ipykernel_98243/3776050204.py:45: SettingWithCopyWarning: \n",
      "A value is trying to be set on a copy of a slice from a DataFrame\n",
      "\n",
      "See the caveats in the documentation: https://pandas.pydata.org/pandas-docs/stable/user_guide/indexing.html#returning-a-view-versus-a-copy\n",
      "  df[prompt_name][i] = isMatch\n"
     ]
    },
    {
     "name": "stdout",
     "output_type": "stream",
     "text": [
      "Are the following two products the same?\n",
      "Product 1: Title: new cobra digital dca1650 16 0 megapixel dca1650 digital camera cbddca1650\n",
      "Brand: cobra\n",
      "Description: cobra digital dca1650 16 0 megapixel dca1650 digital camera 16 0 megapixel 720p high definition video with sound 8x digital zoom 2 7 lcd anti shake face detection smile detection li ion battery compatible with secure digital cards tm to 16 gb\n",
      "Product 2: Title: cobra mobile cb radio with nightwatch illuminated display and swr antenna calibration\n",
      "Brand: cobra\n",
      "Description: swr calibration allows calibration of antenna system for maximum performance 9 foot microphone cord for easy reach within any area of the vehicle front microphone connector allows convenient installation to be in dash or under dash adjustable dynamik\n",
      "\n",
      "Answer with 'True' or 'False'.\n",
      "__\n",
      "__\n",
      "False.\n",
      "__\n",
      "__\n",
      "335\n"
     ]
    },
    {
     "name": "stderr",
     "output_type": "stream",
     "text": [
      "/var/folders/gx/tzjwcf8x1llbhhf36mjt7xqr0000gn/T/ipykernel_98243/3776050204.py:45: SettingWithCopyWarning: \n",
      "A value is trying to be set on a copy of a slice from a DataFrame\n",
      "\n",
      "See the caveats in the documentation: https://pandas.pydata.org/pandas-docs/stable/user_guide/indexing.html#returning-a-view-versus-a-copy\n",
      "  df[prompt_name][i] = isMatch\n"
     ]
    },
    {
     "name": "stdout",
     "output_type": "stream",
     "text": [
      "Are the following two products the same?\n",
      "Product 1: Title: cobra digital pc1000 ultimate web camera\n",
      "Brand: cobra\n",
      "Description: cobra digital pc1000 ultimate web camera\n",
      "Product 2: Title: cobra marine handheld dual band transceiver\n",
      "Brand: cobra\n",
      "Description: cobra marine handheld dual band transceiver first combination vhf and gmrs in the world cobra exclusive rewind say again feature all 10 noaa weather channels with s a m e alert filtering submersible to ji57 standards tri watch and unlimited memory se\n",
      "\n",
      "Answer with 'True' or 'False'.\n",
      "__\n",
      "__\n",
      "False.\n",
      "__\n",
      "__\n",
      "336\n"
     ]
    },
    {
     "name": "stderr",
     "output_type": "stream",
     "text": [
      "/var/folders/gx/tzjwcf8x1llbhhf36mjt7xqr0000gn/T/ipykernel_98243/3776050204.py:45: SettingWithCopyWarning: \n",
      "A value is trying to be set on a copy of a slice from a DataFrame\n",
      "\n",
      "See the caveats in the documentation: https://pandas.pydata.org/pandas-docs/stable/user_guide/indexing.html#returning-a-view-versus-a-copy\n",
      "  df[prompt_name][i] = isMatch\n"
     ]
    },
    {
     "name": "stdout",
     "output_type": "stream",
     "text": [
      "Are the following two products the same?\n",
      "Product 1: Title: new cobra digital dca1650 16 0 megapixel dca1650 digital camera cbddca1650\n",
      "Brand: cobra\n",
      "Description: cobra digital dca1650 16 0 megapixel dca1650 digital camera 16 0 megapixel 720p high definition video with sound 8x digital zoom 2 7 lcd anti shake face detection smile detection li ion battery compatible with secure digital cards tm to 16 gb\n",
      "Product 2: Title: cobra marine handheld dual band transceiver\n",
      "Brand: cobra\n",
      "Description: cobra marine handheld dual band transceiver first combination vhf and gmrs in the world cobra exclusive rewind say again feature all 10 noaa weather channels with s a m e alert filtering submersible to ji57 standards tri watch and unlimited memory se\n",
      "\n",
      "Answer with 'True' or 'False'.\n",
      "__\n",
      "__\n",
      "False\n",
      "__\n",
      "__\n",
      "337\n"
     ]
    },
    {
     "name": "stderr",
     "output_type": "stream",
     "text": [
      "/var/folders/gx/tzjwcf8x1llbhhf36mjt7xqr0000gn/T/ipykernel_98243/3776050204.py:45: SettingWithCopyWarning: \n",
      "A value is trying to be set on a copy of a slice from a DataFrame\n",
      "\n",
      "See the caveats in the documentation: https://pandas.pydata.org/pandas-docs/stable/user_guide/indexing.html#returning-a-view-versus-a-copy\n",
      "  df[prompt_name][i] = isMatch\n"
     ]
    },
    {
     "name": "stdout",
     "output_type": "stream",
     "text": [
      "Are the following two products the same?\n",
      "Product 1: Title: cobra digital pc1000 ultimate web camera\n",
      "Brand: cobra\n",
      "Description: cobra digital pc1000 ultimate web camera\n",
      "Product 2: Title: cobra 16 mile range 22 channel gmrs 2 way radio\n",
      "Brand: cobra\n",
      "Description: key features up to 16 mile range 22 channels for easy communication 121 privacy codes single pin speaker microphone charge jack lcd display for easy viewing call alert for incoming calls includes 8 aaa nimh rechargeable batteries and wall charger\n",
      "\n",
      "Answer with 'True' or 'False'.\n",
      "__\n",
      "__\n",
      "False.\n",
      "__\n",
      "__\n",
      "338\n"
     ]
    },
    {
     "name": "stderr",
     "output_type": "stream",
     "text": [
      "/var/folders/gx/tzjwcf8x1llbhhf36mjt7xqr0000gn/T/ipykernel_98243/3776050204.py:45: SettingWithCopyWarning: \n",
      "A value is trying to be set on a copy of a slice from a DataFrame\n",
      "\n",
      "See the caveats in the documentation: https://pandas.pydata.org/pandas-docs/stable/user_guide/indexing.html#returning-a-view-versus-a-copy\n",
      "  df[prompt_name][i] = isMatch\n"
     ]
    },
    {
     "name": "stdout",
     "output_type": "stream",
     "text": [
      "Are the following two products the same?\n",
      "Product 1: Title: new cobra digital dca1650 16 0 megapixel dca1650 digital camera cbddca1650\n",
      "Brand: cobra\n",
      "Description: cobra digital dca1650 16 0 megapixel dca1650 digital camera 16 0 megapixel 720p high definition video with sound 8x digital zoom 2 7 lcd anti shake face detection smile detection li ion battery compatible with secure digital cards tm to 16 gb\n",
      "Product 2: Title: cobra 16 mile range 22 channel gmrs 2 way radio\n",
      "Brand: cobra\n",
      "Description: key features up to 16 mile range 22 channels for easy communication 121 privacy codes single pin speaker microphone charge jack lcd display for easy viewing call alert for incoming calls includes 8 aaa nimh rechargeable batteries and wall charger\n",
      "\n",
      "Answer with 'True' or 'False'.\n",
      "__\n",
      "__\n",
      "True\n",
      "__\n",
      "__\n",
      "339\n"
     ]
    },
    {
     "name": "stderr",
     "output_type": "stream",
     "text": [
      "/var/folders/gx/tzjwcf8x1llbhhf36mjt7xqr0000gn/T/ipykernel_98243/3776050204.py:45: SettingWithCopyWarning: \n",
      "A value is trying to be set on a copy of a slice from a DataFrame\n",
      "\n",
      "See the caveats in the documentation: https://pandas.pydata.org/pandas-docs/stable/user_guide/indexing.html#returning-a-view-versus-a-copy\n",
      "  df[prompt_name][i] = isMatch\n"
     ]
    },
    {
     "name": "stdout",
     "output_type": "stream",
     "text": [
      "Are the following two products the same?\n",
      "Product 1: Title: cobra 16 mile range 22 channel gmrs 2 way radio\n",
      "Brand: cobra\n",
      "Description: key features up to 16 mile range 22 channels for easy communication 121 privacy codes single pin speaker microphone charge jack lcd display for easy viewing call alert for incoming calls includes 8 aaa nimh rechargeable batteries and wall charger\n",
      "Product 2: Title: cobra coiled power cord for cobra radar detectors\n",
      "Brand: cobra\n",
      "Description: the cobra coiled cord fits all current and past cobra models coiled cord for cobra esd7000 pro7080 xrs 9300 xrs 9330 xrs 9340 xrs 9345 xrs 9400 xrs 9430 xrs 9440 xrs 9445 xrs 9500 xrs 9530 xrs 9540 xrs 9545 xrs 9600 xrs 9630 xrs 9640 xrs 9645 xrs 970\n",
      "\n",
      "Answer with 'True' or 'False'.\n",
      "__\n",
      "__\n",
      "False.\n",
      "__\n",
      "__\n",
      "340\n"
     ]
    },
    {
     "name": "stderr",
     "output_type": "stream",
     "text": [
      "/var/folders/gx/tzjwcf8x1llbhhf36mjt7xqr0000gn/T/ipykernel_98243/3776050204.py:45: SettingWithCopyWarning: \n",
      "A value is trying to be set on a copy of a slice from a DataFrame\n",
      "\n",
      "See the caveats in the documentation: https://pandas.pydata.org/pandas-docs/stable/user_guide/indexing.html#returning-a-view-versus-a-copy\n",
      "  df[prompt_name][i] = isMatch\n"
     ]
    },
    {
     "name": "stdout",
     "output_type": "stream",
     "text": [
      "Are the following two products the same?\n",
      "Product 1: Title: cobra highgear noise canceling external speaker\n",
      "Brand: cobra\n",
      "Description: 4 d\n",
      "Product 2: Title: cobra cpi 1575 1500 watt 12 volt dc to 120 volt ac power inverter\n",
      "Brand: cobra\n",
      "Description: this inverter provides household power on the go it converts battery power to 120 v ac household power allowing you to power up office equipment and household appliances from your vehicle this unit is ideal for such appliances as microwave ovens 1000\n",
      "\n",
      "Answer with 'True' or 'False'.\n",
      "__\n",
      "__\n",
      "False.\n",
      "__\n",
      "__\n",
      "341\n"
     ]
    },
    {
     "name": "stderr",
     "output_type": "stream",
     "text": [
      "/var/folders/gx/tzjwcf8x1llbhhf36mjt7xqr0000gn/T/ipykernel_98243/3776050204.py:45: SettingWithCopyWarning: \n",
      "A value is trying to be set on a copy of a slice from a DataFrame\n",
      "\n",
      "See the caveats in the documentation: https://pandas.pydata.org/pandas-docs/stable/user_guide/indexing.html#returning-a-view-versus-a-copy\n",
      "  df[prompt_name][i] = isMatch\n"
     ]
    },
    {
     "name": "stdout",
     "output_type": "stream",
     "text": [
      "Are the following two products the same?\n",
      "Product 1: Title: cobra digital pc1000 ultimate web camera\n",
      "Brand: cobra\n",
      "Description: cobra digital pc1000 ultimate web camera\n",
      "Product 2: Title: cobra 4 pin microphone with noise canceling feature\n",
      "Brand: cobra\n",
      "Description: 9 high flex cord heavy duty drop proof abs shell metal mesh grille left side ptt button\n",
      "\n",
      "Answer with 'True' or 'False'.\n",
      "__\n",
      "__\n",
      "False.\n",
      "__\n",
      "__\n",
      "342\n"
     ]
    },
    {
     "name": "stderr",
     "output_type": "stream",
     "text": [
      "/var/folders/gx/tzjwcf8x1llbhhf36mjt7xqr0000gn/T/ipykernel_98243/3776050204.py:45: SettingWithCopyWarning: \n",
      "A value is trying to be set on a copy of a slice from a DataFrame\n",
      "\n",
      "See the caveats in the documentation: https://pandas.pydata.org/pandas-docs/stable/user_guide/indexing.html#returning-a-view-versus-a-copy\n",
      "  df[prompt_name][i] = isMatch\n"
     ]
    },
    {
     "name": "stdout",
     "output_type": "stream",
     "text": [
      "Are the following two products the same?\n",
      "Product 1: Title: cobra digital hdvc6000 solar 12 mp digital camera with 4 x optical zoom black\n",
      "Brand: cobra\n",
      "Description: cobra digital hdvc6000 solar 12 0 megapixel hdvc6000 solar digital camera with solar panels\n",
      "Product 2: Title: cobra 4 pin microphone with noise canceling feature\n",
      "Brand: cobra\n",
      "Description: 9 high flex cord heavy duty drop proof abs shell metal mesh grille left side ptt button\n",
      "\n",
      "Answer with 'True' or 'False'.\n",
      "__\n",
      "__\n",
      "True\n",
      "__\n",
      "__\n",
      "343\n"
     ]
    },
    {
     "name": "stderr",
     "output_type": "stream",
     "text": [
      "/var/folders/gx/tzjwcf8x1llbhhf36mjt7xqr0000gn/T/ipykernel_98243/3776050204.py:45: SettingWithCopyWarning: \n",
      "A value is trying to be set on a copy of a slice from a DataFrame\n",
      "\n",
      "See the caveats in the documentation: https://pandas.pydata.org/pandas-docs/stable/user_guide/indexing.html#returning-a-view-versus-a-copy\n",
      "  df[prompt_name][i] = isMatch\n"
     ]
    },
    {
     "name": "stdout",
     "output_type": "stream",
     "text": [
      "Are the following two products the same?\n",
      "Product 1: Title: cobra cpi 480 400 watt 12 volt dc to 120 volt ac power inverter with 5 volt usb output\n",
      "Brand: cobra\n",
      "Description: the cobra cpi 480 is a 12 volt dc to 120 volt ac power inverter that provides 400 watts of power handling and 800 watts of peak power this unit comes equipped with two grounded ac receptacles and a 5 volt usb output allowing you to power and charge a\n",
      "Product 2: Title: cobra 4 pin microphone with noise canceling feature\n",
      "Brand: cobra\n",
      "Description: 9 high flex cord heavy duty drop proof abs shell metal mesh grille left side ptt button\n",
      "\n",
      "Answer with 'True' or 'False'.\n",
      "__\n",
      "__\n",
      "False.\n",
      "__\n",
      "__\n",
      "344\n"
     ]
    },
    {
     "name": "stderr",
     "output_type": "stream",
     "text": [
      "/var/folders/gx/tzjwcf8x1llbhhf36mjt7xqr0000gn/T/ipykernel_98243/3776050204.py:45: SettingWithCopyWarning: \n",
      "A value is trying to be set on a copy of a slice from a DataFrame\n",
      "\n",
      "See the caveats in the documentation: https://pandas.pydata.org/pandas-docs/stable/user_guide/indexing.html#returning-a-view-versus-a-copy\n",
      "  df[prompt_name][i] = isMatch\n"
     ]
    },
    {
     "name": "stdout",
     "output_type": "stream",
     "text": [
      "Are the following two products the same?\n",
      "Product 1: Title: cobra 14 band digital radar laser detector\n",
      "Brand: cobra\n",
      "Description: key features 14 band detection radar detector is undetectable lasereye provides 360 degree detection provides advance warning of emergency vehicles city highway modes remembers radar detector settings\n",
      "Product 2: Title: cobra cpi 1575 1500 watt 12 volt dc to 120 volt ac power inverter\n",
      "Brand: cobra\n",
      "Description: this inverter provides household power on the go it converts battery power to 120 v ac household power allowing you to power up office equipment and household appliances from your vehicle this unit is ideal for such appliances as microwave ovens 1000\n",
      "\n",
      "Answer with 'True' or 'False'.\n",
      "__\n",
      "__\n",
      "True\n",
      "__\n",
      "__\n",
      "345\n"
     ]
    },
    {
     "name": "stderr",
     "output_type": "stream",
     "text": [
      "/var/folders/gx/tzjwcf8x1llbhhf36mjt7xqr0000gn/T/ipykernel_98243/3776050204.py:45: SettingWithCopyWarning: \n",
      "A value is trying to be set on a copy of a slice from a DataFrame\n",
      "\n",
      "See the caveats in the documentation: https://pandas.pydata.org/pandas-docs/stable/user_guide/indexing.html#returning-a-view-versus-a-copy\n",
      "  df[prompt_name][i] = isMatch\n"
     ]
    },
    {
     "name": "stdout",
     "output_type": "stream",
     "text": [
      "Are the following two products the same?\n",
      "Product 1: Title: cobra xrs 9645 15 band radar laser detector with new digiview data display pop mode radar gun detection mode and digital compass\n",
      "Brand: cobra\n",
      "Description: the xrs 9645 provides total protection and peace of mind with xtreme range superheterodyne technology detecting all 15 radar laser bands with its super fast lock on detection circuitry the unit provides extra detection range and the best possible adv\n",
      "Product 2: Title: cobra highgear noise canceling external speaker\n",
      "Brand: cobra\n",
      "Description: 4 d\n",
      "\n",
      "Answer with 'True' or 'False'.\n",
      "__\n",
      "__\n",
      "True\n",
      "__\n",
      "__\n",
      "346\n"
     ]
    },
    {
     "name": "stderr",
     "output_type": "stream",
     "text": [
      "/var/folders/gx/tzjwcf8x1llbhhf36mjt7xqr0000gn/T/ipykernel_98243/3776050204.py:45: SettingWithCopyWarning: \n",
      "A value is trying to be set on a copy of a slice from a DataFrame\n",
      "\n",
      "See the caveats in the documentation: https://pandas.pydata.org/pandas-docs/stable/user_guide/indexing.html#returning-a-view-versus-a-copy\n",
      "  df[prompt_name][i] = isMatch\n"
     ]
    },
    {
     "name": "stdout",
     "output_type": "stream",
     "text": [
      "Are the following two products the same?\n",
      "Product 1: Title: cobra xrs 9645 15 band radar laser detector with new digiview data display pop mode radar gun detection mode and digital compass\n",
      "Brand: cobra\n",
      "Description: the xrs 9645 provides total protection and peace of mind with xtreme range superheterodyne technology detecting all 15 radar laser bands with its super fast lock on detection circuitry the unit provides extra detection range and the best possible adv\n",
      "Product 2: Title: cobra 14 band digital radar laser detector\n",
      "Brand: cobra\n",
      "Description: key features 14 band detection radar detector is undetectable lasereye provides 360 degree detection provides advance warning of emergency vehicles city highway modes remembers radar detector settings\n",
      "\n",
      "Answer with 'True' or 'False'.\n",
      "__\n",
      "__\n",
      "False.\n",
      "__\n",
      "__\n",
      "347\n"
     ]
    },
    {
     "name": "stderr",
     "output_type": "stream",
     "text": [
      "/var/folders/gx/tzjwcf8x1llbhhf36mjt7xqr0000gn/T/ipykernel_98243/3776050204.py:45: SettingWithCopyWarning: \n",
      "A value is trying to be set on a copy of a slice from a DataFrame\n",
      "\n",
      "See the caveats in the documentation: https://pandas.pydata.org/pandas-docs/stable/user_guide/indexing.html#returning-a-view-versus-a-copy\n",
      "  df[prompt_name][i] = isMatch\n"
     ]
    },
    {
     "name": "stdout",
     "output_type": "stream",
     "text": [
      "Are the following two products the same?\n",
      "Product 1: Title: cobra xrs 9645 15 band radar laser detector with new digiview data display pop mode radar gun detection mode and digital compass\n",
      "Brand: cobra\n",
      "Description: the xrs 9645 provides total protection and peace of mind with xtreme range superheterodyne technology detecting all 15 radar laser bands with its super fast lock on detection circuitry the unit provides extra detection range and the best possible adv\n",
      "Product 2: Title: cobra mobile cb radio with nightwatch illuminated display and swr antenna calibration\n",
      "Brand: cobra\n",
      "Description: swr calibration allows calibration of antenna system for maximum performance 9 foot microphone cord for easy reach within any area of the vehicle front microphone connector allows convenient installation to be in dash or under dash adjustable dynamik\n",
      "\n",
      "Answer with 'True' or 'False'.\n",
      "__\n",
      "__\n",
      "True\n",
      "__\n",
      "__\n",
      "348\n"
     ]
    },
    {
     "name": "stderr",
     "output_type": "stream",
     "text": [
      "/var/folders/gx/tzjwcf8x1llbhhf36mjt7xqr0000gn/T/ipykernel_98243/3776050204.py:45: SettingWithCopyWarning: \n",
      "A value is trying to be set on a copy of a slice from a DataFrame\n",
      "\n",
      "See the caveats in the documentation: https://pandas.pydata.org/pandas-docs/stable/user_guide/indexing.html#returning-a-view-versus-a-copy\n",
      "  df[prompt_name][i] = isMatch\n"
     ]
    },
    {
     "name": "stdout",
     "output_type": "stream",
     "text": [
      "Are the following two products the same?\n",
      "Product 1: Title: cobra xrs 9645 15 band radar laser detector with new digiview data display pop mode radar gun detection mode and digital compass\n",
      "Brand: cobra\n",
      "Description: the xrs 9645 provides total protection and peace of mind with xtreme range superheterodyne technology detecting all 15 radar laser bands with its super fast lock on detection circuitry the unit provides extra detection range and the best possible adv\n",
      "Product 2: Title: cobra 16 mile range 22 channel gmrs 2 way radio\n",
      "Brand: cobra\n",
      "Description: key features up to 16 mile range 22 channels for easy communication 121 privacy codes single pin speaker microphone charge jack lcd display for easy viewing call alert for incoming calls includes 8 aaa nimh rechargeable batteries and wall charger\n",
      "\n",
      "Answer with 'True' or 'False'.\n",
      "__\n",
      "__\n",
      "True\n",
      "__\n",
      "__\n",
      "349\n"
     ]
    },
    {
     "name": "stderr",
     "output_type": "stream",
     "text": [
      "/var/folders/gx/tzjwcf8x1llbhhf36mjt7xqr0000gn/T/ipykernel_98243/3776050204.py:45: SettingWithCopyWarning: \n",
      "A value is trying to be set on a copy of a slice from a DataFrame\n",
      "\n",
      "See the caveats in the documentation: https://pandas.pydata.org/pandas-docs/stable/user_guide/indexing.html#returning-a-view-versus-a-copy\n",
      "  df[prompt_name][i] = isMatch\n"
     ]
    },
    {
     "name": "stdout",
     "output_type": "stream",
     "text": [
      "Are the following two products the same?\n",
      "Product 1: Title: cobra xrs 9645 15 band radar laser detector with new digiview data display pop mode radar gun detection mode and digital compass\n",
      "Brand: cobra\n",
      "Description: the xrs 9645 provides total protection and peace of mind with xtreme range superheterodyne technology detecting all 15 radar laser bands with its super fast lock on detection circuitry the unit provides extra detection range and the best possible adv\n",
      "Product 2: Title: cobra marine handheld dual band transceiver\n",
      "Brand: cobra\n",
      "Description: cobra marine handheld dual band transceiver first combination vhf and gmrs in the world cobra exclusive rewind say again feature all 10 noaa weather channels with s a m e alert filtering submersible to ji57 standards tri watch and unlimited memory se\n",
      "\n",
      "Answer with 'True' or 'False'.\n",
      "__\n",
      "__\n",
      "False.\n",
      "__\n",
      "__\n",
      "350\n"
     ]
    },
    {
     "name": "stderr",
     "output_type": "stream",
     "text": [
      "/var/folders/gx/tzjwcf8x1llbhhf36mjt7xqr0000gn/T/ipykernel_98243/3776050204.py:45: SettingWithCopyWarning: \n",
      "A value is trying to be set on a copy of a slice from a DataFrame\n",
      "\n",
      "See the caveats in the documentation: https://pandas.pydata.org/pandas-docs/stable/user_guide/indexing.html#returning-a-view-versus-a-copy\n",
      "  df[prompt_name][i] = isMatch\n"
     ]
    },
    {
     "name": "stdout",
     "output_type": "stream",
     "text": [
      "Are the following two products the same?\n",
      "Product 1: Title: cobra xrs 9645 15 band radar laser detector with new digiview data display pop mode radar gun detection mode and digital compass\n",
      "Brand: cobra\n",
      "Description: the xrs 9645 provides total protection and peace of mind with xtreme range superheterodyne technology detecting all 15 radar laser bands with its super fast lock on detection circuitry the unit provides extra detection range and the best possible adv\n",
      "Product 2: Title: cobra 4 pin microphone with noise canceling feature\n",
      "Brand: cobra\n",
      "Description: 9 high flex cord heavy duty drop proof abs shell metal mesh grille left side ptt button\n",
      "\n",
      "Answer with 'True' or 'False'.\n",
      "__\n",
      "__\n",
      "True\n",
      "__\n",
      "__\n",
      "351\n"
     ]
    },
    {
     "name": "stderr",
     "output_type": "stream",
     "text": [
      "/var/folders/gx/tzjwcf8x1llbhhf36mjt7xqr0000gn/T/ipykernel_98243/3776050204.py:45: SettingWithCopyWarning: \n",
      "A value is trying to be set on a copy of a slice from a DataFrame\n",
      "\n",
      "See the caveats in the documentation: https://pandas.pydata.org/pandas-docs/stable/user_guide/indexing.html#returning-a-view-versus-a-copy\n",
      "  df[prompt_name][i] = isMatch\n"
     ]
    },
    {
     "name": "stdout",
     "output_type": "stream",
     "text": [
      "Are the following two products the same?\n",
      "Product 1: Title: cobra xrs 9645 15 band radar laser detector with new digiview data display pop mode radar gun detection mode and digital compass\n",
      "Brand: cobra\n",
      "Description: the xrs 9645 provides total protection and peace of mind with xtreme range superheterodyne technology detecting all 15 radar laser bands with its super fast lock on detection circuitry the unit provides extra detection range and the best possible adv\n",
      "Product 2: Title: cobra 16 mile cxt125 2 way radios 2 pk\n",
      "Brand: cobra\n",
      "Description: cobra 16 mile cxt125 2 way radios 2 pk 16 mile range 22 channels call alert and roger beep tone lcd display speaker microphone charger jack belt clip battery saver circuitry 2 pack rechargeable nimh batteries wall charger with plug\n",
      "\n",
      "Answer with 'True' or 'False'.\n",
      "__\n",
      "__\n",
      "False\n",
      "__\n",
      "__\n",
      "352\n"
     ]
    },
    {
     "name": "stderr",
     "output_type": "stream",
     "text": [
      "/var/folders/gx/tzjwcf8x1llbhhf36mjt7xqr0000gn/T/ipykernel_98243/3776050204.py:45: SettingWithCopyWarning: \n",
      "A value is trying to be set on a copy of a slice from a DataFrame\n",
      "\n",
      "See the caveats in the documentation: https://pandas.pydata.org/pandas-docs/stable/user_guide/indexing.html#returning-a-view-versus-a-copy\n",
      "  df[prompt_name][i] = isMatch\n"
     ]
    },
    {
     "name": "stdout",
     "output_type": "stream",
     "text": [
      "Are the following two products the same?\n",
      "Product 1: Title: solar dual panel hd camcorder d1 video\n",
      "Brand: cobra\n",
      "Description:  solar dual panel hd camcorder d1 video 12 mp still record video and pictures while the battery is charging with the flip out solar panels or solar charge the camera batteries while the camera is off about 3 hour operation on a full charge 3 inch col\n",
      "Product 2: Title: cobra 16 mile cxt125 2 way radios 2 pk\n",
      "Brand: cobra\n",
      "Description: cobra 16 mile cxt125 2 way radios 2 pk 16 mile range 22 channels call alert and roger beep tone lcd display speaker microphone charger jack belt clip battery saver circuitry 2 pack rechargeable nimh batteries wall charger with plug\n",
      "\n",
      "Answer with 'True' or 'False'.\n",
      "__\n",
      "__\n",
      "False.\n",
      "__\n",
      "__\n",
      "353\n"
     ]
    },
    {
     "name": "stderr",
     "output_type": "stream",
     "text": [
      "/var/folders/gx/tzjwcf8x1llbhhf36mjt7xqr0000gn/T/ipykernel_98243/3776050204.py:45: SettingWithCopyWarning: \n",
      "A value is trying to be set on a copy of a slice from a DataFrame\n",
      "\n",
      "See the caveats in the documentation: https://pandas.pydata.org/pandas-docs/stable/user_guide/indexing.html#returning-a-view-versus-a-copy\n",
      "  df[prompt_name][i] = isMatch\n"
     ]
    },
    {
     "name": "stdout",
     "output_type": "stream",
     "text": [
      "Are the following two products the same?\n",
      "Product 1: Title: solar dual panel hd camcorder d1 video\n",
      "Brand: cobra\n",
      "Description:  solar dual panel hd camcorder d1 video 12 mp still record video and pictures while the battery is charging with the flip out solar panels or solar charge the camera batteries while the camera is off about 3 hour operation on a full charge 3 inch col\n",
      "Product 2: Title: cobra 14 band digital radar laser detector\n",
      "Brand: cobra\n",
      "Description: key features 14 band detection radar detector is undetectable lasereye provides 360 degree detection provides advance warning of emergency vehicles city highway modes remembers radar detector settings\n",
      "\n",
      "Answer with 'True' or 'False'.\n",
      "__\n",
      "__\n",
      "False.\n",
      "__\n",
      "__\n",
      "354\n"
     ]
    },
    {
     "name": "stderr",
     "output_type": "stream",
     "text": [
      "/var/folders/gx/tzjwcf8x1llbhhf36mjt7xqr0000gn/T/ipykernel_98243/3776050204.py:45: SettingWithCopyWarning: \n",
      "A value is trying to be set on a copy of a slice from a DataFrame\n",
      "\n",
      "See the caveats in the documentation: https://pandas.pydata.org/pandas-docs/stable/user_guide/indexing.html#returning-a-view-versus-a-copy\n",
      "  df[prompt_name][i] = isMatch\n"
     ]
    },
    {
     "name": "stdout",
     "output_type": "stream",
     "text": [
      "Are the following two products the same?\n",
      "Product 1: Title: wilson jones 40823 international a4 size 4 ring view binder 2 capacity white\n",
      "Brand: wilson jones\n",
      "Description: solve international size document storage dilemmas with the binder designed to secure a4 sized paper specially aligned rings to fit european 11 5 8 x 8 1 8 south american 11 5 8 x 8 1 2 australian and asian paper sizes clear front cover and spine mea\n",
      "Product 2: Title: wilson jones super heavy weight sheet protector\n",
      "Brand: wilson jones\n",
      "Description: wilson jones super heavy weight sheet protector sheet protector keeps documents or overhead slide presentations safe acid free archival safe pvc free\n",
      "\n",
      "Answer with 'True' or 'False'.\n",
      "__\n",
      "__\n",
      "False.\n",
      "__\n",
      "__\n",
      "355\n"
     ]
    },
    {
     "name": "stderr",
     "output_type": "stream",
     "text": [
      "/var/folders/gx/tzjwcf8x1llbhhf36mjt7xqr0000gn/T/ipykernel_98243/3776050204.py:45: SettingWithCopyWarning: \n",
      "A value is trying to be set on a copy of a slice from a DataFrame\n",
      "\n",
      "See the caveats in the documentation: https://pandas.pydata.org/pandas-docs/stable/user_guide/indexing.html#returning-a-view-versus-a-copy\n",
      "  df[prompt_name][i] = isMatch\n"
     ]
    },
    {
     "name": "stdout",
     "output_type": "stream",
     "text": [
      "Are the following two products the same?\n",
      "Product 1: Title: new wallet file legal recycled green case pack 3 446172\n",
      "Brand: wilson jones\n",
      "Description: wallet file legal recycled green case pack 3\n",
      "Product 2: Title: wilson jones wallet file letter recycled kraft\n",
      "Brand: wilson jones\n",
      "Description: ulz1311earth friendly and office smart recycled wallets are perfect for storing and transporting important files expands to accommodate growing files flap closure durable construction to handle bulky documents file jackets sleeves wallets type wallet\n",
      "\n",
      "Answer with 'True' or 'False'.\n",
      "__\n",
      "__\n",
      "False.\n",
      "__\n",
      "__\n",
      "356\n"
     ]
    },
    {
     "name": "stderr",
     "output_type": "stream",
     "text": [
      "/var/folders/gx/tzjwcf8x1llbhhf36mjt7xqr0000gn/T/ipykernel_98243/3776050204.py:45: SettingWithCopyWarning: \n",
      "A value is trying to be set on a copy of a slice from a DataFrame\n",
      "\n",
      "See the caveats in the documentation: https://pandas.pydata.org/pandas-docs/stable/user_guide/indexing.html#returning-a-view-versus-a-copy\n",
      "  df[prompt_name][i] = isMatch\n"
     ]
    },
    {
     "name": "stdout",
     "output_type": "stream",
     "text": [
      "Are the following two products the same?\n",
      "Product 1: Title: new wallet file legal recycled green case pack 3 446172\n",
      "Brand: wilson jones\n",
      "Description: wallet file legal recycled green case pack 3\n",
      "Product 2: Title: wilson jones super heavy weight sheet protector\n",
      "Brand: wilson jones\n",
      "Description: wilson jones super heavy weight sheet protector sheet protector keeps documents or overhead slide presentations safe acid free archival safe pvc free\n",
      "\n",
      "Answer with 'True' or 'False'.\n",
      "__\n",
      "__\n",
      "False.\n",
      "__\n",
      "__\n",
      "357\n"
     ]
    },
    {
     "name": "stderr",
     "output_type": "stream",
     "text": [
      "/var/folders/gx/tzjwcf8x1llbhhf36mjt7xqr0000gn/T/ipykernel_98243/3776050204.py:45: SettingWithCopyWarning: \n",
      "A value is trying to be set on a copy of a slice from a DataFrame\n",
      "\n",
      "See the caveats in the documentation: https://pandas.pydata.org/pandas-docs/stable/user_guide/indexing.html#returning-a-view-versus-a-copy\n",
      "  df[prompt_name][i] = isMatch\n"
     ]
    },
    {
     "name": "stdout",
     "output_type": "stream",
     "text": [
      "Are the following two products the same?\n",
      "Product 1: Title: wilson jones 34670nb mediumweight casebound dubllock round ring binder 11 x 17 1 capacity blue\n",
      "Brand: wilson jones\n",
      "Description: vinyl is reinforced with medium weight board for added strength equipped with dubllock locking round rings to secure sheets without gaps metal hinge construction provides extra durability capacity range 0 in 1 in sheet capacity 175 color s blue binde\n",
      "Product 2: Title: wilson jones wallet file letter recycled kraft\n",
      "Brand: wilson jones\n",
      "Description: ulz1311earth friendly and office smart recycled wallets are perfect for storing and transporting important files expands to accommodate growing files flap closure durable construction to handle bulky documents file jackets sleeves wallets type wallet\n",
      "\n",
      "Answer with 'True' or 'False'.\n",
      "__\n",
      "__\n",
      "False.\n",
      "__\n",
      "__\n",
      "358\n"
     ]
    },
    {
     "name": "stderr",
     "output_type": "stream",
     "text": [
      "/var/folders/gx/tzjwcf8x1llbhhf36mjt7xqr0000gn/T/ipykernel_98243/3776050204.py:45: SettingWithCopyWarning: \n",
      "A value is trying to be set on a copy of a slice from a DataFrame\n",
      "\n",
      "See the caveats in the documentation: https://pandas.pydata.org/pandas-docs/stable/user_guide/indexing.html#returning-a-view-versus-a-copy\n",
      "  df[prompt_name][i] = isMatch\n"
     ]
    },
    {
     "name": "stdout",
     "output_type": "stream",
     "text": [
      "Are the following two products the same?\n",
      "Product 1: Title: wilson jones 34670nb mediumweight casebound dubllock round ring binder 11 x 17 1 capacity blue\n",
      "Brand: wilson jones\n",
      "Description: vinyl is reinforced with medium weight board for added strength equipped with dubllock locking round rings to secure sheets without gaps metal hinge construction provides extra durability capacity range 0 in 1 in sheet capacity 175 color s blue binde\n",
      "Product 2: Title: wilson jones super heavy weight sheet protector\n",
      "Brand: wilson jones\n",
      "Description: wilson jones super heavy weight sheet protector sheet protector keeps documents or overhead slide presentations safe acid free archival safe pvc free\n",
      "\n",
      "Answer with 'True' or 'False'.\n",
      "__\n",
      "__\n",
      "False.\n",
      "__\n",
      "__\n",
      "359\n"
     ]
    },
    {
     "name": "stderr",
     "output_type": "stream",
     "text": [
      "/var/folders/gx/tzjwcf8x1llbhhf36mjt7xqr0000gn/T/ipykernel_98243/3776050204.py:45: SettingWithCopyWarning: \n",
      "A value is trying to be set on a copy of a slice from a DataFrame\n",
      "\n",
      "See the caveats in the documentation: https://pandas.pydata.org/pandas-docs/stable/user_guide/indexing.html#returning-a-view-versus-a-copy\n",
      "  df[prompt_name][i] = isMatch\n"
     ]
    },
    {
     "name": "stdout",
     "output_type": "stream",
     "text": [
      "Are the following two products the same?\n",
      "Product 1: Title: new wilson jones 86641 professional plus no gap d rings vinyl view binder 4 capacity black wlj86641\n",
      "Brand: wilson jones\n",
      "Description: put your best look forwardthis binder is clearly distinctive smart and innovative experience the effortless single touch ring that allows you to open and close with a single light touchno more pinched fingers locking no gap d rings stay tightly close\n",
      "Product 2: Title: wilson jones wallet file letter recycled kraft\n",
      "Brand: wilson jones\n",
      "Description: ulz1311earth friendly and office smart recycled wallets are perfect for storing and transporting important files expands to accommodate growing files flap closure durable construction to handle bulky documents file jackets sleeves wallets type wallet\n",
      "\n",
      "Answer with 'True' or 'False'.\n",
      "__\n",
      "__\n",
      "False.\n",
      "__\n",
      "__\n",
      "360\n"
     ]
    },
    {
     "name": "stderr",
     "output_type": "stream",
     "text": [
      "/var/folders/gx/tzjwcf8x1llbhhf36mjt7xqr0000gn/T/ipykernel_98243/3776050204.py:45: SettingWithCopyWarning: \n",
      "A value is trying to be set on a copy of a slice from a DataFrame\n",
      "\n",
      "See the caveats in the documentation: https://pandas.pydata.org/pandas-docs/stable/user_guide/indexing.html#returning-a-view-versus-a-copy\n",
      "  df[prompt_name][i] = isMatch\n"
     ]
    },
    {
     "name": "stdout",
     "output_type": "stream",
     "text": [
      "Are the following two products the same?\n",
      "Product 1: Title: new wilson jones s490 visitor register book red hardcover 112 pages 8 1 2 x 11 1 2 wljs490\n",
      "Brand: wilson jones\n",
      "Description: preserve visitor information in this distinctive red hardcover register includes columns for date name address time remarks for a complete record holds more than 1 500 entries undated numbered ledger paper pages pages per book 112 book size w x h n a\n",
      "Product 2: Title: wilson jones wallet file letter recycled kraft\n",
      "Brand: wilson jones\n",
      "Description: ulz1311earth friendly and office smart recycled wallets are perfect for storing and transporting important files expands to accommodate growing files flap closure durable construction to handle bulky documents file jackets sleeves wallets type wallet\n",
      "\n",
      "Answer with 'True' or 'False'.\n",
      "__\n",
      "__\n",
      "False.\n",
      "__\n",
      "__\n",
      "361\n"
     ]
    },
    {
     "name": "stderr",
     "output_type": "stream",
     "text": [
      "/var/folders/gx/tzjwcf8x1llbhhf36mjt7xqr0000gn/T/ipykernel_98243/3776050204.py:45: SettingWithCopyWarning: \n",
      "A value is trying to be set on a copy of a slice from a DataFrame\n",
      "\n",
      "See the caveats in the documentation: https://pandas.pydata.org/pandas-docs/stable/user_guide/indexing.html#returning-a-view-versus-a-copy\n",
      "  df[prompt_name][i] = isMatch\n"
     ]
    },
    {
     "name": "stdout",
     "output_type": "stream",
     "text": [
      "Are the following two products the same?\n",
      "Product 1: Title: new wilson jones c17abl colorlife expanding a z indexed files 21 pockets letter dark blue wljc17abl\n",
      "Brand: wilson jones\n",
      "Description: open top design for easy access and preprinted index for improved organization 3 4 mylar reinforced gussets premium moisture resistant acrylic coated material expandable file folder type open top file indexed width n a height n a material s n a a z i\n",
      "Product 2: Title: wilson jones wallet file letter recycled kraft\n",
      "Brand: wilson jones\n",
      "Description: ulz1311earth friendly and office smart recycled wallets are perfect for storing and transporting important files expands to accommodate growing files flap closure durable construction to handle bulky documents file jackets sleeves wallets type wallet\n",
      "\n",
      "Answer with 'True' or 'False'.\n",
      "__\n",
      "__\n",
      "False.\n",
      "__\n",
      "__\n",
      "362\n"
     ]
    },
    {
     "name": "stderr",
     "output_type": "stream",
     "text": [
      "/var/folders/gx/tzjwcf8x1llbhhf36mjt7xqr0000gn/T/ipykernel_98243/3776050204.py:45: SettingWithCopyWarning: \n",
      "A value is trying to be set on a copy of a slice from a DataFrame\n",
      "\n",
      "See the caveats in the documentation: https://pandas.pydata.org/pandas-docs/stable/user_guide/indexing.html#returning-a-view-versus-a-copy\n",
      "  df[prompt_name][i] = isMatch\n"
     ]
    },
    {
     "name": "stdout",
     "output_type": "stream",
     "text": [
      "Are the following two products the same?\n",
      "Product 1: Title: new wilson jones c17abl colorlife expanding a z indexed files 21 pockets letter dark blue wljc17abl\n",
      "Brand: wilson jones\n",
      "Description: open top design for easy access and preprinted index for improved organization 3 4 mylar reinforced gussets premium moisture resistant acrylic coated material expandable file folder type open top file indexed width n a height n a material s n a a z i\n",
      "Product 2: Title: wilson jones super heavy weight sheet protector\n",
      "Brand: wilson jones\n",
      "Description: wilson jones super heavy weight sheet protector sheet protector keeps documents or overhead slide presentations safe acid free archival safe pvc free\n",
      "\n",
      "Answer with 'True' or 'False'.\n",
      "__\n",
      "__\n",
      "False\n",
      "__\n",
      "__\n",
      "363\n"
     ]
    },
    {
     "name": "stderr",
     "output_type": "stream",
     "text": [
      "/var/folders/gx/tzjwcf8x1llbhhf36mjt7xqr0000gn/T/ipykernel_98243/3776050204.py:45: SettingWithCopyWarning: \n",
      "A value is trying to be set on a copy of a slice from a DataFrame\n",
      "\n",
      "See the caveats in the documentation: https://pandas.pydata.org/pandas-docs/stable/user_guide/indexing.html#returning-a-view-versus-a-copy\n",
      "  df[prompt_name][i] = isMatch\n"
     ]
    },
    {
     "name": "stdout",
     "output_type": "stream",
     "text": [
      "Are the following two products the same?\n",
      "Product 1: Title: new wilson jones c17abl colorlife expanding a z indexed files 21 pockets letter dark blue wljc17abl\n",
      "Brand: wilson jones\n",
      "Description: open top design for easy access and preprinted index for improved organization 3 4 mylar reinforced gussets premium moisture resistant acrylic coated material expandable file folder type open top file indexed width n a height n a material s n a a z i\n",
      "Product 2: Title: wilson jones won t stick flexible poly round ring view binder\n",
      "Brand: wilson jones\n",
      "Description: wilson jones won t stick flexible poly round ring view binder white 3 ring binder 1 inside pocket business card slot flexible print won t stick cover\n",
      "\n",
      "Answer with 'True' or 'False'.\n",
      "__\n",
      "__\n",
      "False.\n",
      "__\n",
      "__\n",
      "364\n"
     ]
    },
    {
     "name": "stderr",
     "output_type": "stream",
     "text": [
      "/var/folders/gx/tzjwcf8x1llbhhf36mjt7xqr0000gn/T/ipykernel_98243/3776050204.py:45: SettingWithCopyWarning: \n",
      "A value is trying to be set on a copy of a slice from a DataFrame\n",
      "\n",
      "See the caveats in the documentation: https://pandas.pydata.org/pandas-docs/stable/user_guide/indexing.html#returning-a-view-versus-a-copy\n",
      "  df[prompt_name][i] = isMatch\n"
     ]
    },
    {
     "name": "stdout",
     "output_type": "stream",
     "text": [
      "Are the following two products the same?\n",
      "Product 1: Title: wilson jones 34670nb mediumweight casebound dubllock round ring binder 11 x 17 1 capacity blue\n",
      "Brand: wilson jones\n",
      "Description: vinyl is reinforced with medium weight board for added strength equipped with dubllock locking round rings to secure sheets without gaps metal hinge construction provides extra durability capacity range 0 in 1 in sheet capacity 175 color s blue binde\n",
      "Product 2: Title: wilson jones won t stick flexible poly round ring view binder\n",
      "Brand: wilson jones\n",
      "Description: wilson jones won t stick flexible poly round ring view binder white 3 ring binder 1 inside pocket business card slot flexible print won t stick cover\n",
      "\n",
      "Answer with 'True' or 'False'.\n",
      "__\n",
      "__\n",
      "False.\n",
      "__\n",
      "__\n",
      "365\n"
     ]
    },
    {
     "name": "stderr",
     "output_type": "stream",
     "text": [
      "/var/folders/gx/tzjwcf8x1llbhhf36mjt7xqr0000gn/T/ipykernel_98243/3776050204.py:45: SettingWithCopyWarning: \n",
      "A value is trying to be set on a copy of a slice from a DataFrame\n",
      "\n",
      "See the caveats in the documentation: https://pandas.pydata.org/pandas-docs/stable/user_guide/indexing.html#returning-a-view-versus-a-copy\n",
      "  df[prompt_name][i] = isMatch\n"
     ]
    },
    {
     "name": "stdout",
     "output_type": "stream",
     "text": [
      "Are the following two products the same?\n",
      "Product 1: Title: new wilson jones s490 visitor register book red hardcover 112 pages 8 1 2 x 11 1 2 wljs490\n",
      "Brand: wilson jones\n",
      "Description: preserve visitor information in this distinctive red hardcover register includes columns for date name address time remarks for a complete record holds more than 1 500 entries undated numbered ledger paper pages pages per book 112 book size w x h n a\n",
      "Product 2: Title: wilson jones won t stick flexible poly round ring view binder\n",
      "Brand: wilson jones\n",
      "Description: wilson jones won t stick flexible poly round ring view binder white 3 ring binder 1 inside pocket business card slot flexible print won t stick cover\n",
      "\n",
      "Answer with 'True' or 'False'.\n",
      "__\n",
      "__\n",
      "False.\n",
      "__\n",
      "__\n",
      "366\n"
     ]
    },
    {
     "name": "stderr",
     "output_type": "stream",
     "text": [
      "/var/folders/gx/tzjwcf8x1llbhhf36mjt7xqr0000gn/T/ipykernel_98243/3776050204.py:45: SettingWithCopyWarning: \n",
      "A value is trying to be set on a copy of a slice from a DataFrame\n",
      "\n",
      "See the caveats in the documentation: https://pandas.pydata.org/pandas-docs/stable/user_guide/indexing.html#returning-a-view-versus-a-copy\n",
      "  df[prompt_name][i] = isMatch\n"
     ]
    },
    {
     "name": "stdout",
     "output_type": "stream",
     "text": [
      "Are the following two products the same?\n",
      "Product 1: Title: new wilson jones 86641 professional plus no gap d rings vinyl view binder 4 capacity black wlj86641\n",
      "Brand: wilson jones\n",
      "Description: put your best look forwardthis binder is clearly distinctive smart and innovative experience the effortless single touch ring that allows you to open and close with a single light touchno more pinched fingers locking no gap d rings stay tightly close\n",
      "Product 2: Title: wilson jones won t stick flexible poly round ring view binder\n",
      "Brand: wilson jones\n",
      "Description: wilson jones won t stick flexible poly round ring view binder white 3 ring binder 1 inside pocket business card slot flexible print won t stick cover\n",
      "\n",
      "Answer with 'True' or 'False'.\n",
      "__\n",
      "__\n",
      "False.\n",
      "__\n",
      "__\n",
      "367\n"
     ]
    },
    {
     "name": "stderr",
     "output_type": "stream",
     "text": [
      "/var/folders/gx/tzjwcf8x1llbhhf36mjt7xqr0000gn/T/ipykernel_98243/3776050204.py:45: SettingWithCopyWarning: \n",
      "A value is trying to be set on a copy of a slice from a DataFrame\n",
      "\n",
      "See the caveats in the documentation: https://pandas.pydata.org/pandas-docs/stable/user_guide/indexing.html#returning-a-view-versus-a-copy\n",
      "  df[prompt_name][i] = isMatch\n"
     ]
    },
    {
     "name": "stdout",
     "output_type": "stream",
     "text": [
      "Are the following two products the same?\n",
      "Product 1: Title: new wallet file legal recycled green case pack 3 446172\n",
      "Brand: wilson jones\n",
      "Description: wallet file legal recycled green case pack 3\n",
      "Product 2: Title: wilson jones won t stick flexible poly round ring view binder\n",
      "Brand: wilson jones\n",
      "Description: wilson jones won t stick flexible poly round ring view binder white 3 ring binder 1 inside pocket business card slot flexible print won t stick cover\n",
      "\n",
      "Answer with 'True' or 'False'.\n",
      "__\n",
      "__\n",
      "False.\n",
      "__\n",
      "__\n",
      "368\n"
     ]
    },
    {
     "name": "stderr",
     "output_type": "stream",
     "text": [
      "/var/folders/gx/tzjwcf8x1llbhhf36mjt7xqr0000gn/T/ipykernel_98243/3776050204.py:45: SettingWithCopyWarning: \n",
      "A value is trying to be set on a copy of a slice from a DataFrame\n",
      "\n",
      "See the caveats in the documentation: https://pandas.pydata.org/pandas-docs/stable/user_guide/indexing.html#returning-a-view-versus-a-copy\n",
      "  df[prompt_name][i] = isMatch\n"
     ]
    },
    {
     "name": "stdout",
     "output_type": "stream",
     "text": [
      "Are the following two products the same?\n",
      "Product 1: Title: new wilson jones 21400 super heavy weight sheet protector clear 50 box wlj21400\n",
      "Brand: wilson jones\n",
      "Description: when you need ultimate protection for presentations use this sheet protector keeps important documents or overhead slide presentations safe acid free and archival safe so print won t stick pvc free load orientation top sheet capacity n a sheet protec\n",
      "Product 2: Title: wilson jones won t stick flexible poly round ring view binder\n",
      "Brand: wilson jones\n",
      "Description: wilson jones won t stick flexible poly round ring view binder white 3 ring binder 1 inside pocket business card slot flexible print won t stick cover\n",
      "\n",
      "Answer with 'True' or 'False'.\n",
      "__\n",
      "__\n",
      "False.\n",
      "__\n",
      "__\n",
      "369\n"
     ]
    },
    {
     "name": "stderr",
     "output_type": "stream",
     "text": [
      "/var/folders/gx/tzjwcf8x1llbhhf36mjt7xqr0000gn/T/ipykernel_98243/3776050204.py:45: SettingWithCopyWarning: \n",
      "A value is trying to be set on a copy of a slice from a DataFrame\n",
      "\n",
      "See the caveats in the documentation: https://pandas.pydata.org/pandas-docs/stable/user_guide/indexing.html#returning-a-view-versus-a-copy\n",
      "  df[prompt_name][i] = isMatch\n"
     ]
    },
    {
     "name": "stdout",
     "output_type": "stream",
     "text": [
      "Are the following two products the same?\n",
      "Product 1: Title: new wilson jones 21400 super heavy weight sheet protector clear 50 box wlj21400\n",
      "Brand: wilson jones\n",
      "Description: when you need ultimate protection for presentations use this sheet protector keeps important documents or overhead slide presentations safe acid free and archival safe so print won t stick pvc free load orientation top sheet capacity n a sheet protec\n",
      "Product 2: Title: wilson jones wallet file letter recycled kraft\n",
      "Brand: wilson jones\n",
      "Description: ulz1311earth friendly and office smart recycled wallets are perfect for storing and transporting important files expands to accommodate growing files flap closure durable construction to handle bulky documents file jackets sleeves wallets type wallet\n",
      "\n",
      "Answer with 'True' or 'False'.\n",
      "__\n",
      "__\n",
      "False.\n",
      "__\n",
      "__\n",
      "370\n"
     ]
    },
    {
     "name": "stderr",
     "output_type": "stream",
     "text": [
      "/var/folders/gx/tzjwcf8x1llbhhf36mjt7xqr0000gn/T/ipykernel_98243/3776050204.py:45: SettingWithCopyWarning: \n",
      "A value is trying to be set on a copy of a slice from a DataFrame\n",
      "\n",
      "See the caveats in the documentation: https://pandas.pydata.org/pandas-docs/stable/user_guide/indexing.html#returning-a-view-versus-a-copy\n",
      "  df[prompt_name][i] = isMatch\n"
     ]
    },
    {
     "name": "stdout",
     "output_type": "stream",
     "text": [
      "Are the following two products the same?\n",
      "Product 1: Title: new wilson jones 21400 super heavy weight sheet protector clear 50 box wlj21400\n",
      "Brand: wilson jones\n",
      "Description: when you need ultimate protection for presentations use this sheet protector keeps important documents or overhead slide presentations safe acid free and archival safe so print won t stick pvc free load orientation top sheet capacity n a sheet protec\n",
      "Product 2: Title: wilson jones super heavy weight sheet protector\n",
      "Brand: wilson jones\n",
      "Description: wilson jones super heavy weight sheet protector sheet protector keeps documents or overhead slide presentations safe acid free archival safe pvc free\n",
      "\n",
      "Answer with 'True' or 'False'.\n",
      "__\n",
      "__\n",
      "True\n",
      "__\n",
      "__\n",
      "371\n"
     ]
    },
    {
     "name": "stderr",
     "output_type": "stream",
     "text": [
      "/var/folders/gx/tzjwcf8x1llbhhf36mjt7xqr0000gn/T/ipykernel_98243/3776050204.py:45: SettingWithCopyWarning: \n",
      "A value is trying to be set on a copy of a slice from a DataFrame\n",
      "\n",
      "See the caveats in the documentation: https://pandas.pydata.org/pandas-docs/stable/user_guide/indexing.html#returning-a-view-versus-a-copy\n",
      "  df[prompt_name][i] = isMatch\n"
     ]
    },
    {
     "name": "stdout",
     "output_type": "stream",
     "text": [
      "Are the following two products the same?\n",
      "Product 1: Title: new wilson jones c17abl colorlife expanding a z indexed files 21 pockets letter dark blue wljc17abl\n",
      "Brand: wilson jones\n",
      "Description: open top design for easy access and preprinted index for improved organization 3 4 mylar reinforced gussets premium moisture resistant acrylic coated material expandable file folder type open top file indexed width n a height n a material s n a a z i\n",
      "Product 2: Title: wilson jones super heavy weight sheet protector\n",
      "Brand: wilson jones\n",
      "Description: wilson jones super heavy weight sheet protector sheet protector keeps documents or overhead slide presentations safe acid free archival safe pvc free\n",
      "\n",
      "Answer with 'True' or 'False'.\n",
      "__\n",
      "__\n",
      "False\n",
      "__\n",
      "__\n",
      "372\n"
     ]
    },
    {
     "name": "stderr",
     "output_type": "stream",
     "text": [
      "/var/folders/gx/tzjwcf8x1llbhhf36mjt7xqr0000gn/T/ipykernel_98243/3776050204.py:45: SettingWithCopyWarning: \n",
      "A value is trying to be set on a copy of a slice from a DataFrame\n",
      "\n",
      "See the caveats in the documentation: https://pandas.pydata.org/pandas-docs/stable/user_guide/indexing.html#returning-a-view-versus-a-copy\n",
      "  df[prompt_name][i] = isMatch\n"
     ]
    },
    {
     "name": "stdout",
     "output_type": "stream",
     "text": [
      "Are the following two products the same?\n",
      "Product 1: Title: new wilson jones s490 visitor register book red hardcover 112 pages 8 1 2 x 11 1 2 wljs490\n",
      "Brand: wilson jones\n",
      "Description: preserve visitor information in this distinctive red hardcover register includes columns for date name address time remarks for a complete record holds more than 1 500 entries undated numbered ledger paper pages pages per book 112 book size w x h n a\n",
      "Product 2: Title: wilson jones super heavy weight sheet protector\n",
      "Brand: wilson jones\n",
      "Description: wilson jones super heavy weight sheet protector sheet protector keeps documents or overhead slide presentations safe acid free archival safe pvc free\n",
      "\n",
      "Answer with 'True' or 'False'.\n",
      "__\n",
      "__\n",
      "False.\n",
      "__\n",
      "__\n",
      "373\n"
     ]
    },
    {
     "name": "stderr",
     "output_type": "stream",
     "text": [
      "/var/folders/gx/tzjwcf8x1llbhhf36mjt7xqr0000gn/T/ipykernel_98243/3776050204.py:45: SettingWithCopyWarning: \n",
      "A value is trying to be set on a copy of a slice from a DataFrame\n",
      "\n",
      "See the caveats in the documentation: https://pandas.pydata.org/pandas-docs/stable/user_guide/indexing.html#returning-a-view-versus-a-copy\n",
      "  df[prompt_name][i] = isMatch\n"
     ]
    },
    {
     "name": "stdout",
     "output_type": "stream",
     "text": [
      "Are the following two products the same?\n",
      "Product 1: Title: new wilson jones 86641 professional plus no gap d rings vinyl view binder 4 capacity black wlj86641\n",
      "Brand: wilson jones\n",
      "Description: put your best look forwardthis binder is clearly distinctive smart and innovative experience the effortless single touch ring that allows you to open and close with a single light touchno more pinched fingers locking no gap d rings stay tightly close\n",
      "Product 2: Title: wilson jones super heavy weight sheet protector\n",
      "Brand: wilson jones\n",
      "Description: wilson jones super heavy weight sheet protector sheet protector keeps documents or overhead slide presentations safe acid free archival safe pvc free\n",
      "\n",
      "Answer with 'True' or 'False'.\n",
      "__\n",
      "__\n",
      "False.\n",
      "__\n",
      "__\n",
      "374\n"
     ]
    },
    {
     "name": "stderr",
     "output_type": "stream",
     "text": [
      "/var/folders/gx/tzjwcf8x1llbhhf36mjt7xqr0000gn/T/ipykernel_98243/3776050204.py:45: SettingWithCopyWarning: \n",
      "A value is trying to be set on a copy of a slice from a DataFrame\n",
      "\n",
      "See the caveats in the documentation: https://pandas.pydata.org/pandas-docs/stable/user_guide/indexing.html#returning-a-view-versus-a-copy\n",
      "  df[prompt_name][i] = isMatch\n"
     ]
    },
    {
     "name": "stdout",
     "output_type": "stream",
     "text": [
      "Are the following two products the same?\n",
      "Product 1: Title: new wallet file legal recycled green case pack 3 446172\n",
      "Brand: wilson jones\n",
      "Description: wallet file legal recycled green case pack 3\n",
      "Product 2: Title: wilson jones super heavy weight sheet protector\n",
      "Brand: wilson jones\n",
      "Description: wilson jones super heavy weight sheet protector sheet protector keeps documents or overhead slide presentations safe acid free archival safe pvc free\n",
      "\n",
      "Answer with 'True' or 'False'.\n",
      "__\n",
      "__\n",
      "False.\n",
      "__\n",
      "__\n",
      "375\n"
     ]
    },
    {
     "name": "stderr",
     "output_type": "stream",
     "text": [
      "/var/folders/gx/tzjwcf8x1llbhhf36mjt7xqr0000gn/T/ipykernel_98243/3776050204.py:45: SettingWithCopyWarning: \n",
      "A value is trying to be set on a copy of a slice from a DataFrame\n",
      "\n",
      "See the caveats in the documentation: https://pandas.pydata.org/pandas-docs/stable/user_guide/indexing.html#returning-a-view-versus-a-copy\n",
      "  df[prompt_name][i] = isMatch\n"
     ]
    },
    {
     "name": "stdout",
     "output_type": "stream",
     "text": [
      "Are the following two products the same?\n",
      "Product 1: Title: new wilson jones c17abl colorlife expanding a z indexed files 21 pockets letter dark blue wljc17abl\n",
      "Brand: wilson jones\n",
      "Description: open top design for easy access and preprinted index for improved organization 3 4 mylar reinforced gussets premium moisture resistant acrylic coated material expandable file folder type open top file indexed width n a height n a material s n a a z i\n",
      "Product 2: Title: wilson jones basic vinyl round ring binder w label holder\n",
      "Brand: wilson jones\n",
      "Description: wilson jones basic vinyl round ring binder w label holder basic round ring binder with open and close triggers and two inside pockets open and close triggers for easy access to your documents two inside pockets for additional storage\n",
      "\n",
      "Answer with 'True' or 'False'.\n",
      "__\n",
      "__\n",
      "False.\n",
      "__\n",
      "__\n",
      "376\n"
     ]
    },
    {
     "name": "stderr",
     "output_type": "stream",
     "text": [
      "/var/folders/gx/tzjwcf8x1llbhhf36mjt7xqr0000gn/T/ipykernel_98243/3776050204.py:45: SettingWithCopyWarning: \n",
      "A value is trying to be set on a copy of a slice from a DataFrame\n",
      "\n",
      "See the caveats in the documentation: https://pandas.pydata.org/pandas-docs/stable/user_guide/indexing.html#returning-a-view-versus-a-copy\n",
      "  df[prompt_name][i] = isMatch\n"
     ]
    },
    {
     "name": "stdout",
     "output_type": "stream",
     "text": [
      "Are the following two products the same?\n",
      "Product 1: Title: wilson jones 34670nb mediumweight casebound dubllock round ring binder 11 x 17 1 capacity blue\n",
      "Brand: wilson jones\n",
      "Description: vinyl is reinforced with medium weight board for added strength equipped with dubllock locking round rings to secure sheets without gaps metal hinge construction provides extra durability capacity range 0 in 1 in sheet capacity 175 color s blue binde\n",
      "Product 2: Title: wilson jones basic vinyl round ring binder w label holder\n",
      "Brand: wilson jones\n",
      "Description: wilson jones basic vinyl round ring binder w label holder basic round ring binder with open and close triggers and two inside pockets open and close triggers for easy access to your documents two inside pockets for additional storage\n",
      "\n",
      "Answer with 'True' or 'False'.\n",
      "__\n",
      "__\n",
      "False.\n",
      "__\n",
      "__\n",
      "377\n"
     ]
    },
    {
     "name": "stderr",
     "output_type": "stream",
     "text": [
      "/var/folders/gx/tzjwcf8x1llbhhf36mjt7xqr0000gn/T/ipykernel_98243/3776050204.py:45: SettingWithCopyWarning: \n",
      "A value is trying to be set on a copy of a slice from a DataFrame\n",
      "\n",
      "See the caveats in the documentation: https://pandas.pydata.org/pandas-docs/stable/user_guide/indexing.html#returning-a-view-versus-a-copy\n",
      "  df[prompt_name][i] = isMatch\n"
     ]
    },
    {
     "name": "stdout",
     "output_type": "stream",
     "text": [
      "Are the following two products the same?\n",
      "Product 1: Title: new wilson jones s490 visitor register book red hardcover 112 pages 8 1 2 x 11 1 2 wljs490\n",
      "Brand: wilson jones\n",
      "Description: preserve visitor information in this distinctive red hardcover register includes columns for date name address time remarks for a complete record holds more than 1 500 entries undated numbered ledger paper pages pages per book 112 book size w x h n a\n",
      "Product 2: Title: wilson jones basic vinyl round ring binder w label holder\n",
      "Brand: wilson jones\n",
      "Description: wilson jones basic vinyl round ring binder w label holder basic round ring binder with open and close triggers and two inside pockets open and close triggers for easy access to your documents two inside pockets for additional storage\n",
      "\n",
      "Answer with 'True' or 'False'.\n",
      "__\n",
      "__\n",
      "False\n",
      "__\n",
      "__\n",
      "378\n"
     ]
    },
    {
     "name": "stderr",
     "output_type": "stream",
     "text": [
      "/var/folders/gx/tzjwcf8x1llbhhf36mjt7xqr0000gn/T/ipykernel_98243/3776050204.py:45: SettingWithCopyWarning: \n",
      "A value is trying to be set on a copy of a slice from a DataFrame\n",
      "\n",
      "See the caveats in the documentation: https://pandas.pydata.org/pandas-docs/stable/user_guide/indexing.html#returning-a-view-versus-a-copy\n",
      "  df[prompt_name][i] = isMatch\n"
     ]
    },
    {
     "name": "stdout",
     "output_type": "stream",
     "text": [
      "Are the following two products the same?\n",
      "Product 1: Title: new wilson jones 86641 professional plus no gap d rings vinyl view binder 4 capacity black wlj86641\n",
      "Brand: wilson jones\n",
      "Description: put your best look forwardthis binder is clearly distinctive smart and innovative experience the effortless single touch ring that allows you to open and close with a single light touchno more pinched fingers locking no gap d rings stay tightly close\n",
      "Product 2: Title: wilson jones basic vinyl round ring binder w label holder\n",
      "Brand: wilson jones\n",
      "Description: wilson jones basic vinyl round ring binder w label holder basic round ring binder with open and close triggers and two inside pockets open and close triggers for easy access to your documents two inside pockets for additional storage\n",
      "\n",
      "Answer with 'True' or 'False'.\n",
      "__\n",
      "__\n",
      "False.\n",
      "__\n",
      "__\n",
      "379\n"
     ]
    },
    {
     "name": "stderr",
     "output_type": "stream",
     "text": [
      "/var/folders/gx/tzjwcf8x1llbhhf36mjt7xqr0000gn/T/ipykernel_98243/3776050204.py:45: SettingWithCopyWarning: \n",
      "A value is trying to be set on a copy of a slice from a DataFrame\n",
      "\n",
      "See the caveats in the documentation: https://pandas.pydata.org/pandas-docs/stable/user_guide/indexing.html#returning-a-view-versus-a-copy\n",
      "  df[prompt_name][i] = isMatch\n"
     ]
    },
    {
     "name": "stdout",
     "output_type": "stream",
     "text": [
      "Are the following two products the same?\n",
      "Product 1: Title: new wallet file legal recycled green case pack 3 446172\n",
      "Brand: wilson jones\n",
      "Description: wallet file legal recycled green case pack 3\n",
      "Product 2: Title: wilson jones basic vinyl round ring binder w label holder\n",
      "Brand: wilson jones\n",
      "Description: wilson jones basic vinyl round ring binder w label holder basic round ring binder with open and close triggers and two inside pockets open and close triggers for easy access to your documents two inside pockets for additional storage\n",
      "\n",
      "Answer with 'True' or 'False'.\n",
      "__\n",
      "__\n",
      "False.\n",
      "__\n",
      "__\n",
      "380\n"
     ]
    },
    {
     "name": "stderr",
     "output_type": "stream",
     "text": [
      "/var/folders/gx/tzjwcf8x1llbhhf36mjt7xqr0000gn/T/ipykernel_98243/3776050204.py:45: SettingWithCopyWarning: \n",
      "A value is trying to be set on a copy of a slice from a DataFrame\n",
      "\n",
      "See the caveats in the documentation: https://pandas.pydata.org/pandas-docs/stable/user_guide/indexing.html#returning-a-view-versus-a-copy\n",
      "  df[prompt_name][i] = isMatch\n"
     ]
    },
    {
     "name": "stdout",
     "output_type": "stream",
     "text": [
      "Are the following two products the same?\n",
      "Product 1: Title: wilson jones 40833 international a4 size 4 ring view binder 3 capacity white\n",
      "Brand: wilson jones\n",
      "Description: solve international size document storage dilemmas with the binder designed to secure a4 sized paper specially aligned rings to fit european 11 5 8 x 8 1 8 south american 11 5 8 x 8 1 2 australian and asian paper sizes clear front cover and spine mea\n",
      "Product 2: Title: wilson jones d ring vinyl view binder\n",
      "Brand: wilson jones\n",
      "Description: wilson jones d ring vinyl view binder heavy duty d ring view binder with no gap rings and print won t stick covers special no gap d ring design keeps rings tightly closed without gaps d rings hold 40 percent more sheets than same size round rings ink\n",
      "\n",
      "Answer with 'True' or 'False'.\n",
      "__\n",
      "__\n",
      "False.\n",
      "__\n",
      "__\n",
      "381\n"
     ]
    },
    {
     "name": "stderr",
     "output_type": "stream",
     "text": [
      "/var/folders/gx/tzjwcf8x1llbhhf36mjt7xqr0000gn/T/ipykernel_98243/3776050204.py:45: SettingWithCopyWarning: \n",
      "A value is trying to be set on a copy of a slice from a DataFrame\n",
      "\n",
      "See the caveats in the documentation: https://pandas.pydata.org/pandas-docs/stable/user_guide/indexing.html#returning-a-view-versus-a-copy\n",
      "  df[prompt_name][i] = isMatch\n"
     ]
    },
    {
     "name": "stdout",
     "output_type": "stream",
     "text": [
      "Are the following two products the same?\n",
      "Product 1: Title: wilson jones 40833 international a4 size 4 ring view binder 3 capacity white\n",
      "Brand: wilson jones\n",
      "Description: solve international size document storage dilemmas with the binder designed to secure a4 sized paper specially aligned rings to fit european 11 5 8 x 8 1 8 south american 11 5 8 x 8 1 2 australian and asian paper sizes clear front cover and spine mea\n",
      "Product 2: Title: wilson jones basic vinyl round ring binder w label holder\n",
      "Brand: wilson jones\n",
      "Description: wilson jones basic vinyl round ring binder w label holder basic round ring binder with open and close triggers and two inside pockets open and close triggers for easy access to your documents two inside pockets for additional storage\n",
      "\n",
      "Answer with 'True' or 'False'.\n",
      "__\n",
      "__\n",
      "False.\n",
      "__\n",
      "__\n",
      "382\n"
     ]
    },
    {
     "name": "stderr",
     "output_type": "stream",
     "text": [
      "/var/folders/gx/tzjwcf8x1llbhhf36mjt7xqr0000gn/T/ipykernel_98243/3776050204.py:45: SettingWithCopyWarning: \n",
      "A value is trying to be set on a copy of a slice from a DataFrame\n",
      "\n",
      "See the caveats in the documentation: https://pandas.pydata.org/pandas-docs/stable/user_guide/indexing.html#returning-a-view-versus-a-copy\n",
      "  df[prompt_name][i] = isMatch\n"
     ]
    },
    {
     "name": "stdout",
     "output_type": "stream",
     "text": [
      "Are the following two products the same?\n",
      "Product 1: Title: wilson jones 40833 international a4 size 4 ring view binder 3 capacity white\n",
      "Brand: wilson jones\n",
      "Description: solve international size document storage dilemmas with the binder designed to secure a4 sized paper specially aligned rings to fit european 11 5 8 x 8 1 8 south american 11 5 8 x 8 1 2 australian and asian paper sizes clear front cover and spine mea\n",
      "Product 2: Title: wilson jones won t stick flexible poly round ring view binder\n",
      "Brand: wilson jones\n",
      "Description: wilson jones won t stick flexible poly round ring view binder white 3 ring binder 1 inside pocket business card slot flexible print won t stick cover\n",
      "\n",
      "Answer with 'True' or 'False'.\n",
      "__\n",
      "__\n",
      "False.\n",
      "__\n",
      "__\n",
      "383\n"
     ]
    },
    {
     "name": "stderr",
     "output_type": "stream",
     "text": [
      "/var/folders/gx/tzjwcf8x1llbhhf36mjt7xqr0000gn/T/ipykernel_98243/3776050204.py:45: SettingWithCopyWarning: \n",
      "A value is trying to be set on a copy of a slice from a DataFrame\n",
      "\n",
      "See the caveats in the documentation: https://pandas.pydata.org/pandas-docs/stable/user_guide/indexing.html#returning-a-view-versus-a-copy\n",
      "  df[prompt_name][i] = isMatch\n"
     ]
    },
    {
     "name": "stdout",
     "output_type": "stream",
     "text": [
      "Are the following two products the same?\n",
      "Product 1: Title: wilson jones 40833 international a4 size 4 ring view binder 3 capacity white\n",
      "Brand: wilson jones\n",
      "Description: solve international size document storage dilemmas with the binder designed to secure a4 sized paper specially aligned rings to fit european 11 5 8 x 8 1 8 south american 11 5 8 x 8 1 2 australian and asian paper sizes clear front cover and spine mea\n",
      "Product 2: Title: wilson jones wallet file letter recycled kraft\n",
      "Brand: wilson jones\n",
      "Description: ulz1311earth friendly and office smart recycled wallets are perfect for storing and transporting important files expands to accommodate growing files flap closure durable construction to handle bulky documents file jackets sleeves wallets type wallet\n",
      "\n",
      "Answer with 'True' or 'False'.\n",
      "__\n",
      "__\n",
      "False.\n",
      "__\n",
      "__\n",
      "384\n"
     ]
    },
    {
     "name": "stderr",
     "output_type": "stream",
     "text": [
      "/var/folders/gx/tzjwcf8x1llbhhf36mjt7xqr0000gn/T/ipykernel_98243/3776050204.py:45: SettingWithCopyWarning: \n",
      "A value is trying to be set on a copy of a slice from a DataFrame\n",
      "\n",
      "See the caveats in the documentation: https://pandas.pydata.org/pandas-docs/stable/user_guide/indexing.html#returning-a-view-versus-a-copy\n",
      "  df[prompt_name][i] = isMatch\n"
     ]
    },
    {
     "name": "stdout",
     "output_type": "stream",
     "text": [
      "Are the following two products the same?\n",
      "Product 1: Title: wilson jones 40833 international a4 size 4 ring view binder 3 capacity white\n",
      "Brand: wilson jones\n",
      "Description: solve international size document storage dilemmas with the binder designed to secure a4 sized paper specially aligned rings to fit european 11 5 8 x 8 1 8 south american 11 5 8 x 8 1 2 australian and asian paper sizes clear front cover and spine mea\n",
      "Product 2: Title: wilson jones super heavy weight sheet protector\n",
      "Brand: wilson jones\n",
      "Description: wilson jones super heavy weight sheet protector sheet protector keeps documents or overhead slide presentations safe acid free archival safe pvc free\n",
      "\n",
      "Answer with 'True' or 'False'.\n",
      "__\n",
      "__\n",
      "False.\n",
      "__\n",
      "__\n",
      "385\n"
     ]
    },
    {
     "name": "stderr",
     "output_type": "stream",
     "text": [
      "/var/folders/gx/tzjwcf8x1llbhhf36mjt7xqr0000gn/T/ipykernel_98243/3776050204.py:45: SettingWithCopyWarning: \n",
      "A value is trying to be set on a copy of a slice from a DataFrame\n",
      "\n",
      "See the caveats in the documentation: https://pandas.pydata.org/pandas-docs/stable/user_guide/indexing.html#returning-a-view-versus-a-copy\n",
      "  df[prompt_name][i] = isMatch\n"
     ]
    },
    {
     "name": "stdout",
     "output_type": "stream",
     "text": [
      "Are the following two products the same?\n",
      "Product 1: Title: wilson jones 40833 international a4 size 4 ring view binder 3 capacity white\n",
      "Brand: wilson jones\n",
      "Description: solve international size document storage dilemmas with the binder designed to secure a4 sized paper specially aligned rings to fit european 11 5 8 x 8 1 8 south american 11 5 8 x 8 1 2 australian and asian paper sizes clear front cover and spine mea\n",
      "Product 2: Title: wilson jones super heavy weight sheet protector\n",
      "Brand: wilson jones\n",
      "Description: wilson jones super heavy weight sheet protector sheet protector keeps documents or overhead slide presentations safe acid free archival safe pvc free\n",
      "\n",
      "Answer with 'True' or 'False'.\n",
      "__\n",
      "__\n",
      "False.\n",
      "__\n",
      "__\n",
      "386\n"
     ]
    },
    {
     "name": "stderr",
     "output_type": "stream",
     "text": [
      "/var/folders/gx/tzjwcf8x1llbhhf36mjt7xqr0000gn/T/ipykernel_98243/3776050204.py:45: SettingWithCopyWarning: \n",
      "A value is trying to be set on a copy of a slice from a DataFrame\n",
      "\n",
      "See the caveats in the documentation: https://pandas.pydata.org/pandas-docs/stable/user_guide/indexing.html#returning-a-view-versus-a-copy\n",
      "  df[prompt_name][i] = isMatch\n"
     ]
    },
    {
     "name": "stdout",
     "output_type": "stream",
     "text": [
      "Are the following two products the same?\n",
      "Product 1: Title: wilson jones 40833 international a4 size 4 ring view binder 3 capacity white\n",
      "Brand: wilson jones\n",
      "Description: solve international size document storage dilemmas with the binder designed to secure a4 sized paper specially aligned rings to fit european 11 5 8 x 8 1 8 south american 11 5 8 x 8 1 2 australian and asian paper sizes clear front cover and spine mea\n",
      "Product 2: Title: wilson jones wallet file legal recycled kraft\n",
      "Brand: wilson jones\n",
      "Description: ulz1313earth friendly and office smart recycled wallets are perfect for storing and transporting important files expands to accommodate growing files flap closure durable construction to handle bulky documents file jackets sleeves wallets type wallet\n",
      "\n",
      "Answer with 'True' or 'False'.\n",
      "__\n",
      "__\n",
      "False.\n",
      "__\n",
      "__\n",
      "387\n"
     ]
    },
    {
     "name": "stderr",
     "output_type": "stream",
     "text": [
      "/var/folders/gx/tzjwcf8x1llbhhf36mjt7xqr0000gn/T/ipykernel_98243/3776050204.py:45: SettingWithCopyWarning: \n",
      "A value is trying to be set on a copy of a slice from a DataFrame\n",
      "\n",
      "See the caveats in the documentation: https://pandas.pydata.org/pandas-docs/stable/user_guide/indexing.html#returning-a-view-versus-a-copy\n",
      "  df[prompt_name][i] = isMatch\n"
     ]
    },
    {
     "name": "stdout",
     "output_type": "stream",
     "text": [
      "Are the following two products the same?\n",
      "Product 1: Title: new wilson jones 21400 super heavy weight sheet protector clear 50 box wlj21400\n",
      "Brand: wilson jones\n",
      "Description: when you need ultimate protection for presentations use this sheet protector keeps important documents or overhead slide presentations safe acid free and archival safe so print won t stick pvc free load orientation top sheet capacity n a sheet protec\n",
      "Product 2: Title: wilson jones wallet file legal recycled kraft\n",
      "Brand: wilson jones\n",
      "Description: ulz1313earth friendly and office smart recycled wallets are perfect for storing and transporting important files expands to accommodate growing files flap closure durable construction to handle bulky documents file jackets sleeves wallets type wallet\n",
      "\n",
      "Answer with 'True' or 'False'.\n",
      "__\n",
      "__\n",
      "False.\n",
      "__\n",
      "__\n",
      "388\n"
     ]
    },
    {
     "name": "stderr",
     "output_type": "stream",
     "text": [
      "/var/folders/gx/tzjwcf8x1llbhhf36mjt7xqr0000gn/T/ipykernel_98243/3776050204.py:45: SettingWithCopyWarning: \n",
      "A value is trying to be set on a copy of a slice from a DataFrame\n",
      "\n",
      "See the caveats in the documentation: https://pandas.pydata.org/pandas-docs/stable/user_guide/indexing.html#returning-a-view-versus-a-copy\n",
      "  df[prompt_name][i] = isMatch\n"
     ]
    },
    {
     "name": "stdout",
     "output_type": "stream",
     "text": [
      "Are the following two products the same?\n",
      "Product 1: Title: new wilson jones c17abl colorlife expanding a z indexed files 21 pockets letter dark blue wljc17abl\n",
      "Brand: wilson jones\n",
      "Description: open top design for easy access and preprinted index for improved organization 3 4 mylar reinforced gussets premium moisture resistant acrylic coated material expandable file folder type open top file indexed width n a height n a material s n a a z i\n",
      "Product 2: Title: wilson jones wallet file legal recycled kraft\n",
      "Brand: wilson jones\n",
      "Description: ulz1313earth friendly and office smart recycled wallets are perfect for storing and transporting important files expands to accommodate growing files flap closure durable construction to handle bulky documents file jackets sleeves wallets type wallet\n",
      "\n",
      "Answer with 'True' or 'False'.\n",
      "__\n",
      "__\n",
      "False.\n",
      "__\n",
      "__\n",
      "389\n"
     ]
    },
    {
     "name": "stderr",
     "output_type": "stream",
     "text": [
      "/var/folders/gx/tzjwcf8x1llbhhf36mjt7xqr0000gn/T/ipykernel_98243/3776050204.py:45: SettingWithCopyWarning: \n",
      "A value is trying to be set on a copy of a slice from a DataFrame\n",
      "\n",
      "See the caveats in the documentation: https://pandas.pydata.org/pandas-docs/stable/user_guide/indexing.html#returning-a-view-versus-a-copy\n",
      "  df[prompt_name][i] = isMatch\n"
     ]
    },
    {
     "name": "stdout",
     "output_type": "stream",
     "text": [
      "Are the following two products the same?\n",
      "Product 1: Title: wilson jones 34670nb mediumweight casebound dubllock round ring binder 11 x 17 1 capacity blue\n",
      "Brand: wilson jones\n",
      "Description: vinyl is reinforced with medium weight board for added strength equipped with dubllock locking round rings to secure sheets without gaps metal hinge construction provides extra durability capacity range 0 in 1 in sheet capacity 175 color s blue binde\n",
      "Product 2: Title: wilson jones wallet file legal recycled kraft\n",
      "Brand: wilson jones\n",
      "Description: ulz1313earth friendly and office smart recycled wallets are perfect for storing and transporting important files expands to accommodate growing files flap closure durable construction to handle bulky documents file jackets sleeves wallets type wallet\n",
      "\n",
      "Answer with 'True' or 'False'.\n",
      "__\n",
      "__\n",
      "False.\n",
      "__\n",
      "__\n",
      "390\n"
     ]
    },
    {
     "name": "stderr",
     "output_type": "stream",
     "text": [
      "/var/folders/gx/tzjwcf8x1llbhhf36mjt7xqr0000gn/T/ipykernel_98243/3776050204.py:45: SettingWithCopyWarning: \n",
      "A value is trying to be set on a copy of a slice from a DataFrame\n",
      "\n",
      "See the caveats in the documentation: https://pandas.pydata.org/pandas-docs/stable/user_guide/indexing.html#returning-a-view-versus-a-copy\n",
      "  df[prompt_name][i] = isMatch\n"
     ]
    },
    {
     "name": "stdout",
     "output_type": "stream",
     "text": [
      "Are the following two products the same?\n",
      "Product 1: Title: new wilson jones 86641 professional plus no gap d rings vinyl view binder 4 capacity black wlj86641\n",
      "Brand: wilson jones\n",
      "Description: put your best look forwardthis binder is clearly distinctive smart and innovative experience the effortless single touch ring that allows you to open and close with a single light touchno more pinched fingers locking no gap d rings stay tightly close\n",
      "Product 2: Title: wilson jones wallet file legal recycled kraft\n",
      "Brand: wilson jones\n",
      "Description: ulz1313earth friendly and office smart recycled wallets are perfect for storing and transporting important files expands to accommodate growing files flap closure durable construction to handle bulky documents file jackets sleeves wallets type wallet\n",
      "\n",
      "Answer with 'True' or 'False'.\n",
      "__\n",
      "__\n",
      "False.\n",
      "__\n",
      "__\n",
      "391\n"
     ]
    },
    {
     "name": "stderr",
     "output_type": "stream",
     "text": [
      "/var/folders/gx/tzjwcf8x1llbhhf36mjt7xqr0000gn/T/ipykernel_98243/3776050204.py:45: SettingWithCopyWarning: \n",
      "A value is trying to be set on a copy of a slice from a DataFrame\n",
      "\n",
      "See the caveats in the documentation: https://pandas.pydata.org/pandas-docs/stable/user_guide/indexing.html#returning-a-view-versus-a-copy\n",
      "  df[prompt_name][i] = isMatch\n"
     ]
    },
    {
     "name": "stdout",
     "output_type": "stream",
     "text": [
      "Are the following two products the same?\n",
      "Product 1: Title: new wallet file legal recycled green case pack 3 446172\n",
      "Brand: wilson jones\n",
      "Description: wallet file legal recycled green case pack 3\n",
      "Product 2: Title: wilson jones wallet file legal recycled kraft\n",
      "Brand: wilson jones\n",
      "Description: ulz1313earth friendly and office smart recycled wallets are perfect for storing and transporting important files expands to accommodate growing files flap closure durable construction to handle bulky documents file jackets sleeves wallets type wallet\n",
      "\n",
      "Answer with 'True' or 'False'.\n",
      "__\n",
      "__\n",
      "False.\n",
      "__\n",
      "__\n",
      "392\n"
     ]
    },
    {
     "name": "stderr",
     "output_type": "stream",
     "text": [
      "/var/folders/gx/tzjwcf8x1llbhhf36mjt7xqr0000gn/T/ipykernel_98243/3776050204.py:45: SettingWithCopyWarning: \n",
      "A value is trying to be set on a copy of a slice from a DataFrame\n",
      "\n",
      "See the caveats in the documentation: https://pandas.pydata.org/pandas-docs/stable/user_guide/indexing.html#returning-a-view-versus-a-copy\n",
      "  df[prompt_name][i] = isMatch\n"
     ]
    },
    {
     "name": "stdout",
     "output_type": "stream",
     "text": [
      "Are the following two products the same?\n",
      "Product 1: Title: wilson jones 34449nlh heavyweight casebound dubllock round ring binder 11 x 8 1 2 3 cap black\n",
      "Brand: wilson jones\n",
      "Description: vinyl is reinforced with heavyweight board that stands up to the toughest use heavy duty round ring mechanism holds contents tightly in place no ordinary casebound ring binder this heavyweight storage giant holds its shapeeven when subjected to rough\n",
      "Product 2: Title: wilson jones basic vinyl round ring binder w label holder\n",
      "Brand: wilson jones\n",
      "Description: wilson jones basic vinyl round ring binder w label holder basic round ring binder with open and close triggers and two inside pockets open and close triggers for easy access to your documents two inside pockets for additional storage\n",
      "\n",
      "Answer with 'True' or 'False'.\n",
      "__\n",
      "__\n",
      "False.\n",
      "__\n",
      "__\n",
      "393\n"
     ]
    },
    {
     "name": "stderr",
     "output_type": "stream",
     "text": [
      "/var/folders/gx/tzjwcf8x1llbhhf36mjt7xqr0000gn/T/ipykernel_98243/3776050204.py:45: SettingWithCopyWarning: \n",
      "A value is trying to be set on a copy of a slice from a DataFrame\n",
      "\n",
      "See the caveats in the documentation: https://pandas.pydata.org/pandas-docs/stable/user_guide/indexing.html#returning-a-view-versus-a-copy\n",
      "  df[prompt_name][i] = isMatch\n"
     ]
    },
    {
     "name": "stdout",
     "output_type": "stream",
     "text": [
      "Are the following two products the same?\n",
      "Product 1: Title: wilson jones 34449nlh heavyweight casebound dubllock round ring binder 11 x 8 1 2 3 cap black\n",
      "Brand: wilson jones\n",
      "Description: vinyl is reinforced with heavyweight board that stands up to the toughest use heavy duty round ring mechanism holds contents tightly in place no ordinary casebound ring binder this heavyweight storage giant holds its shapeeven when subjected to rough\n",
      "Product 2: Title: wilson jones wallet file legal recycled kraft\n",
      "Brand: wilson jones\n",
      "Description: ulz1313earth friendly and office smart recycled wallets are perfect for storing and transporting important files expands to accommodate growing files flap closure durable construction to handle bulky documents file jackets sleeves wallets type wallet\n",
      "\n",
      "Answer with 'True' or 'False'.\n",
      "__\n",
      "__\n",
      "False.\n",
      "__\n",
      "__\n",
      "394\n"
     ]
    },
    {
     "name": "stderr",
     "output_type": "stream",
     "text": [
      "/var/folders/gx/tzjwcf8x1llbhhf36mjt7xqr0000gn/T/ipykernel_98243/3776050204.py:45: SettingWithCopyWarning: \n",
      "A value is trying to be set on a copy of a slice from a DataFrame\n",
      "\n",
      "See the caveats in the documentation: https://pandas.pydata.org/pandas-docs/stable/user_guide/indexing.html#returning-a-view-versus-a-copy\n",
      "  df[prompt_name][i] = isMatch\n"
     ]
    },
    {
     "name": "stdout",
     "output_type": "stream",
     "text": [
      "Are the following two products the same?\n",
      "Product 1: Title: wilson jones 34449nlh heavyweight casebound dubllock round ring binder 11 x 8 1 2 3 cap black\n",
      "Brand: wilson jones\n",
      "Description: vinyl is reinforced with heavyweight board that stands up to the toughest use heavy duty round ring mechanism holds contents tightly in place no ordinary casebound ring binder this heavyweight storage giant holds its shapeeven when subjected to rough\n",
      "Product 2: Title: wilson jones super heavy weight sheet protector\n",
      "Brand: wilson jones\n",
      "Description: wilson jones super heavy weight sheet protector sheet protector keeps documents or overhead slide presentations safe acid free archival safe pvc free\n",
      "\n",
      "Answer with 'True' or 'False'.\n",
      "__\n",
      "__\n",
      "False.\n",
      "__\n",
      "__\n",
      "395\n"
     ]
    },
    {
     "name": "stderr",
     "output_type": "stream",
     "text": [
      "/var/folders/gx/tzjwcf8x1llbhhf36mjt7xqr0000gn/T/ipykernel_98243/3776050204.py:45: SettingWithCopyWarning: \n",
      "A value is trying to be set on a copy of a slice from a DataFrame\n",
      "\n",
      "See the caveats in the documentation: https://pandas.pydata.org/pandas-docs/stable/user_guide/indexing.html#returning-a-view-versus-a-copy\n",
      "  df[prompt_name][i] = isMatch\n"
     ]
    },
    {
     "name": "stdout",
     "output_type": "stream",
     "text": [
      "Are the following two products the same?\n",
      "Product 1: Title: startech com 6 feet beige a to a usb 2 0 cable m m usbfaa 6\n",
      "Brand: startech\n",
      "Description: this 6ft usb 2 0 cable features two usb a male connectors delivering a dependable way to connect your pc to a usb hub or connect usb 2 0 peripherals to a usb hub fully rated to usb 2 0 performance specifications this high quality usb cable is backed \n",
      "Product 2: Title: startech hdmi to mini hdmi cable adapter\n",
      "Brand: startech\n",
      "Description: key features converts mini hdmi port to standard hdmi port connect standard hdmi devices\n",
      "\n",
      "Answer with 'True' or 'False'.\n",
      "__\n",
      "__\n",
      "False.\n",
      "__\n",
      "__\n",
      "396\n"
     ]
    },
    {
     "name": "stderr",
     "output_type": "stream",
     "text": [
      "/var/folders/gx/tzjwcf8x1llbhhf36mjt7xqr0000gn/T/ipykernel_98243/3776050204.py:45: SettingWithCopyWarning: \n",
      "A value is trying to be set on a copy of a slice from a DataFrame\n",
      "\n",
      "See the caveats in the documentation: https://pandas.pydata.org/pandas-docs/stable/user_guide/indexing.html#returning-a-view-versus-a-copy\n",
      "  df[prompt_name][i] = isMatch\n"
     ]
    },
    {
     "name": "stdout",
     "output_type": "stream",
     "text": [
      "Are the following two products the same?\n",
      "Product 1: Title: startech hdmi to mini hdmi cable adapter\n",
      "Brand: startech\n",
      "Description: key features converts mini hdmi port to standard hdmi port connect standard hdmi devices\n",
      "Product 2: Title: startech usb to infrared irda adapter usb2ir2\n",
      "Brand: startech\n",
      "Description: the usb2ir2 usb to infrared irda adapter delivers a cost effective solution for file transfers between a usb capable desktop or laptop computer and an irda infrared device the ir adapter provides data transfer speeds between the ir device and the inf\n",
      "\n",
      "Answer with 'True' or 'False'.\n",
      "__\n",
      "__\n",
      "False.\n",
      "__\n",
      "__\n",
      "397\n"
     ]
    },
    {
     "name": "stderr",
     "output_type": "stream",
     "text": [
      "/var/folders/gx/tzjwcf8x1llbhhf36mjt7xqr0000gn/T/ipykernel_98243/3776050204.py:45: SettingWithCopyWarning: \n",
      "A value is trying to be set on a copy of a slice from a DataFrame\n",
      "\n",
      "See the caveats in the documentation: https://pandas.pydata.org/pandas-docs/stable/user_guide/indexing.html#returning-a-view-versus-a-copy\n",
      "  df[prompt_name][i] = isMatch\n"
     ]
    },
    {
     "name": "stdout",
     "output_type": "stream",
     "text": [
      "Are the following two products the same?\n",
      "Product 1: Title: startech hdmi to mini hdmi cable adapter\n",
      "Brand: startech\n",
      "Description: key features converts mini hdmi port to standard hdmi port connect standard hdmi devices\n",
      "Product 2: Title: startech com vga2cpnt vga to component ypbpr video converter\n",
      "Brand: startech\n",
      "Description: the startech vga2cpnt vga to component video converter lets you convert a vga 640x480 signal to a component 480p signal allowing you to connect your computer to a high definition television depending on the display monitor it might also convert an xg\n",
      "\n",
      "Answer with 'True' or 'False'.\n",
      "__\n",
      "__\n",
      "False.\n",
      "__\n",
      "__\n",
      "398\n"
     ]
    },
    {
     "name": "stderr",
     "output_type": "stream",
     "text": [
      "/var/folders/gx/tzjwcf8x1llbhhf36mjt7xqr0000gn/T/ipykernel_98243/3776050204.py:45: SettingWithCopyWarning: \n",
      "A value is trying to be set on a copy of a slice from a DataFrame\n",
      "\n",
      "See the caveats in the documentation: https://pandas.pydata.org/pandas-docs/stable/user_guide/indexing.html#returning-a-view-versus-a-copy\n",
      "  df[prompt_name][i] = isMatch\n"
     ]
    },
    {
     "name": "stdout",
     "output_type": "stream",
     "text": [
      "Are the following two products the same?\n",
      "Product 1: Title: startech hdmi to mini hdmi cable adapter\n",
      "Brand: startech\n",
      "Description: key features converts mini hdmi port to standard hdmi port connect standard hdmi devices\n",
      "Product 2: Title: startech com 50x10mm replacement ball bearing computer case fan tx3 lp4 connector fan5x1tx3 black\n",
      "Brand: startech\n",
      "Description: this versatile 5cm x 1cm fan is an ideal replacement fan for keeping your computer running cool the fan can be powered through a tx3 connection and features a dual ball bearing design that ensures reliable cooling and longer fan lifespan \n",
      "\n",
      "Answer with 'True' or 'False'.\n",
      "__\n",
      "__\n",
      "False.\n",
      "__\n",
      "__\n",
      "399\n"
     ]
    },
    {
     "name": "stderr",
     "output_type": "stream",
     "text": [
      "/var/folders/gx/tzjwcf8x1llbhhf36mjt7xqr0000gn/T/ipykernel_98243/3776050204.py:45: SettingWithCopyWarning: \n",
      "A value is trying to be set on a copy of a slice from a DataFrame\n",
      "\n",
      "See the caveats in the documentation: https://pandas.pydata.org/pandas-docs/stable/user_guide/indexing.html#returning-a-view-versus-a-copy\n",
      "  df[prompt_name][i] = isMatch\n"
     ]
    },
    {
     "name": "stdout",
     "output_type": "stream",
     "text": [
      "Are the following two products the same?\n",
      "Product 1: Title: startech hdmi to mini hdmi cable adapter\n",
      "Brand: startech\n",
      "Description: key features converts mini hdmi port to standard hdmi port connect standard hdmi devices\n",
      "Product 2: Title: startech com 1 port low profile pci 10 100 mbps ethernet network adapter card st100slp\n",
      "Brand: startech\n",
      "Description: this 1 port pci fast ethernet network adapter card offers a reliable cost effective ethernet network connection that s ideal for small form factor computers delivering a simple connection to 10 100mbps fast ethernet networks the nic features auto neg\n",
      "\n",
      "Answer with 'True' or 'False'.\n",
      "__\n",
      "__\n",
      "False.\n",
      "__\n",
      "__\n",
      "400\n"
     ]
    },
    {
     "name": "stderr",
     "output_type": "stream",
     "text": [
      "/var/folders/gx/tzjwcf8x1llbhhf36mjt7xqr0000gn/T/ipykernel_98243/3776050204.py:45: SettingWithCopyWarning: \n",
      "A value is trying to be set on a copy of a slice from a DataFrame\n",
      "\n",
      "See the caveats in the documentation: https://pandas.pydata.org/pandas-docs/stable/user_guide/indexing.html#returning-a-view-versus-a-copy\n",
      "  df[prompt_name][i] = isMatch\n"
     ]
    },
    {
     "name": "stdout",
     "output_type": "stream",
     "text": [
      "Are the following two products the same?\n",
      "Product 1: Title: startech hdmi to mini hdmi cable adapter\n",
      "Brand: startech\n",
      "Description: key features converts mini hdmi port to standard hdmi port connect standard hdmi devices\n",
      "Product 2: Title: startech com 4 port usb kvm switch kit with cables and audio black sv411kusb\n",
      "Brand: startech\n",
      "Description: the sv411kusb 4 port usb kvm switch kit with audio and cables lets you control up to four usb enabled computers using a single keyboard mouse and vga monitor and offers both hotkey and top panel push button operation for simple switching between conn\n",
      "\n",
      "Answer with 'True' or 'False'.\n",
      "__\n",
      "__\n",
      "False.\n",
      "__\n",
      "__\n",
      "401\n"
     ]
    },
    {
     "name": "stderr",
     "output_type": "stream",
     "text": [
      "/var/folders/gx/tzjwcf8x1llbhhf36mjt7xqr0000gn/T/ipykernel_98243/3776050204.py:45: SettingWithCopyWarning: \n",
      "A value is trying to be set on a copy of a slice from a DataFrame\n",
      "\n",
      "See the caveats in the documentation: https://pandas.pydata.org/pandas-docs/stable/user_guide/indexing.html#returning-a-view-versus-a-copy\n",
      "  df[prompt_name][i] = isMatch\n"
     ]
    },
    {
     "name": "stdout",
     "output_type": "stream",
     "text": [
      "Are the following two products the same?\n",
      "Product 1: Title: startech hdmi to mini hdmi cable adapter\n",
      "Brand: startech\n",
      "Description: key features converts mini hdmi port to standard hdmi port connect standard hdmi devices\n",
      "Product 2: Title: startech com mu6mmsra slim 3 5mm to right angle stereo audio cable m m 6 feet\n",
      "Brand: startech\n",
      "Description: this 6 foot stereo audio cable features one right angle stereo audio connector and one 3 5mm straight connector with a slim connector molding that makes this the perfect solution for portable audio devices ipod iphone ipad mp3 players even if the dev\n",
      "\n",
      "Answer with 'True' or 'False'.\n",
      "__\n",
      "__\n",
      "False.\n",
      "__\n",
      "__\n",
      "402\n"
     ]
    },
    {
     "name": "stderr",
     "output_type": "stream",
     "text": [
      "/var/folders/gx/tzjwcf8x1llbhhf36mjt7xqr0000gn/T/ipykernel_98243/3776050204.py:45: SettingWithCopyWarning: \n",
      "A value is trying to be set on a copy of a slice from a DataFrame\n",
      "\n",
      "See the caveats in the documentation: https://pandas.pydata.org/pandas-docs/stable/user_guide/indexing.html#returning-a-view-versus-a-copy\n",
      "  df[prompt_name][i] = isMatch\n"
     ]
    },
    {
     "name": "stdout",
     "output_type": "stream",
     "text": [
      "Are the following two products the same?\n",
      "Product 1: Title: startech hdmi to mini hdmi cable adapter\n",
      "Brand: startech\n",
      "Description: key features converts mini hdmi port to standard hdmi port connect standard hdmi devices\n",
      "Product 2: Title: startech com 1 port pci express gigabit ethernet nic network adapter card st1000spex\n",
      "Brand: startech\n",
      "Description: this pci express based gigabit ethernet network adapter card offers a versatile solution that allows servers and desktop pcs to connect to a gigabit network through a pcie slot providing full gigabit bandwidth capacity with the dedicated bandwidth of\n",
      "\n",
      "Answer with 'True' or 'False'.\n",
      "__\n",
      "__\n",
      "False.\n",
      "__\n",
      "__\n",
      "403\n"
     ]
    },
    {
     "name": "stderr",
     "output_type": "stream",
     "text": [
      "/var/folders/gx/tzjwcf8x1llbhhf36mjt7xqr0000gn/T/ipykernel_98243/3776050204.py:45: SettingWithCopyWarning: \n",
      "A value is trying to be set on a copy of a slice from a DataFrame\n",
      "\n",
      "See the caveats in the documentation: https://pandas.pydata.org/pandas-docs/stable/user_guide/indexing.html#returning-a-view-versus-a-copy\n",
      "  df[prompt_name][i] = isMatch\n"
     ]
    },
    {
     "name": "stdout",
     "output_type": "stream",
     "text": [
      "Are the following two products the same?\n",
      "Product 1: Title: startech hdmi to mini hdmi cable adapter\n",
      "Brand: startech\n",
      "Description: key features converts mini hdmi port to standard hdmi port connect standard hdmi devices\n",
      "Product 2: Title: startech 6 feet usb 2 0 certified a to b cable m m usb2hab6\n",
      "Brand: startech\n",
      "Description: this fully rated 6ft usb cable features one usb a male connector and one usb b male connector providing a high quality connection to usb 2 0 peripherals constructed of only top quality materials and expertly designed for durability this usb 2 0 a b c\n",
      "\n",
      "Answer with 'True' or 'False'.\n",
      "__\n",
      "__\n",
      "False.\n",
      "__\n",
      "__\n",
      "404\n"
     ]
    },
    {
     "name": "stderr",
     "output_type": "stream",
     "text": [
      "/var/folders/gx/tzjwcf8x1llbhhf36mjt7xqr0000gn/T/ipykernel_98243/3776050204.py:45: SettingWithCopyWarning: \n",
      "A value is trying to be set on a copy of a slice from a DataFrame\n",
      "\n",
      "See the caveats in the documentation: https://pandas.pydata.org/pandas-docs/stable/user_guide/indexing.html#returning-a-view-versus-a-copy\n",
      "  df[prompt_name][i] = isMatch\n"
     ]
    },
    {
     "name": "stdout",
     "output_type": "stream",
     "text": [
      "Are the following two products the same?\n",
      "Product 1: Title: startech hdmi to mini hdmi cable adapter\n",
      "Brand: startech\n",
      "Description: key features converts mini hdmi port to standard hdmi port connect standard hdmi devices\n",
      "Product 2: Title: startech 6 feet coax high resolution vga monitor cable hd15 m m mxt101mmhq\n",
      "Brand: startech\n",
      "Description: this 6ft high resolution vga monitor cable is designed to provide the highest video quality possible through vga ideally suited for high resolution vga applications this high quality male to male coaxial vga cable eliminates picture ghosting and fuzz\n",
      "\n",
      "Answer with 'True' or 'False'.\n",
      "__\n",
      "__\n",
      "False.\n",
      "__\n",
      "__\n"
     ]
    },
    {
     "name": "stderr",
     "output_type": "stream",
     "text": [
      "/var/folders/gx/tzjwcf8x1llbhhf36mjt7xqr0000gn/T/ipykernel_98243/3776050204.py:45: SettingWithCopyWarning: \n",
      "A value is trying to be set on a copy of a slice from a DataFrame\n",
      "\n",
      "See the caveats in the documentation: https://pandas.pydata.org/pandas-docs/stable/user_guide/indexing.html#returning-a-view-versus-a-copy\n",
      "  df[prompt_name][i] = isMatch\n"
     ]
    }
   ],
   "source": [
    "evaluate(df_mapping, prompt,temp=0, start=0)\n"
   ]
  },
  {
   "cell_type": "code",
   "execution_count": 14,
   "metadata": {},
   "outputs": [
    {
     "data": {
      "text/html": [
       "<div>\n",
       "<style scoped>\n",
       "    .dataframe tbody tr th:only-of-type {\n",
       "        vertical-align: middle;\n",
       "    }\n",
       "\n",
       "    .dataframe tbody tr th {\n",
       "        vertical-align: top;\n",
       "    }\n",
       "\n",
       "    .dataframe thead th {\n",
       "        text-align: right;\n",
       "    }\n",
       "</style>\n",
       "<table border=\"1\" class=\"dataframe\">\n",
       "  <thead>\n",
       "    <tr style=\"text-align: right;\">\n",
       "      <th></th>\n",
       "      <th>Unnamed: 0</th>\n",
       "      <th>id1</th>\n",
       "      <th>id2</th>\n",
       "      <th>label</th>\n",
       "      <th>prompt1_en_short_temp_0_gpt3.5-0301</th>\n",
       "      <th>match_prompt_manual_fewshot_1_eval2_temp_0_gpt3.5_0301</th>\n",
       "      <th>match_prompt_auto_fewshot_1_eval2_temp_0_gpt3.5_0301</th>\n",
       "      <th>match_prompt_auto_fewshot_2_ama_wal_eval2_temp_0_gpt3.5_0301</th>\n",
       "      <th>match_prompt_auto_fewshot_ama_wal_4examples_eval2_temp_0_gpt3.5_0301</th>\n",
       "    </tr>\n",
       "  </thead>\n",
       "  <tbody>\n",
       "    <tr>\n",
       "      <th>0</th>\n",
       "      <td>0</td>\n",
       "      <td>7784</td>\n",
       "      <td>23390</td>\n",
       "      <td>True</td>\n",
       "      <td>True</td>\n",
       "      <td>False</td>\n",
       "      <td>False</td>\n",
       "      <td>False</td>\n",
       "      <td>False</td>\n",
       "    </tr>\n",
       "    <tr>\n",
       "      <th>1</th>\n",
       "      <td>1</td>\n",
       "      <td>15123</td>\n",
       "      <td>23390</td>\n",
       "      <td>True</td>\n",
       "      <td>False</td>\n",
       "      <td>False</td>\n",
       "      <td>False</td>\n",
       "      <td>False</td>\n",
       "      <td>True</td>\n",
       "    </tr>\n",
       "    <tr>\n",
       "      <th>2</th>\n",
       "      <td>2</td>\n",
       "      <td>21113</td>\n",
       "      <td>23390</td>\n",
       "      <td>True</td>\n",
       "      <td>True</td>\n",
       "      <td>True</td>\n",
       "      <td>True</td>\n",
       "      <td>False</td>\n",
       "      <td>True</td>\n",
       "    </tr>\n",
       "    <tr>\n",
       "      <th>3</th>\n",
       "      <td>3</td>\n",
       "      <td>7384</td>\n",
       "      <td>22973</td>\n",
       "      <td>True</td>\n",
       "      <td>True</td>\n",
       "      <td>True</td>\n",
       "      <td>True</td>\n",
       "      <td>True</td>\n",
       "      <td>True</td>\n",
       "    </tr>\n",
       "    <tr>\n",
       "      <th>4</th>\n",
       "      <td>4</td>\n",
       "      <td>11344</td>\n",
       "      <td>22973</td>\n",
       "      <td>True</td>\n",
       "      <td>False</td>\n",
       "      <td>True</td>\n",
       "      <td>False</td>\n",
       "      <td>True</td>\n",
       "      <td>True</td>\n",
       "    </tr>\n",
       "    <tr>\n",
       "      <th>...</th>\n",
       "      <td>...</td>\n",
       "      <td>...</td>\n",
       "      <td>...</td>\n",
       "      <td>...</td>\n",
       "      <td>...</td>\n",
       "      <td>...</td>\n",
       "      <td>...</td>\n",
       "      <td>...</td>\n",
       "      <td>...</td>\n",
       "    </tr>\n",
       "    <tr>\n",
       "      <th>400</th>\n",
       "      <td>400</td>\n",
       "      <td>23912</td>\n",
       "      <td>9467</td>\n",
       "      <td>False</td>\n",
       "      <td>False</td>\n",
       "      <td>False</td>\n",
       "      <td>False</td>\n",
       "      <td>False</td>\n",
       "      <td>False</td>\n",
       "    </tr>\n",
       "    <tr>\n",
       "      <th>401</th>\n",
       "      <td>401</td>\n",
       "      <td>23912</td>\n",
       "      <td>9468</td>\n",
       "      <td>False</td>\n",
       "      <td>False</td>\n",
       "      <td>False</td>\n",
       "      <td>False</td>\n",
       "      <td>False</td>\n",
       "      <td>False</td>\n",
       "    </tr>\n",
       "    <tr>\n",
       "      <th>402</th>\n",
       "      <td>402</td>\n",
       "      <td>23912</td>\n",
       "      <td>9469</td>\n",
       "      <td>False</td>\n",
       "      <td>False</td>\n",
       "      <td>False</td>\n",
       "      <td>False</td>\n",
       "      <td>False</td>\n",
       "      <td>False</td>\n",
       "    </tr>\n",
       "    <tr>\n",
       "      <th>403</th>\n",
       "      <td>403</td>\n",
       "      <td>23912</td>\n",
       "      <td>9470</td>\n",
       "      <td>False</td>\n",
       "      <td>False</td>\n",
       "      <td>False</td>\n",
       "      <td>False</td>\n",
       "      <td>False</td>\n",
       "      <td>False</td>\n",
       "    </tr>\n",
       "    <tr>\n",
       "      <th>404</th>\n",
       "      <td>404</td>\n",
       "      <td>23912</td>\n",
       "      <td>9471</td>\n",
       "      <td>False</td>\n",
       "      <td>False</td>\n",
       "      <td>False</td>\n",
       "      <td>False</td>\n",
       "      <td>False</td>\n",
       "      <td>False</td>\n",
       "    </tr>\n",
       "  </tbody>\n",
       "</table>\n",
       "<p>405 rows × 9 columns</p>\n",
       "</div>"
      ],
      "text/plain": [
       "     Unnamed: 0    id1    id2  label prompt1_en_short_temp_0_gpt3.5-0301  \\\n",
       "0             0   7784  23390   True                                True   \n",
       "1             1  15123  23390   True                               False   \n",
       "2             2  21113  23390   True                                True   \n",
       "3             3   7384  22973   True                                True   \n",
       "4             4  11344  22973   True                               False   \n",
       "..          ...    ...    ...    ...                                 ...   \n",
       "400         400  23912   9467  False                               False   \n",
       "401         401  23912   9468  False                               False   \n",
       "402         402  23912   9469  False                               False   \n",
       "403         403  23912   9470  False                               False   \n",
       "404         404  23912   9471  False                               False   \n",
       "\n",
       "     match_prompt_manual_fewshot_1_eval2_temp_0_gpt3.5_0301  \\\n",
       "0                                                False        \n",
       "1                                                False        \n",
       "2                                                 True        \n",
       "3                                                 True        \n",
       "4                                                 True        \n",
       "..                                                 ...        \n",
       "400                                              False        \n",
       "401                                              False        \n",
       "402                                              False        \n",
       "403                                              False        \n",
       "404                                              False        \n",
       "\n",
       "     match_prompt_auto_fewshot_1_eval2_temp_0_gpt3.5_0301  \\\n",
       "0                                                False      \n",
       "1                                                False      \n",
       "2                                                 True      \n",
       "3                                                 True      \n",
       "4                                                False      \n",
       "..                                                 ...      \n",
       "400                                              False      \n",
       "401                                              False      \n",
       "402                                              False      \n",
       "403                                              False      \n",
       "404                                              False      \n",
       "\n",
       "     match_prompt_auto_fewshot_2_ama_wal_eval2_temp_0_gpt3.5_0301  \\\n",
       "0                                                False              \n",
       "1                                                False              \n",
       "2                                                False              \n",
       "3                                                 True              \n",
       "4                                                 True              \n",
       "..                                                 ...              \n",
       "400                                              False              \n",
       "401                                              False              \n",
       "402                                              False              \n",
       "403                                              False              \n",
       "404                                              False              \n",
       "\n",
       "     match_prompt_auto_fewshot_ama_wal_4examples_eval2_temp_0_gpt3.5_0301  \n",
       "0                                                False                     \n",
       "1                                                 True                     \n",
       "2                                                 True                     \n",
       "3                                                 True                     \n",
       "4                                                 True                     \n",
       "..                                                 ...                     \n",
       "400                                              False                     \n",
       "401                                              False                     \n",
       "402                                              False                     \n",
       "403                                              False                     \n",
       "404                                              False                     \n",
       "\n",
       "[405 rows x 9 columns]"
      ]
     },
     "execution_count": 14,
     "metadata": {},
     "output_type": "execute_result"
    }
   ],
   "source": [
    "df_mapping\n"
   ]
  },
  {
   "cell_type": "code",
   "execution_count": 15,
   "metadata": {},
   "outputs": [],
   "source": [
    "# saved_prompts_df"
   ]
  },
  {
   "cell_type": "code",
   "execution_count": 20,
   "metadata": {},
   "outputs": [],
   "source": [
    "# write df to csv\n",
    "df_mapping.to_csv(PRODUCT_MAPPING, index=False)\n",
    "saved_prompts_df.to_csv(SAVED_PROMPTS_PATH, index=False)\n"
   ]
  }
 ],
 "metadata": {
  "kernelspec": {
   "display_name": "Python 3",
   "language": "python",
   "name": "python3"
  },
  "language_info": {
   "codemirror_mode": {
    "name": "ipython",
    "version": 3
   },
   "file_extension": ".py",
   "mimetype": "text/x-python",
   "name": "python",
   "nbconvert_exporter": "python",
   "pygments_lexer": "ipython3",
   "version": "3.9.16"
  },
  "orig_nbformat": 4
 },
 "nbformat": 4,
 "nbformat_minor": 2
}
