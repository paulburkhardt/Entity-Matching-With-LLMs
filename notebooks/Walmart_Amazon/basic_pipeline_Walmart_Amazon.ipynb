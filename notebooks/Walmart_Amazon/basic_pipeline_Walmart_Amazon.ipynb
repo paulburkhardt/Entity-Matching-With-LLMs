{
 "cells": [
  {
   "cell_type": "code",
   "execution_count": 1,
   "metadata": {},
   "outputs": [],
   "source": [
    "import pandas as pd\n",
    "from langchain.chains import LLMChain, SequentialChain\n"
   ]
  },
  {
   "cell_type": "code",
   "execution_count": 2,
   "metadata": {},
   "outputs": [],
   "source": [
    "import prompts as p\n",
    "from langchain.prompts import PromptTemplate\n",
    "\n",
    "\n",
    "PRODUCTS = '../../datasets/amazon_walmart.tsv'\n",
    "\n",
    "PRODUCT_MAPPING = '../../datasets/WalAmazonDataset_sampled.csv'\n",
    "\n",
    "SAVED_PROMPTS_PATH = '../../evals/saved_prompts_WA.csv'\n",
    "\n",
    "# Load data\n",
    "df_products = pd.read_csv(PRODUCTS, sep='\\t')\n",
    "df_mapping = pd.read_csv(PRODUCT_MAPPING)\n",
    "\n",
    "\n",
    "df_products.fillna('', inplace=True)\n",
    "df_mapping.fillna('', inplace=True)\n",
    "\n",
    "prompt_name = 'prompt1_en_short_temp_0_gpt4-0613'\n",
    "prompt = p.prompt1_en_short\n",
    "\n",
    "MODEL = \"gpt-4-0613\"\n",
    "\n",
    "MAX_TOKENS = 15\n"
   ]
  },
  {
   "cell_type": "code",
   "execution_count": 3,
   "metadata": {},
   "outputs": [],
   "source": [
    "# generate column with prompt_name if not exists\n",
    "if 'prompt_name' not in df_mapping.columns:\n",
    "    df_mapping[prompt_name] = \"\""
   ]
  },
  {
   "cell_type": "code",
   "execution_count": 4,
   "metadata": {},
   "outputs": [
    {
     "data": {
      "text/html": [
       "<div>\n",
       "<style scoped>\n",
       "    .dataframe tbody tr th:only-of-type {\n",
       "        vertical-align: middle;\n",
       "    }\n",
       "\n",
       "    .dataframe tbody tr th {\n",
       "        vertical-align: top;\n",
       "    }\n",
       "\n",
       "    .dataframe thead th {\n",
       "        text-align: right;\n",
       "    }\n",
       "</style>\n",
       "<table border=\"1\" class=\"dataframe\">\n",
       "  <thead>\n",
       "    <tr style=\"text-align: right;\">\n",
       "      <th></th>\n",
       "      <th>Unnamed: 0</th>\n",
       "      <th>id1</th>\n",
       "      <th>id2</th>\n",
       "      <th>label</th>\n",
       "      <th>prompt1_en_short_temp_0_gpt3.5-0301</th>\n",
       "      <th>match_prompt_manual_fewshot_1_eval2_temp_0_gpt3.5_0301</th>\n",
       "      <th>match_prompt_auto_fewshot_1_eval2_temp_0_gpt3.5_0301</th>\n",
       "      <th>match_prompt_auto_fewshot_2_ama_wal_eval2_temp_0_gpt3.5_0301</th>\n",
       "      <th>match_prompt_auto_fewshot_ama_wal_4examples_eval2_temp_0_gpt3.5_0301</th>\n",
       "      <th>prompt1_en_short_temp_0_gpt4-0613</th>\n",
       "    </tr>\n",
       "  </thead>\n",
       "  <tbody>\n",
       "    <tr>\n",
       "      <th>0</th>\n",
       "      <td>0</td>\n",
       "      <td>7784</td>\n",
       "      <td>23390</td>\n",
       "      <td>True</td>\n",
       "      <td>True</td>\n",
       "      <td>False</td>\n",
       "      <td>False</td>\n",
       "      <td>False</td>\n",
       "      <td>False</td>\n",
       "      <td></td>\n",
       "    </tr>\n",
       "    <tr>\n",
       "      <th>1</th>\n",
       "      <td>1</td>\n",
       "      <td>15123</td>\n",
       "      <td>23390</td>\n",
       "      <td>True</td>\n",
       "      <td>False</td>\n",
       "      <td>False</td>\n",
       "      <td>False</td>\n",
       "      <td>False</td>\n",
       "      <td>True</td>\n",
       "      <td></td>\n",
       "    </tr>\n",
       "    <tr>\n",
       "      <th>2</th>\n",
       "      <td>2</td>\n",
       "      <td>21113</td>\n",
       "      <td>23390</td>\n",
       "      <td>True</td>\n",
       "      <td>True</td>\n",
       "      <td>True</td>\n",
       "      <td>True</td>\n",
       "      <td>False</td>\n",
       "      <td>True</td>\n",
       "      <td></td>\n",
       "    </tr>\n",
       "    <tr>\n",
       "      <th>3</th>\n",
       "      <td>3</td>\n",
       "      <td>7384</td>\n",
       "      <td>22973</td>\n",
       "      <td>True</td>\n",
       "      <td>True</td>\n",
       "      <td>True</td>\n",
       "      <td>True</td>\n",
       "      <td>True</td>\n",
       "      <td>True</td>\n",
       "      <td></td>\n",
       "    </tr>\n",
       "    <tr>\n",
       "      <th>4</th>\n",
       "      <td>4</td>\n",
       "      <td>11344</td>\n",
       "      <td>22973</td>\n",
       "      <td>True</td>\n",
       "      <td>False</td>\n",
       "      <td>True</td>\n",
       "      <td>False</td>\n",
       "      <td>True</td>\n",
       "      <td>True</td>\n",
       "      <td></td>\n",
       "    </tr>\n",
       "    <tr>\n",
       "      <th>5</th>\n",
       "      <td>5</td>\n",
       "      <td>15336</td>\n",
       "      <td>22973</td>\n",
       "      <td>True</td>\n",
       "      <td>True</td>\n",
       "      <td>True</td>\n",
       "      <td>True</td>\n",
       "      <td>True</td>\n",
       "      <td>True</td>\n",
       "      <td></td>\n",
       "    </tr>\n",
       "    <tr>\n",
       "      <th>6</th>\n",
       "      <td>6</td>\n",
       "      <td>8176</td>\n",
       "      <td>24537</td>\n",
       "      <td>True</td>\n",
       "      <td>True</td>\n",
       "      <td>True</td>\n",
       "      <td>True</td>\n",
       "      <td>True</td>\n",
       "      <td>True</td>\n",
       "      <td></td>\n",
       "    </tr>\n",
       "    <tr>\n",
       "      <th>7</th>\n",
       "      <td>7</td>\n",
       "      <td>14118</td>\n",
       "      <td>24537</td>\n",
       "      <td>True</td>\n",
       "      <td>True</td>\n",
       "      <td>True</td>\n",
       "      <td>True</td>\n",
       "      <td>True</td>\n",
       "      <td>True</td>\n",
       "      <td></td>\n",
       "    </tr>\n",
       "    <tr>\n",
       "      <th>8</th>\n",
       "      <td>8</td>\n",
       "      <td>20398</td>\n",
       "      <td>23769</td>\n",
       "      <td>True</td>\n",
       "      <td>True</td>\n",
       "      <td>True</td>\n",
       "      <td>False</td>\n",
       "      <td>False</td>\n",
       "      <td>True</td>\n",
       "      <td></td>\n",
       "    </tr>\n",
       "    <tr>\n",
       "      <th>9</th>\n",
       "      <td>9</td>\n",
       "      <td>11027</td>\n",
       "      <td>23769</td>\n",
       "      <td>True</td>\n",
       "      <td>True</td>\n",
       "      <td>True</td>\n",
       "      <td>False</td>\n",
       "      <td>False</td>\n",
       "      <td>True</td>\n",
       "      <td></td>\n",
       "    </tr>\n",
       "    <tr>\n",
       "      <th>10</th>\n",
       "      <td>10</td>\n",
       "      <td>3794</td>\n",
       "      <td>23769</td>\n",
       "      <td>True</td>\n",
       "      <td>True</td>\n",
       "      <td>True</td>\n",
       "      <td>False</td>\n",
       "      <td>True</td>\n",
       "      <td>True</td>\n",
       "      <td></td>\n",
       "    </tr>\n",
       "    <tr>\n",
       "      <th>11</th>\n",
       "      <td>11</td>\n",
       "      <td>20393</td>\n",
       "      <td>22550</td>\n",
       "      <td>True</td>\n",
       "      <td>True</td>\n",
       "      <td>True</td>\n",
       "      <td>True</td>\n",
       "      <td>True</td>\n",
       "      <td>True</td>\n",
       "      <td></td>\n",
       "    </tr>\n",
       "    <tr>\n",
       "      <th>12</th>\n",
       "      <td>12</td>\n",
       "      <td>12747</td>\n",
       "      <td>22550</td>\n",
       "      <td>True</td>\n",
       "      <td>True</td>\n",
       "      <td>True</td>\n",
       "      <td>False</td>\n",
       "      <td>False</td>\n",
       "      <td>True</td>\n",
       "      <td></td>\n",
       "    </tr>\n",
       "    <tr>\n",
       "      <th>13</th>\n",
       "      <td>13</td>\n",
       "      <td>782</td>\n",
       "      <td>22550</td>\n",
       "      <td>True</td>\n",
       "      <td>True</td>\n",
       "      <td>True</td>\n",
       "      <td>False</td>\n",
       "      <td>False</td>\n",
       "      <td>False</td>\n",
       "      <td></td>\n",
       "    </tr>\n",
       "    <tr>\n",
       "      <th>14</th>\n",
       "      <td>14</td>\n",
       "      <td>13593</td>\n",
       "      <td>23541</td>\n",
       "      <td>True</td>\n",
       "      <td>False</td>\n",
       "      <td>True</td>\n",
       "      <td>False</td>\n",
       "      <td>False</td>\n",
       "      <td>False</td>\n",
       "      <td></td>\n",
       "    </tr>\n",
       "    <tr>\n",
       "      <th>15</th>\n",
       "      <td>15</td>\n",
       "      <td>15576</td>\n",
       "      <td>23541</td>\n",
       "      <td>True</td>\n",
       "      <td>True</td>\n",
       "      <td>False</td>\n",
       "      <td>True</td>\n",
       "      <td>False</td>\n",
       "      <td>False</td>\n",
       "      <td></td>\n",
       "    </tr>\n",
       "    <tr>\n",
       "      <th>16</th>\n",
       "      <td>16</td>\n",
       "      <td>11642</td>\n",
       "      <td>23541</td>\n",
       "      <td>True</td>\n",
       "      <td>False</td>\n",
       "      <td>False</td>\n",
       "      <td>False</td>\n",
       "      <td>False</td>\n",
       "      <td>False</td>\n",
       "      <td></td>\n",
       "    </tr>\n",
       "    <tr>\n",
       "      <th>17</th>\n",
       "      <td>17</td>\n",
       "      <td>19007</td>\n",
       "      <td>24211</td>\n",
       "      <td>True</td>\n",
       "      <td>False</td>\n",
       "      <td>False</td>\n",
       "      <td>False</td>\n",
       "      <td>False</td>\n",
       "      <td>True</td>\n",
       "      <td></td>\n",
       "    </tr>\n",
       "    <tr>\n",
       "      <th>18</th>\n",
       "      <td>18</td>\n",
       "      <td>4706</td>\n",
       "      <td>24211</td>\n",
       "      <td>True</td>\n",
       "      <td>True</td>\n",
       "      <td>False</td>\n",
       "      <td>False</td>\n",
       "      <td>False</td>\n",
       "      <td>True</td>\n",
       "      <td></td>\n",
       "    </tr>\n",
       "    <tr>\n",
       "      <th>19</th>\n",
       "      <td>19</td>\n",
       "      <td>18171</td>\n",
       "      <td>23283</td>\n",
       "      <td>True</td>\n",
       "      <td>True</td>\n",
       "      <td>True</td>\n",
       "      <td>True</td>\n",
       "      <td>True</td>\n",
       "      <td>True</td>\n",
       "      <td></td>\n",
       "    </tr>\n",
       "    <tr>\n",
       "      <th>20</th>\n",
       "      <td>20</td>\n",
       "      <td>3255</td>\n",
       "      <td>23283</td>\n",
       "      <td>True</td>\n",
       "      <td>True</td>\n",
       "      <td>True</td>\n",
       "      <td>True</td>\n",
       "      <td>True</td>\n",
       "      <td>True</td>\n",
       "      <td></td>\n",
       "    </tr>\n",
       "    <tr>\n",
       "      <th>21</th>\n",
       "      <td>21</td>\n",
       "      <td>16936</td>\n",
       "      <td>23283</td>\n",
       "      <td>True</td>\n",
       "      <td>True</td>\n",
       "      <td>True</td>\n",
       "      <td>True</td>\n",
       "      <td>True</td>\n",
       "      <td>True</td>\n",
       "      <td></td>\n",
       "    </tr>\n",
       "    <tr>\n",
       "      <th>22</th>\n",
       "      <td>22</td>\n",
       "      <td>16351</td>\n",
       "      <td>22223</td>\n",
       "      <td>True</td>\n",
       "      <td>True</td>\n",
       "      <td>True</td>\n",
       "      <td>True</td>\n",
       "      <td>True</td>\n",
       "      <td>True</td>\n",
       "      <td></td>\n",
       "    </tr>\n",
       "    <tr>\n",
       "      <th>23</th>\n",
       "      <td>23</td>\n",
       "      <td>18937</td>\n",
       "      <td>22223</td>\n",
       "      <td>True</td>\n",
       "      <td>True</td>\n",
       "      <td>True</td>\n",
       "      <td>False</td>\n",
       "      <td>True</td>\n",
       "      <td>True</td>\n",
       "      <td></td>\n",
       "    </tr>\n",
       "    <tr>\n",
       "      <th>24</th>\n",
       "      <td>24</td>\n",
       "      <td>16399</td>\n",
       "      <td>22223</td>\n",
       "      <td>True</td>\n",
       "      <td>True</td>\n",
       "      <td>True</td>\n",
       "      <td>False</td>\n",
       "      <td>True</td>\n",
       "      <td>True</td>\n",
       "      <td></td>\n",
       "    </tr>\n",
       "    <tr>\n",
       "      <th>25</th>\n",
       "      <td>25</td>\n",
       "      <td>15490</td>\n",
       "      <td>23851</td>\n",
       "      <td>True</td>\n",
       "      <td>True</td>\n",
       "      <td>True</td>\n",
       "      <td>True</td>\n",
       "      <td>True</td>\n",
       "      <td>True</td>\n",
       "      <td></td>\n",
       "    </tr>\n",
       "    <tr>\n",
       "      <th>26</th>\n",
       "      <td>26</td>\n",
       "      <td>16438</td>\n",
       "      <td>23851</td>\n",
       "      <td>True</td>\n",
       "      <td>True</td>\n",
       "      <td>False</td>\n",
       "      <td>True</td>\n",
       "      <td>False</td>\n",
       "      <td>False</td>\n",
       "      <td></td>\n",
       "    </tr>\n",
       "    <tr>\n",
       "      <th>27</th>\n",
       "      <td>27</td>\n",
       "      <td>13180</td>\n",
       "      <td>23851</td>\n",
       "      <td>True</td>\n",
       "      <td>False</td>\n",
       "      <td>False</td>\n",
       "      <td>False</td>\n",
       "      <td>False</td>\n",
       "      <td>False</td>\n",
       "      <td></td>\n",
       "    </tr>\n",
       "    <tr>\n",
       "      <th>28</th>\n",
       "      <td>28</td>\n",
       "      <td>4283</td>\n",
       "      <td>22090</td>\n",
       "      <td>True</td>\n",
       "      <td>True</td>\n",
       "      <td>True</td>\n",
       "      <td>False</td>\n",
       "      <td>False</td>\n",
       "      <td>False</td>\n",
       "      <td></td>\n",
       "    </tr>\n",
       "    <tr>\n",
       "      <th>29</th>\n",
       "      <td>29</td>\n",
       "      <td>17365</td>\n",
       "      <td>22090</td>\n",
       "      <td>True</td>\n",
       "      <td>False</td>\n",
       "      <td>False</td>\n",
       "      <td>True</td>\n",
       "      <td>True</td>\n",
       "      <td>True</td>\n",
       "      <td></td>\n",
       "    </tr>\n",
       "  </tbody>\n",
       "</table>\n",
       "</div>"
      ],
      "text/plain": [
       "    Unnamed: 0    id1    id2  label  prompt1_en_short_temp_0_gpt3.5-0301  \\\n",
       "0            0   7784  23390   True                                 True   \n",
       "1            1  15123  23390   True                                False   \n",
       "2            2  21113  23390   True                                 True   \n",
       "3            3   7384  22973   True                                 True   \n",
       "4            4  11344  22973   True                                False   \n",
       "5            5  15336  22973   True                                 True   \n",
       "6            6   8176  24537   True                                 True   \n",
       "7            7  14118  24537   True                                 True   \n",
       "8            8  20398  23769   True                                 True   \n",
       "9            9  11027  23769   True                                 True   \n",
       "10          10   3794  23769   True                                 True   \n",
       "11          11  20393  22550   True                                 True   \n",
       "12          12  12747  22550   True                                 True   \n",
       "13          13    782  22550   True                                 True   \n",
       "14          14  13593  23541   True                                False   \n",
       "15          15  15576  23541   True                                 True   \n",
       "16          16  11642  23541   True                                False   \n",
       "17          17  19007  24211   True                                False   \n",
       "18          18   4706  24211   True                                 True   \n",
       "19          19  18171  23283   True                                 True   \n",
       "20          20   3255  23283   True                                 True   \n",
       "21          21  16936  23283   True                                 True   \n",
       "22          22  16351  22223   True                                 True   \n",
       "23          23  18937  22223   True                                 True   \n",
       "24          24  16399  22223   True                                 True   \n",
       "25          25  15490  23851   True                                 True   \n",
       "26          26  16438  23851   True                                 True   \n",
       "27          27  13180  23851   True                                False   \n",
       "28          28   4283  22090   True                                 True   \n",
       "29          29  17365  22090   True                                False   \n",
       "\n",
       "    match_prompt_manual_fewshot_1_eval2_temp_0_gpt3.5_0301  \\\n",
       "0                                               False        \n",
       "1                                               False        \n",
       "2                                                True        \n",
       "3                                                True        \n",
       "4                                                True        \n",
       "5                                                True        \n",
       "6                                                True        \n",
       "7                                                True        \n",
       "8                                                True        \n",
       "9                                                True        \n",
       "10                                               True        \n",
       "11                                               True        \n",
       "12                                               True        \n",
       "13                                               True        \n",
       "14                                               True        \n",
       "15                                              False        \n",
       "16                                              False        \n",
       "17                                              False        \n",
       "18                                              False        \n",
       "19                                               True        \n",
       "20                                               True        \n",
       "21                                               True        \n",
       "22                                               True        \n",
       "23                                               True        \n",
       "24                                               True        \n",
       "25                                               True        \n",
       "26                                              False        \n",
       "27                                              False        \n",
       "28                                               True        \n",
       "29                                              False        \n",
       "\n",
       "    match_prompt_auto_fewshot_1_eval2_temp_0_gpt3.5_0301  \\\n",
       "0                                               False      \n",
       "1                                               False      \n",
       "2                                                True      \n",
       "3                                                True      \n",
       "4                                               False      \n",
       "5                                                True      \n",
       "6                                                True      \n",
       "7                                                True      \n",
       "8                                               False      \n",
       "9                                               False      \n",
       "10                                              False      \n",
       "11                                               True      \n",
       "12                                              False      \n",
       "13                                              False      \n",
       "14                                              False      \n",
       "15                                               True      \n",
       "16                                              False      \n",
       "17                                              False      \n",
       "18                                              False      \n",
       "19                                               True      \n",
       "20                                               True      \n",
       "21                                               True      \n",
       "22                                               True      \n",
       "23                                              False      \n",
       "24                                              False      \n",
       "25                                               True      \n",
       "26                                               True      \n",
       "27                                              False      \n",
       "28                                              False      \n",
       "29                                               True      \n",
       "\n",
       "    match_prompt_auto_fewshot_2_ama_wal_eval2_temp_0_gpt3.5_0301  \\\n",
       "0                                               False              \n",
       "1                                               False              \n",
       "2                                               False              \n",
       "3                                                True              \n",
       "4                                                True              \n",
       "5                                                True              \n",
       "6                                                True              \n",
       "7                                                True              \n",
       "8                                               False              \n",
       "9                                               False              \n",
       "10                                               True              \n",
       "11                                               True              \n",
       "12                                              False              \n",
       "13                                              False              \n",
       "14                                              False              \n",
       "15                                              False              \n",
       "16                                              False              \n",
       "17                                              False              \n",
       "18                                              False              \n",
       "19                                               True              \n",
       "20                                               True              \n",
       "21                                               True              \n",
       "22                                               True              \n",
       "23                                               True              \n",
       "24                                               True              \n",
       "25                                               True              \n",
       "26                                              False              \n",
       "27                                              False              \n",
       "28                                              False              \n",
       "29                                               True              \n",
       "\n",
       "    match_prompt_auto_fewshot_ama_wal_4examples_eval2_temp_0_gpt3.5_0301  \\\n",
       "0                                               False                      \n",
       "1                                                True                      \n",
       "2                                                True                      \n",
       "3                                                True                      \n",
       "4                                                True                      \n",
       "5                                                True                      \n",
       "6                                                True                      \n",
       "7                                                True                      \n",
       "8                                                True                      \n",
       "9                                                True                      \n",
       "10                                               True                      \n",
       "11                                               True                      \n",
       "12                                               True                      \n",
       "13                                              False                      \n",
       "14                                              False                      \n",
       "15                                              False                      \n",
       "16                                              False                      \n",
       "17                                               True                      \n",
       "18                                               True                      \n",
       "19                                               True                      \n",
       "20                                               True                      \n",
       "21                                               True                      \n",
       "22                                               True                      \n",
       "23                                               True                      \n",
       "24                                               True                      \n",
       "25                                               True                      \n",
       "26                                              False                      \n",
       "27                                              False                      \n",
       "28                                              False                      \n",
       "29                                               True                      \n",
       "\n",
       "   prompt1_en_short_temp_0_gpt4-0613  \n",
       "0                                     \n",
       "1                                     \n",
       "2                                     \n",
       "3                                     \n",
       "4                                     \n",
       "5                                     \n",
       "6                                     \n",
       "7                                     \n",
       "8                                     \n",
       "9                                     \n",
       "10                                    \n",
       "11                                    \n",
       "12                                    \n",
       "13                                    \n",
       "14                                    \n",
       "15                                    \n",
       "16                                    \n",
       "17                                    \n",
       "18                                    \n",
       "19                                    \n",
       "20                                    \n",
       "21                                    \n",
       "22                                    \n",
       "23                                    \n",
       "24                                    \n",
       "25                                    \n",
       "26                                    \n",
       "27                                    \n",
       "28                                    \n",
       "29                                    "
      ]
     },
     "execution_count": 4,
     "metadata": {},
     "output_type": "execute_result"
    }
   ],
   "source": [
    "df_mapping.head(30)"
   ]
  },
  {
   "cell_type": "code",
   "execution_count": 5,
   "metadata": {},
   "outputs": [],
   "source": [
    "from langchain.chat_models import ChatOpenAI\n",
    "from langchain.llms import OpenAI\n"
   ]
  },
  {
   "cell_type": "code",
   "execution_count": 6,
   "metadata": {},
   "outputs": [
    {
     "data": {
      "text/plain": [
       "True"
      ]
     },
     "execution_count": 6,
     "metadata": {},
     "output_type": "execute_result"
    }
   ],
   "source": [
    "from dotenv import load_dotenv\n",
    "import os\n",
    "load_dotenv()\n"
   ]
  },
  {
   "cell_type": "code",
   "execution_count": 7,
   "metadata": {},
   "outputs": [],
   "source": [
    "from langfuse.callback import CallbackHandler\n",
    "handler = CallbackHandler(os.environ.get(\"LF_PK\"), os.environ.get(\"LF_SK\"), os.environ.get(\"LF_HOST\"))"
   ]
  },
  {
   "cell_type": "code",
   "execution_count": 8,
   "metadata": {},
   "outputs": [],
   "source": [
    "def cut_length(string ,length = 250):\n",
    "    return string[0:length]"
   ]
  },
  {
   "cell_type": "code",
   "execution_count": 9,
   "metadata": {},
   "outputs": [],
   "source": [
    "\n",
    "# product1 = \"Title: \" + cut_length(str(df[\"title_left\"][1] or \"none\")) + \"\\nDescription: \" + cut_length(str(df[\"description_left\"][1] or \"none\"))\n",
    "# product2 = \"Title: \" + cut_length(str(df[\"title_right\"][1] or \"none\")) + \"\\nDescription: \" + cut_length(str(df[\"description_right\"][1] or \"none\"))\n",
    "\n",
    "\n",
    "\n",
    "# product1 = \"Title: \" + cut_length(str(df[\"title_left\"][1] or \"none\")) + \"\\nDescription: \" + cut_length(str(df[\"description_left\"][1] or \"none\")) + \"\\nBrand:\" + str(df[\"brand_left\"][1] or \"none\") \n",
    "# product2 = \"Title: \" + cut_length(str(df[\"title_right\"][1] or \"none\")) + \"\\nDescription: \" + cut_length(str(df[\"description_right\"][1] or \"none\")) + \"\\nBrand:\" + str(df[\"brand_right\"][1] or \"none\") "
   ]
  },
  {
   "cell_type": "code",
   "execution_count": 10,
   "metadata": {},
   "outputs": [],
   "source": [
    "saved_prompts_df = pd.read_csv(SAVED_PROMPTS_PATH)\n",
    "\n",
    "def saveResponse(prompt, response, isMatch, index):\n",
    "    # create new column if not exists \n",
    "    if \"prompt_\" + prompt_name not in saved_prompts_df.columns:\n",
    "        saved_prompts_df[\"prompt_\" + prompt_name] = \"\"\n",
    "        saved_prompts_df[\"response_\" + prompt_name] = \"\"\n",
    "        saved_prompts_df[\"isMatch_\" + prompt_name] = \"\"\n",
    "\n",
    "\n",
    "    \n",
    "    # save response prompt and isMatch to df at index\n",
    "    saved_prompts_df.at[index, \"prompt_\" + prompt_name] = prompt\n",
    "    saved_prompts_df.at[index, \"response_\" + prompt_name] = response\n",
    "    saved_prompts_df.at[index, \"isMatch_\" + prompt_name] = isMatch\n",
    "    \n",
    "    "
   ]
  },
  {
   "cell_type": "code",
   "execution_count": 11,
   "metadata": {},
   "outputs": [
    {
     "name": "stdout",
     "output_type": "stream",
     "text": [
      "the pocket size koss 3 band equalizer delivers high fidelity performance and output normally reserved for more expensive home systems with a 10db boost or 10db cut range of level it features a 3 band equalizer that allows for convenient and individual bass midrange and treble adjustment power output is greater than 20mw per channel providing clean and undistorted output into your favorite stereophones ergonomically designed for easy handling a rotary volume control and on off switch are placed for convenient usage \n"
     ]
    }
   ],
   "source": [
    "# print(df_products)\n",
    "df_products\n",
    "print(str(df_products[\"longdescr\"][0]))\n"
   ]
  },
  {
   "cell_type": "code",
   "execution_count": 12,
   "metadata": {},
   "outputs": [],
   "source": [
    "def evaluate(df, prompt, temp=0, start = 0):\n",
    "    # start = len(df) - start - 1\n",
    "    if (MODEL == \"gpt-3.5-turbo-instruct\"):\n",
    "        llm = OpenAI(model_name=MODEL, temperature=temp,max_tokens=MAX_TOKENS)\n",
    "        print(\"Using OpenAI\")\n",
    "    else:\n",
    "        llm = ChatOpenAI(model_name=MODEL, temperature=temp,max_tokens=MAX_TOKENS)\n",
    "    for i in range(start, len(df)):\n",
    "        print(i)\n",
    "        # Creating Prompt and sending request and printing informations\n",
    "\n",
    "        brandl = \"\"\n",
    "        brandr = \"\"\n",
    "        # if (df_products[\"brand\"][df[\"id1\"][i]-1]):\n",
    "        #     brandl = \"\\nBrand: \" + str(df_products[\"brand\"][df[\"id1\"][i]-1])\n",
    "        # if (df_products[\"brand\"][df[\"id2\"][i]-1]):\n",
    "        #     brandr = \"\\nBrand: \" + str(df_products[\"brand\"][df[\"id2\"][i]-1])\n",
    "        \n",
    "        product1 = \"Title: \" + cut_length(str(df_products[\"title\"][df[\"id1\"][i]-1] or \"none\")) +brandl+\"\\nDescription: \" + cut_length(str(df_products[\"longdescr\"][df[\"id1\"][i]-1] or \"none\")) \n",
    "        product2 = \"Title: \" + cut_length(str(df_products[\"title\"][df[\"id2\"][i]-1] or \"none\")) +brandr+ \"\\nDescription: \" + cut_length(str(df_products[\"longdescr\"][df[\"id2\"][i]-1] or \"none\")) \n",
    "\n",
    "        chain = LLMChain(llm=llm, prompt=prompt, callbacks=[handler])\n",
    "        \n",
    "        try:\n",
    "            response = chain.run(p1=product1, p2=product2, callbacks=[handler])        \n",
    "        except Exception as e:\n",
    "            print(e)\n",
    "            i -= 1\n",
    "            continue\n",
    "\n",
    "        formatted_prompt = chain.prompt.format_prompt(p1=product1, p2=product2).text\n",
    "        # if(i < 5):\n",
    "        print(formatted_prompt)\n",
    "        print(\"__\\n__\")\n",
    "        print(response)\n",
    "        print(\"__\\n__\")\n",
    "        \n",
    "        #Processing Response    \n",
    "        isMatch = False\n",
    "        if (\"True\" in response or \"true\" in response or \"yes\" in response):\n",
    "            isMatch = True\n",
    "        elif (\"False\" in response or \"false\" in response or \"no\" in response):\n",
    "            isMatch = False\n",
    "        \n",
    "        df[prompt_name][i] = isMatch\n",
    "\n",
    "\n",
    "        saveResponse(formatted_prompt, response, isMatch, i)"
   ]
  },
  {
   "cell_type": "code",
   "execution_count": 13,
   "metadata": {},
   "outputs": [
    {
     "name": "stdout",
     "output_type": "stream",
     "text": [
      "0\n",
      "Are the following two products the same?\n",
      "Product 1: Title: optoma bl fp230c replacement projector lamp bulb with housing high quality replacement lamp\n",
      "Description: this shopforbattery part number sfp 213 123271 is the premium projector lamp that replaced the optoma bl fp230c this projector lamp is a brand new lamp with new housing and tested to be 100 oem compatible it is different from other sellers that only \n",
      "Product 2: Title: optoma bl fp230c replacement projector lamp for optoma ep749 projector\n",
      "Description: none\n",
      "\n",
      "Answer with 'True' or 'False'.\n",
      "__\n",
      "__\n",
      "False\n",
      "__\n",
      "__\n",
      "1\n"
     ]
    },
    {
     "name": "stderr",
     "output_type": "stream",
     "text": [
      "/var/folders/gx/tzjwcf8x1llbhhf36mjt7xqr0000gn/T/ipykernel_90230/2705043239.py:45: SettingWithCopyWarning: \n",
      "A value is trying to be set on a copy of a slice from a DataFrame\n",
      "\n",
      "See the caveats in the documentation: https://pandas.pydata.org/pandas-docs/stable/user_guide/indexing.html#returning-a-view-versus-a-copy\n",
      "  df[prompt_name][i] = isMatch\n"
     ]
    },
    {
     "name": "stdout",
     "output_type": "stream",
     "text": [
      "Are the following two products the same?\n",
      "Product 1: Title: electrified bl fp230c sp 85r01gc01 replacement lamp with housing for optoma projectors\n",
      "Description: brand new replacement projection lamp with brand new housing for optoma projectors 150 day electrified warranty\n",
      "Product 2: Title: optoma bl fp230c replacement projector lamp for optoma ep749 projector\n",
      "Description: none\n",
      "\n",
      "Answer with 'True' or 'False'.\n",
      "__\n",
      "__\n",
      "False\n",
      "__\n",
      "__\n",
      "2\n"
     ]
    },
    {
     "name": "stderr",
     "output_type": "stream",
     "text": [
      "/var/folders/gx/tzjwcf8x1llbhhf36mjt7xqr0000gn/T/ipykernel_90230/2705043239.py:45: SettingWithCopyWarning: \n",
      "A value is trying to be set on a copy of a slice from a DataFrame\n",
      "\n",
      "See the caveats in the documentation: https://pandas.pydata.org/pandas-docs/stable/user_guide/indexing.html#returning-a-view-versus-a-copy\n",
      "  df[prompt_name][i] = isMatch\n"
     ]
    },
    {
     "name": "stdout",
     "output_type": "stream",
     "text": [
      "Are the following two products the same?\n",
      "Product 1: Title: optoma bl fp230c replacement lamp for ep749 ep719h\n",
      "Description: projector lamps drive brightness of a projector over time as the lamp starts to fade the image of the projector will fade with it optoma lamps have been specifically designed for optoma s digital projectors to extend the life and lower the total cost\n",
      "Product 2: Title: optoma bl fp230c replacement projector lamp for optoma ep749 projector\n",
      "Description: none\n",
      "\n",
      "Answer with 'True' or 'False'.\n",
      "__\n",
      "__\n",
      "True\n",
      "__\n",
      "__\n",
      "3\n"
     ]
    },
    {
     "name": "stderr",
     "output_type": "stream",
     "text": [
      "/var/folders/gx/tzjwcf8x1llbhhf36mjt7xqr0000gn/T/ipykernel_90230/2705043239.py:45: SettingWithCopyWarning: \n",
      "A value is trying to be set on a copy of a slice from a DataFrame\n",
      "\n",
      "See the caveats in the documentation: https://pandas.pydata.org/pandas-docs/stable/user_guide/indexing.html#returning-a-view-versus-a-copy\n",
      "  df[prompt_name][i] = isMatch\n"
     ]
    },
    {
     "name": "stdout",
     "output_type": "stream",
     "text": [
      "Are the following two products the same?\n",
      "Product 1: Title: tl sc3171g surveillance network camera color\n",
      "Description: tp link technologies tl sc3171g surveillance network camera color tl sc3171g surveillance amp network cameras\n",
      "Product 2: Title: tp link tl sc3171g wireless day night surveillance camera\n",
      "Description: tp link tl sc3171g wireless day night surveillance camera 1 4 progressive scan cmos sensor mechanical ir cut filter removable for true day night surveillance 12 infrared leds ensures 10 meters effective night vision range 2 way audio allows users to \n",
      "\n",
      "Answer with 'True' or 'False'.\n",
      "__\n",
      "__\n",
      "True\n",
      "__\n",
      "__\n",
      "4\n"
     ]
    },
    {
     "name": "stderr",
     "output_type": "stream",
     "text": [
      "/var/folders/gx/tzjwcf8x1llbhhf36mjt7xqr0000gn/T/ipykernel_90230/2705043239.py:45: SettingWithCopyWarning: \n",
      "A value is trying to be set on a copy of a slice from a DataFrame\n",
      "\n",
      "See the caveats in the documentation: https://pandas.pydata.org/pandas-docs/stable/user_guide/indexing.html#returning-a-view-versus-a-copy\n",
      "  df[prompt_name][i] = isMatch\n"
     ]
    },
    {
     "name": "stdout",
     "output_type": "stream",
     "text": [
      "Are the following two products the same?\n",
      "Product 1: Title: tp link tl sc3171 day and night surveillance camera\n",
      "Description: tp link tl sc3171 day night surveillance camera\n",
      "Product 2: Title: tp link tl sc3171g wireless day night surveillance camera\n",
      "Description: tp link tl sc3171g wireless day night surveillance camera 1 4 progressive scan cmos sensor mechanical ir cut filter removable for true day night surveillance 12 infrared leds ensures 10 meters effective night vision range 2 way audio allows users to \n",
      "\n",
      "Answer with 'True' or 'False'.\n",
      "__\n",
      "__\n",
      "False\n",
      "__\n",
      "__\n",
      "5\n"
     ]
    },
    {
     "name": "stderr",
     "output_type": "stream",
     "text": [
      "/var/folders/gx/tzjwcf8x1llbhhf36mjt7xqr0000gn/T/ipykernel_90230/2705043239.py:45: SettingWithCopyWarning: \n",
      "A value is trying to be set on a copy of a slice from a DataFrame\n",
      "\n",
      "See the caveats in the documentation: https://pandas.pydata.org/pandas-docs/stable/user_guide/indexing.html#returning-a-view-versus-a-copy\n",
      "  df[prompt_name][i] = isMatch\n"
     ]
    },
    {
     "name": "stdout",
     "output_type": "stream",
     "text": [
      "Are the following two products the same?\n",
      "Product 1: Title: tp link tl sc3171g wireless day and night surveillance camera\n",
      "Description: tp link tl sc3171g wireless day night surveillance camera\n",
      "Product 2: Title: tp link tl sc3171g wireless day night surveillance camera\n",
      "Description: tp link tl sc3171g wireless day night surveillance camera 1 4 progressive scan cmos sensor mechanical ir cut filter removable for true day night surveillance 12 infrared leds ensures 10 meters effective night vision range 2 way audio allows users to \n",
      "\n",
      "Answer with 'True' or 'False'.\n",
      "__\n",
      "__\n",
      "True\n",
      "__\n",
      "__\n",
      "6\n"
     ]
    },
    {
     "name": "stderr",
     "output_type": "stream",
     "text": [
      "/var/folders/gx/tzjwcf8x1llbhhf36mjt7xqr0000gn/T/ipykernel_90230/2705043239.py:45: SettingWithCopyWarning: \n",
      "A value is trying to be set on a copy of a slice from a DataFrame\n",
      "\n",
      "See the caveats in the documentation: https://pandas.pydata.org/pandas-docs/stable/user_guide/indexing.html#returning-a-view-versus-a-copy\n",
      "  df[prompt_name][i] = isMatch\n"
     ]
    },
    {
     "name": "stdout",
     "output_type": "stream",
     "text": [
      "Are the following two products the same?\n",
      "Product 1: Title: pioneer ts w2502d2 10 champion series pro subwoofer\n",
      "Description: powerful design to deliver deep bassair suspension system allows use in extremely small enclosuresrecommended enclosure 35 0 7 cu ftupc 012562940502shipping dimensions 13 50in x 13 20in x 9 90inestimated shipping weight 20 45\n",
      "Product 2: Title: pioneer ts w2502d2 10 champion series pro subwoofer\n",
      "Description: pioneer ts w2502d2 10 champion series pro subwoofer air suspension system allows use in extremely small enclosures 0 35 0 7 cubic feet maximum 3000w dual 2 ohm 4 layer long coil 1 ohm x or 4 ohm\n",
      "\n",
      "Answer with 'True' or 'False'.\n",
      "__\n",
      "__\n",
      "True\n",
      "__\n",
      "__\n",
      "7\n"
     ]
    },
    {
     "name": "stderr",
     "output_type": "stream",
     "text": [
      "/var/folders/gx/tzjwcf8x1llbhhf36mjt7xqr0000gn/T/ipykernel_90230/2705043239.py:45: SettingWithCopyWarning: \n",
      "A value is trying to be set on a copy of a slice from a DataFrame\n",
      "\n",
      "See the caveats in the documentation: https://pandas.pydata.org/pandas-docs/stable/user_guide/indexing.html#returning-a-view-versus-a-copy\n",
      "  df[prompt_name][i] = isMatch\n"
     ]
    },
    {
     "name": "stdout",
     "output_type": "stream",
     "text": [
      "Are the following two products the same?\n",
      "Product 1: Title: pioneer ts w2502d2 10 in champion series pro subwoofer with 3000 watts\n",
      "Description: pioneer s ts w2502d2 subwoofers are designed to produce powerful bass just take a look at the super heavy duty construction designed to handle up to 3 000 watts max double stacked magnets deliver higher power and a step up radial surround offers supe\n",
      "Product 2: Title: pioneer ts w2502d2 10 champion series pro subwoofer\n",
      "Description: pioneer ts w2502d2 10 champion series pro subwoofer air suspension system allows use in extremely small enclosures 0 35 0 7 cubic feet maximum 3000w dual 2 ohm 4 layer long coil 1 ohm x or 4 ohm\n",
      "\n",
      "Answer with 'True' or 'False'.\n",
      "__\n",
      "__\n",
      "True\n",
      "__\n",
      "__\n",
      "8\n"
     ]
    },
    {
     "name": "stderr",
     "output_type": "stream",
     "text": [
      "/var/folders/gx/tzjwcf8x1llbhhf36mjt7xqr0000gn/T/ipykernel_90230/2705043239.py:45: SettingWithCopyWarning: \n",
      "A value is trying to be set on a copy of a slice from a DataFrame\n",
      "\n",
      "See the caveats in the documentation: https://pandas.pydata.org/pandas-docs/stable/user_guide/indexing.html#returning-a-view-versus-a-copy\n",
      "  df[prompt_name][i] = isMatch\n"
     ]
    },
    {
     "name": "stdout",
     "output_type": "stream",
     "text": [
      "Are the following two products the same?\n",
      "Product 1: Title: new haier ptheatre 4 gb 2 pocket theater mp3 player with video herptheatre\n",
      "Description: haier ptheatre 4 gb 2 pocket theater mp3 player with video 4 gb built in memory 2 color lcd display plays mp3 amp wma 14 day free trial with rhapsody r music plays up to 2 000 songs built in speaker for easy sharing 15 hours of continuous mp3 playbac\n",
      "Product 2: Title: haier ptheatre 4gb pocket theater mp3 player\n",
      "Description: haier ptheatre 4gb pocket theater mp3 player 4gb flash memory stores up to 2 000 songs hours of videos or pictures 2 color lcd display features video playback for easier navigation and viewing of artist and song titles or playing your favorite videos\n",
      "\n",
      "Answer with 'True' or 'False'.\n",
      "__\n",
      "__\n",
      "True\n",
      "__\n",
      "__\n",
      "9\n"
     ]
    },
    {
     "name": "stderr",
     "output_type": "stream",
     "text": [
      "/var/folders/gx/tzjwcf8x1llbhhf36mjt7xqr0000gn/T/ipykernel_90230/2705043239.py:45: SettingWithCopyWarning: \n",
      "A value is trying to be set on a copy of a slice from a DataFrame\n",
      "\n",
      "See the caveats in the documentation: https://pandas.pydata.org/pandas-docs/stable/user_guide/indexing.html#returning-a-view-versus-a-copy\n",
      "  df[prompt_name][i] = isMatch\n"
     ]
    },
    {
     "name": "stdout",
     "output_type": "stream",
     "text": [
      "Are the following two products the same?\n",
      "Product 1: Title: haier pocket theatre 2 inch mp3 player with video ptheatre black\n",
      "Description: the haier ptheatre mp3 player with video is an ultra compact and lightweight music and video player it can store up to 2 000 songs in its 4gb built in memory it can play mp3 and wma files with ease and will last through 15 hours of continuous music p\n",
      "Product 2: Title: haier ptheatre 4gb pocket theater mp3 player\n",
      "Description: haier ptheatre 4gb pocket theater mp3 player 4gb flash memory stores up to 2 000 songs hours of videos or pictures 2 color lcd display features video playback for easier navigation and viewing of artist and song titles or playing your favorite videos\n",
      "\n",
      "Answer with 'True' or 'False'.\n",
      "__\n",
      "__\n",
      "True\n",
      "__\n",
      "__\n",
      "10\n"
     ]
    },
    {
     "name": "stderr",
     "output_type": "stream",
     "text": [
      "/var/folders/gx/tzjwcf8x1llbhhf36mjt7xqr0000gn/T/ipykernel_90230/2705043239.py:45: SettingWithCopyWarning: \n",
      "A value is trying to be set on a copy of a slice from a DataFrame\n",
      "\n",
      "See the caveats in the documentation: https://pandas.pydata.org/pandas-docs/stable/user_guide/indexing.html#returning-a-view-versus-a-copy\n",
      "  df[prompt_name][i] = isMatch\n"
     ]
    },
    {
     "name": "stdout",
     "output_type": "stream",
     "text": [
      "Are the following two products the same?\n",
      "Product 1: Title: haier ptheatre 4 gb 2 pocket theater mp3 player with video\n",
      "Description: 4 gb built in memory2 color lcd displayplays mp3 amp wma14 day free trial with rhapsody r musicplays up to 2000 songsbuilt in speaker for easy sharing 15 hours of continuous mp3 playback4 hours of continuous video playbackultra compact lightweight de\n",
      "Product 2: Title: haier ptheatre 4gb pocket theater mp3 player\n",
      "Description: haier ptheatre 4gb pocket theater mp3 player 4gb flash memory stores up to 2 000 songs hours of videos or pictures 2 color lcd display features video playback for easier navigation and viewing of artist and song titles or playing your favorite videos\n",
      "\n",
      "Answer with 'True' or 'False'.\n",
      "__\n",
      "__\n",
      "True\n",
      "__\n",
      "__\n",
      "11\n"
     ]
    },
    {
     "name": "stderr",
     "output_type": "stream",
     "text": [
      "/var/folders/gx/tzjwcf8x1llbhhf36mjt7xqr0000gn/T/ipykernel_90230/2705043239.py:45: SettingWithCopyWarning: \n",
      "A value is trying to be set on a copy of a slice from a DataFrame\n",
      "\n",
      "See the caveats in the documentation: https://pandas.pydata.org/pandas-docs/stable/user_guide/indexing.html#returning-a-view-versus-a-copy\n",
      "  df[prompt_name][i] = isMatch\n"
     ]
    },
    {
     "name": "stdout",
     "output_type": "stream",
     "text": [
      "Are the following two products the same?\n",
      "Product 1: Title: new lowrance 000 10236 001 elite tm 5 dsi fishfinder base lra10236001\n",
      "Description: lowrance 000 10236 001 elite tm 5 dsi fishfinder base lowrance downscan imaging tm displays clear photos of views of underwater underneath the boat clearly see boundary layer between lower cooler water amp upper warmer water where fish are located di\n",
      "Product 2: Title: lowrance elite 5 dsi fishfinder base\n",
      "Description: lowrance elite 5 dsi fishfinder base detailed photo like viewing easy to use manual fine tuning option 5 256 color tft display 480 x 480 pixels 500w rms power trackback feature built in precision gps antenna\n",
      "\n",
      "Answer with 'True' or 'False'.\n",
      "__\n",
      "__\n",
      "True\n",
      "__\n",
      "__\n",
      "12\n"
     ]
    },
    {
     "name": "stderr",
     "output_type": "stream",
     "text": [
      "/var/folders/gx/tzjwcf8x1llbhhf36mjt7xqr0000gn/T/ipykernel_90230/2705043239.py:45: SettingWithCopyWarning: \n",
      "A value is trying to be set on a copy of a slice from a DataFrame\n",
      "\n",
      "See the caveats in the documentation: https://pandas.pydata.org/pandas-docs/stable/user_guide/indexing.html#returning-a-view-versus-a-copy\n",
      "  df[prompt_name][i] = isMatch\n"
     ]
    },
    {
     "name": "stdout",
     "output_type": "stream",
     "text": [
      "Are the following two products the same?\n",
      "Product 1: Title: lowrance 000 10236 001 elite tm 5 dsi fishfinder base\n",
      "Description: lowrance 000 10236 001 elite tm 5 dsi fishfinder base lowrance downscan imaging tm displays clear photos of views of underwater underneath the boat clearly see boundary layer between lower cooler water amp upper warmer water where fish are located di\n",
      "Product 2: Title: lowrance elite 5 dsi fishfinder base\n",
      "Description: lowrance elite 5 dsi fishfinder base detailed photo like viewing easy to use manual fine tuning option 5 256 color tft display 480 x 480 pixels 500w rms power trackback feature built in precision gps antenna\n",
      "\n",
      "Answer with 'True' or 'False'.\n",
      "__\n",
      "__\n",
      "True\n",
      "__\n",
      "__\n",
      "13\n"
     ]
    },
    {
     "name": "stderr",
     "output_type": "stream",
     "text": [
      "/var/folders/gx/tzjwcf8x1llbhhf36mjt7xqr0000gn/T/ipykernel_90230/2705043239.py:45: SettingWithCopyWarning: \n",
      "A value is trying to be set on a copy of a slice from a DataFrame\n",
      "\n",
      "See the caveats in the documentation: https://pandas.pydata.org/pandas-docs/stable/user_guide/indexing.html#returning-a-view-versus-a-copy\n",
      "  df[prompt_name][i] = isMatch\n"
     ]
    },
    {
     "name": "stdout",
     "output_type": "stream",
     "text": [
      "Are the following two products the same?\n",
      "Product 1: Title: lowrance 000 10236 001 elite 5 dsi downscan imaging chartplotter fishfinder with 5 inch color lcd and basemap\n",
      "Description: with lowrance s standalone elite 5 dsi imaging fishfinder with chartplotter you re equipped with a technologically new way to look at finding and fishing hot spots clearly precisely and affordably enjoy better fishing with innovative down looking son\n",
      "Product 2: Title: lowrance elite 5 dsi fishfinder base\n",
      "Description: lowrance elite 5 dsi fishfinder base detailed photo like viewing easy to use manual fine tuning option 5 256 color tft display 480 x 480 pixels 500w rms power trackback feature built in precision gps antenna\n",
      "\n",
      "Answer with 'True' or 'False'.\n",
      "__\n",
      "__\n",
      "True\n",
      "__\n",
      "__\n",
      "14\n"
     ]
    },
    {
     "name": "stderr",
     "output_type": "stream",
     "text": [
      "/var/folders/gx/tzjwcf8x1llbhhf36mjt7xqr0000gn/T/ipykernel_90230/2705043239.py:45: SettingWithCopyWarning: \n",
      "A value is trying to be set on a copy of a slice from a DataFrame\n",
      "\n",
      "See the caveats in the documentation: https://pandas.pydata.org/pandas-docs/stable/user_guide/indexing.html#returning-a-view-versus-a-copy\n",
      "  df[prompt_name][i] = isMatch\n"
     ]
    },
    {
     "name": "stdout",
     "output_type": "stream",
     "text": [
      "Are the following two products the same?\n",
      "Product 1: Title: roocase executive leather portfolio black case cover with landscape portrait view stand for samsung galaxy tab tablet p1000 wi fi 3g\n",
      "Description: limited lifetime replacement warranty like a kangaroo safely carries her young in her pouch roocase offers protective solutions for your precious electronic possessions roocase designers work with your needs in mind ensuring that cases have not only \n",
      "Product 2: Title: roocase executive leather portfolio case for samsung galaxy tab p1000\n",
      "Description: this roocase leather cover offers optimal protection for your galaxy tab lightweight for taking galaxy tab wherever you go product material genuine leather product weight 0 40 lbs laptop compartment dimensions 7 5 dirt case weighs in at only 7 ounces\n",
      "\n",
      "Answer with 'True' or 'False'.\n",
      "__\n",
      "__\n",
      "True\n",
      "__\n",
      "__\n",
      "15\n"
     ]
    },
    {
     "name": "stderr",
     "output_type": "stream",
     "text": [
      "/var/folders/gx/tzjwcf8x1llbhhf36mjt7xqr0000gn/T/ipykernel_90230/2705043239.py:45: SettingWithCopyWarning: \n",
      "A value is trying to be set on a copy of a slice from a DataFrame\n",
      "\n",
      "See the caveats in the documentation: https://pandas.pydata.org/pandas-docs/stable/user_guide/indexing.html#returning-a-view-versus-a-copy\n",
      "  df[prompt_name][i] = isMatch\n"
     ]
    },
    {
     "name": "stdout",
     "output_type": "stream",
     "text": [
      "Are the following two products the same?\n",
      "Product 1: Title: roocase executive leather portfolio red case cover with stand for samsung galaxy tab tablet p1000 wi fi 3g\n",
      "Description: limited lifetime replacement warranty like a kangaroo safely carries her young in her pouch roocase offers protective solutions for your precious electronic possessions roocase designers work with your needs in mind ensuring that cases have not only \n",
      "Product 2: Title: roocase executive leather portfolio case for samsung galaxy tab p1000\n",
      "Description: this roocase leather cover offers optimal protection for your galaxy tab lightweight for taking galaxy tab wherever you go product material genuine leather product weight 0 40 lbs laptop compartment dimensions 7 5 dirt case weighs in at only 7 ounces\n",
      "\n",
      "Answer with 'True' or 'False'.\n",
      "__\n",
      "__\n",
      "True\n",
      "__\n",
      "__\n",
      "16\n"
     ]
    },
    {
     "name": "stderr",
     "output_type": "stream",
     "text": [
      "/var/folders/gx/tzjwcf8x1llbhhf36mjt7xqr0000gn/T/ipykernel_90230/2705043239.py:45: SettingWithCopyWarning: \n",
      "A value is trying to be set on a copy of a slice from a DataFrame\n",
      "\n",
      "See the caveats in the documentation: https://pandas.pydata.org/pandas-docs/stable/user_guide/indexing.html#returning-a-view-versus-a-copy\n",
      "  df[prompt_name][i] = isMatch\n"
     ]
    },
    {
     "name": "stdout",
     "output_type": "stream",
     "text": [
      "Are the following two products the same?\n",
      "Product 1: Title: roocase executive leather portfolio magenta case cover with stand for samsung galaxy tab tablet p1000 wi fi 3g\n",
      "Description: limited lifetime replacement warranty like a kangaroo safely carries her young in her pouch roocase offers protective solutions for your precious electronic possessions roocase designers work with your needs in mind ensuring that cases have not only \n",
      "Product 2: Title: roocase executive leather portfolio case for samsung galaxy tab p1000\n",
      "Description: this roocase leather cover offers optimal protection for your galaxy tab lightweight for taking galaxy tab wherever you go product material genuine leather product weight 0 40 lbs laptop compartment dimensions 7 5 dirt case weighs in at only 7 ounces\n",
      "\n",
      "Answer with 'True' or 'False'.\n",
      "__\n",
      "__\n",
      "True\n",
      "__\n",
      "__\n",
      "17\n"
     ]
    },
    {
     "name": "stderr",
     "output_type": "stream",
     "text": [
      "/var/folders/gx/tzjwcf8x1llbhhf36mjt7xqr0000gn/T/ipykernel_90230/2705043239.py:45: SettingWithCopyWarning: \n",
      "A value is trying to be set on a copy of a slice from a DataFrame\n",
      "\n",
      "See the caveats in the documentation: https://pandas.pydata.org/pandas-docs/stable/user_guide/indexing.html#returning-a-view-versus-a-copy\n",
      "  df[prompt_name][i] = isMatch\n"
     ]
    },
    {
     "name": "stdout",
     "output_type": "stream",
     "text": [
      "Are the following two products the same?\n",
      "Product 1: Title: new lorex lw1002w 2 wireless camera system obs systems home security\n",
      "Description: connects easily to tv dvr or vcr signal will not interfere with household wi fi network compact design for discreet placement up to 300 ft outdoor amp 100 ft indoor wireless range 10 ft night vision built in microphone for listen in audio weather res\n",
      "Product 2: Title: lorex lw1002 live wireless security cameras\n",
      "Description: lorex lw1002 live wireless security cameras connects in minutes to a tv vcr or dvd recorder compact camera design for discreet monitoring install cameras indoors or outdoors signal will not interfere with your wi fi network night vision for low light\n",
      "\n",
      "Answer with 'True' or 'False'.\n",
      "__\n",
      "__\n",
      "True\n",
      "__\n",
      "__\n",
      "18\n"
     ]
    },
    {
     "name": "stderr",
     "output_type": "stream",
     "text": [
      "/var/folders/gx/tzjwcf8x1llbhhf36mjt7xqr0000gn/T/ipykernel_90230/2705043239.py:45: SettingWithCopyWarning: \n",
      "A value is trying to be set on a copy of a slice from a DataFrame\n",
      "\n",
      "See the caveats in the documentation: https://pandas.pydata.org/pandas-docs/stable/user_guide/indexing.html#returning-a-view-versus-a-copy\n",
      "  df[prompt_name][i] = isMatch\n"
     ]
    },
    {
     "name": "stdout",
     "output_type": "stream",
     "text": [
      "Are the following two products the same?\n",
      "Product 1: Title: lorex live lw1002w cctv camera outdoor weatherproof color day night 360 tvl audio pack of 2\n",
      "Description: connects in minutes to a tv vcr or dvd recordercompact camera design for discreet monitoringinstall cameras indoors or outdoorssignal will not interfere with your wi fi networknight vision for low light viewing up to 10 feetautomatic or manual camera\n",
      "Product 2: Title: lorex lw1002 live wireless security cameras\n",
      "Description: lorex lw1002 live wireless security cameras connects in minutes to a tv vcr or dvd recorder compact camera design for discreet monitoring install cameras indoors or outdoors signal will not interfere with your wi fi network night vision for low light\n",
      "\n",
      "Answer with 'True' or 'False'.\n",
      "__\n",
      "__\n",
      "True\n",
      "__\n",
      "__\n",
      "19\n"
     ]
    },
    {
     "name": "stderr",
     "output_type": "stream",
     "text": [
      "/var/folders/gx/tzjwcf8x1llbhhf36mjt7xqr0000gn/T/ipykernel_90230/2705043239.py:45: SettingWithCopyWarning: \n",
      "A value is trying to be set on a copy of a slice from a DataFrame\n",
      "\n",
      "See the caveats in the documentation: https://pandas.pydata.org/pandas-docs/stable/user_guide/indexing.html#returning-a-view-versus-a-copy\n",
      "  df[prompt_name][i] = isMatch\n"
     ]
    },
    {
     "name": "stdout",
     "output_type": "stream",
     "text": [
      "Are the following two products the same?\n",
      "Product 1: Title: xantech 283dmw designer blink emitter single mini wire\n",
      "Description: visible low output mini emitter deep purple lexan shell clear adhesive film included on emitter housing for attachment to ir window of controlled component two 5 pieces of double sided clear adhesive tape included for replacement purposes lead is ter\n",
      "Product 2: Title: xantech 283dmw designer blink emitter single mini wire\n",
      "Description: xantech designer blink emitter single mini wire clear adhesive film 2 x 0 5 pieces of double sided clear adhesive tape 3 5mm mono mini plug 6 mini wire deep purple lexan shell\n",
      "\n",
      "Answer with 'True' or 'False'.\n",
      "__\n",
      "__\n",
      "True\n",
      "__\n",
      "__\n",
      "20\n"
     ]
    },
    {
     "name": "stderr",
     "output_type": "stream",
     "text": [
      "/var/folders/gx/tzjwcf8x1llbhhf36mjt7xqr0000gn/T/ipykernel_90230/2705043239.py:45: SettingWithCopyWarning: \n",
      "A value is trying to be set on a copy of a slice from a DataFrame\n",
      "\n",
      "See the caveats in the documentation: https://pandas.pydata.org/pandas-docs/stable/user_guide/indexing.html#returning-a-view-versus-a-copy\n",
      "  df[prompt_name][i] = isMatch\n"
     ]
    },
    {
     "name": "stdout",
     "output_type": "stream",
     "text": [
      "Are the following two products the same?\n",
      "Product 1: Title: xantech 283dmw designer blink emitter single mini wire\n",
      "Description: visible low output mini emitter deep purple lexan shell clear adhesive film included on emitter housing for attachment to ir window of controlled component two 5 pieces of double sided clear adhesive tape included for replacement purposes lead is ter\n",
      "Product 2: Title: xantech 283dmw designer blink emitter single mini wire\n",
      "Description: xantech designer blink emitter single mini wire clear adhesive film 2 x 0 5 pieces of double sided clear adhesive tape 3 5mm mono mini plug 6 mini wire deep purple lexan shell\n",
      "\n",
      "Answer with 'True' or 'False'.\n",
      "__\n",
      "__\n",
      "True\n",
      "__\n",
      "__\n",
      "21\n"
     ]
    },
    {
     "name": "stderr",
     "output_type": "stream",
     "text": [
      "/var/folders/gx/tzjwcf8x1llbhhf36mjt7xqr0000gn/T/ipykernel_90230/2705043239.py:45: SettingWithCopyWarning: \n",
      "A value is trying to be set on a copy of a slice from a DataFrame\n",
      "\n",
      "See the caveats in the documentation: https://pandas.pydata.org/pandas-docs/stable/user_guide/indexing.html#returning-a-view-versus-a-copy\n",
      "  df[prompt_name][i] = isMatch\n"
     ]
    },
    {
     "name": "stdout",
     "output_type": "stream",
     "text": [
      "Are the following two products the same?\n",
      "Product 1: Title: xantech 283dmw designer blink emitter single mini wire\n",
      "Description: visible low output mini emitterdeep purple lexan shellclear adhesive film included on emitter housing for attachment to ir window of controlled componenttwo 5 pieces of double sided clear adhesive tape included for replacement purposeslead is termina\n",
      "Product 2: Title: xantech 283dmw designer blink emitter single mini wire\n",
      "Description: xantech designer blink emitter single mini wire clear adhesive film 2 x 0 5 pieces of double sided clear adhesive tape 3 5mm mono mini plug 6 mini wire deep purple lexan shell\n",
      "\n",
      "Answer with 'True' or 'False'.\n",
      "__\n",
      "__\n",
      "True\n",
      "__\n",
      "__\n",
      "22\n"
     ]
    },
    {
     "name": "stderr",
     "output_type": "stream",
     "text": [
      "/var/folders/gx/tzjwcf8x1llbhhf36mjt7xqr0000gn/T/ipykernel_90230/2705043239.py:45: SettingWithCopyWarning: \n",
      "A value is trying to be set on a copy of a slice from a DataFrame\n",
      "\n",
      "See the caveats in the documentation: https://pandas.pydata.org/pandas-docs/stable/user_guide/indexing.html#returning-a-view-versus-a-copy\n",
      "  df[prompt_name][i] = isMatch\n"
     ]
    },
    {
     "name": "stdout",
     "output_type": "stream",
     "text": [
      "Are the following two products the same?\n",
      "Product 1: Title: xerox 108r00579 108r00579 transfer roller\n",
      "Description: get consistent performance high quality output reliability saves time and increases productivity supplies are easy to install and maintain device types n a oem compatible oem page yield 100000 supply type transfer roller \n",
      "Product 2: Title: xerox 108r00579 transfer roller\n",
      "Description: print technology laser page yield 100 000 pages compatible with the xerox phaser 7500\n",
      "\n",
      "Answer with 'True' or 'False'.\n",
      "__\n",
      "__\n",
      "True\n",
      "__\n",
      "__\n",
      "23\n"
     ]
    },
    {
     "name": "stderr",
     "output_type": "stream",
     "text": [
      "/var/folders/gx/tzjwcf8x1llbhhf36mjt7xqr0000gn/T/ipykernel_90230/2705043239.py:45: SettingWithCopyWarning: \n",
      "A value is trying to be set on a copy of a slice from a DataFrame\n",
      "\n",
      "See the caveats in the documentation: https://pandas.pydata.org/pandas-docs/stable/user_guide/indexing.html#returning-a-view-versus-a-copy\n",
      "  df[prompt_name][i] = isMatch\n"
     ]
    },
    {
     "name": "stdout",
     "output_type": "stream",
     "text": [
      "Are the following two products the same?\n",
      "Product 1: Title: xerox 108r00579 transfer roller for xerox phaser 7750 laser printer\n",
      "Description: transfer roller for xerox phaser 7750 laser printer\n",
      "Product 2: Title: xerox 108r00579 transfer roller\n",
      "Description: print technology laser page yield 100 000 pages compatible with the xerox phaser 7500\n",
      "\n",
      "Answer with 'True' or 'False'.\n",
      "__\n",
      "__\n",
      "False\n",
      "__\n",
      "__\n",
      "24\n"
     ]
    },
    {
     "name": "stderr",
     "output_type": "stream",
     "text": [
      "/var/folders/gx/tzjwcf8x1llbhhf36mjt7xqr0000gn/T/ipykernel_90230/2705043239.py:45: SettingWithCopyWarning: \n",
      "A value is trying to be set on a copy of a slice from a DataFrame\n",
      "\n",
      "See the caveats in the documentation: https://pandas.pydata.org/pandas-docs/stable/user_guide/indexing.html#returning-a-view-versus-a-copy\n",
      "  df[prompt_name][i] = isMatch\n"
     ]
    },
    {
     "name": "stdout",
     "output_type": "stream",
     "text": [
      "Are the following two products the same?\n",
      "Product 1: Title: new xerox 108r00579 108r00579 transfer roller xer108r00579\n",
      "Description: get consistent performance high quality output reliability saves time and increases productivity supplies are easy to install and maintain device types n a oem compatible oem page yield 100000 supply type transfer roller color printer laser printer p\n",
      "Product 2: Title: xerox 108r00579 transfer roller\n",
      "Description: print technology laser page yield 100 000 pages compatible with the xerox phaser 7500\n",
      "\n",
      "Answer with 'True' or 'False'.\n",
      "__\n",
      "__\n",
      "True\n",
      "__\n",
      "__\n",
      "25\n"
     ]
    },
    {
     "name": "stderr",
     "output_type": "stream",
     "text": [
      "/var/folders/gx/tzjwcf8x1llbhhf36mjt7xqr0000gn/T/ipykernel_90230/2705043239.py:45: SettingWithCopyWarning: \n",
      "A value is trying to be set on a copy of a slice from a DataFrame\n",
      "\n",
      "See the caveats in the documentation: https://pandas.pydata.org/pandas-docs/stable/user_guide/indexing.html#returning-a-view-versus-a-copy\n",
      "  df[prompt_name][i] = isMatch\n"
     ]
    },
    {
     "name": "stdout",
     "output_type": "stream",
     "text": [
      "Are the following two products the same?\n",
      "Product 1: Title: sharp el 1192bl desktop 2 color printing calculator\n",
      "Description: the imposing el 1192bl calculator is all business from the no nonsense layout and extra keys designed to meet the needs of businesses to the integrated printer and large clear display this is one calculator that doesn t mess around it feels strange c\n",
      "Product 2: Title: sharp el1192bl printing calculator\n",
      "Description: printing calculator 12 character lcd 31ps printing speed 4 key memory functions include mark up item counter rounding double zero and adding mode\n",
      "\n",
      "Answer with 'True' or 'False'.\n",
      "__\n",
      "__\n",
      "True\n",
      "__\n",
      "__\n",
      "26\n"
     ]
    },
    {
     "name": "stderr",
     "output_type": "stream",
     "text": [
      "/var/folders/gx/tzjwcf8x1llbhhf36mjt7xqr0000gn/T/ipykernel_90230/2705043239.py:45: SettingWithCopyWarning: \n",
      "A value is trying to be set on a copy of a slice from a DataFrame\n",
      "\n",
      "See the caveats in the documentation: https://pandas.pydata.org/pandas-docs/stable/user_guide/indexing.html#returning-a-view-versus-a-copy\n",
      "  df[prompt_name][i] = isMatch\n"
     ]
    },
    {
     "name": "stdout",
     "output_type": "stream",
     "text": [
      "Are the following two products the same?\n",
      "Product 1: Title: new sharp el1192bl el1192bl two color printing calculator 12 digit lcd black red shrel1192bl\n",
      "Description: pc touch keyboard memory plus memory minus recall and clear memory keys large 18 7 mm digit size for easy reading of display prints positive numbers in black negative numbers in red on standard paper roll power source s ac display notation numeric nu\n",
      "Product 2: Title: sharp el1192bl printing calculator\n",
      "Description: printing calculator 12 character lcd 31ps printing speed 4 key memory functions include mark up item counter rounding double zero and adding mode\n",
      "\n",
      "Answer with 'True' or 'False'.\n",
      "__\n",
      "__\n",
      "True\n",
      "__\n",
      "__\n",
      "27\n"
     ]
    },
    {
     "name": "stderr",
     "output_type": "stream",
     "text": [
      "/var/folders/gx/tzjwcf8x1llbhhf36mjt7xqr0000gn/T/ipykernel_90230/2705043239.py:45: SettingWithCopyWarning: \n",
      "A value is trying to be set on a copy of a slice from a DataFrame\n",
      "\n",
      "See the caveats in the documentation: https://pandas.pydata.org/pandas-docs/stable/user_guide/indexing.html#returning-a-view-versus-a-copy\n",
      "  df[prompt_name][i] = isMatch\n"
     ]
    },
    {
     "name": "stdout",
     "output_type": "stream",
     "text": [
      "Are the following two products the same?\n",
      "Product 1: Title: sharp el1192bl two color printing calculator calculator prting desktop pack of2\n",
      "Description: pc touch keyboard memory plus memory minus recall and clear memory keys large 18 7 mm digit size for easy reading of display pc touch keyboard memory plus memory minus recall and clear memory keys large 18 7 mm digit size for easy reading of display \n",
      "Product 2: Title: sharp el1192bl printing calculator\n",
      "Description: printing calculator 12 character lcd 31ps printing speed 4 key memory functions include mark up item counter rounding double zero and adding mode\n",
      "\n",
      "Answer with 'True' or 'False'.\n",
      "__\n",
      "__\n",
      "False\n",
      "__\n",
      "__\n",
      "28\n"
     ]
    },
    {
     "name": "stderr",
     "output_type": "stream",
     "text": [
      "/var/folders/gx/tzjwcf8x1llbhhf36mjt7xqr0000gn/T/ipykernel_90230/2705043239.py:45: SettingWithCopyWarning: \n",
      "A value is trying to be set on a copy of a slice from a DataFrame\n",
      "\n",
      "See the caveats in the documentation: https://pandas.pydata.org/pandas-docs/stable/user_guide/indexing.html#returning-a-view-versus-a-copy\n",
      "  df[prompt_name][i] = isMatch\n"
     ]
    },
    {
     "name": "stdout",
     "output_type": "stream",
     "text": [
      "Are the following two products the same?\n",
      "Product 1: Title: avery 5029 clear self adhesive filing labels 3 7 16 x 2 3 30 sheet 450 pack\n",
      "Description: labels blend with file folder s background color to create a custom printed look guaranteed printer performance in hp canon epson and other popular printers \n",
      "Product 2: Title: avery self adhesive filing labels 1 3 cut 3 7 16 x 2 3 clear 450 pack\n",
      "Description: avery self adhesive filing labels clear 1 3 cut filing labels create as custom look clear labels virtually disappear on tabs labels come in a pack of 450 labels are 3 7 16\n",
      "\n",
      "Answer with 'True' or 'False'.\n",
      "__\n",
      "__\n",
      "True\n",
      "__\n",
      "__\n",
      "29\n"
     ]
    },
    {
     "name": "stderr",
     "output_type": "stream",
     "text": [
      "/var/folders/gx/tzjwcf8x1llbhhf36mjt7xqr0000gn/T/ipykernel_90230/2705043239.py:45: SettingWithCopyWarning: \n",
      "A value is trying to be set on a copy of a slice from a DataFrame\n",
      "\n",
      "See the caveats in the documentation: https://pandas.pydata.org/pandas-docs/stable/user_guide/indexing.html#returning-a-view-versus-a-copy\n",
      "  df[prompt_name][i] = isMatch\n"
     ]
    },
    {
     "name": "stdout",
     "output_type": "stream",
     "text": [
      "Are the following two products the same?\n",
      "Product 1: Title: avery 5029 self adhesive filing labels 1 3 cut 2 3 x 3 7 16 clear 450 pack\n",
      "Description: clear labels virtually disappear on tabs for easy color coding and a custom professional look permanent adhesive is guaranteed to stick and stay easy to use with free avery templates and software see product package for details laser and inkjet compa\n",
      "Product 2: Title: avery self adhesive filing labels 1 3 cut 3 7 16 x 2 3 clear 450 pack\n",
      "Description: avery self adhesive filing labels clear 1 3 cut filing labels create as custom look clear labels virtually disappear on tabs labels come in a pack of 450 labels are 3 7 16\n",
      "\n",
      "Answer with 'True' or 'False'.\n",
      "__\n",
      "__\n",
      "True\n",
      "__\n",
      "__\n",
      "30\n"
     ]
    },
    {
     "name": "stderr",
     "output_type": "stream",
     "text": [
      "/var/folders/gx/tzjwcf8x1llbhhf36mjt7xqr0000gn/T/ipykernel_90230/2705043239.py:45: SettingWithCopyWarning: \n",
      "A value is trying to be set on a copy of a slice from a DataFrame\n",
      "\n",
      "See the caveats in the documentation: https://pandas.pydata.org/pandas-docs/stable/user_guide/indexing.html#returning-a-view-versus-a-copy\n",
      "  df[prompt_name][i] = isMatch\n"
     ]
    },
    {
     "name": "stdout",
     "output_type": "stream",
     "text": [
      "Are the following two products the same?\n",
      "Product 1: Title: new avery 5029 self adhesive filing labels 1 3 cut 2 3 x 3 7 16 clear 450 pack ave5029\n",
      "Description: clear labels virtually disappear on tabs for easy color coding and a custom professional look permanent adhesive is guaranteed to stick and stay easy to use with free avery templates and software laser and inkjet compatible label size text 2 3 x 3 7 \n",
      "Product 2: Title: avery self adhesive filing labels 1 3 cut 3 7 16 x 2 3 clear 450 pack\n",
      "Description: avery self adhesive filing labels clear 1 3 cut filing labels create as custom look clear labels virtually disappear on tabs labels come in a pack of 450 labels are 3 7 16\n",
      "\n",
      "Answer with 'True' or 'False'.\n",
      "__\n",
      "__\n",
      "True\n",
      "__\n",
      "__\n",
      "31\n"
     ]
    },
    {
     "name": "stderr",
     "output_type": "stream",
     "text": [
      "/var/folders/gx/tzjwcf8x1llbhhf36mjt7xqr0000gn/T/ipykernel_90230/2705043239.py:45: SettingWithCopyWarning: \n",
      "A value is trying to be set on a copy of a slice from a DataFrame\n",
      "\n",
      "See the caveats in the documentation: https://pandas.pydata.org/pandas-docs/stable/user_guide/indexing.html#returning-a-view-versus-a-copy\n",
      "  df[prompt_name][i] = isMatch\n"
     ]
    },
    {
     "name": "stdout",
     "output_type": "stream",
     "text": [
      "Are the following two products the same?\n",
      "Product 1: Title: epson amer matte presentation paper 27 lbs matte 8 1 2 x 11 100 sheets pack\n",
      "Description: epson presentation paper matte is a smooth non glare instant drying paper for scrapbooks newsletters and graphical presentations mil thickness 4 9 weight 27lb iso brightness 90 opacity 90 \n",
      "Product 2: Title: epson s041062 presentation paper\n",
      "Description: bright white matte presentation paper for use with inkjet printers ideal for newsletters proposals and flyers with photos\n",
      "\n",
      "Answer with 'True' or 'False'.\n",
      "__\n",
      "__\n",
      "False\n",
      "__\n",
      "__\n",
      "32\n"
     ]
    },
    {
     "name": "stderr",
     "output_type": "stream",
     "text": [
      "/var/folders/gx/tzjwcf8x1llbhhf36mjt7xqr0000gn/T/ipykernel_90230/2705043239.py:45: SettingWithCopyWarning: \n",
      "A value is trying to be set on a copy of a slice from a DataFrame\n",
      "\n",
      "See the caveats in the documentation: https://pandas.pydata.org/pandas-docs/stable/user_guide/indexing.html#returning-a-view-versus-a-copy\n",
      "  df[prompt_name][i] = isMatch\n"
     ]
    },
    {
     "name": "stdout",
     "output_type": "stream",
     "text": [
      "Are the following two products the same?\n",
      "Product 1: Title: epson s041062 matte presentation paper 27 lbs matte 8 1 2 x 11 100 sheets pack\n",
      "Description: smooth finish means you get colorful graphic images and razor sharp black text bright white coated paper is ideal for newsletters flyers reports or special presentations containing photos or graphics guaranteed to work with all inkjet printers size 8\n",
      "Product 2: Title: epson s041062 presentation paper\n",
      "Description: bright white matte presentation paper for use with inkjet printers ideal for newsletters proposals and flyers with photos\n",
      "\n",
      "Answer with 'True' or 'False'.\n",
      "__\n",
      "__\n",
      "True\n",
      "__\n",
      "__\n",
      "33\n"
     ]
    },
    {
     "name": "stderr",
     "output_type": "stream",
     "text": [
      "/var/folders/gx/tzjwcf8x1llbhhf36mjt7xqr0000gn/T/ipykernel_90230/2705043239.py:45: SettingWithCopyWarning: \n",
      "A value is trying to be set on a copy of a slice from a DataFrame\n",
      "\n",
      "See the caveats in the documentation: https://pandas.pydata.org/pandas-docs/stable/user_guide/indexing.html#returning-a-view-versus-a-copy\n",
      "  df[prompt_name][i] = isMatch\n"
     ]
    },
    {
     "name": "stdout",
     "output_type": "stream",
     "text": [
      "Are the following two products the same?\n",
      "Product 1: Title: epson s041062 presentation inkjet letter paper 100 sheets\n",
      "Description: its smooth matte finish means you get colorful graphic images and razor sharp black text bright white coated paper is ideal for newsletters flyers reports or special presentations containing photos or graphics guaranteed to work with all inkjet print\n",
      "Product 2: Title: epson s041062 presentation paper\n",
      "Description: bright white matte presentation paper for use with inkjet printers ideal for newsletters proposals and flyers with photos\n",
      "\n",
      "Answer with 'True' or 'False'.\n",
      "__\n",
      "__\n",
      "True\n",
      "__\n",
      "__\n",
      "34\n"
     ]
    },
    {
     "name": "stderr",
     "output_type": "stream",
     "text": [
      "/var/folders/gx/tzjwcf8x1llbhhf36mjt7xqr0000gn/T/ipykernel_90230/2705043239.py:45: SettingWithCopyWarning: \n",
      "A value is trying to be set on a copy of a slice from a DataFrame\n",
      "\n",
      "See the caveats in the documentation: https://pandas.pydata.org/pandas-docs/stable/user_guide/indexing.html#returning-a-view-versus-a-copy\n",
      "  df[prompt_name][i] = isMatch\n"
     ]
    },
    {
     "name": "stdout",
     "output_type": "stream",
     "text": [
      "Are the following two products the same?\n",
      "Product 1: Title: ape case digital camera case with fold out wallet ac252\n",
      "Description: ape case digital camera case with fold out wallet ac252 leave your purse or wallet at home with norazza s digital camera case that folds out to a multi pocket wallet with plenty of room for credit cards passport digital media cards money travelers ch\n",
      "Product 2: Title: can be clipped onto a stroller belt or bicycle or simply hung around your neck or shoulder with the straps included in the package\n",
      "Description:  key features benefits compact design\n",
      "\n",
      "Answer with 'True' or 'False'.\n",
      "__\n",
      "__\n",
      "False\n",
      "__\n",
      "__\n",
      "35\n"
     ]
    },
    {
     "name": "stderr",
     "output_type": "stream",
     "text": [
      "/var/folders/gx/tzjwcf8x1llbhhf36mjt7xqr0000gn/T/ipykernel_90230/2705043239.py:45: SettingWithCopyWarning: \n",
      "A value is trying to be set on a copy of a slice from a DataFrame\n",
      "\n",
      "See the caveats in the documentation: https://pandas.pydata.org/pandas-docs/stable/user_guide/indexing.html#returning-a-view-versus-a-copy\n",
      "  df[prompt_name][i] = isMatch\n"
     ]
    },
    {
     "name": "stdout",
     "output_type": "stream",
     "text": [
      "Are the following two products the same?\n",
      "Product 1: Title: ape case ac252 tri fold travel wallet digital camera case\n",
      "Description: folds out to a multi pocket wallet with plenty of room for credit cards passport digital media cards amp more compact design with 13 pockets amp compartments includes removable deluxe comfort shoulder strap amp belt strap black exterior amp yellow in\n",
      "Product 2: Title: can be clipped onto a stroller belt or bicycle or simply hung around your neck or shoulder with the straps included in the package\n",
      "Description:  key features benefits compact design\n",
      "\n",
      "Answer with 'True' or 'False'.\n",
      "__\n",
      "__\n",
      "False\n",
      "__\n",
      "__\n",
      "36\n"
     ]
    },
    {
     "name": "stderr",
     "output_type": "stream",
     "text": [
      "/var/folders/gx/tzjwcf8x1llbhhf36mjt7xqr0000gn/T/ipykernel_90230/2705043239.py:45: SettingWithCopyWarning: \n",
      "A value is trying to be set on a copy of a slice from a DataFrame\n",
      "\n",
      "See the caveats in the documentation: https://pandas.pydata.org/pandas-docs/stable/user_guide/indexing.html#returning-a-view-versus-a-copy\n",
      "  df[prompt_name][i] = isMatch\n"
     ]
    },
    {
     "name": "stdout",
     "output_type": "stream",
     "text": [
      "Are the following two products the same?\n",
      "Product 1: Title: ape case ac252 tri fold travel wallet digital camera case camcorder bags camera bags\n",
      "Description: ape case ac252 tri fold travel wallet amp digital camera case folds out to a multi pocket wallet with plenty of room for credit cards passport digital media cards amp more compact design with 13 pockets amp compartments includes removable deluxe comf\n",
      "Product 2: Title: can be clipped onto a stroller belt or bicycle or simply hung around your neck or shoulder with the straps included in the package\n",
      "Description:  key features benefits compact design\n",
      "\n",
      "Answer with 'True' or 'False'.\n",
      "__\n",
      "__\n",
      "False\n",
      "__\n",
      "__\n",
      "37\n"
     ]
    },
    {
     "name": "stderr",
     "output_type": "stream",
     "text": [
      "/var/folders/gx/tzjwcf8x1llbhhf36mjt7xqr0000gn/T/ipykernel_90230/2705043239.py:45: SettingWithCopyWarning: \n",
      "A value is trying to be set on a copy of a slice from a DataFrame\n",
      "\n",
      "See the caveats in the documentation: https://pandas.pydata.org/pandas-docs/stable/user_guide/indexing.html#returning-a-view-versus-a-copy\n",
      "  df[prompt_name][i] = isMatch\n"
     ]
    },
    {
     "name": "stdout",
     "output_type": "stream",
     "text": [
      "Are the following two products the same?\n",
      "Product 1: Title: hp scanjet 5590 digital flatbed scanner\n",
      "Description: get fast preview scans one touch operation convenient copy center buttons and hp photo amp imaging software for graphics and digital photography with this automatic document feeding duplexing scanner that holds up to 50 pages plus the innovative desi\n",
      "Product 2: Title: hp scanjet 5590 digital flatbed scanner\n",
      "Description: technical information image sensor ccd charge coupled device scan resolution 2400 dpi optical 2400 x 2400 dpi hardware 999999 dpi enhanced bit depth 48 bit color 8 bit grayscale media types plain paper s photo s envelope s label s card s iron on tran\n",
      "\n",
      "Answer with 'True' or 'False'.\n",
      "__\n",
      "__\n",
      "True\n",
      "__\n",
      "__\n",
      "38\n"
     ]
    },
    {
     "name": "stderr",
     "output_type": "stream",
     "text": [
      "/var/folders/gx/tzjwcf8x1llbhhf36mjt7xqr0000gn/T/ipykernel_90230/2705043239.py:45: SettingWithCopyWarning: \n",
      "A value is trying to be set on a copy of a slice from a DataFrame\n",
      "\n",
      "See the caveats in the documentation: https://pandas.pydata.org/pandas-docs/stable/user_guide/indexing.html#returning-a-view-versus-a-copy\n",
      "  df[prompt_name][i] = isMatch\n"
     ]
    },
    {
     "name": "stdout",
     "output_type": "stream",
     "text": [
      "Are the following two products the same?\n",
      "Product 1: Title: hp scanjet 5590 digital flatbed scanner flatbed scanner duplex legal 2400 dpi x 2400 dpi adf 50 sheets hi speed usb\n",
      "Description: the hp scanjet 5590 digital flatbed usb scanner is designed for home office small office users who want to digitize multi page paper documents keyfeaturesinclude fast automatic processing of two sided documents and the versatility to scan transparent\n",
      "Product 2: Title: hp scanjet 5590 digital flatbed scanner\n",
      "Description: technical information image sensor ccd charge coupled device scan resolution 2400 dpi optical 2400 x 2400 dpi hardware 999999 dpi enhanced bit depth 48 bit color 8 bit grayscale media types plain paper s photo s envelope s label s card s iron on tran\n",
      "\n",
      "Answer with 'True' or 'False'.\n",
      "__\n",
      "__\n",
      "True\n",
      "__\n",
      "__\n",
      "39\n"
     ]
    },
    {
     "name": "stderr",
     "output_type": "stream",
     "text": [
      "/var/folders/gx/tzjwcf8x1llbhhf36mjt7xqr0000gn/T/ipykernel_90230/2705043239.py:45: SettingWithCopyWarning: \n",
      "A value is trying to be set on a copy of a slice from a DataFrame\n",
      "\n",
      "See the caveats in the documentation: https://pandas.pydata.org/pandas-docs/stable/user_guide/indexing.html#returning-a-view-versus-a-copy\n",
      "  df[prompt_name][i] = isMatch\n"
     ]
    },
    {
     "name": "stdout",
     "output_type": "stream",
     "text": [
      "Are the following two products the same?\n",
      "Product 1: Title: hp scanjet 5590 digital flatbed scanner flatbed scanner letter 2400 dpi x 2400 dpi adf 50 sheets hi speed usb\n",
      "Description: automatic document feeder allows unattended two sided multi page scanning one touch buttons let you scan copy print e mail and more hi speed usb 2 0 connection plug and play operation preview scans within seven seconds for maximum productivity conven\n",
      "Product 2: Title: hp scanjet 5590 digital flatbed scanner\n",
      "Description: technical information image sensor ccd charge coupled device scan resolution 2400 dpi optical 2400 x 2400 dpi hardware 999999 dpi enhanced bit depth 48 bit color 8 bit grayscale media types plain paper s photo s envelope s label s card s iron on tran\n",
      "\n",
      "Answer with 'True' or 'False'.\n",
      "__\n",
      "__\n",
      "True\n",
      "__\n",
      "__\n",
      "40\n"
     ]
    },
    {
     "name": "stderr",
     "output_type": "stream",
     "text": [
      "/var/folders/gx/tzjwcf8x1llbhhf36mjt7xqr0000gn/T/ipykernel_90230/2705043239.py:45: SettingWithCopyWarning: \n",
      "A value is trying to be set on a copy of a slice from a DataFrame\n",
      "\n",
      "See the caveats in the documentation: https://pandas.pydata.org/pandas-docs/stable/user_guide/indexing.html#returning-a-view-versus-a-copy\n",
      "  df[prompt_name][i] = isMatch\n"
     ]
    },
    {
     "name": "stdout",
     "output_type": "stream",
     "text": [
      "Are the following two products the same?\n",
      "Product 1: Title: 25 component video cable\n",
      "Description: 25ft velocity ponent video interconnect \n",
      "Product 2: Title: cables to go 03131 6ft premium universal power cord\n",
      "Description: plug connector type 1 x iec 320 c13 1 x nema 5 15p compatible with computers monitors scanners printers and devices that use a 3 pin shroud power connector cord length 6 ft \n",
      "\n",
      "Answer with 'True' or 'False'.\n",
      "__\n",
      "__\n",
      "False\n",
      "__\n",
      "__\n",
      "41\n"
     ]
    },
    {
     "name": "stderr",
     "output_type": "stream",
     "text": [
      "/var/folders/gx/tzjwcf8x1llbhhf36mjt7xqr0000gn/T/ipykernel_90230/2705043239.py:45: SettingWithCopyWarning: \n",
      "A value is trying to be set on a copy of a slice from a DataFrame\n",
      "\n",
      "See the caveats in the documentation: https://pandas.pydata.org/pandas-docs/stable/user_guide/indexing.html#returning-a-view-versus-a-copy\n",
      "  df[prompt_name][i] = isMatch\n"
     ]
    },
    {
     "name": "stdout",
     "output_type": "stream",
     "text": [
      "Are the following two products the same?\n",
      "Product 1: Title: cables to go 02300 ieee 1284 db25 male to centronics 36 male parallel printer cable 6 feet 1 82 meters beige\n",
      "Description: to enjoy the increased data rate and two way communication of your ieee 1284 compliant printer or scanner you need a cable with high quality connectors and a specialized wire type our cable exploits this technology to enable high speed bi directional\n",
      "Product 2: Title: cables to go 03131 6ft premium universal power cord\n",
      "Description: plug connector type 1 x iec 320 c13 1 x nema 5 15p compatible with computers monitors scanners printers and devices that use a 3 pin shroud power connector cord length 6 ft \n",
      "\n",
      "Answer with 'True' or 'False'.\n",
      "__\n",
      "__\n",
      "False\n",
      "__\n",
      "__\n",
      "42\n"
     ]
    },
    {
     "name": "stderr",
     "output_type": "stream",
     "text": [
      "/var/folders/gx/tzjwcf8x1llbhhf36mjt7xqr0000gn/T/ipykernel_90230/2705043239.py:45: SettingWithCopyWarning: \n",
      "A value is trying to be set on a copy of a slice from a DataFrame\n",
      "\n",
      "See the caveats in the documentation: https://pandas.pydata.org/pandas-docs/stable/user_guide/indexing.html#returning-a-view-versus-a-copy\n",
      "  df[prompt_name][i] = isMatch\n"
     ]
    },
    {
     "name": "stdout",
     "output_type": "stream",
     "text": [
      "Are the following two products the same?\n",
      "Product 1: Title: cables to go 30504 usb 2 0 to ide or serial ata drive adapter black\n",
      "Description: externally connect one 2 5in 3 5in or 5 25in ide atapi or sata drive to your computer via usb 2 0\n",
      "Product 2: Title: cables to go 03131 6ft premium universal power cord\n",
      "Description: plug connector type 1 x iec 320 c13 1 x nema 5 15p compatible with computers monitors scanners printers and devices that use a 3 pin shroud power connector cord length 6 ft \n",
      "\n",
      "Answer with 'True' or 'False'.\n",
      "__\n",
      "__\n",
      "False\n",
      "__\n",
      "__\n",
      "43\n"
     ]
    },
    {
     "name": "stderr",
     "output_type": "stream",
     "text": [
      "/var/folders/gx/tzjwcf8x1llbhhf36mjt7xqr0000gn/T/ipykernel_90230/2705043239.py:45: SettingWithCopyWarning: \n",
      "A value is trying to be set on a copy of a slice from a DataFrame\n",
      "\n",
      "See the caveats in the documentation: https://pandas.pydata.org/pandas-docs/stable/user_guide/indexing.html#returning-a-view-versus-a-copy\n",
      "  df[prompt_name][i] = isMatch\n"
     ]
    },
    {
     "name": "stdout",
     "output_type": "stream",
     "text": [
      "Are the following two products the same?\n",
      "Product 1: Title: cables to go 26886 usb to db9 male serial adapter blue 0 45 meters 1 5 feet\n",
      "Description: cables to go port authority usb to db9 serial adapter 26886 cable adapters\n",
      "Product 2: Title: cables to go 03131 6ft premium universal power cord\n",
      "Description: plug connector type 1 x iec 320 c13 1 x nema 5 15p compatible with computers monitors scanners printers and devices that use a 3 pin shroud power connector cord length 6 ft \n",
      "\n",
      "Answer with 'True' or 'False'.\n",
      "__\n",
      "__\n",
      "False\n",
      "__\n",
      "__\n",
      "44\n"
     ]
    },
    {
     "name": "stderr",
     "output_type": "stream",
     "text": [
      "/var/folders/gx/tzjwcf8x1llbhhf36mjt7xqr0000gn/T/ipykernel_90230/2705043239.py:45: SettingWithCopyWarning: \n",
      "A value is trying to be set on a copy of a slice from a DataFrame\n",
      "\n",
      "See the caveats in the documentation: https://pandas.pydata.org/pandas-docs/stable/user_guide/indexing.html#returning-a-view-versus-a-copy\n",
      "  df[prompt_name][i] = isMatch\n"
     ]
    },
    {
     "name": "stdout",
     "output_type": "stream",
     "text": [
      "Are the following two products the same?\n",
      "Product 1: Title: cables to go 08075 db9 m f null modem adapter\n",
      "Description: cables to go null modem adapter 08075 cable adapters\n",
      "Product 2: Title: cables to go 03131 6ft premium universal power cord\n",
      "Description: plug connector type 1 x iec 320 c13 1 x nema 5 15p compatible with computers monitors scanners printers and devices that use a 3 pin shroud power connector cord length 6 ft \n",
      "\n",
      "Answer with 'True' or 'False'.\n",
      "__\n",
      "__\n",
      "False\n",
      "__\n",
      "__\n",
      "45\n"
     ]
    },
    {
     "name": "stderr",
     "output_type": "stream",
     "text": [
      "/var/folders/gx/tzjwcf8x1llbhhf36mjt7xqr0000gn/T/ipykernel_90230/2705043239.py:45: SettingWithCopyWarning: \n",
      "A value is trying to be set on a copy of a slice from a DataFrame\n",
      "\n",
      "See the caveats in the documentation: https://pandas.pydata.org/pandas-docs/stable/user_guide/indexing.html#returning-a-view-versus-a-copy\n",
      "  df[prompt_name][i] = isMatch\n"
     ]
    },
    {
     "name": "stdout",
     "output_type": "stream",
     "text": [
      "Are the following two products the same?\n",
      "Product 1: Title: cables to go audio unlimited 900mhz wireless stereo headphones spk 9100\n",
      "Description: listen to music just about anywhere without the hassle of cumbersome wires the powerful transmitter uses 900 mhz technology to send music through walls and floors to the wireless headphone this comfortable high quality lightweight headphone is the pe\n",
      "Product 2: Title: cables to go 03131 6ft premium universal power cord\n",
      "Description: plug connector type 1 x iec 320 c13 1 x nema 5 15p compatible with computers monitors scanners printers and devices that use a 3 pin shroud power connector cord length 6 ft \n",
      "\n",
      "Answer with 'True' or 'False'.\n",
      "__\n",
      "__\n",
      "False\n",
      "__\n",
      "__\n",
      "46\n"
     ]
    },
    {
     "name": "stderr",
     "output_type": "stream",
     "text": [
      "/var/folders/gx/tzjwcf8x1llbhhf36mjt7xqr0000gn/T/ipykernel_90230/2705043239.py:45: SettingWithCopyWarning: \n",
      "A value is trying to be set on a copy of a slice from a DataFrame\n",
      "\n",
      "See the caveats in the documentation: https://pandas.pydata.org/pandas-docs/stable/user_guide/indexing.html#returning-a-view-versus-a-copy\n",
      "  df[prompt_name][i] = isMatch\n"
     ]
    },
    {
     "name": "stdout",
     "output_type": "stream",
     "text": [
      "Are the following two products the same?\n",
      "Product 1: Title: cables to go 03131 6ft premium universal power cord\n",
      "Description: plug connector type 1 x iec 320 c13 1 x nema 5 15p compatible with computers monitors scanners printers and devices that use a 3 pin shroud power connector cord length 6 ft \n",
      "Product 2: Title: cables to go 28012 10ft pro series hd15 m m svga monitor cable with ferrites black\n",
      "Description: cables to go pro series uxga monitor coaxial cable 28012 cables\n",
      "\n",
      "Answer with 'True' or 'False'.\n",
      "__\n",
      "__\n",
      "False\n",
      "__\n",
      "__\n",
      "47\n"
     ]
    },
    {
     "name": "stderr",
     "output_type": "stream",
     "text": [
      "/var/folders/gx/tzjwcf8x1llbhhf36mjt7xqr0000gn/T/ipykernel_90230/2705043239.py:45: SettingWithCopyWarning: \n",
      "A value is trying to be set on a copy of a slice from a DataFrame\n",
      "\n",
      "See the caveats in the documentation: https://pandas.pydata.org/pandas-docs/stable/user_guide/indexing.html#returning-a-view-versus-a-copy\n",
      "  df[prompt_name][i] = isMatch\n"
     ]
    },
    {
     "name": "stdout",
     "output_type": "stream",
     "text": [
      "Are the following two products the same?\n",
      "Product 1: Title: cables to go 03131 6ft premium universal power cord\n",
      "Description: plug connector type 1 x iec 320 c13 1 x nema 5 15p compatible with computers monitors scanners printers and devices that use a 3 pin shroud power connector cord length 6 ft \n",
      "Product 2: Title: cables to go 40855 rapidrun digital hdmi active wall plate\n",
      "Description: the rapidrun digital connector is designed and crafted for ultimate performance every detail works to make the system virtually transparent to the delicate digital signal like rapidrun rapidrun digital is centered on the runner cable installations ar\n",
      "\n",
      "Answer with 'True' or 'False'.\n",
      "__\n",
      "__\n",
      "False\n",
      "__\n",
      "__\n",
      "48\n"
     ]
    },
    {
     "name": "stderr",
     "output_type": "stream",
     "text": [
      "/var/folders/gx/tzjwcf8x1llbhhf36mjt7xqr0000gn/T/ipykernel_90230/2705043239.py:45: SettingWithCopyWarning: \n",
      "A value is trying to be set on a copy of a slice from a DataFrame\n",
      "\n",
      "See the caveats in the documentation: https://pandas.pydata.org/pandas-docs/stable/user_guide/indexing.html#returning-a-view-versus-a-copy\n",
      "  df[prompt_name][i] = isMatch\n"
     ]
    },
    {
     "name": "stdout",
     "output_type": "stream",
     "text": [
      "Are the following two products the same?\n",
      "Product 1: Title: cables to go 03131 6ft premium universal power cord\n",
      "Description: plug connector type 1 x iec 320 c13 1 x nema 5 15p compatible with computers monitors scanners printers and devices that use a 3 pin shroud power connector cord length 6 ft \n",
      "Product 2: Title: cables to go 40424 stereo f m rca y cable 6 inches black\n",
      "Description: converts a 3 5mm stereo jack to rca stereo plugs\n",
      "\n",
      "Answer with 'True' or 'False'.\n",
      "__\n",
      "__\n",
      "False\n",
      "__\n",
      "__\n",
      "49\n"
     ]
    },
    {
     "name": "stderr",
     "output_type": "stream",
     "text": [
      "/var/folders/gx/tzjwcf8x1llbhhf36mjt7xqr0000gn/T/ipykernel_90230/2705043239.py:45: SettingWithCopyWarning: \n",
      "A value is trying to be set on a copy of a slice from a DataFrame\n",
      "\n",
      "See the caveats in the documentation: https://pandas.pydata.org/pandas-docs/stable/user_guide/indexing.html#returning-a-view-versus-a-copy\n",
      "  df[prompt_name][i] = isMatch\n"
     ]
    },
    {
     "name": "stdout",
     "output_type": "stream",
     "text": [
      "Are the following two products the same?\n",
      "Product 1: Title: cables to go 03131 6ft premium universal power cord\n",
      "Description: plug connector type 1 x iec 320 c13 1 x nema 5 15p compatible with computers monitors scanners printers and devices that use a 3 pin shroud power connector cord length 6 ft \n",
      "Product 2: Title: cables to go 24358 multi pack 7ft cat5e 350mhz assembled cable 25 pack blue\n",
      "Description: today s advanced fast ethernet and gigabit computer networks require enhanced category 5 high speed cabling to distrubute data voice and video cables to go s enhanced cat5 350mhz patch cables will keep you ahead of the game these cables will handle b\n",
      "\n",
      "Answer with 'True' or 'False'.\n",
      "__\n",
      "__\n",
      "False\n",
      "__\n",
      "__\n",
      "50\n"
     ]
    },
    {
     "name": "stderr",
     "output_type": "stream",
     "text": [
      "/var/folders/gx/tzjwcf8x1llbhhf36mjt7xqr0000gn/T/ipykernel_90230/2705043239.py:45: SettingWithCopyWarning: \n",
      "A value is trying to be set on a copy of a slice from a DataFrame\n",
      "\n",
      "See the caveats in the documentation: https://pandas.pydata.org/pandas-docs/stable/user_guide/indexing.html#returning-a-view-versus-a-copy\n",
      "  df[prompt_name][i] = isMatch\n"
     ]
    },
    {
     "name": "stdout",
     "output_type": "stream",
     "text": [
      "Are the following two products the same?\n",
      "Product 1: Title: wrk sa series stand alone rack less rear door 27 32 d rack enclosure depth 27 1 2 d\n",
      "Description: wrk 44sa 27lrd rack enclosure depth 27 1 2 d select a wrk sa when mounting equipment that demands space for substantial cable bundles solid design and stylish beveled corners are ideal when aesthetics are an issue structural features fully welded con\n",
      "Product 2: Title: middle atlantic 12 master slave jumper for mpr series modules sold in packs of 6\n",
      "Description: df1784allows m series slave modules to be switched remotely by an rlm series master module features 12 jumper length sold in packs of 6\n",
      "\n",
      "Answer with 'True' or 'False'.\n",
      "__\n",
      "__\n",
      "False\n",
      "__\n",
      "__\n",
      "51\n"
     ]
    },
    {
     "name": "stderr",
     "output_type": "stream",
     "text": [
      "/var/folders/gx/tzjwcf8x1llbhhf36mjt7xqr0000gn/T/ipykernel_90230/2705043239.py:45: SettingWithCopyWarning: \n",
      "A value is trying to be set on a copy of a slice from a DataFrame\n",
      "\n",
      "See the caveats in the documentation: https://pandas.pydata.org/pandas-docs/stable/user_guide/indexing.html#returning-a-view-versus-a-copy\n",
      "  df[prompt_name][i] = isMatch\n"
     ]
    },
    {
     "name": "stdout",
     "output_type": "stream",
     "text": [
      "Are the following two products the same?\n",
      "Product 1: Title: wrk sa series stand alone rack less rear door 27 32 d rack enclosure depth 27 1 2 d\n",
      "Description: wrk 44sa 27lrd rack enclosure depth 27 1 2 d select a wrk sa when mounting equipment that demands space for substantial cable bundles solid design and stylish beveled corners are ideal when aesthetics are an issue structural features fully welded con\n",
      "Product 2: Title: middle atlantic long 20 outlet single 20 amp circuit thin power strip with cord\n",
      "Description: df2014pdt series thin power strips take up minimal space inside a rack and feature a unique design that allows for isolated ground configurability dual circuit models can be configured to operate as a single circuit and all models are factory assembl\n",
      "\n",
      "Answer with 'True' or 'False'.\n",
      "__\n",
      "__\n",
      "False\n",
      "__\n",
      "__\n",
      "52\n"
     ]
    },
    {
     "name": "stderr",
     "output_type": "stream",
     "text": [
      "/var/folders/gx/tzjwcf8x1llbhhf36mjt7xqr0000gn/T/ipykernel_90230/2705043239.py:45: SettingWithCopyWarning: \n",
      "A value is trying to be set on a copy of a slice from a DataFrame\n",
      "\n",
      "See the caveats in the documentation: https://pandas.pydata.org/pandas-docs/stable/user_guide/indexing.html#returning-a-view-versus-a-copy\n",
      "  df[prompt_name][i] = isMatch\n"
     ]
    },
    {
     "name": "stdout",
     "output_type": "stream",
     "text": [
      "Are the following two products the same?\n",
      "Product 1: Title: philips magnavox pm435s 4 device universal remote control\n",
      "Description: sync up your tv vcr dvd and satellite system with the philips pm435s remote control among the functions provided by the remote are subtitle repeat and chapter scan for your dvd player a picture in picture pip option with a toggle key for your tv and \n",
      "Product 2: Title: comprehensive f plug to bnc plug set of 25\n",
      "Description: ch1230these f plug to bnc plug video cables include the comprehensive cable lifetime warranty comprehensive offers a lifetime warranty on all products\n",
      "\n",
      "Answer with 'True' or 'False'.\n",
      "__\n",
      "__\n",
      "False\n",
      "__\n",
      "__\n",
      "53\n"
     ]
    },
    {
     "name": "stderr",
     "output_type": "stream",
     "text": [
      "/var/folders/gx/tzjwcf8x1llbhhf36mjt7xqr0000gn/T/ipykernel_90230/2705043239.py:45: SettingWithCopyWarning: \n",
      "A value is trying to be set on a copy of a slice from a DataFrame\n",
      "\n",
      "See the caveats in the documentation: https://pandas.pydata.org/pandas-docs/stable/user_guide/indexing.html#returning-a-view-versus-a-copy\n",
      "  df[prompt_name][i] = isMatch\n"
     ]
    },
    {
     "name": "stdout",
     "output_type": "stream",
     "text": [
      "Are the following two products the same?\n",
      "Product 1: Title: philips magnavox pm435s 4 device universal remote control\n",
      "Description: sync up your tv vcr dvd and satellite system with the philips pm435s remote control among the functions provided by the remote are subtitle repeat and chapter scan for your dvd player a picture in picture pip option with a toggle key for your tv and \n",
      "Product 2: Title: comprehensive 25 pin male connector with hood set of 25\n",
      "Description: ch1305these 25 pin male connectors with hood include the comprehensive lifetime warranty comprehensive offers a lifetime warranty on all products\n",
      "\n",
      "Answer with 'True' or 'False'.\n",
      "__\n",
      "__\n",
      "False\n",
      "__\n",
      "__\n",
      "54\n"
     ]
    },
    {
     "name": "stderr",
     "output_type": "stream",
     "text": [
      "/var/folders/gx/tzjwcf8x1llbhhf36mjt7xqr0000gn/T/ipykernel_90230/2705043239.py:45: SettingWithCopyWarning: \n",
      "A value is trying to be set on a copy of a slice from a DataFrame\n",
      "\n",
      "See the caveats in the documentation: https://pandas.pydata.org/pandas-docs/stable/user_guide/indexing.html#returning-a-view-versus-a-copy\n",
      "  df[prompt_name][i] = isMatch\n"
     ]
    },
    {
     "name": "stdout",
     "output_type": "stream",
     "text": [
      "Are the following two products the same?\n",
      "Product 1: Title: philips magnavox pm435s 4 device universal remote control\n",
      "Description: sync up your tv vcr dvd and satellite system with the philips pm435s remote control among the functions provided by the remote are subtitle repeat and chapter scan for your dvd player a picture in picture pip option with a toggle key for your tv and \n",
      "Product 2: Title: middle atlantic hdr 4 external fan option\n",
      "Description: df1758external 4 1 2 fan kit and vent blocker \n",
      "\n",
      "Answer with 'True' or 'False'.\n",
      "__\n",
      "__\n",
      "False\n",
      "__\n",
      "__\n",
      "55\n"
     ]
    },
    {
     "name": "stderr",
     "output_type": "stream",
     "text": [
      "/var/folders/gx/tzjwcf8x1llbhhf36mjt7xqr0000gn/T/ipykernel_90230/2705043239.py:45: SettingWithCopyWarning: \n",
      "A value is trying to be set on a copy of a slice from a DataFrame\n",
      "\n",
      "See the caveats in the documentation: https://pandas.pydata.org/pandas-docs/stable/user_guide/indexing.html#returning-a-view-versus-a-copy\n",
      "  df[prompt_name][i] = isMatch\n"
     ]
    },
    {
     "name": "stdout",
     "output_type": "stream",
     "text": [
      "Are the following two products the same?\n",
      "Product 1: Title: philips magnavox pm435s 4 device universal remote control\n",
      "Description: sync up your tv vcr dvd and satellite system with the philips pm435s remote control among the functions provided by the remote are subtitle repeat and chapter scan for your dvd player a picture in picture pip option with a toggle key for your tv and \n",
      "Product 2: Title: comprehensive f jack to jack barrel chassis mount set of 25\n",
      "Description: ch1224these f jack to jack video adapters come equipped with the chassis mount and barrel format as well as the comprehensive lifetime warranty comprehensive offers a lifetime warranty on all products\n",
      "\n",
      "Answer with 'True' or 'False'.\n",
      "__\n",
      "__\n",
      "False\n",
      "__\n",
      "__\n",
      "56\n"
     ]
    },
    {
     "name": "stderr",
     "output_type": "stream",
     "text": [
      "/var/folders/gx/tzjwcf8x1llbhhf36mjt7xqr0000gn/T/ipykernel_90230/2705043239.py:45: SettingWithCopyWarning: \n",
      "A value is trying to be set on a copy of a slice from a DataFrame\n",
      "\n",
      "See the caveats in the documentation: https://pandas.pydata.org/pandas-docs/stable/user_guide/indexing.html#returning-a-view-versus-a-copy\n",
      "  df[prompt_name][i] = isMatch\n"
     ]
    },
    {
     "name": "stdout",
     "output_type": "stream",
     "text": [
      "Are the following two products the same?\n",
      "Product 1: Title: philips magnavox pm435s 4 device universal remote control\n",
      "Description: sync up your tv vcr dvd and satellite system with the philips pm435s remote control among the functions provided by the remote are subtitle repeat and chapter scan for your dvd player a picture in picture pip option with a toggle key for your tv and \n",
      "Product 2: Title: philips 6 outlet 3 surge protector\n",
      "Description: philips 6 outlet 3 surge protector 345 joules 15 amp circuit breaker built in convenience 6 outlets heavy duty 3 cord model spp3160c 17\n",
      "\n",
      "Answer with 'True' or 'False'.\n",
      "__\n",
      "__\n",
      "False\n",
      "__\n",
      "__\n",
      "57\n"
     ]
    },
    {
     "name": "stderr",
     "output_type": "stream",
     "text": [
      "/var/folders/gx/tzjwcf8x1llbhhf36mjt7xqr0000gn/T/ipykernel_90230/2705043239.py:45: SettingWithCopyWarning: \n",
      "A value is trying to be set on a copy of a slice from a DataFrame\n",
      "\n",
      "See the caveats in the documentation: https://pandas.pydata.org/pandas-docs/stable/user_guide/indexing.html#returning-a-view-versus-a-copy\n",
      "  df[prompt_name][i] = isMatch\n"
     ]
    },
    {
     "name": "stdout",
     "output_type": "stream",
     "text": [
      "Are the following two products the same?\n",
      "Product 1: Title: philips magnavox pm435s 4 device universal remote control\n",
      "Description: sync up your tv vcr dvd and satellite system with the philips pm435s remote control among the functions provided by the remote are subtitle repeat and chapter scan for your dvd player a picture in picture pip option with a toggle key for your tv and \n",
      "Product 2: Title: philips vibe 4gb mp3 video player\n",
      "Description: phillips vibe 4gb mp3 video player 1 5 full color display easy navigation play mp3 wma or drm music from subscription services fm radio with rds and 20 presets for more music options on this 4gb philips mp3 video player stores up to 25 hours of music\n",
      "\n",
      "Answer with 'True' or 'False'.\n",
      "__\n",
      "__\n",
      "False\n",
      "__\n",
      "__\n",
      "58\n"
     ]
    },
    {
     "name": "stderr",
     "output_type": "stream",
     "text": [
      "/var/folders/gx/tzjwcf8x1llbhhf36mjt7xqr0000gn/T/ipykernel_90230/2705043239.py:45: SettingWithCopyWarning: \n",
      "A value is trying to be set on a copy of a slice from a DataFrame\n",
      "\n",
      "See the caveats in the documentation: https://pandas.pydata.org/pandas-docs/stable/user_guide/indexing.html#returning-a-view-versus-a-copy\n",
      "  df[prompt_name][i] = isMatch\n"
     ]
    },
    {
     "name": "stdout",
     "output_type": "stream",
     "text": [
      "Are the following two products the same?\n",
      "Product 1: Title: philips magnavox pm435s 4 device universal remote control\n",
      "Description: sync up your tv vcr dvd and satellite system with the philips pm435s remote control among the functions provided by the remote are subtitle repeat and chapter scan for your dvd player a picture in picture pip option with a toggle key for your tv and \n",
      "Product 2: Title: nxg nx 3dglrk 3d active small rechargable glasses for lg and hisense\n",
      "Description: nxg nx 3dglrk 3d active small rechargable glasses compatible with the following 2010 lg 3d ready hdtvs lx9500 lx6500 lex9 and lex8 the tv communicates with the glasses using an infrared transmitter that is integrated into the television extended ir r\n",
      "\n",
      "Answer with 'True' or 'False'.\n",
      "__\n",
      "__\n",
      "False\n",
      "__\n",
      "__\n",
      "59\n"
     ]
    },
    {
     "name": "stderr",
     "output_type": "stream",
     "text": [
      "/var/folders/gx/tzjwcf8x1llbhhf36mjt7xqr0000gn/T/ipykernel_90230/2705043239.py:45: SettingWithCopyWarning: \n",
      "A value is trying to be set on a copy of a slice from a DataFrame\n",
      "\n",
      "See the caveats in the documentation: https://pandas.pydata.org/pandas-docs/stable/user_guide/indexing.html#returning-a-view-versus-a-copy\n",
      "  df[prompt_name][i] = isMatch\n"
     ]
    },
    {
     "name": "stdout",
     "output_type": "stream",
     "text": [
      "Are the following two products the same?\n",
      "Product 1: Title: philips magnavox pm435s 4 device universal remote control\n",
      "Description: sync up your tv vcr dvd and satellite system with the philips pm435s remote control among the functions provided by the remote are subtitle repeat and chapter scan for your dvd player a picture in picture pip option with a toggle key for your tv and \n",
      "Product 2: Title: philips 6 hdmi ethernet cable\n",
      "Description: philips 6 hdmi ethernet cable hdmi ethernet channel exceeds 4x 1080p video resolution 24k gold plated connectors high purity copper copper braided reinforced aluminum flexible pvc jacket\n",
      "\n",
      "Answer with 'True' or 'False'.\n",
      "__\n",
      "__\n",
      "False\n",
      "__\n",
      "__\n",
      "60\n"
     ]
    },
    {
     "name": "stderr",
     "output_type": "stream",
     "text": [
      "/var/folders/gx/tzjwcf8x1llbhhf36mjt7xqr0000gn/T/ipykernel_90230/2705043239.py:45: SettingWithCopyWarning: \n",
      "A value is trying to be set on a copy of a slice from a DataFrame\n",
      "\n",
      "See the caveats in the documentation: https://pandas.pydata.org/pandas-docs/stable/user_guide/indexing.html#returning-a-view-versus-a-copy\n",
      "  df[prompt_name][i] = isMatch\n"
     ]
    },
    {
     "name": "stdout",
     "output_type": "stream",
     "text": [
      "Are the following two products the same?\n",
      "Product 1: Title: philips magnavox pm435s 4 device universal remote control\n",
      "Description: sync up your tv vcr dvd and satellite system with the philips pm435s remote control among the functions provided by the remote are subtitle repeat and chapter scan for your dvd player a picture in picture pip option with a toggle key for your tv and \n",
      "Product 2: Title: philips 8 outlet surge 2160 joules 4ft cord spp3301wa 17\n",
      "Description: the 8 outlet surge provides the user with a fit for all surge protection needs this surge protector is good protection for all household appliances this surge protector comes with coax line protection power blocker auto shutdown pure protection and a\n",
      "\n",
      "Answer with 'True' or 'False'.\n",
      "__\n",
      "__\n",
      "False\n",
      "__\n",
      "__\n",
      "61\n"
     ]
    },
    {
     "name": "stderr",
     "output_type": "stream",
     "text": [
      "/var/folders/gx/tzjwcf8x1llbhhf36mjt7xqr0000gn/T/ipykernel_90230/2705043239.py:45: SettingWithCopyWarning: \n",
      "A value is trying to be set on a copy of a slice from a DataFrame\n",
      "\n",
      "See the caveats in the documentation: https://pandas.pydata.org/pandas-docs/stable/user_guide/indexing.html#returning-a-view-versus-a-copy\n",
      "  df[prompt_name][i] = isMatch\n"
     ]
    },
    {
     "name": "stdout",
     "output_type": "stream",
     "text": [
      "Are the following two products the same?\n",
      "Product 1: Title: pc treasures clickit classic mouse pink 07671\n",
      "Description: features five button mouse with scroll wheel for efficient scrolling and navigation within documents and web pages cpi button switches between 400 dpi 800 dpi and 1600dpi to provide ideal mouse responsiveness side buttons allow for one click back and\n",
      "Product 2: Title: pc treasures external dvd rw drive purple\n",
      "Description: pc treasures external dvd rw drive lg hitachi drive mechanism supports double layer dvd recording smart burn for optimum disc burning usb powered sleek design for mobility color purple\n",
      "\n",
      "Answer with 'True' or 'False'.\n",
      "__\n",
      "__\n",
      "False\n",
      "__\n",
      "__\n",
      "62\n"
     ]
    },
    {
     "name": "stderr",
     "output_type": "stream",
     "text": [
      "/var/folders/gx/tzjwcf8x1llbhhf36mjt7xqr0000gn/T/ipykernel_90230/2705043239.py:45: SettingWithCopyWarning: \n",
      "A value is trying to be set on a copy of a slice from a DataFrame\n",
      "\n",
      "See the caveats in the documentation: https://pandas.pydata.org/pandas-docs/stable/user_guide/indexing.html#returning-a-view-versus-a-copy\n",
      "  df[prompt_name][i] = isMatch\n"
     ]
    },
    {
     "name": "stdout",
     "output_type": "stream",
     "text": [
      "Are the following two products the same?\n",
      "Product 1: Title: pc treasures clickit classic mouse pink 07671\n",
      "Description: features five button mouse with scroll wheel for efficient scrolling and navigation within documents and web pages cpi button switches between 400 dpi 800 dpi and 1600dpi to provide ideal mouse responsiveness side buttons allow for one click back and\n",
      "Product 2: Title: pc treasures 15 6 laptop kit black\n",
      "Description: pc treasures 15 6 pocketpro case durable nylon double handles protects netbook from bumps and dings wireless mouse with 800 dpi precision 10m operation range plug and play 2 4ghz nano receiver 4 port usb hub data transfer rate 480mbps cooling stand f\n",
      "\n",
      "Answer with 'True' or 'False'.\n",
      "__\n",
      "__\n",
      "False\n",
      "__\n",
      "__\n",
      "63\n"
     ]
    },
    {
     "name": "stderr",
     "output_type": "stream",
     "text": [
      "/var/folders/gx/tzjwcf8x1llbhhf36mjt7xqr0000gn/T/ipykernel_90230/2705043239.py:45: SettingWithCopyWarning: \n",
      "A value is trying to be set on a copy of a slice from a DataFrame\n",
      "\n",
      "See the caveats in the documentation: https://pandas.pydata.org/pandas-docs/stable/user_guide/indexing.html#returning-a-view-versus-a-copy\n",
      "  df[prompt_name][i] = isMatch\n"
     ]
    },
    {
     "name": "stdout",
     "output_type": "stream",
     "text": [
      "Are the following two products the same?\n",
      "Product 1: Title: pc treasures clickit classic mouse pink 07671\n",
      "Description: features five button mouse with scroll wheel for efficient scrolling and navigation within documents and web pages cpi button switches between 400 dpi 800 dpi and 1600dpi to provide ideal mouse responsiveness side buttons allow for one click back and\n",
      "Product 2: Title: pc treasures retractable mighty mini mouse navy\n",
      "Description: pc treasures retractable mighty mini mouse 800dpi precision plug and play simplicity retractable cord power and usb connectivity color navy\n",
      "\n",
      "Answer with 'True' or 'False'.\n",
      "__\n",
      "__\n",
      "False\n",
      "__\n",
      "__\n",
      "64\n"
     ]
    },
    {
     "name": "stderr",
     "output_type": "stream",
     "text": [
      "/var/folders/gx/tzjwcf8x1llbhhf36mjt7xqr0000gn/T/ipykernel_90230/2705043239.py:45: SettingWithCopyWarning: \n",
      "A value is trying to be set on a copy of a slice from a DataFrame\n",
      "\n",
      "See the caveats in the documentation: https://pandas.pydata.org/pandas-docs/stable/user_guide/indexing.html#returning-a-view-versus-a-copy\n",
      "  df[prompt_name][i] = isMatch\n"
     ]
    },
    {
     "name": "stdout",
     "output_type": "stream",
     "text": [
      "Are the following two products the same?\n",
      "Product 1: Title: pc treasures clickit classic mouse pink 07671\n",
      "Description: features five button mouse with scroll wheel for efficient scrolling and navigation within documents and web pages cpi button switches between 400 dpi 800 dpi and 1600dpi to provide ideal mouse responsiveness side buttons allow for one click back and\n",
      "Product 2: Title: pc treasures external dvd rw drive pink\n",
      "Description: pc treasures external dvd rw drive lg hitachi drive mechanism supports double layer dvd recording smart burn for optimum disc burning usb powered sleek design for mobility color pink\n",
      "\n",
      "Answer with 'True' or 'False'.\n",
      "__\n",
      "__\n",
      "False\n",
      "__\n",
      "__\n",
      "65\n"
     ]
    },
    {
     "name": "stderr",
     "output_type": "stream",
     "text": [
      "/var/folders/gx/tzjwcf8x1llbhhf36mjt7xqr0000gn/T/ipykernel_90230/2705043239.py:45: SettingWithCopyWarning: \n",
      "A value is trying to be set on a copy of a slice from a DataFrame\n",
      "\n",
      "See the caveats in the documentation: https://pandas.pydata.org/pandas-docs/stable/user_guide/indexing.html#returning-a-view-versus-a-copy\n",
      "  df[prompt_name][i] = isMatch\n"
     ]
    },
    {
     "name": "stdout",
     "output_type": "stream",
     "text": [
      "Are the following two products the same?\n",
      "Product 1: Title: pc treasures clickit classic mouse pink 07671\n",
      "Description: features five button mouse with scroll wheel for efficient scrolling and navigation within documents and web pages cpi button switches between 400 dpi 800 dpi and 1600dpi to provide ideal mouse responsiveness side buttons allow for one click back and\n",
      "Product 2: Title: pc treasures 15 slipit laptop case purple\n",
      "Description: pc treasures 15 laptop double zippers for easy use 2 outside zippered pockets fits cords power supply and external drives durable nylon double handle internal pockets for memory cards jump drives etc elastic security straps color purple\n",
      "\n",
      "Answer with 'True' or 'False'.\n",
      "__\n",
      "__\n",
      "False\n",
      "__\n",
      "__\n",
      "66\n"
     ]
    },
    {
     "name": "stderr",
     "output_type": "stream",
     "text": [
      "/var/folders/gx/tzjwcf8x1llbhhf36mjt7xqr0000gn/T/ipykernel_90230/2705043239.py:45: SettingWithCopyWarning: \n",
      "A value is trying to be set on a copy of a slice from a DataFrame\n",
      "\n",
      "See the caveats in the documentation: https://pandas.pydata.org/pandas-docs/stable/user_guide/indexing.html#returning-a-view-versus-a-copy\n",
      "  df[prompt_name][i] = isMatch\n"
     ]
    },
    {
     "name": "stdout",
     "output_type": "stream",
     "text": [
      "Are the following two products the same?\n",
      "Product 1: Title: pc treasures clickit classic mouse pink 07671\n",
      "Description: features five button mouse with scroll wheel for efficient scrolling and navigation within documents and web pages cpi button switches between 400 dpi 800 dpi and 1600dpi to provide ideal mouse responsiveness side buttons allow for one click back and\n",
      "Product 2: Title: pc treasures wireless optical mouse 2 4ghz purple\n",
      "Description: pc treasures wireless optical mouse 2 4ghz r mini wireless mouse optical sensitivity 3 button manipulation scroll wheel includes nano usb receiver color purple\n",
      "\n",
      "Answer with 'True' or 'False'.\n",
      "__\n",
      "__\n",
      "False\n",
      "__\n",
      "__\n",
      "67\n"
     ]
    },
    {
     "name": "stderr",
     "output_type": "stream",
     "text": [
      "/var/folders/gx/tzjwcf8x1llbhhf36mjt7xqr0000gn/T/ipykernel_90230/2705043239.py:45: SettingWithCopyWarning: \n",
      "A value is trying to be set on a copy of a slice from a DataFrame\n",
      "\n",
      "See the caveats in the documentation: https://pandas.pydata.org/pandas-docs/stable/user_guide/indexing.html#returning-a-view-versus-a-copy\n",
      "  df[prompt_name][i] = isMatch\n"
     ]
    },
    {
     "name": "stdout",
     "output_type": "stream",
     "text": [
      "Are the following two products the same?\n",
      "Product 1: Title: pc treasures clickit classic mouse pink 07671\n",
      "Description: features five button mouse with scroll wheel for efficient scrolling and navigation within documents and web pages cpi button switches between 400 dpi 800 dpi and 1600dpi to provide ideal mouse responsiveness side buttons allow for one click back and\n",
      "Product 2: Title: pc treasures clickit classic mouse black\n",
      "Description: pc treasures clickit classic mouse 5 button mouse with scroll wheel range 30 plug and play nano receiver nano receiver stores inside mouse 2 x aaa batteries with sleep mode switches between 400 800 and 1600 dpi for responsiveness color black\n",
      "\n",
      "Answer with 'True' or 'False'.\n",
      "__\n",
      "__\n",
      "False\n",
      "__\n",
      "__\n",
      "68\n"
     ]
    },
    {
     "name": "stderr",
     "output_type": "stream",
     "text": [
      "/var/folders/gx/tzjwcf8x1llbhhf36mjt7xqr0000gn/T/ipykernel_90230/2705043239.py:45: SettingWithCopyWarning: \n",
      "A value is trying to be set on a copy of a slice from a DataFrame\n",
      "\n",
      "See the caveats in the documentation: https://pandas.pydata.org/pandas-docs/stable/user_guide/indexing.html#returning-a-view-versus-a-copy\n",
      "  df[prompt_name][i] = isMatch\n"
     ]
    },
    {
     "name": "stdout",
     "output_type": "stream",
     "text": [
      "Are the following two products the same?\n",
      "Product 1: Title: pc treasures clickit classic mouse pink 07671\n",
      "Description: features five button mouse with scroll wheel for efficient scrolling and navigation within documents and web pages cpi button switches between 400 dpi 800 dpi and 1600dpi to provide ideal mouse responsiveness side buttons allow for one click back and\n",
      "Product 2: Title: pc treasures slipit 17 3 neoprene laptop case titan\n",
      "Description: pc treasures slipit 17 3 laptops durable lycra exterior shell weather resistant case front pocket for accessories color titan\n",
      "\n",
      "Answer with 'True' or 'False'.\n",
      "__\n",
      "__\n",
      "False\n",
      "__\n",
      "__\n",
      "69\n"
     ]
    },
    {
     "name": "stderr",
     "output_type": "stream",
     "text": [
      "/var/folders/gx/tzjwcf8x1llbhhf36mjt7xqr0000gn/T/ipykernel_90230/2705043239.py:45: SettingWithCopyWarning: \n",
      "A value is trying to be set on a copy of a slice from a DataFrame\n",
      "\n",
      "See the caveats in the documentation: https://pandas.pydata.org/pandas-docs/stable/user_guide/indexing.html#returning-a-view-versus-a-copy\n",
      "  df[prompt_name][i] = isMatch\n"
     ]
    },
    {
     "name": "stdout",
     "output_type": "stream",
     "text": [
      "Are the following two products the same?\n",
      "Product 1: Title: philips srp4004 27 universal 4 in 1 remote control for tv vcr dvd sat with xxl and fluorescent glow buttons\n",
      "Description: experience a quick and easy setup with your philips universal remote control and its innovative simplesetup feature the ergonomic design and xl fluorescent glow buttons make it easy to use the remote even in the dark the remote works with more than 1\n",
      "Product 2: Title: universal remote kp 900wh ir rf wireless keypad remote with mounting bracket black\n",
      "Description: universal remote kp 900wh ir rf wireless keypad remote with mounting bracket controls up to 255 devices controls all home a v equipment backlit lcd screen dual use wireless keypad learning and macro capabilities can be installed in any room without t\n",
      "\n",
      "Answer with 'True' or 'False'.\n",
      "__\n",
      "__\n",
      "False\n",
      "__\n",
      "__\n",
      "70\n"
     ]
    },
    {
     "name": "stderr",
     "output_type": "stream",
     "text": [
      "/var/folders/gx/tzjwcf8x1llbhhf36mjt7xqr0000gn/T/ipykernel_90230/2705043239.py:45: SettingWithCopyWarning: \n",
      "A value is trying to be set on a copy of a slice from a DataFrame\n",
      "\n",
      "See the caveats in the documentation: https://pandas.pydata.org/pandas-docs/stable/user_guide/indexing.html#returning-a-view-versus-a-copy\n",
      "  df[prompt_name][i] = isMatch\n"
     ]
    },
    {
     "name": "stdout",
     "output_type": "stream",
     "text": [
      "Are the following two products the same?\n",
      "Product 1: Title: philips srp4004 27 universal 4 in 1 remote control for tv vcr dvd sat with xxl and fluorescent glow buttons\n",
      "Description: experience a quick and easy setup with your philips universal remote control and its innovative simplesetup feature the ergonomic design and xl fluorescent glow buttons make it easy to use the remote even in the dark the remote works with more than 1\n",
      "Product 2: Title: comprehensive 25 pin male connector with hood set of 25\n",
      "Description: ch1305these 25 pin male connectors with hood include the comprehensive lifetime warranty comprehensive offers a lifetime warranty on all products\n",
      "\n",
      "Answer with 'True' or 'False'.\n",
      "__\n",
      "__\n",
      "False\n",
      "__\n",
      "__\n",
      "71\n"
     ]
    },
    {
     "name": "stderr",
     "output_type": "stream",
     "text": [
      "/var/folders/gx/tzjwcf8x1llbhhf36mjt7xqr0000gn/T/ipykernel_90230/2705043239.py:45: SettingWithCopyWarning: \n",
      "A value is trying to be set on a copy of a slice from a DataFrame\n",
      "\n",
      "See the caveats in the documentation: https://pandas.pydata.org/pandas-docs/stable/user_guide/indexing.html#returning-a-view-versus-a-copy\n",
      "  df[prompt_name][i] = isMatch\n"
     ]
    },
    {
     "name": "stdout",
     "output_type": "stream",
     "text": [
      "Are the following two products the same?\n",
      "Product 1: Title: philips srp4004 27 universal 4 in 1 remote control for tv vcr dvd sat with xxl and fluorescent glow buttons\n",
      "Description: experience a quick and easy setup with your philips universal remote control and its innovative simplesetup feature the ergonomic design and xl fluorescent glow buttons make it easy to use the remote even in the dark the remote works with more than 1\n",
      "Product 2: Title: middle atlantic hdr 4 external fan option\n",
      "Description: df1758external 4 1 2 fan kit and vent blocker \n",
      "\n",
      "Answer with 'True' or 'False'.\n",
      "__\n",
      "__\n",
      "False\n",
      "__\n",
      "__\n",
      "72\n"
     ]
    },
    {
     "name": "stderr",
     "output_type": "stream",
     "text": [
      "/var/folders/gx/tzjwcf8x1llbhhf36mjt7xqr0000gn/T/ipykernel_90230/2705043239.py:45: SettingWithCopyWarning: \n",
      "A value is trying to be set on a copy of a slice from a DataFrame\n",
      "\n",
      "See the caveats in the documentation: https://pandas.pydata.org/pandas-docs/stable/user_guide/indexing.html#returning-a-view-versus-a-copy\n",
      "  df[prompt_name][i] = isMatch\n"
     ]
    },
    {
     "name": "stdout",
     "output_type": "stream",
     "text": [
      "Are the following two products the same?\n",
      "Product 1: Title: lg 32lk450 32 inch 1080p 60 hz lcd hdtv\n",
      "Description: if you ve been hearing about how amazing blu ray entertainment is or how much better your favorite shows would look in hd you ve heard right the thing is you need 1080p full hd to get the most out of both with the lk450 you can key technologies doubl\n",
      "Product 2: Title: lg 23 led tv monitor m2380d black\n",
      "Description: lg 23 diagonal led screen this anti glare monitor can be placed anywhere in the room 16 9 aspect ratio widescreen is perfect for viewing 2 documents side by side or for watching movies 1920 x 1080 resolution enjoy excellent image quality 16 7 million\n",
      "\n",
      "Answer with 'True' or 'False'.\n",
      "__\n",
      "__\n",
      "False\n",
      "__\n",
      "__\n",
      "73\n"
     ]
    },
    {
     "name": "stderr",
     "output_type": "stream",
     "text": [
      "/var/folders/gx/tzjwcf8x1llbhhf36mjt7xqr0000gn/T/ipykernel_90230/2705043239.py:45: SettingWithCopyWarning: \n",
      "A value is trying to be set on a copy of a slice from a DataFrame\n",
      "\n",
      "See the caveats in the documentation: https://pandas.pydata.org/pandas-docs/stable/user_guide/indexing.html#returning-a-view-versus-a-copy\n",
      "  df[prompt_name][i] = isMatch\n"
     ]
    },
    {
     "name": "stdout",
     "output_type": "stream",
     "text": [
      "Are the following two products the same?\n",
      "Product 1: Title: 30 amp stand alone mpr module\n",
      "Description: rlm30 l520 1 accommodates accepts nema l 520 20 amp twistlock plugs 30 amp stand alone mpr module accepts nema l 520 20 amp twistlock plugs remote 12v dc dry closure local switch control w status led \n",
      "Product 2: Title: middle atlantic hdr 4 external fan option\n",
      "Description: df1758external 4 1 2 fan kit and vent blocker \n",
      "\n",
      "Answer with 'True' or 'False'.\n",
      "__\n",
      "__\n",
      "False\n",
      "__\n",
      "__\n",
      "74\n"
     ]
    },
    {
     "name": "stderr",
     "output_type": "stream",
     "text": [
      "/var/folders/gx/tzjwcf8x1llbhhf36mjt7xqr0000gn/T/ipykernel_90230/2705043239.py:45: SettingWithCopyWarning: \n",
      "A value is trying to be set on a copy of a slice from a DataFrame\n",
      "\n",
      "See the caveats in the documentation: https://pandas.pydata.org/pandas-docs/stable/user_guide/indexing.html#returning-a-view-versus-a-copy\n",
      "  df[prompt_name][i] = isMatch\n"
     ]
    },
    {
     "name": "stdout",
     "output_type": "stream",
     "text": [
      "Are the following two products the same?\n",
      "Product 1: Title: accell ultrarun usb 3 0 type a to micro b superspeed long length cable\n",
      "Description: usb 3 0 superspeed cable type a micro b 6 meters the ultrarun superspeed usb 3 0 cables by accell feature a built in amplifier that enables the data to travel at superspeed signaling rates over a 6m cable the ultrarun active cables require no externa\n",
      "Product 2: Title: accell premium series 10 usb 3 0 a b cable\n",
      "Description: accell premium series 10 usb 3 0 a b cable superspeed 5gbps throughput supports optimized power efficiency backwards compatible with usb 2 0 cable length 10\n",
      "\n",
      "Answer with 'True' or 'False'.\n",
      "__\n",
      "__\n",
      "False\n",
      "__\n",
      "__\n",
      "75\n"
     ]
    },
    {
     "name": "stderr",
     "output_type": "stream",
     "text": [
      "/var/folders/gx/tzjwcf8x1llbhhf36mjt7xqr0000gn/T/ipykernel_90230/2705043239.py:45: SettingWithCopyWarning: \n",
      "A value is trying to be set on a copy of a slice from a DataFrame\n",
      "\n",
      "See the caveats in the documentation: https://pandas.pydata.org/pandas-docs/stable/user_guide/indexing.html#returning-a-view-versus-a-copy\n",
      "  df[prompt_name][i] = isMatch\n"
     ]
    },
    {
     "name": "stdout",
     "output_type": "stream",
     "text": [
      "Are the following two products the same?\n",
      "Product 1: Title: new premium series usb 2 0 a b cable u74529\n",
      "Description: 10ft premium usb 2 0 a b a b 10 ft data transfer speeds up to 480mbps double metal shielding for error free data transmission compatible with windows and mac compliant with usb 2 0 specifications and fully backwards compatible stingray boot design wi\n",
      "Product 2: Title: accell premium series 10 usb 3 0 a b cable\n",
      "Description: accell premium series 10 usb 3 0 a b cable superspeed 5gbps throughput supports optimized power efficiency backwards compatible with usb 2 0 cable length 10\n",
      "\n",
      "Answer with 'True' or 'False'.\n",
      "__\n",
      "__\n",
      "False\n",
      "__\n",
      "__\n",
      "76\n"
     ]
    },
    {
     "name": "stderr",
     "output_type": "stream",
     "text": [
      "/var/folders/gx/tzjwcf8x1llbhhf36mjt7xqr0000gn/T/ipykernel_90230/2705043239.py:45: SettingWithCopyWarning: \n",
      "A value is trying to be set on a copy of a slice from a DataFrame\n",
      "\n",
      "See the caveats in the documentation: https://pandas.pydata.org/pandas-docs/stable/user_guide/indexing.html#returning-a-view-versus-a-copy\n",
      "  df[prompt_name][i] = isMatch\n"
     ]
    },
    {
     "name": "stdout",
     "output_type": "stream",
     "text": [
      "Are the following two products the same?\n",
      "Product 1: Title: accell ultracam h121c 006b r standard hdmi cable with micro hdmi connector for digital camera or camcorder\n",
      "Description: design for your digital camera camcorders and mobile devices the accell ultracam high speed hdmi cable with ethernet is engineered to deliver the highest performance and quality manufactured to the latest hdmi high speed specifications this cable is \n",
      "Product 2: Title: accell premium series 10 usb 3 0 a b cable\n",
      "Description: accell premium series 10 usb 3 0 a b cable superspeed 5gbps throughput supports optimized power efficiency backwards compatible with usb 2 0 cable length 10\n",
      "\n",
      "Answer with 'True' or 'False'.\n",
      "__\n",
      "__\n",
      "False\n",
      "__\n",
      "__\n",
      "77\n"
     ]
    },
    {
     "name": "stderr",
     "output_type": "stream",
     "text": [
      "/var/folders/gx/tzjwcf8x1llbhhf36mjt7xqr0000gn/T/ipykernel_90230/2705043239.py:45: SettingWithCopyWarning: \n",
      "A value is trying to be set on a copy of a slice from a DataFrame\n",
      "\n",
      "See the caveats in the documentation: https://pandas.pydata.org/pandas-docs/stable/user_guide/indexing.html#returning-a-view-versus-a-copy\n",
      "  df[prompt_name][i] = isMatch\n"
     ]
    },
    {
     "name": "stdout",
     "output_type": "stream",
     "text": [
      "Are the following two products the same?\n",
      "Product 1: Title: urc r6 learning remote control\n",
      "Description: rc r6 universal remote affordable control of your home theater with your new home theater you re ready to enjoy the best hollywood has to offer but you don t enjoy having a pile of remotes on your coffee table fortunately universal remote control has\n",
      "Product 2: Title: level mount motorized full motion mount for flat screen tv s 10 42 screens\n",
      "Description: lvm1009 features black aluminum and steel for lcd or plasma tvs 10 42 up to 100lbs built in bubble level stud finder all hardware included pan 30 degrees tilt 15 degrees and extend 10 5 cord management system neatly gathers cords vesa 75 100 200 400 \n",
      "\n",
      "Answer with 'True' or 'False'.\n",
      "__\n",
      "__\n",
      "False\n",
      "__\n",
      "__\n",
      "78\n"
     ]
    },
    {
     "name": "stderr",
     "output_type": "stream",
     "text": [
      "/var/folders/gx/tzjwcf8x1llbhhf36mjt7xqr0000gn/T/ipykernel_90230/2705043239.py:45: SettingWithCopyWarning: \n",
      "A value is trying to be set on a copy of a slice from a DataFrame\n",
      "\n",
      "See the caveats in the documentation: https://pandas.pydata.org/pandas-docs/stable/user_guide/indexing.html#returning-a-view-versus-a-copy\n",
      "  df[prompt_name][i] = isMatch\n"
     ]
    },
    {
     "name": "stdout",
     "output_type": "stream",
     "text": [
      "Are the following two products the same?\n",
      "Product 1: Title: lens cleaning brush pen for camera lens viewfinder\n",
      "Description: siig lens cleaning brush pen ac cn0512 s1 cleaning kits\n",
      "Product 2: Title: level mount motorized full motion mount for flat screen tv s 10 42 screens\n",
      "Description: lvm1009 features black aluminum and steel for lcd or plasma tvs 10 42 up to 100lbs built in bubble level stud finder all hardware included pan 30 degrees tilt 15 degrees and extend 10 5 cord management system neatly gathers cords vesa 75 100 200 400 \n",
      "\n",
      "Answer with 'True' or 'False'.\n",
      "__\n",
      "__\n",
      "False\n",
      "__\n",
      "__\n",
      "79\n"
     ]
    },
    {
     "name": "stderr",
     "output_type": "stream",
     "text": [
      "/var/folders/gx/tzjwcf8x1llbhhf36mjt7xqr0000gn/T/ipykernel_90230/2705043239.py:45: SettingWithCopyWarning: \n",
      "A value is trying to be set on a copy of a slice from a DataFrame\n",
      "\n",
      "See the caveats in the documentation: https://pandas.pydata.org/pandas-docs/stable/user_guide/indexing.html#returning-a-view-versus-a-copy\n",
      "  df[prompt_name][i] = isMatch\n"
     ]
    }
   ],
   "source": [
    "evaluate(df_mapping, prompt,temp=0, start=0)\n"
   ]
  },
  {
   "cell_type": "code",
   "execution_count": null,
   "metadata": {},
   "outputs": [
    {
     "data": {
      "text/html": [
       "<div>\n",
       "<style scoped>\n",
       "    .dataframe tbody tr th:only-of-type {\n",
       "        vertical-align: middle;\n",
       "    }\n",
       "\n",
       "    .dataframe tbody tr th {\n",
       "        vertical-align: top;\n",
       "    }\n",
       "\n",
       "    .dataframe thead th {\n",
       "        text-align: right;\n",
       "    }\n",
       "</style>\n",
       "<table border=\"1\" class=\"dataframe\">\n",
       "  <thead>\n",
       "    <tr style=\"text-align: right;\">\n",
       "      <th></th>\n",
       "      <th>Unnamed: 0</th>\n",
       "      <th>id1</th>\n",
       "      <th>id2</th>\n",
       "      <th>label</th>\n",
       "      <th>prompt1_en_short_temp_0_gpt3.5-0301</th>\n",
       "      <th>match_prompt_manual_fewshot_1_eval2_temp_0_gpt3.5_0301</th>\n",
       "      <th>match_prompt_auto_fewshot_1_eval2_temp_0_gpt3.5_0301</th>\n",
       "      <th>match_prompt_auto_fewshot_2_ama_wal_eval2_temp_0_gpt3.5_0301</th>\n",
       "      <th>match_prompt_auto_fewshot_ama_wal_4examples_eval2_temp_0_gpt3.5_0301</th>\n",
       "    </tr>\n",
       "  </thead>\n",
       "  <tbody>\n",
       "    <tr>\n",
       "      <th>0</th>\n",
       "      <td>0</td>\n",
       "      <td>7784</td>\n",
       "      <td>23390</td>\n",
       "      <td>True</td>\n",
       "      <td>True</td>\n",
       "      <td>False</td>\n",
       "      <td>False</td>\n",
       "      <td>False</td>\n",
       "      <td>False</td>\n",
       "    </tr>\n",
       "    <tr>\n",
       "      <th>1</th>\n",
       "      <td>1</td>\n",
       "      <td>15123</td>\n",
       "      <td>23390</td>\n",
       "      <td>True</td>\n",
       "      <td>False</td>\n",
       "      <td>False</td>\n",
       "      <td>False</td>\n",
       "      <td>False</td>\n",
       "      <td>True</td>\n",
       "    </tr>\n",
       "    <tr>\n",
       "      <th>2</th>\n",
       "      <td>2</td>\n",
       "      <td>21113</td>\n",
       "      <td>23390</td>\n",
       "      <td>True</td>\n",
       "      <td>True</td>\n",
       "      <td>True</td>\n",
       "      <td>True</td>\n",
       "      <td>False</td>\n",
       "      <td>True</td>\n",
       "    </tr>\n",
       "    <tr>\n",
       "      <th>3</th>\n",
       "      <td>3</td>\n",
       "      <td>7384</td>\n",
       "      <td>22973</td>\n",
       "      <td>True</td>\n",
       "      <td>True</td>\n",
       "      <td>True</td>\n",
       "      <td>True</td>\n",
       "      <td>True</td>\n",
       "      <td>True</td>\n",
       "    </tr>\n",
       "    <tr>\n",
       "      <th>4</th>\n",
       "      <td>4</td>\n",
       "      <td>11344</td>\n",
       "      <td>22973</td>\n",
       "      <td>True</td>\n",
       "      <td>False</td>\n",
       "      <td>True</td>\n",
       "      <td>False</td>\n",
       "      <td>True</td>\n",
       "      <td>True</td>\n",
       "    </tr>\n",
       "    <tr>\n",
       "      <th>...</th>\n",
       "      <td>...</td>\n",
       "      <td>...</td>\n",
       "      <td>...</td>\n",
       "      <td>...</td>\n",
       "      <td>...</td>\n",
       "      <td>...</td>\n",
       "      <td>...</td>\n",
       "      <td>...</td>\n",
       "      <td>...</td>\n",
       "    </tr>\n",
       "    <tr>\n",
       "      <th>400</th>\n",
       "      <td>400</td>\n",
       "      <td>23912</td>\n",
       "      <td>9467</td>\n",
       "      <td>False</td>\n",
       "      <td>False</td>\n",
       "      <td>False</td>\n",
       "      <td>False</td>\n",
       "      <td>False</td>\n",
       "      <td>False</td>\n",
       "    </tr>\n",
       "    <tr>\n",
       "      <th>401</th>\n",
       "      <td>401</td>\n",
       "      <td>23912</td>\n",
       "      <td>9468</td>\n",
       "      <td>False</td>\n",
       "      <td>False</td>\n",
       "      <td>False</td>\n",
       "      <td>False</td>\n",
       "      <td>False</td>\n",
       "      <td>False</td>\n",
       "    </tr>\n",
       "    <tr>\n",
       "      <th>402</th>\n",
       "      <td>402</td>\n",
       "      <td>23912</td>\n",
       "      <td>9469</td>\n",
       "      <td>False</td>\n",
       "      <td>False</td>\n",
       "      <td>False</td>\n",
       "      <td>False</td>\n",
       "      <td>False</td>\n",
       "      <td>False</td>\n",
       "    </tr>\n",
       "    <tr>\n",
       "      <th>403</th>\n",
       "      <td>403</td>\n",
       "      <td>23912</td>\n",
       "      <td>9470</td>\n",
       "      <td>False</td>\n",
       "      <td>False</td>\n",
       "      <td>False</td>\n",
       "      <td>False</td>\n",
       "      <td>False</td>\n",
       "      <td>False</td>\n",
       "    </tr>\n",
       "    <tr>\n",
       "      <th>404</th>\n",
       "      <td>404</td>\n",
       "      <td>23912</td>\n",
       "      <td>9471</td>\n",
       "      <td>False</td>\n",
       "      <td>False</td>\n",
       "      <td>False</td>\n",
       "      <td>False</td>\n",
       "      <td>False</td>\n",
       "      <td>False</td>\n",
       "    </tr>\n",
       "  </tbody>\n",
       "</table>\n",
       "<p>405 rows × 9 columns</p>\n",
       "</div>"
      ],
      "text/plain": [
       "     Unnamed: 0    id1    id2  label prompt1_en_short_temp_0_gpt3.5-0301  \\\n",
       "0             0   7784  23390   True                                True   \n",
       "1             1  15123  23390   True                               False   \n",
       "2             2  21113  23390   True                                True   \n",
       "3             3   7384  22973   True                                True   \n",
       "4             4  11344  22973   True                               False   \n",
       "..          ...    ...    ...    ...                                 ...   \n",
       "400         400  23912   9467  False                               False   \n",
       "401         401  23912   9468  False                               False   \n",
       "402         402  23912   9469  False                               False   \n",
       "403         403  23912   9470  False                               False   \n",
       "404         404  23912   9471  False                               False   \n",
       "\n",
       "     match_prompt_manual_fewshot_1_eval2_temp_0_gpt3.5_0301  \\\n",
       "0                                                False        \n",
       "1                                                False        \n",
       "2                                                 True        \n",
       "3                                                 True        \n",
       "4                                                 True        \n",
       "..                                                 ...        \n",
       "400                                              False        \n",
       "401                                              False        \n",
       "402                                              False        \n",
       "403                                              False        \n",
       "404                                              False        \n",
       "\n",
       "     match_prompt_auto_fewshot_1_eval2_temp_0_gpt3.5_0301  \\\n",
       "0                                                False      \n",
       "1                                                False      \n",
       "2                                                 True      \n",
       "3                                                 True      \n",
       "4                                                False      \n",
       "..                                                 ...      \n",
       "400                                              False      \n",
       "401                                              False      \n",
       "402                                              False      \n",
       "403                                              False      \n",
       "404                                              False      \n",
       "\n",
       "     match_prompt_auto_fewshot_2_ama_wal_eval2_temp_0_gpt3.5_0301  \\\n",
       "0                                                False              \n",
       "1                                                False              \n",
       "2                                                False              \n",
       "3                                                 True              \n",
       "4                                                 True              \n",
       "..                                                 ...              \n",
       "400                                              False              \n",
       "401                                              False              \n",
       "402                                              False              \n",
       "403                                              False              \n",
       "404                                              False              \n",
       "\n",
       "     match_prompt_auto_fewshot_ama_wal_4examples_eval2_temp_0_gpt3.5_0301  \n",
       "0                                                False                     \n",
       "1                                                 True                     \n",
       "2                                                 True                     \n",
       "3                                                 True                     \n",
       "4                                                 True                     \n",
       "..                                                 ...                     \n",
       "400                                              False                     \n",
       "401                                              False                     \n",
       "402                                              False                     \n",
       "403                                              False                     \n",
       "404                                              False                     \n",
       "\n",
       "[405 rows x 9 columns]"
      ]
     },
     "execution_count": 14,
     "metadata": {},
     "output_type": "execute_result"
    }
   ],
   "source": [
    "df_mapping\n"
   ]
  },
  {
   "cell_type": "code",
   "execution_count": null,
   "metadata": {},
   "outputs": [],
   "source": [
    "# saved_prompts_df"
   ]
  },
  {
   "cell_type": "code",
   "execution_count": null,
   "metadata": {},
   "outputs": [],
   "source": [
    "# write df to csv\n",
    "df_mapping.to_csv(PRODUCT_MAPPING, index=False)\n",
    "saved_prompts_df.to_csv(SAVED_PROMPTS_PATH, index=False)\n"
   ]
  }
 ],
 "metadata": {
  "kernelspec": {
   "display_name": "Python 3",
   "language": "python",
   "name": "python3"
  },
  "language_info": {
   "codemirror_mode": {
    "name": "ipython",
    "version": 3
   },
   "file_extension": ".py",
   "mimetype": "text/x-python",
   "name": "python",
   "nbconvert_exporter": "python",
   "pygments_lexer": "ipython3",
   "version": "3.9.16"
  },
  "orig_nbformat": 4
 },
 "nbformat": 4,
 "nbformat_minor": 2
}
