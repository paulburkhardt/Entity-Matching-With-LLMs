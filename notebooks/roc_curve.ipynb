{
 "cells": [
  {
   "cell_type": "code",
   "execution_count": 49,
   "metadata": {},
   "outputs": [],
   "source": [
    "import pandas as pd\n",
    "import numpy as np\n",
    "from sklearn import metrics\n",
    "import matplotlib.pyplot as plt"
   ]
  },
  {
   "cell_type": "code",
   "execution_count": 50,
   "metadata": {},
   "outputs": [
    {
     "name": "stdout",
     "output_type": "stream",
     "text": [
      "[0.5  0.8  0.9  0.9  0.9  0.8  0.9  0.8  0.8  0.95 0.9  0.7  1.   0.9\n",
      " 0.9  1.   0.8  0.85 0.7  0.8  1.   0.95 0.8  0.9  0.9  0.2  0.4  0.7\n",
      " 0.5  0.7  0.   0.4  0.8  0.8  0.7  0.4  0.4  0.   0.5  0.5  0.7  0.5\n",
      " 0.3  0.8  0.5  0.5  0.   0.7  0.4  0.7  0.8  0.7  0.5  0.5  0.5  0.8\n",
      " 0.7  0.8  0.7  0.5  0.8  0.7  1.   0.5  0.7  0.8  0.7  0.4  0.2  0.5\n",
      " 0.7  0.5  0.5  0.8  0.5  0.5  0.8  0.5  0.5  0.3  0.8  0.8  0.7  0.9\n",
      " 0.7  0.8  0.8  0.7  0.85 0.7  0.8  0.7  0.7  0.5  0.7  0.7  0.9  0.5\n",
      " 0.8  0.7  0.5  0.4  0.9  0.7  0.8  0.8  0.   0.   0.4  0.5  0.5  0.7\n",
      " 0.7  0.5  0.95 0.5  0.85 0.7  0.3  0.5  0.5  0.4  0.   0.7  1.   0.5\n",
      " 0.5  1.   0.8  0.7  0.9  0.5  0.5  0.7  0.2  0.5  0.7  0.5  0.7  0.8\n",
      " 0.5  0.4  0.5  0.8  0.7  0.8  0.5  0.8  0.5  0.5  0.5  0.5  0.5  0.7\n",
      " 0.95 0.5  0.8  0.95 0.7  0.5  0.8  0.5  0.7  0.5  0.7  0.7  0.4  0.8\n",
      " 0.7  0.5  0.5  0.5  0.5  0.8  0.7  0.5  0.7  0.2  0.   0.5  0.7  0.8\n",
      " 0.7  0.7  0.7  0.8  0.5  0.8  0.7  0.5  0.7  0.4  0.7  0.5  1.   0.8\n",
      " 0.8  0.8  0.7  0.7  0.5  0.7  0.8  0.7  0.7  0.9  0.5  0.5  0.   0.7\n",
      " 0.5  0.5  0.   0.5  0.7  0.5  0.5  0.  ]\n",
      "[1 1 1 1 1 1 1 1 1 1 1 1 1 1 1 1 1 1 1 1 1 1 1 1 1 0 0 0 0 0 0 0 0 0 0 0 0\n",
      " 0 0 0 0 0 0 0 0 0 0 0 0 0 0 0 0 0 0 0 0 0 0 0 0 0 0 0 0 0 0 0 0 0 0 0 0 0\n",
      " 0 0 0 0 0 0 0 0 0 0 0 0 0 0 0 0 0 0 0 0 0 0 0 0 0 0 0 0 0 0 0 0 0 0 0 0 0\n",
      " 0 0 0 0 0 0 0 0 0 0 0 0 0 0 0 0 0 0 0 0 0 0 0 0 0 0 0 0 0 0 0 0 0 0 0 0 0\n",
      " 0 0 0 0 0 0 0 0 0 0 0 0 0 0 0 0 0 0 0 0 0 0 0 0 0 0 0 0 0 0 0 0 0 0 0 0 0\n",
      " 0 0 0 0 0 0 0 0 0 0 0 0 0 0 0 0 0 0 0 0 0 0 0 0 0 0 0 0 0 0 0 0 0]\n"
     ]
    }
   ],
   "source": [
    "# df = pd.read_csv(\"../datasets/error_analysis/auto_gpt3_gpt3_50_50_generations_merged.csv\")\n",
    "df = pd.read_csv(\"../datasets/error_analysis/baseline_zero_shot_gpt3_50_50_merged.csv\")\n",
    "# df = pd.read_csv(\"../datasets/error_analysis/zero_shot_cot_50_50_merged.csv\")\n",
    "\n",
    "\n",
    "\n",
    "df.dropna(subset=['label', 'confidence'], inplace=True)\n",
    "\n",
    "\n",
    "# drop all rows with no % in confidence or similarity column\n",
    "df = df[df['confidence'].str.contains('%')]\n",
    "df = df[df['similarity'].str.contains('%')]\n",
    "\n",
    "\n",
    "confidences = df['confidence'].to_numpy()\n",
    "\n",
    "similarities = df['similarity'].to_numpy()\n",
    "\n",
    "\n",
    "\n",
    "# turn from % string into decimal\n",
    "def convert_percentage(percentage):\n",
    "    if isinstance(percentage, str):\n",
    "        return float(percentage[:percentage.find(\"%\")]) / 100\n",
    "    elif isinstance(percentage, float):\n",
    "        return percentage  # It's already a float, no conversion needed\n",
    "    else:\n",
    "        raise ValueError(\"Unexpected data type in 'confidence' column\")\n",
    "\n",
    "# Apply the conversion function to each value in the 'confidence' column\n",
    "confidences = np.array([convert_percentage(confidence) for confidence in confidences])\n",
    "\n",
    "similarities = np.array([convert_percentage(similarity) for similarity in similarities])\n",
    "\n",
    "print(confidences)\n",
    "\n",
    "labels = df['label'].to_numpy()\n",
    "\n",
    "# if True turn to 1 else 0\n",
    "labels = np.where(labels == True, 1, 0)\n",
    "\n",
    "print(labels)"
   ]
  },
  {
   "cell_type": "code",
   "execution_count": 51,
   "metadata": {},
   "outputs": [
    {
     "data": {
      "image/png": "[encoded data removed]",
      "text/plain": [
       "<Figure size 640x480 with 1 Axes>"
      ]
     },
     "metadata": {},
     "output_type": "display_data"
    }
   ],
   "source": [
    "\n",
    "fpr, tpr, _ = metrics.roc_curve(labels,  similarities)\n",
    "\n",
    "#create ROC curve\n",
    "plt.plot(fpr,tpr)\n",
    "plt.ylabel('True Positive Rate')\n",
    "plt.xlabel('False Positive Rate')\n",
    "plt.show()\n"
   ]
  }
 ],
 "metadata": {
  "kernelspec": {
   "display_name": ".venv",
   "language": "python",
   "name": "python3"
  },
  "language_info": {
   "codemirror_mode": {
    "name": "ipython",
    "version": 3
   },
   "file_extension": ".py",
   "mimetype": "text/x-python",
   "name": "python",
   "nbconvert_exporter": "python",
   "pygments_lexer": "ipython3",
   "version": "3.9.16"
  }
 },
 "nbformat": 4,
 "nbformat_minor": 2
}
