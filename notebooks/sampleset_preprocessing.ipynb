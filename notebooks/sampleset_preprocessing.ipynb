{
 "cells": [
  {
   "cell_type": "code",
   "execution_count": 2,
   "metadata": {},
   "outputs": [],
   "source": [
    "import pandas as pd"
   ]
  },
  {
   "cell_type": "code",
   "execution_count": 38,
   "metadata": {},
   "outputs": [
    {
     "data": {
      "text/plain": [
       "35"
      ]
     },
     "execution_count": 38,
     "metadata": {},
     "output_type": "execute_result"
    }
   ],
   "source": [
    "DATASET_PATH = \"../datasets/error_analysis/zero_shot_cot_50_50_merged.csv\"\n",
    "\n",
    "df = pd.read_csv(DATASET_PATH)\n",
    "\n",
    "# create new df with only the entries of df that have FN or FP as error and 15 random entries of the df where the error is NONE\n",
    "df_sampled = df[(df[\"error\"] == \"FN\") | (df[\"error\"] == \"FP\") | ((df[\"error\"] == \"NONE\").sample(n=16, random_state=1))]\n",
    "\n",
    "\n",
    "len(df_sampled)"
   ]
  },
  {
   "cell_type": "code",
   "execution_count": 39,
   "metadata": {},
   "outputs": [],
   "source": [
    "df_sampled.to_csv(DATASET_PATH.removesuffix(\"merged.csv\").replace(\"error_analysis\", \"error_analysis/sampled\") + \"sampled.csv\", index=False)"
   ]
  }
 ],
 "metadata": {
  "kernelspec": {
   "display_name": ".venv",
   "language": "python",
   "name": "python3"
  },
  "language_info": {
   "codemirror_mode": {
    "name": "ipython",
    "version": 3
   },
   "file_extension": ".py",
   "mimetype": "text/x-python",
   "name": "python",
   "nbconvert_exporter": "python",
   "pygments_lexer": "ipython3",
   "version": "3.9.16"
  }
 },
 "nbformat": 4,
 "nbformat_minor": 2
}
