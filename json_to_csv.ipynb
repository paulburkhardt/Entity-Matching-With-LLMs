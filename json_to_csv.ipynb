{
 "cells": [
  {
   "cell_type": "code",
   "execution_count": 2,
   "metadata": {},
   "outputs": [],
   "source": [
    "import json\n",
    "import csv\n",
    "\n",
    "# Open the JSON file for reading\n",
    "f = open('datasets/wdcproducts50cc50rnd000un_train_small.json', 'r')\n",
    "\n",
    "# Load the JSON file into a variable called data\n",
    "data = json.loads(f.read())\n"
   ]
  },
  {
   "cell_type": "code",
   "execution_count": 3,
   "metadata": {},
   "outputs": [],
   "source": [
    "import csv\n",
    "with open('output.csv', 'w', newline='') as csvfile:\n",
    "    fieldnames = data[0].keys()\n",
    "    writer = csv.DictWriter(csvfile, fieldnames=fieldnames)\n",
    "\n",
    "    # Write the header row\n",
    "    writer.writeheader()\n",
    "\n",
    "    # Write the data rows\n",
    "    for item in data:\n",
    "        writer.writerow(item)\n"
   ]
  },
  {
   "cell_type": "code",
   "execution_count": 6,
   "metadata": {},
   "outputs": [],
   "source": [
    "# open output.csv and convert all entries in the column \"Label\" to True (if value is 1) or False (if value is 0)\n",
    "# Path: csv_to_json.ipynb\n",
    "import pandas as pd\n",
    "import numpy as np\n",
    "import json\n",
    "\n",
    "df = pd.read_csv('output.csv')\n",
    "df['Label'] = np.where(df['label'] == 1, True, False)\n",
    "df.to_csv('output.csv', index=True)\n",
    "\n"
   ]
  }
 ],
 "metadata": {
  "kernelspec": {
   "display_name": ".venv",
   "language": "python",
   "name": "python3"
  },
  "language_info": {
   "codemirror_mode": {
    "name": "ipython",
    "version": 3
   },
   "file_extension": ".py",
   "mimetype": "text/x-python",
   "name": "python",
   "nbconvert_exporter": "python",
   "pygments_lexer": "ipython3",
   "version": "3.9.16"
  },
  "orig_nbformat": 4
 },
 "nbformat": 4,
 "nbformat_minor": 2
}
